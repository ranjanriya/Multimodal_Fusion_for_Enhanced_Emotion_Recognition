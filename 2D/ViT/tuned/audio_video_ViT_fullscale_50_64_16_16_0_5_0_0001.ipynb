{
 "cells": [
  {
   "cell_type": "code",
   "execution_count": 1,
   "metadata": {
    "colab": {
     "base_uri": "https://localhost:8080/"
    },
    "id": "IY4PsvJq4oPl",
    "outputId": "f49e317c-36fe-42dd-c55a-92188c4344c3"
   },
   "outputs": [],
   "source": [
    "# from google.colab import drive\n",
    "# drive.mount('/content/drive')"
   ]
  },
  {
   "cell_type": "code",
   "execution_count": 2,
   "metadata": {
    "colab": {
     "base_uri": "https://localhost:8080/"
    },
    "id": "fos4gtTU4qM5",
    "outputId": "f9b8f8e5-f434-4ab9-ca82-49c5dfd45c60"
   },
   "outputs": [],
   "source": [
    "# !python3 -m pip install einops\n",
    "# !python3 -m pip install facenet-pytorch\n",
    "# !python3 -m pip install face_alignment\n",
    "# !python3 -m pip install self_attention_cv"
   ]
  },
  {
   "cell_type": "code",
   "execution_count": 3,
   "metadata": {},
   "outputs": [],
   "source": [
    "# import zipfile\n",
    "# with zipfile.ZipFile(\"Videos7439.zip\",\"r\") as zip_ref:\n",
    "#     zip_ref.extractall(\"\")"
   ]
  },
  {
   "cell_type": "code",
   "execution_count": 4,
   "metadata": {},
   "outputs": [
    {
     "name": "stdout",
     "output_type": "stream",
     "text": [
      "7439\n"
     ]
    }
   ],
   "source": [
    "!ls 'Videos7439' | wc -l"
   ]
  },
  {
   "cell_type": "code",
   "execution_count": 5,
   "metadata": {},
   "outputs": [],
   "source": [
    "# import zipfile\n",
    "# with zipfile.ZipFile(\"Spectrograms7439\",\"r\") as zip_ref:\n",
    "#     zip_ref.extractall(\"\")"
   ]
  },
  {
   "cell_type": "code",
   "execution_count": 6,
   "metadata": {},
   "outputs": [
    {
     "name": "stdout",
     "output_type": "stream",
     "text": [
      "7439\n"
     ]
    }
   ],
   "source": [
    "!ls 'Spectrograms7439' | wc -l"
   ]
  },
  {
   "cell_type": "code",
   "execution_count": 7,
   "metadata": {},
   "outputs": [],
   "source": [
    "videos_folder = 'Videos7439'\n",
    "spectrograms_folder = 'Spectrograms7439'"
   ]
  },
  {
   "cell_type": "code",
   "execution_count": 8,
   "metadata": {
    "id": "0UY1RHcZ4YNw"
   },
   "outputs": [
    {
     "name": "stderr",
     "output_type": "stream",
     "text": [
      "/home1/riyaranj/.local/lib/python3.12/site-packages/tqdm/auto.py:21: TqdmWarning: IProgress not found. Please update jupyter and ipywidgets. See https://ipywidgets.readthedocs.io/en/stable/user_install.html\n",
      "  from .autonotebook import tqdm as notebook_tqdm\n"
     ]
    }
   ],
   "source": [
    "import cv2\n",
    "import os\n",
    "import sys\n",
    "import torch\n",
    "import torch.nn as nn\n",
    "import torch.optim as optim\n",
    "import torchvision.transforms as transforms\n",
    "from torchvision import models\n",
    "from PIL import Image\n",
    "from einops.layers.torch import Rearrange\n",
    "from einops import rearrange\n",
    "from facenet_pytorch import MTCNN\n",
    "from self_attention_cv import TransformerEncoder\n",
    "from sklearn.model_selection import train_test_split\n",
    "import numpy as np\n",
    "from tqdm import tqdm\n",
    "import face_alignment\n",
    "#import dlib\n",
    "import requests"
   ]
  },
  {
   "cell_type": "code",
   "execution_count": 9,
   "metadata": {
    "id": "NiWEWAOF6b-S"
   },
   "outputs": [],
   "source": [
    "def extract_frame(video_path):\n",
    "    cap = cv2.VideoCapture(video_path)\n",
    "    frame_count = int(cap.get(cv2.CAP_PROP_FRAME_COUNT))\n",
    "    fps = cap.get(cv2.CAP_PROP_FPS)\n",
    "    mid_frame_index = frame_count // 2  # Index of the frame in the middle of the video\n",
    "    cap.set(cv2.CAP_PROP_POS_FRAMES, mid_frame_index)\n",
    "    ret, frame = cap.read()\n",
    "    if ret:\n",
    "        cap.release()\n",
    "        return frame\n",
    "    else:\n",
    "        cap.release()\n",
    "        return None"
   ]
  },
  {
   "cell_type": "code",
   "execution_count": 10,
   "metadata": {
    "id": "l37ccKkO6cvt"
   },
   "outputs": [],
   "source": [
    "def detect_face(frame):\n",
    "    mtcnn = MTCNN()\n",
    "    boxes, _ = mtcnn.detect(frame)\n",
    "    if boxes is not None:\n",
    "        # Assuming only one face in the frame\n",
    "        box = boxes[0]\n",
    "        x1, y1, x2, y2 = box\n",
    "        # Crop the frame to the detected face\n",
    "        cropped_frame = frame[int(y1):int(y2), int(x1):int(x2)]\n",
    "        return cropped_frame\n",
    "    else:\n",
    "        return None"
   ]
  },
  {
   "cell_type": "code",
   "execution_count": 11,
   "metadata": {
    "id": "GUr4HOzW6fmC"
   },
   "outputs": [],
   "source": [
    "# Function to download the pretrained face alignment model if it doesn't exist\n",
    "def download_face_alignment_model(url, save_path):\n",
    "    if not os.path.exists(save_path):\n",
    "        print(\"Downloading pretrained face alignment model...\")\n",
    "        response = requests.get(url)\n",
    "        with open(save_path, 'wb') as f:\n",
    "            f.write(response.content)\n",
    "        print(\"Download complete.\")\n",
    "\n",
    "# Specify the URL of the pretrained face alignment model\n",
    "face_alignment_model_url = \"https://github.com/1adrianb/face-alignment-models/releases/download/2.0.1/2DFAN4-11f355bf06.pth.tar\"\n",
    "\n",
    "# Download the pretrained face alignment model if it doesn't exist\n",
    "face_alignment_model_path = os.path.abspath(\"2DFAN4-11f355bf06.pth.tar\")\n",
    "download_face_alignment_model(face_alignment_model_url, face_alignment_model_path)\n",
    "\n",
    "# Initialize face alignment model\n",
    "fa = face_alignment.FaceAlignment(2, flip_input=False)  # 2 corresponds to 2D landmarks\n",
    "\n",
    "def align_face(frame):\n",
    "    # Perform face alignment\n",
    "    aligned_faces = fa.get_landmarks(frame)\n",
    "    if aligned_faces is not None:\n",
    "        aligned_face = aligned_faces[0]  # Assuming only one face in the frame\n",
    "        return aligned_face\n",
    "    else:\n",
    "        return None\n"
   ]
  },
  {
   "cell_type": "code",
   "execution_count": 12,
   "metadata": {
    "id": "wYOMbbU975Fm"
   },
   "outputs": [],
   "source": [
    "\n",
    "# Define the preprocessing functions for video frames and spectrograms\n",
    "def preprocess_image(frame):\n",
    "    frame_pil = Image.fromarray(frame.astype('uint8'))\n",
    "    frame_pil = frame_pil.convert('L')  # Convert to grayscale\n",
    "    transform = transforms.Compose([\n",
    "        transforms.Resize((224, 224)),\n",
    "        transforms.ToTensor(),\n",
    "        transforms.Normalize(mean=[0.485], std=[0.229]),  # Normalize using ImageNet mean and std\n",
    "    ])\n",
    "    frame_tensor = transform(frame_pil)\n",
    "    return frame_tensor"
   ]
  },
  {
   "cell_type": "code",
   "execution_count": 13,
   "metadata": {
    "id": "BkbbyV3a-Bax"
   },
   "outputs": [],
   "source": [
    "def preprocess_spectrogram(image_path):\n",
    "    img = Image.open(image_path).convert('L')  # Convert to grayscale\n",
    "    transform = transforms.Compose([\n",
    "        transforms.Resize((224, 224)),  # Resize to match ViT input size\n",
    "        transforms.ToTensor(),           # Convert to tensor\n",
    "    ])\n",
    "    img_tensor = transform(img)\n",
    "    return img_tensor"
   ]
  },
  {
   "cell_type": "code",
   "execution_count": 14,
   "metadata": {
    "id": "TIqOKFzr6j0V"
   },
   "outputs": [],
   "source": [
    "def load_spectrogram_dataset(spectrograms_folder, skipped_files):\n",
    "    X = []\n",
    "    y = []\n",
    "    # List all files in the input folder\n",
    "    files = sorted(os.listdir(spectrograms_folder))\n",
    "    # Iterate over files in the folder\n",
    "    for filename in tqdm(files):\n",
    "        if filename.endswith(\".png\") and filename[:-3] not in skipped_files:  # Assuming mel spectrograms are stored as PNG files\n",
    "            input_path = os.path.join(spectrograms_folder, filename)\n",
    "            img_tensor = preprocess_spectrogram(input_path)\n",
    "            X.append(img_tensor)\n",
    "            # Extract label from filename (assuming filename is in format \"abc_IEO_label_xyz.png\")\n",
    "            label = filename.split(\"_\")[2]\n",
    "            if label == \"HAP\":\n",
    "                y.append(0)\n",
    "            elif label == \"SAD\":\n",
    "                y.append(1)\n",
    "            elif label == \"ANG\":\n",
    "                y.append(2)\n",
    "            elif label == \"DIS\":\n",
    "                y.append(3)\n",
    "            elif label == \"FEA\":\n",
    "                y.append(4)\n",
    "            elif label == \"NEU\":\n",
    "                y.append(5)\n",
    "    return X, y"
   ]
  },
  {
   "cell_type": "code",
   "execution_count": 15,
   "metadata": {
    "id": "n4Xum7nf6lfg"
   },
   "outputs": [],
   "source": [
    "def load_dataset(videos_folder):\n",
    "    X = []\n",
    "    y = []\n",
    "    skipped_files = []\n",
    "    video_files = [file for file in sorted(os.listdir(videos_folder)) if file.endswith(\".flv\")]\n",
    "    for video_file in tqdm(video_files):\n",
    "        video_path = os.path.join(videos_folder, video_file)\n",
    "        frame = extract_frame(video_path)\n",
    "        if frame is not None:\n",
    "            cropped_face = detect_face(frame)\n",
    "            if cropped_face is not None:\n",
    "                preprocessed_face = preprocess_image(cropped_face)\n",
    "                X.append(preprocessed_face)\n",
    "                label = video_file.split(\"_\")[2].split(\".\")[0]  # Adjusted to handle different file extensions\n",
    "                if label == \"HAP\":\n",
    "                    y.append(0)\n",
    "                elif label == \"SAD\":\n",
    "                    y.append(1)\n",
    "                elif label == \"ANG\":\n",
    "                    y.append(2)\n",
    "                elif label == \"DIS\":\n",
    "                    y.append(3)\n",
    "                elif label == \"FEA\":\n",
    "                    y.append(4)\n",
    "                elif label == \"NEU\":\n",
    "                    y.append(5)\n",
    "            else:\n",
    "                print(f\"No face detected in {video_file}. Skipping.\")\n",
    "                skipped_files.append(video_file[:-3])\n",
    "        else:\n",
    "            print(f\"Failed to extract frame from {video_file}. Skipping.\")\n",
    "            skipped_files.append(video_file[:-3])\n",
    "    return X, y, skipped_files"
   ]
  },
  {
   "cell_type": "code",
   "execution_count": 16,
   "metadata": {
    "id": "q8gd6HoS--Rj"
   },
   "outputs": [],
   "source": [
    "# Define the ConcatDataset class to concatenate video frame and spectrogram tensors\n",
    "class ConcatDataset(torch.utils.data.Dataset):\n",
    "    def __init__(self, X1, X2, y, modality='multimodal', presaved=False):\n",
    "        self.X1 = X1\n",
    "        self.X2 = X2\n",
    "        self.y = y\n",
    "        self.modality = modality\n",
    "        self.presaved = presaved\n",
    "    def __len__(self):\n",
    "        if self.modality == 'audio':\n",
    "          return len(self.X2)\n",
    "        if self.modality == 'visual':\n",
    "          return len(self.X1)\n",
    "        return len(self.y)\n",
    "\n",
    "    def __getitem__(self, idx):\n",
    "        if not self.presaved:\n",
    "          img1 = self.X1[idx]\n",
    "          img2 = self.X2[idx]\n",
    "          label = self.y[idx]\n",
    "        else:\n",
    "          img1 = torch.from_numpy(self.X1[idx]).float()  # Convert numpy array to torch tensor\n",
    "          img2 = torch.from_numpy(self.X2[idx]).float()  # Convert numpy array to torch tensor\n",
    "          label = torch.tensor(self.y[idx])  # Convert numpy array to torch tensor\n",
    "\n",
    "        concatenated_img = torch.cat((img1, img2), dim=0)  # Concatenate along 0 dimension\n",
    "        if self.modality == 'visual':\n",
    "          return img1, label\n",
    "        if self.modality == 'audio':\n",
    "          return img2, label\n",
    "        return concatenated_img, label # concatenate modalities"
   ]
  },
  {
   "cell_type": "code",
   "execution_count": 17,
   "metadata": {
    "id": "3TBMdqtI6oZ0"
   },
   "outputs": [],
   "source": [
    "def train_model(model, criterion, optimizer, train_loader, device):\n",
    "    model.train()\n",
    "    running_loss = 0.0\n",
    "    correct_preds = 0\n",
    "    total_preds = 0\n",
    "    for inputs, labels in tqdm(train_loader):\n",
    "        inputs, labels = inputs.to(device), labels.to(device)\n",
    "        optimizer.zero_grad()\n",
    "        outputs = model(inputs)\n",
    "        loss = criterion(outputs, labels)\n",
    "        loss.backward()\n",
    "        optimizer.step()\n",
    "        running_loss += loss.item() * inputs.size(0)\n",
    "        _, predicted = torch.max(outputs, 1)\n",
    "        correct_preds += (predicted == labels).sum().item()\n",
    "        total_preds += labels.size(0)\n",
    "\n",
    "    epoch_loss = running_loss / len(train_loader.dataset)\n",
    "    accuracy = correct_preds / total_preds\n",
    "    return epoch_loss, accuracy"
   ]
  },
  {
   "cell_type": "code",
   "execution_count": 18,
   "metadata": {
    "id": "aq6skVDB6p6M"
   },
   "outputs": [],
   "source": [
    "def test_model(model, criterion, test_loader, device):\n",
    "    model.eval()\n",
    "    running_loss = 0.0\n",
    "    correct_preds = 0\n",
    "    total_preds = 0\n",
    "    with torch.no_grad():\n",
    "        for inputs, labels in tqdm(test_loader):\n",
    "            inputs, labels = inputs.to(device), labels.to(device)\n",
    "            outputs = model(inputs)\n",
    "            loss = criterion(outputs, labels)\n",
    "            running_loss += loss.item() * inputs.size(0)\n",
    "            _, predicted = torch.max(outputs, 1)\n",
    "            correct_preds += (predicted == labels).sum().item()\n",
    "            total_preds += labels.size(0)\n",
    "    epoch_loss = running_loss / len(test_loader.dataset)\n",
    "    accuracy = correct_preds / total_preds\n",
    "    return epoch_loss, accuracy"
   ]
  },
  {
   "cell_type": "code",
   "execution_count": 19,
   "metadata": {
    "id": "mhjpuUMgo3KU"
   },
   "outputs": [],
   "source": [
    "class ViT(nn.Module):\n",
    "    # ViT architecture adapted from here - https://theaisummer.com/vision-transformer/\n",
    "    def __init__(self, *,\n",
    "                 img_dim,\n",
    "                 in_channels=3,\n",
    "                 patch_dim=16,\n",
    "                 num_classes=6, # full-scale CREMA-D\n",
    "                 dim=512,\n",
    "                 blocks=6,\n",
    "                 heads=4,\n",
    "                 dim_linear_block=1024,\n",
    "                 dim_head=None,\n",
    "                 dropout=0, transformer=None, classification=True):\n",
    "        \"\"\"\n",
    "        Args:\n",
    "            img_dim: the spatial image size\n",
    "            in_channels: number of img channels\n",
    "            patch_dim: desired patch dim\n",
    "            num_classes: classification task classes\n",
    "            dim: the linear layer's dim to project the patches for MHSA\n",
    "            blocks: number of transformer blocks\n",
    "            heads: number of heads\n",
    "            dim_linear_block: inner dim of the transformer linear block\n",
    "            dim_head: dim head in case you want to define it. defaults to dim/heads\n",
    "            dropout: for pos emb and transformer\n",
    "            transformer: in case you want to provide another transformer implementation\n",
    "            classification: creates an extra CLS token\n",
    "        \"\"\"\n",
    "        super().__init__()\n",
    "        assert img_dim % patch_dim == 0, f'patch size {patch_dim} not divisible'\n",
    "        self.p = patch_dim\n",
    "        self.classification = classification\n",
    "        tokens = (img_dim // patch_dim) ** 2\n",
    "        self.token_dim = in_channels * (patch_dim ** 2)\n",
    "        self.dim = dim\n",
    "        self.dim_head = (int(dim / heads)) if dim_head is None else dim_head\n",
    "        self.project_patches = nn.Linear(self.token_dim, dim)\n",
    "\n",
    "        self.emb_dropout = nn.Dropout(dropout)\n",
    "        if self.classification:\n",
    "            self.cls_token = nn.Parameter(torch.randn(1, 1, dim))\n",
    "            self.pos_emb1D = nn.Parameter(torch.randn(tokens + 1, dim))\n",
    "            self.mlp_head = nn.Linear(dim, num_classes)\n",
    "        else:\n",
    "            self.pos_emb1D = nn.Parameter(torch.randn(tokens, dim))\n",
    "\n",
    "        if transformer is None:\n",
    "            self.transformer = TransformerEncoder(dim, blocks=blocks, heads=heads,\n",
    "                                                  dim_head=self.dim_head,\n",
    "                                                  dim_linear_block=dim_linear_block,\n",
    "                                                  dropout=dropout)\n",
    "        else:\n",
    "            self.transformer = transformer\n",
    "\n",
    "    def expand_cls_to_batch(self, batch):\n",
    "        \"\"\"\n",
    "        Args:\n",
    "            batch: batch size\n",
    "        Returns: cls token expanded to the batch size\n",
    "        \"\"\"\n",
    "        return self.cls_token.expand([batch, -1, -1])\n",
    "\n",
    "    def forward(self, img, mask=None):\n",
    "        batch_size = img.shape[0]\n",
    "        img_patches = rearrange(\n",
    "            img, 'b c (patch_x x) (patch_y y) -> b (x y) (patch_x patch_y c)',\n",
    "                                patch_x=self.p, patch_y=self.p)\n",
    "        # project patches with linear layer + add pos emb\n",
    "        img_patches = self.project_patches(img_patches)\n",
    "\n",
    "        if self.classification:\n",
    "            img_patches = torch.cat(\n",
    "                (self.expand_cls_to_batch(batch_size), img_patches), dim=1)\n",
    "\n",
    "        patch_embeddings = self.emb_dropout(img_patches + self.pos_emb1D)\n",
    "\n",
    "        # feed patch_embeddings and output of transformer. shape: [batch, tokens, dim]\n",
    "        y = self.transformer(patch_embeddings, mask)\n",
    "\n",
    "        if self.classification:\n",
    "            # we index only the cls token for classification.\n",
    "            return self.mlp_head(y[:, 0, :])\n",
    "        else:\n",
    "            return y"
   ]
  },
  {
   "cell_type": "code",
   "execution_count": 20,
   "metadata": {},
   "outputs": [],
   "source": [
    "assert([file[:-3] for file in sorted(os.listdir(videos_folder))] == [file[:-3] for file in sorted(os.listdir(spectrograms_folder))])"
   ]
  },
  {
   "cell_type": "code",
   "execution_count": 21,
   "metadata": {},
   "outputs": [],
   "source": [
    "_fullscale = True # Run fullscale experiment?\n",
    "_presaved = True # Use presaved data .npy files?\n",
    "\n",
    "# Check if data folders exists\n",
    "if not os.path.exists(videos_folder):\n",
    "    print(\"Videos folder does not exist.\")\n",
    "    sys.exit(1)\n",
    "if not os.path.exists(spectrograms_folder):\n",
    "    print(\"Spectrograms folder does not exist.\")\n",
    "    sys.exit(1)\n",
    "\n",
    "# Load dataset and split into train and test sets\n",
    "if _presaved:\n",
    "  X = np.load('/home1/riyaranj/riya/X_7439.npy', mmap_mode='r')\n",
    "  y = np.load('/home1/riyaranj/riya/y_7439.npy', mmap_mode='r')\n",
    "  X_spec = np.load('/home1/riyaranj/riya/X_spec_7439.npy', mmap_mode='r')\n",
    "  y_spec = np.load('/home1/riyaranj/riya/y_spec_7439.npy', mmap_mode='r')\n",
    "else:\n",
    "  X, y, skipped_files = load_dataset(videos_folder)\n",
    "  X_spec, y_spec = load_spectrogram_dataset(spectrograms_folder, skipped_files)"
   ]
  },
  {
   "cell_type": "code",
   "execution_count": 22,
   "metadata": {
    "id": "3gzXGfQPSBAC"
   },
   "outputs": [],
   "source": [
    "# # Save X, y, X_spec, y_spec\n",
    "# np.save('X_7439.npy', np.array(X))\n",
    "# np.save('y_7439.npy', np.array(y))\n",
    "# np.save('X_spec_7439.npy', np.array(X_spec))\n",
    "# np.save('y_spec_7439.npy', np.array(y_spec))"
   ]
  },
  {
   "cell_type": "code",
   "execution_count": 23,
   "metadata": {},
   "outputs": [
    {
     "name": "stdout",
     "output_type": "stream",
     "text": [
      "Total number of samples: 7429\n",
      "Number of train samples (video): 5200 Number of test samples: 2229\n",
      "Number of train samples (audio): 5200 Number of test samples: 2229\n"
     ]
    }
   ],
   "source": [
    "# Split the data into train and test sets\n",
    "print(f\"Total number of samples: {len(X)}\")\n",
    "X_train, X_test, y_train, y_test = train_test_split(X, y, test_size=0.3, random_state=42)\n",
    "print(f\"Number of train samples (video): {len(X_train)}\", f\"Number of test samples: {len(X_test)}\")\n",
    "X_train_spec, X_test_spec, y_train_spec, y_test_spec = train_test_split(X_spec, y_spec, test_size=0.3, random_state=42)\n",
    "print(f\"Number of train samples (audio): {len(X_train_spec)}\", f\"Number of test samples: {len(X_test_spec)}\")"
   ]
  },
  {
   "cell_type": "code",
   "execution_count": 24,
   "metadata": {},
   "outputs": [],
   "source": [
    "assert(len(X_train) == len(X_train_spec) and len(X_test) == len(X_test_spec))"
   ]
  },
  {
   "cell_type": "code",
   "execution_count": 25,
   "metadata": {
    "id": "wzuHjENY9Dpa"
   },
   "outputs": [],
   "source": [
    "def train_ViT(_modality):\n",
    "  # Adjust input channels as per modality\n",
    "  if _modality == 'multimodal':\n",
    "    _input_channels = 2\n",
    "  else:\n",
    "    _input_channels = 1\n",
    "\n",
    "  # Initialize the ViT model\n",
    "  model = ViT(img_dim=224,  # Image dimension\n",
    "              in_channels=_input_channels,  # Number of input channels\n",
    "              patch_dim=16,  # Patch dimension\n",
    "              num_classes=6,  # 6 classes for HAPPY, SAD, ANGRY, DISGUST, FEAR, NEUTRAL\n",
    "              dim=768,  # Dimensionality of the token embeddings\n",
    "              blocks=16,  # Number of transformer blocks\n",
    "              heads=16,  # Number of attention heads\n",
    "              dim_linear_block=1024,  # Dimensionality of the linear block\n",
    "              dropout=0.5,  # Dropout rate\n",
    "              classification=True)  # Whether or not to include a classification token\n",
    "\n",
    "  # Define device\n",
    "  device = torch.device(\"cuda\" if torch.cuda.is_available() else \"cpu\")\n",
    "  model.to(device)\n",
    "\n",
    "  # Define loss function and optimizer\n",
    "  _lr = 0.0001\n",
    "  heads = 16\n",
    "  blocks = 16\n",
    "  dr = 0.5\n",
    "  criterion = nn.CrossEntropyLoss()\n",
    "  optimizer = optim.Adam(model.parameters(), lr=_lr)\n",
    "\n",
    "  # Concatenate datasets if multimodal\n",
    "  train_dataset = ConcatDataset(X_train, X_train_spec, y_train, modality = _modality, presaved = _presaved)\n",
    "  test_dataset = ConcatDataset(X_test, X_test_spec, y_test, modality = _modality, presaved = _presaved)\n",
    "\n",
    "  # Create data loaders\n",
    "  _bs = 64\n",
    "\n",
    "  # Create data loaders\n",
    "  train_loader = torch.utils.data.DataLoader(train_dataset, batch_size=_bs, shuffle=True)\n",
    "  test_loader = torch.utils.data.DataLoader(test_dataset, batch_size=_bs)\n",
    "\n",
    "  print(f\"\\n\\nBatch size: {_bs}\", f\"lr: {_lr}\")\n",
    "\n",
    "  # Training loop\n",
    "  num_epochs = 50\n",
    "  print(f\"Training ViT for \\\"{_modality}\\\" pipeline ...\\n------------------------------------------------\\n\")\n",
    "  for epoch in range(num_epochs):\n",
    "      print(\"Epoch \" + str(epoch))\n",
    "      train_loss, train_accuracy = train_model(model, criterion, optimizer, train_loader, device)\n",
    "      test_loss, test_accuracy = test_model(model, criterion, test_loader, device)\n",
    "      print(f\"Epoch {epoch+1}/{num_epochs}, Train Loss: {train_loss:.4f}, Train Accuracy: {train_accuracy:.4f}, Test Loss: {test_loss:.4f}, Test Accuracy: {test_accuracy:.4f}\")\n",
    "\n",
    "  # Save the model\n",
    "  if _modality == 'multimodal':\n",
    "    torch.save(model.state_dict(), 'ViT_audio_video_fullscale_'+'_'+str(_bs)+'_'+str(heads)+'_'+str(blocks)+'_'+str(dr)+'_'+str(_lr))\n",
    "  elif _modality == 'audio':\n",
    "    torch.save(model.state_dict(), 'ViT_audio_fullscale_'+'_'+str(_bs)+'_'+str(heads)+'_'+str(blocks)+'_'+str(dr)+'_'+str(_lr))\n",
    "  elif _modality == 'visual':\n",
    "    torch.save(model.state_dict(), 'ViT_video_fullscale_'+'_'+str(_bs)+'_'+str(heads)+'_'+str(blocks)+'_'+str(dr)+'_'+str(_lr))\n",
    "  else:\n",
    "    print(\"Improper modality provided!\")\n",
    "\n",
    "  return train_loss, train_accuracy, test_loss, test_accuracy"
   ]
  },
  {
   "cell_type": "code",
   "execution_count": 26,
   "metadata": {
    "id": "CXy5mkXruLRr"
   },
   "outputs": [],
   "source": [
    "# Define modalities\n",
    "_modality = ['visual', 'audio', 'multimodal']"
   ]
  },
  {
   "cell_type": "code",
   "execution_count": 27,
   "metadata": {
    "colab": {
     "base_uri": "https://localhost:8080/",
     "height": 478
    },
    "id": "eaq2Nfvs9IZm",
    "outputId": "1ad0ef17-01f3-41d8-8804-93960060b814"
   },
   "outputs": [
    {
     "name": "stdout",
     "output_type": "stream",
     "text": [
      "\n",
      "\n",
      "Batch size: 64 lr: 0.0001\n",
      "Training ViT for \"visual\" pipeline ...\n",
      "------------------------------------------------\n",
      "\n",
      "Epoch 0\n"
     ]
    },
    {
     "name": "stderr",
     "output_type": "stream",
     "text": [
      "100%|██████████| 82/82 [01:20<00:00,  1.02it/s]\n",
      "100%|██████████| 35/35 [00:10<00:00,  3.20it/s]\n"
     ]
    },
    {
     "name": "stdout",
     "output_type": "stream",
     "text": [
      "Epoch 1/50, Train Loss: 1.8063, Train Accuracy: 0.2362, Test Loss: 1.6747, Test Accuracy: 0.3244\n",
      "Epoch 1\n"
     ]
    },
    {
     "name": "stderr",
     "output_type": "stream",
     "text": [
      "100%|██████████| 82/82 [01:14<00:00,  1.10it/s]\n",
      "100%|██████████| 35/35 [00:10<00:00,  3.20it/s]\n"
     ]
    },
    {
     "name": "stdout",
     "output_type": "stream",
     "text": [
      "Epoch 2/50, Train Loss: 1.5692, Train Accuracy: 0.3456, Test Loss: 1.5674, Test Accuracy: 0.3638\n",
      "Epoch 2\n"
     ]
    },
    {
     "name": "stderr",
     "output_type": "stream",
     "text": [
      "100%|██████████| 82/82 [01:14<00:00,  1.10it/s]\n",
      "100%|██████████| 35/35 [00:10<00:00,  3.20it/s]\n"
     ]
    },
    {
     "name": "stdout",
     "output_type": "stream",
     "text": [
      "Epoch 3/50, Train Loss: 1.5013, Train Accuracy: 0.3710, Test Loss: 1.5060, Test Accuracy: 0.3804\n",
      "Epoch 3\n"
     ]
    },
    {
     "name": "stderr",
     "output_type": "stream",
     "text": [
      "100%|██████████| 82/82 [01:14<00:00,  1.10it/s]\n",
      "100%|██████████| 35/35 [00:10<00:00,  3.20it/s]\n"
     ]
    },
    {
     "name": "stdout",
     "output_type": "stream",
     "text": [
      "Epoch 4/50, Train Loss: 1.4692, Train Accuracy: 0.3896, Test Loss: 1.7628, Test Accuracy: 0.3777\n",
      "Epoch 4\n"
     ]
    },
    {
     "name": "stderr",
     "output_type": "stream",
     "text": [
      "100%|██████████| 82/82 [01:14<00:00,  1.10it/s]\n",
      "100%|██████████| 35/35 [00:10<00:00,  3.20it/s]\n"
     ]
    },
    {
     "name": "stdout",
     "output_type": "stream",
     "text": [
      "Epoch 5/50, Train Loss: 1.4509, Train Accuracy: 0.3979, Test Loss: 1.5307, Test Accuracy: 0.4266\n",
      "Epoch 5\n"
     ]
    },
    {
     "name": "stderr",
     "output_type": "stream",
     "text": [
      "100%|██████████| 82/82 [01:14<00:00,  1.10it/s]\n",
      "100%|██████████| 35/35 [00:10<00:00,  3.20it/s]\n"
     ]
    },
    {
     "name": "stdout",
     "output_type": "stream",
     "text": [
      "Epoch 6/50, Train Loss: 1.4215, Train Accuracy: 0.4115, Test Loss: 1.5436, Test Accuracy: 0.4056\n",
      "Epoch 6\n"
     ]
    },
    {
     "name": "stderr",
     "output_type": "stream",
     "text": [
      "100%|██████████| 82/82 [01:14<00:00,  1.10it/s]\n",
      "100%|██████████| 35/35 [00:10<00:00,  3.20it/s]\n"
     ]
    },
    {
     "name": "stdout",
     "output_type": "stream",
     "text": [
      "Epoch 7/50, Train Loss: 1.3995, Train Accuracy: 0.4190, Test Loss: 1.6512, Test Accuracy: 0.4163\n",
      "Epoch 7\n"
     ]
    },
    {
     "name": "stderr",
     "output_type": "stream",
     "text": [
      "100%|██████████| 82/82 [01:14<00:00,  1.10it/s]\n",
      "100%|██████████| 35/35 [00:10<00:00,  3.20it/s]\n"
     ]
    },
    {
     "name": "stdout",
     "output_type": "stream",
     "text": [
      "Epoch 8/50, Train Loss: 1.3615, Train Accuracy: 0.4315, Test Loss: 1.4839, Test Accuracy: 0.4392\n",
      "Epoch 8\n"
     ]
    },
    {
     "name": "stderr",
     "output_type": "stream",
     "text": [
      "100%|██████████| 82/82 [01:14<00:00,  1.10it/s]\n",
      "100%|██████████| 35/35 [00:10<00:00,  3.20it/s]\n"
     ]
    },
    {
     "name": "stdout",
     "output_type": "stream",
     "text": [
      "Epoch 9/50, Train Loss: 1.3783, Train Accuracy: 0.4421, Test Loss: 1.4497, Test Accuracy: 0.4311\n",
      "Epoch 9\n"
     ]
    },
    {
     "name": "stderr",
     "output_type": "stream",
     "text": [
      "100%|██████████| 82/82 [01:14<00:00,  1.10it/s]\n",
      "100%|██████████| 35/35 [00:10<00:00,  3.20it/s]\n"
     ]
    },
    {
     "name": "stdout",
     "output_type": "stream",
     "text": [
      "Epoch 10/50, Train Loss: 1.3778, Train Accuracy: 0.4298, Test Loss: 1.5623, Test Accuracy: 0.4464\n",
      "Epoch 10\n"
     ]
    },
    {
     "name": "stderr",
     "output_type": "stream",
     "text": [
      "100%|██████████| 82/82 [01:14<00:00,  1.10it/s]\n",
      "100%|██████████| 35/35 [00:10<00:00,  3.20it/s]\n"
     ]
    },
    {
     "name": "stdout",
     "output_type": "stream",
     "text": [
      "Epoch 11/50, Train Loss: 1.3354, Train Accuracy: 0.4510, Test Loss: 1.5176, Test Accuracy: 0.4410\n",
      "Epoch 11\n"
     ]
    },
    {
     "name": "stderr",
     "output_type": "stream",
     "text": [
      "100%|██████████| 82/82 [01:14<00:00,  1.10it/s]\n",
      "100%|██████████| 35/35 [00:10<00:00,  3.20it/s]\n"
     ]
    },
    {
     "name": "stdout",
     "output_type": "stream",
     "text": [
      "Epoch 12/50, Train Loss: 1.3035, Train Accuracy: 0.4758, Test Loss: 1.5516, Test Accuracy: 0.4482\n",
      "Epoch 12\n"
     ]
    },
    {
     "name": "stderr",
     "output_type": "stream",
     "text": [
      "100%|██████████| 82/82 [01:14<00:00,  1.10it/s]\n",
      "100%|██████████| 35/35 [00:10<00:00,  3.20it/s]\n"
     ]
    },
    {
     "name": "stdout",
     "output_type": "stream",
     "text": [
      "Epoch 13/50, Train Loss: 1.3021, Train Accuracy: 0.4746, Test Loss: 1.4833, Test Accuracy: 0.4563\n",
      "Epoch 13\n"
     ]
    },
    {
     "name": "stderr",
     "output_type": "stream",
     "text": [
      "100%|██████████| 82/82 [01:14<00:00,  1.10it/s]\n",
      "100%|██████████| 35/35 [00:10<00:00,  3.20it/s]\n"
     ]
    },
    {
     "name": "stdout",
     "output_type": "stream",
     "text": [
      "Epoch 14/50, Train Loss: 1.2854, Train Accuracy: 0.4688, Test Loss: 1.5872, Test Accuracy: 0.4136\n",
      "Epoch 14\n"
     ]
    },
    {
     "name": "stderr",
     "output_type": "stream",
     "text": [
      "100%|██████████| 82/82 [01:14<00:00,  1.10it/s]\n",
      "100%|██████████| 35/35 [00:10<00:00,  3.20it/s]\n"
     ]
    },
    {
     "name": "stdout",
     "output_type": "stream",
     "text": [
      "Epoch 15/50, Train Loss: 1.3030, Train Accuracy: 0.4729, Test Loss: 1.5573, Test Accuracy: 0.4482\n",
      "Epoch 15\n"
     ]
    },
    {
     "name": "stderr",
     "output_type": "stream",
     "text": [
      "100%|██████████| 82/82 [01:14<00:00,  1.10it/s]\n",
      "100%|██████████| 35/35 [00:10<00:00,  3.20it/s]\n"
     ]
    },
    {
     "name": "stdout",
     "output_type": "stream",
     "text": [
      "Epoch 16/50, Train Loss: 1.2900, Train Accuracy: 0.4710, Test Loss: 1.5399, Test Accuracy: 0.4760\n",
      "Epoch 16\n"
     ]
    },
    {
     "name": "stderr",
     "output_type": "stream",
     "text": [
      "100%|██████████| 82/82 [01:14<00:00,  1.10it/s]\n",
      "100%|██████████| 35/35 [00:10<00:00,  3.20it/s]\n"
     ]
    },
    {
     "name": "stdout",
     "output_type": "stream",
     "text": [
      "Epoch 17/50, Train Loss: 1.2589, Train Accuracy: 0.4977, Test Loss: 1.4797, Test Accuracy: 0.4522\n",
      "Epoch 17\n"
     ]
    },
    {
     "name": "stderr",
     "output_type": "stream",
     "text": [
      "100%|██████████| 82/82 [01:14<00:00,  1.10it/s]\n",
      "100%|██████████| 35/35 [00:10<00:00,  3.20it/s]\n"
     ]
    },
    {
     "name": "stdout",
     "output_type": "stream",
     "text": [
      "Epoch 18/50, Train Loss: 1.2708, Train Accuracy: 0.4848, Test Loss: 1.5917, Test Accuracy: 0.4702\n",
      "Epoch 18\n"
     ]
    },
    {
     "name": "stderr",
     "output_type": "stream",
     "text": [
      "100%|██████████| 82/82 [01:14<00:00,  1.10it/s]\n",
      "100%|██████████| 35/35 [00:10<00:00,  3.20it/s]\n"
     ]
    },
    {
     "name": "stdout",
     "output_type": "stream",
     "text": [
      "Epoch 19/50, Train Loss: 1.2323, Train Accuracy: 0.5083, Test Loss: 1.6344, Test Accuracy: 0.4441\n",
      "Epoch 19\n"
     ]
    },
    {
     "name": "stderr",
     "output_type": "stream",
     "text": [
      "100%|██████████| 82/82 [01:14<00:00,  1.10it/s]\n",
      "100%|██████████| 35/35 [00:10<00:00,  3.20it/s]\n"
     ]
    },
    {
     "name": "stdout",
     "output_type": "stream",
     "text": [
      "Epoch 20/50, Train Loss: 1.2368, Train Accuracy: 0.5062, Test Loss: 1.4615, Test Accuracy: 0.4657\n",
      "Epoch 20\n"
     ]
    },
    {
     "name": "stderr",
     "output_type": "stream",
     "text": [
      "100%|██████████| 82/82 [01:14<00:00,  1.10it/s]\n",
      "100%|██████████| 35/35 [00:10<00:00,  3.20it/s]\n"
     ]
    },
    {
     "name": "stdout",
     "output_type": "stream",
     "text": [
      "Epoch 21/50, Train Loss: 1.2196, Train Accuracy: 0.5108, Test Loss: 1.4186, Test Accuracy: 0.4908\n",
      "Epoch 21\n"
     ]
    },
    {
     "name": "stderr",
     "output_type": "stream",
     "text": [
      "100%|██████████| 82/82 [01:14<00:00,  1.10it/s]\n",
      "100%|██████████| 35/35 [00:10<00:00,  3.20it/s]\n"
     ]
    },
    {
     "name": "stdout",
     "output_type": "stream",
     "text": [
      "Epoch 22/50, Train Loss: 1.1980, Train Accuracy: 0.5137, Test Loss: 1.5094, Test Accuracy: 0.4791\n",
      "Epoch 22\n"
     ]
    },
    {
     "name": "stderr",
     "output_type": "stream",
     "text": [
      "100%|██████████| 82/82 [01:14<00:00,  1.10it/s]\n",
      "100%|██████████| 35/35 [00:10<00:00,  3.21it/s]\n"
     ]
    },
    {
     "name": "stdout",
     "output_type": "stream",
     "text": [
      "Epoch 23/50, Train Loss: 1.2114, Train Accuracy: 0.5108, Test Loss: 1.5707, Test Accuracy: 0.4594\n",
      "Epoch 23\n"
     ]
    },
    {
     "name": "stderr",
     "output_type": "stream",
     "text": [
      "100%|██████████| 82/82 [01:14<00:00,  1.10it/s]\n",
      "100%|██████████| 35/35 [00:10<00:00,  3.20it/s]\n"
     ]
    },
    {
     "name": "stdout",
     "output_type": "stream",
     "text": [
      "Epoch 24/50, Train Loss: 1.2008, Train Accuracy: 0.5206, Test Loss: 1.4717, Test Accuracy: 0.4809\n",
      "Epoch 24\n"
     ]
    },
    {
     "name": "stderr",
     "output_type": "stream",
     "text": [
      "100%|██████████| 82/82 [01:14<00:00,  1.10it/s]\n",
      "100%|██████████| 35/35 [00:10<00:00,  3.20it/s]\n"
     ]
    },
    {
     "name": "stdout",
     "output_type": "stream",
     "text": [
      "Epoch 25/50, Train Loss: 1.1934, Train Accuracy: 0.5263, Test Loss: 1.5574, Test Accuracy: 0.4729\n",
      "Epoch 25\n"
     ]
    },
    {
     "name": "stderr",
     "output_type": "stream",
     "text": [
      "100%|██████████| 82/82 [01:14<00:00,  1.10it/s]\n",
      "100%|██████████| 35/35 [00:10<00:00,  3.20it/s]\n"
     ]
    },
    {
     "name": "stdout",
     "output_type": "stream",
     "text": [
      "Epoch 26/50, Train Loss: 1.1760, Train Accuracy: 0.5254, Test Loss: 1.4795, Test Accuracy: 0.4576\n",
      "Epoch 26\n"
     ]
    },
    {
     "name": "stderr",
     "output_type": "stream",
     "text": [
      "100%|██████████| 82/82 [01:14<00:00,  1.10it/s]\n",
      "100%|██████████| 35/35 [00:10<00:00,  3.19it/s]\n"
     ]
    },
    {
     "name": "stdout",
     "output_type": "stream",
     "text": [
      "Epoch 27/50, Train Loss: 1.1676, Train Accuracy: 0.5313, Test Loss: 1.4573, Test Accuracy: 0.5016\n",
      "Epoch 27\n"
     ]
    },
    {
     "name": "stderr",
     "output_type": "stream",
     "text": [
      "100%|██████████| 82/82 [01:14<00:00,  1.10it/s]\n",
      "100%|██████████| 35/35 [00:10<00:00,  3.20it/s]\n"
     ]
    },
    {
     "name": "stdout",
     "output_type": "stream",
     "text": [
      "Epoch 28/50, Train Loss: 1.1543, Train Accuracy: 0.5413, Test Loss: 1.4039, Test Accuracy: 0.4948\n",
      "Epoch 28\n"
     ]
    },
    {
     "name": "stderr",
     "output_type": "stream",
     "text": [
      "100%|██████████| 82/82 [01:14<00:00,  1.10it/s]\n",
      "100%|██████████| 35/35 [00:10<00:00,  3.20it/s]\n"
     ]
    },
    {
     "name": "stdout",
     "output_type": "stream",
     "text": [
      "Epoch 29/50, Train Loss: 1.1400, Train Accuracy: 0.5479, Test Loss: 1.4633, Test Accuracy: 0.5002\n",
      "Epoch 29\n"
     ]
    },
    {
     "name": "stderr",
     "output_type": "stream",
     "text": [
      "100%|██████████| 82/82 [01:14<00:00,  1.10it/s]\n",
      "100%|██████████| 35/35 [00:10<00:00,  3.20it/s]\n"
     ]
    },
    {
     "name": "stdout",
     "output_type": "stream",
     "text": [
      "Epoch 30/50, Train Loss: 1.1203, Train Accuracy: 0.5538, Test Loss: 1.4587, Test Accuracy: 0.5052\n",
      "Epoch 30\n"
     ]
    },
    {
     "name": "stderr",
     "output_type": "stream",
     "text": [
      "100%|██████████| 82/82 [01:14<00:00,  1.10it/s]\n",
      "100%|██████████| 35/35 [00:10<00:00,  3.20it/s]\n"
     ]
    },
    {
     "name": "stdout",
     "output_type": "stream",
     "text": [
      "Epoch 31/50, Train Loss: 1.1044, Train Accuracy: 0.5608, Test Loss: 1.4506, Test Accuracy: 0.5043\n",
      "Epoch 31\n"
     ]
    },
    {
     "name": "stderr",
     "output_type": "stream",
     "text": [
      "100%|██████████| 82/82 [01:14<00:00,  1.10it/s]\n",
      "100%|██████████| 35/35 [00:10<00:00,  3.20it/s]\n"
     ]
    },
    {
     "name": "stdout",
     "output_type": "stream",
     "text": [
      "Epoch 32/50, Train Loss: 1.0804, Train Accuracy: 0.5688, Test Loss: 1.5327, Test Accuracy: 0.5020\n",
      "Epoch 32\n"
     ]
    },
    {
     "name": "stderr",
     "output_type": "stream",
     "text": [
      "100%|██████████| 82/82 [01:14<00:00,  1.10it/s]\n",
      "100%|██████████| 35/35 [00:10<00:00,  3.20it/s]\n"
     ]
    },
    {
     "name": "stdout",
     "output_type": "stream",
     "text": [
      "Epoch 33/50, Train Loss: 1.0833, Train Accuracy: 0.5754, Test Loss: 1.4241, Test Accuracy: 0.5070\n",
      "Epoch 33\n"
     ]
    },
    {
     "name": "stderr",
     "output_type": "stream",
     "text": [
      "100%|██████████| 82/82 [01:14<00:00,  1.10it/s]\n",
      "100%|██████████| 35/35 [00:10<00:00,  3.20it/s]\n"
     ]
    },
    {
     "name": "stdout",
     "output_type": "stream",
     "text": [
      "Epoch 34/50, Train Loss: 1.0714, Train Accuracy: 0.5840, Test Loss: 1.6292, Test Accuracy: 0.4868\n",
      "Epoch 34\n"
     ]
    },
    {
     "name": "stderr",
     "output_type": "stream",
     "text": [
      "100%|██████████| 82/82 [01:14<00:00,  1.10it/s]\n",
      "100%|██████████| 35/35 [00:10<00:00,  3.20it/s]\n"
     ]
    },
    {
     "name": "stdout",
     "output_type": "stream",
     "text": [
      "Epoch 35/50, Train Loss: 1.0713, Train Accuracy: 0.5735, Test Loss: 1.4890, Test Accuracy: 0.5043\n",
      "Epoch 35\n"
     ]
    },
    {
     "name": "stderr",
     "output_type": "stream",
     "text": [
      "100%|██████████| 82/82 [01:14<00:00,  1.10it/s]\n",
      "100%|██████████| 35/35 [00:10<00:00,  3.20it/s]\n"
     ]
    },
    {
     "name": "stdout",
     "output_type": "stream",
     "text": [
      "Epoch 36/50, Train Loss: 1.0624, Train Accuracy: 0.5837, Test Loss: 1.4738, Test Accuracy: 0.5186\n",
      "Epoch 36\n"
     ]
    },
    {
     "name": "stderr",
     "output_type": "stream",
     "text": [
      "100%|██████████| 82/82 [01:14<00:00,  1.10it/s]\n",
      "100%|██████████| 35/35 [00:10<00:00,  3.21it/s]\n"
     ]
    },
    {
     "name": "stdout",
     "output_type": "stream",
     "text": [
      "Epoch 37/50, Train Loss: 1.0474, Train Accuracy: 0.5933, Test Loss: 1.4039, Test Accuracy: 0.5307\n",
      "Epoch 37\n"
     ]
    },
    {
     "name": "stderr",
     "output_type": "stream",
     "text": [
      "100%|██████████| 82/82 [01:14<00:00,  1.10it/s]\n",
      "100%|██████████| 35/35 [00:10<00:00,  3.20it/s]\n"
     ]
    },
    {
     "name": "stdout",
     "output_type": "stream",
     "text": [
      "Epoch 38/50, Train Loss: 1.0417, Train Accuracy: 0.5915, Test Loss: 1.4640, Test Accuracy: 0.5141\n",
      "Epoch 38\n"
     ]
    },
    {
     "name": "stderr",
     "output_type": "stream",
     "text": [
      "100%|██████████| 82/82 [01:14<00:00,  1.10it/s]\n",
      "100%|██████████| 35/35 [00:10<00:00,  3.20it/s]\n"
     ]
    },
    {
     "name": "stdout",
     "output_type": "stream",
     "text": [
      "Epoch 39/50, Train Loss: 1.0311, Train Accuracy: 0.5942, Test Loss: 1.5378, Test Accuracy: 0.5047\n",
      "Epoch 39\n"
     ]
    },
    {
     "name": "stderr",
     "output_type": "stream",
     "text": [
      "100%|██████████| 82/82 [01:14<00:00,  1.10it/s]\n",
      "100%|██████████| 35/35 [00:10<00:00,  3.20it/s]\n"
     ]
    },
    {
     "name": "stdout",
     "output_type": "stream",
     "text": [
      "Epoch 40/50, Train Loss: 1.0207, Train Accuracy: 0.5973, Test Loss: 1.4079, Test Accuracy: 0.5173\n",
      "Epoch 40\n"
     ]
    },
    {
     "name": "stderr",
     "output_type": "stream",
     "text": [
      "100%|██████████| 82/82 [01:14<00:00,  1.10it/s]\n",
      "100%|██████████| 35/35 [00:10<00:00,  3.20it/s]\n"
     ]
    },
    {
     "name": "stdout",
     "output_type": "stream",
     "text": [
      "Epoch 41/50, Train Loss: 0.9922, Train Accuracy: 0.6175, Test Loss: 1.4447, Test Accuracy: 0.5393\n",
      "Epoch 41\n"
     ]
    },
    {
     "name": "stderr",
     "output_type": "stream",
     "text": [
      "100%|██████████| 82/82 [01:14<00:00,  1.10it/s]\n",
      "100%|██████████| 35/35 [00:10<00:00,  3.20it/s]\n"
     ]
    },
    {
     "name": "stdout",
     "output_type": "stream",
     "text": [
      "Epoch 42/50, Train Loss: 1.0221, Train Accuracy: 0.6004, Test Loss: 1.5705, Test Accuracy: 0.5159\n",
      "Epoch 42\n"
     ]
    },
    {
     "name": "stderr",
     "output_type": "stream",
     "text": [
      "100%|██████████| 82/82 [01:14<00:00,  1.10it/s]\n",
      "100%|██████████| 35/35 [00:10<00:00,  3.20it/s]\n"
     ]
    },
    {
     "name": "stdout",
     "output_type": "stream",
     "text": [
      "Epoch 43/50, Train Loss: 0.9951, Train Accuracy: 0.6073, Test Loss: 1.4230, Test Accuracy: 0.5352\n",
      "Epoch 43\n"
     ]
    },
    {
     "name": "stderr",
     "output_type": "stream",
     "text": [
      "100%|██████████| 82/82 [01:14<00:00,  1.10it/s]\n",
      "100%|██████████| 35/35 [00:10<00:00,  3.20it/s]\n"
     ]
    },
    {
     "name": "stdout",
     "output_type": "stream",
     "text": [
      "Epoch 44/50, Train Loss: 0.9557, Train Accuracy: 0.6277, Test Loss: 1.8802, Test Accuracy: 0.5034\n",
      "Epoch 44\n"
     ]
    },
    {
     "name": "stderr",
     "output_type": "stream",
     "text": [
      "100%|██████████| 82/82 [01:14<00:00,  1.10it/s]\n",
      "100%|██████████| 35/35 [00:10<00:00,  3.21it/s]\n"
     ]
    },
    {
     "name": "stdout",
     "output_type": "stream",
     "text": [
      "Epoch 45/50, Train Loss: 0.9915, Train Accuracy: 0.6165, Test Loss: 1.5385, Test Accuracy: 0.5245\n",
      "Epoch 45\n"
     ]
    },
    {
     "name": "stderr",
     "output_type": "stream",
     "text": [
      "100%|██████████| 82/82 [01:14<00:00,  1.10it/s]\n",
      "100%|██████████| 35/35 [00:10<00:00,  3.20it/s]\n"
     ]
    },
    {
     "name": "stdout",
     "output_type": "stream",
     "text": [
      "Epoch 46/50, Train Loss: 0.9555, Train Accuracy: 0.6260, Test Loss: 1.4641, Test Accuracy: 0.5482\n",
      "Epoch 46\n"
     ]
    },
    {
     "name": "stderr",
     "output_type": "stream",
     "text": [
      "100%|██████████| 82/82 [01:14<00:00,  1.10it/s]\n",
      "100%|██████████| 35/35 [00:10<00:00,  3.20it/s]\n"
     ]
    },
    {
     "name": "stdout",
     "output_type": "stream",
     "text": [
      "Epoch 47/50, Train Loss: 0.9290, Train Accuracy: 0.6479, Test Loss: 1.5300, Test Accuracy: 0.5339\n",
      "Epoch 47\n"
     ]
    },
    {
     "name": "stderr",
     "output_type": "stream",
     "text": [
      "100%|██████████| 82/82 [01:14<00:00,  1.10it/s]\n",
      "100%|██████████| 35/35 [00:10<00:00,  3.21it/s]\n"
     ]
    },
    {
     "name": "stdout",
     "output_type": "stream",
     "text": [
      "Epoch 48/50, Train Loss: 0.9379, Train Accuracy: 0.6312, Test Loss: 1.5007, Test Accuracy: 0.5200\n",
      "Epoch 48\n"
     ]
    },
    {
     "name": "stderr",
     "output_type": "stream",
     "text": [
      "100%|██████████| 82/82 [01:14<00:00,  1.10it/s]\n",
      "100%|██████████| 35/35 [00:10<00:00,  3.20it/s]\n"
     ]
    },
    {
     "name": "stdout",
     "output_type": "stream",
     "text": [
      "Epoch 49/50, Train Loss: 0.9174, Train Accuracy: 0.6427, Test Loss: 1.5672, Test Accuracy: 0.5182\n",
      "Epoch 49\n"
     ]
    },
    {
     "name": "stderr",
     "output_type": "stream",
     "text": [
      "100%|██████████| 82/82 [01:14<00:00,  1.10it/s]\n",
      "100%|██████████| 35/35 [00:10<00:00,  3.20it/s]\n"
     ]
    },
    {
     "name": "stdout",
     "output_type": "stream",
     "text": [
      "Epoch 50/50, Train Loss: 0.9301, Train Accuracy: 0.6358, Test Loss: 1.4435, Test Accuracy: 0.5419\n",
      "\n",
      "\n",
      "Batch size: 64 lr: 0.0001\n",
      "Training ViT for \"audio\" pipeline ...\n",
      "------------------------------------------------\n",
      "\n",
      "Epoch 0\n"
     ]
    },
    {
     "name": "stderr",
     "output_type": "stream",
     "text": [
      "100%|██████████| 82/82 [01:14<00:00,  1.10it/s]\n",
      "100%|██████████| 35/35 [00:10<00:00,  3.20it/s]\n"
     ]
    },
    {
     "name": "stdout",
     "output_type": "stream",
     "text": [
      "Epoch 1/50, Train Loss: 1.7525, Train Accuracy: 0.2679, Test Loss: 1.6000, Test Accuracy: 0.3576\n",
      "Epoch 1\n"
     ]
    },
    {
     "name": "stderr",
     "output_type": "stream",
     "text": [
      "100%|██████████| 82/82 [01:14<00:00,  1.10it/s]\n",
      "100%|██████████| 35/35 [00:10<00:00,  3.20it/s]\n"
     ]
    },
    {
     "name": "stdout",
     "output_type": "stream",
     "text": [
      "Epoch 2/50, Train Loss: 1.6092, Train Accuracy: 0.3185, Test Loss: 1.8782, Test Accuracy: 0.3136\n",
      "Epoch 2\n"
     ]
    },
    {
     "name": "stderr",
     "output_type": "stream",
     "text": [
      "100%|██████████| 82/82 [01:14<00:00,  1.10it/s]\n",
      "100%|██████████| 35/35 [00:10<00:00,  3.20it/s]\n"
     ]
    },
    {
     "name": "stdout",
     "output_type": "stream",
     "text": [
      "Epoch 3/50, Train Loss: 1.5712, Train Accuracy: 0.3437, Test Loss: 1.7735, Test Accuracy: 0.3221\n",
      "Epoch 3\n"
     ]
    },
    {
     "name": "stderr",
     "output_type": "stream",
     "text": [
      "100%|██████████| 82/82 [01:14<00:00,  1.10it/s]\n",
      "100%|██████████| 35/35 [00:10<00:00,  3.20it/s]\n"
     ]
    },
    {
     "name": "stdout",
     "output_type": "stream",
     "text": [
      "Epoch 4/50, Train Loss: 1.5523, Train Accuracy: 0.3412, Test Loss: 1.7427, Test Accuracy: 0.3549\n",
      "Epoch 4\n"
     ]
    },
    {
     "name": "stderr",
     "output_type": "stream",
     "text": [
      "100%|██████████| 82/82 [01:14<00:00,  1.10it/s]\n",
      "100%|██████████| 35/35 [00:10<00:00,  3.19it/s]\n"
     ]
    },
    {
     "name": "stdout",
     "output_type": "stream",
     "text": [
      "Epoch 5/50, Train Loss: 1.5381, Train Accuracy: 0.3483, Test Loss: 1.5841, Test Accuracy: 0.3948\n",
      "Epoch 5\n"
     ]
    },
    {
     "name": "stderr",
     "output_type": "stream",
     "text": [
      "100%|██████████| 82/82 [01:14<00:00,  1.10it/s]\n",
      "100%|██████████| 35/35 [00:10<00:00,  3.20it/s]\n"
     ]
    },
    {
     "name": "stdout",
     "output_type": "stream",
     "text": [
      "Epoch 6/50, Train Loss: 1.5308, Train Accuracy: 0.3585, Test Loss: 1.6986, Test Accuracy: 0.3594\n",
      "Epoch 6\n"
     ]
    },
    {
     "name": "stderr",
     "output_type": "stream",
     "text": [
      "100%|██████████| 82/82 [01:14<00:00,  1.10it/s]\n",
      "100%|██████████| 35/35 [00:10<00:00,  3.20it/s]\n"
     ]
    },
    {
     "name": "stdout",
     "output_type": "stream",
     "text": [
      "Epoch 7/50, Train Loss: 1.5238, Train Accuracy: 0.3598, Test Loss: 1.8049, Test Accuracy: 0.3437\n",
      "Epoch 7\n"
     ]
    },
    {
     "name": "stderr",
     "output_type": "stream",
     "text": [
      "100%|██████████| 82/82 [01:14<00:00,  1.10it/s]\n",
      "100%|██████████| 35/35 [00:10<00:00,  3.20it/s]\n"
     ]
    },
    {
     "name": "stdout",
     "output_type": "stream",
     "text": [
      "Epoch 8/50, Train Loss: 1.5214, Train Accuracy: 0.3700, Test Loss: 1.7039, Test Accuracy: 0.3742\n",
      "Epoch 8\n"
     ]
    },
    {
     "name": "stderr",
     "output_type": "stream",
     "text": [
      "100%|██████████| 82/82 [01:14<00:00,  1.10it/s]\n",
      "100%|██████████| 35/35 [00:10<00:00,  3.20it/s]\n"
     ]
    },
    {
     "name": "stdout",
     "output_type": "stream",
     "text": [
      "Epoch 9/50, Train Loss: 1.4894, Train Accuracy: 0.3815, Test Loss: 1.6425, Test Accuracy: 0.3706\n",
      "Epoch 9\n"
     ]
    },
    {
     "name": "stderr",
     "output_type": "stream",
     "text": [
      "100%|██████████| 82/82 [01:14<00:00,  1.10it/s]\n",
      "100%|██████████| 35/35 [00:10<00:00,  3.20it/s]\n"
     ]
    },
    {
     "name": "stdout",
     "output_type": "stream",
     "text": [
      "Epoch 10/50, Train Loss: 1.4940, Train Accuracy: 0.3842, Test Loss: 1.6159, Test Accuracy: 0.3746\n",
      "Epoch 10\n"
     ]
    },
    {
     "name": "stderr",
     "output_type": "stream",
     "text": [
      "100%|██████████| 82/82 [01:14<00:00,  1.10it/s]\n",
      "100%|██████████| 35/35 [00:10<00:00,  3.20it/s]\n"
     ]
    },
    {
     "name": "stdout",
     "output_type": "stream",
     "text": [
      "Epoch 11/50, Train Loss: 1.4845, Train Accuracy: 0.3812, Test Loss: 1.7936, Test Accuracy: 0.3607\n",
      "Epoch 11\n"
     ]
    },
    {
     "name": "stderr",
     "output_type": "stream",
     "text": [
      "100%|██████████| 82/82 [01:14<00:00,  1.10it/s]\n",
      "100%|██████████| 35/35 [00:10<00:00,  3.20it/s]\n"
     ]
    },
    {
     "name": "stdout",
     "output_type": "stream",
     "text": [
      "Epoch 12/50, Train Loss: 1.4891, Train Accuracy: 0.3827, Test Loss: 1.6837, Test Accuracy: 0.3679\n",
      "Epoch 12\n"
     ]
    },
    {
     "name": "stderr",
     "output_type": "stream",
     "text": [
      "100%|██████████| 82/82 [01:14<00:00,  1.10it/s]\n",
      "100%|██████████| 35/35 [00:10<00:00,  3.20it/s]\n"
     ]
    },
    {
     "name": "stdout",
     "output_type": "stream",
     "text": [
      "Epoch 13/50, Train Loss: 1.5016, Train Accuracy: 0.3790, Test Loss: 1.5074, Test Accuracy: 0.4141\n",
      "Epoch 13\n"
     ]
    },
    {
     "name": "stderr",
     "output_type": "stream",
     "text": [
      "100%|██████████| 82/82 [01:14<00:00,  1.10it/s]\n",
      "100%|██████████| 35/35 [00:10<00:00,  3.20it/s]\n"
     ]
    },
    {
     "name": "stdout",
     "output_type": "stream",
     "text": [
      "Epoch 14/50, Train Loss: 1.4732, Train Accuracy: 0.3952, Test Loss: 1.7222, Test Accuracy: 0.3800\n",
      "Epoch 14\n"
     ]
    },
    {
     "name": "stderr",
     "output_type": "stream",
     "text": [
      "100%|██████████| 82/82 [01:14<00:00,  1.10it/s]\n",
      "100%|██████████| 35/35 [00:10<00:00,  3.20it/s]\n"
     ]
    },
    {
     "name": "stdout",
     "output_type": "stream",
     "text": [
      "Epoch 15/50, Train Loss: 1.4815, Train Accuracy: 0.3840, Test Loss: 1.5777, Test Accuracy: 0.3782\n",
      "Epoch 15\n"
     ]
    },
    {
     "name": "stderr",
     "output_type": "stream",
     "text": [
      "100%|██████████| 82/82 [01:14<00:00,  1.10it/s]\n",
      "100%|██████████| 35/35 [00:10<00:00,  3.20it/s]\n"
     ]
    },
    {
     "name": "stdout",
     "output_type": "stream",
     "text": [
      "Epoch 16/50, Train Loss: 1.4664, Train Accuracy: 0.3992, Test Loss: 1.4905, Test Accuracy: 0.4123\n",
      "Epoch 16\n"
     ]
    },
    {
     "name": "stderr",
     "output_type": "stream",
     "text": [
      "100%|██████████| 82/82 [01:14<00:00,  1.10it/s]\n",
      "100%|██████████| 35/35 [00:10<00:00,  3.20it/s]\n"
     ]
    },
    {
     "name": "stdout",
     "output_type": "stream",
     "text": [
      "Epoch 17/50, Train Loss: 1.4935, Train Accuracy: 0.3787, Test Loss: 1.5448, Test Accuracy: 0.3997\n",
      "Epoch 17\n"
     ]
    },
    {
     "name": "stderr",
     "output_type": "stream",
     "text": [
      "100%|██████████| 82/82 [01:14<00:00,  1.10it/s]\n",
      "100%|██████████| 35/35 [00:10<00:00,  3.20it/s]\n"
     ]
    },
    {
     "name": "stdout",
     "output_type": "stream",
     "text": [
      "Epoch 18/50, Train Loss: 1.4732, Train Accuracy: 0.3898, Test Loss: 1.6015, Test Accuracy: 0.3894\n",
      "Epoch 18\n"
     ]
    },
    {
     "name": "stderr",
     "output_type": "stream",
     "text": [
      "100%|██████████| 82/82 [01:14<00:00,  1.10it/s]\n",
      "100%|██████████| 35/35 [00:10<00:00,  3.20it/s]\n"
     ]
    },
    {
     "name": "stdout",
     "output_type": "stream",
     "text": [
      "Epoch 19/50, Train Loss: 1.4532, Train Accuracy: 0.4073, Test Loss: 1.5038, Test Accuracy: 0.4114\n",
      "Epoch 19\n"
     ]
    },
    {
     "name": "stderr",
     "output_type": "stream",
     "text": [
      "100%|██████████| 82/82 [01:14<00:00,  1.10it/s]\n",
      "100%|██████████| 35/35 [00:10<00:00,  3.20it/s]\n"
     ]
    },
    {
     "name": "stdout",
     "output_type": "stream",
     "text": [
      "Epoch 20/50, Train Loss: 1.4607, Train Accuracy: 0.3975, Test Loss: 1.5021, Test Accuracy: 0.4145\n",
      "Epoch 20\n"
     ]
    },
    {
     "name": "stderr",
     "output_type": "stream",
     "text": [
      "100%|██████████| 82/82 [01:14<00:00,  1.10it/s]\n",
      "100%|██████████| 35/35 [00:10<00:00,  3.20it/s]\n"
     ]
    },
    {
     "name": "stdout",
     "output_type": "stream",
     "text": [
      "Epoch 21/50, Train Loss: 1.4399, Train Accuracy: 0.4046, Test Loss: 1.5092, Test Accuracy: 0.4029\n",
      "Epoch 21\n"
     ]
    },
    {
     "name": "stderr",
     "output_type": "stream",
     "text": [
      "100%|██████████| 82/82 [01:14<00:00,  1.10it/s]\n",
      "100%|██████████| 35/35 [00:10<00:00,  3.20it/s]\n"
     ]
    },
    {
     "name": "stdout",
     "output_type": "stream",
     "text": [
      "Epoch 22/50, Train Loss: 1.4702, Train Accuracy: 0.4006, Test Loss: 1.4924, Test Accuracy: 0.4002\n",
      "Epoch 22\n"
     ]
    },
    {
     "name": "stderr",
     "output_type": "stream",
     "text": [
      "100%|██████████| 82/82 [01:14<00:00,  1.10it/s]\n",
      "100%|██████████| 35/35 [00:10<00:00,  3.20it/s]\n"
     ]
    },
    {
     "name": "stdout",
     "output_type": "stream",
     "text": [
      "Epoch 23/50, Train Loss: 1.4626, Train Accuracy: 0.3894, Test Loss: 1.5044, Test Accuracy: 0.4141\n",
      "Epoch 23\n"
     ]
    },
    {
     "name": "stderr",
     "output_type": "stream",
     "text": [
      "100%|██████████| 82/82 [01:14<00:00,  1.10it/s]\n",
      "100%|██████████| 35/35 [00:10<00:00,  3.20it/s]\n"
     ]
    },
    {
     "name": "stdout",
     "output_type": "stream",
     "text": [
      "Epoch 24/50, Train Loss: 1.4499, Train Accuracy: 0.4083, Test Loss: 1.4627, Test Accuracy: 0.4145\n",
      "Epoch 24\n"
     ]
    },
    {
     "name": "stderr",
     "output_type": "stream",
     "text": [
      "100%|██████████| 82/82 [01:14<00:00,  1.10it/s]\n",
      "100%|██████████| 35/35 [00:10<00:00,  3.20it/s]\n"
     ]
    },
    {
     "name": "stdout",
     "output_type": "stream",
     "text": [
      "Epoch 25/50, Train Loss: 1.4438, Train Accuracy: 0.4088, Test Loss: 1.6925, Test Accuracy: 0.3769\n",
      "Epoch 25\n"
     ]
    },
    {
     "name": "stderr",
     "output_type": "stream",
     "text": [
      "100%|██████████| 82/82 [01:14<00:00,  1.10it/s]\n",
      "100%|██████████| 35/35 [00:10<00:00,  3.20it/s]\n"
     ]
    },
    {
     "name": "stdout",
     "output_type": "stream",
     "text": [
      "Epoch 26/50, Train Loss: 1.4417, Train Accuracy: 0.4113, Test Loss: 1.6366, Test Accuracy: 0.3751\n",
      "Epoch 26\n"
     ]
    },
    {
     "name": "stderr",
     "output_type": "stream",
     "text": [
      "100%|██████████| 82/82 [01:14<00:00,  1.10it/s]\n",
      "100%|██████████| 35/35 [00:10<00:00,  3.20it/s]\n"
     ]
    },
    {
     "name": "stdout",
     "output_type": "stream",
     "text": [
      "Epoch 27/50, Train Loss: 1.4539, Train Accuracy: 0.4044, Test Loss: 1.5417, Test Accuracy: 0.4132\n",
      "Epoch 27\n"
     ]
    },
    {
     "name": "stderr",
     "output_type": "stream",
     "text": [
      "100%|██████████| 82/82 [01:14<00:00,  1.10it/s]\n",
      "100%|██████████| 35/35 [00:10<00:00,  3.20it/s]\n"
     ]
    },
    {
     "name": "stdout",
     "output_type": "stream",
     "text": [
      "Epoch 28/50, Train Loss: 1.4152, Train Accuracy: 0.4263, Test Loss: 1.5376, Test Accuracy: 0.4051\n",
      "Epoch 28\n"
     ]
    },
    {
     "name": "stderr",
     "output_type": "stream",
     "text": [
      "100%|██████████| 82/82 [01:14<00:00,  1.10it/s]\n",
      "100%|██████████| 35/35 [00:10<00:00,  3.20it/s]\n"
     ]
    },
    {
     "name": "stdout",
     "output_type": "stream",
     "text": [
      "Epoch 29/50, Train Loss: 1.4340, Train Accuracy: 0.4133, Test Loss: 1.4671, Test Accuracy: 0.4244\n",
      "Epoch 29\n"
     ]
    },
    {
     "name": "stderr",
     "output_type": "stream",
     "text": [
      "100%|██████████| 82/82 [01:14<00:00,  1.10it/s]\n",
      "100%|██████████| 35/35 [00:10<00:00,  3.20it/s]\n"
     ]
    },
    {
     "name": "stdout",
     "output_type": "stream",
     "text": [
      "Epoch 30/50, Train Loss: 1.4132, Train Accuracy: 0.4265, Test Loss: 1.4818, Test Accuracy: 0.4275\n",
      "Epoch 30\n"
     ]
    },
    {
     "name": "stderr",
     "output_type": "stream",
     "text": [
      "100%|██████████| 82/82 [01:14<00:00,  1.10it/s]\n",
      "100%|██████████| 35/35 [00:10<00:00,  3.20it/s]\n"
     ]
    },
    {
     "name": "stdout",
     "output_type": "stream",
     "text": [
      "Epoch 31/50, Train Loss: 1.4416, Train Accuracy: 0.4017, Test Loss: 1.6010, Test Accuracy: 0.4177\n",
      "Epoch 31\n"
     ]
    },
    {
     "name": "stderr",
     "output_type": "stream",
     "text": [
      "100%|██████████| 82/82 [01:14<00:00,  1.10it/s]\n",
      "100%|██████████| 35/35 [00:10<00:00,  3.20it/s]\n"
     ]
    },
    {
     "name": "stdout",
     "output_type": "stream",
     "text": [
      "Epoch 32/50, Train Loss: 1.4339, Train Accuracy: 0.4152, Test Loss: 1.6263, Test Accuracy: 0.3876\n",
      "Epoch 32\n"
     ]
    },
    {
     "name": "stderr",
     "output_type": "stream",
     "text": [
      "100%|██████████| 82/82 [01:14<00:00,  1.10it/s]\n",
      "100%|██████████| 35/35 [00:10<00:00,  3.20it/s]\n"
     ]
    },
    {
     "name": "stdout",
     "output_type": "stream",
     "text": [
      "Epoch 33/50, Train Loss: 1.4193, Train Accuracy: 0.4196, Test Loss: 1.4455, Test Accuracy: 0.4298\n",
      "Epoch 33\n"
     ]
    },
    {
     "name": "stderr",
     "output_type": "stream",
     "text": [
      "100%|██████████| 82/82 [01:14<00:00,  1.10it/s]\n",
      "100%|██████████| 35/35 [00:10<00:00,  3.20it/s]\n"
     ]
    },
    {
     "name": "stdout",
     "output_type": "stream",
     "text": [
      "Epoch 34/50, Train Loss: 1.4180, Train Accuracy: 0.4238, Test Loss: 1.4375, Test Accuracy: 0.4316\n",
      "Epoch 34\n"
     ]
    },
    {
     "name": "stderr",
     "output_type": "stream",
     "text": [
      "100%|██████████| 82/82 [01:14<00:00,  1.10it/s]\n",
      "100%|██████████| 35/35 [00:10<00:00,  3.20it/s]\n"
     ]
    },
    {
     "name": "stdout",
     "output_type": "stream",
     "text": [
      "Epoch 35/50, Train Loss: 1.4117, Train Accuracy: 0.4227, Test Loss: 1.4546, Test Accuracy: 0.4289\n",
      "Epoch 35\n"
     ]
    },
    {
     "name": "stderr",
     "output_type": "stream",
     "text": [
      "100%|██████████| 82/82 [01:14<00:00,  1.10it/s]\n",
      "100%|██████████| 35/35 [00:10<00:00,  3.20it/s]\n"
     ]
    },
    {
     "name": "stdout",
     "output_type": "stream",
     "text": [
      "Epoch 36/50, Train Loss: 1.4256, Train Accuracy: 0.4265, Test Loss: 1.4154, Test Accuracy: 0.4410\n",
      "Epoch 36\n"
     ]
    },
    {
     "name": "stderr",
     "output_type": "stream",
     "text": [
      "100%|██████████| 82/82 [01:14<00:00,  1.10it/s]\n",
      "100%|██████████| 35/35 [00:10<00:00,  3.20it/s]\n"
     ]
    },
    {
     "name": "stdout",
     "output_type": "stream",
     "text": [
      "Epoch 37/50, Train Loss: 1.4171, Train Accuracy: 0.4294, Test Loss: 1.4588, Test Accuracy: 0.4338\n",
      "Epoch 37\n"
     ]
    },
    {
     "name": "stderr",
     "output_type": "stream",
     "text": [
      "100%|██████████| 82/82 [01:14<00:00,  1.10it/s]\n",
      "100%|██████████| 35/35 [00:10<00:00,  3.20it/s]\n"
     ]
    },
    {
     "name": "stdout",
     "output_type": "stream",
     "text": [
      "Epoch 38/50, Train Loss: 1.4177, Train Accuracy: 0.4208, Test Loss: 1.4354, Test Accuracy: 0.4217\n",
      "Epoch 38\n"
     ]
    },
    {
     "name": "stderr",
     "output_type": "stream",
     "text": [
      "100%|██████████| 82/82 [01:14<00:00,  1.10it/s]\n",
      "100%|██████████| 35/35 [00:10<00:00,  3.20it/s]\n"
     ]
    },
    {
     "name": "stdout",
     "output_type": "stream",
     "text": [
      "Epoch 39/50, Train Loss: 1.4108, Train Accuracy: 0.4265, Test Loss: 1.4554, Test Accuracy: 0.4392\n",
      "Epoch 39\n"
     ]
    },
    {
     "name": "stderr",
     "output_type": "stream",
     "text": [
      "100%|██████████| 82/82 [01:14<00:00,  1.10it/s]\n",
      "100%|██████████| 35/35 [00:10<00:00,  3.20it/s]\n"
     ]
    },
    {
     "name": "stdout",
     "output_type": "stream",
     "text": [
      "Epoch 40/50, Train Loss: 1.4014, Train Accuracy: 0.4344, Test Loss: 1.4277, Test Accuracy: 0.4186\n",
      "Epoch 40\n"
     ]
    },
    {
     "name": "stderr",
     "output_type": "stream",
     "text": [
      "100%|██████████| 82/82 [01:14<00:00,  1.10it/s]\n",
      "100%|██████████| 35/35 [00:10<00:00,  3.20it/s]\n"
     ]
    },
    {
     "name": "stdout",
     "output_type": "stream",
     "text": [
      "Epoch 41/50, Train Loss: 1.3990, Train Accuracy: 0.4350, Test Loss: 1.4469, Test Accuracy: 0.4406\n",
      "Epoch 41\n"
     ]
    },
    {
     "name": "stderr",
     "output_type": "stream",
     "text": [
      "100%|██████████| 82/82 [01:14<00:00,  1.10it/s]\n",
      "100%|██████████| 35/35 [00:10<00:00,  3.19it/s]\n"
     ]
    },
    {
     "name": "stdout",
     "output_type": "stream",
     "text": [
      "Epoch 42/50, Train Loss: 1.4147, Train Accuracy: 0.4277, Test Loss: 1.4656, Test Accuracy: 0.4145\n",
      "Epoch 42\n"
     ]
    },
    {
     "name": "stderr",
     "output_type": "stream",
     "text": [
      "100%|██████████| 82/82 [01:14<00:00,  1.10it/s]\n",
      "100%|██████████| 35/35 [00:10<00:00,  3.19it/s]\n"
     ]
    },
    {
     "name": "stdout",
     "output_type": "stream",
     "text": [
      "Epoch 43/50, Train Loss: 1.3978, Train Accuracy: 0.4377, Test Loss: 1.4209, Test Accuracy: 0.4262\n",
      "Epoch 43\n"
     ]
    },
    {
     "name": "stderr",
     "output_type": "stream",
     "text": [
      "100%|██████████| 82/82 [01:14<00:00,  1.10it/s]\n",
      "100%|██████████| 35/35 [00:10<00:00,  3.19it/s]\n"
     ]
    },
    {
     "name": "stdout",
     "output_type": "stream",
     "text": [
      "Epoch 44/50, Train Loss: 1.3877, Train Accuracy: 0.4396, Test Loss: 1.4551, Test Accuracy: 0.4320\n",
      "Epoch 44\n"
     ]
    },
    {
     "name": "stderr",
     "output_type": "stream",
     "text": [
      "100%|██████████| 82/82 [01:14<00:00,  1.10it/s]\n",
      "100%|██████████| 35/35 [00:10<00:00,  3.19it/s]\n"
     ]
    },
    {
     "name": "stdout",
     "output_type": "stream",
     "text": [
      "Epoch 45/50, Train Loss: 1.4161, Train Accuracy: 0.4260, Test Loss: 1.4362, Test Accuracy: 0.4208\n",
      "Epoch 45\n"
     ]
    },
    {
     "name": "stderr",
     "output_type": "stream",
     "text": [
      "100%|██████████| 82/82 [01:14<00:00,  1.10it/s]\n",
      "100%|██████████| 35/35 [00:10<00:00,  3.20it/s]\n"
     ]
    },
    {
     "name": "stdout",
     "output_type": "stream",
     "text": [
      "Epoch 46/50, Train Loss: 1.4089, Train Accuracy: 0.4346, Test Loss: 1.4487, Test Accuracy: 0.4320\n",
      "Epoch 46\n"
     ]
    },
    {
     "name": "stderr",
     "output_type": "stream",
     "text": [
      "100%|██████████| 82/82 [01:14<00:00,  1.10it/s]\n",
      "100%|██████████| 35/35 [00:10<00:00,  3.20it/s]\n"
     ]
    },
    {
     "name": "stdout",
     "output_type": "stream",
     "text": [
      "Epoch 47/50, Train Loss: 1.3999, Train Accuracy: 0.4377, Test Loss: 1.4620, Test Accuracy: 0.4311\n",
      "Epoch 47\n"
     ]
    },
    {
     "name": "stderr",
     "output_type": "stream",
     "text": [
      "100%|██████████| 82/82 [01:14<00:00,  1.10it/s]\n",
      "100%|██████████| 35/35 [00:10<00:00,  3.20it/s]\n"
     ]
    },
    {
     "name": "stdout",
     "output_type": "stream",
     "text": [
      "Epoch 48/50, Train Loss: 1.4013, Train Accuracy: 0.4381, Test Loss: 1.4257, Test Accuracy: 0.4388\n",
      "Epoch 48\n"
     ]
    },
    {
     "name": "stderr",
     "output_type": "stream",
     "text": [
      "100%|██████████| 82/82 [01:14<00:00,  1.10it/s]\n",
      "100%|██████████| 35/35 [00:10<00:00,  3.20it/s]\n"
     ]
    },
    {
     "name": "stdout",
     "output_type": "stream",
     "text": [
      "Epoch 49/50, Train Loss: 1.3967, Train Accuracy: 0.4362, Test Loss: 1.4125, Test Accuracy: 0.4374\n",
      "Epoch 49\n"
     ]
    },
    {
     "name": "stderr",
     "output_type": "stream",
     "text": [
      "100%|██████████| 82/82 [01:14<00:00,  1.10it/s]\n",
      "100%|██████████| 35/35 [00:10<00:00,  3.20it/s]\n"
     ]
    },
    {
     "name": "stdout",
     "output_type": "stream",
     "text": [
      "Epoch 50/50, Train Loss: 1.3962, Train Accuracy: 0.4338, Test Loss: 1.4100, Test Accuracy: 0.4563\n",
      "\n",
      "\n",
      "Batch size: 64 lr: 0.0001\n",
      "Training ViT for \"multimodal\" pipeline ...\n",
      "------------------------------------------------\n",
      "\n",
      "Epoch 0\n"
     ]
    },
    {
     "name": "stderr",
     "output_type": "stream",
     "text": [
      "100%|██████████| 82/82 [01:14<00:00,  1.10it/s]\n",
      "100%|██████████| 35/35 [00:11<00:00,  3.16it/s]\n"
     ]
    },
    {
     "name": "stdout",
     "output_type": "stream",
     "text": [
      "Epoch 1/50, Train Loss: 1.7119, Train Accuracy: 0.2877, Test Loss: 1.4348, Test Accuracy: 0.4258\n",
      "Epoch 1\n"
     ]
    },
    {
     "name": "stderr",
     "output_type": "stream",
     "text": [
      "100%|██████████| 82/82 [01:14<00:00,  1.10it/s]\n",
      "100%|██████████| 35/35 [00:11<00:00,  3.16it/s]\n"
     ]
    },
    {
     "name": "stdout",
     "output_type": "stream",
     "text": [
      "Epoch 2/50, Train Loss: 1.3575, Train Accuracy: 0.4565, Test Loss: 1.3043, Test Accuracy: 0.5245\n",
      "Epoch 2\n"
     ]
    },
    {
     "name": "stderr",
     "output_type": "stream",
     "text": [
      "100%|██████████| 82/82 [01:14<00:00,  1.10it/s]\n",
      "100%|██████████| 35/35 [00:11<00:00,  3.16it/s]\n"
     ]
    },
    {
     "name": "stdout",
     "output_type": "stream",
     "text": [
      "Epoch 3/50, Train Loss: 1.2400, Train Accuracy: 0.5221, Test Loss: 1.4333, Test Accuracy: 0.4657\n",
      "Epoch 3\n"
     ]
    },
    {
     "name": "stderr",
     "output_type": "stream",
     "text": [
      "100%|██████████| 82/82 [01:14<00:00,  1.10it/s]\n",
      "100%|██████████| 35/35 [00:11<00:00,  3.16it/s]\n"
     ]
    },
    {
     "name": "stdout",
     "output_type": "stream",
     "text": [
      "Epoch 4/50, Train Loss: 1.2074, Train Accuracy: 0.5267, Test Loss: 1.4508, Test Accuracy: 0.5177\n",
      "Epoch 4\n"
     ]
    },
    {
     "name": "stderr",
     "output_type": "stream",
     "text": [
      "100%|██████████| 82/82 [01:14<00:00,  1.10it/s]\n",
      "100%|██████████| 35/35 [00:11<00:00,  3.14it/s]\n"
     ]
    },
    {
     "name": "stdout",
     "output_type": "stream",
     "text": [
      "Epoch 5/50, Train Loss: 1.1685, Train Accuracy: 0.5452, Test Loss: 1.2906, Test Accuracy: 0.5518\n",
      "Epoch 5\n"
     ]
    },
    {
     "name": "stderr",
     "output_type": "stream",
     "text": [
      "100%|██████████| 82/82 [01:14<00:00,  1.10it/s]\n",
      "100%|██████████| 35/35 [00:11<00:00,  3.16it/s]\n"
     ]
    },
    {
     "name": "stdout",
     "output_type": "stream",
     "text": [
      "Epoch 6/50, Train Loss: 1.1637, Train Accuracy: 0.5485, Test Loss: 1.4362, Test Accuracy: 0.5410\n",
      "Epoch 6\n"
     ]
    },
    {
     "name": "stderr",
     "output_type": "stream",
     "text": [
      "100%|██████████| 82/82 [01:14<00:00,  1.10it/s]\n",
      "100%|██████████| 35/35 [00:11<00:00,  3.16it/s]\n"
     ]
    },
    {
     "name": "stdout",
     "output_type": "stream",
     "text": [
      "Epoch 7/50, Train Loss: 1.1104, Train Accuracy: 0.5683, Test Loss: 1.3682, Test Accuracy: 0.5514\n",
      "Epoch 7\n"
     ]
    },
    {
     "name": "stderr",
     "output_type": "stream",
     "text": [
      "100%|██████████| 82/82 [01:14<00:00,  1.10it/s]\n",
      "100%|██████████| 35/35 [00:11<00:00,  3.16it/s]\n"
     ]
    },
    {
     "name": "stdout",
     "output_type": "stream",
     "text": [
      "Epoch 8/50, Train Loss: 1.1067, Train Accuracy: 0.5721, Test Loss: 1.6180, Test Accuracy: 0.4868\n",
      "Epoch 8\n"
     ]
    },
    {
     "name": "stderr",
     "output_type": "stream",
     "text": [
      "100%|██████████| 82/82 [01:14<00:00,  1.10it/s]\n",
      "100%|██████████| 35/35 [00:11<00:00,  3.16it/s]\n"
     ]
    },
    {
     "name": "stdout",
     "output_type": "stream",
     "text": [
      "Epoch 9/50, Train Loss: 1.1139, Train Accuracy: 0.5706, Test Loss: 1.3014, Test Accuracy: 0.5316\n",
      "Epoch 9\n"
     ]
    },
    {
     "name": "stderr",
     "output_type": "stream",
     "text": [
      "100%|██████████| 82/82 [01:14<00:00,  1.10it/s]\n",
      "100%|██████████| 35/35 [00:11<00:00,  3.16it/s]\n"
     ]
    },
    {
     "name": "stdout",
     "output_type": "stream",
     "text": [
      "Epoch 10/50, Train Loss: 1.0509, Train Accuracy: 0.6002, Test Loss: 1.2809, Test Accuracy: 0.5926\n",
      "Epoch 10\n"
     ]
    },
    {
     "name": "stderr",
     "output_type": "stream",
     "text": [
      "100%|██████████| 82/82 [01:14<00:00,  1.10it/s]\n",
      "100%|██████████| 35/35 [00:11<00:00,  3.16it/s]\n"
     ]
    },
    {
     "name": "stdout",
     "output_type": "stream",
     "text": [
      "Epoch 11/50, Train Loss: 1.0536, Train Accuracy: 0.5938, Test Loss: 1.3920, Test Accuracy: 0.5738\n",
      "Epoch 11\n"
     ]
    },
    {
     "name": "stderr",
     "output_type": "stream",
     "text": [
      "100%|██████████| 82/82 [01:14<00:00,  1.09it/s]\n",
      "100%|██████████| 35/35 [00:11<00:00,  3.16it/s]\n"
     ]
    },
    {
     "name": "stdout",
     "output_type": "stream",
     "text": [
      "Epoch 12/50, Train Loss: 1.0385, Train Accuracy: 0.6085, Test Loss: 1.1017, Test Accuracy: 0.5989\n",
      "Epoch 12\n"
     ]
    },
    {
     "name": "stderr",
     "output_type": "stream",
     "text": [
      "100%|██████████| 82/82 [01:14<00:00,  1.10it/s]\n",
      "100%|██████████| 35/35 [00:11<00:00,  3.16it/s]\n"
     ]
    },
    {
     "name": "stdout",
     "output_type": "stream",
     "text": [
      "Epoch 13/50, Train Loss: 1.0408, Train Accuracy: 0.6023, Test Loss: 1.1691, Test Accuracy: 0.5913\n",
      "Epoch 13\n"
     ]
    },
    {
     "name": "stderr",
     "output_type": "stream",
     "text": [
      "100%|██████████| 82/82 [01:14<00:00,  1.10it/s]\n",
      "100%|██████████| 35/35 [00:11<00:00,  3.16it/s]\n"
     ]
    },
    {
     "name": "stdout",
     "output_type": "stream",
     "text": [
      "Epoch 14/50, Train Loss: 1.0067, Train Accuracy: 0.6188, Test Loss: 1.2070, Test Accuracy: 0.5922\n",
      "Epoch 14\n"
     ]
    },
    {
     "name": "stderr",
     "output_type": "stream",
     "text": [
      "100%|██████████| 82/82 [01:14<00:00,  1.10it/s]\n",
      "100%|██████████| 35/35 [00:11<00:00,  3.16it/s]\n"
     ]
    },
    {
     "name": "stdout",
     "output_type": "stream",
     "text": [
      "Epoch 15/50, Train Loss: 0.9899, Train Accuracy: 0.6321, Test Loss: 1.2158, Test Accuracy: 0.6025\n",
      "Epoch 15\n"
     ]
    },
    {
     "name": "stderr",
     "output_type": "stream",
     "text": [
      "100%|██████████| 82/82 [01:14<00:00,  1.10it/s]\n",
      "100%|██████████| 35/35 [00:11<00:00,  3.16it/s]\n"
     ]
    },
    {
     "name": "stdout",
     "output_type": "stream",
     "text": [
      "Epoch 16/50, Train Loss: 0.9834, Train Accuracy: 0.6321, Test Loss: 1.3079, Test Accuracy: 0.6039\n",
      "Epoch 16\n"
     ]
    },
    {
     "name": "stderr",
     "output_type": "stream",
     "text": [
      "100%|██████████| 82/82 [01:14<00:00,  1.10it/s]\n",
      "100%|██████████| 35/35 [00:11<00:00,  3.16it/s]\n"
     ]
    },
    {
     "name": "stdout",
     "output_type": "stream",
     "text": [
      "Epoch 17/50, Train Loss: 0.9651, Train Accuracy: 0.6360, Test Loss: 1.3581, Test Accuracy: 0.5908\n",
      "Epoch 17\n"
     ]
    },
    {
     "name": "stderr",
     "output_type": "stream",
     "text": [
      "100%|██████████| 82/82 [01:14<00:00,  1.10it/s]\n",
      "100%|██████████| 35/35 [00:11<00:00,  3.16it/s]\n"
     ]
    },
    {
     "name": "stdout",
     "output_type": "stream",
     "text": [
      "Epoch 18/50, Train Loss: 0.9762, Train Accuracy: 0.6363, Test Loss: 1.3951, Test Accuracy: 0.5464\n",
      "Epoch 18\n"
     ]
    },
    {
     "name": "stderr",
     "output_type": "stream",
     "text": [
      "100%|██████████| 82/82 [01:14<00:00,  1.10it/s]\n",
      "100%|██████████| 35/35 [00:11<00:00,  3.16it/s]\n"
     ]
    },
    {
     "name": "stdout",
     "output_type": "stream",
     "text": [
      "Epoch 19/50, Train Loss: 0.9509, Train Accuracy: 0.6412, Test Loss: 1.2263, Test Accuracy: 0.6074\n",
      "Epoch 19\n"
     ]
    },
    {
     "name": "stderr",
     "output_type": "stream",
     "text": [
      "100%|██████████| 82/82 [01:14<00:00,  1.10it/s]\n",
      "100%|██████████| 35/35 [00:11<00:00,  3.16it/s]\n"
     ]
    },
    {
     "name": "stdout",
     "output_type": "stream",
     "text": [
      "Epoch 20/50, Train Loss: 0.9380, Train Accuracy: 0.6544, Test Loss: 1.3213, Test Accuracy: 0.6092\n",
      "Epoch 20\n"
     ]
    },
    {
     "name": "stderr",
     "output_type": "stream",
     "text": [
      "100%|██████████| 82/82 [01:14<00:00,  1.10it/s]\n",
      "100%|██████████| 35/35 [00:11<00:00,  3.14it/s]\n"
     ]
    },
    {
     "name": "stdout",
     "output_type": "stream",
     "text": [
      "Epoch 21/50, Train Loss: 0.9389, Train Accuracy: 0.6487, Test Loss: 1.6124, Test Accuracy: 0.5846\n",
      "Epoch 21\n"
     ]
    },
    {
     "name": "stderr",
     "output_type": "stream",
     "text": [
      "100%|██████████| 82/82 [01:14<00:00,  1.10it/s]\n",
      "100%|██████████| 35/35 [00:11<00:00,  3.16it/s]\n"
     ]
    },
    {
     "name": "stdout",
     "output_type": "stream",
     "text": [
      "Epoch 22/50, Train Loss: 0.9567, Train Accuracy: 0.6477, Test Loss: 1.2081, Test Accuracy: 0.6321\n",
      "Epoch 22\n"
     ]
    },
    {
     "name": "stderr",
     "output_type": "stream",
     "text": [
      "100%|██████████| 82/82 [01:14<00:00,  1.10it/s]\n",
      "100%|██████████| 35/35 [00:11<00:00,  3.16it/s]\n"
     ]
    },
    {
     "name": "stdout",
     "output_type": "stream",
     "text": [
      "Epoch 23/50, Train Loss: 0.9220, Train Accuracy: 0.6587, Test Loss: 1.3206, Test Accuracy: 0.6097\n",
      "Epoch 23\n"
     ]
    },
    {
     "name": "stderr",
     "output_type": "stream",
     "text": [
      "100%|██████████| 82/82 [01:14<00:00,  1.10it/s]\n",
      "100%|██████████| 35/35 [00:11<00:00,  3.16it/s]\n"
     ]
    },
    {
     "name": "stdout",
     "output_type": "stream",
     "text": [
      "Epoch 24/50, Train Loss: 0.9078, Train Accuracy: 0.6652, Test Loss: 1.2912, Test Accuracy: 0.5989\n",
      "Epoch 24\n"
     ]
    },
    {
     "name": "stderr",
     "output_type": "stream",
     "text": [
      "100%|██████████| 82/82 [01:14<00:00,  1.10it/s]\n",
      "100%|██████████| 35/35 [00:11<00:00,  3.16it/s]\n"
     ]
    },
    {
     "name": "stdout",
     "output_type": "stream",
     "text": [
      "Epoch 25/50, Train Loss: 0.9371, Train Accuracy: 0.6529, Test Loss: 1.3616, Test Accuracy: 0.5994\n",
      "Epoch 25\n"
     ]
    },
    {
     "name": "stderr",
     "output_type": "stream",
     "text": [
      "100%|██████████| 82/82 [01:14<00:00,  1.09it/s]\n",
      "100%|██████████| 35/35 [00:11<00:00,  3.16it/s]\n"
     ]
    },
    {
     "name": "stdout",
     "output_type": "stream",
     "text": [
      "Epoch 26/50, Train Loss: 0.9162, Train Accuracy: 0.6585, Test Loss: 1.2570, Test Accuracy: 0.6057\n",
      "Epoch 26\n"
     ]
    },
    {
     "name": "stderr",
     "output_type": "stream",
     "text": [
      "100%|██████████| 82/82 [01:14<00:00,  1.10it/s]\n",
      "100%|██████████| 35/35 [00:11<00:00,  3.16it/s]\n"
     ]
    },
    {
     "name": "stdout",
     "output_type": "stream",
     "text": [
      "Epoch 27/50, Train Loss: 0.9114, Train Accuracy: 0.6560, Test Loss: 1.4932, Test Accuracy: 0.5796\n",
      "Epoch 27\n"
     ]
    },
    {
     "name": "stderr",
     "output_type": "stream",
     "text": [
      "100%|██████████| 82/82 [01:14<00:00,  1.10it/s]\n",
      "100%|██████████| 35/35 [00:11<00:00,  3.16it/s]\n"
     ]
    },
    {
     "name": "stdout",
     "output_type": "stream",
     "text": [
      "Epoch 28/50, Train Loss: 0.9190, Train Accuracy: 0.6658, Test Loss: 1.2180, Test Accuracy: 0.6281\n",
      "Epoch 28\n"
     ]
    },
    {
     "name": "stderr",
     "output_type": "stream",
     "text": [
      "100%|██████████| 82/82 [01:14<00:00,  1.10it/s]\n",
      "100%|██████████| 35/35 [00:11<00:00,  3.15it/s]\n"
     ]
    },
    {
     "name": "stdout",
     "output_type": "stream",
     "text": [
      "Epoch 29/50, Train Loss: 0.8877, Train Accuracy: 0.6733, Test Loss: 1.2671, Test Accuracy: 0.6330\n",
      "Epoch 29\n"
     ]
    },
    {
     "name": "stderr",
     "output_type": "stream",
     "text": [
      "100%|██████████| 82/82 [01:14<00:00,  1.10it/s]\n",
      "100%|██████████| 35/35 [00:11<00:00,  3.16it/s]\n"
     ]
    },
    {
     "name": "stdout",
     "output_type": "stream",
     "text": [
      "Epoch 30/50, Train Loss: 0.8743, Train Accuracy: 0.6800, Test Loss: 1.2676, Test Accuracy: 0.6128\n",
      "Epoch 30\n"
     ]
    },
    {
     "name": "stderr",
     "output_type": "stream",
     "text": [
      "100%|██████████| 82/82 [01:14<00:00,  1.10it/s]\n",
      "100%|██████████| 35/35 [00:11<00:00,  3.16it/s]\n"
     ]
    },
    {
     "name": "stdout",
     "output_type": "stream",
     "text": [
      "Epoch 31/50, Train Loss: 0.8818, Train Accuracy: 0.6733, Test Loss: 1.4960, Test Accuracy: 0.5747\n",
      "Epoch 31\n"
     ]
    },
    {
     "name": "stderr",
     "output_type": "stream",
     "text": [
      "100%|██████████| 82/82 [01:14<00:00,  1.10it/s]\n",
      "100%|██████████| 35/35 [00:11<00:00,  3.16it/s]\n"
     ]
    },
    {
     "name": "stdout",
     "output_type": "stream",
     "text": [
      "Epoch 32/50, Train Loss: 0.8827, Train Accuracy: 0.6754, Test Loss: 1.3987, Test Accuracy: 0.6025\n",
      "Epoch 32\n"
     ]
    },
    {
     "name": "stderr",
     "output_type": "stream",
     "text": [
      "100%|██████████| 82/82 [01:14<00:00,  1.10it/s]\n",
      "100%|██████████| 35/35 [00:11<00:00,  3.16it/s]\n"
     ]
    },
    {
     "name": "stdout",
     "output_type": "stream",
     "text": [
      "Epoch 33/50, Train Loss: 0.8787, Train Accuracy: 0.6817, Test Loss: 1.3442, Test Accuracy: 0.5985\n",
      "Epoch 33\n"
     ]
    },
    {
     "name": "stderr",
     "output_type": "stream",
     "text": [
      "100%|██████████| 82/82 [01:14<00:00,  1.10it/s]\n",
      "100%|██████████| 35/35 [00:11<00:00,  3.16it/s]\n"
     ]
    },
    {
     "name": "stdout",
     "output_type": "stream",
     "text": [
      "Epoch 34/50, Train Loss: 0.8692, Train Accuracy: 0.6800, Test Loss: 1.0874, Test Accuracy: 0.6546\n",
      "Epoch 34\n"
     ]
    },
    {
     "name": "stderr",
     "output_type": "stream",
     "text": [
      "100%|██████████| 82/82 [01:14<00:00,  1.10it/s]\n",
      "100%|██████████| 35/35 [00:11<00:00,  3.16it/s]\n"
     ]
    },
    {
     "name": "stdout",
     "output_type": "stream",
     "text": [
      "Epoch 35/50, Train Loss: 0.8510, Train Accuracy: 0.6919, Test Loss: 1.3885, Test Accuracy: 0.5904\n",
      "Epoch 35\n"
     ]
    },
    {
     "name": "stderr",
     "output_type": "stream",
     "text": [
      "100%|██████████| 82/82 [01:14<00:00,  1.10it/s]\n",
      "100%|██████████| 35/35 [00:11<00:00,  3.16it/s]\n"
     ]
    },
    {
     "name": "stdout",
     "output_type": "stream",
     "text": [
      "Epoch 36/50, Train Loss: 0.8468, Train Accuracy: 0.6902, Test Loss: 1.3528, Test Accuracy: 0.6133\n",
      "Epoch 36\n"
     ]
    },
    {
     "name": "stderr",
     "output_type": "stream",
     "text": [
      "100%|██████████| 82/82 [01:14<00:00,  1.10it/s]\n",
      "100%|██████████| 35/35 [00:11<00:00,  3.16it/s]\n"
     ]
    },
    {
     "name": "stdout",
     "output_type": "stream",
     "text": [
      "Epoch 37/50, Train Loss: 0.8416, Train Accuracy: 0.6888, Test Loss: 1.4520, Test Accuracy: 0.5949\n",
      "Epoch 37\n"
     ]
    },
    {
     "name": "stderr",
     "output_type": "stream",
     "text": [
      "100%|██████████| 82/82 [01:14<00:00,  1.10it/s]\n",
      "100%|██████████| 35/35 [00:11<00:00,  3.16it/s]\n"
     ]
    },
    {
     "name": "stdout",
     "output_type": "stream",
     "text": [
      "Epoch 38/50, Train Loss: 0.8157, Train Accuracy: 0.7013, Test Loss: 1.2122, Test Accuracy: 0.6326\n",
      "Epoch 38\n"
     ]
    },
    {
     "name": "stderr",
     "output_type": "stream",
     "text": [
      "100%|██████████| 82/82 [01:14<00:00,  1.10it/s]\n",
      "100%|██████████| 35/35 [00:11<00:00,  3.16it/s]\n"
     ]
    },
    {
     "name": "stdout",
     "output_type": "stream",
     "text": [
      "Epoch 39/50, Train Loss: 0.8189, Train Accuracy: 0.7046, Test Loss: 1.2544, Test Accuracy: 0.6389\n",
      "Epoch 39\n"
     ]
    },
    {
     "name": "stderr",
     "output_type": "stream",
     "text": [
      "100%|██████████| 82/82 [01:14<00:00,  1.10it/s]\n",
      "100%|██████████| 35/35 [00:11<00:00,  3.16it/s]\n"
     ]
    },
    {
     "name": "stdout",
     "output_type": "stream",
     "text": [
      "Epoch 40/50, Train Loss: 0.8034, Train Accuracy: 0.7015, Test Loss: 1.3785, Test Accuracy: 0.6160\n",
      "Epoch 40\n"
     ]
    },
    {
     "name": "stderr",
     "output_type": "stream",
     "text": [
      "100%|██████████| 82/82 [01:14<00:00,  1.10it/s]\n",
      "100%|██████████| 35/35 [00:11<00:00,  3.16it/s]\n"
     ]
    },
    {
     "name": "stdout",
     "output_type": "stream",
     "text": [
      "Epoch 41/50, Train Loss: 0.8254, Train Accuracy: 0.7025, Test Loss: 1.1681, Test Accuracy: 0.6272\n",
      "Epoch 41\n"
     ]
    },
    {
     "name": "stderr",
     "output_type": "stream",
     "text": [
      "100%|██████████| 82/82 [01:14<00:00,  1.09it/s]\n",
      "100%|██████████| 35/35 [00:11<00:00,  3.16it/s]\n"
     ]
    },
    {
     "name": "stdout",
     "output_type": "stream",
     "text": [
      "Epoch 42/50, Train Loss: 0.7998, Train Accuracy: 0.7088, Test Loss: 1.3296, Test Accuracy: 0.6308\n",
      "Epoch 42\n"
     ]
    },
    {
     "name": "stderr",
     "output_type": "stream",
     "text": [
      "100%|██████████| 82/82 [01:14<00:00,  1.10it/s]\n",
      "100%|██████████| 35/35 [00:11<00:00,  3.16it/s]\n"
     ]
    },
    {
     "name": "stdout",
     "output_type": "stream",
     "text": [
      "Epoch 43/50, Train Loss: 0.8043, Train Accuracy: 0.7083, Test Loss: 1.2881, Test Accuracy: 0.6353\n",
      "Epoch 43\n"
     ]
    },
    {
     "name": "stderr",
     "output_type": "stream",
     "text": [
      "100%|██████████| 82/82 [01:14<00:00,  1.10it/s]\n",
      "100%|██████████| 35/35 [00:11<00:00,  3.16it/s]\n"
     ]
    },
    {
     "name": "stdout",
     "output_type": "stream",
     "text": [
      "Epoch 44/50, Train Loss: 0.7886, Train Accuracy: 0.7137, Test Loss: 1.1349, Test Accuracy: 0.6662\n",
      "Epoch 44\n"
     ]
    },
    {
     "name": "stderr",
     "output_type": "stream",
     "text": [
      "100%|██████████| 82/82 [01:14<00:00,  1.09it/s]\n",
      "100%|██████████| 35/35 [00:11<00:00,  3.16it/s]\n"
     ]
    },
    {
     "name": "stdout",
     "output_type": "stream",
     "text": [
      "Epoch 45/50, Train Loss: 0.7822, Train Accuracy: 0.7115, Test Loss: 1.1549, Test Accuracy: 0.6555\n",
      "Epoch 45\n"
     ]
    },
    {
     "name": "stderr",
     "output_type": "stream",
     "text": [
      "100%|██████████| 82/82 [01:14<00:00,  1.10it/s]\n",
      "100%|██████████| 35/35 [00:11<00:00,  3.15it/s]\n"
     ]
    },
    {
     "name": "stdout",
     "output_type": "stream",
     "text": [
      "Epoch 46/50, Train Loss: 0.7849, Train Accuracy: 0.7156, Test Loss: 1.2495, Test Accuracy: 0.6092\n",
      "Epoch 46\n"
     ]
    },
    {
     "name": "stderr",
     "output_type": "stream",
     "text": [
      "100%|██████████| 82/82 [01:14<00:00,  1.10it/s]\n",
      "100%|██████████| 35/35 [00:11<00:00,  3.15it/s]\n"
     ]
    },
    {
     "name": "stdout",
     "output_type": "stream",
     "text": [
      "Epoch 47/50, Train Loss: 0.7566, Train Accuracy: 0.7231, Test Loss: 1.1244, Test Accuracy: 0.6474\n",
      "Epoch 47\n"
     ]
    },
    {
     "name": "stderr",
     "output_type": "stream",
     "text": [
      "100%|██████████| 82/82 [01:14<00:00,  1.10it/s]\n",
      "100%|██████████| 35/35 [00:11<00:00,  3.15it/s]\n"
     ]
    },
    {
     "name": "stdout",
     "output_type": "stream",
     "text": [
      "Epoch 48/50, Train Loss: 0.7801, Train Accuracy: 0.7127, Test Loss: 1.2639, Test Accuracy: 0.6182\n",
      "Epoch 48\n"
     ]
    },
    {
     "name": "stderr",
     "output_type": "stream",
     "text": [
      "100%|██████████| 82/82 [01:14<00:00,  1.09it/s]\n",
      "100%|██████████| 35/35 [00:11<00:00,  3.14it/s]\n"
     ]
    },
    {
     "name": "stdout",
     "output_type": "stream",
     "text": [
      "Epoch 49/50, Train Loss: 0.7532, Train Accuracy: 0.7213, Test Loss: 1.1071, Test Accuracy: 0.6550\n",
      "Epoch 49\n"
     ]
    },
    {
     "name": "stderr",
     "output_type": "stream",
     "text": [
      "100%|██████████| 82/82 [01:15<00:00,  1.09it/s]\n",
      "100%|██████████| 35/35 [00:11<00:00,  3.15it/s]\n"
     ]
    },
    {
     "name": "stdout",
     "output_type": "stream",
     "text": [
      "Epoch 50/50, Train Loss: 0.7455, Train Accuracy: 0.7265, Test Loss: 1.2564, Test Accuracy: 0.6586\n"
     ]
    }
   ],
   "source": [
    "# Train ViT\n",
    "scores = {}\n",
    "for _m in _modality:\n",
    "  train_loss, train_accuracy, test_loss, test_accuracy = train_ViT(_m)\n",
    "  scores[_m] = [train_loss, train_accuracy, test_loss, test_accuracy]"
   ]
  },
  {
   "cell_type": "code",
   "execution_count": 28,
   "metadata": {
    "id": "XNOX2sOP0E3j"
   },
   "outputs": [
    {
     "name": "stdout",
     "output_type": "stream",
     "text": [
      "\n",
      "Results\n",
      "---------------\n",
      "\n",
      "Modality: visual, Train Loss: 0.9301, Train Accuracy: 0.6358, Test Loss: 1.4435, Test Accuracy: 0.5419\n",
      "Modality: audio, Train Loss: 1.3962, Train Accuracy: 0.4338, Test Loss: 1.4100, Test Accuracy: 0.4563\n",
      "Modality: multimodal, Train Loss: 0.7455, Train Accuracy: 0.7265, Test Loss: 1.2564, Test Accuracy: 0.6586\n"
     ]
    }
   ],
   "source": [
    "# Print results\n",
    "print(\"\\nResults\\n---------------\\n\")\n",
    "for _m, val in scores.items():\n",
    "  print(f\"Modality: {_m}, Train Loss: {val[0]:.4f}, Train Accuracy: {val[1]:.4f}, Test Loss: {val[2]:.4f}, Test Accuracy: {val[3]:.4f}\")"
   ]
  },
  {
   "cell_type": "code",
   "execution_count": 29,
   "metadata": {
    "id": "XzFnQhXhmCiI"
   },
   "outputs": [
    {
     "name": "stdout",
     "output_type": "stream",
     "text": [
      "Fin\n"
     ]
    }
   ],
   "source": [
    "print(\"Fin\")"
   ]
  },
  {
   "cell_type": "code",
   "execution_count": null,
   "metadata": {},
   "outputs": [],
   "source": []
  }
 ],
 "metadata": {
  "accelerator": "GPU",
  "colab": {
   "gpuType": "T4",
   "provenance": []
  },
  "kernelspec": {
   "display_name": "Python 3.12.2 (default)",
   "language": "python",
   "name": "python3"
  },
  "language_info": {
   "codemirror_mode": {
    "name": "ipython",
    "version": 3
   },
   "file_extension": ".py",
   "mimetype": "text/x-python",
   "name": "python",
   "nbconvert_exporter": "python",
   "pygments_lexer": "ipython3",
   "version": "3.12.2"
  }
 },
 "nbformat": 4,
 "nbformat_minor": 4
}
