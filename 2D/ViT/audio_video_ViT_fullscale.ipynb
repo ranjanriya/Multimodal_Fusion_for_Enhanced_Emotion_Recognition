{
 "cells": [
  {
   "cell_type": "markdown",
   "metadata": {
    "id": "b7puxPzEh6Qt"
   },
   "source": [
    "#### Mount GDrive"
   ]
  },
  {
   "cell_type": "markdown",
   "metadata": {
    "id": "Q6YUcijajDEN"
   },
   "source": [
    "#### Unzip Data from GDrive"
   ]
  },
  {
   "cell_type": "code",
   "execution_count": 4,
   "metadata": {},
   "outputs": [],
   "source": [
    "import zipfile\n",
    "with zipfile.ZipFile(\"Videos7439.zip\",\"r\") as zip_ref:\n",
    "    zip_ref.extractall(\"\")"
   ]
  },
  {
   "cell_type": "code",
   "execution_count": 5,
   "metadata": {},
   "outputs": [],
   "source": [
    "import zipfile\n",
    "with zipfile.ZipFile(\"Spectrograms7439.zip\",\"r\") as zip_ref:\n",
    "    zip_ref.extractall(\"\")"
   ]
  },
  {
   "cell_type": "markdown",
   "metadata": {
    "id": "qNn5eCFcCPyu"
   },
   "source": [
    "#### Check the number of video files"
   ]
  },
  {
   "cell_type": "code",
   "execution_count": 1,
   "metadata": {
    "colab": {
     "base_uri": "https://localhost:8080/"
    },
    "id": "h_SEe2eQ2l5H",
    "outputId": "2c0bcfcb-3960-4c7d-9b77-9bc62400f464"
   },
   "outputs": [
    {
     "name": "stdout",
     "output_type": "stream",
     "text": [
      "7439\n"
     ]
    }
   ],
   "source": [
    "!ls 'Videos7439' | wc -l"
   ]
  },
  {
   "cell_type": "markdown",
   "metadata": {
    "id": "VijEs9d_CSdf"
   },
   "source": [
    "#### Check the number of spectrogram files"
   ]
  },
  {
   "cell_type": "code",
   "execution_count": 2,
   "metadata": {
    "colab": {
     "base_uri": "https://localhost:8080/"
    },
    "id": "g3tDAXzj2vKr",
    "outputId": "005ac39a-b5cc-4ec9-cfcb-09f40855003d"
   },
   "outputs": [
    {
     "name": "stdout",
     "output_type": "stream",
     "text": [
      "7439\n"
     ]
    }
   ],
   "source": [
    "!ls 'Spectrograms7439' | wc -l"
   ]
  },
  {
   "cell_type": "markdown",
   "metadata": {
    "id": "ieNy3uK4CVUA"
   },
   "source": [
    "#### Assign video and spectrogram directories"
   ]
  },
  {
   "cell_type": "code",
   "execution_count": 3,
   "metadata": {
    "id": "adMqPLKu2koa"
   },
   "outputs": [],
   "source": [
    "videos_folder = 'Videos7439'\n",
    "spectrograms_folder = 'Spectrograms7439'"
   ]
  },
  {
   "cell_type": "markdown",
   "metadata": {
    "id": "6OXsJTX1CfG-"
   },
   "source": [
    "#### Install some CV libraries"
   ]
  },
  {
   "cell_type": "code",
   "execution_count": 10,
   "metadata": {
    "colab": {
     "base_uri": "https://localhost:8080/",
     "height": 1000
    },
    "id": "fos4gtTU4qM5",
    "outputId": "c822c91a-271a-4936-b02b-0434f89605ef",
    "scrolled": true
   },
   "outputs": [
    {
     "name": "stdout",
     "output_type": "stream",
     "text": [
      "Defaulting to user installation because normal site-packages is not writeable\n",
      "Requirement already satisfied: einops in /home1/aashiarv/.local/lib/python3.12/site-packages (0.7.0)\n",
      "Note: you may need to restart the kernel to use updated packages.\n"
     ]
    }
   ],
   "source": [
    "pip install einops"
   ]
  },
  {
   "cell_type": "code",
   "execution_count": 11,
   "metadata": {
    "scrolled": true
   },
   "outputs": [
    {
     "name": "stdout",
     "output_type": "stream",
     "text": [
      "Defaulting to user installation because normal site-packages is not writeable\n",
      "Requirement already satisfied: facenet-pytorch in /home1/aashiarv/.local/lib/python3.12/site-packages (2.5.3)\n",
      "Requirement already satisfied: numpy in /home1/aashiarv/.local/lib/python3.12/site-packages (from facenet-pytorch) (1.26.4)\n",
      "Requirement already satisfied: requests in /spack/conda/envs/ood-jupyterlab-4.1/lib/python3.12/site-packages (from facenet-pytorch) (2.31.0)\n",
      "Requirement already satisfied: torchvision in /home1/aashiarv/.local/lib/python3.12/site-packages (from facenet-pytorch) (0.17.2)\n",
      "Requirement already satisfied: pillow in /home1/aashiarv/.local/lib/python3.12/site-packages (from facenet-pytorch) (10.3.0)\n",
      "Requirement already satisfied: charset-normalizer<4,>=2 in /spack/conda/envs/ood-jupyterlab-4.1/lib/python3.12/site-packages (from requests->facenet-pytorch) (3.3.2)\n",
      "Requirement already satisfied: idna<4,>=2.5 in /spack/conda/envs/ood-jupyterlab-4.1/lib/python3.12/site-packages (from requests->facenet-pytorch) (3.6)\n",
      "Requirement already satisfied: urllib3<3,>=1.21.1 in /spack/conda/envs/ood-jupyterlab-4.1/lib/python3.12/site-packages (from requests->facenet-pytorch) (2.2.1)\n",
      "Requirement already satisfied: certifi>=2017.4.17 in /spack/conda/envs/ood-jupyterlab-4.1/lib/python3.12/site-packages (from requests->facenet-pytorch) (2024.2.2)\n",
      "Requirement already satisfied: torch==2.2.2 in /home1/aashiarv/.local/lib/python3.12/site-packages (from torchvision->facenet-pytorch) (2.2.2)\n",
      "Requirement already satisfied: filelock in /home1/aashiarv/.local/lib/python3.12/site-packages (from torch==2.2.2->torchvision->facenet-pytorch) (3.13.4)\n",
      "Requirement already satisfied: typing-extensions>=4.8.0 in /spack/conda/envs/ood-jupyterlab-4.1/lib/python3.12/site-packages (from torch==2.2.2->torchvision->facenet-pytorch) (4.10.0)\n",
      "Requirement already satisfied: sympy in /home1/aashiarv/.local/lib/python3.12/site-packages (from torch==2.2.2->torchvision->facenet-pytorch) (1.12)\n",
      "Requirement already satisfied: networkx in /home1/aashiarv/.local/lib/python3.12/site-packages (from torch==2.2.2->torchvision->facenet-pytorch) (3.3)\n",
      "Requirement already satisfied: jinja2 in /spack/conda/envs/ood-jupyterlab-4.1/lib/python3.12/site-packages (from torch==2.2.2->torchvision->facenet-pytorch) (3.1.3)\n",
      "Requirement already satisfied: fsspec in /home1/aashiarv/.local/lib/python3.12/site-packages (from torch==2.2.2->torchvision->facenet-pytorch) (2024.3.1)\n",
      "Requirement already satisfied: nvidia-cuda-nvrtc-cu12==12.1.105 in /home1/aashiarv/.local/lib/python3.12/site-packages (from torch==2.2.2->torchvision->facenet-pytorch) (12.1.105)\n",
      "Requirement already satisfied: nvidia-cuda-runtime-cu12==12.1.105 in /home1/aashiarv/.local/lib/python3.12/site-packages (from torch==2.2.2->torchvision->facenet-pytorch) (12.1.105)\n",
      "Requirement already satisfied: nvidia-cuda-cupti-cu12==12.1.105 in /home1/aashiarv/.local/lib/python3.12/site-packages (from torch==2.2.2->torchvision->facenet-pytorch) (12.1.105)\n",
      "Requirement already satisfied: nvidia-cudnn-cu12==8.9.2.26 in /home1/aashiarv/.local/lib/python3.12/site-packages (from torch==2.2.2->torchvision->facenet-pytorch) (8.9.2.26)\n",
      "Requirement already satisfied: nvidia-cublas-cu12==12.1.3.1 in /home1/aashiarv/.local/lib/python3.12/site-packages (from torch==2.2.2->torchvision->facenet-pytorch) (12.1.3.1)\n",
      "Requirement already satisfied: nvidia-cufft-cu12==11.0.2.54 in /home1/aashiarv/.local/lib/python3.12/site-packages (from torch==2.2.2->torchvision->facenet-pytorch) (11.0.2.54)\n",
      "Requirement already satisfied: nvidia-curand-cu12==10.3.2.106 in /home1/aashiarv/.local/lib/python3.12/site-packages (from torch==2.2.2->torchvision->facenet-pytorch) (10.3.2.106)\n",
      "Requirement already satisfied: nvidia-cusolver-cu12==11.4.5.107 in /home1/aashiarv/.local/lib/python3.12/site-packages (from torch==2.2.2->torchvision->facenet-pytorch) (11.4.5.107)\n",
      "Requirement already satisfied: nvidia-cusparse-cu12==12.1.0.106 in /home1/aashiarv/.local/lib/python3.12/site-packages (from torch==2.2.2->torchvision->facenet-pytorch) (12.1.0.106)\n",
      "Requirement already satisfied: nvidia-nccl-cu12==2.19.3 in /home1/aashiarv/.local/lib/python3.12/site-packages (from torch==2.2.2->torchvision->facenet-pytorch) (2.19.3)\n",
      "Requirement already satisfied: nvidia-nvtx-cu12==12.1.105 in /home1/aashiarv/.local/lib/python3.12/site-packages (from torch==2.2.2->torchvision->facenet-pytorch) (12.1.105)\n",
      "Requirement already satisfied: nvidia-nvjitlink-cu12 in /home1/aashiarv/.local/lib/python3.12/site-packages (from nvidia-cusolver-cu12==11.4.5.107->torch==2.2.2->torchvision->facenet-pytorch) (12.4.127)\n",
      "Requirement already satisfied: MarkupSafe>=2.0 in /spack/conda/envs/ood-jupyterlab-4.1/lib/python3.12/site-packages (from jinja2->torch==2.2.2->torchvision->facenet-pytorch) (2.1.5)\n",
      "Requirement already satisfied: mpmath>=0.19 in /home1/aashiarv/.local/lib/python3.12/site-packages (from sympy->torch==2.2.2->torchvision->facenet-pytorch) (1.3.0)\n",
      "Note: you may need to restart the kernel to use updated packages.\n"
     ]
    }
   ],
   "source": [
    "pip install facenet-pytorch\n"
   ]
  },
  {
   "cell_type": "code",
   "execution_count": 13,
   "metadata": {},
   "outputs": [
    {
     "name": "stdout",
     "output_type": "stream",
     "text": [
      "Defaulting to user installation because normal site-packages is not writeable\n",
      "Requirement already satisfied: face_alignment in /home1/aashiarv/.local/lib/python3.12/site-packages (1.4.1)\n",
      "Requirement already satisfied: torch in /home1/aashiarv/.local/lib/python3.12/site-packages (from face_alignment) (2.2.2)\n",
      "Requirement already satisfied: numpy in /home1/aashiarv/.local/lib/python3.12/site-packages (from face_alignment) (1.26.4)\n",
      "Requirement already satisfied: scipy>=0.17 in /home1/aashiarv/.local/lib/python3.12/site-packages (from face_alignment) (1.13.0)\n",
      "Requirement already satisfied: scikit-image in /home1/aashiarv/.local/lib/python3.12/site-packages (from face_alignment) (0.23.1)\n",
      "Requirement already satisfied: opencv-python in /home1/aashiarv/.local/lib/python3.12/site-packages (from face_alignment) (4.9.0.80)\n",
      "Requirement already satisfied: tqdm in /home1/aashiarv/.local/lib/python3.12/site-packages (from face_alignment) (4.66.2)\n",
      "Requirement already satisfied: numba in /home1/aashiarv/.local/lib/python3.12/site-packages (from face_alignment) (0.59.1)\n",
      "Requirement already satisfied: llvmlite<0.43,>=0.42.0dev0 in /home1/aashiarv/.local/lib/python3.12/site-packages (from numba->face_alignment) (0.42.0)\n",
      "Requirement already satisfied: networkx>=2.8 in /home1/aashiarv/.local/lib/python3.12/site-packages (from scikit-image->face_alignment) (3.3)\n",
      "Requirement already satisfied: pillow>=9.1 in /home1/aashiarv/.local/lib/python3.12/site-packages (from scikit-image->face_alignment) (10.3.0)\n",
      "Requirement already satisfied: imageio>=2.33 in /home1/aashiarv/.local/lib/python3.12/site-packages (from scikit-image->face_alignment) (2.34.0)\n",
      "Requirement already satisfied: tifffile>=2022.8.12 in /home1/aashiarv/.local/lib/python3.12/site-packages (from scikit-image->face_alignment) (2024.2.12)\n",
      "Requirement already satisfied: packaging>=21 in /spack/conda/envs/ood-jupyterlab-4.1/lib/python3.12/site-packages (from scikit-image->face_alignment) (24.0)\n",
      "Requirement already satisfied: lazy-loader>=0.4 in /home1/aashiarv/.local/lib/python3.12/site-packages (from scikit-image->face_alignment) (0.4)\n",
      "Requirement already satisfied: filelock in /home1/aashiarv/.local/lib/python3.12/site-packages (from torch->face_alignment) (3.13.4)\n",
      "Requirement already satisfied: typing-extensions>=4.8.0 in /spack/conda/envs/ood-jupyterlab-4.1/lib/python3.12/site-packages (from torch->face_alignment) (4.10.0)\n",
      "Requirement already satisfied: sympy in /home1/aashiarv/.local/lib/python3.12/site-packages (from torch->face_alignment) (1.12)\n",
      "Requirement already satisfied: jinja2 in /spack/conda/envs/ood-jupyterlab-4.1/lib/python3.12/site-packages (from torch->face_alignment) (3.1.3)\n",
      "Requirement already satisfied: fsspec in /home1/aashiarv/.local/lib/python3.12/site-packages (from torch->face_alignment) (2024.3.1)\n",
      "Requirement already satisfied: nvidia-cuda-nvrtc-cu12==12.1.105 in /home1/aashiarv/.local/lib/python3.12/site-packages (from torch->face_alignment) (12.1.105)\n",
      "Requirement already satisfied: nvidia-cuda-runtime-cu12==12.1.105 in /home1/aashiarv/.local/lib/python3.12/site-packages (from torch->face_alignment) (12.1.105)\n",
      "Requirement already satisfied: nvidia-cuda-cupti-cu12==12.1.105 in /home1/aashiarv/.local/lib/python3.12/site-packages (from torch->face_alignment) (12.1.105)\n",
      "Requirement already satisfied: nvidia-cudnn-cu12==8.9.2.26 in /home1/aashiarv/.local/lib/python3.12/site-packages (from torch->face_alignment) (8.9.2.26)\n",
      "Requirement already satisfied: nvidia-cublas-cu12==12.1.3.1 in /home1/aashiarv/.local/lib/python3.12/site-packages (from torch->face_alignment) (12.1.3.1)\n",
      "Requirement already satisfied: nvidia-cufft-cu12==11.0.2.54 in /home1/aashiarv/.local/lib/python3.12/site-packages (from torch->face_alignment) (11.0.2.54)\n",
      "Requirement already satisfied: nvidia-curand-cu12==10.3.2.106 in /home1/aashiarv/.local/lib/python3.12/site-packages (from torch->face_alignment) (10.3.2.106)\n",
      "Requirement already satisfied: nvidia-cusolver-cu12==11.4.5.107 in /home1/aashiarv/.local/lib/python3.12/site-packages (from torch->face_alignment) (11.4.5.107)\n",
      "Requirement already satisfied: nvidia-cusparse-cu12==12.1.0.106 in /home1/aashiarv/.local/lib/python3.12/site-packages (from torch->face_alignment) (12.1.0.106)\n",
      "Requirement already satisfied: nvidia-nccl-cu12==2.19.3 in /home1/aashiarv/.local/lib/python3.12/site-packages (from torch->face_alignment) (2.19.3)\n",
      "Requirement already satisfied: nvidia-nvtx-cu12==12.1.105 in /home1/aashiarv/.local/lib/python3.12/site-packages (from torch->face_alignment) (12.1.105)\n",
      "Requirement already satisfied: nvidia-nvjitlink-cu12 in /home1/aashiarv/.local/lib/python3.12/site-packages (from nvidia-cusolver-cu12==11.4.5.107->torch->face_alignment) (12.4.127)\n",
      "Requirement already satisfied: MarkupSafe>=2.0 in /spack/conda/envs/ood-jupyterlab-4.1/lib/python3.12/site-packages (from jinja2->torch->face_alignment) (2.1.5)\n",
      "Requirement already satisfied: mpmath>=0.19 in /home1/aashiarv/.local/lib/python3.12/site-packages (from sympy->torch->face_alignment) (1.3.0)\n",
      "Note: you may need to restart the kernel to use updated packages.\n"
     ]
    }
   ],
   "source": [
    "pip install face_alignment"
   ]
  },
  {
   "cell_type": "code",
   "execution_count": 14,
   "metadata": {},
   "outputs": [
    {
     "name": "stdout",
     "output_type": "stream",
     "text": [
      "Defaulting to user installation because normal site-packages is not writeable\n",
      "Requirement already satisfied: self_attention_cv in /home1/aashiarv/.local/lib/python3.12/site-packages (1.2.3)\n",
      "Requirement already satisfied: torch>=1.7 in /home1/aashiarv/.local/lib/python3.12/site-packages (from self_attention_cv) (2.2.2)\n",
      "Requirement already satisfied: torchvision>=0.8 in /home1/aashiarv/.local/lib/python3.12/site-packages (from self_attention_cv) (0.17.2)\n",
      "Requirement already satisfied: einops>=0.3 in /home1/aashiarv/.local/lib/python3.12/site-packages (from self_attention_cv) (0.7.0)\n",
      "Requirement already satisfied: numpy>=1.19 in /home1/aashiarv/.local/lib/python3.12/site-packages (from self_attention_cv) (1.26.4)\n",
      "Requirement already satisfied: pytest>=6.2 in /home1/aashiarv/.local/lib/python3.12/site-packages (from self_attention_cv) (8.1.1)\n",
      "Requirement already satisfied: iniconfig in /home1/aashiarv/.local/lib/python3.12/site-packages (from pytest>=6.2->self_attention_cv) (2.0.0)\n",
      "Requirement already satisfied: packaging in /spack/conda/envs/ood-jupyterlab-4.1/lib/python3.12/site-packages (from pytest>=6.2->self_attention_cv) (24.0)\n",
      "Requirement already satisfied: pluggy<2.0,>=1.4 in /home1/aashiarv/.local/lib/python3.12/site-packages (from pytest>=6.2->self_attention_cv) (1.4.0)\n",
      "Requirement already satisfied: filelock in /home1/aashiarv/.local/lib/python3.12/site-packages (from torch>=1.7->self_attention_cv) (3.13.4)\n",
      "Requirement already satisfied: typing-extensions>=4.8.0 in /spack/conda/envs/ood-jupyterlab-4.1/lib/python3.12/site-packages (from torch>=1.7->self_attention_cv) (4.10.0)\n",
      "Requirement already satisfied: sympy in /home1/aashiarv/.local/lib/python3.12/site-packages (from torch>=1.7->self_attention_cv) (1.12)\n",
      "Requirement already satisfied: networkx in /home1/aashiarv/.local/lib/python3.12/site-packages (from torch>=1.7->self_attention_cv) (3.3)\n",
      "Requirement already satisfied: jinja2 in /spack/conda/envs/ood-jupyterlab-4.1/lib/python3.12/site-packages (from torch>=1.7->self_attention_cv) (3.1.3)\n",
      "Requirement already satisfied: fsspec in /home1/aashiarv/.local/lib/python3.12/site-packages (from torch>=1.7->self_attention_cv) (2024.3.1)\n",
      "Requirement already satisfied: nvidia-cuda-nvrtc-cu12==12.1.105 in /home1/aashiarv/.local/lib/python3.12/site-packages (from torch>=1.7->self_attention_cv) (12.1.105)\n",
      "Requirement already satisfied: nvidia-cuda-runtime-cu12==12.1.105 in /home1/aashiarv/.local/lib/python3.12/site-packages (from torch>=1.7->self_attention_cv) (12.1.105)\n",
      "Requirement already satisfied: nvidia-cuda-cupti-cu12==12.1.105 in /home1/aashiarv/.local/lib/python3.12/site-packages (from torch>=1.7->self_attention_cv) (12.1.105)\n",
      "Requirement already satisfied: nvidia-cudnn-cu12==8.9.2.26 in /home1/aashiarv/.local/lib/python3.12/site-packages (from torch>=1.7->self_attention_cv) (8.9.2.26)\n",
      "Requirement already satisfied: nvidia-cublas-cu12==12.1.3.1 in /home1/aashiarv/.local/lib/python3.12/site-packages (from torch>=1.7->self_attention_cv) (12.1.3.1)\n",
      "Requirement already satisfied: nvidia-cufft-cu12==11.0.2.54 in /home1/aashiarv/.local/lib/python3.12/site-packages (from torch>=1.7->self_attention_cv) (11.0.2.54)\n",
      "Requirement already satisfied: nvidia-curand-cu12==10.3.2.106 in /home1/aashiarv/.local/lib/python3.12/site-packages (from torch>=1.7->self_attention_cv) (10.3.2.106)\n",
      "Requirement already satisfied: nvidia-cusolver-cu12==11.4.5.107 in /home1/aashiarv/.local/lib/python3.12/site-packages (from torch>=1.7->self_attention_cv) (11.4.5.107)\n",
      "Requirement already satisfied: nvidia-cusparse-cu12==12.1.0.106 in /home1/aashiarv/.local/lib/python3.12/site-packages (from torch>=1.7->self_attention_cv) (12.1.0.106)\n",
      "Requirement already satisfied: nvidia-nccl-cu12==2.19.3 in /home1/aashiarv/.local/lib/python3.12/site-packages (from torch>=1.7->self_attention_cv) (2.19.3)\n",
      "Requirement already satisfied: nvidia-nvtx-cu12==12.1.105 in /home1/aashiarv/.local/lib/python3.12/site-packages (from torch>=1.7->self_attention_cv) (12.1.105)\n",
      "Requirement already satisfied: nvidia-nvjitlink-cu12 in /home1/aashiarv/.local/lib/python3.12/site-packages (from nvidia-cusolver-cu12==11.4.5.107->torch>=1.7->self_attention_cv) (12.4.127)\n",
      "Requirement already satisfied: pillow!=8.3.*,>=5.3.0 in /home1/aashiarv/.local/lib/python3.12/site-packages (from torchvision>=0.8->self_attention_cv) (10.3.0)\n",
      "Requirement already satisfied: MarkupSafe>=2.0 in /spack/conda/envs/ood-jupyterlab-4.1/lib/python3.12/site-packages (from jinja2->torch>=1.7->self_attention_cv) (2.1.5)\n",
      "Requirement already satisfied: mpmath>=0.19 in /home1/aashiarv/.local/lib/python3.12/site-packages (from sympy->torch>=1.7->self_attention_cv) (1.3.0)\n",
      "Note: you may need to restart the kernel to use updated packages.\n"
     ]
    }
   ],
   "source": [
    "pip install self_attention_cv"
   ]
  },
  {
   "cell_type": "markdown",
   "metadata": {
    "id": "vD1hVNvmClgX"
   },
   "source": [
    "#### Import libraries"
   ]
  },
  {
   "cell_type": "code",
   "execution_count": 4,
   "metadata": {
    "colab": {
     "base_uri": "https://localhost:8080/",
     "height": 384
    },
    "id": "0UY1RHcZ4YNw",
    "outputId": "ab2de6cc-466f-4371-a98b-e152ee0f2818"
   },
   "outputs": [
    {
     "name": "stderr",
     "output_type": "stream",
     "text": [
      "/home1/aashiarv/.local/lib/python3.12/site-packages/tqdm/auto.py:21: TqdmWarning: IProgress not found. Please update jupyter and ipywidgets. See https://ipywidgets.readthedocs.io/en/stable/user_install.html\n",
      "  from .autonotebook import tqdm as notebook_tqdm\n"
     ]
    }
   ],
   "source": [
    "import cv2\n",
    "import os\n",
    "import sys\n",
    "import torch\n",
    "import torch.nn as nn\n",
    "import torch.optim as optim\n",
    "import torchvision.transforms as transforms\n",
    "from torchvision import models\n",
    "from PIL import Image\n",
    "from einops.layers.torch import Rearrange\n",
    "from einops import rearrange\n",
    "from facenet_pytorch import MTCNN\n",
    "from self_attention_cv import TransformerEncoder\n",
    "from sklearn.model_selection import train_test_split\n",
    "import numpy as np\n",
    "from tqdm import tqdm\n",
    "import face_alignment\n",
    "import requests"
   ]
  },
  {
   "cell_type": "markdown",
   "metadata": {
    "id": "CGcSBK2ZNeiK"
   },
   "source": [
    "#### Data Pre-processing"
   ]
  },
  {
   "cell_type": "code",
   "execution_count": 5,
   "metadata": {
    "id": "NiWEWAOF6b-S"
   },
   "outputs": [],
   "source": [
    "def extract_frame(video_path):\n",
    "    cap = cv2.VideoCapture(video_path)\n",
    "    frame_count = int(cap.get(cv2.CAP_PROP_FRAME_COUNT))\n",
    "    fps = cap.get(cv2.CAP_PROP_FPS)\n",
    "    mid_frame_index = frame_count // 2  # Index of the frame in the middle of the video\n",
    "    cap.set(cv2.CAP_PROP_POS_FRAMES, mid_frame_index)\n",
    "    ret, frame = cap.read()\n",
    "    if ret:\n",
    "        cap.release()\n",
    "        return frame\n",
    "    else:\n",
    "        cap.release()\n",
    "        return None"
   ]
  },
  {
   "cell_type": "code",
   "execution_count": 6,
   "metadata": {
    "id": "l37ccKkO6cvt"
   },
   "outputs": [],
   "source": [
    "def detect_face(frame):\n",
    "    mtcnn = MTCNN()\n",
    "    boxes, _ = mtcnn.detect(frame)\n",
    "    if boxes is not None:\n",
    "        # Assuming only one face in the frame\n",
    "        box = boxes[0]\n",
    "        x1, y1, x2, y2 = box\n",
    "        # Crop the frame to the detected face\n",
    "        cropped_frame = frame[int(y1):int(y2), int(x1):int(x2)]\n",
    "        return cropped_frame\n",
    "    else:\n",
    "        return None"
   ]
  },
  {
   "cell_type": "code",
   "execution_count": 7,
   "metadata": {
    "id": "wYOMbbU975Fm"
   },
   "outputs": [],
   "source": [
    "# Define the preprocessing functions for video frames and spectrograms\n",
    "def preprocess_image(frame):\n",
    "    frame_pil = Image.fromarray(frame.astype('uint8'))\n",
    "    frame_pil = frame_pil.convert('L')  # Convert to grayscale\n",
    "    transform = transforms.Compose([\n",
    "        transforms.Resize((224, 224)),\n",
    "        transforms.ToTensor(),\n",
    "        transforms.Normalize(mean=[0.485], std=[0.229]),  # Normalize using ImageNet mean and std\n",
    "    ])\n",
    "    frame_tensor = transform(frame_pil)\n",
    "    return frame_tensor"
   ]
  },
  {
   "cell_type": "code",
   "execution_count": 8,
   "metadata": {
    "id": "BkbbyV3a-Bax"
   },
   "outputs": [],
   "source": [
    "def preprocess_spectrogram(image_path):\n",
    "    img = Image.open(image_path).convert('L')  # Convert to grayscale\n",
    "    transform = transforms.Compose([\n",
    "        transforms.Resize((224, 224)),  # Resize to match ViT input size\n",
    "        transforms.ToTensor(),           # Convert to tensor\n",
    "    ])\n",
    "    img_tensor = transform(img)\n",
    "    return img_tensor"
   ]
  },
  {
   "cell_type": "code",
   "execution_count": 9,
   "metadata": {
    "id": "n4Xum7nf6lfg"
   },
   "outputs": [],
   "source": [
    "def load_dataset(videos_folder):\n",
    "    X = []\n",
    "    y = []\n",
    "    skipped_files = []\n",
    "    video_files = [file for file in sorted(os.listdir(videos_folder)) if file.endswith(\".flv\")]\n",
    "    for video_file in tqdm(video_files):\n",
    "        video_path = os.path.join(videos_folder, video_file)\n",
    "        frame = extract_frame(video_path)\n",
    "        if frame is not None:\n",
    "            cropped_face = detect_face(frame)\n",
    "            if cropped_face is not None:\n",
    "                preprocessed_face = preprocess_image(cropped_face)\n",
    "                X.append(preprocessed_face)\n",
    "                label = video_file.split(\"_\")[2].split(\".\")[0]  # Adjusted to handle different file extensions\n",
    "                if label == \"HAP\":\n",
    "                    y.append(0)\n",
    "                elif label == \"SAD\":\n",
    "                    y.append(1)\n",
    "                elif label == \"ANG\":\n",
    "                    y.append(2)\n",
    "                elif label == \"DIS\":\n",
    "                    y.append(3)\n",
    "                elif label == \"FEA\":\n",
    "                    y.append(4)\n",
    "                elif label == \"NEU\":\n",
    "                    y.append(5)\n",
    "            else:\n",
    "                print(f\"No face detected in {video_file}. Skipping.\")\n",
    "                skipped_files.append(video_file[:-3])\n",
    "        else:\n",
    "            print(f\"Failed to extract frame from {video_file}. Skipping.\")\n",
    "            skipped_files.append(video_file[:-3])\n",
    "    return X, y, skipped_files"
   ]
  },
  {
   "cell_type": "code",
   "execution_count": 10,
   "metadata": {
    "id": "TIqOKFzr6j0V"
   },
   "outputs": [],
   "source": [
    "def load_spectrogram_dataset(spectrograms_folder, skipped_files):\n",
    "    X = []\n",
    "    y = []\n",
    "    # List all files in the input folder\n",
    "    files = sorted(os.listdir(spectrograms_folder))\n",
    "    # Iterate over files in the folder\n",
    "    for filename in tqdm(files):\n",
    "        if filename.endswith(\".png\") and filename[:-3] not in skipped_files:  # Assuming mel spectrograms are stored as PNG files\n",
    "            input_path = os.path.join(spectrograms_folder, filename)\n",
    "            img_tensor = preprocess_spectrogram(input_path)\n",
    "            X.append(img_tensor)\n",
    "            # Extract label from filename (assuming filename is in format \"abc_IEO_label_xyz.png\")\n",
    "            label = filename.split(\"_\")[2]\n",
    "            if label == \"HAP\":\n",
    "                y.append(0)\n",
    "            elif label == \"SAD\":\n",
    "                y.append(1)\n",
    "            elif label == \"ANG\":\n",
    "                y.append(2)\n",
    "            elif label == \"DIS\":\n",
    "                y.append(3)\n",
    "            elif label == \"FEA\":\n",
    "                y.append(4)\n",
    "            elif label == \"NEU\":\n",
    "                y.append(5)\n",
    "    return X, y"
   ]
  },
  {
   "cell_type": "code",
   "execution_count": 11,
   "metadata": {
    "id": "q8gd6HoS--Rj"
   },
   "outputs": [],
   "source": [
    "# Define the ConcatDataset class to concatenate video frame and spectrogram tensors\n",
    "class ConcatDataset(torch.utils.data.Dataset):\n",
    "    def __init__(self, X1, X2, y, modality='multimodal', presaved=False):\n",
    "        self.X1 = X1\n",
    "        self.X2 = X2\n",
    "        self.y = y\n",
    "        self.modality = modality\n",
    "        self.presaved = presaved\n",
    "    def __len__(self):\n",
    "        if self.modality == 'audio':\n",
    "          return len(self.X2)\n",
    "        if self.modality == 'visual':\n",
    "          return len(self.X1)\n",
    "        return len(self.y)\n",
    "\n",
    "    def __getitem__(self, idx):\n",
    "        if not self.presaved:\n",
    "          img1 = self.X1[idx]\n",
    "          img2 = self.X2[idx]\n",
    "          label = self.y[idx]\n",
    "        else:\n",
    "          img1 = torch.from_numpy(self.X1[idx]).float()  # Convert numpy array to torch tensor\n",
    "          img2 = torch.from_numpy(self.X2[idx]).float()  # Convert numpy array to torch tensor\n",
    "          label = torch.tensor(self.y[idx])  # Convert numpy array to torch tensor\n",
    "\n",
    "        concatenated_img = torch.cat((img1, img2), dim=0)  # Concatenate along 0 dimension\n",
    "        if self.modality == 'visual':\n",
    "          return img1, label\n",
    "        if self.modality == 'audio':\n",
    "          return img2, label\n",
    "        return concatenated_img, label # concatenate modalities"
   ]
  },
  {
   "cell_type": "markdown",
   "metadata": {
    "id": "XGRELOq6Nkcj"
   },
   "source": [
    "#### Train Model"
   ]
  },
  {
   "cell_type": "code",
   "execution_count": 12,
   "metadata": {
    "id": "3TBMdqtI6oZ0"
   },
   "outputs": [],
   "source": [
    "def train_model(model, criterion, optimizer, train_loader, device):\n",
    "    model.train()\n",
    "    running_loss = 0.0\n",
    "    correct_preds = 0\n",
    "    total_preds = 0\n",
    "    for inputs, labels in tqdm(train_loader):\n",
    "        inputs, labels = inputs.to(device), labels.to(device)\n",
    "        optimizer.zero_grad()\n",
    "        outputs = model(inputs)\n",
    "        loss = criterion(outputs, labels)\n",
    "        loss.backward()\n",
    "        optimizer.step()\n",
    "        running_loss += loss.item() * inputs.size(0)\n",
    "        _, predicted = torch.max(outputs, 1)\n",
    "        correct_preds += (predicted == labels).sum().item()\n",
    "        total_preds += labels.size(0)\n",
    "\n",
    "    epoch_loss = running_loss / len(train_loader.dataset)\n",
    "    accuracy = correct_preds / total_preds\n",
    "    return epoch_loss, accuracy"
   ]
  },
  {
   "cell_type": "markdown",
   "metadata": {
    "id": "zflWu-4dNnAX"
   },
   "source": [
    "#### Test Model"
   ]
  },
  {
   "cell_type": "code",
   "execution_count": 13,
   "metadata": {
    "id": "aq6skVDB6p6M"
   },
   "outputs": [],
   "source": [
    "def test_model(model, criterion, test_loader, device):\n",
    "    model.eval()\n",
    "    running_loss = 0.0\n",
    "    correct_preds = 0\n",
    "    total_preds = 0\n",
    "    with torch.no_grad():\n",
    "        for inputs, labels in tqdm(test_loader):\n",
    "            inputs, labels = inputs.to(device), labels.to(device)\n",
    "            outputs = model(inputs)\n",
    "            loss = criterion(outputs, labels)\n",
    "            running_loss += loss.item() * inputs.size(0)\n",
    "            _, predicted = torch.max(outputs, 1)\n",
    "            correct_preds += (predicted == labels).sum().item()\n",
    "            total_preds += labels.size(0)\n",
    "    epoch_loss = running_loss / len(test_loader.dataset)\n",
    "    accuracy = correct_preds / total_preds\n",
    "    return epoch_loss, accuracy"
   ]
  },
  {
   "cell_type": "markdown",
   "metadata": {
    "id": "iNnr6W_ZNuOz"
   },
   "source": [
    "#### ViT Definition"
   ]
  },
  {
   "cell_type": "code",
   "execution_count": 14,
   "metadata": {
    "id": "mhjpuUMgo3KU"
   },
   "outputs": [],
   "source": [
    "class ViT(nn.Module):\n",
    "    # ViT architecture adapted from here - https://theaisummer.com/vision-transformer/\n",
    "    def __init__(self, *,\n",
    "                 img_dim,\n",
    "                 in_channels=3,\n",
    "                 patch_dim=16,\n",
    "                 num_classes=6, # full-scale CREMA-D\n",
    "                 dim=512,\n",
    "                 blocks=6,\n",
    "                 heads=4,\n",
    "                 dim_linear_block=1024,\n",
    "                 dim_head=None,\n",
    "                 dropout=0, transformer=None, classification=True):\n",
    "        \"\"\"\n",
    "        Args:\n",
    "            img_dim: the spatial image size\n",
    "            in_channels: number of img channels\n",
    "            patch_dim: desired patch dim\n",
    "            num_classes: classification task classes\n",
    "            dim: the linear layer's dim to project the patches for MHSA\n",
    "            blocks: number of transformer blocks\n",
    "            heads: number of heads\n",
    "            dim_linear_block: inner dim of the transformer linear block\n",
    "            dim_head: dim head in case you want to define it. defaults to dim/heads\n",
    "            dropout: for pos emb and transformer\n",
    "            transformer: in case you want to provide another transformer implementation\n",
    "            classification: creates an extra CLS token\n",
    "        \"\"\"\n",
    "        super().__init__()\n",
    "        assert img_dim % patch_dim == 0, f'patch size {patch_dim} not divisible'\n",
    "        self.p = patch_dim\n",
    "        self.classification = classification\n",
    "        tokens = (img_dim // patch_dim) ** 2\n",
    "        self.token_dim = in_channels * (patch_dim ** 2)\n",
    "        self.dim = dim\n",
    "        self.dim_head = (int(dim / heads)) if dim_head is None else dim_head\n",
    "        self.project_patches = nn.Linear(self.token_dim, dim)\n",
    "\n",
    "        self.emb_dropout = nn.Dropout(dropout)\n",
    "        if self.classification:\n",
    "            self.cls_token = nn.Parameter(torch.randn(1, 1, dim))\n",
    "            self.pos_emb1D = nn.Parameter(torch.randn(tokens + 1, dim))\n",
    "            self.mlp_head = nn.Linear(dim, num_classes)\n",
    "        else:\n",
    "            self.pos_emb1D = nn.Parameter(torch.randn(tokens, dim))\n",
    "\n",
    "        if transformer is None:\n",
    "            self.transformer = TransformerEncoder(dim, blocks=blocks, heads=heads,\n",
    "                                                  dim_head=self.dim_head,\n",
    "                                                  dim_linear_block=dim_linear_block,\n",
    "                                                  dropout=dropout)\n",
    "        else:\n",
    "            self.transformer = transformer\n",
    "\n",
    "    def expand_cls_to_batch(self, batch):\n",
    "        \"\"\"\n",
    "        Args:\n",
    "            batch: batch size\n",
    "        Returns: cls token expanded to the batch size\n",
    "        \"\"\"\n",
    "        return self.cls_token.expand([batch, -1, -1])\n",
    "\n",
    "    def forward(self, img, mask=None):\n",
    "        batch_size = img.shape[0]\n",
    "        img_patches = rearrange(\n",
    "            img, 'b c (patch_x x) (patch_y y) -> b (x y) (patch_x patch_y c)',\n",
    "                                patch_x=self.p, patch_y=self.p)\n",
    "        # project patches with linear layer + add pos emb\n",
    "        img_patches = self.project_patches(img_patches)\n",
    "\n",
    "        if self.classification:\n",
    "            img_patches = torch.cat(\n",
    "                (self.expand_cls_to_batch(batch_size), img_patches), dim=1)\n",
    "\n",
    "        patch_embeddings = self.emb_dropout(img_patches + self.pos_emb1D)\n",
    "\n",
    "        # feed patch_embeddings and output of transformer. shape: [batch, tokens, dim]\n",
    "        y = self.transformer(patch_embeddings, mask)\n",
    "\n",
    "        if self.classification:\n",
    "            # we index only the cls token for classification.\n",
    "            return self.mlp_head(y[:, 0, :])\n",
    "        else:\n",
    "            return y"
   ]
  },
  {
   "cell_type": "markdown",
   "metadata": {
    "id": "tzBGjd6CmgTO"
   },
   "source": [
    "#### Check that the videos and spectrograms are in one-to-one correspondence"
   ]
  },
  {
   "cell_type": "code",
   "execution_count": 15,
   "metadata": {
    "id": "3zGJMimyl1dO"
   },
   "outputs": [],
   "source": [
    "assert([file[:-3] for file in sorted(os.listdir(videos_folder))] == [file[:-3] for file in sorted(os.listdir(spectrograms_folder))])"
   ]
  },
  {
   "cell_type": "markdown",
   "metadata": {
    "id": "Xqhwv6e0OOZX"
   },
   "source": [
    "#### Load Data"
   ]
  },
  {
   "cell_type": "code",
   "execution_count": 16,
   "metadata": {
    "colab": {
     "base_uri": "https://localhost:8080/"
    },
    "id": "sAHGApwK4N92",
    "outputId": "0850c470-ba82-4b6b-a841-dc0bfff4cea0"
   },
   "outputs": [
    {
     "name": "stderr",
     "output_type": "stream",
     "text": [
      " 35%|███▌      | 2636/7439 [07:39<10:29,  7.63it/s]"
     ]
    },
    {
     "name": "stdout",
     "output_type": "stream",
     "text": [
      "No face detected in 1033_ITH_HAP_XX.flv. Skipping.\n"
     ]
    },
    {
     "name": "stderr",
     "output_type": "stream",
     "text": [
      " 36%|███▌      | 2662/7439 [07:42<05:43, 13.90it/s]"
     ]
    },
    {
     "name": "stdout",
     "output_type": "stream",
     "text": [
      "No face detected in 1033_MTI_HAP_XX.flv. Skipping.\n"
     ]
    },
    {
     "name": "stderr",
     "output_type": "stream",
     "text": [
      " 36%|███▌      | 2680/7439 [07:44<08:01,  9.89it/s]"
     ]
    },
    {
     "name": "stdout",
     "output_type": "stream",
     "text": [
      "No face detected in 1033_TSI_FEA_XX.flv. Skipping.\n"
     ]
    },
    {
     "name": "stderr",
     "output_type": "stream",
     "text": [
      " 40%|███▉      | 2961/7439 [08:23<09:42,  7.69it/s]"
     ]
    },
    {
     "name": "stdout",
     "output_type": "stream",
     "text": [
      "No face detected in 1037_IOM_FEA_XX.flv. Skipping.\n"
     ]
    },
    {
     "name": "stderr",
     "output_type": "stream",
     "text": [
      " 43%|████▎     | 3164/7439 [09:03<18:20,  3.89it/s]"
     ]
    },
    {
     "name": "stdout",
     "output_type": "stream",
     "text": [
      "No face detected in 1039_TIE_FEA_XX.flv. Skipping.\n"
     ]
    },
    {
     "name": "stderr",
     "output_type": "stream",
     "text": [
      " 83%|████████▎ | 6185/7439 [16:19<02:54,  7.19it/s]"
     ]
    },
    {
     "name": "stdout",
     "output_type": "stream",
     "text": [
      "No face detected in 1076_MTI_SAD_XX.flv. Skipping.\n"
     ]
    },
    {
     "name": "stderr",
     "output_type": "stream",
     "text": [
      " 87%|████████▋ | 6455/7439 [16:53<03:59,  4.11it/s]"
     ]
    },
    {
     "name": "stdout",
     "output_type": "stream",
     "text": [
      "No face detected in 1080_DFA_ANG_XX.flv. Skipping.\n"
     ]
    },
    {
     "name": "stderr",
     "output_type": "stream",
     "text": [
      " 87%|████████▋ | 6473/7439 [16:55<01:53,  8.50it/s]"
     ]
    },
    {
     "name": "stdout",
     "output_type": "stream",
     "text": [
      "No face detected in 1080_IEO_FEA_MD.flv. Skipping.\n"
     ]
    },
    {
     "name": "stderr",
     "output_type": "stream",
     "text": [
      " 87%|████████▋ | 6478/7439 [16:56<03:02,  5.28it/s]"
     ]
    },
    {
     "name": "stdout",
     "output_type": "stream",
     "text": [
      "No face detected in 1080_IOM_ANG_XX.flv. Skipping.\n"
     ]
    },
    {
     "name": "stderr",
     "output_type": "stream",
     "text": [
      " 88%|████████▊ | 6529/7439 [17:08<02:33,  5.94it/s]"
     ]
    },
    {
     "name": "stdout",
     "output_type": "stream",
     "text": [
      "No face detected in 1080_TSI_HAP_XX.flv. Skipping.\n"
     ]
    },
    {
     "name": "stderr",
     "output_type": "stream",
     "text": [
      "100%|██████████| 7439/7439 [19:31<00:00,  6.35it/s]\n",
      "100%|██████████| 7439/7439 [01:26<00:00, 85.51it/s]\n"
     ]
    }
   ],
   "source": [
    "_fullscale = True # Run fullscale experiment?\n",
    "_presaved = False # Use presaved data .npy files?\n",
    "\n",
    "# Check if data folders exists\n",
    "if not os.path.exists(videos_folder):\n",
    "    print(\"Videos folder does not exist.\")\n",
    "    sys.exit(1)\n",
    "if not os.path.exists(spectrograms_folder):\n",
    "    print(\"Spectrograms folder does not exist.\")\n",
    "    sys.exit(1)\n",
    "\n",
    "# Load dataset and split into train and test sets\n",
    "if _presaved:\n",
    "  X = np.load('/content/drive/MyDrive/csci535/models/X_7439.npy', mmap_mode='r')\n",
    "  y = np.load('/content/drive/MyDrive/csci535/models/y_7439.npy', mmap_mode='r')\n",
    "  X_spec = np.load('/content/drive/MyDrive/csci535/models/X_spec_7439.npy', mmap_mode='r')\n",
    "  y_spec = np.load('/content/drive/MyDrive/csci535/models/y_spec_7439.npy', mmap_mode='r')\n",
    "else:\n",
    "  X, y, skipped_files = load_dataset(videos_folder)\n",
    "  X_spec, y_spec = load_spectrogram_dataset(spectrograms_folder, skipped_files)"
   ]
  },
  {
   "cell_type": "markdown",
   "metadata": {
    "id": "VaJ1vf4fvBze"
   },
   "source": [
    "#### Save data as .npy files (if needed)"
   ]
  },
  {
   "cell_type": "code",
   "execution_count": 17,
   "metadata": {
    "id": "3gzXGfQPSBAC"
   },
   "outputs": [],
   "source": [
    "# Save X, y, X_spec, y_spec\n",
    "np.save('X_7439.npy', np.array(X))\n",
    "np.save('y_7439.npy', np.array(y))\n",
    "np.save('X_spec_7439.npy', np.array(X_spec))\n",
    "np.save('y_spec_7439.npy', np.array(y_spec))\n"
   ]
  },
  {
   "cell_type": "markdown",
   "metadata": {
    "id": "2KSU8u_XOSxe"
   },
   "source": [
    "#### Split Data into Train and Test Sets"
   ]
  },
  {
   "cell_type": "code",
   "execution_count": 18,
   "metadata": {
    "colab": {
     "base_uri": "https://localhost:8080/"
    },
    "id": "VXnZWva25hlf",
    "outputId": "418983cd-5172-44c0-8ec5-76717d05e668"
   },
   "outputs": [
    {
     "name": "stdout",
     "output_type": "stream",
     "text": [
      "Total number of samples: 7429\n",
      "Number of train samples (video): 5200 Number of test samples: 2229\n",
      "Number of train samples (audio): 5200 Number of test samples: 2229\n"
     ]
    }
   ],
   "source": [
    "# Split the data into train and test sets\n",
    "print(f\"Total number of samples: {len(X)}\")\n",
    "X_train, X_test, y_train, y_test = train_test_split(X, y, test_size=0.3, random_state=42)\n",
    "print(f\"Number of train samples (video): {len(X_train)}\", f\"Number of test samples: {len(X_test)}\")\n",
    "X_train_spec, X_test_spec, y_train_spec, y_test_spec = train_test_split(X_spec, y_spec, test_size=0.3, random_state=42)\n",
    "print(f\"Number of train samples (audio): {len(X_train_spec)}\", f\"Number of test samples: {len(X_test_spec)}\")"
   ]
  },
  {
   "cell_type": "markdown",
   "metadata": {
    "id": "aUs38TnUDJIx"
   },
   "source": [
    "#### Check that the number of frames and spectrograms are equal and that the train + test samples add up to total samples"
   ]
  },
  {
   "cell_type": "code",
   "execution_count": 19,
   "metadata": {
    "id": "m8GNHaIICzPl"
   },
   "outputs": [],
   "source": [
    "assert(len(X_train) == len(X_train_spec) and len(X_test) == len(X_test_spec))"
   ]
  },
  {
   "cell_type": "markdown",
   "metadata": {
    "id": "kn7J6MNNOqyA"
   },
   "source": [
    "#### Train Loop"
   ]
  },
  {
   "cell_type": "code",
   "execution_count": 20,
   "metadata": {
    "id": "wzuHjENY9Dpa"
   },
   "outputs": [],
   "source": [
    "def train_ViT(_modality):\n",
    "  # Adjust input channels as per modality\n",
    "  if _modality == 'multimodal':\n",
    "    _input_channels = 2\n",
    "  else:\n",
    "    _input_channels = 1\n",
    "\n",
    "  # Initialize the ViT model\n",
    "  model = ViT(img_dim=224,  # Image dimension\n",
    "              in_channels=_input_channels,  # Number of input channels\n",
    "              patch_dim=16,  # Patch dimension\n",
    "              num_classes=6,  # 6 classes for HAPPY, SAD, ANGRY, DISGUST, FEAR, NEUTRAL\n",
    "              dim=768,  # Dimensionality of the token embeddings\n",
    "              blocks=6,  # Number of transformer blocks\n",
    "              heads=4,  # Number of attention heads\n",
    "              dim_linear_block=1024,  # Dimensionality of the linear block\n",
    "              dropout=0.4,  # Dropout rate\n",
    "              classification=True)  # Whether or not to include a classification token\n",
    "\n",
    "  # Define device\n",
    "  device = torch.device(\"cuda\" if torch.cuda.is_available() else \"cpu\")\n",
    "  model.to(device)\n",
    "\n",
    "  # Define loss function and optimizer\n",
    "  _lr = 0.0001\n",
    "  criterion = nn.CrossEntropyLoss()\n",
    "  optimizer = optim.Adam(model.parameters(), lr=_lr)\n",
    "\n",
    "  # Concatenate datasets if multimodal\n",
    "  train_dataset = ConcatDataset(X_train, X_train_spec, y_train, modality = _modality, presaved = _presaved)\n",
    "  test_dataset = ConcatDataset(X_test, X_test_spec, y_test, modality = _modality, presaved = _presaved)\n",
    "\n",
    "  # Create data loaders\n",
    "  _bs = 16\n",
    "\n",
    "  # Create data loaders\n",
    "  train_loader = torch.utils.data.DataLoader(train_dataset, batch_size=_bs, shuffle=True)\n",
    "  test_loader = torch.utils.data.DataLoader(test_dataset, batch_size=_bs)\n",
    "\n",
    "  print(f\"\\n\\nBatch size: {_bs}\", f\"lr: {_lr}\")\n",
    "\n",
    "  # Training loop\n",
    "  num_epochs = 50\n",
    "  print(f\"Training ViT for \\\"{_modality}\\\" pipeline ...\\n------------------------------------------------\\n\")\n",
    "  for epoch in range(num_epochs):\n",
    "      print(\"Epoch \" + str(epoch))\n",
    "      train_loss, train_accuracy = train_model(model, criterion, optimizer, train_loader, device)\n",
    "      test_loss, test_accuracy = test_model(model, criterion, test_loader, device)\n",
    "      print(f\"Epoch {epoch+1}/{num_epochs}, Train Loss: {train_loss:.4f}, Train Accuracy: {train_accuracy:.4f}, Test Loss: {test_loss:.4f}, Test Accuracy: {test_accuracy:.4f}\")\n",
    "\n",
    "  # Save the model\n",
    "  if _modality == 'multimodal':\n",
    "    torch.save(model.state_dict(), 'ViT_audio_video_fullscale_'+str(num_epochs)+'_'+str(_bs)+'_'+str(_lr))\n",
    "  elif _modality == 'audio':\n",
    "    torch.save(model.state_dict(), 'ViT_audio_fullscale_'+str(num_epochs)+'_'+str(_bs)+'_'+str(_lr))\n",
    "  elif _modality == 'visual':\n",
    "    torch.save(model.state_dict(), 'ViT_video_fullscale_'+str(num_epochs)+'_'+str(_bs)+'_'+str(_lr))\n",
    "  else:\n",
    "    print(\"Improper modality provided!\")\n",
    "\n",
    "  return train_loss, train_accuracy, test_loss, test_accuracy"
   ]
  },
  {
   "cell_type": "markdown",
   "metadata": {
    "id": "QaxDFf2pOtTa"
   },
   "source": [
    "#### Choose modalities"
   ]
  },
  {
   "cell_type": "code",
   "execution_count": 21,
   "metadata": {
    "id": "CXy5mkXruLRr"
   },
   "outputs": [],
   "source": [
    "# Define modalities\n",
    "_modality = ['visual', 'audio', 'multimodal']"
   ]
  },
  {
   "cell_type": "markdown",
   "metadata": {
    "id": "xBJ5KpnFOu6D"
   },
   "source": [
    "#### Train ViT"
   ]
  },
  {
   "cell_type": "code",
   "execution_count": 22,
   "metadata": {
    "colab": {
     "base_uri": "https://localhost:8080/"
    },
    "id": "eaq2Nfvs9IZm",
    "outputId": "65044544-72b8-4968-920f-10de441776cd"
   },
   "outputs": [
    {
     "name": "stdout",
     "output_type": "stream",
     "text": [
      "\n",
      "\n",
      "Batch size: 16 lr: 0.0001\n",
      "Training ViT for \"visual\" pipeline ...\n",
      "------------------------------------------------\n",
      "\n",
      "Epoch 0\n"
     ]
    },
    {
     "name": "stderr",
     "output_type": "stream",
     "text": [
      "100%|██████████| 325/325 [00:53<00:00,  6.10it/s]\n",
      "100%|██████████| 140/140 [00:04<00:00, 32.84it/s]\n"
     ]
    },
    {
     "name": "stdout",
     "output_type": "stream",
     "text": [
      "Epoch 1/50, Train Loss: 1.6887, Train Accuracy: 0.2971, Test Loss: 1.5471, Test Accuracy: 0.3611\n",
      "Epoch 1\n"
     ]
    },
    {
     "name": "stderr",
     "output_type": "stream",
     "text": [
      "100%|██████████| 325/325 [00:28<00:00, 11.22it/s]\n",
      "100%|██████████| 140/140 [00:04<00:00, 32.43it/s]\n"
     ]
    },
    {
     "name": "stdout",
     "output_type": "stream",
     "text": [
      "Epoch 2/50, Train Loss: 1.4769, Train Accuracy: 0.3898, Test Loss: 1.4879, Test Accuracy: 0.4145\n",
      "Epoch 2\n"
     ]
    },
    {
     "name": "stderr",
     "output_type": "stream",
     "text": [
      "100%|██████████| 325/325 [00:29<00:00, 11.21it/s]\n",
      "100%|██████████| 140/140 [00:04<00:00, 32.81it/s]\n"
     ]
    },
    {
     "name": "stdout",
     "output_type": "stream",
     "text": [
      "Epoch 3/50, Train Loss: 1.4221, Train Accuracy: 0.4179, Test Loss: 1.5696, Test Accuracy: 0.3854\n",
      "Epoch 3\n"
     ]
    },
    {
     "name": "stderr",
     "output_type": "stream",
     "text": [
      "100%|██████████| 325/325 [00:28<00:00, 11.21it/s]\n",
      "100%|██████████| 140/140 [00:04<00:00, 32.44it/s]\n"
     ]
    },
    {
     "name": "stdout",
     "output_type": "stream",
     "text": [
      "Epoch 4/50, Train Loss: 1.3854, Train Accuracy: 0.4329, Test Loss: 1.5322, Test Accuracy: 0.4163\n",
      "Epoch 4\n"
     ]
    },
    {
     "name": "stderr",
     "output_type": "stream",
     "text": [
      "100%|██████████| 325/325 [00:28<00:00, 11.22it/s]\n",
      "100%|██████████| 140/140 [00:04<00:00, 32.76it/s]\n"
     ]
    },
    {
     "name": "stdout",
     "output_type": "stream",
     "text": [
      "Epoch 5/50, Train Loss: 1.3419, Train Accuracy: 0.4571, Test Loss: 1.4783, Test Accuracy: 0.4527\n",
      "Epoch 5\n"
     ]
    },
    {
     "name": "stderr",
     "output_type": "stream",
     "text": [
      "100%|██████████| 325/325 [00:29<00:00, 11.20it/s]\n",
      "100%|██████████| 140/140 [00:04<00:00, 32.62it/s]\n"
     ]
    },
    {
     "name": "stdout",
     "output_type": "stream",
     "text": [
      "Epoch 6/50, Train Loss: 1.3120, Train Accuracy: 0.4606, Test Loss: 1.4562, Test Accuracy: 0.4284\n",
      "Epoch 6\n"
     ]
    },
    {
     "name": "stderr",
     "output_type": "stream",
     "text": [
      "100%|██████████| 325/325 [00:28<00:00, 11.23it/s]\n",
      "100%|██████████| 140/140 [00:04<00:00, 32.67it/s]\n"
     ]
    },
    {
     "name": "stdout",
     "output_type": "stream",
     "text": [
      "Epoch 7/50, Train Loss: 1.2793, Train Accuracy: 0.4825, Test Loss: 1.3724, Test Accuracy: 0.4733\n",
      "Epoch 7\n"
     ]
    },
    {
     "name": "stderr",
     "output_type": "stream",
     "text": [
      "100%|██████████| 325/325 [00:29<00:00, 11.20it/s]\n",
      "100%|██████████| 140/140 [00:04<00:00, 32.84it/s]\n"
     ]
    },
    {
     "name": "stdout",
     "output_type": "stream",
     "text": [
      "Epoch 8/50, Train Loss: 1.2616, Train Accuracy: 0.4890, Test Loss: 1.3344, Test Accuracy: 0.4616\n",
      "Epoch 8\n"
     ]
    },
    {
     "name": "stderr",
     "output_type": "stream",
     "text": [
      "100%|██████████| 325/325 [00:28<00:00, 11.23it/s]\n",
      "100%|██████████| 140/140 [00:04<00:00, 32.59it/s]\n"
     ]
    },
    {
     "name": "stdout",
     "output_type": "stream",
     "text": [
      "Epoch 9/50, Train Loss: 1.2275, Train Accuracy: 0.5075, Test Loss: 1.4519, Test Accuracy: 0.4612\n",
      "Epoch 9\n"
     ]
    },
    {
     "name": "stderr",
     "output_type": "stream",
     "text": [
      "100%|██████████| 325/325 [00:28<00:00, 11.21it/s]\n",
      "100%|██████████| 140/140 [00:04<00:00, 32.97it/s]\n"
     ]
    },
    {
     "name": "stdout",
     "output_type": "stream",
     "text": [
      "Epoch 10/50, Train Loss: 1.2109, Train Accuracy: 0.5119, Test Loss: 1.3502, Test Accuracy: 0.4886\n",
      "Epoch 10\n"
     ]
    },
    {
     "name": "stderr",
     "output_type": "stream",
     "text": [
      "100%|██████████| 325/325 [00:28<00:00, 11.23it/s]\n",
      "100%|██████████| 140/140 [00:04<00:00, 32.51it/s]\n"
     ]
    },
    {
     "name": "stdout",
     "output_type": "stream",
     "text": [
      "Epoch 11/50, Train Loss: 1.1731, Train Accuracy: 0.5337, Test Loss: 1.4706, Test Accuracy: 0.4666\n",
      "Epoch 11\n"
     ]
    },
    {
     "name": "stderr",
     "output_type": "stream",
     "text": [
      "100%|██████████| 325/325 [00:28<00:00, 11.23it/s]\n",
      "100%|██████████| 140/140 [00:04<00:00, 33.00it/s]\n"
     ]
    },
    {
     "name": "stdout",
     "output_type": "stream",
     "text": [
      "Epoch 12/50, Train Loss: 1.1593, Train Accuracy: 0.5429, Test Loss: 1.4682, Test Accuracy: 0.4854\n",
      "Epoch 12\n"
     ]
    },
    {
     "name": "stderr",
     "output_type": "stream",
     "text": [
      "100%|██████████| 325/325 [00:28<00:00, 11.21it/s]\n",
      "100%|██████████| 140/140 [00:04<00:00, 32.60it/s]\n"
     ]
    },
    {
     "name": "stdout",
     "output_type": "stream",
     "text": [
      "Epoch 13/50, Train Loss: 1.1416, Train Accuracy: 0.5483, Test Loss: 1.5927, Test Accuracy: 0.4711\n",
      "Epoch 13\n"
     ]
    },
    {
     "name": "stderr",
     "output_type": "stream",
     "text": [
      "100%|██████████| 325/325 [00:28<00:00, 11.24it/s]\n",
      "100%|██████████| 140/140 [00:04<00:00, 32.87it/s]\n"
     ]
    },
    {
     "name": "stdout",
     "output_type": "stream",
     "text": [
      "Epoch 14/50, Train Loss: 1.1273, Train Accuracy: 0.5635, Test Loss: 1.4478, Test Accuracy: 0.4863\n",
      "Epoch 14\n"
     ]
    },
    {
     "name": "stderr",
     "output_type": "stream",
     "text": [
      "100%|██████████| 325/325 [00:28<00:00, 11.21it/s]\n",
      "100%|██████████| 140/140 [00:04<00:00, 32.65it/s]\n"
     ]
    },
    {
     "name": "stdout",
     "output_type": "stream",
     "text": [
      "Epoch 15/50, Train Loss: 1.1205, Train Accuracy: 0.5625, Test Loss: 1.3959, Test Accuracy: 0.4984\n",
      "Epoch 15\n"
     ]
    },
    {
     "name": "stderr",
     "output_type": "stream",
     "text": [
      "100%|██████████| 325/325 [00:28<00:00, 11.24it/s]\n",
      "100%|██████████| 140/140 [00:04<00:00, 32.80it/s]\n"
     ]
    },
    {
     "name": "stdout",
     "output_type": "stream",
     "text": [
      "Epoch 16/50, Train Loss: 1.1061, Train Accuracy: 0.5683, Test Loss: 1.3302, Test Accuracy: 0.5101\n",
      "Epoch 16\n"
     ]
    },
    {
     "name": "stderr",
     "output_type": "stream",
     "text": [
      "100%|██████████| 325/325 [00:28<00:00, 11.21it/s]\n",
      "100%|██████████| 140/140 [00:04<00:00, 32.85it/s]\n"
     ]
    },
    {
     "name": "stdout",
     "output_type": "stream",
     "text": [
      "Epoch 17/50, Train Loss: 1.0757, Train Accuracy: 0.5712, Test Loss: 1.3210, Test Accuracy: 0.5177\n",
      "Epoch 17\n"
     ]
    },
    {
     "name": "stderr",
     "output_type": "stream",
     "text": [
      "100%|██████████| 325/325 [00:28<00:00, 11.25it/s]\n",
      "100%|██████████| 140/140 [00:04<00:00, 32.62it/s]\n"
     ]
    },
    {
     "name": "stdout",
     "output_type": "stream",
     "text": [
      "Epoch 18/50, Train Loss: 1.0469, Train Accuracy: 0.5958, Test Loss: 1.3426, Test Accuracy: 0.5025\n",
      "Epoch 18\n"
     ]
    },
    {
     "name": "stderr",
     "output_type": "stream",
     "text": [
      "100%|██████████| 325/325 [00:28<00:00, 11.22it/s]\n",
      "100%|██████████| 140/140 [00:04<00:00, 32.99it/s]\n"
     ]
    },
    {
     "name": "stdout",
     "output_type": "stream",
     "text": [
      "Epoch 19/50, Train Loss: 1.0326, Train Accuracy: 0.5971, Test Loss: 1.3491, Test Accuracy: 0.5132\n",
      "Epoch 19\n"
     ]
    },
    {
     "name": "stderr",
     "output_type": "stream",
     "text": [
      "100%|██████████| 325/325 [00:28<00:00, 11.24it/s]\n",
      "100%|██████████| 140/140 [00:04<00:00, 32.68it/s]\n"
     ]
    },
    {
     "name": "stdout",
     "output_type": "stream",
     "text": [
      "Epoch 20/50, Train Loss: 1.0173, Train Accuracy: 0.6067, Test Loss: 1.3894, Test Accuracy: 0.5249\n",
      "Epoch 20\n"
     ]
    },
    {
     "name": "stderr",
     "output_type": "stream",
     "text": [
      "100%|██████████| 325/325 [00:28<00:00, 11.23it/s]\n",
      "100%|██████████| 140/140 [00:04<00:00, 33.04it/s]\n"
     ]
    },
    {
     "name": "stdout",
     "output_type": "stream",
     "text": [
      "Epoch 21/50, Train Loss: 0.9978, Train Accuracy: 0.6110, Test Loss: 1.3349, Test Accuracy: 0.5334\n",
      "Epoch 21\n"
     ]
    },
    {
     "name": "stderr",
     "output_type": "stream",
     "text": [
      "100%|██████████| 325/325 [00:28<00:00, 11.22it/s]\n",
      "100%|██████████| 140/140 [00:04<00:00, 32.71it/s]\n"
     ]
    },
    {
     "name": "stdout",
     "output_type": "stream",
     "text": [
      "Epoch 22/50, Train Loss: 0.9729, Train Accuracy: 0.6227, Test Loss: 1.3689, Test Accuracy: 0.5186\n",
      "Epoch 22\n"
     ]
    },
    {
     "name": "stderr",
     "output_type": "stream",
     "text": [
      "100%|██████████| 325/325 [00:28<00:00, 11.24it/s]\n",
      "100%|██████████| 140/140 [00:04<00:00, 33.02it/s]\n"
     ]
    },
    {
     "name": "stdout",
     "output_type": "stream",
     "text": [
      "Epoch 23/50, Train Loss: 0.9721, Train Accuracy: 0.6246, Test Loss: 1.4087, Test Accuracy: 0.5043\n",
      "Epoch 23\n"
     ]
    },
    {
     "name": "stderr",
     "output_type": "stream",
     "text": [
      "100%|██████████| 325/325 [00:28<00:00, 11.22it/s]\n",
      "100%|██████████| 140/140 [00:04<00:00, 32.75it/s]\n"
     ]
    },
    {
     "name": "stdout",
     "output_type": "stream",
     "text": [
      "Epoch 24/50, Train Loss: 0.9683, Train Accuracy: 0.6260, Test Loss: 1.3739, Test Accuracy: 0.5289\n",
      "Epoch 24\n"
     ]
    },
    {
     "name": "stderr",
     "output_type": "stream",
     "text": [
      "100%|██████████| 325/325 [00:28<00:00, 11.25it/s]\n",
      "100%|██████████| 140/140 [00:04<00:00, 32.91it/s]\n"
     ]
    },
    {
     "name": "stdout",
     "output_type": "stream",
     "text": [
      "Epoch 25/50, Train Loss: 0.9286, Train Accuracy: 0.6483, Test Loss: 1.3028, Test Accuracy: 0.5433\n",
      "Epoch 25\n"
     ]
    },
    {
     "name": "stderr",
     "output_type": "stream",
     "text": [
      "100%|██████████| 325/325 [00:28<00:00, 11.23it/s]\n",
      "100%|██████████| 140/140 [00:04<00:00, 32.90it/s]\n"
     ]
    },
    {
     "name": "stdout",
     "output_type": "stream",
     "text": [
      "Epoch 26/50, Train Loss: 0.9239, Train Accuracy: 0.6462, Test Loss: 1.3357, Test Accuracy: 0.5262\n",
      "Epoch 26\n"
     ]
    },
    {
     "name": "stderr",
     "output_type": "stream",
     "text": [
      "100%|██████████| 325/325 [00:28<00:00, 11.26it/s]\n",
      "100%|██████████| 140/140 [00:04<00:00, 32.78it/s]\n"
     ]
    },
    {
     "name": "stdout",
     "output_type": "stream",
     "text": [
      "Epoch 27/50, Train Loss: 0.8998, Train Accuracy: 0.6506, Test Loss: 1.3217, Test Accuracy: 0.5393\n",
      "Epoch 27\n"
     ]
    },
    {
     "name": "stderr",
     "output_type": "stream",
     "text": [
      "100%|██████████| 325/325 [00:28<00:00, 11.23it/s]\n",
      "100%|██████████| 140/140 [00:04<00:00, 33.02it/s]\n"
     ]
    },
    {
     "name": "stdout",
     "output_type": "stream",
     "text": [
      "Epoch 28/50, Train Loss: 0.8889, Train Accuracy: 0.6544, Test Loss: 1.3405, Test Accuracy: 0.5276\n",
      "Epoch 28\n"
     ]
    },
    {
     "name": "stderr",
     "output_type": "stream",
     "text": [
      "100%|██████████| 325/325 [00:28<00:00, 11.25it/s]\n",
      "100%|██████████| 140/140 [00:04<00:00, 32.83it/s]\n"
     ]
    },
    {
     "name": "stdout",
     "output_type": "stream",
     "text": [
      "Epoch 29/50, Train Loss: 0.8888, Train Accuracy: 0.6558, Test Loss: 1.5477, Test Accuracy: 0.5146\n",
      "Epoch 29\n"
     ]
    },
    {
     "name": "stderr",
     "output_type": "stream",
     "text": [
      "100%|██████████| 325/325 [00:28<00:00, 11.24it/s]\n",
      "100%|██████████| 140/140 [00:04<00:00, 33.04it/s]\n"
     ]
    },
    {
     "name": "stdout",
     "output_type": "stream",
     "text": [
      "Epoch 30/50, Train Loss: 0.8666, Train Accuracy: 0.6712, Test Loss: 1.3633, Test Accuracy: 0.5608\n",
      "Epoch 30\n"
     ]
    },
    {
     "name": "stderr",
     "output_type": "stream",
     "text": [
      "100%|██████████| 325/325 [00:28<00:00, 11.24it/s]\n",
      "100%|██████████| 140/140 [00:04<00:00, 32.83it/s]\n"
     ]
    },
    {
     "name": "stdout",
     "output_type": "stream",
     "text": [
      "Epoch 31/50, Train Loss: 0.8440, Train Accuracy: 0.6779, Test Loss: 1.3605, Test Accuracy: 0.5357\n",
      "Epoch 31\n"
     ]
    },
    {
     "name": "stderr",
     "output_type": "stream",
     "text": [
      "100%|██████████| 325/325 [00:28<00:00, 11.25it/s]\n",
      "100%|██████████| 140/140 [00:04<00:00, 33.07it/s]\n"
     ]
    },
    {
     "name": "stdout",
     "output_type": "stream",
     "text": [
      "Epoch 32/50, Train Loss: 0.8422, Train Accuracy: 0.6737, Test Loss: 1.2903, Test Accuracy: 0.5532\n",
      "Epoch 32\n"
     ]
    },
    {
     "name": "stderr",
     "output_type": "stream",
     "text": [
      "100%|██████████| 325/325 [00:28<00:00, 11.24it/s]\n",
      "100%|██████████| 140/140 [00:04<00:00, 32.88it/s]\n"
     ]
    },
    {
     "name": "stdout",
     "output_type": "stream",
     "text": [
      "Epoch 33/50, Train Loss: 0.8300, Train Accuracy: 0.6779, Test Loss: 1.3837, Test Accuracy: 0.5460\n",
      "Epoch 33\n"
     ]
    },
    {
     "name": "stderr",
     "output_type": "stream",
     "text": [
      "100%|██████████| 325/325 [00:28<00:00, 11.25it/s]\n",
      "100%|██████████| 140/140 [00:04<00:00, 33.03it/s]\n"
     ]
    },
    {
     "name": "stdout",
     "output_type": "stream",
     "text": [
      "Epoch 34/50, Train Loss: 0.8049, Train Accuracy: 0.6862, Test Loss: 1.3612, Test Accuracy: 0.5375\n",
      "Epoch 34\n"
     ]
    },
    {
     "name": "stderr",
     "output_type": "stream",
     "text": [
      "100%|██████████| 325/325 [00:28<00:00, 11.24it/s]\n",
      "100%|██████████| 140/140 [00:04<00:00, 32.93it/s]\n"
     ]
    },
    {
     "name": "stdout",
     "output_type": "stream",
     "text": [
      "Epoch 35/50, Train Loss: 0.7970, Train Accuracy: 0.6958, Test Loss: 1.4352, Test Accuracy: 0.5541\n",
      "Epoch 35\n"
     ]
    },
    {
     "name": "stderr",
     "output_type": "stream",
     "text": [
      "100%|██████████| 325/325 [00:28<00:00, 11.25it/s]\n",
      "100%|██████████| 140/140 [00:04<00:00, 32.98it/s]\n"
     ]
    },
    {
     "name": "stdout",
     "output_type": "stream",
     "text": [
      "Epoch 36/50, Train Loss: 0.7806, Train Accuracy: 0.6965, Test Loss: 1.5797, Test Accuracy: 0.5402\n",
      "Epoch 36\n"
     ]
    },
    {
     "name": "stderr",
     "output_type": "stream",
     "text": [
      "100%|██████████| 325/325 [00:28<00:00, 11.25it/s]\n",
      "100%|██████████| 140/140 [00:04<00:00, 33.04it/s]\n"
     ]
    },
    {
     "name": "stdout",
     "output_type": "stream",
     "text": [
      "Epoch 37/50, Train Loss: 0.7730, Train Accuracy: 0.7058, Test Loss: 1.4346, Test Accuracy: 0.5608\n",
      "Epoch 37\n"
     ]
    },
    {
     "name": "stderr",
     "output_type": "stream",
     "text": [
      "100%|██████████| 325/325 [00:28<00:00, 11.26it/s]\n",
      "100%|██████████| 140/140 [00:04<00:00, 32.97it/s]\n"
     ]
    },
    {
     "name": "stdout",
     "output_type": "stream",
     "text": [
      "Epoch 38/50, Train Loss: 0.7710, Train Accuracy: 0.7056, Test Loss: 1.5651, Test Accuracy: 0.5478\n",
      "Epoch 38\n"
     ]
    },
    {
     "name": "stderr",
     "output_type": "stream",
     "text": [
      "100%|██████████| 325/325 [00:28<00:00, 11.25it/s]\n",
      "100%|██████████| 140/140 [00:04<00:00, 33.07it/s]\n"
     ]
    },
    {
     "name": "stdout",
     "output_type": "stream",
     "text": [
      "Epoch 39/50, Train Loss: 0.7512, Train Accuracy: 0.7083, Test Loss: 1.5405, Test Accuracy: 0.5509\n",
      "Epoch 39\n"
     ]
    },
    {
     "name": "stderr",
     "output_type": "stream",
     "text": [
      "100%|██████████| 325/325 [00:28<00:00, 11.25it/s]\n",
      "100%|██████████| 140/140 [00:04<00:00, 32.99it/s]\n"
     ]
    },
    {
     "name": "stdout",
     "output_type": "stream",
     "text": [
      "Epoch 40/50, Train Loss: 0.7213, Train Accuracy: 0.7279, Test Loss: 1.4884, Test Accuracy: 0.5464\n",
      "Epoch 40\n"
     ]
    },
    {
     "name": "stderr",
     "output_type": "stream",
     "text": [
      "100%|██████████| 325/325 [00:28<00:00, 11.25it/s]\n",
      "100%|██████████| 140/140 [00:04<00:00, 33.06it/s]\n"
     ]
    },
    {
     "name": "stdout",
     "output_type": "stream",
     "text": [
      "Epoch 41/50, Train Loss: 0.7252, Train Accuracy: 0.7265, Test Loss: 1.5268, Test Accuracy: 0.5536\n",
      "Epoch 41\n"
     ]
    },
    {
     "name": "stderr",
     "output_type": "stream",
     "text": [
      "100%|██████████| 325/325 [00:28<00:00, 11.25it/s]\n",
      "100%|██████████| 140/140 [00:04<00:00, 33.03it/s]\n"
     ]
    },
    {
     "name": "stdout",
     "output_type": "stream",
     "text": [
      "Epoch 42/50, Train Loss: 0.7265, Train Accuracy: 0.7231, Test Loss: 1.7215, Test Accuracy: 0.5321\n",
      "Epoch 42\n"
     ]
    },
    {
     "name": "stderr",
     "output_type": "stream",
     "text": [
      "100%|██████████| 325/325 [00:28<00:00, 11.26it/s]\n",
      "100%|██████████| 140/140 [00:04<00:00, 33.07it/s]\n"
     ]
    },
    {
     "name": "stdout",
     "output_type": "stream",
     "text": [
      "Epoch 43/50, Train Loss: 0.7032, Train Accuracy: 0.7260, Test Loss: 1.4405, Test Accuracy: 0.5680\n",
      "Epoch 43\n"
     ]
    },
    {
     "name": "stderr",
     "output_type": "stream",
     "text": [
      "100%|██████████| 325/325 [00:28<00:00, 11.24it/s]\n",
      "100%|██████████| 140/140 [00:04<00:00, 33.09it/s]\n"
     ]
    },
    {
     "name": "stdout",
     "output_type": "stream",
     "text": [
      "Epoch 44/50, Train Loss: 0.7180, Train Accuracy: 0.7277, Test Loss: 1.4938, Test Accuracy: 0.5509\n",
      "Epoch 44\n"
     ]
    },
    {
     "name": "stderr",
     "output_type": "stream",
     "text": [
      "100%|██████████| 325/325 [00:28<00:00, 11.26it/s]\n",
      "100%|██████████| 140/140 [00:04<00:00, 33.04it/s]\n"
     ]
    },
    {
     "name": "stdout",
     "output_type": "stream",
     "text": [
      "Epoch 45/50, Train Loss: 0.6832, Train Accuracy: 0.7387, Test Loss: 1.5955, Test Accuracy: 0.5527\n",
      "Epoch 45\n"
     ]
    },
    {
     "name": "stderr",
     "output_type": "stream",
     "text": [
      "100%|██████████| 325/325 [00:28<00:00, 11.25it/s]\n",
      "100%|██████████| 140/140 [00:04<00:00, 32.99it/s]\n"
     ]
    },
    {
     "name": "stdout",
     "output_type": "stream",
     "text": [
      "Epoch 46/50, Train Loss: 0.6726, Train Accuracy: 0.7446, Test Loss: 1.4755, Test Accuracy: 0.5644\n",
      "Epoch 46\n"
     ]
    },
    {
     "name": "stderr",
     "output_type": "stream",
     "text": [
      "100%|██████████| 325/325 [00:28<00:00, 11.25it/s]\n",
      "100%|██████████| 140/140 [00:04<00:00, 33.05it/s]\n"
     ]
    },
    {
     "name": "stdout",
     "output_type": "stream",
     "text": [
      "Epoch 47/50, Train Loss: 0.6562, Train Accuracy: 0.7544, Test Loss: 1.6478, Test Accuracy: 0.5496\n",
      "Epoch 47\n"
     ]
    },
    {
     "name": "stderr",
     "output_type": "stream",
     "text": [
      "100%|██████████| 325/325 [00:28<00:00, 11.24it/s]\n",
      "100%|██████████| 140/140 [00:04<00:00, 33.08it/s]\n"
     ]
    },
    {
     "name": "stdout",
     "output_type": "stream",
     "text": [
      "Epoch 48/50, Train Loss: 0.6572, Train Accuracy: 0.7502, Test Loss: 1.5525, Test Accuracy: 0.5541\n",
      "Epoch 48\n"
     ]
    },
    {
     "name": "stderr",
     "output_type": "stream",
     "text": [
      "100%|██████████| 325/325 [00:28<00:00, 11.25it/s]\n",
      "100%|██████████| 140/140 [00:04<00:00, 32.93it/s]\n"
     ]
    },
    {
     "name": "stdout",
     "output_type": "stream",
     "text": [
      "Epoch 49/50, Train Loss: 0.6654, Train Accuracy: 0.7477, Test Loss: 1.5771, Test Accuracy: 0.5433\n",
      "Epoch 49\n"
     ]
    },
    {
     "name": "stderr",
     "output_type": "stream",
     "text": [
      "100%|██████████| 325/325 [00:28<00:00, 11.26it/s]\n",
      "100%|██████████| 140/140 [00:04<00:00, 33.10it/s]\n"
     ]
    },
    {
     "name": "stdout",
     "output_type": "stream",
     "text": [
      "Epoch 50/50, Train Loss: 0.6374, Train Accuracy: 0.7612, Test Loss: 1.6227, Test Accuracy: 0.5536\n",
      "\n",
      "\n",
      "Batch size: 16 lr: 0.0001\n",
      "Training ViT for \"audio\" pipeline ...\n",
      "------------------------------------------------\n",
      "\n",
      "Epoch 0\n"
     ]
    },
    {
     "name": "stderr",
     "output_type": "stream",
     "text": [
      "100%|██████████| 325/325 [00:28<00:00, 11.26it/s]\n",
      "100%|██████████| 140/140 [00:04<00:00, 33.02it/s]\n"
     ]
    },
    {
     "name": "stdout",
     "output_type": "stream",
     "text": [
      "Epoch 1/50, Train Loss: 1.6700, Train Accuracy: 0.3010, Test Loss: 1.5095, Test Accuracy: 0.3948\n",
      "Epoch 1\n"
     ]
    },
    {
     "name": "stderr",
     "output_type": "stream",
     "text": [
      "100%|██████████| 325/325 [00:28<00:00, 11.26it/s]\n",
      "100%|██████████| 140/140 [00:04<00:00, 33.07it/s]\n"
     ]
    },
    {
     "name": "stdout",
     "output_type": "stream",
     "text": [
      "Epoch 2/50, Train Loss: 1.5415, Train Accuracy: 0.3577, Test Loss: 1.4698, Test Accuracy: 0.3845\n",
      "Epoch 2\n"
     ]
    },
    {
     "name": "stderr",
     "output_type": "stream",
     "text": [
      "100%|██████████| 325/325 [00:28<00:00, 11.26it/s]\n",
      "100%|██████████| 140/140 [00:04<00:00, 33.03it/s]\n"
     ]
    },
    {
     "name": "stdout",
     "output_type": "stream",
     "text": [
      "Epoch 3/50, Train Loss: 1.5214, Train Accuracy: 0.3637, Test Loss: 1.5461, Test Accuracy: 0.3724\n",
      "Epoch 3\n"
     ]
    },
    {
     "name": "stderr",
     "output_type": "stream",
     "text": [
      "100%|██████████| 325/325 [00:28<00:00, 11.26it/s]\n",
      "100%|██████████| 140/140 [00:04<00:00, 33.05it/s]\n"
     ]
    },
    {
     "name": "stdout",
     "output_type": "stream",
     "text": [
      "Epoch 4/50, Train Loss: 1.5064, Train Accuracy: 0.3642, Test Loss: 1.4650, Test Accuracy: 0.4087\n",
      "Epoch 4\n"
     ]
    },
    {
     "name": "stderr",
     "output_type": "stream",
     "text": [
      "100%|██████████| 325/325 [00:28<00:00, 11.26it/s]\n",
      "100%|██████████| 140/140 [00:04<00:00, 32.92it/s]\n"
     ]
    },
    {
     "name": "stdout",
     "output_type": "stream",
     "text": [
      "Epoch 5/50, Train Loss: 1.4929, Train Accuracy: 0.3771, Test Loss: 1.5026, Test Accuracy: 0.4011\n",
      "Epoch 5\n"
     ]
    },
    {
     "name": "stderr",
     "output_type": "stream",
     "text": [
      "100%|██████████| 325/325 [00:28<00:00, 11.26it/s]\n",
      "100%|██████████| 140/140 [00:04<00:00, 33.06it/s]\n"
     ]
    },
    {
     "name": "stdout",
     "output_type": "stream",
     "text": [
      "Epoch 6/50, Train Loss: 1.4823, Train Accuracy: 0.3827, Test Loss: 1.4819, Test Accuracy: 0.4105\n",
      "Epoch 6\n"
     ]
    },
    {
     "name": "stderr",
     "output_type": "stream",
     "text": [
      "100%|██████████| 325/325 [00:28<00:00, 11.26it/s]\n",
      "100%|██████████| 140/140 [00:04<00:00, 33.04it/s]\n"
     ]
    },
    {
     "name": "stdout",
     "output_type": "stream",
     "text": [
      "Epoch 7/50, Train Loss: 1.4757, Train Accuracy: 0.3883, Test Loss: 1.4682, Test Accuracy: 0.3957\n",
      "Epoch 7\n"
     ]
    },
    {
     "name": "stderr",
     "output_type": "stream",
     "text": [
      "100%|██████████| 325/325 [00:28<00:00, 11.27it/s]\n",
      "100%|██████████| 140/140 [00:04<00:00, 33.08it/s]\n"
     ]
    },
    {
     "name": "stdout",
     "output_type": "stream",
     "text": [
      "Epoch 8/50, Train Loss: 1.4676, Train Accuracy: 0.3917, Test Loss: 1.4421, Test Accuracy: 0.4159\n",
      "Epoch 8\n"
     ]
    },
    {
     "name": "stderr",
     "output_type": "stream",
     "text": [
      "100%|██████████| 325/325 [00:28<00:00, 11.26it/s]\n",
      "100%|██████████| 140/140 [00:04<00:00, 33.05it/s]\n"
     ]
    },
    {
     "name": "stdout",
     "output_type": "stream",
     "text": [
      "Epoch 9/50, Train Loss: 1.4552, Train Accuracy: 0.3946, Test Loss: 1.4542, Test Accuracy: 0.4217\n",
      "Epoch 9\n"
     ]
    },
    {
     "name": "stderr",
     "output_type": "stream",
     "text": [
      "100%|██████████| 325/325 [00:28<00:00, 11.27it/s]\n",
      "100%|██████████| 140/140 [00:04<00:00, 33.05it/s]\n"
     ]
    },
    {
     "name": "stdout",
     "output_type": "stream",
     "text": [
      "Epoch 10/50, Train Loss: 1.4474, Train Accuracy: 0.4017, Test Loss: 1.4540, Test Accuracy: 0.4204\n",
      "Epoch 10\n"
     ]
    },
    {
     "name": "stderr",
     "output_type": "stream",
     "text": [
      "100%|██████████| 325/325 [00:28<00:00, 11.26it/s]\n",
      "100%|██████████| 140/140 [00:04<00:00, 33.07it/s]\n"
     ]
    },
    {
     "name": "stdout",
     "output_type": "stream",
     "text": [
      "Epoch 11/50, Train Loss: 1.4332, Train Accuracy: 0.4131, Test Loss: 1.5125, Test Accuracy: 0.4186\n",
      "Epoch 11\n"
     ]
    },
    {
     "name": "stderr",
     "output_type": "stream",
     "text": [
      "100%|██████████| 325/325 [00:28<00:00, 11.26it/s]\n",
      "100%|██████████| 140/140 [00:04<00:00, 32.97it/s]\n"
     ]
    },
    {
     "name": "stdout",
     "output_type": "stream",
     "text": [
      "Epoch 12/50, Train Loss: 1.4336, Train Accuracy: 0.4192, Test Loss: 1.5056, Test Accuracy: 0.4056\n",
      "Epoch 12\n"
     ]
    },
    {
     "name": "stderr",
     "output_type": "stream",
     "text": [
      "100%|██████████| 325/325 [00:28<00:00, 11.26it/s]\n",
      "100%|██████████| 140/140 [00:04<00:00, 33.06it/s]\n"
     ]
    },
    {
     "name": "stdout",
     "output_type": "stream",
     "text": [
      "Epoch 13/50, Train Loss: 1.4375, Train Accuracy: 0.4129, Test Loss: 1.4757, Test Accuracy: 0.4006\n",
      "Epoch 13\n"
     ]
    },
    {
     "name": "stderr",
     "output_type": "stream",
     "text": [
      "100%|██████████| 325/325 [00:28<00:00, 11.26it/s]\n",
      "100%|██████████| 140/140 [00:04<00:00, 33.06it/s]\n"
     ]
    },
    {
     "name": "stdout",
     "output_type": "stream",
     "text": [
      "Epoch 14/50, Train Loss: 1.4275, Train Accuracy: 0.4225, Test Loss: 1.4361, Test Accuracy: 0.4181\n",
      "Epoch 14\n"
     ]
    },
    {
     "name": "stderr",
     "output_type": "stream",
     "text": [
      "100%|██████████| 325/325 [00:28<00:00, 11.26it/s]\n",
      "100%|██████████| 140/140 [00:04<00:00, 33.04it/s]\n"
     ]
    },
    {
     "name": "stdout",
     "output_type": "stream",
     "text": [
      "Epoch 15/50, Train Loss: 1.4227, Train Accuracy: 0.4221, Test Loss: 1.4519, Test Accuracy: 0.4154\n",
      "Epoch 15\n"
     ]
    },
    {
     "name": "stderr",
     "output_type": "stream",
     "text": [
      "100%|██████████| 325/325 [00:28<00:00, 11.26it/s]\n",
      "100%|██████████| 140/140 [00:04<00:00, 33.06it/s]\n"
     ]
    },
    {
     "name": "stdout",
     "output_type": "stream",
     "text": [
      "Epoch 16/50, Train Loss: 1.4295, Train Accuracy: 0.4142, Test Loss: 1.6248, Test Accuracy: 0.3571\n",
      "Epoch 16\n"
     ]
    },
    {
     "name": "stderr",
     "output_type": "stream",
     "text": [
      "100%|██████████| 325/325 [00:28<00:00, 11.26it/s]\n",
      "100%|██████████| 140/140 [00:04<00:00, 33.06it/s]\n"
     ]
    },
    {
     "name": "stdout",
     "output_type": "stream",
     "text": [
      "Epoch 17/50, Train Loss: 1.4211, Train Accuracy: 0.4290, Test Loss: 1.4327, Test Accuracy: 0.4392\n",
      "Epoch 17\n"
     ]
    },
    {
     "name": "stderr",
     "output_type": "stream",
     "text": [
      "100%|██████████| 325/325 [00:28<00:00, 11.27it/s]\n",
      "100%|██████████| 140/140 [00:04<00:00, 33.06it/s]\n"
     ]
    },
    {
     "name": "stdout",
     "output_type": "stream",
     "text": [
      "Epoch 18/50, Train Loss: 1.4190, Train Accuracy: 0.4258, Test Loss: 1.4420, Test Accuracy: 0.4392\n",
      "Epoch 18\n"
     ]
    },
    {
     "name": "stderr",
     "output_type": "stream",
     "text": [
      "100%|██████████| 325/325 [00:28<00:00, 11.26it/s]\n",
      "100%|██████████| 140/140 [00:04<00:00, 33.08it/s]\n"
     ]
    },
    {
     "name": "stdout",
     "output_type": "stream",
     "text": [
      "Epoch 19/50, Train Loss: 1.4181, Train Accuracy: 0.4277, Test Loss: 1.4486, Test Accuracy: 0.4181\n",
      "Epoch 19\n"
     ]
    },
    {
     "name": "stderr",
     "output_type": "stream",
     "text": [
      "100%|██████████| 325/325 [00:28<00:00, 11.26it/s]\n",
      "100%|██████████| 140/140 [00:04<00:00, 33.07it/s]\n"
     ]
    },
    {
     "name": "stdout",
     "output_type": "stream",
     "text": [
      "Epoch 20/50, Train Loss: 1.4030, Train Accuracy: 0.4277, Test Loss: 1.4325, Test Accuracy: 0.4311\n",
      "Epoch 20\n"
     ]
    },
    {
     "name": "stderr",
     "output_type": "stream",
     "text": [
      "100%|██████████| 325/325 [00:28<00:00, 11.26it/s]\n",
      "100%|██████████| 140/140 [00:04<00:00, 33.05it/s]\n"
     ]
    },
    {
     "name": "stdout",
     "output_type": "stream",
     "text": [
      "Epoch 21/50, Train Loss: 1.4109, Train Accuracy: 0.4300, Test Loss: 1.4114, Test Accuracy: 0.4289\n",
      "Epoch 21\n"
     ]
    },
    {
     "name": "stderr",
     "output_type": "stream",
     "text": [
      "100%|██████████| 325/325 [00:28<00:00, 11.26it/s]\n",
      "100%|██████████| 140/140 [00:04<00:00, 33.08it/s]\n"
     ]
    },
    {
     "name": "stdout",
     "output_type": "stream",
     "text": [
      "Epoch 22/50, Train Loss: 1.4117, Train Accuracy: 0.4267, Test Loss: 1.4777, Test Accuracy: 0.4172\n",
      "Epoch 22\n"
     ]
    },
    {
     "name": "stderr",
     "output_type": "stream",
     "text": [
      "100%|██████████| 325/325 [00:28<00:00, 11.26it/s]\n",
      "100%|██████████| 140/140 [00:04<00:00, 33.04it/s]\n"
     ]
    },
    {
     "name": "stdout",
     "output_type": "stream",
     "text": [
      "Epoch 23/50, Train Loss: 1.4045, Train Accuracy: 0.4352, Test Loss: 1.4625, Test Accuracy: 0.4186\n",
      "Epoch 23\n"
     ]
    },
    {
     "name": "stderr",
     "output_type": "stream",
     "text": [
      "100%|██████████| 325/325 [00:28<00:00, 11.26it/s]\n",
      "100%|██████████| 140/140 [00:04<00:00, 33.05it/s]\n"
     ]
    },
    {
     "name": "stdout",
     "output_type": "stream",
     "text": [
      "Epoch 24/50, Train Loss: 1.3894, Train Accuracy: 0.4396, Test Loss: 1.4472, Test Accuracy: 0.4370\n",
      "Epoch 24\n"
     ]
    },
    {
     "name": "stderr",
     "output_type": "stream",
     "text": [
      "100%|██████████| 325/325 [00:28<00:00, 11.26it/s]\n",
      "100%|██████████| 140/140 [00:04<00:00, 33.07it/s]\n"
     ]
    },
    {
     "name": "stdout",
     "output_type": "stream",
     "text": [
      "Epoch 25/50, Train Loss: 1.3920, Train Accuracy: 0.4440, Test Loss: 1.4479, Test Accuracy: 0.4284\n",
      "Epoch 25\n"
     ]
    },
    {
     "name": "stderr",
     "output_type": "stream",
     "text": [
      "100%|██████████| 325/325 [00:28<00:00, 11.26it/s]\n",
      "100%|██████████| 140/140 [00:04<00:00, 33.08it/s]\n"
     ]
    },
    {
     "name": "stdout",
     "output_type": "stream",
     "text": [
      "Epoch 26/50, Train Loss: 1.3925, Train Accuracy: 0.4365, Test Loss: 1.4372, Test Accuracy: 0.4302\n",
      "Epoch 26\n"
     ]
    },
    {
     "name": "stderr",
     "output_type": "stream",
     "text": [
      "100%|██████████| 325/325 [00:28<00:00, 11.27it/s]\n",
      "100%|██████████| 140/140 [00:04<00:00, 33.08it/s]\n"
     ]
    },
    {
     "name": "stdout",
     "output_type": "stream",
     "text": [
      "Epoch 27/50, Train Loss: 1.3842, Train Accuracy: 0.4425, Test Loss: 1.4213, Test Accuracy: 0.4289\n",
      "Epoch 27\n"
     ]
    },
    {
     "name": "stderr",
     "output_type": "stream",
     "text": [
      "100%|██████████| 325/325 [00:28<00:00, 11.26it/s]\n",
      "100%|██████████| 140/140 [00:04<00:00, 33.07it/s]\n"
     ]
    },
    {
     "name": "stdout",
     "output_type": "stream",
     "text": [
      "Epoch 28/50, Train Loss: 1.3852, Train Accuracy: 0.4512, Test Loss: 1.4332, Test Accuracy: 0.4302\n",
      "Epoch 28\n"
     ]
    },
    {
     "name": "stderr",
     "output_type": "stream",
     "text": [
      "100%|██████████| 325/325 [00:28<00:00, 11.26it/s]\n",
      "100%|██████████| 140/140 [00:04<00:00, 33.06it/s]\n"
     ]
    },
    {
     "name": "stdout",
     "output_type": "stream",
     "text": [
      "Epoch 29/50, Train Loss: 1.3863, Train Accuracy: 0.4450, Test Loss: 1.4242, Test Accuracy: 0.4298\n",
      "Epoch 29\n"
     ]
    },
    {
     "name": "stderr",
     "output_type": "stream",
     "text": [
      "100%|██████████| 325/325 [00:28<00:00, 11.26it/s]\n",
      "100%|██████████| 140/140 [00:04<00:00, 33.03it/s]\n"
     ]
    },
    {
     "name": "stdout",
     "output_type": "stream",
     "text": [
      "Epoch 30/50, Train Loss: 1.3796, Train Accuracy: 0.4437, Test Loss: 1.4546, Test Accuracy: 0.4374\n",
      "Epoch 30\n"
     ]
    },
    {
     "name": "stderr",
     "output_type": "stream",
     "text": [
      "100%|██████████| 325/325 [00:28<00:00, 11.27it/s]\n",
      "100%|██████████| 140/140 [00:04<00:00, 33.06it/s]\n"
     ]
    },
    {
     "name": "stdout",
     "output_type": "stream",
     "text": [
      "Epoch 31/50, Train Loss: 1.3792, Train Accuracy: 0.4508, Test Loss: 1.4338, Test Accuracy: 0.4302\n",
      "Epoch 31\n"
     ]
    },
    {
     "name": "stderr",
     "output_type": "stream",
     "text": [
      "100%|██████████| 325/325 [00:28<00:00, 11.26it/s]\n",
      "100%|██████████| 140/140 [00:04<00:00, 33.07it/s]\n"
     ]
    },
    {
     "name": "stdout",
     "output_type": "stream",
     "text": [
      "Epoch 32/50, Train Loss: 1.3809, Train Accuracy: 0.4487, Test Loss: 1.3936, Test Accuracy: 0.4432\n",
      "Epoch 32\n"
     ]
    },
    {
     "name": "stderr",
     "output_type": "stream",
     "text": [
      "100%|██████████| 325/325 [00:28<00:00, 11.26it/s]\n",
      "100%|██████████| 140/140 [00:04<00:00, 33.05it/s]\n"
     ]
    },
    {
     "name": "stdout",
     "output_type": "stream",
     "text": [
      "Epoch 33/50, Train Loss: 1.3677, Train Accuracy: 0.4579, Test Loss: 1.4219, Test Accuracy: 0.4415\n",
      "Epoch 33\n"
     ]
    },
    {
     "name": "stderr",
     "output_type": "stream",
     "text": [
      "100%|██████████| 325/325 [00:28<00:00, 11.26it/s]\n",
      "100%|██████████| 140/140 [00:04<00:00, 33.05it/s]\n"
     ]
    },
    {
     "name": "stdout",
     "output_type": "stream",
     "text": [
      "Epoch 34/50, Train Loss: 1.3739, Train Accuracy: 0.4475, Test Loss: 1.3686, Test Accuracy: 0.4509\n",
      "Epoch 34\n"
     ]
    },
    {
     "name": "stderr",
     "output_type": "stream",
     "text": [
      "100%|██████████| 325/325 [00:28<00:00, 11.27it/s]\n",
      "100%|██████████| 140/140 [00:04<00:00, 33.08it/s]\n"
     ]
    },
    {
     "name": "stdout",
     "output_type": "stream",
     "text": [
      "Epoch 35/50, Train Loss: 1.3660, Train Accuracy: 0.4513, Test Loss: 1.4536, Test Accuracy: 0.4388\n",
      "Epoch 35\n"
     ]
    },
    {
     "name": "stderr",
     "output_type": "stream",
     "text": [
      "100%|██████████| 325/325 [00:28<00:00, 11.27it/s]\n",
      "100%|██████████| 140/140 [00:04<00:00, 33.06it/s]\n"
     ]
    },
    {
     "name": "stdout",
     "output_type": "stream",
     "text": [
      "Epoch 36/50, Train Loss: 1.3782, Train Accuracy: 0.4425, Test Loss: 1.3634, Test Accuracy: 0.4486\n",
      "Epoch 36\n"
     ]
    },
    {
     "name": "stderr",
     "output_type": "stream",
     "text": [
      "100%|██████████| 325/325 [00:28<00:00, 11.26it/s]\n",
      "100%|██████████| 140/140 [00:04<00:00, 33.03it/s]\n"
     ]
    },
    {
     "name": "stdout",
     "output_type": "stream",
     "text": [
      "Epoch 37/50, Train Loss: 1.3575, Train Accuracy: 0.4642, Test Loss: 1.4271, Test Accuracy: 0.4334\n",
      "Epoch 37\n"
     ]
    },
    {
     "name": "stderr",
     "output_type": "stream",
     "text": [
      "100%|██████████| 325/325 [00:28<00:00, 11.27it/s]\n",
      "100%|██████████| 140/140 [00:04<00:00, 33.04it/s]\n"
     ]
    },
    {
     "name": "stdout",
     "output_type": "stream",
     "text": [
      "Epoch 38/50, Train Loss: 1.3710, Train Accuracy: 0.4508, Test Loss: 1.4315, Test Accuracy: 0.4293\n",
      "Epoch 38\n"
     ]
    },
    {
     "name": "stderr",
     "output_type": "stream",
     "text": [
      "100%|██████████| 325/325 [00:28<00:00, 11.26it/s]\n",
      "100%|██████████| 140/140 [00:04<00:00, 33.05it/s]\n"
     ]
    },
    {
     "name": "stdout",
     "output_type": "stream",
     "text": [
      "Epoch 39/50, Train Loss: 1.3511, Train Accuracy: 0.4606, Test Loss: 1.3969, Test Accuracy: 0.4531\n",
      "Epoch 39\n"
     ]
    },
    {
     "name": "stderr",
     "output_type": "stream",
     "text": [
      "100%|██████████| 325/325 [00:28<00:00, 11.26it/s]\n",
      "100%|██████████| 140/140 [00:04<00:00, 33.02it/s]\n"
     ]
    },
    {
     "name": "stdout",
     "output_type": "stream",
     "text": [
      "Epoch 40/50, Train Loss: 1.3611, Train Accuracy: 0.4565, Test Loss: 1.4768, Test Accuracy: 0.4352\n",
      "Epoch 40\n"
     ]
    },
    {
     "name": "stderr",
     "output_type": "stream",
     "text": [
      "100%|██████████| 325/325 [00:28<00:00, 11.26it/s]\n",
      "100%|██████████| 140/140 [00:04<00:00, 33.07it/s]\n"
     ]
    },
    {
     "name": "stdout",
     "output_type": "stream",
     "text": [
      "Epoch 41/50, Train Loss: 1.3514, Train Accuracy: 0.4675, Test Loss: 1.3822, Test Accuracy: 0.4486\n",
      "Epoch 41\n"
     ]
    },
    {
     "name": "stderr",
     "output_type": "stream",
     "text": [
      "100%|██████████| 325/325 [00:28<00:00, 11.25it/s]\n",
      "100%|██████████| 140/140 [00:04<00:00, 33.06it/s]\n"
     ]
    },
    {
     "name": "stdout",
     "output_type": "stream",
     "text": [
      "Epoch 42/50, Train Loss: 1.3557, Train Accuracy: 0.4623, Test Loss: 1.3920, Test Accuracy: 0.4370\n",
      "Epoch 42\n"
     ]
    },
    {
     "name": "stderr",
     "output_type": "stream",
     "text": [
      "100%|██████████| 325/325 [00:28<00:00, 11.27it/s]\n",
      "100%|██████████| 140/140 [00:04<00:00, 33.06it/s]\n"
     ]
    },
    {
     "name": "stdout",
     "output_type": "stream",
     "text": [
      "Epoch 43/50, Train Loss: 1.3525, Train Accuracy: 0.4662, Test Loss: 1.4924, Test Accuracy: 0.4397\n",
      "Epoch 43\n"
     ]
    },
    {
     "name": "stderr",
     "output_type": "stream",
     "text": [
      "100%|██████████| 325/325 [00:28<00:00, 11.26it/s]\n",
      "100%|██████████| 140/140 [00:04<00:00, 33.07it/s]\n"
     ]
    },
    {
     "name": "stdout",
     "output_type": "stream",
     "text": [
      "Epoch 44/50, Train Loss: 1.3549, Train Accuracy: 0.4583, Test Loss: 1.4002, Test Accuracy: 0.4603\n",
      "Epoch 44\n"
     ]
    },
    {
     "name": "stderr",
     "output_type": "stream",
     "text": [
      "100%|██████████| 325/325 [00:28<00:00, 11.26it/s]\n",
      "100%|██████████| 140/140 [00:04<00:00, 33.02it/s]\n"
     ]
    },
    {
     "name": "stdout",
     "output_type": "stream",
     "text": [
      "Epoch 45/50, Train Loss: 1.3428, Train Accuracy: 0.4663, Test Loss: 1.4269, Test Accuracy: 0.4343\n",
      "Epoch 45\n"
     ]
    },
    {
     "name": "stderr",
     "output_type": "stream",
     "text": [
      "100%|██████████| 325/325 [00:28<00:00, 11.27it/s]\n",
      "100%|██████████| 140/140 [00:04<00:00, 33.09it/s]\n"
     ]
    },
    {
     "name": "stdout",
     "output_type": "stream",
     "text": [
      "Epoch 46/50, Train Loss: 1.3462, Train Accuracy: 0.4723, Test Loss: 1.3963, Test Accuracy: 0.4513\n",
      "Epoch 46\n"
     ]
    },
    {
     "name": "stderr",
     "output_type": "stream",
     "text": [
      "100%|██████████| 325/325 [00:28<00:00, 11.27it/s]\n",
      "100%|██████████| 140/140 [00:04<00:00, 33.07it/s]\n"
     ]
    },
    {
     "name": "stdout",
     "output_type": "stream",
     "text": [
      "Epoch 47/50, Train Loss: 1.3379, Train Accuracy: 0.4783, Test Loss: 1.3890, Test Accuracy: 0.4554\n",
      "Epoch 47\n"
     ]
    },
    {
     "name": "stderr",
     "output_type": "stream",
     "text": [
      "100%|██████████| 325/325 [00:28<00:00, 11.27it/s]\n",
      "100%|██████████| 140/140 [00:04<00:00, 33.05it/s]\n"
     ]
    },
    {
     "name": "stdout",
     "output_type": "stream",
     "text": [
      "Epoch 48/50, Train Loss: 1.3374, Train Accuracy: 0.4663, Test Loss: 1.3875, Test Accuracy: 0.4581\n",
      "Epoch 48\n"
     ]
    },
    {
     "name": "stderr",
     "output_type": "stream",
     "text": [
      "100%|██████████| 325/325 [00:28<00:00, 11.27it/s]\n",
      "100%|██████████| 140/140 [00:04<00:00, 33.05it/s]\n"
     ]
    },
    {
     "name": "stdout",
     "output_type": "stream",
     "text": [
      "Epoch 49/50, Train Loss: 1.3520, Train Accuracy: 0.4694, Test Loss: 1.3535, Test Accuracy: 0.4634\n",
      "Epoch 49\n"
     ]
    },
    {
     "name": "stderr",
     "output_type": "stream",
     "text": [
      "100%|██████████| 325/325 [00:28<00:00, 11.27it/s]\n",
      "100%|██████████| 140/140 [00:04<00:00, 33.06it/s]\n"
     ]
    },
    {
     "name": "stdout",
     "output_type": "stream",
     "text": [
      "Epoch 50/50, Train Loss: 1.3354, Train Accuracy: 0.4710, Test Loss: 1.4487, Test Accuracy: 0.4401\n",
      "\n",
      "\n",
      "Batch size: 16 lr: 0.0001\n",
      "Training ViT for \"multimodal\" pipeline ...\n",
      "------------------------------------------------\n",
      "\n",
      "Epoch 0\n"
     ]
    },
    {
     "name": "stderr",
     "output_type": "stream",
     "text": [
      "100%|██████████| 325/325 [00:29<00:00, 11.12it/s]\n",
      "100%|██████████| 140/140 [00:04<00:00, 32.29it/s]\n"
     ]
    },
    {
     "name": "stdout",
     "output_type": "stream",
     "text": [
      "Epoch 1/50, Train Loss: 1.5688, Train Accuracy: 0.3650, Test Loss: 1.2204, Test Accuracy: 0.5132\n",
      "Epoch 1\n"
     ]
    },
    {
     "name": "stderr",
     "output_type": "stream",
     "text": [
      "100%|██████████| 325/325 [00:29<00:00, 11.12it/s]\n",
      "100%|██████████| 140/140 [00:04<00:00, 32.28it/s]\n"
     ]
    },
    {
     "name": "stdout",
     "output_type": "stream",
     "text": [
      "Epoch 2/50, Train Loss: 1.2756, Train Accuracy: 0.4923, Test Loss: 1.2342, Test Accuracy: 0.5464\n",
      "Epoch 2\n"
     ]
    },
    {
     "name": "stderr",
     "output_type": "stream",
     "text": [
      "100%|██████████| 325/325 [00:29<00:00, 11.12it/s]\n",
      "100%|██████████| 140/140 [00:04<00:00, 32.27it/s]\n"
     ]
    },
    {
     "name": "stdout",
     "output_type": "stream",
     "text": [
      "Epoch 3/50, Train Loss: 1.1753, Train Accuracy: 0.5423, Test Loss: 1.3059, Test Accuracy: 0.5267\n",
      "Epoch 3\n"
     ]
    },
    {
     "name": "stderr",
     "output_type": "stream",
     "text": [
      "100%|██████████| 325/325 [00:29<00:00, 11.12it/s]\n",
      "100%|██████████| 140/140 [00:04<00:00, 32.29it/s]\n"
     ]
    },
    {
     "name": "stdout",
     "output_type": "stream",
     "text": [
      "Epoch 4/50, Train Loss: 1.1270, Train Accuracy: 0.5604, Test Loss: 1.2085, Test Accuracy: 0.5796\n",
      "Epoch 4\n"
     ]
    },
    {
     "name": "stderr",
     "output_type": "stream",
     "text": [
      "100%|██████████| 325/325 [00:29<00:00, 11.12it/s]\n",
      "100%|██████████| 140/140 [00:04<00:00, 32.32it/s]\n"
     ]
    },
    {
     "name": "stdout",
     "output_type": "stream",
     "text": [
      "Epoch 5/50, Train Loss: 1.0960, Train Accuracy: 0.5729, Test Loss: 1.1233, Test Accuracy: 0.5774\n",
      "Epoch 5\n"
     ]
    },
    {
     "name": "stderr",
     "output_type": "stream",
     "text": [
      "100%|██████████| 325/325 [00:29<00:00, 11.12it/s]\n",
      "100%|██████████| 140/140 [00:04<00:00, 32.32it/s]\n"
     ]
    },
    {
     "name": "stdout",
     "output_type": "stream",
     "text": [
      "Epoch 6/50, Train Loss: 1.0636, Train Accuracy: 0.5885, Test Loss: 1.1087, Test Accuracy: 0.5819\n",
      "Epoch 6\n"
     ]
    },
    {
     "name": "stderr",
     "output_type": "stream",
     "text": [
      "100%|██████████| 325/325 [00:29<00:00, 11.12it/s]\n",
      "100%|██████████| 140/140 [00:04<00:00, 32.29it/s]\n"
     ]
    },
    {
     "name": "stdout",
     "output_type": "stream",
     "text": [
      "Epoch 7/50, Train Loss: 1.0248, Train Accuracy: 0.6092, Test Loss: 1.1251, Test Accuracy: 0.5908\n",
      "Epoch 7\n"
     ]
    },
    {
     "name": "stderr",
     "output_type": "stream",
     "text": [
      "100%|██████████| 325/325 [00:29<00:00, 11.12it/s]\n",
      "100%|██████████| 140/140 [00:04<00:00, 32.30it/s]\n"
     ]
    },
    {
     "name": "stdout",
     "output_type": "stream",
     "text": [
      "Epoch 8/50, Train Loss: 1.0262, Train Accuracy: 0.6090, Test Loss: 1.0995, Test Accuracy: 0.6048\n",
      "Epoch 8\n"
     ]
    },
    {
     "name": "stderr",
     "output_type": "stream",
     "text": [
      "100%|██████████| 325/325 [00:29<00:00, 11.12it/s]\n",
      "100%|██████████| 140/140 [00:04<00:00, 32.28it/s]\n"
     ]
    },
    {
     "name": "stdout",
     "output_type": "stream",
     "text": [
      "Epoch 9/50, Train Loss: 0.9923, Train Accuracy: 0.6265, Test Loss: 1.0822, Test Accuracy: 0.5985\n",
      "Epoch 9\n"
     ]
    },
    {
     "name": "stderr",
     "output_type": "stream",
     "text": [
      "100%|██████████| 325/325 [00:29<00:00, 11.12it/s]\n",
      "100%|██████████| 140/140 [00:04<00:00, 32.28it/s]\n"
     ]
    },
    {
     "name": "stdout",
     "output_type": "stream",
     "text": [
      "Epoch 10/50, Train Loss: 0.9682, Train Accuracy: 0.6352, Test Loss: 1.1434, Test Accuracy: 0.5895\n",
      "Epoch 10\n"
     ]
    },
    {
     "name": "stderr",
     "output_type": "stream",
     "text": [
      "100%|██████████| 325/325 [00:29<00:00, 11.12it/s]\n",
      "100%|██████████| 140/140 [00:04<00:00, 32.29it/s]\n"
     ]
    },
    {
     "name": "stdout",
     "output_type": "stream",
     "text": [
      "Epoch 11/50, Train Loss: 0.9558, Train Accuracy: 0.6400, Test Loss: 1.0966, Test Accuracy: 0.6070\n",
      "Epoch 11\n"
     ]
    },
    {
     "name": "stderr",
     "output_type": "stream",
     "text": [
      "100%|██████████| 325/325 [00:29<00:00, 11.12it/s]\n",
      "100%|██████████| 140/140 [00:04<00:00, 32.31it/s]\n"
     ]
    },
    {
     "name": "stdout",
     "output_type": "stream",
     "text": [
      "Epoch 12/50, Train Loss: 0.9438, Train Accuracy: 0.6444, Test Loss: 1.0357, Test Accuracy: 0.6205\n",
      "Epoch 12\n"
     ]
    },
    {
     "name": "stderr",
     "output_type": "stream",
     "text": [
      "100%|██████████| 325/325 [00:29<00:00, 11.12it/s]\n",
      "100%|██████████| 140/140 [00:04<00:00, 32.06it/s]\n"
     ]
    },
    {
     "name": "stdout",
     "output_type": "stream",
     "text": [
      "Epoch 13/50, Train Loss: 0.9271, Train Accuracy: 0.6540, Test Loss: 1.0175, Test Accuracy: 0.6433\n",
      "Epoch 13\n"
     ]
    },
    {
     "name": "stderr",
     "output_type": "stream",
     "text": [
      "100%|██████████| 325/325 [00:29<00:00, 11.12it/s]\n",
      "100%|██████████| 140/140 [00:04<00:00, 32.29it/s]\n"
     ]
    },
    {
     "name": "stdout",
     "output_type": "stream",
     "text": [
      "Epoch 14/50, Train Loss: 0.9143, Train Accuracy: 0.6658, Test Loss: 1.1658, Test Accuracy: 0.6106\n",
      "Epoch 14\n"
     ]
    },
    {
     "name": "stderr",
     "output_type": "stream",
     "text": [
      "100%|██████████| 325/325 [00:29<00:00, 11.12it/s]\n",
      "100%|██████████| 140/140 [00:04<00:00, 32.29it/s]\n"
     ]
    },
    {
     "name": "stdout",
     "output_type": "stream",
     "text": [
      "Epoch 15/50, Train Loss: 0.8965, Train Accuracy: 0.6742, Test Loss: 1.0937, Test Accuracy: 0.6249\n",
      "Epoch 15\n"
     ]
    },
    {
     "name": "stderr",
     "output_type": "stream",
     "text": [
      "100%|██████████| 325/325 [00:29<00:00, 11.12it/s]\n",
      "100%|██████████| 140/140 [00:04<00:00, 32.21it/s]\n"
     ]
    },
    {
     "name": "stdout",
     "output_type": "stream",
     "text": [
      "Epoch 16/50, Train Loss: 0.8808, Train Accuracy: 0.6738, Test Loss: 1.0462, Test Accuracy: 0.6429\n",
      "Epoch 16\n"
     ]
    },
    {
     "name": "stderr",
     "output_type": "stream",
     "text": [
      "100%|██████████| 325/325 [00:29<00:00, 11.11it/s]\n",
      "100%|██████████| 140/140 [00:04<00:00, 32.27it/s]\n"
     ]
    },
    {
     "name": "stdout",
     "output_type": "stream",
     "text": [
      "Epoch 17/50, Train Loss: 0.8828, Train Accuracy: 0.6763, Test Loss: 1.0954, Test Accuracy: 0.6362\n",
      "Epoch 17\n"
     ]
    },
    {
     "name": "stderr",
     "output_type": "stream",
     "text": [
      "100%|██████████| 325/325 [00:29<00:00, 11.12it/s]\n",
      "100%|██████████| 140/140 [00:04<00:00, 32.30it/s]\n"
     ]
    },
    {
     "name": "stdout",
     "output_type": "stream",
     "text": [
      "Epoch 18/50, Train Loss: 0.8587, Train Accuracy: 0.6787, Test Loss: 0.9837, Test Accuracy: 0.6456\n",
      "Epoch 18\n"
     ]
    },
    {
     "name": "stderr",
     "output_type": "stream",
     "text": [
      "100%|██████████| 325/325 [00:29<00:00, 11.12it/s]\n",
      "100%|██████████| 140/140 [00:04<00:00, 32.26it/s]\n"
     ]
    },
    {
     "name": "stdout",
     "output_type": "stream",
     "text": [
      "Epoch 19/50, Train Loss: 0.8350, Train Accuracy: 0.6917, Test Loss: 1.0100, Test Accuracy: 0.6429\n",
      "Epoch 19\n"
     ]
    },
    {
     "name": "stderr",
     "output_type": "stream",
     "text": [
      "100%|██████████| 325/325 [00:29<00:00, 11.12it/s]\n",
      "100%|██████████| 140/140 [00:04<00:00, 32.28it/s]\n"
     ]
    },
    {
     "name": "stdout",
     "output_type": "stream",
     "text": [
      "Epoch 20/50, Train Loss: 0.8350, Train Accuracy: 0.6958, Test Loss: 0.9433, Test Accuracy: 0.6689\n",
      "Epoch 20\n"
     ]
    },
    {
     "name": "stderr",
     "output_type": "stream",
     "text": [
      "100%|██████████| 325/325 [00:29<00:00, 11.12it/s]\n",
      "100%|██████████| 140/140 [00:04<00:00, 32.17it/s]\n"
     ]
    },
    {
     "name": "stdout",
     "output_type": "stream",
     "text": [
      "Epoch 21/50, Train Loss: 0.8183, Train Accuracy: 0.6952, Test Loss: 1.0068, Test Accuracy: 0.6456\n",
      "Epoch 21\n"
     ]
    },
    {
     "name": "stderr",
     "output_type": "stream",
     "text": [
      "100%|██████████| 325/325 [00:29<00:00, 11.12it/s]\n",
      "100%|██████████| 140/140 [00:04<00:00, 32.15it/s]\n"
     ]
    },
    {
     "name": "stdout",
     "output_type": "stream",
     "text": [
      "Epoch 22/50, Train Loss: 0.8173, Train Accuracy: 0.7004, Test Loss: 1.2256, Test Accuracy: 0.5994\n",
      "Epoch 22\n"
     ]
    },
    {
     "name": "stderr",
     "output_type": "stream",
     "text": [
      "100%|██████████| 325/325 [00:29<00:00, 11.11it/s]\n",
      "100%|██████████| 140/140 [00:04<00:00, 32.28it/s]\n"
     ]
    },
    {
     "name": "stdout",
     "output_type": "stream",
     "text": [
      "Epoch 23/50, Train Loss: 0.7912, Train Accuracy: 0.7113, Test Loss: 1.1042, Test Accuracy: 0.6483\n",
      "Epoch 23\n"
     ]
    },
    {
     "name": "stderr",
     "output_type": "stream",
     "text": [
      "100%|██████████| 325/325 [00:29<00:00, 11.12it/s]\n",
      "100%|██████████| 140/140 [00:04<00:00, 32.09it/s]\n"
     ]
    },
    {
     "name": "stdout",
     "output_type": "stream",
     "text": [
      "Epoch 24/50, Train Loss: 0.7922, Train Accuracy: 0.7054, Test Loss: 1.0113, Test Accuracy: 0.6424\n",
      "Epoch 24\n"
     ]
    },
    {
     "name": "stderr",
     "output_type": "stream",
     "text": [
      "100%|██████████| 325/325 [00:29<00:00, 11.11it/s]\n",
      "100%|██████████| 140/140 [00:04<00:00, 32.26it/s]\n"
     ]
    },
    {
     "name": "stdout",
     "output_type": "stream",
     "text": [
      "Epoch 25/50, Train Loss: 0.7790, Train Accuracy: 0.7090, Test Loss: 1.0382, Test Accuracy: 0.6595\n",
      "Epoch 25\n"
     ]
    },
    {
     "name": "stderr",
     "output_type": "stream",
     "text": [
      "100%|██████████| 325/325 [00:29<00:00, 11.12it/s]\n",
      "100%|██████████| 140/140 [00:04<00:00, 32.28it/s]\n"
     ]
    },
    {
     "name": "stdout",
     "output_type": "stream",
     "text": [
      "Epoch 26/50, Train Loss: 0.7616, Train Accuracy: 0.7215, Test Loss: 1.0332, Test Accuracy: 0.6478\n",
      "Epoch 26\n"
     ]
    },
    {
     "name": "stderr",
     "output_type": "stream",
     "text": [
      "100%|██████████| 325/325 [00:29<00:00, 11.12it/s]\n",
      "100%|██████████| 140/140 [00:04<00:00, 32.27it/s]\n"
     ]
    },
    {
     "name": "stdout",
     "output_type": "stream",
     "text": [
      "Epoch 27/50, Train Loss: 0.7502, Train Accuracy: 0.7240, Test Loss: 1.0478, Test Accuracy: 0.6604\n",
      "Epoch 27\n"
     ]
    },
    {
     "name": "stderr",
     "output_type": "stream",
     "text": [
      "100%|██████████| 325/325 [00:29<00:00, 11.12it/s]\n",
      "100%|██████████| 140/140 [00:04<00:00, 32.29it/s]\n"
     ]
    },
    {
     "name": "stdout",
     "output_type": "stream",
     "text": [
      "Epoch 28/50, Train Loss: 0.7505, Train Accuracy: 0.7250, Test Loss: 1.0197, Test Accuracy: 0.6492\n",
      "Epoch 28\n"
     ]
    },
    {
     "name": "stderr",
     "output_type": "stream",
     "text": [
      "100%|██████████| 325/325 [00:29<00:00, 11.12it/s]\n",
      "100%|██████████| 140/140 [00:04<00:00, 32.29it/s]\n"
     ]
    },
    {
     "name": "stdout",
     "output_type": "stream",
     "text": [
      "Epoch 29/50, Train Loss: 0.7196, Train Accuracy: 0.7327, Test Loss: 0.9754, Test Accuracy: 0.6653\n",
      "Epoch 29\n"
     ]
    },
    {
     "name": "stderr",
     "output_type": "stream",
     "text": [
      "100%|██████████| 325/325 [00:29<00:00, 11.12it/s]\n",
      "100%|██████████| 140/140 [00:04<00:00, 32.27it/s]\n"
     ]
    },
    {
     "name": "stdout",
     "output_type": "stream",
     "text": [
      "Epoch 30/50, Train Loss: 0.7330, Train Accuracy: 0.7346, Test Loss: 1.0067, Test Accuracy: 0.6617\n",
      "Epoch 30\n"
     ]
    },
    {
     "name": "stderr",
     "output_type": "stream",
     "text": [
      "100%|██████████| 325/325 [00:29<00:00, 11.12it/s]\n",
      "100%|██████████| 140/140 [00:04<00:00, 32.32it/s]\n"
     ]
    },
    {
     "name": "stdout",
     "output_type": "stream",
     "text": [
      "Epoch 31/50, Train Loss: 0.7198, Train Accuracy: 0.7385, Test Loss: 1.1918, Test Accuracy: 0.6196\n",
      "Epoch 31\n"
     ]
    },
    {
     "name": "stderr",
     "output_type": "stream",
     "text": [
      "100%|██████████| 325/325 [00:29<00:00, 11.12it/s]\n",
      "100%|██████████| 140/140 [00:04<00:00, 32.29it/s]\n"
     ]
    },
    {
     "name": "stdout",
     "output_type": "stream",
     "text": [
      "Epoch 32/50, Train Loss: 0.7091, Train Accuracy: 0.7415, Test Loss: 1.1082, Test Accuracy: 0.6474\n",
      "Epoch 32\n"
     ]
    },
    {
     "name": "stderr",
     "output_type": "stream",
     "text": [
      "100%|██████████| 325/325 [00:29<00:00, 11.11it/s]\n",
      "100%|██████████| 140/140 [00:04<00:00, 32.11it/s]\n"
     ]
    },
    {
     "name": "stdout",
     "output_type": "stream",
     "text": [
      "Epoch 33/50, Train Loss: 0.7099, Train Accuracy: 0.7437, Test Loss: 1.0034, Test Accuracy: 0.6774\n",
      "Epoch 33\n"
     ]
    },
    {
     "name": "stderr",
     "output_type": "stream",
     "text": [
      "100%|██████████| 325/325 [00:29<00:00, 11.12it/s]\n",
      "100%|██████████| 140/140 [00:04<00:00, 32.25it/s]\n"
     ]
    },
    {
     "name": "stdout",
     "output_type": "stream",
     "text": [
      "Epoch 34/50, Train Loss: 0.6835, Train Accuracy: 0.7512, Test Loss: 1.0431, Test Accuracy: 0.6662\n",
      "Epoch 34\n"
     ]
    },
    {
     "name": "stderr",
     "output_type": "stream",
     "text": [
      "100%|██████████| 325/325 [00:29<00:00, 11.11it/s]\n",
      "100%|██████████| 140/140 [00:04<00:00, 32.24it/s]\n"
     ]
    },
    {
     "name": "stdout",
     "output_type": "stream",
     "text": [
      "Epoch 35/50, Train Loss: 0.6745, Train Accuracy: 0.7550, Test Loss: 0.9274, Test Accuracy: 0.6878\n",
      "Epoch 35\n"
     ]
    },
    {
     "name": "stderr",
     "output_type": "stream",
     "text": [
      "100%|██████████| 325/325 [00:29<00:00, 11.11it/s]\n",
      "100%|██████████| 140/140 [00:04<00:00, 32.14it/s]\n"
     ]
    },
    {
     "name": "stdout",
     "output_type": "stream",
     "text": [
      "Epoch 36/50, Train Loss: 0.6610, Train Accuracy: 0.7537, Test Loss: 0.9913, Test Accuracy: 0.6815\n",
      "Epoch 36\n"
     ]
    },
    {
     "name": "stderr",
     "output_type": "stream",
     "text": [
      "100%|██████████| 325/325 [00:29<00:00, 11.13it/s]\n",
      "100%|██████████| 140/140 [00:04<00:00, 32.24it/s]\n"
     ]
    },
    {
     "name": "stdout",
     "output_type": "stream",
     "text": [
      "Epoch 37/50, Train Loss: 0.6760, Train Accuracy: 0.7475, Test Loss: 1.0593, Test Accuracy: 0.6667\n",
      "Epoch 37\n"
     ]
    },
    {
     "name": "stderr",
     "output_type": "stream",
     "text": [
      "100%|██████████| 325/325 [00:29<00:00, 11.10it/s]\n",
      "100%|██████████| 140/140 [00:04<00:00, 32.24it/s]\n"
     ]
    },
    {
     "name": "stdout",
     "output_type": "stream",
     "text": [
      "Epoch 38/50, Train Loss: 0.6606, Train Accuracy: 0.7577, Test Loss: 1.0401, Test Accuracy: 0.6806\n",
      "Epoch 38\n"
     ]
    },
    {
     "name": "stderr",
     "output_type": "stream",
     "text": [
      "100%|██████████| 325/325 [00:29<00:00, 11.11it/s]\n",
      "100%|██████████| 140/140 [00:04<00:00, 32.27it/s]\n"
     ]
    },
    {
     "name": "stdout",
     "output_type": "stream",
     "text": [
      "Epoch 39/50, Train Loss: 0.6255, Train Accuracy: 0.7725, Test Loss: 1.0666, Test Accuracy: 0.6837\n",
      "Epoch 39\n"
     ]
    },
    {
     "name": "stderr",
     "output_type": "stream",
     "text": [
      "100%|██████████| 325/325 [00:29<00:00, 11.12it/s]\n",
      "100%|██████████| 140/140 [00:04<00:00, 32.27it/s]\n"
     ]
    },
    {
     "name": "stdout",
     "output_type": "stream",
     "text": [
      "Epoch 40/50, Train Loss: 0.6353, Train Accuracy: 0.7731, Test Loss: 1.0790, Test Accuracy: 0.6738\n",
      "Epoch 40\n"
     ]
    },
    {
     "name": "stderr",
     "output_type": "stream",
     "text": [
      "100%|██████████| 325/325 [00:29<00:00, 11.11it/s]\n",
      "100%|██████████| 140/140 [00:04<00:00, 32.29it/s]\n"
     ]
    },
    {
     "name": "stdout",
     "output_type": "stream",
     "text": [
      "Epoch 41/50, Train Loss: 0.6171, Train Accuracy: 0.7802, Test Loss: 1.0472, Test Accuracy: 0.6743\n",
      "Epoch 41\n"
     ]
    },
    {
     "name": "stderr",
     "output_type": "stream",
     "text": [
      "100%|██████████| 325/325 [00:29<00:00, 11.11it/s]\n",
      "100%|██████████| 140/140 [00:04<00:00, 32.24it/s]\n"
     ]
    },
    {
     "name": "stdout",
     "output_type": "stream",
     "text": [
      "Epoch 42/50, Train Loss: 0.6137, Train Accuracy: 0.7752, Test Loss: 1.0335, Test Accuracy: 0.6869\n",
      "Epoch 42\n"
     ]
    },
    {
     "name": "stderr",
     "output_type": "stream",
     "text": [
      "100%|██████████| 325/325 [00:29<00:00, 11.12it/s]\n",
      "100%|██████████| 140/140 [00:04<00:00, 32.26it/s]\n"
     ]
    },
    {
     "name": "stdout",
     "output_type": "stream",
     "text": [
      "Epoch 43/50, Train Loss: 0.5963, Train Accuracy: 0.7862, Test Loss: 1.0404, Test Accuracy: 0.6658\n",
      "Epoch 43\n"
     ]
    },
    {
     "name": "stderr",
     "output_type": "stream",
     "text": [
      "100%|██████████| 325/325 [00:29<00:00, 11.11it/s]\n",
      "100%|██████████| 140/140 [00:04<00:00, 32.24it/s]\n"
     ]
    },
    {
     "name": "stdout",
     "output_type": "stream",
     "text": [
      "Epoch 44/50, Train Loss: 0.6028, Train Accuracy: 0.7867, Test Loss: 1.0940, Test Accuracy: 0.6528\n",
      "Epoch 44\n"
     ]
    },
    {
     "name": "stderr",
     "output_type": "stream",
     "text": [
      "100%|██████████| 325/325 [00:29<00:00, 11.12it/s]\n",
      "100%|██████████| 140/140 [00:04<00:00, 32.28it/s]\n"
     ]
    },
    {
     "name": "stdout",
     "output_type": "stream",
     "text": [
      "Epoch 45/50, Train Loss: 0.5911, Train Accuracy: 0.7808, Test Loss: 1.1459, Test Accuracy: 0.6546\n",
      "Epoch 45\n"
     ]
    },
    {
     "name": "stderr",
     "output_type": "stream",
     "text": [
      "100%|██████████| 325/325 [00:29<00:00, 11.11it/s]\n",
      "100%|██████████| 140/140 [00:04<00:00, 32.26it/s]\n"
     ]
    },
    {
     "name": "stdout",
     "output_type": "stream",
     "text": [
      "Epoch 46/50, Train Loss: 0.5885, Train Accuracy: 0.7906, Test Loss: 1.0309, Test Accuracy: 0.6738\n",
      "Epoch 46\n"
     ]
    },
    {
     "name": "stderr",
     "output_type": "stream",
     "text": [
      "100%|██████████| 325/325 [00:29<00:00, 11.11it/s]\n",
      "100%|██████████| 140/140 [00:04<00:00, 32.29it/s]\n"
     ]
    },
    {
     "name": "stdout",
     "output_type": "stream",
     "text": [
      "Epoch 47/50, Train Loss: 0.5624, Train Accuracy: 0.7963, Test Loss: 1.0091, Test Accuracy: 0.6833\n",
      "Epoch 47\n"
     ]
    },
    {
     "name": "stderr",
     "output_type": "stream",
     "text": [
      "100%|██████████| 325/325 [00:29<00:00, 11.10it/s]\n",
      "100%|██████████| 140/140 [00:04<00:00, 32.29it/s]\n"
     ]
    },
    {
     "name": "stdout",
     "output_type": "stream",
     "text": [
      "Epoch 48/50, Train Loss: 0.5795, Train Accuracy: 0.7883, Test Loss: 1.0359, Test Accuracy: 0.6873\n",
      "Epoch 48\n"
     ]
    },
    {
     "name": "stderr",
     "output_type": "stream",
     "text": [
      "100%|██████████| 325/325 [00:29<00:00, 11.10it/s]\n",
      "100%|██████████| 140/140 [00:04<00:00, 32.24it/s]\n"
     ]
    },
    {
     "name": "stdout",
     "output_type": "stream",
     "text": [
      "Epoch 49/50, Train Loss: 0.5725, Train Accuracy: 0.7937, Test Loss: 1.0663, Test Accuracy: 0.6613\n",
      "Epoch 49\n"
     ]
    },
    {
     "name": "stderr",
     "output_type": "stream",
     "text": [
      "100%|██████████| 325/325 [00:29<00:00, 11.11it/s]\n",
      "100%|██████████| 140/140 [00:04<00:00, 32.24it/s]\n"
     ]
    },
    {
     "name": "stdout",
     "output_type": "stream",
     "text": [
      "Epoch 50/50, Train Loss: 0.5566, Train Accuracy: 0.8002, Test Loss: 1.0465, Test Accuracy: 0.6909\n"
     ]
    }
   ],
   "source": [
    "# Train ViT\n",
    "scores = {}\n",
    "for _m in _modality:\n",
    "  train_loss, train_accuracy, test_loss, test_accuracy = train_ViT(_m)\n",
    "  scores[_m] = [train_loss, train_accuracy, test_loss, test_accuracy]"
   ]
  },
  {
   "cell_type": "code",
   "execution_count": 23,
   "metadata": {
    "id": "XNOX2sOP0E3j"
   },
   "outputs": [
    {
     "name": "stdout",
     "output_type": "stream",
     "text": [
      "\n",
      "Results\n",
      "---------------\n",
      "\n",
      "Modality: visual, Train Loss: 0.6374, Train Accuracy: 0.7612, Test Loss: 1.6227, Test Accuracy: 0.5536\n",
      "Modality: audio, Train Loss: 1.3354, Train Accuracy: 0.4710, Test Loss: 1.4487, Test Accuracy: 0.4401\n",
      "Modality: multimodal, Train Loss: 0.5566, Train Accuracy: 0.8002, Test Loss: 1.0465, Test Accuracy: 0.6909\n"
     ]
    }
   ],
   "source": [
    "# Print results\n",
    "print(\"\\nResults\\n---------------\\n\")\n",
    "for _m, val in scores.items():\n",
    "  print(f\"Modality: {_m}, Train Loss: {val[0]:.4f}, Train Accuracy: {val[1]:.4f}, Test Loss: {val[2]:.4f}, Test Accuracy: {val[3]:.4f}\")"
   ]
  },
  {
   "cell_type": "code",
   "execution_count": null,
   "metadata": {
    "id": "7eQaDTdZ9Qak"
   },
   "outputs": [],
   "source": [
    "# Copy trained models to GDrive\n",
    "# !cp 'ViT_audio_video_fullscale_50_16_0.0001' '/content/drive/MyDrive/csci535/models/ViT'\n",
    "# !cp 'ViT_audio_fullscale_50_16_0.0001' '/content/drive/MyDrive/csci535/models/ViT'\n",
    "# !cp 'ViT_video_fullscale_50_16_0.0001' '/content/drive/MyDrive/csci535/models/ViT'"
   ]
  },
  {
   "cell_type": "code",
   "execution_count": null,
   "metadata": {
    "id": "Q5SeIAOnTI-E"
   },
   "outputs": [],
   "source": [
    "# Clear memory\n",
    "# import gc\n",
    "# gc.collect()"
   ]
  },
  {
   "cell_type": "code",
   "execution_count": null,
   "metadata": {
    "id": "XzFnQhXhmCiI"
   },
   "outputs": [],
   "source": [
    "# ! cd /content/drive/MyDrive/csci535/"
   ]
  },
  {
   "cell_type": "code",
   "execution_count": null,
   "metadata": {
    "id": "C-IcqNkP_SiI"
   },
   "outputs": [],
   "source": []
  }
 ],
 "metadata": {
  "accelerator": "GPU",
  "colab": {
   "gpuType": "T4",
   "provenance": []
  },
  "kernelspec": {
   "display_name": "Python 3.12.2 (default)",
   "language": "python",
   "name": "python3"
  },
  "language_info": {
   "codemirror_mode": {
    "name": "ipython",
    "version": 3
   },
   "file_extension": ".py",
   "mimetype": "text/x-python",
   "name": "python",
   "nbconvert_exporter": "python",
   "pygments_lexer": "ipython3",
   "version": "3.12.2"
  }
 },
 "nbformat": 4,
 "nbformat_minor": 4
}
