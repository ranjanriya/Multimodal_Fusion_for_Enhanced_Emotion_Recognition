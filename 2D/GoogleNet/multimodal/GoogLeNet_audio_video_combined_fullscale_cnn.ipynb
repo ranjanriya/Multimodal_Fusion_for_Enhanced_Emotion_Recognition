{
 "cells": [
  {
   "cell_type": "code",
   "execution_count": 1,
   "metadata": {
    "colab": {
     "base_uri": "https://localhost:8080/"
    },
    "id": "bm-A1pWMR3oa",
    "outputId": "d48a919c-e158-4702-aac5-986f7206e18f"
   },
   "outputs": [],
   "source": [
    "# from google.colab import drive\n",
    "# drive.mount('/content/drive')"
   ]
  },
  {
   "cell_type": "code",
   "execution_count": 2,
   "metadata": {
    "colab": {
     "base_uri": "https://localhost:8080/"
    },
    "id": "uNr_mImAjLT7",
    "outputId": "290ed857-0d49-4959-ff9f-a3f79166dc05"
   },
   "outputs": [],
   "source": [
    "# !python3 -m pip install facenet-pytorch\n",
    "# !python3 -m pip install face_alignment"
   ]
  },
  {
   "cell_type": "code",
   "execution_count": 3,
   "metadata": {},
   "outputs": [
    {
     "name": "stdout",
     "output_type": "stream",
     "text": [
      "7439\n"
     ]
    }
   ],
   "source": [
    "!ls 'Videos7439' | wc -l"
   ]
  },
  {
   "cell_type": "code",
   "execution_count": 4,
   "metadata": {},
   "outputs": [
    {
     "name": "stdout",
     "output_type": "stream",
     "text": [
      "7439\n"
     ]
    }
   ],
   "source": [
    "!ls 'Spectrograms7439' | wc -l"
   ]
  },
  {
   "cell_type": "code",
   "execution_count": 5,
   "metadata": {},
   "outputs": [],
   "source": [
    "videos_folder = 'Videos7439'\n",
    "spectrograms_folder = 'Spectrograms7439'"
   ]
  },
  {
   "cell_type": "code",
   "execution_count": 6,
   "metadata": {
    "id": "SP57JsruRqX5"
   },
   "outputs": [
    {
     "name": "stderr",
     "output_type": "stream",
     "text": [
      "/home1/riyaranj/.local/lib/python3.12/site-packages/tqdm/auto.py:21: TqdmWarning: IProgress not found. Please update jupyter and ipywidgets. See https://ipywidgets.readthedocs.io/en/stable/user_install.html\n",
      "  from .autonotebook import tqdm as notebook_tqdm\n"
     ]
    }
   ],
   "source": [
    "import cv2\n",
    "import os\n",
    "import sys\n",
    "import torch\n",
    "import torch.nn as nn\n",
    "import torch.optim as optim\n",
    "import torchvision.transforms as transforms\n",
    "from torchvision import models\n",
    "from PIL import Image\n",
    "from facenet_pytorch import MTCNN\n",
    "from sklearn.model_selection import train_test_split\n",
    "import numpy as np\n",
    "from tqdm import tqdm\n",
    "import face_alignment\n",
    "#import dlib\n",
    "import requests\n",
    "import csv\n",
    "import itertools"
   ]
  },
  {
   "cell_type": "code",
   "execution_count": 7,
   "metadata": {
    "id": "oLkWoD6pRrAb"
   },
   "outputs": [],
   "source": [
    "\n",
    "class GoogLeNetModified(models.GoogLeNet):\n",
    "    def _transform_input(self, x):\n",
    "        if x.size(1) == 1:\n",
    "            # If the input has only one channel, replicate it to create three channels\n",
    "            x = x.expand(-1, 3, -1, -1)\n",
    "\n",
    "        x_ch0 = torch.unsqueeze(x[:, 0], 1) * (0.229 / 0.5) + (0.485 - 0.5) / 0.5\n",
    "        x_ch1 = torch.unsqueeze(x[:, 1], 1) * (0.224 / 0.5) + (0.456 - 0.5) / 0.5\n",
    "        x_ch2 = torch.unsqueeze(x[:, 2], 1) * (0.225 / 0.5) + (0.406 - 0.5) / 0.5\n",
    "        x = torch.cat((x_ch0, x_ch1, x_ch2), 1)\n",
    "\n",
    "        return x\n",
    "class CNN(nn.Module):\n",
    "    def __init__(self, num_classes):\n",
    "        super(CNN, self).__init__()\n",
    "        self.features = GoogLeNetModified()\n",
    "        # Modify the first layer to accept 3 channel input (for RGB images)\n",
    "        self.features.conv1 = nn.Conv2d(3, 64, kernel_size=7, stride=2, padding=3, bias=False)\n",
    "        # Modify the final layer to output the desired feature size\n",
    "        self.features.fc = nn.Linear(self.features.fc.in_features, num_classes)\n",
    "\n",
    "    def forward(self, x):\n",
    "        x = self.features(x)\n",
    "\n",
    "        # Assuming the output is a tensor inside the GoogLeNetOutputs object\n",
    "        logits_tensor = x.logits if hasattr(x, 'logits') else x  # Adjust accordingly based on the structure\n",
    "\n",
    "        # Apply softmax directly on the logits tensor\n",
    "        x_softmax = torch.nn.functional.softmax(logits_tensor, dim=1)\n",
    "        return x_softmax\n",
    "\n",
    "\n",
    "\n",
    "\n"
   ]
  },
  {
   "cell_type": "code",
   "execution_count": 8,
   "metadata": {
    "id": "gWDrEH00iv6H"
   },
   "outputs": [],
   "source": [
    "def extract_frame(video_path):\n",
    "    cap = cv2.VideoCapture(video_path)\n",
    "    frame_count = int(cap.get(cv2.CAP_PROP_FRAME_COUNT))\n",
    "    fps = cap.get(cv2.CAP_PROP_FPS)\n",
    "    mid_frame_index = frame_count // 2  # Index of the frame in the middle of the video\n",
    "    cap.set(cv2.CAP_PROP_POS_FRAMES, mid_frame_index)\n",
    "    ret, frame = cap.read()\n",
    "    if ret:\n",
    "        cap.release()\n",
    "        return frame\n",
    "    else:\n",
    "        cap.release()\n",
    "        return None"
   ]
  },
  {
   "cell_type": "code",
   "execution_count": 9,
   "metadata": {
    "id": "_eeDIIORixs-"
   },
   "outputs": [],
   "source": [
    "def detect_face(frame):\n",
    "    mtcnn = MTCNN()\n",
    "    boxes, _ = mtcnn.detect(frame)\n",
    "    if boxes is not None:\n",
    "        # Assuming only one face in the frame\n",
    "        box = boxes[0]\n",
    "        x1, y1, x2, y2 = box\n",
    "        # Crop the frame to the detected face\n",
    "        cropped_frame = frame[int(y1):int(y2), int(x1):int(x2)]\n",
    "        return cropped_frame\n",
    "    else:\n",
    "        return None"
   ]
  },
  {
   "cell_type": "code",
   "execution_count": 10,
   "metadata": {
    "colab": {
     "base_uri": "https://localhost:8080/"
    },
    "id": "pWavua0jl3ds",
    "outputId": "82f7d8f6-1efb-4e44-e07c-0b7d75e656b7"
   },
   "outputs": [],
   "source": [
    "# Function to download the pretrained face alignment model if it doesn't exist\n",
    "def download_face_alignment_model(url, save_path):\n",
    "    if not os.path.exists(save_path):\n",
    "        print(\"Downloading pretrained face alignment model...\")\n",
    "        response = requests.get(url)\n",
    "        with open(save_path, 'wb') as f:\n",
    "            f.write(response.content)\n",
    "        print(\"Download complete.\")\n",
    "\n",
    "# Specify the URL of the pretrained face alignment model\n",
    "face_alignment_model_url = \"https://github.com/1adrianb/face-alignment-models/releases/download/2.0.1/2DFAN4-11f355bf06.pth.tar\"\n",
    "\n",
    "# Download the pretrained face alignment model if it doesn't exist\n",
    "face_alignment_model_path = os.path.abspath(\"2DFAN4-11f355bf06.pth.tar\")\n",
    "download_face_alignment_model(face_alignment_model_url, face_alignment_model_path)\n",
    "\n",
    "# Initialize face alignment model\n",
    "fa = face_alignment.FaceAlignment(2, flip_input=False, device='cpu')  # 2 corresponds to 2D landmarks\n",
    "\n",
    "def align_face(frame):\n",
    "    # Perform face alignment\n",
    "    aligned_faces = fa.get_landmarks(frame)\n",
    "    if aligned_faces is not None:\n",
    "        aligned_face = aligned_faces[0]  # Assuming only one face in the frame\n",
    "        return aligned_face\n",
    "    else:\n",
    "        return None\n"
   ]
  },
  {
   "cell_type": "code",
   "execution_count": 11,
   "metadata": {
    "id": "o5gBfMkuitP0"
   },
   "outputs": [],
   "source": [
    "def preprocess_image(frame):\n",
    "    frame_pil = Image.fromarray(frame.astype('uint8'))\n",
    "    frame_pil = frame_pil.convert('RGB')  # Convert to RGB format\n",
    "    frame_np = np.array(frame_pil)\n",
    "    print(frame_np.shape)\n",
    "    transform = transforms.Compose([\n",
    "        transforms.Resize((224, 224)),\n",
    "        transforms.ToTensor(),\n",
    "        transforms.Normalize(mean=[0.485, 0.456, 0.406], std=[0.229, 0.224, 0.225]),  # Normalize using ImageNet mean and std\n",
    "    ])\n",
    "    frame_tensor = transform(frame_pil)\n",
    "    return frame_tensor\n"
   ]
  },
  {
   "cell_type": "code",
   "execution_count": 12,
   "metadata": {
    "id": "x5iAGoZ_yUMX"
   },
   "outputs": [],
   "source": [
    "def preprocess_spectrogram(image_path):\n",
    "    img = Image.open(image_path).convert('RGB')  # Convert to grayscale\n",
    "    transform = transforms.Compose([\n",
    "        transforms.Resize((224, 224)),  # Resize to match ViT input size\n",
    "        transforms.ToTensor(),           # Convert to tensor\n",
    "    ])\n",
    "    img_tensor = transform(img)\n",
    "    return img_tensor"
   ]
  },
  {
   "cell_type": "code",
   "execution_count": 13,
   "metadata": {
    "id": "ONxd6uaQyYT8"
   },
   "outputs": [],
   "source": [
    "def load_dataset(videos_folder):\n",
    "    X = []\n",
    "    y = []\n",
    "    skipped_files = []\n",
    "    video_files = [file for file in sorted(os.listdir(videos_folder)) if file.endswith(\".flv\")]\n",
    "    for video_file in tqdm(video_files):\n",
    "        video_path = os.path.join(videos_folder, video_file)\n",
    "        frame = extract_frame(video_path)\n",
    "        if frame is not None:\n",
    "            cropped_face = detect_face(frame)\n",
    "            if cropped_face is not None:\n",
    "                preprocessed_face = preprocess_image(cropped_face)\n",
    "                X.append(preprocessed_face)\n",
    "                label = video_file.split(\"_\")[2].split(\".\")[0]  # Adjusted to handle different file extensions\n",
    "                if label == \"HAP\":\n",
    "                    y.append(0)\n",
    "                elif label == \"SAD\":\n",
    "                    y.append(1)\n",
    "                elif label == \"ANG\":\n",
    "                    y.append(2)\n",
    "                elif label == \"DIS\":\n",
    "                    y.append(3)\n",
    "                elif label == \"FEA\":\n",
    "                    y.append(4)\n",
    "                elif label == \"NEU\":\n",
    "                    y.append(5)\n",
    "            else:\n",
    "                print(f\"No face detected in {video_file}. Skipping.\")\n",
    "                skipped_files.append(video_file[:-3])\n",
    "        else:\n",
    "            print(f\"Failed to extract frame from {video_file}. Skipping.\")\n",
    "            skipped_files.append(video_file[:-3])\n",
    "    return X, y, skipped_files"
   ]
  },
  {
   "cell_type": "code",
   "execution_count": 14,
   "metadata": {
    "id": "RZPMwNWJi5p3"
   },
   "outputs": [],
   "source": [
    "def load_spectrogram_dataset(spectrograms_folder, skipped_files):\n",
    "    X = []\n",
    "    y = []\n",
    "    # List all files in the input folder\n",
    "    files = sorted(os.listdir(spectrograms_folder))\n",
    "    # Iterate over files in the folder\n",
    "    for filename in tqdm(files):\n",
    "        if filename.endswith(\".png\") and filename[:-3] not in skipped_files:  # Assuming mel spectrograms are stored as PNG files\n",
    "            input_path = os.path.join(spectrograms_folder, filename)\n",
    "            img_tensor = preprocess_spectrogram(input_path)\n",
    "            X.append(img_tensor)\n",
    "            # Extract label from filename (assuming filename is in format \"abc_IEO_label_xyz.png\")\n",
    "            label = filename.split(\"_\")[2]\n",
    "            if label == \"HAP\":\n",
    "                y.append(0)\n",
    "            elif label == \"SAD\":\n",
    "                y.append(1)\n",
    "            elif label == \"ANG\":\n",
    "                y.append(2)\n",
    "            elif label == \"DIS\":\n",
    "                y.append(3)\n",
    "            elif label == \"FEA\":\n",
    "                y.append(4)\n",
    "            elif label == \"NEU\":\n",
    "                y.append(5)\n",
    "    return X, y"
   ]
  },
  {
   "cell_type": "code",
   "execution_count": 15,
   "metadata": {
    "id": "O0bI2bJNzZ9r"
   },
   "outputs": [],
   "source": [
    "# Define the ConcatDataset class to concatenate video frame and spectrogram tensors\n",
    "class ConcatDataset(torch.utils.data.Dataset):\n",
    "    def __init__(self, X1, X2, y, modality='multimodal', presaved=False):\n",
    "        self.X1 = X1\n",
    "        self.X2 = X2\n",
    "        self.y = y\n",
    "        self.modality = modality\n",
    "        self.presaved = presaved\n",
    "    def __len__(self):\n",
    "        if self.modality == 'audio':\n",
    "          return len(self.X2)\n",
    "        if self.modality == 'visual':\n",
    "          return len(self.X1)\n",
    "        return len(self.y)\n",
    "\n",
    "    def __getitem__(self, idx):\n",
    "        if not self.presaved:\n",
    "          img1 = self.X1[idx]\n",
    "          img2 = self.X2[idx]\n",
    "          label = self.y[idx]\n",
    "        else:\n",
    "          img1 = torch.from_numpy(self.X1[idx]).float()  # Convert numpy array to torch tensor\n",
    "          img2 = torch.from_numpy(self.X2[idx]).float()  # Convert numpy array to torch tensor\n",
    "          label = torch.tensor(self.y[idx])  # Convert numpy array to torch tensor\n",
    "\n",
    "        concatenated_img = torch.cat((img1, img2), dim=0)  # Concatenate along 0 dimension\n",
    "        if self.modality == 'visual':\n",
    "          return img1, label\n",
    "        if self.modality == 'audio':\n",
    "          return img2, label\n",
    "        return concatenated_img, label # concatenate modalities"
   ]
  },
  {
   "cell_type": "code",
   "execution_count": 16,
   "metadata": {
    "id": "Q5--S5JwTTw1"
   },
   "outputs": [],
   "source": [
    "def train_model(model, criterion, optimizer, train_loader, device):\n",
    "    model.train()\n",
    "    running_loss = 0.0\n",
    "    correct_preds = 0\n",
    "    total_preds = 0\n",
    "    for inputs, labels in tqdm(train_loader):\n",
    "        inputs, labels = inputs.to(device), labels.to(device)\n",
    "        optimizer.zero_grad()\n",
    "        outputs = model(inputs)\n",
    "        loss = criterion(outputs, labels)\n",
    "        loss.backward()\n",
    "        optimizer.step()\n",
    "        running_loss += loss.item() * inputs.size(0)\n",
    "        _, predicted = torch.max(outputs, 1)\n",
    "        correct_preds += (predicted == labels).sum().item()\n",
    "        total_preds += labels.size(0)\n",
    "\n",
    "    epoch_loss = running_loss / len(train_loader.dataset)\n",
    "    accuracy = correct_preds / total_preds\n",
    "    return epoch_loss, accuracy"
   ]
  },
  {
   "cell_type": "code",
   "execution_count": 17,
   "metadata": {
    "id": "ajpo8J6kTUjD"
   },
   "outputs": [],
   "source": [
    "def test_model(model, criterion, test_loader, device):\n",
    "    model.eval()\n",
    "    running_loss = 0.0\n",
    "    correct_preds = 0\n",
    "    total_preds = 0\n",
    "    with torch.no_grad():\n",
    "        for inputs, labels in tqdm(test_loader):\n",
    "            inputs, labels = inputs.to(device), labels.to(device)\n",
    "            outputs = model(inputs)\n",
    "            loss = criterion(outputs, labels)\n",
    "            running_loss += loss.item() * inputs.size(0)\n",
    "            _, predicted = torch.max(outputs, 1)\n",
    "            correct_preds += (predicted == labels).sum().item()\n",
    "            total_preds += labels.size(0)\n",
    "    epoch_loss = running_loss / len(test_loader.dataset)\n",
    "    accuracy = correct_preds / total_preds\n",
    "    return epoch_loss, accuracy"
   ]
  },
  {
   "cell_type": "code",
   "execution_count": 18,
   "metadata": {},
   "outputs": [],
   "source": [
    "assert([file[:-3] for file in sorted(os.listdir(videos_folder))] == [file[:-3] for file in sorted(os.listdir(spectrograms_folder))])"
   ]
  },
  {
   "cell_type": "code",
   "execution_count": 19,
   "metadata": {
    "colab": {
     "base_uri": "https://localhost:8080/"
    },
    "id": "D29Ahtfz2HAb",
    "outputId": "c1df5fd5-174c-484b-ab0e-11e9c18605e7"
   },
   "outputs": [],
   "source": [
    "_fullscale = True # Run fullscale experiment?\n",
    "_presaved = True # Use presaved data .npy files?\n",
    "\n",
    "# Check if data folders exists\n",
    "if not os.path.exists(videos_folder):\n",
    "    print(\"Videos folder does not exist.\")\n",
    "    sys.exit(1)\n",
    "if not os.path.exists(spectrograms_folder):\n",
    "    print(\"Spectrograms folder does not exist.\")\n",
    "    sys.exit(1)\n",
    "\n"
   ]
  },
  {
   "cell_type": "code",
   "execution_count": 21,
   "metadata": {},
   "outputs": [],
   "source": [
    "# Load dataset and split into train and test sets\n",
    "if _presaved:\n",
    "  X = np.load('/home1/riyaranj/riya/X.npy', mmap_mode='r')\n",
    "  y = np.load('/home1/riyaranj/riya/y.npy', mmap_mode='r')\n",
    "  X_spec = np.load('/home1/riyaranj/riya/X_spec.npy', mmap_mode='r')\n",
    "  y_spec = np.load('/home1/riyaranj/riya/y_spec.npy', mmap_mode='r')\n",
    "else:\n",
    "  X, y, skipped_files = load_dataset(videos_folder)\n",
    "  X_spec, y_spec = load_spectrogram_dataset(spectrograms_folder, skipped_files)"
   ]
  },
  {
   "cell_type": "code",
   "execution_count": 22,
   "metadata": {},
   "outputs": [],
   "source": [
    "# # Save X, y, X_spec, y_spec\n",
    "# np.save('X_7439.npy', np.array(X))\n",
    "# np.save('y_7439.npy', np.array(y))\n",
    "# np.save('X_spec_7439.npy', np.array(X_spec))\n",
    "# np.save('y_spec_7439.npy', np.array(y_spec))\n",
    "# !cp 'X_7439.npy' '/content/drive/MyDrive/csci535/models/'\n",
    "# !cp 'y_7439.npy' '/content/drive/MyDrive/csci535/models/'\n",
    "# !cp 'X_spec_7439.npy' '/content/drive/MyDrive/csci535/models/'\n",
    "# !cp 'y_spec_7439.npy' '/content/drive/MyDrive/csci535/models/'"
   ]
  },
  {
   "cell_type": "code",
   "execution_count": 23,
   "metadata": {},
   "outputs": [
    {
     "name": "stdout",
     "output_type": "stream",
     "text": [
      "Total number of samples: 7429\n",
      "Number of train samples (video): 5200 Number of test samples: 2229\n",
      "Number of train samples (audio): 5200 Number of test samples: 2229\n"
     ]
    }
   ],
   "source": [
    "print(f\"Total number of samples: {len(X)}\")\n",
    "X_train, X_test, y_train, y_test = train_test_split(X, y, test_size=0.3, random_state=42)\n",
    "print(f\"Number of train samples (video): {len(X_train)}\", f\"Number of test samples: {len(X_test)}\")\n",
    "X_train_spec, X_test_spec, y_train_spec, y_test_spec = train_test_split(X_spec, y_spec, test_size=0.3, random_state=42)\n",
    "print(f\"Number of train samples (audio): {len(X_train_spec)}\", f\"Number of test samples: {len(X_test_spec)}\")\n",
    "\n"
   ]
  },
  {
   "cell_type": "code",
   "execution_count": 24,
   "metadata": {},
   "outputs": [],
   "source": [
    "assert(len(X_train) == len(X_train_spec) and len(X_test) == len(X_test_spec))"
   ]
  },
  {
   "cell_type": "code",
   "execution_count": 25,
   "metadata": {},
   "outputs": [
    {
     "name": "stderr",
     "output_type": "stream",
     "text": [
      "/home1/riyaranj/.local/lib/python3.12/site-packages/torchvision/models/googlenet.py:47: FutureWarning: The default weight initialization of GoogleNet will be changed in future releases of torchvision. If you wish to keep the old behavior (which leads to long initialization times due to scipy/scipy#11299), please set init_weights=True.\n",
      "  warnings.warn(\n"
     ]
    },
    {
     "name": "stdout",
     "output_type": "stream",
     "text": [
      "Batch size: 16 Num of Epochs: 50 lr: 0.01\n",
      "Epoch 0\n"
     ]
    },
    {
     "name": "stderr",
     "output_type": "stream",
     "text": [
      "100%|██████████| 325/325 [00:09<00:00, 33.86it/s]\n",
      "100%|██████████| 140/140 [00:01<00:00, 92.90it/s] \n"
     ]
    },
    {
     "name": "stdout",
     "output_type": "stream",
     "text": [
      "Epoch 1/50, Train Loss: 1.8667, Train Accuracy: 0.1685, Test Loss: 1.8721, Test Accuracy: 0.1714\n",
      "Epoch 1\n"
     ]
    },
    {
     "name": "stderr",
     "output_type": "stream",
     "text": [
      "100%|██████████| 325/325 [00:07<00:00, 45.99it/s]\n",
      "100%|██████████| 140/140 [00:01<00:00, 115.53it/s]\n"
     ]
    },
    {
     "name": "stdout",
     "output_type": "stream",
     "text": [
      "Epoch 2/50, Train Loss: 1.8569, Train Accuracy: 0.1856, Test Loss: 1.8530, Test Accuracy: 0.1902\n",
      "Epoch 2\n"
     ]
    },
    {
     "name": "stderr",
     "output_type": "stream",
     "text": [
      "100%|██████████| 325/325 [00:07<00:00, 45.72it/s]\n",
      "100%|██████████| 140/140 [00:01<00:00, 113.09it/s]\n"
     ]
    },
    {
     "name": "stdout",
     "output_type": "stream",
     "text": [
      "Epoch 3/50, Train Loss: 1.8557, Train Accuracy: 0.1873, Test Loss: 1.8571, Test Accuracy: 0.1862\n",
      "Epoch 3\n"
     ]
    },
    {
     "name": "stderr",
     "output_type": "stream",
     "text": [
      "100%|██████████| 325/325 [00:07<00:00, 45.12it/s]\n",
      "100%|██████████| 140/140 [00:01<00:00, 116.68it/s]\n"
     ]
    },
    {
     "name": "stdout",
     "output_type": "stream",
     "text": [
      "Epoch 4/50, Train Loss: 1.8497, Train Accuracy: 0.1937, Test Loss: 1.8604, Test Accuracy: 0.1830\n",
      "Epoch 4\n"
     ]
    },
    {
     "name": "stderr",
     "output_type": "stream",
     "text": [
      "100%|██████████| 325/325 [00:07<00:00, 44.68it/s]\n",
      "100%|██████████| 140/140 [00:01<00:00, 114.00it/s]\n"
     ]
    },
    {
     "name": "stdout",
     "output_type": "stream",
     "text": [
      "Epoch 5/50, Train Loss: 1.8543, Train Accuracy: 0.1892, Test Loss: 1.8552, Test Accuracy: 0.1880\n",
      "Epoch 5\n"
     ]
    },
    {
     "name": "stderr",
     "output_type": "stream",
     "text": [
      "100%|██████████| 325/325 [00:07<00:00, 45.13it/s]\n",
      "100%|██████████| 140/140 [00:01<00:00, 117.09it/s]\n"
     ]
    },
    {
     "name": "stdout",
     "output_type": "stream",
     "text": [
      "Epoch 6/50, Train Loss: 1.8556, Train Accuracy: 0.1875, Test Loss: 1.8604, Test Accuracy: 0.1830\n",
      "Epoch 6\n"
     ]
    },
    {
     "name": "stderr",
     "output_type": "stream",
     "text": [
      "100%|██████████| 325/325 [00:07<00:00, 45.77it/s]\n",
      "100%|██████████| 140/140 [00:01<00:00, 112.16it/s]\n"
     ]
    },
    {
     "name": "stdout",
     "output_type": "stream",
     "text": [
      "Epoch 7/50, Train Loss: 1.8722, Train Accuracy: 0.1713, Test Loss: 1.8727, Test Accuracy: 0.1709\n",
      "Epoch 7\n"
     ]
    },
    {
     "name": "stderr",
     "output_type": "stream",
     "text": [
      "100%|██████████| 325/325 [00:07<00:00, 45.62it/s]\n",
      "100%|██████████| 140/140 [00:01<00:00, 115.55it/s]\n"
     ]
    },
    {
     "name": "stdout",
     "output_type": "stream",
     "text": [
      "Epoch 8/50, Train Loss: 1.8726, Train Accuracy: 0.1710, Test Loss: 1.8727, Test Accuracy: 0.1709\n",
      "Epoch 8\n"
     ]
    },
    {
     "name": "stderr",
     "output_type": "stream",
     "text": [
      "100%|██████████| 325/325 [00:07<00:00, 45.73it/s]\n",
      "100%|██████████| 140/140 [00:01<00:00, 114.95it/s]\n"
     ]
    },
    {
     "name": "stdout",
     "output_type": "stream",
     "text": [
      "Epoch 9/50, Train Loss: 1.8726, Train Accuracy: 0.1710, Test Loss: 1.8727, Test Accuracy: 0.1709\n",
      "Epoch 9\n"
     ]
    },
    {
     "name": "stderr",
     "output_type": "stream",
     "text": [
      "100%|██████████| 325/325 [00:07<00:00, 45.35it/s]\n",
      "100%|██████████| 140/140 [00:01<00:00, 115.85it/s]\n"
     ]
    },
    {
     "name": "stdout",
     "output_type": "stream",
     "text": [
      "Epoch 10/50, Train Loss: 1.8726, Train Accuracy: 0.1710, Test Loss: 1.8727, Test Accuracy: 0.1709\n",
      "Epoch 10\n"
     ]
    },
    {
     "name": "stderr",
     "output_type": "stream",
     "text": [
      "100%|██████████| 325/325 [00:07<00:00, 46.07it/s]\n",
      "100%|██████████| 140/140 [00:01<00:00, 117.29it/s]\n"
     ]
    },
    {
     "name": "stdout",
     "output_type": "stream",
     "text": [
      "Epoch 11/50, Train Loss: 1.8726, Train Accuracy: 0.1710, Test Loss: 1.8727, Test Accuracy: 0.1709\n",
      "Epoch 11\n"
     ]
    },
    {
     "name": "stderr",
     "output_type": "stream",
     "text": [
      "100%|██████████| 325/325 [00:07<00:00, 46.06it/s]\n",
      "100%|██████████| 140/140 [00:01<00:00, 118.55it/s]\n"
     ]
    },
    {
     "name": "stdout",
     "output_type": "stream",
     "text": [
      "Epoch 12/50, Train Loss: 1.8726, Train Accuracy: 0.1710, Test Loss: 1.8727, Test Accuracy: 0.1709\n",
      "Epoch 12\n"
     ]
    },
    {
     "name": "stderr",
     "output_type": "stream",
     "text": [
      "100%|██████████| 325/325 [00:07<00:00, 45.65it/s]\n",
      "100%|██████████| 140/140 [00:01<00:00, 111.78it/s]\n"
     ]
    },
    {
     "name": "stdout",
     "output_type": "stream",
     "text": [
      "Epoch 13/50, Train Loss: 1.8726, Train Accuracy: 0.1710, Test Loss: 1.8727, Test Accuracy: 0.1709\n",
      "Epoch 13\n"
     ]
    },
    {
     "name": "stderr",
     "output_type": "stream",
     "text": [
      "100%|██████████| 325/325 [00:07<00:00, 45.58it/s]\n",
      "100%|██████████| 140/140 [00:01<00:00, 117.79it/s]\n"
     ]
    },
    {
     "name": "stdout",
     "output_type": "stream",
     "text": [
      "Epoch 14/50, Train Loss: 1.8726, Train Accuracy: 0.1710, Test Loss: 1.8727, Test Accuracy: 0.1709\n",
      "Epoch 14\n"
     ]
    },
    {
     "name": "stderr",
     "output_type": "stream",
     "text": [
      "100%|██████████| 325/325 [00:07<00:00, 45.94it/s]\n",
      "100%|██████████| 140/140 [00:01<00:00, 112.19it/s]\n"
     ]
    },
    {
     "name": "stdout",
     "output_type": "stream",
     "text": [
      "Epoch 15/50, Train Loss: 1.8726, Train Accuracy: 0.1710, Test Loss: 1.8727, Test Accuracy: 0.1709\n",
      "Epoch 15\n"
     ]
    },
    {
     "name": "stderr",
     "output_type": "stream",
     "text": [
      "100%|██████████| 325/325 [00:07<00:00, 46.05it/s]\n",
      "100%|██████████| 140/140 [00:01<00:00, 113.27it/s]\n"
     ]
    },
    {
     "name": "stdout",
     "output_type": "stream",
     "text": [
      "Epoch 16/50, Train Loss: 1.8726, Train Accuracy: 0.1710, Test Loss: 1.8727, Test Accuracy: 0.1709\n",
      "Epoch 16\n"
     ]
    },
    {
     "name": "stderr",
     "output_type": "stream",
     "text": [
      "100%|██████████| 325/325 [00:07<00:00, 45.56it/s]\n",
      "100%|██████████| 140/140 [00:01<00:00, 116.26it/s]\n"
     ]
    },
    {
     "name": "stdout",
     "output_type": "stream",
     "text": [
      "Epoch 17/50, Train Loss: 1.8726, Train Accuracy: 0.1710, Test Loss: 1.8727, Test Accuracy: 0.1709\n",
      "Epoch 17\n"
     ]
    },
    {
     "name": "stderr",
     "output_type": "stream",
     "text": [
      "100%|██████████| 325/325 [00:07<00:00, 46.02it/s]\n",
      "100%|██████████| 140/140 [00:01<00:00, 117.42it/s]\n"
     ]
    },
    {
     "name": "stdout",
     "output_type": "stream",
     "text": [
      "Epoch 18/50, Train Loss: 1.8726, Train Accuracy: 0.1710, Test Loss: 1.8727, Test Accuracy: 0.1709\n",
      "Epoch 18\n"
     ]
    },
    {
     "name": "stderr",
     "output_type": "stream",
     "text": [
      "100%|██████████| 325/325 [00:07<00:00, 45.61it/s]\n",
      "100%|██████████| 140/140 [00:01<00:00, 118.30it/s]\n"
     ]
    },
    {
     "name": "stdout",
     "output_type": "stream",
     "text": [
      "Epoch 19/50, Train Loss: 1.8726, Train Accuracy: 0.1710, Test Loss: 1.8727, Test Accuracy: 0.1709\n",
      "Epoch 19\n"
     ]
    },
    {
     "name": "stderr",
     "output_type": "stream",
     "text": [
      "100%|██████████| 325/325 [00:07<00:00, 45.46it/s]\n",
      "100%|██████████| 140/140 [00:01<00:00, 114.44it/s]\n"
     ]
    },
    {
     "name": "stdout",
     "output_type": "stream",
     "text": [
      "Epoch 20/50, Train Loss: 1.8726, Train Accuracy: 0.1710, Test Loss: 1.8727, Test Accuracy: 0.1709\n",
      "Epoch 20\n"
     ]
    },
    {
     "name": "stderr",
     "output_type": "stream",
     "text": [
      "100%|██████████| 325/325 [00:07<00:00, 45.94it/s]\n",
      "100%|██████████| 140/140 [00:01<00:00, 115.01it/s]\n"
     ]
    },
    {
     "name": "stdout",
     "output_type": "stream",
     "text": [
      "Epoch 21/50, Train Loss: 1.8726, Train Accuracy: 0.1710, Test Loss: 1.8727, Test Accuracy: 0.1709\n",
      "Epoch 21\n"
     ]
    },
    {
     "name": "stderr",
     "output_type": "stream",
     "text": [
      "100%|██████████| 325/325 [00:07<00:00, 45.24it/s]\n",
      "100%|██████████| 140/140 [00:01<00:00, 117.08it/s]\n"
     ]
    },
    {
     "name": "stdout",
     "output_type": "stream",
     "text": [
      "Epoch 22/50, Train Loss: 1.8726, Train Accuracy: 0.1710, Test Loss: 1.8727, Test Accuracy: 0.1709\n",
      "Epoch 22\n"
     ]
    },
    {
     "name": "stderr",
     "output_type": "stream",
     "text": [
      "100%|██████████| 325/325 [00:07<00:00, 45.06it/s]\n",
      "100%|██████████| 140/140 [00:01<00:00, 115.92it/s]\n"
     ]
    },
    {
     "name": "stdout",
     "output_type": "stream",
     "text": [
      "Epoch 23/50, Train Loss: 1.8726, Train Accuracy: 0.1710, Test Loss: 1.8727, Test Accuracy: 0.1709\n",
      "Epoch 23\n"
     ]
    },
    {
     "name": "stderr",
     "output_type": "stream",
     "text": [
      "100%|██████████| 325/325 [00:07<00:00, 45.04it/s]\n",
      "100%|██████████| 140/140 [00:01<00:00, 112.54it/s]\n"
     ]
    },
    {
     "name": "stdout",
     "output_type": "stream",
     "text": [
      "Epoch 24/50, Train Loss: 1.8726, Train Accuracy: 0.1710, Test Loss: 1.8727, Test Accuracy: 0.1709\n",
      "Epoch 24\n"
     ]
    },
    {
     "name": "stderr",
     "output_type": "stream",
     "text": [
      "100%|██████████| 325/325 [00:07<00:00, 45.66it/s]\n",
      "100%|██████████| 140/140 [00:01<00:00, 112.94it/s]\n"
     ]
    },
    {
     "name": "stdout",
     "output_type": "stream",
     "text": [
      "Epoch 25/50, Train Loss: 1.8726, Train Accuracy: 0.1710, Test Loss: 1.8727, Test Accuracy: 0.1709\n",
      "Epoch 25\n"
     ]
    },
    {
     "name": "stderr",
     "output_type": "stream",
     "text": [
      "100%|██████████| 325/325 [00:07<00:00, 46.23it/s]\n",
      "100%|██████████| 140/140 [00:01<00:00, 111.65it/s]\n"
     ]
    },
    {
     "name": "stdout",
     "output_type": "stream",
     "text": [
      "Epoch 26/50, Train Loss: 1.8726, Train Accuracy: 0.1710, Test Loss: 1.8727, Test Accuracy: 0.1709\n",
      "Epoch 26\n"
     ]
    },
    {
     "name": "stderr",
     "output_type": "stream",
     "text": [
      "100%|██████████| 325/325 [00:07<00:00, 45.88it/s]\n",
      "100%|██████████| 140/140 [00:01<00:00, 114.09it/s]\n"
     ]
    },
    {
     "name": "stdout",
     "output_type": "stream",
     "text": [
      "Epoch 27/50, Train Loss: 1.8726, Train Accuracy: 0.1710, Test Loss: 1.8727, Test Accuracy: 0.1709\n",
      "Epoch 27\n"
     ]
    },
    {
     "name": "stderr",
     "output_type": "stream",
     "text": [
      "100%|██████████| 325/325 [00:07<00:00, 45.80it/s]\n",
      "100%|██████████| 140/140 [00:01<00:00, 117.41it/s]\n"
     ]
    },
    {
     "name": "stdout",
     "output_type": "stream",
     "text": [
      "Epoch 28/50, Train Loss: 1.8726, Train Accuracy: 0.1710, Test Loss: 1.8727, Test Accuracy: 0.1709\n",
      "Epoch 28\n"
     ]
    },
    {
     "name": "stderr",
     "output_type": "stream",
     "text": [
      "100%|██████████| 325/325 [00:07<00:00, 45.23it/s]\n",
      "100%|██████████| 140/140 [00:01<00:00, 119.03it/s]\n"
     ]
    },
    {
     "name": "stdout",
     "output_type": "stream",
     "text": [
      "Epoch 29/50, Train Loss: 1.8726, Train Accuracy: 0.1710, Test Loss: 1.8727, Test Accuracy: 0.1709\n",
      "Epoch 29\n"
     ]
    },
    {
     "name": "stderr",
     "output_type": "stream",
     "text": [
      "100%|██████████| 325/325 [00:07<00:00, 45.37it/s]\n",
      "100%|██████████| 140/140 [00:01<00:00, 118.40it/s]\n"
     ]
    },
    {
     "name": "stdout",
     "output_type": "stream",
     "text": [
      "Epoch 30/50, Train Loss: 1.8726, Train Accuracy: 0.1710, Test Loss: 1.8727, Test Accuracy: 0.1709\n",
      "Epoch 30\n"
     ]
    },
    {
     "name": "stderr",
     "output_type": "stream",
     "text": [
      "100%|██████████| 325/325 [00:07<00:00, 45.34it/s]\n",
      "100%|██████████| 140/140 [00:01<00:00, 111.53it/s]\n"
     ]
    },
    {
     "name": "stdout",
     "output_type": "stream",
     "text": [
      "Epoch 31/50, Train Loss: 1.8726, Train Accuracy: 0.1710, Test Loss: 1.8727, Test Accuracy: 0.1709\n",
      "Epoch 31\n"
     ]
    },
    {
     "name": "stderr",
     "output_type": "stream",
     "text": [
      "100%|██████████| 325/325 [00:07<00:00, 45.60it/s]\n",
      "100%|██████████| 140/140 [00:01<00:00, 115.07it/s]\n"
     ]
    },
    {
     "name": "stdout",
     "output_type": "stream",
     "text": [
      "Epoch 32/50, Train Loss: 1.8726, Train Accuracy: 0.1710, Test Loss: 1.8727, Test Accuracy: 0.1709\n",
      "Epoch 32\n"
     ]
    },
    {
     "name": "stderr",
     "output_type": "stream",
     "text": [
      "100%|██████████| 325/325 [00:07<00:00, 45.65it/s]\n",
      "100%|██████████| 140/140 [00:01<00:00, 116.74it/s]\n"
     ]
    },
    {
     "name": "stdout",
     "output_type": "stream",
     "text": [
      "Epoch 33/50, Train Loss: 1.8726, Train Accuracy: 0.1710, Test Loss: 1.8727, Test Accuracy: 0.1709\n",
      "Epoch 33\n"
     ]
    },
    {
     "name": "stderr",
     "output_type": "stream",
     "text": [
      "100%|██████████| 325/325 [00:07<00:00, 45.93it/s]\n",
      "100%|██████████| 140/140 [00:01<00:00, 117.50it/s]\n"
     ]
    },
    {
     "name": "stdout",
     "output_type": "stream",
     "text": [
      "Epoch 34/50, Train Loss: 1.8726, Train Accuracy: 0.1710, Test Loss: 1.8727, Test Accuracy: 0.1709\n",
      "Epoch 34\n"
     ]
    },
    {
     "name": "stderr",
     "output_type": "stream",
     "text": [
      "100%|██████████| 325/325 [00:07<00:00, 45.36it/s]\n",
      "100%|██████████| 140/140 [00:01<00:00, 116.67it/s]\n"
     ]
    },
    {
     "name": "stdout",
     "output_type": "stream",
     "text": [
      "Epoch 35/50, Train Loss: 1.8726, Train Accuracy: 0.1710, Test Loss: 1.8727, Test Accuracy: 0.1709\n",
      "Epoch 35\n"
     ]
    },
    {
     "name": "stderr",
     "output_type": "stream",
     "text": [
      "100%|██████████| 325/325 [00:07<00:00, 45.69it/s]\n",
      "100%|██████████| 140/140 [00:01<00:00, 105.81it/s]\n"
     ]
    },
    {
     "name": "stdout",
     "output_type": "stream",
     "text": [
      "Epoch 36/50, Train Loss: 1.8726, Train Accuracy: 0.1710, Test Loss: 1.8727, Test Accuracy: 0.1709\n",
      "Epoch 36\n"
     ]
    },
    {
     "name": "stderr",
     "output_type": "stream",
     "text": [
      "100%|██████████| 325/325 [00:07<00:00, 45.68it/s]\n",
      "100%|██████████| 140/140 [00:01<00:00, 114.63it/s]\n"
     ]
    },
    {
     "name": "stdout",
     "output_type": "stream",
     "text": [
      "Epoch 37/50, Train Loss: 1.8726, Train Accuracy: 0.1710, Test Loss: 1.8727, Test Accuracy: 0.1709\n",
      "Epoch 37\n"
     ]
    },
    {
     "name": "stderr",
     "output_type": "stream",
     "text": [
      "100%|██████████| 325/325 [00:07<00:00, 45.26it/s]\n",
      "100%|██████████| 140/140 [00:01<00:00, 113.02it/s]\n"
     ]
    },
    {
     "name": "stdout",
     "output_type": "stream",
     "text": [
      "Epoch 38/50, Train Loss: 1.8726, Train Accuracy: 0.1710, Test Loss: 1.8727, Test Accuracy: 0.1709\n",
      "Epoch 38\n"
     ]
    },
    {
     "name": "stderr",
     "output_type": "stream",
     "text": [
      "100%|██████████| 325/325 [00:07<00:00, 44.67it/s]\n",
      "100%|██████████| 140/140 [00:01<00:00, 113.71it/s]\n"
     ]
    },
    {
     "name": "stdout",
     "output_type": "stream",
     "text": [
      "Epoch 39/50, Train Loss: 1.8726, Train Accuracy: 0.1710, Test Loss: 1.8727, Test Accuracy: 0.1709\n",
      "Epoch 39\n"
     ]
    },
    {
     "name": "stderr",
     "output_type": "stream",
     "text": [
      "100%|██████████| 325/325 [00:07<00:00, 46.10it/s]\n",
      "100%|██████████| 140/140 [00:01<00:00, 112.34it/s]\n"
     ]
    },
    {
     "name": "stdout",
     "output_type": "stream",
     "text": [
      "Epoch 40/50, Train Loss: 1.8726, Train Accuracy: 0.1710, Test Loss: 1.8727, Test Accuracy: 0.1709\n",
      "Epoch 40\n"
     ]
    },
    {
     "name": "stderr",
     "output_type": "stream",
     "text": [
      "100%|██████████| 325/325 [00:07<00:00, 45.86it/s]\n",
      "100%|██████████| 140/140 [00:01<00:00, 113.04it/s]\n"
     ]
    },
    {
     "name": "stdout",
     "output_type": "stream",
     "text": [
      "Epoch 41/50, Train Loss: 1.8726, Train Accuracy: 0.1710, Test Loss: 1.8727, Test Accuracy: 0.1709\n",
      "Epoch 41\n"
     ]
    },
    {
     "name": "stderr",
     "output_type": "stream",
     "text": [
      "100%|██████████| 325/325 [00:07<00:00, 46.02it/s]\n",
      "100%|██████████| 140/140 [00:01<00:00, 116.06it/s]\n"
     ]
    },
    {
     "name": "stdout",
     "output_type": "stream",
     "text": [
      "Epoch 42/50, Train Loss: 1.8726, Train Accuracy: 0.1710, Test Loss: 1.8727, Test Accuracy: 0.1709\n",
      "Epoch 42\n"
     ]
    },
    {
     "name": "stderr",
     "output_type": "stream",
     "text": [
      "100%|██████████| 325/325 [00:07<00:00, 45.87it/s]\n",
      "100%|██████████| 140/140 [00:01<00:00, 117.02it/s]\n"
     ]
    },
    {
     "name": "stdout",
     "output_type": "stream",
     "text": [
      "Epoch 43/50, Train Loss: 1.8726, Train Accuracy: 0.1710, Test Loss: 1.8727, Test Accuracy: 0.1709\n",
      "Epoch 43\n"
     ]
    },
    {
     "name": "stderr",
     "output_type": "stream",
     "text": [
      "100%|██████████| 325/325 [00:07<00:00, 45.97it/s]\n",
      "100%|██████████| 140/140 [00:01<00:00, 113.29it/s]\n"
     ]
    },
    {
     "name": "stdout",
     "output_type": "stream",
     "text": [
      "Epoch 44/50, Train Loss: 1.8726, Train Accuracy: 0.1710, Test Loss: 1.8727, Test Accuracy: 0.1709\n",
      "Epoch 44\n"
     ]
    },
    {
     "name": "stderr",
     "output_type": "stream",
     "text": [
      "100%|██████████| 325/325 [00:07<00:00, 45.42it/s]\n",
      "100%|██████████| 140/140 [00:01<00:00, 114.71it/s]\n"
     ]
    },
    {
     "name": "stdout",
     "output_type": "stream",
     "text": [
      "Epoch 45/50, Train Loss: 1.8726, Train Accuracy: 0.1710, Test Loss: 1.8727, Test Accuracy: 0.1709\n",
      "Epoch 45\n"
     ]
    },
    {
     "name": "stderr",
     "output_type": "stream",
     "text": [
      "100%|██████████| 325/325 [00:07<00:00, 46.04it/s]\n",
      "100%|██████████| 140/140 [00:01<00:00, 113.16it/s]\n"
     ]
    },
    {
     "name": "stdout",
     "output_type": "stream",
     "text": [
      "Epoch 46/50, Train Loss: 1.8726, Train Accuracy: 0.1710, Test Loss: 1.8727, Test Accuracy: 0.1709\n",
      "Epoch 46\n"
     ]
    },
    {
     "name": "stderr",
     "output_type": "stream",
     "text": [
      "100%|██████████| 325/325 [00:07<00:00, 45.96it/s]\n",
      "100%|██████████| 140/140 [00:01<00:00, 116.75it/s]\n"
     ]
    },
    {
     "name": "stdout",
     "output_type": "stream",
     "text": [
      "Epoch 47/50, Train Loss: 1.8726, Train Accuracy: 0.1710, Test Loss: 1.8727, Test Accuracy: 0.1709\n",
      "Epoch 47\n"
     ]
    },
    {
     "name": "stderr",
     "output_type": "stream",
     "text": [
      "100%|██████████| 325/325 [00:07<00:00, 45.43it/s]\n",
      "100%|██████████| 140/140 [00:01<00:00, 114.36it/s]\n"
     ]
    },
    {
     "name": "stdout",
     "output_type": "stream",
     "text": [
      "Epoch 48/50, Train Loss: 1.8726, Train Accuracy: 0.1710, Test Loss: 1.8727, Test Accuracy: 0.1709\n",
      "Epoch 48\n"
     ]
    },
    {
     "name": "stderr",
     "output_type": "stream",
     "text": [
      "100%|██████████| 325/325 [00:07<00:00, 45.15it/s]\n",
      "100%|██████████| 140/140 [00:01<00:00, 116.95it/s]\n"
     ]
    },
    {
     "name": "stdout",
     "output_type": "stream",
     "text": [
      "Epoch 49/50, Train Loss: 1.8726, Train Accuracy: 0.1710, Test Loss: 1.8727, Test Accuracy: 0.1709\n",
      "Epoch 49\n"
     ]
    },
    {
     "name": "stderr",
     "output_type": "stream",
     "text": [
      "100%|██████████| 325/325 [00:07<00:00, 45.36it/s]\n",
      "100%|██████████| 140/140 [00:01<00:00, 112.62it/s]\n"
     ]
    },
    {
     "name": "stdout",
     "output_type": "stream",
     "text": [
      "Epoch 50/50, Train Loss: 1.8726, Train Accuracy: 0.1710, Test Loss: 1.8727, Test Accuracy: 0.1709\n",
      "Batch size: 32 Num of Epochs: 50 lr: 0.01\n",
      "Epoch 0\n"
     ]
    },
    {
     "name": "stderr",
     "output_type": "stream",
     "text": [
      "100%|██████████| 163/163 [00:05<00:00, 28.81it/s]\n",
      "100%|██████████| 70/70 [00:01<00:00, 63.38it/s]\n"
     ]
    },
    {
     "name": "stdout",
     "output_type": "stream",
     "text": [
      "Epoch 1/50, Train Loss: 1.8046, Train Accuracy: 0.1581, Test Loss: 1.8291, Test Accuracy: 0.1696\n",
      "Epoch 1\n"
     ]
    },
    {
     "name": "stderr",
     "output_type": "stream",
     "text": [
      "100%|██████████| 163/163 [00:05<00:00, 30.66it/s]\n",
      "100%|██████████| 70/70 [00:01<00:00, 68.95it/s]\n"
     ]
    },
    {
     "name": "stdout",
     "output_type": "stream",
     "text": [
      "Epoch 2/50, Train Loss: 1.8000, Train Accuracy: 0.1669, Test Loss: 1.7942, Test Accuracy: 0.1696\n",
      "Epoch 2\n"
     ]
    },
    {
     "name": "stderr",
     "output_type": "stream",
     "text": [
      "100%|██████████| 163/163 [00:05<00:00, 30.53it/s]\n",
      "100%|██████████| 70/70 [00:01<00:00, 68.05it/s]\n"
     ]
    },
    {
     "name": "stdout",
     "output_type": "stream",
     "text": [
      "Epoch 3/50, Train Loss: 1.8001, Train Accuracy: 0.1600, Test Loss: 1.7935, Test Accuracy: 0.1678\n",
      "Epoch 3\n"
     ]
    },
    {
     "name": "stderr",
     "output_type": "stream",
     "text": [
      "100%|██████████| 163/163 [00:05<00:00, 30.87it/s]\n",
      "100%|██████████| 70/70 [00:01<00:00, 68.28it/s]\n"
     ]
    },
    {
     "name": "stdout",
     "output_type": "stream",
     "text": [
      "Epoch 4/50, Train Loss: 1.7936, Train Accuracy: 0.1735, Test Loss: 1.7958, Test Accuracy: 0.1741\n",
      "Epoch 4\n"
     ]
    },
    {
     "name": "stderr",
     "output_type": "stream",
     "text": [
      "100%|██████████| 163/163 [00:05<00:00, 30.33it/s]\n",
      "100%|██████████| 70/70 [00:01<00:00, 68.69it/s]\n"
     ]
    },
    {
     "name": "stdout",
     "output_type": "stream",
     "text": [
      "Epoch 5/50, Train Loss: 1.7950, Train Accuracy: 0.1729, Test Loss: 1.7934, Test Accuracy: 0.1687\n",
      "Epoch 5\n"
     ]
    },
    {
     "name": "stderr",
     "output_type": "stream",
     "text": [
      "100%|██████████| 163/163 [00:05<00:00, 31.06it/s]\n",
      "100%|██████████| 70/70 [00:01<00:00, 61.74it/s]\n"
     ]
    },
    {
     "name": "stdout",
     "output_type": "stream",
     "text": [
      "Epoch 6/50, Train Loss: 1.7931, Train Accuracy: 0.1783, Test Loss: 1.7958, Test Accuracy: 0.1660\n",
      "Epoch 6\n"
     ]
    },
    {
     "name": "stderr",
     "output_type": "stream",
     "text": [
      "100%|██████████| 163/163 [00:05<00:00, 30.98it/s]\n",
      "100%|██████████| 70/70 [00:01<00:00, 68.48it/s]\n"
     ]
    },
    {
     "name": "stdout",
     "output_type": "stream",
     "text": [
      "Epoch 7/50, Train Loss: 1.7950, Train Accuracy: 0.1706, Test Loss: 1.7959, Test Accuracy: 0.1682\n",
      "Epoch 7\n"
     ]
    },
    {
     "name": "stderr",
     "output_type": "stream",
     "text": [
      "100%|██████████| 163/163 [00:05<00:00, 30.65it/s]\n",
      "100%|██████████| 70/70 [00:01<00:00, 68.01it/s]\n"
     ]
    },
    {
     "name": "stdout",
     "output_type": "stream",
     "text": [
      "Epoch 8/50, Train Loss: 1.7960, Train Accuracy: 0.1656, Test Loss: 1.8049, Test Accuracy: 0.1691\n",
      "Epoch 8\n"
     ]
    },
    {
     "name": "stderr",
     "output_type": "stream",
     "text": [
      "100%|██████████| 163/163 [00:05<00:00, 30.55it/s]\n",
      "100%|██████████| 70/70 [00:01<00:00, 68.37it/s]\n"
     ]
    },
    {
     "name": "stdout",
     "output_type": "stream",
     "text": [
      "Epoch 9/50, Train Loss: 1.7939, Train Accuracy: 0.1656, Test Loss: 1.7918, Test Accuracy: 0.1673\n",
      "Epoch 9\n"
     ]
    },
    {
     "name": "stderr",
     "output_type": "stream",
     "text": [
      "100%|██████████| 163/163 [00:05<00:00, 30.78it/s]\n",
      "100%|██████████| 70/70 [00:01<00:00, 67.80it/s]\n"
     ]
    },
    {
     "name": "stdout",
     "output_type": "stream",
     "text": [
      "Epoch 10/50, Train Loss: 1.7956, Train Accuracy: 0.1721, Test Loss: 1.7959, Test Accuracy: 0.1678\n",
      "Epoch 10\n"
     ]
    },
    {
     "name": "stderr",
     "output_type": "stream",
     "text": [
      "100%|██████████| 163/163 [00:05<00:00, 31.06it/s]\n",
      "100%|██████████| 70/70 [00:01<00:00, 68.19it/s]\n"
     ]
    },
    {
     "name": "stdout",
     "output_type": "stream",
     "text": [
      "Epoch 11/50, Train Loss: 1.7919, Train Accuracy: 0.1635, Test Loss: 1.7963, Test Accuracy: 0.1709\n",
      "Epoch 11\n"
     ]
    },
    {
     "name": "stderr",
     "output_type": "stream",
     "text": [
      "100%|██████████| 163/163 [00:05<00:00, 30.62it/s]\n",
      "100%|██████████| 70/70 [00:01<00:00, 68.43it/s]\n"
     ]
    },
    {
     "name": "stdout",
     "output_type": "stream",
     "text": [
      "Epoch 12/50, Train Loss: 1.7947, Train Accuracy: 0.1681, Test Loss: 1.7959, Test Accuracy: 0.1664\n",
      "Epoch 12\n"
     ]
    },
    {
     "name": "stderr",
     "output_type": "stream",
     "text": [
      "100%|██████████| 163/163 [00:05<00:00, 30.90it/s]\n",
      "100%|██████████| 70/70 [00:01<00:00, 68.82it/s]\n"
     ]
    },
    {
     "name": "stdout",
     "output_type": "stream",
     "text": [
      "Epoch 13/50, Train Loss: 1.7935, Train Accuracy: 0.1638, Test Loss: 1.7979, Test Accuracy: 0.1633\n",
      "Epoch 13\n"
     ]
    },
    {
     "name": "stderr",
     "output_type": "stream",
     "text": [
      "100%|██████████| 163/163 [00:05<00:00, 30.70it/s]\n",
      "100%|██████████| 70/70 [00:01<00:00, 68.19it/s]\n"
     ]
    },
    {
     "name": "stdout",
     "output_type": "stream",
     "text": [
      "Epoch 14/50, Train Loss: 1.7935, Train Accuracy: 0.1610, Test Loss: 1.7959, Test Accuracy: 0.1687\n",
      "Epoch 14\n"
     ]
    },
    {
     "name": "stderr",
     "output_type": "stream",
     "text": [
      "100%|██████████| 163/163 [00:05<00:00, 30.26it/s]\n",
      "100%|██████████| 70/70 [00:01<00:00, 68.45it/s]\n"
     ]
    },
    {
     "name": "stdout",
     "output_type": "stream",
     "text": [
      "Epoch 15/50, Train Loss: 1.7921, Train Accuracy: 0.1637, Test Loss: 1.7955, Test Accuracy: 0.1696\n",
      "Epoch 15\n"
     ]
    },
    {
     "name": "stderr",
     "output_type": "stream",
     "text": [
      "100%|██████████| 163/163 [00:05<00:00, 30.98it/s]\n",
      "100%|██████████| 70/70 [00:01<00:00, 67.92it/s]\n"
     ]
    },
    {
     "name": "stdout",
     "output_type": "stream",
     "text": [
      "Epoch 16/50, Train Loss: 1.7942, Train Accuracy: 0.1615, Test Loss: 1.7957, Test Accuracy: 0.1691\n",
      "Epoch 16\n"
     ]
    },
    {
     "name": "stderr",
     "output_type": "stream",
     "text": [
      "100%|██████████| 163/163 [00:05<00:00, 30.38it/s]\n",
      "100%|██████████| 70/70 [00:01<00:00, 68.49it/s]\n"
     ]
    },
    {
     "name": "stdout",
     "output_type": "stream",
     "text": [
      "Epoch 17/50, Train Loss: 1.7957, Train Accuracy: 0.1637, Test Loss: 1.7958, Test Accuracy: 0.1678\n",
      "Epoch 17\n"
     ]
    },
    {
     "name": "stderr",
     "output_type": "stream",
     "text": [
      "100%|██████████| 163/163 [00:05<00:00, 30.61it/s]\n",
      "100%|██████████| 70/70 [00:01<00:00, 61.32it/s]\n"
     ]
    },
    {
     "name": "stdout",
     "output_type": "stream",
     "text": [
      "Epoch 18/50, Train Loss: 1.7936, Train Accuracy: 0.1598, Test Loss: 1.7920, Test Accuracy: 0.1673\n",
      "Epoch 18\n"
     ]
    },
    {
     "name": "stderr",
     "output_type": "stream",
     "text": [
      "100%|██████████| 163/163 [00:05<00:00, 30.61it/s]\n",
      "100%|██████████| 70/70 [00:01<00:00, 68.17it/s]\n"
     ]
    },
    {
     "name": "stdout",
     "output_type": "stream",
     "text": [
      "Epoch 19/50, Train Loss: 1.8490, Train Accuracy: 0.1723, Test Loss: 1.8780, Test Accuracy: 0.1655\n",
      "Epoch 19\n"
     ]
    },
    {
     "name": "stderr",
     "output_type": "stream",
     "text": [
      "100%|██████████| 163/163 [00:05<00:00, 30.74it/s]\n",
      "100%|██████████| 70/70 [00:01<00:00, 68.53it/s]\n"
     ]
    },
    {
     "name": "stdout",
     "output_type": "stream",
     "text": [
      "Epoch 20/50, Train Loss: 1.8707, Train Accuracy: 0.1729, Test Loss: 1.8780, Test Accuracy: 0.1655\n",
      "Epoch 20\n"
     ]
    },
    {
     "name": "stderr",
     "output_type": "stream",
     "text": [
      "100%|██████████| 163/163 [00:05<00:00, 30.86it/s]\n",
      "100%|██████████| 70/70 [00:01<00:00, 68.42it/s]\n"
     ]
    },
    {
     "name": "stdout",
     "output_type": "stream",
     "text": [
      "Epoch 21/50, Train Loss: 1.8707, Train Accuracy: 0.1729, Test Loss: 1.8780, Test Accuracy: 0.1655\n",
      "Epoch 21\n"
     ]
    },
    {
     "name": "stderr",
     "output_type": "stream",
     "text": [
      "100%|██████████| 163/163 [00:05<00:00, 30.30it/s]\n",
      "100%|██████████| 70/70 [00:01<00:00, 67.90it/s]\n"
     ]
    },
    {
     "name": "stdout",
     "output_type": "stream",
     "text": [
      "Epoch 22/50, Train Loss: 1.8707, Train Accuracy: 0.1729, Test Loss: 1.8780, Test Accuracy: 0.1655\n",
      "Epoch 22\n"
     ]
    },
    {
     "name": "stderr",
     "output_type": "stream",
     "text": [
      "100%|██████████| 163/163 [00:05<00:00, 30.69it/s]\n",
      "100%|██████████| 70/70 [00:01<00:00, 62.97it/s]\n"
     ]
    },
    {
     "name": "stdout",
     "output_type": "stream",
     "text": [
      "Epoch 23/50, Train Loss: 1.8707, Train Accuracy: 0.1729, Test Loss: 1.8780, Test Accuracy: 0.1655\n",
      "Epoch 23\n"
     ]
    },
    {
     "name": "stderr",
     "output_type": "stream",
     "text": [
      "100%|██████████| 163/163 [00:05<00:00, 30.70it/s]\n",
      "100%|██████████| 70/70 [00:01<00:00, 68.32it/s]\n"
     ]
    },
    {
     "name": "stdout",
     "output_type": "stream",
     "text": [
      "Epoch 24/50, Train Loss: 1.8707, Train Accuracy: 0.1729, Test Loss: 1.8780, Test Accuracy: 0.1655\n",
      "Epoch 24\n"
     ]
    },
    {
     "name": "stderr",
     "output_type": "stream",
     "text": [
      "100%|██████████| 163/163 [00:05<00:00, 30.42it/s]\n",
      "100%|██████████| 70/70 [00:01<00:00, 68.41it/s]\n"
     ]
    },
    {
     "name": "stdout",
     "output_type": "stream",
     "text": [
      "Epoch 25/50, Train Loss: 1.8707, Train Accuracy: 0.1729, Test Loss: 1.8780, Test Accuracy: 0.1655\n",
      "Epoch 25\n"
     ]
    },
    {
     "name": "stderr",
     "output_type": "stream",
     "text": [
      "100%|██████████| 163/163 [00:05<00:00, 30.83it/s]\n",
      "100%|██████████| 70/70 [00:01<00:00, 68.26it/s]\n"
     ]
    },
    {
     "name": "stdout",
     "output_type": "stream",
     "text": [
      "Epoch 26/50, Train Loss: 1.8707, Train Accuracy: 0.1729, Test Loss: 1.8780, Test Accuracy: 0.1655\n",
      "Epoch 26\n"
     ]
    },
    {
     "name": "stderr",
     "output_type": "stream",
     "text": [
      "100%|██████████| 163/163 [00:05<00:00, 30.79it/s]\n",
      "100%|██████████| 70/70 [00:01<00:00, 67.67it/s]\n"
     ]
    },
    {
     "name": "stdout",
     "output_type": "stream",
     "text": [
      "Epoch 27/50, Train Loss: 1.8707, Train Accuracy: 0.1729, Test Loss: 1.8780, Test Accuracy: 0.1655\n",
      "Epoch 27\n"
     ]
    },
    {
     "name": "stderr",
     "output_type": "stream",
     "text": [
      "100%|██████████| 163/163 [00:05<00:00, 30.06it/s]\n",
      "100%|██████████| 70/70 [00:01<00:00, 68.42it/s]\n"
     ]
    },
    {
     "name": "stdout",
     "output_type": "stream",
     "text": [
      "Epoch 28/50, Train Loss: 1.8707, Train Accuracy: 0.1729, Test Loss: 1.8780, Test Accuracy: 0.1655\n",
      "Epoch 28\n"
     ]
    },
    {
     "name": "stderr",
     "output_type": "stream",
     "text": [
      "100%|██████████| 163/163 [00:05<00:00, 30.30it/s]\n",
      "100%|██████████| 70/70 [00:01<00:00, 67.93it/s]\n"
     ]
    },
    {
     "name": "stdout",
     "output_type": "stream",
     "text": [
      "Epoch 29/50, Train Loss: 1.8707, Train Accuracy: 0.1729, Test Loss: 1.8780, Test Accuracy: 0.1655\n",
      "Epoch 29\n"
     ]
    },
    {
     "name": "stderr",
     "output_type": "stream",
     "text": [
      "100%|██████████| 163/163 [00:05<00:00, 30.96it/s]\n",
      "100%|██████████| 70/70 [00:01<00:00, 68.55it/s]\n"
     ]
    },
    {
     "name": "stdout",
     "output_type": "stream",
     "text": [
      "Epoch 30/50, Train Loss: 1.8707, Train Accuracy: 0.1729, Test Loss: 1.8780, Test Accuracy: 0.1655\n",
      "Epoch 30\n"
     ]
    },
    {
     "name": "stderr",
     "output_type": "stream",
     "text": [
      "100%|██████████| 163/163 [00:05<00:00, 30.07it/s]\n",
      "100%|██████████| 70/70 [00:01<00:00, 68.39it/s]\n"
     ]
    },
    {
     "name": "stdout",
     "output_type": "stream",
     "text": [
      "Epoch 31/50, Train Loss: 1.8707, Train Accuracy: 0.1729, Test Loss: 1.8780, Test Accuracy: 0.1655\n",
      "Epoch 31\n"
     ]
    },
    {
     "name": "stderr",
     "output_type": "stream",
     "text": [
      "100%|██████████| 163/163 [00:05<00:00, 30.82it/s]\n",
      "100%|██████████| 70/70 [00:01<00:00, 62.21it/s]\n"
     ]
    },
    {
     "name": "stdout",
     "output_type": "stream",
     "text": [
      "Epoch 32/50, Train Loss: 1.8707, Train Accuracy: 0.1729, Test Loss: 1.8780, Test Accuracy: 0.1655\n",
      "Epoch 32\n"
     ]
    },
    {
     "name": "stderr",
     "output_type": "stream",
     "text": [
      "100%|██████████| 163/163 [00:05<00:00, 30.82it/s]\n",
      "100%|██████████| 70/70 [00:01<00:00, 68.31it/s]\n"
     ]
    },
    {
     "name": "stdout",
     "output_type": "stream",
     "text": [
      "Epoch 33/50, Train Loss: 1.8707, Train Accuracy: 0.1729, Test Loss: 1.8780, Test Accuracy: 0.1655\n",
      "Epoch 33\n"
     ]
    },
    {
     "name": "stderr",
     "output_type": "stream",
     "text": [
      "100%|██████████| 163/163 [00:05<00:00, 30.57it/s]\n",
      "100%|██████████| 70/70 [00:01<00:00, 68.54it/s]\n"
     ]
    },
    {
     "name": "stdout",
     "output_type": "stream",
     "text": [
      "Epoch 34/50, Train Loss: 1.8707, Train Accuracy: 0.1729, Test Loss: 1.8780, Test Accuracy: 0.1655\n",
      "Epoch 34\n"
     ]
    },
    {
     "name": "stderr",
     "output_type": "stream",
     "text": [
      "100%|██████████| 163/163 [00:05<00:00, 30.57it/s]\n",
      "100%|██████████| 70/70 [00:01<00:00, 67.99it/s]\n"
     ]
    },
    {
     "name": "stdout",
     "output_type": "stream",
     "text": [
      "Epoch 35/50, Train Loss: 1.8707, Train Accuracy: 0.1729, Test Loss: 1.8780, Test Accuracy: 0.1655\n",
      "Epoch 35\n"
     ]
    },
    {
     "name": "stderr",
     "output_type": "stream",
     "text": [
      "100%|██████████| 163/163 [00:05<00:00, 30.18it/s]\n",
      "100%|██████████| 70/70 [00:01<00:00, 68.71it/s]\n"
     ]
    },
    {
     "name": "stdout",
     "output_type": "stream",
     "text": [
      "Epoch 36/50, Train Loss: 1.8707, Train Accuracy: 0.1729, Test Loss: 1.8780, Test Accuracy: 0.1655\n",
      "Epoch 36\n"
     ]
    },
    {
     "name": "stderr",
     "output_type": "stream",
     "text": [
      "100%|██████████| 163/163 [00:05<00:00, 30.63it/s]\n",
      "100%|██████████| 70/70 [00:01<00:00, 64.77it/s]\n"
     ]
    },
    {
     "name": "stdout",
     "output_type": "stream",
     "text": [
      "Epoch 37/50, Train Loss: 1.8707, Train Accuracy: 0.1729, Test Loss: 1.8780, Test Accuracy: 0.1655\n",
      "Epoch 37\n"
     ]
    },
    {
     "name": "stderr",
     "output_type": "stream",
     "text": [
      "100%|██████████| 163/163 [00:05<00:00, 30.68it/s]\n",
      "100%|██████████| 70/70 [00:01<00:00, 68.50it/s]\n"
     ]
    },
    {
     "name": "stdout",
     "output_type": "stream",
     "text": [
      "Epoch 38/50, Train Loss: 1.8707, Train Accuracy: 0.1729, Test Loss: 1.8780, Test Accuracy: 0.1655\n",
      "Epoch 38\n"
     ]
    },
    {
     "name": "stderr",
     "output_type": "stream",
     "text": [
      "100%|██████████| 163/163 [00:05<00:00, 30.56it/s]\n",
      "100%|██████████| 70/70 [00:01<00:00, 68.31it/s]\n"
     ]
    },
    {
     "name": "stdout",
     "output_type": "stream",
     "text": [
      "Epoch 39/50, Train Loss: 1.8707, Train Accuracy: 0.1729, Test Loss: 1.8780, Test Accuracy: 0.1655\n",
      "Epoch 39\n"
     ]
    },
    {
     "name": "stderr",
     "output_type": "stream",
     "text": [
      "100%|██████████| 163/163 [00:05<00:00, 30.41it/s]\n",
      "100%|██████████| 70/70 [00:01<00:00, 68.73it/s]\n"
     ]
    },
    {
     "name": "stdout",
     "output_type": "stream",
     "text": [
      "Epoch 40/50, Train Loss: 1.8707, Train Accuracy: 0.1729, Test Loss: 1.8780, Test Accuracy: 0.1655\n",
      "Epoch 40\n"
     ]
    },
    {
     "name": "stderr",
     "output_type": "stream",
     "text": [
      "100%|██████████| 163/163 [00:05<00:00, 29.95it/s]\n",
      "100%|██████████| 70/70 [00:01<00:00, 68.15it/s]\n"
     ]
    },
    {
     "name": "stdout",
     "output_type": "stream",
     "text": [
      "Epoch 41/50, Train Loss: 1.8707, Train Accuracy: 0.1729, Test Loss: 1.8780, Test Accuracy: 0.1655\n",
      "Epoch 41\n"
     ]
    },
    {
     "name": "stderr",
     "output_type": "stream",
     "text": [
      "100%|██████████| 163/163 [00:05<00:00, 30.76it/s]\n",
      "100%|██████████| 70/70 [00:01<00:00, 68.37it/s]\n"
     ]
    },
    {
     "name": "stdout",
     "output_type": "stream",
     "text": [
      "Epoch 42/50, Train Loss: 1.8707, Train Accuracy: 0.1729, Test Loss: 1.8780, Test Accuracy: 0.1655\n",
      "Epoch 42\n"
     ]
    },
    {
     "name": "stderr",
     "output_type": "stream",
     "text": [
      "100%|██████████| 163/163 [00:05<00:00, 30.77it/s]\n",
      "100%|██████████| 70/70 [00:01<00:00, 69.04it/s]\n"
     ]
    },
    {
     "name": "stdout",
     "output_type": "stream",
     "text": [
      "Epoch 43/50, Train Loss: 1.8707, Train Accuracy: 0.1729, Test Loss: 1.8780, Test Accuracy: 0.1655\n",
      "Epoch 43\n"
     ]
    },
    {
     "name": "stderr",
     "output_type": "stream",
     "text": [
      "100%|██████████| 163/163 [00:05<00:00, 30.55it/s]\n",
      "100%|██████████| 70/70 [00:01<00:00, 68.54it/s]\n"
     ]
    },
    {
     "name": "stdout",
     "output_type": "stream",
     "text": [
      "Epoch 44/50, Train Loss: 1.8707, Train Accuracy: 0.1729, Test Loss: 1.8780, Test Accuracy: 0.1655\n",
      "Epoch 44\n"
     ]
    },
    {
     "name": "stderr",
     "output_type": "stream",
     "text": [
      "100%|██████████| 163/163 [00:05<00:00, 30.71it/s]\n",
      "100%|██████████| 70/70 [00:01<00:00, 68.92it/s]\n"
     ]
    },
    {
     "name": "stdout",
     "output_type": "stream",
     "text": [
      "Epoch 45/50, Train Loss: 1.8707, Train Accuracy: 0.1729, Test Loss: 1.8780, Test Accuracy: 0.1655\n",
      "Epoch 45\n"
     ]
    },
    {
     "name": "stderr",
     "output_type": "stream",
     "text": [
      "100%|██████████| 163/163 [00:05<00:00, 30.17it/s]\n",
      "100%|██████████| 70/70 [00:01<00:00, 63.16it/s]\n"
     ]
    },
    {
     "name": "stdout",
     "output_type": "stream",
     "text": [
      "Epoch 46/50, Train Loss: 1.8707, Train Accuracy: 0.1729, Test Loss: 1.8780, Test Accuracy: 0.1655\n",
      "Epoch 46\n"
     ]
    },
    {
     "name": "stderr",
     "output_type": "stream",
     "text": [
      "100%|██████████| 163/163 [00:05<00:00, 30.73it/s]\n",
      "100%|██████████| 70/70 [00:01<00:00, 68.27it/s]\n"
     ]
    },
    {
     "name": "stdout",
     "output_type": "stream",
     "text": [
      "Epoch 47/50, Train Loss: 1.8707, Train Accuracy: 0.1729, Test Loss: 1.8780, Test Accuracy: 0.1655\n",
      "Epoch 47\n"
     ]
    },
    {
     "name": "stderr",
     "output_type": "stream",
     "text": [
      "100%|██████████| 163/163 [00:05<00:00, 30.46it/s]\n",
      "100%|██████████| 70/70 [00:01<00:00, 68.07it/s]\n"
     ]
    },
    {
     "name": "stdout",
     "output_type": "stream",
     "text": [
      "Epoch 48/50, Train Loss: 1.8707, Train Accuracy: 0.1729, Test Loss: 1.8780, Test Accuracy: 0.1655\n",
      "Epoch 48\n"
     ]
    },
    {
     "name": "stderr",
     "output_type": "stream",
     "text": [
      "100%|██████████| 163/163 [00:05<00:00, 30.45it/s]\n",
      "100%|██████████| 70/70 [00:01<00:00, 68.40it/s]\n"
     ]
    },
    {
     "name": "stdout",
     "output_type": "stream",
     "text": [
      "Epoch 49/50, Train Loss: 1.8707, Train Accuracy: 0.1729, Test Loss: 1.8780, Test Accuracy: 0.1655\n",
      "Epoch 49\n"
     ]
    },
    {
     "name": "stderr",
     "output_type": "stream",
     "text": [
      "100%|██████████| 163/163 [00:05<00:00, 30.46it/s]\n",
      "100%|██████████| 70/70 [00:01<00:00, 68.49it/s]\n"
     ]
    },
    {
     "name": "stdout",
     "output_type": "stream",
     "text": [
      "Epoch 50/50, Train Loss: 1.8707, Train Accuracy: 0.1729, Test Loss: 1.8780, Test Accuracy: 0.1655\n",
      "Batch size: 64 Num of Epochs: 50 lr: 0.01\n",
      "Epoch 0\n"
     ]
    },
    {
     "name": "stderr",
     "output_type": "stream",
     "text": [
      "100%|██████████| 82/82 [00:04<00:00, 17.69it/s]\n",
      "100%|██████████| 35/35 [00:01<00:00, 34.00it/s]\n"
     ]
    },
    {
     "name": "stdout",
     "output_type": "stream",
     "text": [
      "Epoch 1/50, Train Loss: 1.8014, Train Accuracy: 0.1663, Test Loss: 1.8127, Test Accuracy: 0.1705\n",
      "Epoch 1\n"
     ]
    },
    {
     "name": "stderr",
     "output_type": "stream",
     "text": [
      "100%|██████████| 82/82 [00:04<00:00, 17.71it/s]\n",
      "100%|██████████| 35/35 [00:01<00:00, 33.32it/s]\n"
     ]
    },
    {
     "name": "stdout",
     "output_type": "stream",
     "text": [
      "Epoch 2/50, Train Loss: 1.7816, Train Accuracy: 0.2062, Test Loss: 1.8065, Test Accuracy: 0.1938\n",
      "Epoch 2\n"
     ]
    },
    {
     "name": "stderr",
     "output_type": "stream",
     "text": [
      "100%|██████████| 82/82 [00:04<00:00, 17.71it/s]\n",
      "100%|██████████| 35/35 [00:01<00:00, 33.18it/s]\n"
     ]
    },
    {
     "name": "stdout",
     "output_type": "stream",
     "text": [
      "Epoch 3/50, Train Loss: 1.8017, Train Accuracy: 0.1746, Test Loss: 1.8556, Test Accuracy: 0.1642\n",
      "Epoch 3\n"
     ]
    },
    {
     "name": "stderr",
     "output_type": "stream",
     "text": [
      "100%|██████████| 82/82 [00:04<00:00, 17.75it/s]\n",
      "100%|██████████| 35/35 [00:01<00:00, 32.94it/s]\n"
     ]
    },
    {
     "name": "stdout",
     "output_type": "stream",
     "text": [
      "Epoch 4/50, Train Loss: 1.8024, Train Accuracy: 0.1912, Test Loss: 1.8148, Test Accuracy: 0.1817\n",
      "Epoch 4\n"
     ]
    },
    {
     "name": "stderr",
     "output_type": "stream",
     "text": [
      "100%|██████████| 82/82 [00:04<00:00, 17.62it/s]\n",
      "100%|██████████| 35/35 [00:01<00:00, 33.55it/s]\n"
     ]
    },
    {
     "name": "stdout",
     "output_type": "stream",
     "text": [
      "Epoch 5/50, Train Loss: 1.7973, Train Accuracy: 0.1688, Test Loss: 1.7936, Test Accuracy: 0.1660\n",
      "Epoch 5\n"
     ]
    },
    {
     "name": "stderr",
     "output_type": "stream",
     "text": [
      "100%|██████████| 82/82 [00:04<00:00, 17.69it/s]\n",
      "100%|██████████| 35/35 [00:01<00:00, 33.27it/s]\n"
     ]
    },
    {
     "name": "stdout",
     "output_type": "stream",
     "text": [
      "Epoch 6/50, Train Loss: 1.7982, Train Accuracy: 0.1773, Test Loss: 1.7955, Test Accuracy: 0.1651\n",
      "Epoch 6\n"
     ]
    },
    {
     "name": "stderr",
     "output_type": "stream",
     "text": [
      "100%|██████████| 82/82 [00:04<00:00, 17.38it/s]\n",
      "100%|██████████| 35/35 [00:01<00:00, 33.50it/s]\n"
     ]
    },
    {
     "name": "stdout",
     "output_type": "stream",
     "text": [
      "Epoch 7/50, Train Loss: 1.7809, Train Accuracy: 0.2081, Test Loss: 1.7796, Test Accuracy: 0.2189\n",
      "Epoch 7\n"
     ]
    },
    {
     "name": "stderr",
     "output_type": "stream",
     "text": [
      "100%|██████████| 82/82 [00:04<00:00, 17.80it/s]\n",
      "100%|██████████| 35/35 [00:01<00:00, 33.38it/s]\n"
     ]
    },
    {
     "name": "stdout",
     "output_type": "stream",
     "text": [
      "Epoch 8/50, Train Loss: 1.7490, Train Accuracy: 0.2535, Test Loss: 1.7563, Test Accuracy: 0.2459\n",
      "Epoch 8\n"
     ]
    },
    {
     "name": "stderr",
     "output_type": "stream",
     "text": [
      "100%|██████████| 82/82 [00:04<00:00, 17.61it/s]\n",
      "100%|██████████| 35/35 [00:01<00:00, 33.62it/s]\n"
     ]
    },
    {
     "name": "stdout",
     "output_type": "stream",
     "text": [
      "Epoch 9/50, Train Loss: 1.7279, Train Accuracy: 0.2744, Test Loss: 1.7675, Test Accuracy: 0.2135\n",
      "Epoch 9\n"
     ]
    },
    {
     "name": "stderr",
     "output_type": "stream",
     "text": [
      "100%|██████████| 82/82 [00:04<00:00, 17.79it/s]\n",
      "100%|██████████| 35/35 [00:01<00:00, 33.38it/s]\n"
     ]
    },
    {
     "name": "stdout",
     "output_type": "stream",
     "text": [
      "Epoch 10/50, Train Loss: 1.7220, Train Accuracy: 0.2890, Test Loss: 1.7889, Test Accuracy: 0.2216\n",
      "Epoch 10\n"
     ]
    },
    {
     "name": "stderr",
     "output_type": "stream",
     "text": [
      "100%|██████████| 82/82 [00:04<00:00, 17.41it/s]\n",
      "100%|██████████| 35/35 [00:01<00:00, 33.01it/s]\n"
     ]
    },
    {
     "name": "stdout",
     "output_type": "stream",
     "text": [
      "Epoch 11/50, Train Loss: 1.7154, Train Accuracy: 0.2935, Test Loss: 1.7593, Test Accuracy: 0.2665\n",
      "Epoch 11\n"
     ]
    },
    {
     "name": "stderr",
     "output_type": "stream",
     "text": [
      "100%|██████████| 82/82 [00:04<00:00, 17.80it/s]\n",
      "100%|██████████| 35/35 [00:01<00:00, 30.28it/s]\n"
     ]
    },
    {
     "name": "stdout",
     "output_type": "stream",
     "text": [
      "Epoch 12/50, Train Loss: 1.7083, Train Accuracy: 0.2977, Test Loss: 1.6904, Test Accuracy: 0.3194\n",
      "Epoch 12\n"
     ]
    },
    {
     "name": "stderr",
     "output_type": "stream",
     "text": [
      "100%|██████████| 82/82 [00:04<00:00, 17.71it/s]\n",
      "100%|██████████| 35/35 [00:01<00:00, 33.56it/s]\n"
     ]
    },
    {
     "name": "stdout",
     "output_type": "stream",
     "text": [
      "Epoch 13/50, Train Loss: 1.6990, Train Accuracy: 0.3065, Test Loss: 1.7403, Test Accuracy: 0.2463\n",
      "Epoch 13\n"
     ]
    },
    {
     "name": "stderr",
     "output_type": "stream",
     "text": [
      "100%|██████████| 82/82 [00:04<00:00, 17.78it/s]\n",
      "100%|██████████| 35/35 [00:01<00:00, 33.25it/s]\n"
     ]
    },
    {
     "name": "stdout",
     "output_type": "stream",
     "text": [
      "Epoch 14/50, Train Loss: 1.6917, Train Accuracy: 0.3229, Test Loss: 1.6832, Test Accuracy: 0.3122\n",
      "Epoch 14\n"
     ]
    },
    {
     "name": "stderr",
     "output_type": "stream",
     "text": [
      "100%|██████████| 82/82 [00:04<00:00, 17.78it/s]\n",
      "100%|██████████| 35/35 [00:01<00:00, 33.62it/s]\n"
     ]
    },
    {
     "name": "stdout",
     "output_type": "stream",
     "text": [
      "Epoch 15/50, Train Loss: 1.6807, Train Accuracy: 0.3285, Test Loss: 1.6925, Test Accuracy: 0.3051\n",
      "Epoch 15\n"
     ]
    },
    {
     "name": "stderr",
     "output_type": "stream",
     "text": [
      "100%|██████████| 82/82 [00:04<00:00, 17.54it/s]\n",
      "100%|██████████| 35/35 [00:01<00:00, 33.47it/s]\n"
     ]
    },
    {
     "name": "stdout",
     "output_type": "stream",
     "text": [
      "Epoch 16/50, Train Loss: 1.6664, Train Accuracy: 0.3463, Test Loss: 1.6712, Test Accuracy: 0.3374\n",
      "Epoch 16\n"
     ]
    },
    {
     "name": "stderr",
     "output_type": "stream",
     "text": [
      "100%|██████████| 82/82 [00:04<00:00, 17.55it/s]\n",
      "100%|██████████| 35/35 [00:01<00:00, 32.74it/s]\n"
     ]
    },
    {
     "name": "stdout",
     "output_type": "stream",
     "text": [
      "Epoch 17/50, Train Loss: 1.6740, Train Accuracy: 0.3360, Test Loss: 1.7643, Test Accuracy: 0.2521\n",
      "Epoch 17\n"
     ]
    },
    {
     "name": "stderr",
     "output_type": "stream",
     "text": [
      "100%|██████████| 82/82 [00:04<00:00, 17.70it/s]\n",
      "100%|██████████| 35/35 [00:01<00:00, 33.43it/s]\n"
     ]
    },
    {
     "name": "stdout",
     "output_type": "stream",
     "text": [
      "Epoch 18/50, Train Loss: 1.6672, Train Accuracy: 0.3408, Test Loss: 1.7062, Test Accuracy: 0.3051\n",
      "Epoch 18\n"
     ]
    },
    {
     "name": "stderr",
     "output_type": "stream",
     "text": [
      "100%|██████████| 82/82 [00:04<00:00, 17.51it/s]\n",
      "100%|██████████| 35/35 [00:01<00:00, 33.61it/s]\n"
     ]
    },
    {
     "name": "stdout",
     "output_type": "stream",
     "text": [
      "Epoch 19/50, Train Loss: 1.6644, Train Accuracy: 0.3508, Test Loss: 1.6884, Test Accuracy: 0.3239\n",
      "Epoch 19\n"
     ]
    },
    {
     "name": "stderr",
     "output_type": "stream",
     "text": [
      "100%|██████████| 82/82 [00:04<00:00, 17.80it/s]\n",
      "100%|██████████| 35/35 [00:01<00:00, 33.46it/s]\n"
     ]
    },
    {
     "name": "stdout",
     "output_type": "stream",
     "text": [
      "Epoch 20/50, Train Loss: 1.6348, Train Accuracy: 0.3794, Test Loss: 1.6783, Test Accuracy: 0.3338\n",
      "Epoch 20\n"
     ]
    },
    {
     "name": "stderr",
     "output_type": "stream",
     "text": [
      "100%|██████████| 82/82 [00:04<00:00, 17.57it/s]\n",
      "100%|██████████| 35/35 [00:01<00:00, 33.51it/s]\n"
     ]
    },
    {
     "name": "stdout",
     "output_type": "stream",
     "text": [
      "Epoch 21/50, Train Loss: 1.6368, Train Accuracy: 0.3783, Test Loss: 1.7117, Test Accuracy: 0.3024\n",
      "Epoch 21\n"
     ]
    },
    {
     "name": "stderr",
     "output_type": "stream",
     "text": [
      "100%|██████████| 82/82 [00:04<00:00, 17.74it/s]\n",
      "100%|██████████| 35/35 [00:01<00:00, 29.61it/s]\n"
     ]
    },
    {
     "name": "stdout",
     "output_type": "stream",
     "text": [
      "Epoch 22/50, Train Loss: 1.6163, Train Accuracy: 0.4046, Test Loss: 1.6166, Test Accuracy: 0.4038\n",
      "Epoch 22\n"
     ]
    },
    {
     "name": "stderr",
     "output_type": "stream",
     "text": [
      "100%|██████████| 82/82 [00:04<00:00, 17.80it/s]\n",
      "100%|██████████| 35/35 [00:01<00:00, 33.06it/s]\n"
     ]
    },
    {
     "name": "stdout",
     "output_type": "stream",
     "text": [
      "Epoch 23/50, Train Loss: 1.6044, Train Accuracy: 0.4158, Test Loss: 1.6738, Test Accuracy: 0.3396\n",
      "Epoch 23\n"
     ]
    },
    {
     "name": "stderr",
     "output_type": "stream",
     "text": [
      "100%|██████████| 82/82 [00:04<00:00, 17.69it/s]\n",
      "100%|██████████| 35/35 [00:01<00:00, 33.45it/s]\n"
     ]
    },
    {
     "name": "stdout",
     "output_type": "stream",
     "text": [
      "Epoch 24/50, Train Loss: 1.6055, Train Accuracy: 0.4106, Test Loss: 1.6356, Test Accuracy: 0.3809\n",
      "Epoch 24\n"
     ]
    },
    {
     "name": "stderr",
     "output_type": "stream",
     "text": [
      "100%|██████████| 82/82 [00:04<00:00, 17.69it/s]\n",
      "100%|██████████| 35/35 [00:01<00:00, 33.39it/s]\n"
     ]
    },
    {
     "name": "stdout",
     "output_type": "stream",
     "text": [
      "Epoch 25/50, Train Loss: 1.5830, Train Accuracy: 0.4412, Test Loss: 1.6403, Test Accuracy: 0.3804\n",
      "Epoch 25\n"
     ]
    },
    {
     "name": "stderr",
     "output_type": "stream",
     "text": [
      "100%|██████████| 82/82 [00:04<00:00, 17.80it/s]\n",
      "100%|██████████| 35/35 [00:01<00:00, 33.57it/s]\n"
     ]
    },
    {
     "name": "stdout",
     "output_type": "stream",
     "text": [
      "Epoch 26/50, Train Loss: 1.5870, Train Accuracy: 0.4362, Test Loss: 1.6061, Test Accuracy: 0.4235\n",
      "Epoch 26\n"
     ]
    },
    {
     "name": "stderr",
     "output_type": "stream",
     "text": [
      "100%|██████████| 82/82 [00:04<00:00, 17.75it/s]\n",
      "100%|██████████| 35/35 [00:01<00:00, 33.32it/s]\n"
     ]
    },
    {
     "name": "stdout",
     "output_type": "stream",
     "text": [
      "Epoch 27/50, Train Loss: 1.5798, Train Accuracy: 0.4473, Test Loss: 1.5969, Test Accuracy: 0.4249\n",
      "Epoch 27\n"
     ]
    },
    {
     "name": "stderr",
     "output_type": "stream",
     "text": [
      "100%|██████████| 82/82 [00:04<00:00, 17.58it/s]\n",
      "100%|██████████| 35/35 [00:01<00:00, 33.37it/s]\n"
     ]
    },
    {
     "name": "stdout",
     "output_type": "stream",
     "text": [
      "Epoch 28/50, Train Loss: 1.5725, Train Accuracy: 0.4523, Test Loss: 1.6983, Test Accuracy: 0.3235\n",
      "Epoch 28\n"
     ]
    },
    {
     "name": "stderr",
     "output_type": "stream",
     "text": [
      "100%|██████████| 82/82 [00:04<00:00, 17.61it/s]\n",
      "100%|██████████| 35/35 [00:01<00:00, 33.15it/s]\n"
     ]
    },
    {
     "name": "stdout",
     "output_type": "stream",
     "text": [
      "Epoch 29/50, Train Loss: 1.5824, Train Accuracy: 0.4463, Test Loss: 1.6014, Test Accuracy: 0.4199\n",
      "Epoch 29\n"
     ]
    },
    {
     "name": "stderr",
     "output_type": "stream",
     "text": [
      "100%|██████████| 82/82 [00:04<00:00, 17.51it/s]\n",
      "100%|██████████| 35/35 [00:01<00:00, 33.07it/s]\n"
     ]
    },
    {
     "name": "stdout",
     "output_type": "stream",
     "text": [
      "Epoch 30/50, Train Loss: 1.5731, Train Accuracy: 0.4562, Test Loss: 1.5912, Test Accuracy: 0.4356\n",
      "Epoch 30\n"
     ]
    },
    {
     "name": "stderr",
     "output_type": "stream",
     "text": [
      "100%|██████████| 82/82 [00:04<00:00, 17.75it/s]\n",
      "100%|██████████| 35/35 [00:01<00:00, 33.29it/s]\n"
     ]
    },
    {
     "name": "stdout",
     "output_type": "stream",
     "text": [
      "Epoch 31/50, Train Loss: 1.5484, Train Accuracy: 0.4827, Test Loss: 1.6152, Test Accuracy: 0.4029\n",
      "Epoch 31\n"
     ]
    },
    {
     "name": "stderr",
     "output_type": "stream",
     "text": [
      "100%|██████████| 82/82 [00:04<00:00, 17.63it/s]\n",
      "100%|██████████| 35/35 [00:01<00:00, 33.53it/s]\n"
     ]
    },
    {
     "name": "stdout",
     "output_type": "stream",
     "text": [
      "Epoch 32/50, Train Loss: 1.5462, Train Accuracy: 0.4827, Test Loss: 1.5764, Test Accuracy: 0.4491\n",
      "Epoch 32\n"
     ]
    },
    {
     "name": "stderr",
     "output_type": "stream",
     "text": [
      "100%|██████████| 82/82 [00:04<00:00, 17.75it/s]\n",
      "100%|██████████| 35/35 [00:01<00:00, 33.31it/s]\n"
     ]
    },
    {
     "name": "stdout",
     "output_type": "stream",
     "text": [
      "Epoch 33/50, Train Loss: 1.5322, Train Accuracy: 0.4948, Test Loss: 1.5672, Test Accuracy: 0.4675\n",
      "Epoch 33\n"
     ]
    },
    {
     "name": "stderr",
     "output_type": "stream",
     "text": [
      "100%|██████████| 82/82 [00:04<00:00, 17.66it/s]\n",
      "100%|██████████| 35/35 [00:01<00:00, 33.57it/s]\n"
     ]
    },
    {
     "name": "stdout",
     "output_type": "stream",
     "text": [
      "Epoch 34/50, Train Loss: 1.5111, Train Accuracy: 0.5208, Test Loss: 1.5396, Test Accuracy: 0.4899\n",
      "Epoch 34\n"
     ]
    },
    {
     "name": "stderr",
     "output_type": "stream",
     "text": [
      "100%|██████████| 82/82 [00:04<00:00, 17.74it/s]\n",
      "100%|██████████| 35/35 [00:01<00:00, 33.07it/s]\n"
     ]
    },
    {
     "name": "stdout",
     "output_type": "stream",
     "text": [
      "Epoch 35/50, Train Loss: 1.5050, Train Accuracy: 0.5262, Test Loss: 1.5808, Test Accuracy: 0.4477\n",
      "Epoch 35\n"
     ]
    },
    {
     "name": "stderr",
     "output_type": "stream",
     "text": [
      "100%|██████████| 82/82 [00:04<00:00, 17.64it/s]\n",
      "100%|██████████| 35/35 [00:01<00:00, 33.05it/s]\n"
     ]
    },
    {
     "name": "stdout",
     "output_type": "stream",
     "text": [
      "Epoch 36/50, Train Loss: 1.5047, Train Accuracy: 0.5269, Test Loss: 1.5398, Test Accuracy: 0.4895\n",
      "Epoch 36\n"
     ]
    },
    {
     "name": "stderr",
     "output_type": "stream",
     "text": [
      "100%|██████████| 82/82 [00:04<00:00, 17.67it/s]\n",
      "100%|██████████| 35/35 [00:01<00:00, 33.52it/s]\n"
     ]
    },
    {
     "name": "stdout",
     "output_type": "stream",
     "text": [
      "Epoch 37/50, Train Loss: 1.4927, Train Accuracy: 0.5410, Test Loss: 1.5532, Test Accuracy: 0.4809\n",
      "Epoch 37\n"
     ]
    },
    {
     "name": "stderr",
     "output_type": "stream",
     "text": [
      "100%|██████████| 82/82 [00:04<00:00, 17.63it/s]\n",
      "100%|██████████| 35/35 [00:01<00:00, 33.35it/s]\n"
     ]
    },
    {
     "name": "stdout",
     "output_type": "stream",
     "text": [
      "Epoch 38/50, Train Loss: 1.4766, Train Accuracy: 0.5588, Test Loss: 1.5439, Test Accuracy: 0.4886\n",
      "Epoch 38\n"
     ]
    },
    {
     "name": "stderr",
     "output_type": "stream",
     "text": [
      "100%|██████████| 82/82 [00:04<00:00, 17.62it/s]\n",
      "100%|██████████| 35/35 [00:01<00:00, 33.40it/s]\n"
     ]
    },
    {
     "name": "stdout",
     "output_type": "stream",
     "text": [
      "Epoch 39/50, Train Loss: 1.4712, Train Accuracy: 0.5633, Test Loss: 1.5294, Test Accuracy: 0.5020\n",
      "Epoch 39\n"
     ]
    },
    {
     "name": "stderr",
     "output_type": "stream",
     "text": [
      "100%|██████████| 82/82 [00:04<00:00, 17.70it/s]\n",
      "100%|██████████| 35/35 [00:01<00:00, 33.51it/s]\n"
     ]
    },
    {
     "name": "stdout",
     "output_type": "stream",
     "text": [
      "Epoch 40/50, Train Loss: 1.4686, Train Accuracy: 0.5685, Test Loss: 1.5461, Test Accuracy: 0.4832\n",
      "Epoch 40\n"
     ]
    },
    {
     "name": "stderr",
     "output_type": "stream",
     "text": [
      "100%|██████████| 82/82 [00:04<00:00, 17.63it/s]\n",
      "100%|██████████| 35/35 [00:01<00:00, 33.44it/s]\n"
     ]
    },
    {
     "name": "stdout",
     "output_type": "stream",
     "text": [
      "Epoch 41/50, Train Loss: 1.4583, Train Accuracy: 0.5748, Test Loss: 1.5317, Test Accuracy: 0.5025\n",
      "Epoch 41\n"
     ]
    },
    {
     "name": "stderr",
     "output_type": "stream",
     "text": [
      "100%|██████████| 82/82 [00:04<00:00, 17.72it/s]\n",
      "100%|██████████| 35/35 [00:01<00:00, 31.32it/s]\n"
     ]
    },
    {
     "name": "stdout",
     "output_type": "stream",
     "text": [
      "Epoch 42/50, Train Loss: 1.4590, Train Accuracy: 0.5808, Test Loss: 1.5254, Test Accuracy: 0.5065\n",
      "Epoch 42\n"
     ]
    },
    {
     "name": "stderr",
     "output_type": "stream",
     "text": [
      "100%|██████████| 82/82 [00:04<00:00, 17.65it/s]\n",
      "100%|██████████| 35/35 [00:01<00:00, 32.89it/s]\n"
     ]
    },
    {
     "name": "stdout",
     "output_type": "stream",
     "text": [
      "Epoch 43/50, Train Loss: 1.4465, Train Accuracy: 0.5931, Test Loss: 1.5089, Test Accuracy: 0.5253\n",
      "Epoch 43\n"
     ]
    },
    {
     "name": "stderr",
     "output_type": "stream",
     "text": [
      "100%|██████████| 82/82 [00:04<00:00, 17.57it/s]\n",
      "100%|██████████| 35/35 [00:01<00:00, 33.35it/s]\n"
     ]
    },
    {
     "name": "stdout",
     "output_type": "stream",
     "text": [
      "Epoch 44/50, Train Loss: 1.4374, Train Accuracy: 0.6008, Test Loss: 1.5213, Test Accuracy: 0.5123\n",
      "Epoch 44\n"
     ]
    },
    {
     "name": "stderr",
     "output_type": "stream",
     "text": [
      "100%|██████████| 82/82 [00:04<00:00, 17.58it/s]\n",
      "100%|██████████| 35/35 [00:01<00:00, 33.53it/s]\n"
     ]
    },
    {
     "name": "stdout",
     "output_type": "stream",
     "text": [
      "Epoch 45/50, Train Loss: 1.4329, Train Accuracy: 0.6044, Test Loss: 1.5216, Test Accuracy: 0.5105\n",
      "Epoch 45\n"
     ]
    },
    {
     "name": "stderr",
     "output_type": "stream",
     "text": [
      "100%|██████████| 82/82 [00:04<00:00, 17.65it/s]\n",
      "100%|██████████| 35/35 [00:01<00:00, 33.40it/s]\n"
     ]
    },
    {
     "name": "stdout",
     "output_type": "stream",
     "text": [
      "Epoch 46/50, Train Loss: 1.4267, Train Accuracy: 0.6079, Test Loss: 1.5417, Test Accuracy: 0.4971\n",
      "Epoch 46\n"
     ]
    },
    {
     "name": "stderr",
     "output_type": "stream",
     "text": [
      "100%|██████████| 82/82 [00:04<00:00, 17.29it/s]\n",
      "100%|██████████| 35/35 [00:01<00:00, 33.59it/s]\n"
     ]
    },
    {
     "name": "stdout",
     "output_type": "stream",
     "text": [
      "Epoch 47/50, Train Loss: 1.4184, Train Accuracy: 0.6194, Test Loss: 1.5005, Test Accuracy: 0.5339\n",
      "Epoch 47\n"
     ]
    },
    {
     "name": "stderr",
     "output_type": "stream",
     "text": [
      "100%|██████████| 82/82 [00:04<00:00, 17.75it/s]\n",
      "100%|██████████| 35/35 [00:01<00:00, 33.18it/s]\n"
     ]
    },
    {
     "name": "stdout",
     "output_type": "stream",
     "text": [
      "Epoch 48/50, Train Loss: 1.4121, Train Accuracy: 0.6271, Test Loss: 1.4853, Test Accuracy: 0.5455\n",
      "Epoch 48\n"
     ]
    },
    {
     "name": "stderr",
     "output_type": "stream",
     "text": [
      "100%|██████████| 82/82 [00:04<00:00, 17.69it/s]\n",
      "100%|██████████| 35/35 [00:01<00:00, 33.06it/s]\n"
     ]
    },
    {
     "name": "stdout",
     "output_type": "stream",
     "text": [
      "Epoch 49/50, Train Loss: 1.3987, Train Accuracy: 0.6383, Test Loss: 1.4848, Test Accuracy: 0.5455\n",
      "Epoch 49\n"
     ]
    },
    {
     "name": "stderr",
     "output_type": "stream",
     "text": [
      "100%|██████████| 82/82 [00:04<00:00, 17.76it/s]\n",
      "100%|██████████| 35/35 [00:01<00:00, 33.39it/s]\n"
     ]
    },
    {
     "name": "stdout",
     "output_type": "stream",
     "text": [
      "Epoch 50/50, Train Loss: 1.3919, Train Accuracy: 0.6465, Test Loss: 1.5097, Test Accuracy: 0.5258\n",
      "Batch size: 16 Num of Epochs: 50 lr: 0.001\n",
      "Epoch 0\n"
     ]
    },
    {
     "name": "stderr",
     "output_type": "stream",
     "text": [
      "100%|██████████| 325/325 [00:07<00:00, 44.20it/s]\n",
      "100%|██████████| 140/140 [00:01<00:00, 112.26it/s]\n"
     ]
    },
    {
     "name": "stdout",
     "output_type": "stream",
     "text": [
      "Epoch 1/50, Train Loss: 1.8016, Train Accuracy: 0.1721, Test Loss: 1.7986, Test Accuracy: 0.1709\n",
      "Epoch 1\n"
     ]
    },
    {
     "name": "stderr",
     "output_type": "stream",
     "text": [
      "100%|██████████| 325/325 [00:07<00:00, 44.07it/s]\n",
      "100%|██████████| 140/140 [00:01<00:00, 112.72it/s]\n"
     ]
    },
    {
     "name": "stdout",
     "output_type": "stream",
     "text": [
      "Epoch 2/50, Train Loss: 1.7885, Train Accuracy: 0.1852, Test Loss: 1.7884, Test Accuracy: 0.1687\n",
      "Epoch 2\n"
     ]
    },
    {
     "name": "stderr",
     "output_type": "stream",
     "text": [
      "100%|██████████| 325/325 [00:07<00:00, 43.87it/s]\n",
      "100%|██████████| 140/140 [00:01<00:00, 111.85it/s]\n"
     ]
    },
    {
     "name": "stdout",
     "output_type": "stream",
     "text": [
      "Epoch 3/50, Train Loss: 1.7705, Train Accuracy: 0.2156, Test Loss: 1.7570, Test Accuracy: 0.2459\n",
      "Epoch 3\n"
     ]
    },
    {
     "name": "stderr",
     "output_type": "stream",
     "text": [
      "100%|██████████| 325/325 [00:07<00:00, 43.65it/s]\n",
      "100%|██████████| 140/140 [00:01<00:00, 112.24it/s]\n"
     ]
    },
    {
     "name": "stdout",
     "output_type": "stream",
     "text": [
      "Epoch 4/50, Train Loss: 1.7730, Train Accuracy: 0.2223, Test Loss: 1.7414, Test Accuracy: 0.2732\n",
      "Epoch 4\n"
     ]
    },
    {
     "name": "stderr",
     "output_type": "stream",
     "text": [
      "100%|██████████| 325/325 [00:07<00:00, 43.46it/s]\n",
      "100%|██████████| 140/140 [00:01<00:00, 110.64it/s]\n"
     ]
    },
    {
     "name": "stdout",
     "output_type": "stream",
     "text": [
      "Epoch 5/50, Train Loss: 1.7422, Train Accuracy: 0.2658, Test Loss: 1.7823, Test Accuracy: 0.2239\n",
      "Epoch 5\n"
     ]
    },
    {
     "name": "stderr",
     "output_type": "stream",
     "text": [
      "100%|██████████| 325/325 [00:07<00:00, 44.14it/s]\n",
      "100%|██████████| 140/140 [00:01<00:00, 101.81it/s]\n"
     ]
    },
    {
     "name": "stdout",
     "output_type": "stream",
     "text": [
      "Epoch 6/50, Train Loss: 1.7255, Train Accuracy: 0.2921, Test Loss: 1.7016, Test Accuracy: 0.3140\n",
      "Epoch 6\n"
     ]
    },
    {
     "name": "stderr",
     "output_type": "stream",
     "text": [
      "100%|██████████| 325/325 [00:07<00:00, 43.78it/s]\n",
      "100%|██████████| 140/140 [00:01<00:00, 110.96it/s]\n"
     ]
    },
    {
     "name": "stdout",
     "output_type": "stream",
     "text": [
      "Epoch 7/50, Train Loss: 1.7279, Train Accuracy: 0.2862, Test Loss: 1.7387, Test Accuracy: 0.2719\n",
      "Epoch 7\n"
     ]
    },
    {
     "name": "stderr",
     "output_type": "stream",
     "text": [
      "100%|██████████| 325/325 [00:07<00:00, 43.44it/s]\n",
      "100%|██████████| 140/140 [00:01<00:00, 111.71it/s]\n"
     ]
    },
    {
     "name": "stdout",
     "output_type": "stream",
     "text": [
      "Epoch 8/50, Train Loss: 1.7108, Train Accuracy: 0.3038, Test Loss: 1.7194, Test Accuracy: 0.2974\n",
      "Epoch 8\n"
     ]
    },
    {
     "name": "stderr",
     "output_type": "stream",
     "text": [
      "100%|██████████| 325/325 [00:07<00:00, 43.43it/s]\n",
      "100%|██████████| 140/140 [00:01<00:00, 109.65it/s]\n"
     ]
    },
    {
     "name": "stdout",
     "output_type": "stream",
     "text": [
      "Epoch 9/50, Train Loss: 1.7027, Train Accuracy: 0.3190, Test Loss: 1.6988, Test Accuracy: 0.3185\n",
      "Epoch 9\n"
     ]
    },
    {
     "name": "stderr",
     "output_type": "stream",
     "text": [
      "100%|██████████| 325/325 [00:07<00:00, 43.97it/s]\n",
      "100%|██████████| 140/140 [00:01<00:00, 109.66it/s]\n"
     ]
    },
    {
     "name": "stdout",
     "output_type": "stream",
     "text": [
      "Epoch 10/50, Train Loss: 1.6913, Train Accuracy: 0.3235, Test Loss: 1.6858, Test Accuracy: 0.3266\n",
      "Epoch 10\n"
     ]
    },
    {
     "name": "stderr",
     "output_type": "stream",
     "text": [
      "100%|██████████| 325/325 [00:07<00:00, 43.60it/s]\n",
      "100%|██████████| 140/140 [00:01<00:00, 110.95it/s]\n"
     ]
    },
    {
     "name": "stdout",
     "output_type": "stream",
     "text": [
      "Epoch 11/50, Train Loss: 1.6872, Train Accuracy: 0.3308, Test Loss: 1.6975, Test Accuracy: 0.3154\n",
      "Epoch 11\n"
     ]
    },
    {
     "name": "stderr",
     "output_type": "stream",
     "text": [
      "100%|██████████| 325/325 [00:07<00:00, 43.75it/s]\n",
      "100%|██████████| 140/140 [00:01<00:00, 112.27it/s]\n"
     ]
    },
    {
     "name": "stdout",
     "output_type": "stream",
     "text": [
      "Epoch 12/50, Train Loss: 1.6768, Train Accuracy: 0.3413, Test Loss: 1.6881, Test Accuracy: 0.3374\n",
      "Epoch 12\n"
     ]
    },
    {
     "name": "stderr",
     "output_type": "stream",
     "text": [
      "100%|██████████| 325/325 [00:07<00:00, 44.15it/s]\n",
      "100%|██████████| 140/140 [00:01<00:00, 110.87it/s]\n"
     ]
    },
    {
     "name": "stdout",
     "output_type": "stream",
     "text": [
      "Epoch 13/50, Train Loss: 1.6636, Train Accuracy: 0.3619, Test Loss: 1.6854, Test Accuracy: 0.3441\n",
      "Epoch 13\n"
     ]
    },
    {
     "name": "stderr",
     "output_type": "stream",
     "text": [
      "100%|██████████| 325/325 [00:07<00:00, 43.65it/s]\n",
      "100%|██████████| 140/140 [00:01<00:00, 112.52it/s]\n"
     ]
    },
    {
     "name": "stdout",
     "output_type": "stream",
     "text": [
      "Epoch 14/50, Train Loss: 1.6619, Train Accuracy: 0.3571, Test Loss: 1.7029, Test Accuracy: 0.3279\n",
      "Epoch 14\n"
     ]
    },
    {
     "name": "stderr",
     "output_type": "stream",
     "text": [
      "100%|██████████| 325/325 [00:07<00:00, 43.78it/s]\n",
      "100%|██████████| 140/140 [00:01<00:00, 110.74it/s]\n"
     ]
    },
    {
     "name": "stdout",
     "output_type": "stream",
     "text": [
      "Epoch 15/50, Train Loss: 1.6547, Train Accuracy: 0.3708, Test Loss: 1.6911, Test Accuracy: 0.3320\n",
      "Epoch 15\n"
     ]
    },
    {
     "name": "stderr",
     "output_type": "stream",
     "text": [
      "100%|██████████| 325/325 [00:07<00:00, 43.45it/s]\n",
      "100%|██████████| 140/140 [00:01<00:00, 112.51it/s]\n"
     ]
    },
    {
     "name": "stdout",
     "output_type": "stream",
     "text": [
      "Epoch 16/50, Train Loss: 1.6391, Train Accuracy: 0.3865, Test Loss: 1.6379, Test Accuracy: 0.3827\n",
      "Epoch 16\n"
     ]
    },
    {
     "name": "stderr",
     "output_type": "stream",
     "text": [
      "100%|██████████| 325/325 [00:07<00:00, 43.37it/s]\n",
      "100%|██████████| 140/140 [00:01<00:00, 111.05it/s]\n"
     ]
    },
    {
     "name": "stdout",
     "output_type": "stream",
     "text": [
      "Epoch 17/50, Train Loss: 1.6333, Train Accuracy: 0.3894, Test Loss: 1.6879, Test Accuracy: 0.3383\n",
      "Epoch 17\n"
     ]
    },
    {
     "name": "stderr",
     "output_type": "stream",
     "text": [
      "100%|██████████| 325/325 [00:07<00:00, 43.23it/s]\n",
      "100%|██████████| 140/140 [00:01<00:00, 112.47it/s]\n"
     ]
    },
    {
     "name": "stdout",
     "output_type": "stream",
     "text": [
      "Epoch 18/50, Train Loss: 1.6260, Train Accuracy: 0.3983, Test Loss: 1.6425, Test Accuracy: 0.3777\n",
      "Epoch 18\n"
     ]
    },
    {
     "name": "stderr",
     "output_type": "stream",
     "text": [
      "100%|██████████| 325/325 [00:07<00:00, 43.74it/s]\n",
      "100%|██████████| 140/140 [00:01<00:00, 112.42it/s]\n"
     ]
    },
    {
     "name": "stdout",
     "output_type": "stream",
     "text": [
      "Epoch 19/50, Train Loss: 1.6007, Train Accuracy: 0.4269, Test Loss: 1.6420, Test Accuracy: 0.3849\n",
      "Epoch 19\n"
     ]
    },
    {
     "name": "stderr",
     "output_type": "stream",
     "text": [
      "100%|██████████| 325/325 [00:07<00:00, 44.03it/s]\n",
      "100%|██████████| 140/140 [00:01<00:00, 110.30it/s]\n"
     ]
    },
    {
     "name": "stdout",
     "output_type": "stream",
     "text": [
      "Epoch 20/50, Train Loss: 1.5966, Train Accuracy: 0.4338, Test Loss: 1.6059, Test Accuracy: 0.4217\n",
      "Epoch 20\n"
     ]
    },
    {
     "name": "stderr",
     "output_type": "stream",
     "text": [
      "100%|██████████| 325/325 [00:07<00:00, 44.06it/s]\n",
      "100%|██████████| 140/140 [00:01<00:00, 112.02it/s]\n"
     ]
    },
    {
     "name": "stdout",
     "output_type": "stream",
     "text": [
      "Epoch 21/50, Train Loss: 1.5804, Train Accuracy: 0.4510, Test Loss: 1.6189, Test Accuracy: 0.4087\n",
      "Epoch 21\n"
     ]
    },
    {
     "name": "stderr",
     "output_type": "stream",
     "text": [
      "100%|██████████| 325/325 [00:07<00:00, 43.89it/s]\n",
      "100%|██████████| 140/140 [00:01<00:00, 112.90it/s]\n"
     ]
    },
    {
     "name": "stdout",
     "output_type": "stream",
     "text": [
      "Epoch 22/50, Train Loss: 1.5634, Train Accuracy: 0.4665, Test Loss: 1.5832, Test Accuracy: 0.4486\n",
      "Epoch 22\n"
     ]
    },
    {
     "name": "stderr",
     "output_type": "stream",
     "text": [
      "100%|██████████| 325/325 [00:07<00:00, 43.64it/s]\n",
      "100%|██████████| 140/140 [00:01<00:00, 111.00it/s]\n"
     ]
    },
    {
     "name": "stdout",
     "output_type": "stream",
     "text": [
      "Epoch 23/50, Train Loss: 1.5452, Train Accuracy: 0.4867, Test Loss: 1.5670, Test Accuracy: 0.4625\n",
      "Epoch 23\n"
     ]
    },
    {
     "name": "stderr",
     "output_type": "stream",
     "text": [
      "100%|██████████| 325/325 [00:07<00:00, 43.89it/s]\n",
      "100%|██████████| 140/140 [00:01<00:00, 112.06it/s]\n"
     ]
    },
    {
     "name": "stdout",
     "output_type": "stream",
     "text": [
      "Epoch 24/50, Train Loss: 1.5418, Train Accuracy: 0.4912, Test Loss: 1.5592, Test Accuracy: 0.4724\n",
      "Epoch 24\n"
     ]
    },
    {
     "name": "stderr",
     "output_type": "stream",
     "text": [
      "100%|██████████| 325/325 [00:07<00:00, 44.07it/s]\n",
      "100%|██████████| 140/140 [00:01<00:00, 110.56it/s]\n"
     ]
    },
    {
     "name": "stdout",
     "output_type": "stream",
     "text": [
      "Epoch 25/50, Train Loss: 1.5246, Train Accuracy: 0.5100, Test Loss: 1.5540, Test Accuracy: 0.4760\n",
      "Epoch 25\n"
     ]
    },
    {
     "name": "stderr",
     "output_type": "stream",
     "text": [
      "100%|██████████| 325/325 [00:07<00:00, 43.94it/s]\n",
      "100%|██████████| 140/140 [00:01<00:00, 109.96it/s]\n"
     ]
    },
    {
     "name": "stdout",
     "output_type": "stream",
     "text": [
      "Epoch 26/50, Train Loss: 1.5197, Train Accuracy: 0.5135, Test Loss: 1.5690, Test Accuracy: 0.4549\n",
      "Epoch 26\n"
     ]
    },
    {
     "name": "stderr",
     "output_type": "stream",
     "text": [
      "100%|██████████| 325/325 [00:07<00:00, 43.79it/s]\n",
      "100%|██████████| 140/140 [00:01<00:00, 110.50it/s]\n"
     ]
    },
    {
     "name": "stdout",
     "output_type": "stream",
     "text": [
      "Epoch 27/50, Train Loss: 1.5067, Train Accuracy: 0.5277, Test Loss: 1.5481, Test Accuracy: 0.4881\n",
      "Epoch 27\n"
     ]
    },
    {
     "name": "stderr",
     "output_type": "stream",
     "text": [
      "100%|██████████| 325/325 [00:07<00:00, 43.80it/s]\n",
      "100%|██████████| 140/140 [00:01<00:00, 113.02it/s]\n"
     ]
    },
    {
     "name": "stdout",
     "output_type": "stream",
     "text": [
      "Epoch 28/50, Train Loss: 1.4934, Train Accuracy: 0.5406, Test Loss: 1.5515, Test Accuracy: 0.4814\n",
      "Epoch 28\n"
     ]
    },
    {
     "name": "stderr",
     "output_type": "stream",
     "text": [
      "100%|██████████| 325/325 [00:07<00:00, 43.97it/s]\n",
      "100%|██████████| 140/140 [00:01<00:00, 110.02it/s]\n"
     ]
    },
    {
     "name": "stdout",
     "output_type": "stream",
     "text": [
      "Epoch 29/50, Train Loss: 1.4802, Train Accuracy: 0.5575, Test Loss: 1.5303, Test Accuracy: 0.5020\n",
      "Epoch 29\n"
     ]
    },
    {
     "name": "stderr",
     "output_type": "stream",
     "text": [
      "100%|██████████| 325/325 [00:07<00:00, 43.93it/s]\n",
      "100%|██████████| 140/140 [00:01<00:00, 111.53it/s]\n"
     ]
    },
    {
     "name": "stdout",
     "output_type": "stream",
     "text": [
      "Epoch 30/50, Train Loss: 1.4670, Train Accuracy: 0.5738, Test Loss: 1.5230, Test Accuracy: 0.5101\n",
      "Epoch 30\n"
     ]
    },
    {
     "name": "stderr",
     "output_type": "stream",
     "text": [
      "100%|██████████| 325/325 [00:07<00:00, 44.21it/s]\n",
      "100%|██████████| 140/140 [00:01<00:00, 110.44it/s]\n"
     ]
    },
    {
     "name": "stdout",
     "output_type": "stream",
     "text": [
      "Epoch 31/50, Train Loss: 1.4555, Train Accuracy: 0.5813, Test Loss: 1.5376, Test Accuracy: 0.4980\n",
      "Epoch 31\n"
     ]
    },
    {
     "name": "stderr",
     "output_type": "stream",
     "text": [
      "100%|██████████| 325/325 [00:07<00:00, 43.98it/s]\n",
      "100%|██████████| 140/140 [00:01<00:00, 111.49it/s]\n"
     ]
    },
    {
     "name": "stdout",
     "output_type": "stream",
     "text": [
      "Epoch 32/50, Train Loss: 1.4449, Train Accuracy: 0.5973, Test Loss: 1.5330, Test Accuracy: 0.5002\n",
      "Epoch 32\n"
     ]
    },
    {
     "name": "stderr",
     "output_type": "stream",
     "text": [
      "100%|██████████| 325/325 [00:07<00:00, 43.98it/s]\n",
      "100%|██████████| 140/140 [00:01<00:00, 112.75it/s]\n"
     ]
    },
    {
     "name": "stdout",
     "output_type": "stream",
     "text": [
      "Epoch 33/50, Train Loss: 1.4556, Train Accuracy: 0.5804, Test Loss: 1.5126, Test Accuracy: 0.5222\n",
      "Epoch 33\n"
     ]
    },
    {
     "name": "stderr",
     "output_type": "stream",
     "text": [
      "100%|██████████| 325/325 [00:07<00:00, 44.25it/s]\n",
      "100%|██████████| 140/140 [00:01<00:00, 111.80it/s]\n"
     ]
    },
    {
     "name": "stdout",
     "output_type": "stream",
     "text": [
      "Epoch 34/50, Train Loss: 1.4403, Train Accuracy: 0.5994, Test Loss: 1.5079, Test Accuracy: 0.5240\n",
      "Epoch 34\n"
     ]
    },
    {
     "name": "stderr",
     "output_type": "stream",
     "text": [
      "100%|██████████| 325/325 [00:07<00:00, 43.87it/s]\n",
      "100%|██████████| 140/140 [00:01<00:00, 111.16it/s]\n"
     ]
    },
    {
     "name": "stdout",
     "output_type": "stream",
     "text": [
      "Epoch 35/50, Train Loss: 1.4353, Train Accuracy: 0.6040, Test Loss: 1.5951, Test Accuracy: 0.4410\n",
      "Epoch 35\n"
     ]
    },
    {
     "name": "stderr",
     "output_type": "stream",
     "text": [
      "100%|██████████| 325/325 [00:07<00:00, 43.55it/s]\n",
      "100%|██████████| 140/140 [00:01<00:00, 109.43it/s]\n"
     ]
    },
    {
     "name": "stdout",
     "output_type": "stream",
     "text": [
      "Epoch 36/50, Train Loss: 1.4163, Train Accuracy: 0.6225, Test Loss: 1.4822, Test Accuracy: 0.5487\n",
      "Epoch 36\n"
     ]
    },
    {
     "name": "stderr",
     "output_type": "stream",
     "text": [
      "100%|██████████| 325/325 [00:07<00:00, 43.41it/s]\n",
      "100%|██████████| 140/140 [00:01<00:00, 111.94it/s]\n"
     ]
    },
    {
     "name": "stdout",
     "output_type": "stream",
     "text": [
      "Epoch 37/50, Train Loss: 1.4091, Train Accuracy: 0.6308, Test Loss: 1.5340, Test Accuracy: 0.4989\n",
      "Epoch 37\n"
     ]
    },
    {
     "name": "stderr",
     "output_type": "stream",
     "text": [
      "100%|██████████| 325/325 [00:07<00:00, 44.02it/s]\n",
      "100%|██████████| 140/140 [00:01<00:00, 112.00it/s]\n"
     ]
    },
    {
     "name": "stdout",
     "output_type": "stream",
     "text": [
      "Epoch 38/50, Train Loss: 1.4089, Train Accuracy: 0.6283, Test Loss: 1.4953, Test Accuracy: 0.5406\n",
      "Epoch 38\n"
     ]
    },
    {
     "name": "stderr",
     "output_type": "stream",
     "text": [
      "100%|██████████| 325/325 [00:07<00:00, 43.74it/s]\n",
      "100%|██████████| 140/140 [00:01<00:00, 111.96it/s]\n"
     ]
    },
    {
     "name": "stdout",
     "output_type": "stream",
     "text": [
      "Epoch 39/50, Train Loss: 1.4066, Train Accuracy: 0.6315, Test Loss: 1.5034, Test Accuracy: 0.5321\n",
      "Epoch 39\n"
     ]
    },
    {
     "name": "stderr",
     "output_type": "stream",
     "text": [
      "100%|██████████| 325/325 [00:07<00:00, 43.66it/s]\n",
      "100%|██████████| 140/140 [00:01<00:00, 98.73it/s] \n"
     ]
    },
    {
     "name": "stdout",
     "output_type": "stream",
     "text": [
      "Epoch 40/50, Train Loss: 1.3875, Train Accuracy: 0.6523, Test Loss: 1.4713, Test Accuracy: 0.5666\n",
      "Epoch 40\n"
     ]
    },
    {
     "name": "stderr",
     "output_type": "stream",
     "text": [
      "100%|██████████| 325/325 [00:07<00:00, 44.18it/s]\n",
      "100%|██████████| 140/140 [00:01<00:00, 111.67it/s]\n"
     ]
    },
    {
     "name": "stdout",
     "output_type": "stream",
     "text": [
      "Epoch 41/50, Train Loss: 1.3784, Train Accuracy: 0.6650, Test Loss: 1.4781, Test Accuracy: 0.5563\n",
      "Epoch 41\n"
     ]
    },
    {
     "name": "stderr",
     "output_type": "stream",
     "text": [
      "100%|██████████| 325/325 [00:07<00:00, 43.24it/s]\n",
      "100%|██████████| 140/140 [00:01<00:00, 112.24it/s]\n"
     ]
    },
    {
     "name": "stdout",
     "output_type": "stream",
     "text": [
      "Epoch 42/50, Train Loss: 1.3853, Train Accuracy: 0.6540, Test Loss: 1.4842, Test Accuracy: 0.5455\n",
      "Epoch 42\n"
     ]
    },
    {
     "name": "stderr",
     "output_type": "stream",
     "text": [
      "100%|██████████| 325/325 [00:07<00:00, 43.75it/s]\n",
      "100%|██████████| 140/140 [00:01<00:00, 112.56it/s]\n"
     ]
    },
    {
     "name": "stdout",
     "output_type": "stream",
     "text": [
      "Epoch 43/50, Train Loss: 1.3833, Train Accuracy: 0.6548, Test Loss: 1.4933, Test Accuracy: 0.5393\n",
      "Epoch 43\n"
     ]
    },
    {
     "name": "stderr",
     "output_type": "stream",
     "text": [
      "100%|██████████| 325/325 [00:07<00:00, 43.45it/s]\n",
      "100%|██████████| 140/140 [00:01<00:00, 113.17it/s]\n"
     ]
    },
    {
     "name": "stdout",
     "output_type": "stream",
     "text": [
      "Epoch 44/50, Train Loss: 1.3735, Train Accuracy: 0.6662, Test Loss: 1.4505, Test Accuracy: 0.5873\n",
      "Epoch 44\n"
     ]
    },
    {
     "name": "stderr",
     "output_type": "stream",
     "text": [
      "100%|██████████| 325/325 [00:07<00:00, 43.68it/s]\n",
      "100%|██████████| 140/140 [00:01<00:00, 112.52it/s]\n"
     ]
    },
    {
     "name": "stdout",
     "output_type": "stream",
     "text": [
      "Epoch 45/50, Train Loss: 1.3633, Train Accuracy: 0.6773, Test Loss: 1.4593, Test Accuracy: 0.5783\n",
      "Epoch 45\n"
     ]
    },
    {
     "name": "stderr",
     "output_type": "stream",
     "text": [
      "100%|██████████| 325/325 [00:07<00:00, 43.89it/s]\n",
      "100%|██████████| 140/140 [00:01<00:00, 101.87it/s]\n"
     ]
    },
    {
     "name": "stdout",
     "output_type": "stream",
     "text": [
      "Epoch 46/50, Train Loss: 1.3572, Train Accuracy: 0.6848, Test Loss: 1.4433, Test Accuracy: 0.5985\n",
      "Epoch 46\n"
     ]
    },
    {
     "name": "stderr",
     "output_type": "stream",
     "text": [
      "100%|██████████| 325/325 [00:07<00:00, 43.93it/s]\n",
      "100%|██████████| 140/140 [00:01<00:00, 112.19it/s]\n"
     ]
    },
    {
     "name": "stdout",
     "output_type": "stream",
     "text": [
      "Epoch 47/50, Train Loss: 1.3555, Train Accuracy: 0.6854, Test Loss: 1.4753, Test Accuracy: 0.5644\n",
      "Epoch 47\n"
     ]
    },
    {
     "name": "stderr",
     "output_type": "stream",
     "text": [
      "100%|██████████| 325/325 [00:07<00:00, 43.75it/s]\n",
      "100%|██████████| 140/140 [00:01<00:00, 112.00it/s]\n"
     ]
    },
    {
     "name": "stdout",
     "output_type": "stream",
     "text": [
      "Epoch 48/50, Train Loss: 1.3541, Train Accuracy: 0.6835, Test Loss: 1.4480, Test Accuracy: 0.5877\n",
      "Epoch 48\n"
     ]
    },
    {
     "name": "stderr",
     "output_type": "stream",
     "text": [
      "100%|██████████| 325/325 [00:07<00:00, 43.70it/s]\n",
      "100%|██████████| 140/140 [00:01<00:00, 111.88it/s]\n"
     ]
    },
    {
     "name": "stdout",
     "output_type": "stream",
     "text": [
      "Epoch 49/50, Train Loss: 1.3456, Train Accuracy: 0.6940, Test Loss: 1.4736, Test Accuracy: 0.5585\n",
      "Epoch 49\n"
     ]
    },
    {
     "name": "stderr",
     "output_type": "stream",
     "text": [
      "100%|██████████| 325/325 [00:07<00:00, 43.49it/s]\n",
      "100%|██████████| 140/140 [00:01<00:00, 111.73it/s]\n"
     ]
    },
    {
     "name": "stdout",
     "output_type": "stream",
     "text": [
      "Epoch 50/50, Train Loss: 1.3490, Train Accuracy: 0.6933, Test Loss: 1.4635, Test Accuracy: 0.5698\n",
      "Batch size: 32 Num of Epochs: 50 lr: 0.001\n",
      "Epoch 0\n"
     ]
    },
    {
     "name": "stderr",
     "output_type": "stream",
     "text": [
      "100%|██████████| 163/163 [00:05<00:00, 30.37it/s]\n",
      "100%|██████████| 70/70 [00:01<00:00, 66.92it/s]\n"
     ]
    },
    {
     "name": "stdout",
     "output_type": "stream",
     "text": [
      "Epoch 1/50, Train Loss: 1.7923, Train Accuracy: 0.1850, Test Loss: 1.7890, Test Accuracy: 0.1871\n",
      "Epoch 1\n"
     ]
    },
    {
     "name": "stderr",
     "output_type": "stream",
     "text": [
      "100%|██████████| 163/163 [00:05<00:00, 30.78it/s]\n",
      "100%|██████████| 70/70 [00:01<00:00, 67.85it/s]\n"
     ]
    },
    {
     "name": "stdout",
     "output_type": "stream",
     "text": [
      "Epoch 2/50, Train Loss: 1.7931, Train Accuracy: 0.1802, Test Loss: 1.8466, Test Accuracy: 0.1624\n",
      "Epoch 2\n"
     ]
    },
    {
     "name": "stderr",
     "output_type": "stream",
     "text": [
      "100%|██████████| 163/163 [00:05<00:00, 30.80it/s]\n",
      "100%|██████████| 70/70 [00:01<00:00, 68.48it/s]\n"
     ]
    },
    {
     "name": "stdout",
     "output_type": "stream",
     "text": [
      "Epoch 3/50, Train Loss: 1.7909, Train Accuracy: 0.1781, Test Loss: 1.7788, Test Accuracy: 0.2005\n",
      "Epoch 3\n"
     ]
    },
    {
     "name": "stderr",
     "output_type": "stream",
     "text": [
      "100%|██████████| 163/163 [00:05<00:00, 30.64it/s]\n",
      "100%|██████████| 70/70 [00:01<00:00, 68.29it/s]\n"
     ]
    },
    {
     "name": "stdout",
     "output_type": "stream",
     "text": [
      "Epoch 4/50, Train Loss: 1.7934, Train Accuracy: 0.1798, Test Loss: 1.7892, Test Accuracy: 0.1853\n",
      "Epoch 4\n"
     ]
    },
    {
     "name": "stderr",
     "output_type": "stream",
     "text": [
      "100%|██████████| 163/163 [00:05<00:00, 30.24it/s]\n",
      "100%|██████████| 70/70 [00:01<00:00, 60.77it/s]\n"
     ]
    },
    {
     "name": "stdout",
     "output_type": "stream",
     "text": [
      "Epoch 5/50, Train Loss: 1.7883, Train Accuracy: 0.1838, Test Loss: 1.7925, Test Accuracy: 0.1736\n",
      "Epoch 5\n"
     ]
    },
    {
     "name": "stderr",
     "output_type": "stream",
     "text": [
      "100%|██████████| 163/163 [00:05<00:00, 30.32it/s]\n",
      "100%|██████████| 70/70 [00:01<00:00, 68.42it/s]\n"
     ]
    },
    {
     "name": "stdout",
     "output_type": "stream",
     "text": [
      "Epoch 6/50, Train Loss: 1.7676, Train Accuracy: 0.2204, Test Loss: 1.7888, Test Accuracy: 0.1871\n",
      "Epoch 6\n"
     ]
    },
    {
     "name": "stderr",
     "output_type": "stream",
     "text": [
      "100%|██████████| 163/163 [00:05<00:00, 30.30it/s]\n",
      "100%|██████████| 70/70 [00:01<00:00, 68.15it/s]\n"
     ]
    },
    {
     "name": "stdout",
     "output_type": "stream",
     "text": [
      "Epoch 7/50, Train Loss: 1.7517, Train Accuracy: 0.2492, Test Loss: 1.7528, Test Accuracy: 0.2490\n",
      "Epoch 7\n"
     ]
    },
    {
     "name": "stderr",
     "output_type": "stream",
     "text": [
      "100%|██████████| 163/163 [00:05<00:00, 30.85it/s]\n",
      "100%|██████████| 70/70 [00:01<00:00, 66.84it/s]\n"
     ]
    },
    {
     "name": "stdout",
     "output_type": "stream",
     "text": [
      "Epoch 8/50, Train Loss: 1.7286, Train Accuracy: 0.2746, Test Loss: 1.7980, Test Accuracy: 0.1660\n",
      "Epoch 8\n"
     ]
    },
    {
     "name": "stderr",
     "output_type": "stream",
     "text": [
      "100%|██████████| 163/163 [00:05<00:00, 30.34it/s]\n",
      "100%|██████████| 70/70 [00:01<00:00, 68.18it/s]\n"
     ]
    },
    {
     "name": "stdout",
     "output_type": "stream",
     "text": [
      "Epoch 9/50, Train Loss: 1.7126, Train Accuracy: 0.2879, Test Loss: 1.7227, Test Accuracy: 0.2817\n",
      "Epoch 9\n"
     ]
    },
    {
     "name": "stderr",
     "output_type": "stream",
     "text": [
      "100%|██████████| 163/163 [00:05<00:00, 30.74it/s]\n",
      "100%|██████████| 70/70 [00:01<00:00, 61.94it/s]\n"
     ]
    },
    {
     "name": "stdout",
     "output_type": "stream",
     "text": [
      "Epoch 10/50, Train Loss: 1.6971, Train Accuracy: 0.3146, Test Loss: 1.7487, Test Accuracy: 0.2620\n",
      "Epoch 10\n"
     ]
    },
    {
     "name": "stderr",
     "output_type": "stream",
     "text": [
      "100%|██████████| 163/163 [00:05<00:00, 30.90it/s]\n",
      "100%|██████████| 70/70 [00:01<00:00, 68.13it/s]\n"
     ]
    },
    {
     "name": "stdout",
     "output_type": "stream",
     "text": [
      "Epoch 11/50, Train Loss: 1.6846, Train Accuracy: 0.3235, Test Loss: 1.7032, Test Accuracy: 0.3006\n",
      "Epoch 11\n"
     ]
    },
    {
     "name": "stderr",
     "output_type": "stream",
     "text": [
      "100%|██████████| 163/163 [00:05<00:00, 30.41it/s]\n",
      "100%|██████████| 70/70 [00:01<00:00, 68.10it/s]\n"
     ]
    },
    {
     "name": "stdout",
     "output_type": "stream",
     "text": [
      "Epoch 12/50, Train Loss: 1.6754, Train Accuracy: 0.3385, Test Loss: 1.6730, Test Accuracy: 0.3356\n",
      "Epoch 12\n"
     ]
    },
    {
     "name": "stderr",
     "output_type": "stream",
     "text": [
      "100%|██████████| 163/163 [00:05<00:00, 30.63it/s]\n",
      "100%|██████████| 70/70 [00:01<00:00, 68.18it/s]\n"
     ]
    },
    {
     "name": "stdout",
     "output_type": "stream",
     "text": [
      "Epoch 13/50, Train Loss: 1.6722, Train Accuracy: 0.3415, Test Loss: 1.6888, Test Accuracy: 0.3208\n",
      "Epoch 13\n"
     ]
    },
    {
     "name": "stderr",
     "output_type": "stream",
     "text": [
      "100%|██████████| 163/163 [00:05<00:00, 30.46it/s]\n",
      "100%|██████████| 70/70 [00:01<00:00, 66.96it/s]\n"
     ]
    },
    {
     "name": "stdout",
     "output_type": "stream",
     "text": [
      "Epoch 14/50, Train Loss: 1.6469, Train Accuracy: 0.3719, Test Loss: 1.7769, Test Accuracy: 0.2441\n",
      "Epoch 14\n"
     ]
    },
    {
     "name": "stderr",
     "output_type": "stream",
     "text": [
      "100%|██████████| 163/163 [00:05<00:00, 30.35it/s]\n",
      "100%|██████████| 70/70 [00:01<00:00, 68.08it/s]\n"
     ]
    },
    {
     "name": "stdout",
     "output_type": "stream",
     "text": [
      "Epoch 15/50, Train Loss: 1.6392, Train Accuracy: 0.3877, Test Loss: 1.6401, Test Accuracy: 0.3800\n",
      "Epoch 15\n"
     ]
    },
    {
     "name": "stderr",
     "output_type": "stream",
     "text": [
      "100%|██████████| 163/163 [00:05<00:00, 30.90it/s]\n",
      "100%|██████████| 70/70 [00:01<00:00, 68.32it/s]\n"
     ]
    },
    {
     "name": "stdout",
     "output_type": "stream",
     "text": [
      "Epoch 16/50, Train Loss: 1.6252, Train Accuracy: 0.3985, Test Loss: 1.6298, Test Accuracy: 0.3863\n",
      "Epoch 16\n"
     ]
    },
    {
     "name": "stderr",
     "output_type": "stream",
     "text": [
      "100%|██████████| 163/163 [00:05<00:00, 30.82it/s]\n",
      "100%|██████████| 70/70 [00:01<00:00, 68.22it/s]\n"
     ]
    },
    {
     "name": "stdout",
     "output_type": "stream",
     "text": [
      "Epoch 17/50, Train Loss: 1.6081, Train Accuracy: 0.4169, Test Loss: 1.6154, Test Accuracy: 0.4114\n",
      "Epoch 17\n"
     ]
    },
    {
     "name": "stderr",
     "output_type": "stream",
     "text": [
      "100%|██████████| 163/163 [00:05<00:00, 30.77it/s]\n",
      "100%|██████████| 70/70 [00:01<00:00, 67.93it/s]\n"
     ]
    },
    {
     "name": "stdout",
     "output_type": "stream",
     "text": [
      "Epoch 18/50, Train Loss: 1.6032, Train Accuracy: 0.4240, Test Loss: 1.6746, Test Accuracy: 0.3405\n",
      "Epoch 18\n"
     ]
    },
    {
     "name": "stderr",
     "output_type": "stream",
     "text": [
      "100%|██████████| 163/163 [00:05<00:00, 30.30it/s]\n",
      "100%|██████████| 70/70 [00:01<00:00, 68.22it/s]\n"
     ]
    },
    {
     "name": "stdout",
     "output_type": "stream",
     "text": [
      "Epoch 19/50, Train Loss: 1.6015, Train Accuracy: 0.4285, Test Loss: 1.6569, Test Accuracy: 0.3665\n",
      "Epoch 19\n"
     ]
    },
    {
     "name": "stderr",
     "output_type": "stream",
     "text": [
      "100%|██████████| 163/163 [00:05<00:00, 30.79it/s]\n",
      "100%|██████████| 70/70 [00:01<00:00, 67.56it/s]\n"
     ]
    },
    {
     "name": "stdout",
     "output_type": "stream",
     "text": [
      "Epoch 20/50, Train Loss: 1.5908, Train Accuracy: 0.4362, Test Loss: 1.6067, Test Accuracy: 0.4114\n",
      "Epoch 20\n"
     ]
    },
    {
     "name": "stderr",
     "output_type": "stream",
     "text": [
      "100%|██████████| 163/163 [00:05<00:00, 30.81it/s]\n",
      "100%|██████████| 70/70 [00:01<00:00, 67.77it/s]\n"
     ]
    },
    {
     "name": "stdout",
     "output_type": "stream",
     "text": [
      "Epoch 21/50, Train Loss: 1.5648, Train Accuracy: 0.4629, Test Loss: 1.6366, Test Accuracy: 0.3863\n",
      "Epoch 21\n"
     ]
    },
    {
     "name": "stderr",
     "output_type": "stream",
     "text": [
      "100%|██████████| 163/163 [00:05<00:00, 30.51it/s]\n",
      "100%|██████████| 70/70 [00:01<00:00, 68.13it/s]\n"
     ]
    },
    {
     "name": "stdout",
     "output_type": "stream",
     "text": [
      "Epoch 22/50, Train Loss: 1.5616, Train Accuracy: 0.4671, Test Loss: 1.6415, Test Accuracy: 0.3827\n",
      "Epoch 22\n"
     ]
    },
    {
     "name": "stderr",
     "output_type": "stream",
     "text": [
      "100%|██████████| 163/163 [00:05<00:00, 30.65it/s]\n",
      "100%|██████████| 70/70 [00:01<00:00, 68.26it/s]\n"
     ]
    },
    {
     "name": "stdout",
     "output_type": "stream",
     "text": [
      "Epoch 23/50, Train Loss: 1.5558, Train Accuracy: 0.4792, Test Loss: 1.6401, Test Accuracy: 0.3858\n",
      "Epoch 23\n"
     ]
    },
    {
     "name": "stderr",
     "output_type": "stream",
     "text": [
      "100%|██████████| 163/163 [00:05<00:00, 30.32it/s]\n",
      "100%|██████████| 70/70 [00:01<00:00, 61.19it/s]\n"
     ]
    },
    {
     "name": "stdout",
     "output_type": "stream",
     "text": [
      "Epoch 24/50, Train Loss: 1.5382, Train Accuracy: 0.4950, Test Loss: 1.6095, Test Accuracy: 0.4217\n",
      "Epoch 24\n"
     ]
    },
    {
     "name": "stderr",
     "output_type": "stream",
     "text": [
      "100%|██████████| 163/163 [00:05<00:00, 30.70it/s]\n",
      "100%|██████████| 70/70 [00:01<00:00, 67.83it/s]\n"
     ]
    },
    {
     "name": "stdout",
     "output_type": "stream",
     "text": [
      "Epoch 25/50, Train Loss: 1.5398, Train Accuracy: 0.4942, Test Loss: 1.5743, Test Accuracy: 0.4500\n",
      "Epoch 25\n"
     ]
    },
    {
     "name": "stderr",
     "output_type": "stream",
     "text": [
      "100%|██████████| 163/163 [00:05<00:00, 30.56it/s]\n",
      "100%|██████████| 70/70 [00:01<00:00, 68.25it/s]\n"
     ]
    },
    {
     "name": "stdout",
     "output_type": "stream",
     "text": [
      "Epoch 26/50, Train Loss: 1.5171, Train Accuracy: 0.5163, Test Loss: 1.5887, Test Accuracy: 0.4401\n",
      "Epoch 26\n"
     ]
    },
    {
     "name": "stderr",
     "output_type": "stream",
     "text": [
      "100%|██████████| 163/163 [00:05<00:00, 30.72it/s]\n",
      "100%|██████████| 70/70 [00:01<00:00, 67.08it/s]\n"
     ]
    },
    {
     "name": "stdout",
     "output_type": "stream",
     "text": [
      "Epoch 27/50, Train Loss: 1.5198, Train Accuracy: 0.5163, Test Loss: 1.5935, Test Accuracy: 0.4311\n",
      "Epoch 27\n"
     ]
    },
    {
     "name": "stderr",
     "output_type": "stream",
     "text": [
      "100%|██████████| 163/163 [00:05<00:00, 30.24it/s]\n",
      "100%|██████████| 70/70 [00:01<00:00, 68.28it/s]\n"
     ]
    },
    {
     "name": "stdout",
     "output_type": "stream",
     "text": [
      "Epoch 28/50, Train Loss: 1.5229, Train Accuracy: 0.5133, Test Loss: 1.5825, Test Accuracy: 0.4473\n",
      "Epoch 28\n"
     ]
    },
    {
     "name": "stderr",
     "output_type": "stream",
     "text": [
      "100%|██████████| 163/163 [00:05<00:00, 30.60it/s]\n",
      "100%|██████████| 70/70 [00:01<00:00, 68.05it/s]\n"
     ]
    },
    {
     "name": "stdout",
     "output_type": "stream",
     "text": [
      "Epoch 29/50, Train Loss: 1.5031, Train Accuracy: 0.5306, Test Loss: 1.5846, Test Accuracy: 0.4415\n",
      "Epoch 29\n"
     ]
    },
    {
     "name": "stderr",
     "output_type": "stream",
     "text": [
      "100%|██████████| 163/163 [00:05<00:00, 30.83it/s]\n",
      "100%|██████████| 70/70 [00:01<00:00, 68.14it/s]\n"
     ]
    },
    {
     "name": "stdout",
     "output_type": "stream",
     "text": [
      "Epoch 30/50, Train Loss: 1.4928, Train Accuracy: 0.5400, Test Loss: 1.5886, Test Accuracy: 0.4437\n",
      "Epoch 30\n"
     ]
    },
    {
     "name": "stderr",
     "output_type": "stream",
     "text": [
      "100%|██████████| 163/163 [00:05<00:00, 30.23it/s]\n",
      "100%|██████████| 70/70 [00:01<00:00, 68.29it/s]\n"
     ]
    },
    {
     "name": "stdout",
     "output_type": "stream",
     "text": [
      "Epoch 31/50, Train Loss: 1.4852, Train Accuracy: 0.5513, Test Loss: 1.5598, Test Accuracy: 0.4697\n",
      "Epoch 31\n"
     ]
    },
    {
     "name": "stderr",
     "output_type": "stream",
     "text": [
      "100%|██████████| 163/163 [00:05<00:00, 30.82it/s]\n",
      "100%|██████████| 70/70 [00:01<00:00, 62.00it/s]\n"
     ]
    },
    {
     "name": "stdout",
     "output_type": "stream",
     "text": [
      "Epoch 32/50, Train Loss: 1.4846, Train Accuracy: 0.5521, Test Loss: 1.5408, Test Accuracy: 0.4881\n",
      "Epoch 32\n"
     ]
    },
    {
     "name": "stderr",
     "output_type": "stream",
     "text": [
      "100%|██████████| 163/163 [00:05<00:00, 30.49it/s]\n",
      "100%|██████████| 70/70 [00:01<00:00, 67.32it/s]\n"
     ]
    },
    {
     "name": "stdout",
     "output_type": "stream",
     "text": [
      "Epoch 33/50, Train Loss: 1.4640, Train Accuracy: 0.5765, Test Loss: 1.5629, Test Accuracy: 0.4675\n",
      "Epoch 33\n"
     ]
    },
    {
     "name": "stderr",
     "output_type": "stream",
     "text": [
      "100%|██████████| 163/163 [00:05<00:00, 30.21it/s]\n",
      "100%|██████████| 70/70 [00:01<00:00, 68.35it/s]\n"
     ]
    },
    {
     "name": "stdout",
     "output_type": "stream",
     "text": [
      "Epoch 34/50, Train Loss: 1.4734, Train Accuracy: 0.5627, Test Loss: 1.5634, Test Accuracy: 0.4729\n",
      "Epoch 34\n"
     ]
    },
    {
     "name": "stderr",
     "output_type": "stream",
     "text": [
      "100%|██████████| 163/163 [00:05<00:00, 30.50it/s]\n",
      "100%|██████████| 70/70 [00:01<00:00, 68.31it/s]\n"
     ]
    },
    {
     "name": "stdout",
     "output_type": "stream",
     "text": [
      "Epoch 35/50, Train Loss: 1.4633, Train Accuracy: 0.5742, Test Loss: 1.5408, Test Accuracy: 0.4948\n",
      "Epoch 35\n"
     ]
    },
    {
     "name": "stderr",
     "output_type": "stream",
     "text": [
      "100%|██████████| 163/163 [00:05<00:00, 30.74it/s]\n",
      "100%|██████████| 70/70 [00:01<00:00, 68.24it/s]\n"
     ]
    },
    {
     "name": "stdout",
     "output_type": "stream",
     "text": [
      "Epoch 36/50, Train Loss: 1.4538, Train Accuracy: 0.5844, Test Loss: 1.5401, Test Accuracy: 0.4953\n",
      "Epoch 36\n"
     ]
    },
    {
     "name": "stderr",
     "output_type": "stream",
     "text": [
      "100%|██████████| 163/163 [00:05<00:00, 30.89it/s]\n",
      "100%|██████████| 70/70 [00:01<00:00, 64.08it/s]\n"
     ]
    },
    {
     "name": "stdout",
     "output_type": "stream",
     "text": [
      "Epoch 37/50, Train Loss: 1.4505, Train Accuracy: 0.5877, Test Loss: 1.5140, Test Accuracy: 0.5186\n",
      "Epoch 37\n"
     ]
    },
    {
     "name": "stderr",
     "output_type": "stream",
     "text": [
      "100%|██████████| 163/163 [00:05<00:00, 30.67it/s]\n",
      "100%|██████████| 70/70 [00:01<00:00, 68.19it/s]\n"
     ]
    },
    {
     "name": "stdout",
     "output_type": "stream",
     "text": [
      "Epoch 38/50, Train Loss: 1.4482, Train Accuracy: 0.5890, Test Loss: 1.5175, Test Accuracy: 0.5218\n",
      "Epoch 38\n"
     ]
    },
    {
     "name": "stderr",
     "output_type": "stream",
     "text": [
      "100%|██████████| 163/163 [00:05<00:00, 30.73it/s]\n",
      "100%|██████████| 70/70 [00:01<00:00, 68.23it/s]\n"
     ]
    },
    {
     "name": "stdout",
     "output_type": "stream",
     "text": [
      "Epoch 39/50, Train Loss: 1.4271, Train Accuracy: 0.6115, Test Loss: 1.5336, Test Accuracy: 0.4975\n",
      "Epoch 39\n"
     ]
    },
    {
     "name": "stderr",
     "output_type": "stream",
     "text": [
      "100%|██████████| 163/163 [00:05<00:00, 30.81it/s]\n",
      "100%|██████████| 70/70 [00:01<00:00, 67.29it/s]\n"
     ]
    },
    {
     "name": "stdout",
     "output_type": "stream",
     "text": [
      "Epoch 40/50, Train Loss: 1.4297, Train Accuracy: 0.6056, Test Loss: 1.5295, Test Accuracy: 0.5079\n",
      "Epoch 40\n"
     ]
    },
    {
     "name": "stderr",
     "output_type": "stream",
     "text": [
      "100%|██████████| 163/163 [00:05<00:00, 30.79it/s]\n",
      "100%|██████████| 70/70 [00:01<00:00, 68.05it/s]\n"
     ]
    },
    {
     "name": "stdout",
     "output_type": "stream",
     "text": [
      "Epoch 41/50, Train Loss: 1.4249, Train Accuracy: 0.6138, Test Loss: 1.5278, Test Accuracy: 0.5034\n",
      "Epoch 41\n"
     ]
    },
    {
     "name": "stderr",
     "output_type": "stream",
     "text": [
      "100%|██████████| 163/163 [00:05<00:00, 30.21it/s]\n",
      "100%|██████████| 70/70 [00:01<00:00, 67.90it/s]\n"
     ]
    },
    {
     "name": "stdout",
     "output_type": "stream",
     "text": [
      "Epoch 42/50, Train Loss: 1.4099, Train Accuracy: 0.6325, Test Loss: 1.5303, Test Accuracy: 0.4989\n",
      "Epoch 42\n"
     ]
    },
    {
     "name": "stderr",
     "output_type": "stream",
     "text": [
      "100%|██████████| 163/163 [00:05<00:00, 30.57it/s]\n",
      "100%|██████████| 70/70 [00:01<00:00, 68.04it/s]\n"
     ]
    },
    {
     "name": "stdout",
     "output_type": "stream",
     "text": [
      "Epoch 43/50, Train Loss: 1.4008, Train Accuracy: 0.6400, Test Loss: 1.5139, Test Accuracy: 0.5209\n",
      "Epoch 43\n"
     ]
    },
    {
     "name": "stderr",
     "output_type": "stream",
     "text": [
      "100%|██████████| 163/163 [00:05<00:00, 30.82it/s]\n",
      "100%|██████████| 70/70 [00:01<00:00, 67.88it/s]\n"
     ]
    },
    {
     "name": "stdout",
     "output_type": "stream",
     "text": [
      "Epoch 44/50, Train Loss: 1.3990, Train Accuracy: 0.6394, Test Loss: 1.5037, Test Accuracy: 0.5330\n",
      "Epoch 44\n"
     ]
    },
    {
     "name": "stderr",
     "output_type": "stream",
     "text": [
      "100%|██████████| 163/163 [00:05<00:00, 30.48it/s]\n",
      "100%|██████████| 70/70 [00:01<00:00, 68.48it/s]\n"
     ]
    },
    {
     "name": "stdout",
     "output_type": "stream",
     "text": [
      "Epoch 45/50, Train Loss: 1.3915, Train Accuracy: 0.6496, Test Loss: 1.5121, Test Accuracy: 0.5191\n",
      "Epoch 45\n"
     ]
    },
    {
     "name": "stderr",
     "output_type": "stream",
     "text": [
      "100%|██████████| 163/163 [00:05<00:00, 30.77it/s]\n",
      "100%|██████████| 70/70 [00:01<00:00, 61.43it/s]\n"
     ]
    },
    {
     "name": "stdout",
     "output_type": "stream",
     "text": [
      "Epoch 46/50, Train Loss: 1.3965, Train Accuracy: 0.6438, Test Loss: 1.5173, Test Accuracy: 0.5164\n",
      "Epoch 46\n"
     ]
    },
    {
     "name": "stderr",
     "output_type": "stream",
     "text": [
      "100%|██████████| 163/163 [00:05<00:00, 31.08it/s]\n",
      "100%|██████████| 70/70 [00:01<00:00, 68.18it/s]\n"
     ]
    },
    {
     "name": "stdout",
     "output_type": "stream",
     "text": [
      "Epoch 47/50, Train Loss: 1.3732, Train Accuracy: 0.6687, Test Loss: 1.5102, Test Accuracy: 0.5245\n",
      "Epoch 47\n"
     ]
    },
    {
     "name": "stderr",
     "output_type": "stream",
     "text": [
      "100%|██████████| 163/163 [00:05<00:00, 30.26it/s]\n",
      "100%|██████████| 70/70 [00:01<00:00, 68.32it/s]\n"
     ]
    },
    {
     "name": "stdout",
     "output_type": "stream",
     "text": [
      "Epoch 48/50, Train Loss: 1.3773, Train Accuracy: 0.6602, Test Loss: 1.4910, Test Accuracy: 0.5469\n",
      "Epoch 48\n"
     ]
    },
    {
     "name": "stderr",
     "output_type": "stream",
     "text": [
      "100%|██████████| 163/163 [00:05<00:00, 30.81it/s]\n",
      "100%|██████████| 70/70 [00:01<00:00, 68.00it/s]\n"
     ]
    },
    {
     "name": "stdout",
     "output_type": "stream",
     "text": [
      "Epoch 49/50, Train Loss: 1.3682, Train Accuracy: 0.6721, Test Loss: 1.4919, Test Accuracy: 0.5419\n",
      "Epoch 49\n"
     ]
    },
    {
     "name": "stderr",
     "output_type": "stream",
     "text": [
      "100%|██████████| 163/163 [00:05<00:00, 30.08it/s]\n",
      "100%|██████████| 70/70 [00:01<00:00, 68.12it/s]\n"
     ]
    },
    {
     "name": "stdout",
     "output_type": "stream",
     "text": [
      "Epoch 50/50, Train Loss: 1.3559, Train Accuracy: 0.6852, Test Loss: 1.4958, Test Accuracy: 0.5402\n",
      "Batch size: 64 Num of Epochs: 50 lr: 0.001\n",
      "Epoch 0\n"
     ]
    },
    {
     "name": "stderr",
     "output_type": "stream",
     "text": [
      "100%|██████████| 82/82 [00:04<00:00, 18.56it/s]\n",
      "100%|██████████| 35/35 [00:01<00:00, 33.96it/s]\n"
     ]
    },
    {
     "name": "stdout",
     "output_type": "stream",
     "text": [
      "Epoch 1/50, Train Loss: 1.7523, Train Accuracy: 0.2427, Test Loss: 1.8118, Test Accuracy: 0.1893\n",
      "Epoch 1\n"
     ]
    },
    {
     "name": "stderr",
     "output_type": "stream",
     "text": [
      "100%|██████████| 82/82 [00:04<00:00, 18.59it/s]\n",
      "100%|██████████| 35/35 [00:00<00:00, 36.71it/s]\n"
     ]
    },
    {
     "name": "stdout",
     "output_type": "stream",
     "text": [
      "Epoch 2/50, Train Loss: 1.7185, Train Accuracy: 0.2798, Test Loss: 1.8488, Test Accuracy: 0.1714\n",
      "Epoch 2\n"
     ]
    },
    {
     "name": "stderr",
     "output_type": "stream",
     "text": [
      "100%|██████████| 82/82 [00:04<00:00, 18.64it/s]\n",
      "100%|██████████| 35/35 [00:01<00:00, 32.49it/s]\n"
     ]
    },
    {
     "name": "stdout",
     "output_type": "stream",
     "text": [
      "Epoch 3/50, Train Loss: 1.7017, Train Accuracy: 0.3050, Test Loss: 1.7700, Test Accuracy: 0.2225\n",
      "Epoch 3\n"
     ]
    },
    {
     "name": "stderr",
     "output_type": "stream",
     "text": [
      "100%|██████████| 82/82 [00:04<00:00, 18.65it/s]\n",
      "100%|██████████| 35/35 [00:00<00:00, 36.46it/s]\n"
     ]
    },
    {
     "name": "stdout",
     "output_type": "stream",
     "text": [
      "Epoch 4/50, Train Loss: 1.6902, Train Accuracy: 0.3198, Test Loss: 1.7721, Test Accuracy: 0.2275\n",
      "Epoch 4\n"
     ]
    },
    {
     "name": "stderr",
     "output_type": "stream",
     "text": [
      "100%|██████████| 82/82 [00:04<00:00, 18.12it/s]\n",
      "100%|██████████| 35/35 [00:00<00:00, 36.65it/s]\n"
     ]
    },
    {
     "name": "stdout",
     "output_type": "stream",
     "text": [
      "Epoch 5/50, Train Loss: 1.6510, Train Accuracy: 0.3592, Test Loss: 1.6747, Test Accuracy: 0.3401\n",
      "Epoch 5\n"
     ]
    },
    {
     "name": "stderr",
     "output_type": "stream",
     "text": [
      "100%|██████████| 82/82 [00:04<00:00, 18.58it/s]\n",
      "100%|██████████| 35/35 [00:00<00:00, 36.96it/s]\n"
     ]
    },
    {
     "name": "stdout",
     "output_type": "stream",
     "text": [
      "Epoch 6/50, Train Loss: 1.6390, Train Accuracy: 0.3781, Test Loss: 1.6680, Test Accuracy: 0.3553\n",
      "Epoch 6\n"
     ]
    },
    {
     "name": "stderr",
     "output_type": "stream",
     "text": [
      "100%|██████████| 82/82 [00:04<00:00, 18.42it/s]\n",
      "100%|██████████| 35/35 [00:00<00:00, 36.46it/s]\n"
     ]
    },
    {
     "name": "stdout",
     "output_type": "stream",
     "text": [
      "Epoch 7/50, Train Loss: 1.6153, Train Accuracy: 0.4073, Test Loss: 1.6290, Test Accuracy: 0.3939\n",
      "Epoch 7\n"
     ]
    },
    {
     "name": "stderr",
     "output_type": "stream",
     "text": [
      "100%|██████████| 82/82 [00:04<00:00, 18.46it/s]\n",
      "100%|██████████| 35/35 [00:00<00:00, 36.53it/s]\n"
     ]
    },
    {
     "name": "stdout",
     "output_type": "stream",
     "text": [
      "Epoch 8/50, Train Loss: 1.5889, Train Accuracy: 0.4319, Test Loss: 1.6491, Test Accuracy: 0.3728\n",
      "Epoch 8\n"
     ]
    },
    {
     "name": "stderr",
     "output_type": "stream",
     "text": [
      "100%|██████████| 82/82 [00:04<00:00, 18.28it/s]\n",
      "100%|██████████| 35/35 [00:00<00:00, 36.62it/s]\n"
     ]
    },
    {
     "name": "stdout",
     "output_type": "stream",
     "text": [
      "Epoch 9/50, Train Loss: 1.5679, Train Accuracy: 0.4612, Test Loss: 1.6548, Test Accuracy: 0.3652\n",
      "Epoch 9\n"
     ]
    },
    {
     "name": "stderr",
     "output_type": "stream",
     "text": [
      "100%|██████████| 82/82 [00:04<00:00, 18.62it/s]\n",
      "100%|██████████| 35/35 [00:00<00:00, 36.68it/s]\n"
     ]
    },
    {
     "name": "stdout",
     "output_type": "stream",
     "text": [
      "Epoch 10/50, Train Loss: 1.5430, Train Accuracy: 0.4892, Test Loss: 1.6059, Test Accuracy: 0.4177\n",
      "Epoch 10\n"
     ]
    },
    {
     "name": "stderr",
     "output_type": "stream",
     "text": [
      "100%|██████████| 82/82 [00:04<00:00, 18.60it/s]\n",
      "100%|██████████| 35/35 [00:00<00:00, 36.76it/s]\n"
     ]
    },
    {
     "name": "stdout",
     "output_type": "stream",
     "text": [
      "Epoch 11/50, Train Loss: 1.5292, Train Accuracy: 0.5013, Test Loss: 1.5553, Test Accuracy: 0.4760\n",
      "Epoch 11\n"
     ]
    },
    {
     "name": "stderr",
     "output_type": "stream",
     "text": [
      "100%|██████████| 82/82 [00:04<00:00, 18.61it/s]\n",
      "100%|██████████| 35/35 [00:00<00:00, 36.91it/s]\n"
     ]
    },
    {
     "name": "stdout",
     "output_type": "stream",
     "text": [
      "Epoch 12/50, Train Loss: 1.5208, Train Accuracy: 0.5125, Test Loss: 1.5571, Test Accuracy: 0.4751\n",
      "Epoch 12\n"
     ]
    },
    {
     "name": "stderr",
     "output_type": "stream",
     "text": [
      "100%|██████████| 82/82 [00:04<00:00, 18.61it/s]\n",
      "100%|██████████| 35/35 [00:00<00:00, 36.34it/s]\n"
     ]
    },
    {
     "name": "stdout",
     "output_type": "stream",
     "text": [
      "Epoch 13/50, Train Loss: 1.5079, Train Accuracy: 0.5254, Test Loss: 1.6365, Test Accuracy: 0.3894\n",
      "Epoch 13\n"
     ]
    },
    {
     "name": "stderr",
     "output_type": "stream",
     "text": [
      "100%|██████████| 82/82 [00:04<00:00, 18.56it/s]\n",
      "100%|██████████| 35/35 [00:00<00:00, 36.39it/s]\n"
     ]
    },
    {
     "name": "stdout",
     "output_type": "stream",
     "text": [
      "Epoch 14/50, Train Loss: 1.4901, Train Accuracy: 0.5427, Test Loss: 1.5900, Test Accuracy: 0.4388\n",
      "Epoch 14\n"
     ]
    },
    {
     "name": "stderr",
     "output_type": "stream",
     "text": [
      "100%|██████████| 82/82 [00:04<00:00, 18.49it/s]\n",
      "100%|██████████| 35/35 [00:00<00:00, 36.70it/s]\n"
     ]
    },
    {
     "name": "stdout",
     "output_type": "stream",
     "text": [
      "Epoch 15/50, Train Loss: 1.4794, Train Accuracy: 0.5562, Test Loss: 1.5977, Test Accuracy: 0.4289\n",
      "Epoch 15\n"
     ]
    },
    {
     "name": "stderr",
     "output_type": "stream",
     "text": [
      "100%|██████████| 82/82 [00:04<00:00, 18.40it/s]\n",
      "100%|██████████| 35/35 [00:00<00:00, 36.44it/s]\n"
     ]
    },
    {
     "name": "stdout",
     "output_type": "stream",
     "text": [
      "Epoch 16/50, Train Loss: 1.4761, Train Accuracy: 0.5600, Test Loss: 1.6611, Test Accuracy: 0.3661\n",
      "Epoch 16\n"
     ]
    },
    {
     "name": "stderr",
     "output_type": "stream",
     "text": [
      "100%|██████████| 82/82 [00:04<00:00, 18.56it/s]\n",
      "100%|██████████| 35/35 [00:00<00:00, 36.84it/s]\n"
     ]
    },
    {
     "name": "stdout",
     "output_type": "stream",
     "text": [
      "Epoch 17/50, Train Loss: 1.4846, Train Accuracy: 0.5498, Test Loss: 1.5500, Test Accuracy: 0.4850\n",
      "Epoch 17\n"
     ]
    },
    {
     "name": "stderr",
     "output_type": "stream",
     "text": [
      "100%|██████████| 82/82 [00:04<00:00, 18.22it/s]\n",
      "100%|██████████| 35/35 [00:00<00:00, 36.73it/s]\n"
     ]
    },
    {
     "name": "stdout",
     "output_type": "stream",
     "text": [
      "Epoch 18/50, Train Loss: 1.4518, Train Accuracy: 0.5877, Test Loss: 1.5612, Test Accuracy: 0.4724\n",
      "Epoch 18\n"
     ]
    },
    {
     "name": "stderr",
     "output_type": "stream",
     "text": [
      "100%|██████████| 82/82 [00:04<00:00, 18.45it/s]\n",
      "100%|██████████| 35/35 [00:00<00:00, 36.93it/s]\n"
     ]
    },
    {
     "name": "stdout",
     "output_type": "stream",
     "text": [
      "Epoch 19/50, Train Loss: 1.4377, Train Accuracy: 0.6008, Test Loss: 1.4952, Test Accuracy: 0.5388\n",
      "Epoch 19\n"
     ]
    },
    {
     "name": "stderr",
     "output_type": "stream",
     "text": [
      "100%|██████████| 82/82 [00:04<00:00, 18.21it/s]\n",
      "100%|██████████| 35/35 [00:00<00:00, 36.93it/s]\n"
     ]
    },
    {
     "name": "stdout",
     "output_type": "stream",
     "text": [
      "Epoch 20/50, Train Loss: 1.4398, Train Accuracy: 0.5954, Test Loss: 1.6632, Test Accuracy: 0.3674\n",
      "Epoch 20\n"
     ]
    },
    {
     "name": "stderr",
     "output_type": "stream",
     "text": [
      "100%|██████████| 82/82 [00:04<00:00, 18.59it/s]\n",
      "100%|██████████| 35/35 [00:00<00:00, 36.59it/s]\n"
     ]
    },
    {
     "name": "stdout",
     "output_type": "stream",
     "text": [
      "Epoch 21/50, Train Loss: 1.4168, Train Accuracy: 0.6237, Test Loss: 1.5050, Test Accuracy: 0.5330\n",
      "Epoch 21\n"
     ]
    },
    {
     "name": "stderr",
     "output_type": "stream",
     "text": [
      "100%|██████████| 82/82 [00:04<00:00, 18.55it/s]\n",
      "100%|██████████| 35/35 [00:00<00:00, 36.79it/s]\n"
     ]
    },
    {
     "name": "stdout",
     "output_type": "stream",
     "text": [
      "Epoch 22/50, Train Loss: 1.4112, Train Accuracy: 0.6296, Test Loss: 1.5262, Test Accuracy: 0.5065\n",
      "Epoch 22\n"
     ]
    },
    {
     "name": "stderr",
     "output_type": "stream",
     "text": [
      "100%|██████████| 82/82 [00:04<00:00, 18.56it/s]\n",
      "100%|██████████| 35/35 [00:00<00:00, 36.39it/s]\n"
     ]
    },
    {
     "name": "stdout",
     "output_type": "stream",
     "text": [
      "Epoch 23/50, Train Loss: 1.3989, Train Accuracy: 0.6404, Test Loss: 1.5083, Test Accuracy: 0.5240\n",
      "Epoch 23\n"
     ]
    },
    {
     "name": "stderr",
     "output_type": "stream",
     "text": [
      "100%|██████████| 82/82 [00:04<00:00, 18.41it/s]\n",
      "100%|██████████| 35/35 [00:00<00:00, 36.84it/s]\n"
     ]
    },
    {
     "name": "stdout",
     "output_type": "stream",
     "text": [
      "Epoch 24/50, Train Loss: 1.4100, Train Accuracy: 0.6275, Test Loss: 1.4755, Test Accuracy: 0.5590\n",
      "Epoch 24\n"
     ]
    },
    {
     "name": "stderr",
     "output_type": "stream",
     "text": [
      "100%|██████████| 82/82 [00:04<00:00, 18.56it/s]\n",
      "100%|██████████| 35/35 [00:00<00:00, 36.51it/s]\n"
     ]
    },
    {
     "name": "stdout",
     "output_type": "stream",
     "text": [
      "Epoch 25/50, Train Loss: 1.4024, Train Accuracy: 0.6350, Test Loss: 1.5407, Test Accuracy: 0.4948\n",
      "Epoch 25\n"
     ]
    },
    {
     "name": "stderr",
     "output_type": "stream",
     "text": [
      "100%|██████████| 82/82 [00:04<00:00, 18.48it/s]\n",
      "100%|██████████| 35/35 [00:00<00:00, 36.51it/s]\n"
     ]
    },
    {
     "name": "stdout",
     "output_type": "stream",
     "text": [
      "Epoch 26/50, Train Loss: 1.3759, Train Accuracy: 0.6665, Test Loss: 1.5320, Test Accuracy: 0.5007\n",
      "Epoch 26\n"
     ]
    },
    {
     "name": "stderr",
     "output_type": "stream",
     "text": [
      "100%|██████████| 82/82 [00:04<00:00, 18.51it/s]\n",
      "100%|██████████| 35/35 [00:00<00:00, 36.36it/s]\n"
     ]
    },
    {
     "name": "stdout",
     "output_type": "stream",
     "text": [
      "Epoch 27/50, Train Loss: 1.3792, Train Accuracy: 0.6608, Test Loss: 1.6066, Test Accuracy: 0.4266\n",
      "Epoch 27\n"
     ]
    },
    {
     "name": "stderr",
     "output_type": "stream",
     "text": [
      "100%|██████████| 82/82 [00:04<00:00, 18.28it/s]\n",
      "100%|██████████| 35/35 [00:00<00:00, 36.51it/s]\n"
     ]
    },
    {
     "name": "stdout",
     "output_type": "stream",
     "text": [
      "Epoch 28/50, Train Loss: 1.3719, Train Accuracy: 0.6698, Test Loss: 1.5644, Test Accuracy: 0.4693\n",
      "Epoch 28\n"
     ]
    },
    {
     "name": "stderr",
     "output_type": "stream",
     "text": [
      "100%|██████████| 82/82 [00:04<00:00, 18.52it/s]\n",
      "100%|██████████| 35/35 [00:01<00:00, 33.94it/s]\n"
     ]
    },
    {
     "name": "stdout",
     "output_type": "stream",
     "text": [
      "Epoch 29/50, Train Loss: 1.3741, Train Accuracy: 0.6683, Test Loss: 1.5330, Test Accuracy: 0.5047\n",
      "Epoch 29\n"
     ]
    },
    {
     "name": "stderr",
     "output_type": "stream",
     "text": [
      "100%|██████████| 82/82 [00:04<00:00, 18.46it/s]\n",
      "100%|██████████| 35/35 [00:00<00:00, 36.22it/s]\n"
     ]
    },
    {
     "name": "stdout",
     "output_type": "stream",
     "text": [
      "Epoch 30/50, Train Loss: 1.3652, Train Accuracy: 0.6746, Test Loss: 1.4935, Test Accuracy: 0.5446\n",
      "Epoch 30\n"
     ]
    },
    {
     "name": "stderr",
     "output_type": "stream",
     "text": [
      "100%|██████████| 82/82 [00:04<00:00, 18.57it/s]\n",
      "100%|██████████| 35/35 [00:01<00:00, 33.78it/s]\n"
     ]
    },
    {
     "name": "stdout",
     "output_type": "stream",
     "text": [
      "Epoch 31/50, Train Loss: 1.3492, Train Accuracy: 0.6921, Test Loss: 1.4727, Test Accuracy: 0.5653\n",
      "Epoch 31\n"
     ]
    },
    {
     "name": "stderr",
     "output_type": "stream",
     "text": [
      "100%|██████████| 82/82 [00:04<00:00, 18.63it/s]\n",
      "100%|██████████| 35/35 [00:00<00:00, 36.75it/s]\n"
     ]
    },
    {
     "name": "stdout",
     "output_type": "stream",
     "text": [
      "Epoch 32/50, Train Loss: 1.3470, Train Accuracy: 0.6935, Test Loss: 1.5141, Test Accuracy: 0.5200\n",
      "Epoch 32\n"
     ]
    },
    {
     "name": "stderr",
     "output_type": "stream",
     "text": [
      "100%|██████████| 82/82 [00:04<00:00, 18.56it/s]\n",
      "100%|██████████| 35/35 [00:00<00:00, 36.53it/s]\n"
     ]
    },
    {
     "name": "stdout",
     "output_type": "stream",
     "text": [
      "Epoch 33/50, Train Loss: 1.3346, Train Accuracy: 0.7077, Test Loss: 1.6143, Test Accuracy: 0.4217\n",
      "Epoch 33\n"
     ]
    },
    {
     "name": "stderr",
     "output_type": "stream",
     "text": [
      "100%|██████████| 82/82 [00:04<00:00, 18.59it/s]\n",
      "100%|██████████| 35/35 [00:00<00:00, 36.55it/s]\n"
     ]
    },
    {
     "name": "stdout",
     "output_type": "stream",
     "text": [
      "Epoch 34/50, Train Loss: 1.3435, Train Accuracy: 0.6969, Test Loss: 1.4635, Test Accuracy: 0.5716\n",
      "Epoch 34\n"
     ]
    },
    {
     "name": "stderr",
     "output_type": "stream",
     "text": [
      "100%|██████████| 82/82 [00:04<00:00, 18.40it/s]\n",
      "100%|██████████| 35/35 [00:00<00:00, 36.92it/s]\n"
     ]
    },
    {
     "name": "stdout",
     "output_type": "stream",
     "text": [
      "Epoch 35/50, Train Loss: 1.3231, Train Accuracy: 0.7188, Test Loss: 1.4544, Test Accuracy: 0.5823\n",
      "Epoch 35\n"
     ]
    },
    {
     "name": "stderr",
     "output_type": "stream",
     "text": [
      "100%|██████████| 82/82 [00:04<00:00, 18.46it/s]\n",
      "100%|██████████| 35/35 [00:00<00:00, 36.00it/s]\n"
     ]
    },
    {
     "name": "stdout",
     "output_type": "stream",
     "text": [
      "Epoch 36/50, Train Loss: 1.3193, Train Accuracy: 0.7215, Test Loss: 1.4995, Test Accuracy: 0.5393\n",
      "Epoch 36\n"
     ]
    },
    {
     "name": "stderr",
     "output_type": "stream",
     "text": [
      "100%|██████████| 82/82 [00:04<00:00, 18.60it/s]\n",
      "100%|██████████| 35/35 [00:00<00:00, 36.58it/s]\n"
     ]
    },
    {
     "name": "stdout",
     "output_type": "stream",
     "text": [
      "Epoch 37/50, Train Loss: 1.3229, Train Accuracy: 0.7188, Test Loss: 1.4886, Test Accuracy: 0.5478\n",
      "Epoch 37\n"
     ]
    },
    {
     "name": "stderr",
     "output_type": "stream",
     "text": [
      "100%|██████████| 82/82 [00:04<00:00, 18.51it/s]\n",
      "100%|██████████| 35/35 [00:00<00:00, 36.88it/s]\n"
     ]
    },
    {
     "name": "stdout",
     "output_type": "stream",
     "text": [
      "Epoch 38/50, Train Loss: 1.3151, Train Accuracy: 0.7262, Test Loss: 1.4542, Test Accuracy: 0.5805\n",
      "Epoch 38\n"
     ]
    },
    {
     "name": "stderr",
     "output_type": "stream",
     "text": [
      "100%|██████████| 82/82 [00:04<00:00, 18.59it/s]\n",
      "100%|██████████| 35/35 [00:00<00:00, 36.84it/s]\n"
     ]
    },
    {
     "name": "stdout",
     "output_type": "stream",
     "text": [
      "Epoch 39/50, Train Loss: 1.3102, Train Accuracy: 0.7306, Test Loss: 1.4888, Test Accuracy: 0.5491\n",
      "Epoch 39\n"
     ]
    },
    {
     "name": "stderr",
     "output_type": "stream",
     "text": [
      "100%|██████████| 82/82 [00:04<00:00, 18.04it/s]\n",
      "100%|██████████| 35/35 [00:00<00:00, 36.53it/s]\n"
     ]
    },
    {
     "name": "stdout",
     "output_type": "stream",
     "text": [
      "Epoch 40/50, Train Loss: 1.3170, Train Accuracy: 0.7248, Test Loss: 1.4813, Test Accuracy: 0.5576\n",
      "Epoch 40\n"
     ]
    },
    {
     "name": "stderr",
     "output_type": "stream",
     "text": [
      "100%|██████████| 82/82 [00:04<00:00, 18.61it/s]\n",
      "100%|██████████| 35/35 [00:00<00:00, 36.65it/s]\n"
     ]
    },
    {
     "name": "stdout",
     "output_type": "stream",
     "text": [
      "Epoch 41/50, Train Loss: 1.2871, Train Accuracy: 0.7550, Test Loss: 1.4399, Test Accuracy: 0.5989\n",
      "Epoch 41\n"
     ]
    },
    {
     "name": "stderr",
     "output_type": "stream",
     "text": [
      "100%|██████████| 82/82 [00:04<00:00, 18.48it/s]\n",
      "100%|██████████| 35/35 [00:00<00:00, 36.42it/s]\n"
     ]
    },
    {
     "name": "stdout",
     "output_type": "stream",
     "text": [
      "Epoch 42/50, Train Loss: 1.2823, Train Accuracy: 0.7617, Test Loss: 1.4744, Test Accuracy: 0.5626\n",
      "Epoch 42\n"
     ]
    },
    {
     "name": "stderr",
     "output_type": "stream",
     "text": [
      "100%|██████████| 82/82 [00:04<00:00, 18.53it/s]\n",
      "100%|██████████| 35/35 [00:00<00:00, 36.31it/s]\n"
     ]
    },
    {
     "name": "stdout",
     "output_type": "stream",
     "text": [
      "Epoch 43/50, Train Loss: 1.2829, Train Accuracy: 0.7602, Test Loss: 1.4382, Test Accuracy: 0.5976\n",
      "Epoch 43\n"
     ]
    },
    {
     "name": "stderr",
     "output_type": "stream",
     "text": [
      "100%|██████████| 82/82 [00:04<00:00, 18.50it/s]\n",
      "100%|██████████| 35/35 [00:00<00:00, 36.37it/s]\n"
     ]
    },
    {
     "name": "stdout",
     "output_type": "stream",
     "text": [
      "Epoch 44/50, Train Loss: 1.2818, Train Accuracy: 0.7606, Test Loss: 1.4337, Test Accuracy: 0.6016\n",
      "Epoch 44\n"
     ]
    },
    {
     "name": "stderr",
     "output_type": "stream",
     "text": [
      "100%|██████████| 82/82 [00:04<00:00, 18.49it/s]\n",
      "100%|██████████| 35/35 [00:00<00:00, 36.71it/s]\n"
     ]
    },
    {
     "name": "stdout",
     "output_type": "stream",
     "text": [
      "Epoch 45/50, Train Loss: 1.2715, Train Accuracy: 0.7694, Test Loss: 1.4500, Test Accuracy: 0.5850\n",
      "Epoch 45\n"
     ]
    },
    {
     "name": "stderr",
     "output_type": "stream",
     "text": [
      "100%|██████████| 82/82 [00:04<00:00, 18.18it/s]\n",
      "100%|██████████| 35/35 [00:00<00:00, 36.22it/s]\n"
     ]
    },
    {
     "name": "stdout",
     "output_type": "stream",
     "text": [
      "Epoch 46/50, Train Loss: 1.2691, Train Accuracy: 0.7740, Test Loss: 1.4431, Test Accuracy: 0.5935\n",
      "Epoch 46\n"
     ]
    },
    {
     "name": "stderr",
     "output_type": "stream",
     "text": [
      "100%|██████████| 82/82 [00:04<00:00, 18.56it/s]\n",
      "100%|██████████| 35/35 [00:00<00:00, 36.31it/s]\n"
     ]
    },
    {
     "name": "stdout",
     "output_type": "stream",
     "text": [
      "Epoch 47/50, Train Loss: 1.2719, Train Accuracy: 0.7710, Test Loss: 1.4836, Test Accuracy: 0.5518\n",
      "Epoch 47\n"
     ]
    },
    {
     "name": "stderr",
     "output_type": "stream",
     "text": [
      "100%|██████████| 82/82 [00:04<00:00, 18.17it/s]\n",
      "100%|██████████| 35/35 [00:00<00:00, 36.45it/s]\n"
     ]
    },
    {
     "name": "stdout",
     "output_type": "stream",
     "text": [
      "Epoch 48/50, Train Loss: 1.2531, Train Accuracy: 0.7906, Test Loss: 1.4376, Test Accuracy: 0.6025\n",
      "Epoch 48\n"
     ]
    },
    {
     "name": "stderr",
     "output_type": "stream",
     "text": [
      "100%|██████████| 82/82 [00:04<00:00, 18.45it/s]\n",
      "100%|██████████| 35/35 [00:00<00:00, 36.55it/s]\n"
     ]
    },
    {
     "name": "stdout",
     "output_type": "stream",
     "text": [
      "Epoch 49/50, Train Loss: 1.2551, Train Accuracy: 0.7863, Test Loss: 1.4365, Test Accuracy: 0.5976\n",
      "Epoch 49\n"
     ]
    },
    {
     "name": "stderr",
     "output_type": "stream",
     "text": [
      "100%|██████████| 82/82 [00:04<00:00, 18.56it/s]\n",
      "100%|██████████| 35/35 [00:00<00:00, 36.31it/s]\n"
     ]
    },
    {
     "name": "stdout",
     "output_type": "stream",
     "text": [
      "Epoch 50/50, Train Loss: 1.2501, Train Accuracy: 0.7933, Test Loss: 1.4681, Test Accuracy: 0.5675\n",
      "Batch size: 16 Num of Epochs: 50 lr: 0.0001\n",
      "Epoch 0\n"
     ]
    },
    {
     "name": "stderr",
     "output_type": "stream",
     "text": [
      "100%|██████████| 325/325 [00:07<00:00, 43.16it/s]\n",
      "100%|██████████| 140/140 [00:01<00:00, 111.84it/s]\n"
     ]
    },
    {
     "name": "stdout",
     "output_type": "stream",
     "text": [
      "Epoch 1/50, Train Loss: 1.6957, Train Accuracy: 0.3219, Test Loss: 1.6915, Test Accuracy: 0.3235\n",
      "Epoch 1\n"
     ]
    },
    {
     "name": "stderr",
     "output_type": "stream",
     "text": [
      "100%|██████████| 325/325 [00:07<00:00, 43.06it/s]\n",
      "100%|██████████| 140/140 [00:01<00:00, 112.07it/s]\n"
     ]
    },
    {
     "name": "stdout",
     "output_type": "stream",
     "text": [
      "Epoch 2/50, Train Loss: 1.6061, Train Accuracy: 0.4231, Test Loss: 1.6400, Test Accuracy: 0.3786\n",
      "Epoch 2\n"
     ]
    },
    {
     "name": "stderr",
     "output_type": "stream",
     "text": [
      "100%|██████████| 325/325 [00:07<00:00, 44.03it/s]\n",
      "100%|██████████| 140/140 [00:01<00:00, 110.16it/s]\n"
     ]
    },
    {
     "name": "stdout",
     "output_type": "stream",
     "text": [
      "Epoch 3/50, Train Loss: 1.5639, Train Accuracy: 0.4762, Test Loss: 1.5624, Test Accuracy: 0.4720\n",
      "Epoch 3\n"
     ]
    },
    {
     "name": "stderr",
     "output_type": "stream",
     "text": [
      "100%|██████████| 325/325 [00:07<00:00, 43.28it/s]\n",
      "100%|██████████| 140/140 [00:01<00:00, 110.52it/s]\n"
     ]
    },
    {
     "name": "stdout",
     "output_type": "stream",
     "text": [
      "Epoch 4/50, Train Loss: 1.5204, Train Accuracy: 0.5208, Test Loss: 1.5471, Test Accuracy: 0.4823\n",
      "Epoch 4\n"
     ]
    },
    {
     "name": "stderr",
     "output_type": "stream",
     "text": [
      "100%|██████████| 325/325 [00:07<00:00, 43.48it/s]\n",
      "100%|██████████| 140/140 [00:01<00:00, 99.64it/s] \n"
     ]
    },
    {
     "name": "stdout",
     "output_type": "stream",
     "text": [
      "Epoch 5/50, Train Loss: 1.5001, Train Accuracy: 0.5377, Test Loss: 1.5266, Test Accuracy: 0.5047\n",
      "Epoch 5\n"
     ]
    },
    {
     "name": "stderr",
     "output_type": "stream",
     "text": [
      "100%|██████████| 325/325 [00:07<00:00, 43.24it/s]\n",
      "100%|██████████| 140/140 [00:01<00:00, 109.41it/s]\n"
     ]
    },
    {
     "name": "stdout",
     "output_type": "stream",
     "text": [
      "Epoch 6/50, Train Loss: 1.4681, Train Accuracy: 0.5738, Test Loss: 1.5169, Test Accuracy: 0.5227\n",
      "Epoch 6\n"
     ]
    },
    {
     "name": "stderr",
     "output_type": "stream",
     "text": [
      "100%|██████████| 325/325 [00:07<00:00, 42.64it/s]\n",
      "100%|██████████| 140/140 [00:01<00:00, 110.02it/s]\n"
     ]
    },
    {
     "name": "stdout",
     "output_type": "stream",
     "text": [
      "Epoch 7/50, Train Loss: 1.4620, Train Accuracy: 0.5785, Test Loss: 1.5171, Test Accuracy: 0.5173\n",
      "Epoch 7\n"
     ]
    },
    {
     "name": "stderr",
     "output_type": "stream",
     "text": [
      "100%|██████████| 325/325 [00:07<00:00, 43.28it/s]\n",
      "100%|██████████| 140/140 [00:01<00:00, 111.80it/s]\n"
     ]
    },
    {
     "name": "stdout",
     "output_type": "stream",
     "text": [
      "Epoch 8/50, Train Loss: 1.4405, Train Accuracy: 0.5990, Test Loss: 1.5331, Test Accuracy: 0.5016\n",
      "Epoch 8\n"
     ]
    },
    {
     "name": "stderr",
     "output_type": "stream",
     "text": [
      "100%|██████████| 325/325 [00:07<00:00, 43.63it/s]\n",
      "100%|██████████| 140/140 [00:01<00:00, 110.38it/s]\n"
     ]
    },
    {
     "name": "stdout",
     "output_type": "stream",
     "text": [
      "Epoch 9/50, Train Loss: 1.4254, Train Accuracy: 0.6192, Test Loss: 1.5079, Test Accuracy: 0.5209\n",
      "Epoch 9\n"
     ]
    },
    {
     "name": "stderr",
     "output_type": "stream",
     "text": [
      "100%|██████████| 325/325 [00:07<00:00, 42.66it/s]\n",
      "100%|██████████| 140/140 [00:01<00:00, 111.45it/s]\n"
     ]
    },
    {
     "name": "stdout",
     "output_type": "stream",
     "text": [
      "Epoch 10/50, Train Loss: 1.4132, Train Accuracy: 0.6288, Test Loss: 1.4868, Test Accuracy: 0.5473\n",
      "Epoch 10\n"
     ]
    },
    {
     "name": "stderr",
     "output_type": "stream",
     "text": [
      "100%|██████████| 325/325 [00:07<00:00, 43.58it/s]\n",
      "100%|██████████| 140/140 [00:01<00:00, 100.74it/s]\n"
     ]
    },
    {
     "name": "stdout",
     "output_type": "stream",
     "text": [
      "Epoch 11/50, Train Loss: 1.3928, Train Accuracy: 0.6485, Test Loss: 1.4512, Test Accuracy: 0.5877\n",
      "Epoch 11\n"
     ]
    },
    {
     "name": "stderr",
     "output_type": "stream",
     "text": [
      "100%|██████████| 325/325 [00:07<00:00, 43.56it/s]\n",
      "100%|██████████| 140/140 [00:01<00:00, 110.29it/s]\n"
     ]
    },
    {
     "name": "stdout",
     "output_type": "stream",
     "text": [
      "Epoch 12/50, Train Loss: 1.3804, Train Accuracy: 0.6667, Test Loss: 1.4514, Test Accuracy: 0.5877\n",
      "Epoch 12\n"
     ]
    },
    {
     "name": "stderr",
     "output_type": "stream",
     "text": [
      "100%|██████████| 325/325 [00:07<00:00, 42.96it/s]\n",
      "100%|██████████| 140/140 [00:01<00:00, 111.51it/s]\n"
     ]
    },
    {
     "name": "stdout",
     "output_type": "stream",
     "text": [
      "Epoch 13/50, Train Loss: 1.3751, Train Accuracy: 0.6685, Test Loss: 1.4556, Test Accuracy: 0.5814\n",
      "Epoch 13\n"
     ]
    },
    {
     "name": "stderr",
     "output_type": "stream",
     "text": [
      "100%|██████████| 325/325 [00:07<00:00, 42.80it/s]\n",
      "100%|██████████| 140/140 [00:01<00:00, 110.18it/s]\n"
     ]
    },
    {
     "name": "stdout",
     "output_type": "stream",
     "text": [
      "Epoch 14/50, Train Loss: 1.3588, Train Accuracy: 0.6862, Test Loss: 1.4189, Test Accuracy: 0.6178\n",
      "Epoch 14\n"
     ]
    },
    {
     "name": "stderr",
     "output_type": "stream",
     "text": [
      "100%|██████████| 325/325 [00:07<00:00, 43.65it/s]\n",
      "100%|██████████| 140/140 [00:01<00:00, 110.79it/s]\n"
     ]
    },
    {
     "name": "stdout",
     "output_type": "stream",
     "text": [
      "Epoch 15/50, Train Loss: 1.3591, Train Accuracy: 0.6812, Test Loss: 1.4148, Test Accuracy: 0.6191\n",
      "Epoch 15\n"
     ]
    },
    {
     "name": "stderr",
     "output_type": "stream",
     "text": [
      "100%|██████████| 325/325 [00:07<00:00, 43.12it/s]\n",
      "100%|██████████| 140/140 [00:01<00:00, 108.32it/s]\n"
     ]
    },
    {
     "name": "stdout",
     "output_type": "stream",
     "text": [
      "Epoch 16/50, Train Loss: 1.3342, Train Accuracy: 0.7119, Test Loss: 1.5152, Test Accuracy: 0.5146\n",
      "Epoch 16\n"
     ]
    },
    {
     "name": "stderr",
     "output_type": "stream",
     "text": [
      "100%|██████████| 325/325 [00:07<00:00, 43.26it/s]\n",
      "100%|██████████| 140/140 [00:01<00:00, 104.55it/s]\n"
     ]
    },
    {
     "name": "stdout",
     "output_type": "stream",
     "text": [
      "Epoch 17/50, Train Loss: 1.3302, Train Accuracy: 0.7137, Test Loss: 1.4414, Test Accuracy: 0.5958\n",
      "Epoch 17\n"
     ]
    },
    {
     "name": "stderr",
     "output_type": "stream",
     "text": [
      "100%|██████████| 325/325 [00:07<00:00, 43.36it/s]\n",
      "100%|██████████| 140/140 [00:01<00:00, 112.53it/s]\n"
     ]
    },
    {
     "name": "stdout",
     "output_type": "stream",
     "text": [
      "Epoch 18/50, Train Loss: 1.3120, Train Accuracy: 0.7329, Test Loss: 1.4185, Test Accuracy: 0.6124\n",
      "Epoch 18\n"
     ]
    },
    {
     "name": "stderr",
     "output_type": "stream",
     "text": [
      "100%|██████████| 325/325 [00:07<00:00, 42.97it/s]\n",
      "100%|██████████| 140/140 [00:01<00:00, 111.34it/s]\n"
     ]
    },
    {
     "name": "stdout",
     "output_type": "stream",
     "text": [
      "Epoch 19/50, Train Loss: 1.3007, Train Accuracy: 0.7446, Test Loss: 1.4269, Test Accuracy: 0.6146\n",
      "Epoch 19\n"
     ]
    },
    {
     "name": "stderr",
     "output_type": "stream",
     "text": [
      "100%|██████████| 325/325 [00:07<00:00, 43.05it/s]\n",
      "100%|██████████| 140/140 [00:01<00:00, 111.03it/s]\n"
     ]
    },
    {
     "name": "stdout",
     "output_type": "stream",
     "text": [
      "Epoch 20/50, Train Loss: 1.2972, Train Accuracy: 0.7465, Test Loss: 1.4021, Test Accuracy: 0.6433\n",
      "Epoch 20\n"
     ]
    },
    {
     "name": "stderr",
     "output_type": "stream",
     "text": [
      "100%|██████████| 325/325 [00:07<00:00, 43.59it/s]\n",
      "100%|██████████| 140/140 [00:01<00:00, 100.37it/s]\n"
     ]
    },
    {
     "name": "stdout",
     "output_type": "stream",
     "text": [
      "Epoch 21/50, Train Loss: 1.2800, Train Accuracy: 0.7662, Test Loss: 1.4529, Test Accuracy: 0.5855\n",
      "Epoch 21\n"
     ]
    },
    {
     "name": "stderr",
     "output_type": "stream",
     "text": [
      "100%|██████████| 325/325 [00:07<00:00, 43.73it/s]\n",
      "100%|██████████| 140/140 [00:01<00:00, 110.32it/s]\n"
     ]
    },
    {
     "name": "stdout",
     "output_type": "stream",
     "text": [
      "Epoch 22/50, Train Loss: 1.2749, Train Accuracy: 0.7719, Test Loss: 1.4228, Test Accuracy: 0.6133\n",
      "Epoch 22\n"
     ]
    },
    {
     "name": "stderr",
     "output_type": "stream",
     "text": [
      "100%|██████████| 325/325 [00:07<00:00, 42.98it/s]\n",
      "100%|██████████| 140/140 [00:01<00:00, 111.50it/s]\n"
     ]
    },
    {
     "name": "stdout",
     "output_type": "stream",
     "text": [
      "Epoch 23/50, Train Loss: 1.2708, Train Accuracy: 0.7738, Test Loss: 1.4045, Test Accuracy: 0.6362\n",
      "Epoch 23\n"
     ]
    },
    {
     "name": "stderr",
     "output_type": "stream",
     "text": [
      "100%|██████████| 325/325 [00:07<00:00, 43.19it/s]\n",
      "100%|██████████| 140/140 [00:01<00:00, 110.14it/s]\n"
     ]
    },
    {
     "name": "stdout",
     "output_type": "stream",
     "text": [
      "Epoch 24/50, Train Loss: 1.2573, Train Accuracy: 0.7890, Test Loss: 1.3908, Test Accuracy: 0.6474\n",
      "Epoch 24\n"
     ]
    },
    {
     "name": "stderr",
     "output_type": "stream",
     "text": [
      "100%|██████████| 325/325 [00:07<00:00, 43.03it/s]\n",
      "100%|██████████| 140/140 [00:01<00:00, 110.74it/s]\n"
     ]
    },
    {
     "name": "stdout",
     "output_type": "stream",
     "text": [
      "Epoch 25/50, Train Loss: 1.2519, Train Accuracy: 0.7933, Test Loss: 1.4036, Test Accuracy: 0.6348\n",
      "Epoch 25\n"
     ]
    },
    {
     "name": "stderr",
     "output_type": "stream",
     "text": [
      "100%|██████████| 325/325 [00:07<00:00, 43.08it/s]\n",
      "100%|██████████| 140/140 [00:01<00:00, 111.31it/s]\n"
     ]
    },
    {
     "name": "stdout",
     "output_type": "stream",
     "text": [
      "Epoch 26/50, Train Loss: 1.2483, Train Accuracy: 0.7971, Test Loss: 1.4187, Test Accuracy: 0.6196\n",
      "Epoch 26\n"
     ]
    },
    {
     "name": "stderr",
     "output_type": "stream",
     "text": [
      "100%|██████████| 325/325 [00:07<00:00, 43.54it/s]\n",
      "100%|██████████| 140/140 [00:01<00:00, 102.03it/s]\n"
     ]
    },
    {
     "name": "stdout",
     "output_type": "stream",
     "text": [
      "Epoch 27/50, Train Loss: 1.2360, Train Accuracy: 0.8110, Test Loss: 1.3860, Test Accuracy: 0.6577\n",
      "Epoch 27\n"
     ]
    },
    {
     "name": "stderr",
     "output_type": "stream",
     "text": [
      "100%|██████████| 325/325 [00:07<00:00, 43.50it/s]\n",
      "100%|██████████| 140/140 [00:01<00:00, 111.19it/s]\n"
     ]
    },
    {
     "name": "stdout",
     "output_type": "stream",
     "text": [
      "Epoch 28/50, Train Loss: 1.2273, Train Accuracy: 0.8190, Test Loss: 1.4524, Test Accuracy: 0.5850\n",
      "Epoch 28\n"
     ]
    },
    {
     "name": "stderr",
     "output_type": "stream",
     "text": [
      "100%|██████████| 325/325 [00:07<00:00, 43.09it/s]\n",
      "100%|██████████| 140/140 [00:01<00:00, 110.89it/s]\n"
     ]
    },
    {
     "name": "stdout",
     "output_type": "stream",
     "text": [
      "Epoch 29/50, Train Loss: 1.2215, Train Accuracy: 0.8250, Test Loss: 1.3761, Test Accuracy: 0.6617\n",
      "Epoch 29\n"
     ]
    },
    {
     "name": "stderr",
     "output_type": "stream",
     "text": [
      "100%|██████████| 325/325 [00:07<00:00, 43.38it/s]\n",
      "100%|██████████| 140/140 [00:01<00:00, 110.40it/s]\n"
     ]
    },
    {
     "name": "stdout",
     "output_type": "stream",
     "text": [
      "Epoch 30/50, Train Loss: 1.2230, Train Accuracy: 0.8237, Test Loss: 1.4151, Test Accuracy: 0.6258\n",
      "Epoch 30\n"
     ]
    },
    {
     "name": "stderr",
     "output_type": "stream",
     "text": [
      "100%|██████████| 325/325 [00:07<00:00, 43.36it/s]\n",
      "100%|██████████| 140/140 [00:01<00:00, 106.80it/s]\n"
     ]
    },
    {
     "name": "stdout",
     "output_type": "stream",
     "text": [
      "Epoch 31/50, Train Loss: 1.2095, Train Accuracy: 0.8350, Test Loss: 1.3883, Test Accuracy: 0.6519\n",
      "Epoch 31\n"
     ]
    },
    {
     "name": "stderr",
     "output_type": "stream",
     "text": [
      "100%|██████████| 325/325 [00:07<00:00, 43.12it/s]\n",
      "100%|██████████| 140/140 [00:01<00:00, 110.66it/s]\n"
     ]
    },
    {
     "name": "stdout",
     "output_type": "stream",
     "text": [
      "Epoch 32/50, Train Loss: 1.2016, Train Accuracy: 0.8448, Test Loss: 1.3844, Test Accuracy: 0.6559\n",
      "Epoch 32\n"
     ]
    },
    {
     "name": "stderr",
     "output_type": "stream",
     "text": [
      "100%|██████████| 325/325 [00:07<00:00, 42.66it/s]\n",
      "100%|██████████| 140/140 [00:01<00:00, 110.31it/s]\n"
     ]
    },
    {
     "name": "stdout",
     "output_type": "stream",
     "text": [
      "Epoch 33/50, Train Loss: 1.1972, Train Accuracy: 0.8508, Test Loss: 1.3749, Test Accuracy: 0.6626\n",
      "Epoch 33\n"
     ]
    },
    {
     "name": "stderr",
     "output_type": "stream",
     "text": [
      "100%|██████████| 325/325 [00:07<00:00, 43.85it/s]\n",
      "100%|██████████| 140/140 [00:01<00:00, 109.34it/s]\n"
     ]
    },
    {
     "name": "stdout",
     "output_type": "stream",
     "text": [
      "Epoch 34/50, Train Loss: 1.1888, Train Accuracy: 0.8571, Test Loss: 1.3791, Test Accuracy: 0.6613\n",
      "Epoch 34\n"
     ]
    },
    {
     "name": "stderr",
     "output_type": "stream",
     "text": [
      "100%|██████████| 325/325 [00:07<00:00, 43.20it/s]\n",
      "100%|██████████| 140/140 [00:01<00:00, 111.73it/s]\n"
     ]
    },
    {
     "name": "stdout",
     "output_type": "stream",
     "text": [
      "Epoch 35/50, Train Loss: 1.1947, Train Accuracy: 0.8515, Test Loss: 1.3883, Test Accuracy: 0.6456\n",
      "Epoch 35\n"
     ]
    },
    {
     "name": "stderr",
     "output_type": "stream",
     "text": [
      "100%|██████████| 325/325 [00:07<00:00, 42.89it/s]\n",
      "100%|██████████| 140/140 [00:01<00:00, 109.25it/s]\n"
     ]
    },
    {
     "name": "stdout",
     "output_type": "stream",
     "text": [
      "Epoch 36/50, Train Loss: 1.1768, Train Accuracy: 0.8715, Test Loss: 1.3823, Test Accuracy: 0.6581\n",
      "Epoch 36\n"
     ]
    },
    {
     "name": "stderr",
     "output_type": "stream",
     "text": [
      "100%|██████████| 325/325 [00:07<00:00, 43.50it/s]\n",
      "100%|██████████| 140/140 [00:01<00:00, 101.27it/s]\n"
     ]
    },
    {
     "name": "stdout",
     "output_type": "stream",
     "text": [
      "Epoch 37/50, Train Loss: 1.1682, Train Accuracy: 0.8781, Test Loss: 1.4196, Test Accuracy: 0.6160\n",
      "Epoch 37\n"
     ]
    },
    {
     "name": "stderr",
     "output_type": "stream",
     "text": [
      "100%|██████████| 325/325 [00:07<00:00, 43.72it/s]\n",
      "100%|██████████| 140/140 [00:01<00:00, 111.63it/s]\n"
     ]
    },
    {
     "name": "stdout",
     "output_type": "stream",
     "text": [
      "Epoch 38/50, Train Loss: 1.1656, Train Accuracy: 0.8787, Test Loss: 1.3771, Test Accuracy: 0.6653\n",
      "Epoch 38\n"
     ]
    },
    {
     "name": "stderr",
     "output_type": "stream",
     "text": [
      "100%|██████████| 325/325 [00:07<00:00, 43.20it/s]\n",
      "100%|██████████| 140/140 [00:01<00:00, 110.93it/s]\n"
     ]
    },
    {
     "name": "stdout",
     "output_type": "stream",
     "text": [
      "Epoch 39/50, Train Loss: 1.1621, Train Accuracy: 0.8846, Test Loss: 1.4027, Test Accuracy: 0.6371\n",
      "Epoch 39\n"
     ]
    },
    {
     "name": "stderr",
     "output_type": "stream",
     "text": [
      "100%|██████████| 325/325 [00:07<00:00, 43.28it/s]\n",
      "100%|██████████| 140/140 [00:01<00:00, 112.01it/s]\n"
     ]
    },
    {
     "name": "stdout",
     "output_type": "stream",
     "text": [
      "Epoch 40/50, Train Loss: 1.1637, Train Accuracy: 0.8838, Test Loss: 1.3489, Test Accuracy: 0.6940\n",
      "Epoch 40\n"
     ]
    },
    {
     "name": "stderr",
     "output_type": "stream",
     "text": [
      "100%|██████████| 325/325 [00:07<00:00, 42.95it/s]\n",
      "100%|██████████| 140/140 [00:01<00:00, 108.98it/s]\n"
     ]
    },
    {
     "name": "stdout",
     "output_type": "stream",
     "text": [
      "Epoch 41/50, Train Loss: 1.1526, Train Accuracy: 0.8929, Test Loss: 1.3690, Test Accuracy: 0.6671\n",
      "Epoch 41\n"
     ]
    },
    {
     "name": "stderr",
     "output_type": "stream",
     "text": [
      "100%|██████████| 325/325 [00:07<00:00, 43.20it/s]\n",
      "100%|██████████| 140/140 [00:01<00:00, 109.95it/s]\n"
     ]
    },
    {
     "name": "stdout",
     "output_type": "stream",
     "text": [
      "Epoch 42/50, Train Loss: 1.1503, Train Accuracy: 0.8965, Test Loss: 1.3563, Test Accuracy: 0.6860\n",
      "Epoch 42\n"
     ]
    },
    {
     "name": "stderr",
     "output_type": "stream",
     "text": [
      "100%|██████████| 325/325 [00:07<00:00, 43.41it/s]\n",
      "100%|██████████| 140/140 [00:01<00:00, 100.58it/s]\n"
     ]
    },
    {
     "name": "stdout",
     "output_type": "stream",
     "text": [
      "Epoch 43/50, Train Loss: 1.1556, Train Accuracy: 0.8898, Test Loss: 1.3761, Test Accuracy: 0.6622\n",
      "Epoch 43\n"
     ]
    },
    {
     "name": "stderr",
     "output_type": "stream",
     "text": [
      "100%|██████████| 325/325 [00:07<00:00, 43.24it/s]\n",
      "100%|██████████| 140/140 [00:01<00:00, 111.95it/s]\n"
     ]
    },
    {
     "name": "stdout",
     "output_type": "stream",
     "text": [
      "Epoch 44/50, Train Loss: 1.1413, Train Accuracy: 0.9044, Test Loss: 1.3668, Test Accuracy: 0.6765\n",
      "Epoch 44\n"
     ]
    },
    {
     "name": "stderr",
     "output_type": "stream",
     "text": [
      "100%|██████████| 325/325 [00:07<00:00, 43.49it/s]\n",
      "100%|██████████| 140/140 [00:01<00:00, 111.08it/s]\n"
     ]
    },
    {
     "name": "stdout",
     "output_type": "stream",
     "text": [
      "Epoch 45/50, Train Loss: 1.1487, Train Accuracy: 0.8962, Test Loss: 1.3873, Test Accuracy: 0.6501\n",
      "Epoch 45\n"
     ]
    },
    {
     "name": "stderr",
     "output_type": "stream",
     "text": [
      "100%|██████████| 325/325 [00:07<00:00, 42.65it/s]\n",
      "100%|██████████| 140/140 [00:01<00:00, 101.19it/s]\n"
     ]
    },
    {
     "name": "stdout",
     "output_type": "stream",
     "text": [
      "Epoch 46/50, Train Loss: 1.1488, Train Accuracy: 0.8965, Test Loss: 1.3852, Test Accuracy: 0.6550\n",
      "Epoch 46\n"
     ]
    },
    {
     "name": "stderr",
     "output_type": "stream",
     "text": [
      "100%|██████████| 325/325 [00:07<00:00, 43.20it/s]\n",
      "100%|██████████| 140/140 [00:01<00:00, 112.12it/s]\n"
     ]
    },
    {
     "name": "stdout",
     "output_type": "stream",
     "text": [
      "Epoch 47/50, Train Loss: 1.1395, Train Accuracy: 0.9081, Test Loss: 1.3920, Test Accuracy: 0.6510\n",
      "Epoch 47\n"
     ]
    },
    {
     "name": "stderr",
     "output_type": "stream",
     "text": [
      "100%|██████████| 325/325 [00:07<00:00, 43.04it/s]\n",
      "100%|██████████| 140/140 [00:01<00:00, 109.52it/s]\n"
     ]
    },
    {
     "name": "stdout",
     "output_type": "stream",
     "text": [
      "Epoch 48/50, Train Loss: 1.1382, Train Accuracy: 0.9094, Test Loss: 1.3807, Test Accuracy: 0.6555\n",
      "Epoch 48\n"
     ]
    },
    {
     "name": "stderr",
     "output_type": "stream",
     "text": [
      "100%|██████████| 325/325 [00:07<00:00, 43.24it/s]\n",
      "100%|██████████| 140/140 [00:01<00:00, 110.96it/s]\n"
     ]
    },
    {
     "name": "stdout",
     "output_type": "stream",
     "text": [
      "Epoch 49/50, Train Loss: 1.1312, Train Accuracy: 0.9152, Test Loss: 1.3782, Test Accuracy: 0.6599\n",
      "Epoch 49\n"
     ]
    },
    {
     "name": "stderr",
     "output_type": "stream",
     "text": [
      "100%|██████████| 325/325 [00:07<00:00, 43.01it/s]\n",
      "100%|██████████| 140/140 [00:01<00:00, 110.70it/s]\n"
     ]
    },
    {
     "name": "stdout",
     "output_type": "stream",
     "text": [
      "Epoch 50/50, Train Loss: 1.1321, Train Accuracy: 0.9108, Test Loss: 1.4340, Test Accuracy: 0.6043\n",
      "Batch size: 32 Num of Epochs: 50 lr: 0.0001\n",
      "Epoch 0\n"
     ]
    },
    {
     "name": "stderr",
     "output_type": "stream",
     "text": [
      "100%|██████████| 163/163 [00:05<00:00, 31.49it/s]\n",
      "100%|██████████| 70/70 [00:00<00:00, 73.96it/s]\n"
     ]
    },
    {
     "name": "stdout",
     "output_type": "stream",
     "text": [
      "Epoch 1/50, Train Loss: 1.7145, Train Accuracy: 0.2990, Test Loss: 1.7752, Test Accuracy: 0.2508\n",
      "Epoch 1\n"
     ]
    },
    {
     "name": "stderr",
     "output_type": "stream",
     "text": [
      "100%|██████████| 163/163 [00:05<00:00, 30.83it/s]\n",
      "100%|██████████| 70/70 [00:01<00:00, 66.85it/s]\n"
     ]
    },
    {
     "name": "stdout",
     "output_type": "stream",
     "text": [
      "Epoch 2/50, Train Loss: 1.6167, Train Accuracy: 0.4123, Test Loss: 1.6886, Test Accuracy: 0.3248\n",
      "Epoch 2\n"
     ]
    },
    {
     "name": "stderr",
     "output_type": "stream",
     "text": [
      "100%|██████████| 163/163 [00:05<00:00, 30.18it/s]\n",
      "100%|██████████| 70/70 [00:01<00:00, 67.51it/s]\n"
     ]
    },
    {
     "name": "stdout",
     "output_type": "stream",
     "text": [
      "Epoch 3/50, Train Loss: 1.5745, Train Accuracy: 0.4619, Test Loss: 1.6153, Test Accuracy: 0.4100\n",
      "Epoch 3\n"
     ]
    },
    {
     "name": "stderr",
     "output_type": "stream",
     "text": [
      "100%|██████████| 163/163 [00:05<00:00, 30.66it/s]\n",
      "100%|██████████| 70/70 [00:01<00:00, 67.28it/s]\n"
     ]
    },
    {
     "name": "stdout",
     "output_type": "stream",
     "text": [
      "Epoch 4/50, Train Loss: 1.5465, Train Accuracy: 0.4885, Test Loss: 1.5903, Test Accuracy: 0.4374\n",
      "Epoch 4\n"
     ]
    },
    {
     "name": "stderr",
     "output_type": "stream",
     "text": [
      "100%|██████████| 163/163 [00:05<00:00, 30.50it/s]\n",
      "100%|██████████| 70/70 [00:01<00:00, 67.68it/s]\n"
     ]
    },
    {
     "name": "stdout",
     "output_type": "stream",
     "text": [
      "Epoch 5/50, Train Loss: 1.5067, Train Accuracy: 0.5288, Test Loss: 1.5392, Test Accuracy: 0.4944\n",
      "Epoch 5\n"
     ]
    },
    {
     "name": "stderr",
     "output_type": "stream",
     "text": [
      "100%|██████████| 163/163 [00:05<00:00, 30.09it/s]\n",
      "100%|██████████| 70/70 [00:01<00:00, 67.57it/s]\n"
     ]
    },
    {
     "name": "stdout",
     "output_type": "stream",
     "text": [
      "Epoch 6/50, Train Loss: 1.4807, Train Accuracy: 0.5610, Test Loss: 1.5317, Test Accuracy: 0.5052\n",
      "Epoch 6\n"
     ]
    },
    {
     "name": "stderr",
     "output_type": "stream",
     "text": [
      "100%|██████████| 163/163 [00:05<00:00, 30.53it/s]\n",
      "100%|██████████| 70/70 [00:01<00:00, 67.53it/s]\n"
     ]
    },
    {
     "name": "stdout",
     "output_type": "stream",
     "text": [
      "Epoch 7/50, Train Loss: 1.4435, Train Accuracy: 0.5992, Test Loss: 1.5176, Test Accuracy: 0.5146\n",
      "Epoch 7\n"
     ]
    },
    {
     "name": "stderr",
     "output_type": "stream",
     "text": [
      "100%|██████████| 163/163 [00:05<00:00, 30.46it/s]\n",
      "100%|██████████| 70/70 [00:01<00:00, 66.72it/s]\n"
     ]
    },
    {
     "name": "stdout",
     "output_type": "stream",
     "text": [
      "Epoch 8/50, Train Loss: 1.4369, Train Accuracy: 0.6044, Test Loss: 1.4879, Test Accuracy: 0.5514\n",
      "Epoch 8\n"
     ]
    },
    {
     "name": "stderr",
     "output_type": "stream",
     "text": [
      "100%|██████████| 163/163 [00:05<00:00, 30.72it/s]\n",
      "100%|██████████| 70/70 [00:01<00:00, 66.69it/s]\n"
     ]
    },
    {
     "name": "stdout",
     "output_type": "stream",
     "text": [
      "Epoch 9/50, Train Loss: 1.4120, Train Accuracy: 0.6323, Test Loss: 1.5432, Test Accuracy: 0.4818\n",
      "Epoch 9\n"
     ]
    },
    {
     "name": "stderr",
     "output_type": "stream",
     "text": [
      "100%|██████████| 163/163 [00:05<00:00, 30.13it/s]\n",
      "100%|██████████| 70/70 [00:01<00:00, 67.28it/s]\n"
     ]
    },
    {
     "name": "stdout",
     "output_type": "stream",
     "text": [
      "Epoch 10/50, Train Loss: 1.3994, Train Accuracy: 0.6394, Test Loss: 1.4976, Test Accuracy: 0.5357\n",
      "Epoch 10\n"
     ]
    },
    {
     "name": "stderr",
     "output_type": "stream",
     "text": [
      "100%|██████████| 163/163 [00:05<00:00, 29.94it/s]\n",
      "100%|██████████| 70/70 [00:01<00:00, 67.37it/s]\n"
     ]
    },
    {
     "name": "stdout",
     "output_type": "stream",
     "text": [
      "Epoch 11/50, Train Loss: 1.3911, Train Accuracy: 0.6519, Test Loss: 1.5050, Test Accuracy: 0.5289\n",
      "Epoch 11\n"
     ]
    },
    {
     "name": "stderr",
     "output_type": "stream",
     "text": [
      "100%|██████████| 163/163 [00:05<00:00, 30.30it/s]\n",
      "100%|██████████| 70/70 [00:01<00:00, 67.81it/s]\n"
     ]
    },
    {
     "name": "stdout",
     "output_type": "stream",
     "text": [
      "Epoch 12/50, Train Loss: 1.3745, Train Accuracy: 0.6667, Test Loss: 1.4612, Test Accuracy: 0.5810\n",
      "Epoch 12\n"
     ]
    },
    {
     "name": "stderr",
     "output_type": "stream",
     "text": [
      "100%|██████████| 163/163 [00:05<00:00, 30.36it/s]\n",
      "100%|██████████| 70/70 [00:01<00:00, 67.30it/s]\n"
     ]
    },
    {
     "name": "stdout",
     "output_type": "stream",
     "text": [
      "Epoch 13/50, Train Loss: 1.3530, Train Accuracy: 0.6912, Test Loss: 1.4366, Test Accuracy: 0.6070\n",
      "Epoch 13\n"
     ]
    },
    {
     "name": "stderr",
     "output_type": "stream",
     "text": [
      "100%|██████████| 163/163 [00:05<00:00, 30.13it/s]\n",
      "100%|██████████| 70/70 [00:01<00:00, 66.73it/s]\n"
     ]
    },
    {
     "name": "stdout",
     "output_type": "stream",
     "text": [
      "Epoch 14/50, Train Loss: 1.3462, Train Accuracy: 0.6975, Test Loss: 1.4998, Test Accuracy: 0.5321\n",
      "Epoch 14\n"
     ]
    },
    {
     "name": "stderr",
     "output_type": "stream",
     "text": [
      "100%|██████████| 163/163 [00:05<00:00, 30.18it/s]\n",
      "100%|██████████| 70/70 [00:01<00:00, 67.86it/s]\n"
     ]
    },
    {
     "name": "stdout",
     "output_type": "stream",
     "text": [
      "Epoch 15/50, Train Loss: 1.3247, Train Accuracy: 0.7194, Test Loss: 1.4124, Test Accuracy: 0.6330\n",
      "Epoch 15\n"
     ]
    },
    {
     "name": "stderr",
     "output_type": "stream",
     "text": [
      "100%|██████████| 163/163 [00:05<00:00, 30.70it/s]\n",
      "100%|██████████| 70/70 [00:01<00:00, 67.15it/s]\n"
     ]
    },
    {
     "name": "stdout",
     "output_type": "stream",
     "text": [
      "Epoch 16/50, Train Loss: 1.3097, Train Accuracy: 0.7340, Test Loss: 1.4557, Test Accuracy: 0.5783\n",
      "Epoch 16\n"
     ]
    },
    {
     "name": "stderr",
     "output_type": "stream",
     "text": [
      "100%|██████████| 163/163 [00:05<00:00, 29.99it/s]\n",
      "100%|██████████| 70/70 [00:01<00:00, 67.45it/s]\n"
     ]
    },
    {
     "name": "stdout",
     "output_type": "stream",
     "text": [
      "Epoch 17/50, Train Loss: 1.3200, Train Accuracy: 0.7221, Test Loss: 1.4054, Test Accuracy: 0.6303\n",
      "Epoch 17\n"
     ]
    },
    {
     "name": "stderr",
     "output_type": "stream",
     "text": [
      "100%|██████████| 163/163 [00:05<00:00, 30.43it/s]\n",
      "100%|██████████| 70/70 [00:01<00:00, 61.67it/s]\n"
     ]
    },
    {
     "name": "stdout",
     "output_type": "stream",
     "text": [
      "Epoch 18/50, Train Loss: 1.2934, Train Accuracy: 0.7512, Test Loss: 1.4011, Test Accuracy: 0.6348\n",
      "Epoch 18\n"
     ]
    },
    {
     "name": "stderr",
     "output_type": "stream",
     "text": [
      "100%|██████████| 163/163 [00:05<00:00, 30.58it/s]\n",
      "100%|██████████| 70/70 [00:01<00:00, 67.41it/s]\n"
     ]
    },
    {
     "name": "stdout",
     "output_type": "stream",
     "text": [
      "Epoch 19/50, Train Loss: 1.2745, Train Accuracy: 0.7721, Test Loss: 1.4801, Test Accuracy: 0.5554\n",
      "Epoch 19\n"
     ]
    },
    {
     "name": "stderr",
     "output_type": "stream",
     "text": [
      "100%|██████████| 163/163 [00:05<00:00, 29.77it/s]\n",
      "100%|██████████| 70/70 [00:01<00:00, 66.87it/s]\n"
     ]
    },
    {
     "name": "stdout",
     "output_type": "stream",
     "text": [
      "Epoch 20/50, Train Loss: 1.2737, Train Accuracy: 0.7708, Test Loss: 1.4499, Test Accuracy: 0.5864\n",
      "Epoch 20\n"
     ]
    },
    {
     "name": "stderr",
     "output_type": "stream",
     "text": [
      "100%|██████████| 163/163 [00:05<00:00, 30.53it/s]\n",
      "100%|██████████| 70/70 [00:01<00:00, 67.44it/s]\n"
     ]
    },
    {
     "name": "stdout",
     "output_type": "stream",
     "text": [
      "Epoch 21/50, Train Loss: 1.2593, Train Accuracy: 0.7863, Test Loss: 1.4335, Test Accuracy: 0.5989\n",
      "Epoch 21\n"
     ]
    },
    {
     "name": "stderr",
     "output_type": "stream",
     "text": [
      "100%|██████████| 163/163 [00:05<00:00, 30.39it/s]\n",
      "100%|██████████| 70/70 [00:01<00:00, 66.98it/s]\n"
     ]
    },
    {
     "name": "stdout",
     "output_type": "stream",
     "text": [
      "Epoch 22/50, Train Loss: 1.2553, Train Accuracy: 0.7923, Test Loss: 1.4127, Test Accuracy: 0.6245\n",
      "Epoch 22\n"
     ]
    },
    {
     "name": "stderr",
     "output_type": "stream",
     "text": [
      "100%|██████████| 163/163 [00:05<00:00, 30.40it/s]\n",
      "100%|██████████| 70/70 [00:01<00:00, 66.55it/s]\n"
     ]
    },
    {
     "name": "stdout",
     "output_type": "stream",
     "text": [
      "Epoch 23/50, Train Loss: 1.2460, Train Accuracy: 0.8008, Test Loss: 1.4188, Test Accuracy: 0.6223\n",
      "Epoch 23\n"
     ]
    },
    {
     "name": "stderr",
     "output_type": "stream",
     "text": [
      "100%|██████████| 163/163 [00:05<00:00, 29.88it/s]\n",
      "100%|██████████| 70/70 [00:01<00:00, 67.29it/s]\n"
     ]
    },
    {
     "name": "stdout",
     "output_type": "stream",
     "text": [
      "Epoch 24/50, Train Loss: 1.2318, Train Accuracy: 0.8131, Test Loss: 1.4240, Test Accuracy: 0.6097\n",
      "Epoch 24\n"
     ]
    },
    {
     "name": "stderr",
     "output_type": "stream",
     "text": [
      "100%|██████████| 163/163 [00:05<00:00, 30.13it/s]\n",
      "100%|██████████| 70/70 [00:01<00:00, 67.37it/s]\n"
     ]
    },
    {
     "name": "stdout",
     "output_type": "stream",
     "text": [
      "Epoch 25/50, Train Loss: 1.2257, Train Accuracy: 0.8208, Test Loss: 1.4178, Test Accuracy: 0.6205\n",
      "Epoch 25\n"
     ]
    },
    {
     "name": "stderr",
     "output_type": "stream",
     "text": [
      "100%|██████████| 163/163 [00:05<00:00, 30.59it/s]\n",
      "100%|██████████| 70/70 [00:01<00:00, 67.42it/s]\n"
     ]
    },
    {
     "name": "stdout",
     "output_type": "stream",
     "text": [
      "Epoch 26/50, Train Loss: 1.2193, Train Accuracy: 0.8271, Test Loss: 1.4137, Test Accuracy: 0.6236\n",
      "Epoch 26\n"
     ]
    },
    {
     "name": "stderr",
     "output_type": "stream",
     "text": [
      "100%|██████████| 163/163 [00:05<00:00, 30.11it/s]\n",
      "100%|██████████| 70/70 [00:01<00:00, 66.61it/s]\n"
     ]
    },
    {
     "name": "stdout",
     "output_type": "stream",
     "text": [
      "Epoch 27/50, Train Loss: 1.2011, Train Accuracy: 0.8458, Test Loss: 1.3865, Test Accuracy: 0.6496\n",
      "Epoch 27\n"
     ]
    },
    {
     "name": "stderr",
     "output_type": "stream",
     "text": [
      "100%|██████████| 163/163 [00:05<00:00, 29.86it/s]\n",
      "100%|██████████| 70/70 [00:01<00:00, 67.22it/s]\n"
     ]
    },
    {
     "name": "stdout",
     "output_type": "stream",
     "text": [
      "Epoch 28/50, Train Loss: 1.1963, Train Accuracy: 0.8512, Test Loss: 1.3911, Test Accuracy: 0.6451\n",
      "Epoch 28\n"
     ]
    },
    {
     "name": "stderr",
     "output_type": "stream",
     "text": [
      "100%|██████████| 163/163 [00:05<00:00, 30.49it/s]\n",
      "100%|██████████| 70/70 [00:01<00:00, 66.64it/s]\n"
     ]
    },
    {
     "name": "stdout",
     "output_type": "stream",
     "text": [
      "Epoch 29/50, Train Loss: 1.2028, Train Accuracy: 0.8425, Test Loss: 1.3803, Test Accuracy: 0.6555\n",
      "Epoch 29\n"
     ]
    },
    {
     "name": "stderr",
     "output_type": "stream",
     "text": [
      "100%|██████████| 163/163 [00:05<00:00, 30.11it/s]\n",
      "100%|██████████| 70/70 [00:01<00:00, 67.44it/s]\n"
     ]
    },
    {
     "name": "stdout",
     "output_type": "stream",
     "text": [
      "Epoch 30/50, Train Loss: 1.1999, Train Accuracy: 0.8450, Test Loss: 1.3965, Test Accuracy: 0.6397\n",
      "Epoch 30\n"
     ]
    },
    {
     "name": "stderr",
     "output_type": "stream",
     "text": [
      "100%|██████████| 163/163 [00:05<00:00, 30.52it/s]\n",
      "100%|██████████| 70/70 [00:01<00:00, 60.42it/s]\n"
     ]
    },
    {
     "name": "stdout",
     "output_type": "stream",
     "text": [
      "Epoch 31/50, Train Loss: 1.1917, Train Accuracy: 0.8537, Test Loss: 1.3735, Test Accuracy: 0.6631\n",
      "Epoch 31\n"
     ]
    },
    {
     "name": "stderr",
     "output_type": "stream",
     "text": [
      "100%|██████████| 163/163 [00:05<00:00, 29.71it/s]\n",
      "100%|██████████| 70/70 [00:01<00:00, 67.10it/s]\n"
     ]
    },
    {
     "name": "stdout",
     "output_type": "stream",
     "text": [
      "Epoch 32/50, Train Loss: 1.1824, Train Accuracy: 0.8629, Test Loss: 1.3878, Test Accuracy: 0.6478\n",
      "Epoch 32\n"
     ]
    },
    {
     "name": "stderr",
     "output_type": "stream",
     "text": [
      "100%|██████████| 163/163 [00:05<00:00, 30.39it/s]\n",
      "100%|██████████| 70/70 [00:01<00:00, 66.20it/s]\n"
     ]
    },
    {
     "name": "stdout",
     "output_type": "stream",
     "text": [
      "Epoch 33/50, Train Loss: 1.1780, Train Accuracy: 0.8660, Test Loss: 1.3847, Test Accuracy: 0.6568\n",
      "Epoch 33\n"
     ]
    },
    {
     "name": "stderr",
     "output_type": "stream",
     "text": [
      "100%|██████████| 163/163 [00:05<00:00, 30.36it/s]\n",
      "100%|██████████| 70/70 [00:01<00:00, 67.02it/s]\n"
     ]
    },
    {
     "name": "stdout",
     "output_type": "stream",
     "text": [
      "Epoch 34/50, Train Loss: 1.1693, Train Accuracy: 0.8794, Test Loss: 1.3804, Test Accuracy: 0.6622\n",
      "Epoch 34\n"
     ]
    },
    {
     "name": "stderr",
     "output_type": "stream",
     "text": [
      "100%|██████████| 163/163 [00:05<00:00, 30.57it/s]\n",
      "100%|██████████| 70/70 [00:01<00:00, 61.80it/s]\n"
     ]
    },
    {
     "name": "stdout",
     "output_type": "stream",
     "text": [
      "Epoch 35/50, Train Loss: 1.1638, Train Accuracy: 0.8827, Test Loss: 1.3953, Test Accuracy: 0.6451\n",
      "Epoch 35\n"
     ]
    },
    {
     "name": "stderr",
     "output_type": "stream",
     "text": [
      "100%|██████████| 163/163 [00:05<00:00, 30.53it/s]\n",
      "100%|██████████| 70/70 [00:01<00:00, 66.59it/s]\n"
     ]
    },
    {
     "name": "stdout",
     "output_type": "stream",
     "text": [
      "Epoch 36/50, Train Loss: 1.1560, Train Accuracy: 0.8896, Test Loss: 1.3859, Test Accuracy: 0.6523\n",
      "Epoch 36\n"
     ]
    },
    {
     "name": "stderr",
     "output_type": "stream",
     "text": [
      "100%|██████████| 163/163 [00:05<00:00, 30.15it/s]\n",
      "100%|██████████| 70/70 [00:01<00:00, 67.26it/s]\n"
     ]
    },
    {
     "name": "stdout",
     "output_type": "stream",
     "text": [
      "Epoch 37/50, Train Loss: 1.1537, Train Accuracy: 0.8892, Test Loss: 1.3921, Test Accuracy: 0.6447\n",
      "Epoch 37\n"
     ]
    },
    {
     "name": "stderr",
     "output_type": "stream",
     "text": [
      "100%|██████████| 163/163 [00:05<00:00, 30.44it/s]\n",
      "100%|██████████| 70/70 [00:01<00:00, 66.98it/s]\n"
     ]
    },
    {
     "name": "stdout",
     "output_type": "stream",
     "text": [
      "Epoch 38/50, Train Loss: 1.1422, Train Accuracy: 0.9037, Test Loss: 1.3789, Test Accuracy: 0.6617\n",
      "Epoch 38\n"
     ]
    },
    {
     "name": "stderr",
     "output_type": "stream",
     "text": [
      "100%|██████████| 163/163 [00:05<00:00, 30.20it/s]\n",
      "100%|██████████| 70/70 [00:01<00:00, 66.58it/s]\n"
     ]
    },
    {
     "name": "stdout",
     "output_type": "stream",
     "text": [
      "Epoch 39/50, Train Loss: 1.1426, Train Accuracy: 0.9042, Test Loss: 1.3791, Test Accuracy: 0.6581\n",
      "Epoch 39\n"
     ]
    },
    {
     "name": "stderr",
     "output_type": "stream",
     "text": [
      "100%|██████████| 163/163 [00:05<00:00, 30.24it/s]\n",
      "100%|██████████| 70/70 [00:01<00:00, 67.39it/s]\n"
     ]
    },
    {
     "name": "stdout",
     "output_type": "stream",
     "text": [
      "Epoch 40/50, Train Loss: 1.1390, Train Accuracy: 0.9098, Test Loss: 1.3678, Test Accuracy: 0.6685\n",
      "Epoch 40\n"
     ]
    },
    {
     "name": "stderr",
     "output_type": "stream",
     "text": [
      "100%|██████████| 163/163 [00:05<00:00, 30.39it/s]\n",
      "100%|██████████| 70/70 [00:01<00:00, 67.35it/s]\n"
     ]
    },
    {
     "name": "stdout",
     "output_type": "stream",
     "text": [
      "Epoch 41/50, Train Loss: 1.1469, Train Accuracy: 0.8983, Test Loss: 1.3778, Test Accuracy: 0.6599\n",
      "Epoch 41\n"
     ]
    },
    {
     "name": "stderr",
     "output_type": "stream",
     "text": [
      "100%|██████████| 163/163 [00:05<00:00, 30.33it/s]\n",
      "100%|██████████| 70/70 [00:01<00:00, 67.29it/s]\n"
     ]
    },
    {
     "name": "stdout",
     "output_type": "stream",
     "text": [
      "Epoch 42/50, Train Loss: 1.1469, Train Accuracy: 0.8994, Test Loss: 1.3937, Test Accuracy: 0.6420\n",
      "Epoch 42\n"
     ]
    },
    {
     "name": "stderr",
     "output_type": "stream",
     "text": [
      "100%|██████████| 163/163 [00:05<00:00, 30.38it/s]\n",
      "100%|██████████| 70/70 [00:01<00:00, 67.01it/s]\n"
     ]
    },
    {
     "name": "stdout",
     "output_type": "stream",
     "text": [
      "Epoch 43/50, Train Loss: 1.1456, Train Accuracy: 0.8987, Test Loss: 1.4075, Test Accuracy: 0.6299\n",
      "Epoch 43\n"
     ]
    },
    {
     "name": "stderr",
     "output_type": "stream",
     "text": [
      "100%|██████████| 163/163 [00:05<00:00, 30.16it/s]\n",
      "100%|██████████| 70/70 [00:01<00:00, 67.35it/s]\n"
     ]
    },
    {
     "name": "stdout",
     "output_type": "stream",
     "text": [
      "Epoch 44/50, Train Loss: 1.1423, Train Accuracy: 0.9023, Test Loss: 1.3675, Test Accuracy: 0.6716\n",
      "Epoch 44\n"
     ]
    },
    {
     "name": "stderr",
     "output_type": "stream",
     "text": [
      "100%|██████████| 163/163 [00:05<00:00, 29.57it/s]\n",
      "100%|██████████| 70/70 [00:01<00:00, 66.99it/s]\n"
     ]
    },
    {
     "name": "stdout",
     "output_type": "stream",
     "text": [
      "Epoch 45/50, Train Loss: 1.1427, Train Accuracy: 0.9044, Test Loss: 1.3922, Test Accuracy: 0.6456\n",
      "Epoch 45\n"
     ]
    },
    {
     "name": "stderr",
     "output_type": "stream",
     "text": [
      "100%|██████████| 163/163 [00:05<00:00, 29.93it/s]\n",
      "100%|██████████| 70/70 [00:01<00:00, 66.68it/s]\n"
     ]
    },
    {
     "name": "stdout",
     "output_type": "stream",
     "text": [
      "Epoch 46/50, Train Loss: 1.1336, Train Accuracy: 0.9129, Test Loss: 1.3745, Test Accuracy: 0.6617\n",
      "Epoch 46\n"
     ]
    },
    {
     "name": "stderr",
     "output_type": "stream",
     "text": [
      "100%|██████████| 163/163 [00:05<00:00, 30.27it/s]\n",
      "100%|██████████| 70/70 [00:01<00:00, 66.82it/s]\n"
     ]
    },
    {
     "name": "stdout",
     "output_type": "stream",
     "text": [
      "Epoch 47/50, Train Loss: 1.1225, Train Accuracy: 0.9240, Test Loss: 1.3867, Test Accuracy: 0.6528\n",
      "Epoch 47\n"
     ]
    },
    {
     "name": "stderr",
     "output_type": "stream",
     "text": [
      "100%|██████████| 163/163 [00:05<00:00, 29.85it/s]\n",
      "100%|██████████| 70/70 [00:01<00:00, 60.55it/s]\n"
     ]
    },
    {
     "name": "stdout",
     "output_type": "stream",
     "text": [
      "Epoch 48/50, Train Loss: 1.1171, Train Accuracy: 0.9306, Test Loss: 1.3869, Test Accuracy: 0.6519\n",
      "Epoch 48\n"
     ]
    },
    {
     "name": "stderr",
     "output_type": "stream",
     "text": [
      "100%|██████████| 163/163 [00:05<00:00, 30.12it/s]\n",
      "100%|██████████| 70/70 [00:01<00:00, 66.61it/s]\n"
     ]
    },
    {
     "name": "stdout",
     "output_type": "stream",
     "text": [
      "Epoch 49/50, Train Loss: 1.1151, Train Accuracy: 0.9279, Test Loss: 1.3942, Test Accuracy: 0.6474\n",
      "Epoch 49\n"
     ]
    },
    {
     "name": "stderr",
     "output_type": "stream",
     "text": [
      "100%|██████████| 163/163 [00:05<00:00, 30.14it/s]\n",
      "100%|██████████| 70/70 [00:01<00:00, 66.73it/s]\n"
     ]
    },
    {
     "name": "stdout",
     "output_type": "stream",
     "text": [
      "Epoch 50/50, Train Loss: 1.1200, Train Accuracy: 0.9258, Test Loss: 1.3891, Test Accuracy: 0.6492\n",
      "Batch size: 64 Num of Epochs: 50 lr: 0.0001\n",
      "Epoch 0\n"
     ]
    },
    {
     "name": "stderr",
     "output_type": "stream",
     "text": [
      "100%|██████████| 82/82 [00:04<00:00, 18.54it/s]\n",
      "100%|██████████| 35/35 [00:00<00:00, 36.83it/s]\n"
     ]
    },
    {
     "name": "stdout",
     "output_type": "stream",
     "text": [
      "Epoch 1/50, Train Loss: 1.6967, Train Accuracy: 0.3192, Test Loss: 1.6919, Test Accuracy: 0.3208\n",
      "Epoch 1\n"
     ]
    },
    {
     "name": "stderr",
     "output_type": "stream",
     "text": [
      "100%|██████████| 82/82 [00:04<00:00, 18.52it/s]\n",
      "100%|██████████| 35/35 [00:00<00:00, 36.27it/s]\n"
     ]
    },
    {
     "name": "stdout",
     "output_type": "stream",
     "text": [
      "Epoch 2/50, Train Loss: 1.5977, Train Accuracy: 0.4350, Test Loss: 1.6736, Test Accuracy: 0.3459\n",
      "Epoch 2\n"
     ]
    },
    {
     "name": "stderr",
     "output_type": "stream",
     "text": [
      "100%|██████████| 82/82 [00:04<00:00, 18.53it/s]\n",
      "100%|██████████| 35/35 [00:00<00:00, 36.12it/s]\n"
     ]
    },
    {
     "name": "stdout",
     "output_type": "stream",
     "text": [
      "Epoch 3/50, Train Loss: 1.5590, Train Accuracy: 0.4752, Test Loss: 1.5853, Test Accuracy: 0.4401\n",
      "Epoch 3\n"
     ]
    },
    {
     "name": "stderr",
     "output_type": "stream",
     "text": [
      "100%|██████████| 82/82 [00:04<00:00, 18.44it/s]\n",
      "100%|██████████| 35/35 [00:00<00:00, 35.95it/s]\n"
     ]
    },
    {
     "name": "stdout",
     "output_type": "stream",
     "text": [
      "Epoch 4/50, Train Loss: 1.5161, Train Accuracy: 0.5248, Test Loss: 1.7266, Test Accuracy: 0.3024\n",
      "Epoch 4\n"
     ]
    },
    {
     "name": "stderr",
     "output_type": "stream",
     "text": [
      "100%|██████████| 82/82 [00:04<00:00, 18.51it/s]\n",
      "100%|██████████| 35/35 [00:00<00:00, 36.73it/s]\n"
     ]
    },
    {
     "name": "stdout",
     "output_type": "stream",
     "text": [
      "Epoch 5/50, Train Loss: 1.4831, Train Accuracy: 0.5623, Test Loss: 1.5076, Test Accuracy: 0.5267\n",
      "Epoch 5\n"
     ]
    },
    {
     "name": "stderr",
     "output_type": "stream",
     "text": [
      "100%|██████████| 82/82 [00:04<00:00, 18.48it/s]\n",
      "100%|██████████| 35/35 [00:00<00:00, 36.32it/s]\n"
     ]
    },
    {
     "name": "stdout",
     "output_type": "stream",
     "text": [
      "Epoch 6/50, Train Loss: 1.4528, Train Accuracy: 0.5912, Test Loss: 1.5065, Test Accuracy: 0.5236\n",
      "Epoch 6\n"
     ]
    },
    {
     "name": "stderr",
     "output_type": "stream",
     "text": [
      "100%|██████████| 82/82 [00:04<00:00, 18.49it/s]\n",
      "100%|██████████| 35/35 [00:00<00:00, 36.61it/s]\n"
     ]
    },
    {
     "name": "stdout",
     "output_type": "stream",
     "text": [
      "Epoch 7/50, Train Loss: 1.4166, Train Accuracy: 0.6302, Test Loss: 1.4891, Test Accuracy: 0.5509\n",
      "Epoch 7\n"
     ]
    },
    {
     "name": "stderr",
     "output_type": "stream",
     "text": [
      "100%|██████████| 82/82 [00:04<00:00, 18.55it/s]\n",
      "100%|██████████| 35/35 [00:00<00:00, 36.54it/s]\n"
     ]
    },
    {
     "name": "stdout",
     "output_type": "stream",
     "text": [
      "Epoch 8/50, Train Loss: 1.4187, Train Accuracy: 0.6219, Test Loss: 1.5178, Test Accuracy: 0.5195\n",
      "Epoch 8\n"
     ]
    },
    {
     "name": "stderr",
     "output_type": "stream",
     "text": [
      "100%|██████████| 82/82 [00:04<00:00, 18.34it/s]\n",
      "100%|██████████| 35/35 [00:00<00:00, 36.18it/s]\n"
     ]
    },
    {
     "name": "stdout",
     "output_type": "stream",
     "text": [
      "Epoch 9/50, Train Loss: 1.3763, Train Accuracy: 0.6748, Test Loss: 1.5590, Test Accuracy: 0.4751\n",
      "Epoch 9\n"
     ]
    },
    {
     "name": "stderr",
     "output_type": "stream",
     "text": [
      "100%|██████████| 82/82 [00:04<00:00, 18.55it/s]\n",
      "100%|██████████| 35/35 [00:01<00:00, 34.80it/s]\n"
     ]
    },
    {
     "name": "stdout",
     "output_type": "stream",
     "text": [
      "Epoch 10/50, Train Loss: 1.3697, Train Accuracy: 0.6733, Test Loss: 1.4510, Test Accuracy: 0.5850\n",
      "Epoch 10\n"
     ]
    },
    {
     "name": "stderr",
     "output_type": "stream",
     "text": [
      "100%|██████████| 82/82 [00:04<00:00, 18.59it/s]\n",
      "100%|██████████| 35/35 [00:00<00:00, 36.50it/s]\n"
     ]
    },
    {
     "name": "stdout",
     "output_type": "stream",
     "text": [
      "Epoch 11/50, Train Loss: 1.3536, Train Accuracy: 0.6933, Test Loss: 1.4908, Test Accuracy: 0.5491\n",
      "Epoch 11\n"
     ]
    },
    {
     "name": "stderr",
     "output_type": "stream",
     "text": [
      "100%|██████████| 82/82 [00:04<00:00, 18.49it/s]\n",
      "100%|██████████| 35/35 [00:01<00:00, 33.73it/s]\n"
     ]
    },
    {
     "name": "stdout",
     "output_type": "stream",
     "text": [
      "Epoch 12/50, Train Loss: 1.3357, Train Accuracy: 0.7113, Test Loss: 1.4992, Test Accuracy: 0.5388\n",
      "Epoch 12\n"
     ]
    },
    {
     "name": "stderr",
     "output_type": "stream",
     "text": [
      "100%|██████████| 82/82 [00:04<00:00, 18.58it/s]\n",
      "100%|██████████| 35/35 [00:00<00:00, 36.80it/s]\n"
     ]
    },
    {
     "name": "stdout",
     "output_type": "stream",
     "text": [
      "Epoch 13/50, Train Loss: 1.3323, Train Accuracy: 0.7138, Test Loss: 1.4626, Test Accuracy: 0.5689\n",
      "Epoch 13\n"
     ]
    },
    {
     "name": "stderr",
     "output_type": "stream",
     "text": [
      "100%|██████████| 82/82 [00:04<00:00, 18.26it/s]\n",
      "100%|██████████| 35/35 [00:00<00:00, 36.70it/s]\n"
     ]
    },
    {
     "name": "stdout",
     "output_type": "stream",
     "text": [
      "Epoch 14/50, Train Loss: 1.3158, Train Accuracy: 0.7348, Test Loss: 1.4408, Test Accuracy: 0.5998\n",
      "Epoch 14\n"
     ]
    },
    {
     "name": "stderr",
     "output_type": "stream",
     "text": [
      "100%|██████████| 82/82 [00:04<00:00, 18.52it/s]\n",
      "100%|██████████| 35/35 [00:00<00:00, 36.58it/s]\n"
     ]
    },
    {
     "name": "stdout",
     "output_type": "stream",
     "text": [
      "Epoch 15/50, Train Loss: 1.2966, Train Accuracy: 0.7519, Test Loss: 1.4327, Test Accuracy: 0.6030\n",
      "Epoch 15\n"
     ]
    },
    {
     "name": "stderr",
     "output_type": "stream",
     "text": [
      "100%|██████████| 82/82 [00:04<00:00, 18.37it/s]\n",
      "100%|██████████| 35/35 [00:00<00:00, 35.93it/s]\n"
     ]
    },
    {
     "name": "stdout",
     "output_type": "stream",
     "text": [
      "Epoch 16/50, Train Loss: 1.2824, Train Accuracy: 0.7640, Test Loss: 1.4857, Test Accuracy: 0.5523\n",
      "Epoch 16\n"
     ]
    },
    {
     "name": "stderr",
     "output_type": "stream",
     "text": [
      "100%|██████████| 82/82 [00:04<00:00, 18.50it/s]\n",
      "100%|██████████| 35/35 [00:00<00:00, 36.35it/s]\n"
     ]
    },
    {
     "name": "stdout",
     "output_type": "stream",
     "text": [
      "Epoch 17/50, Train Loss: 1.2685, Train Accuracy: 0.7783, Test Loss: 1.4400, Test Accuracy: 0.5985\n",
      "Epoch 17\n"
     ]
    },
    {
     "name": "stderr",
     "output_type": "stream",
     "text": [
      "100%|██████████| 82/82 [00:04<00:00, 18.58it/s]\n",
      "100%|██████████| 35/35 [00:00<00:00, 36.56it/s]\n"
     ]
    },
    {
     "name": "stdout",
     "output_type": "stream",
     "text": [
      "Epoch 18/50, Train Loss: 1.2661, Train Accuracy: 0.7794, Test Loss: 1.4502, Test Accuracy: 0.5873\n",
      "Epoch 18\n"
     ]
    },
    {
     "name": "stderr",
     "output_type": "stream",
     "text": [
      "100%|██████████| 82/82 [00:04<00:00, 18.47it/s]\n",
      "100%|██████████| 35/35 [00:00<00:00, 36.70it/s]\n"
     ]
    },
    {
     "name": "stdout",
     "output_type": "stream",
     "text": [
      "Epoch 19/50, Train Loss: 1.2595, Train Accuracy: 0.7894, Test Loss: 1.4637, Test Accuracy: 0.5742\n",
      "Epoch 19\n"
     ]
    },
    {
     "name": "stderr",
     "output_type": "stream",
     "text": [
      "100%|██████████| 82/82 [00:04<00:00, 18.59it/s]\n",
      "100%|██████████| 35/35 [00:00<00:00, 36.38it/s]\n"
     ]
    },
    {
     "name": "stdout",
     "output_type": "stream",
     "text": [
      "Epoch 20/50, Train Loss: 1.2458, Train Accuracy: 0.8027, Test Loss: 1.4378, Test Accuracy: 0.6007\n",
      "Epoch 20\n"
     ]
    },
    {
     "name": "stderr",
     "output_type": "stream",
     "text": [
      "100%|██████████| 82/82 [00:04<00:00, 18.52it/s]\n",
      "100%|██████████| 35/35 [00:00<00:00, 36.64it/s]\n"
     ]
    },
    {
     "name": "stdout",
     "output_type": "stream",
     "text": [
      "Epoch 21/50, Train Loss: 1.2336, Train Accuracy: 0.8162, Test Loss: 1.4080, Test Accuracy: 0.6362\n",
      "Epoch 21\n"
     ]
    },
    {
     "name": "stderr",
     "output_type": "stream",
     "text": [
      "100%|██████████| 82/82 [00:04<00:00, 18.46it/s]\n",
      "100%|██████████| 35/35 [00:00<00:00, 36.35it/s]\n"
     ]
    },
    {
     "name": "stdout",
     "output_type": "stream",
     "text": [
      "Epoch 22/50, Train Loss: 1.2293, Train Accuracy: 0.8131, Test Loss: 1.4019, Test Accuracy: 0.6353\n",
      "Epoch 22\n"
     ]
    },
    {
     "name": "stderr",
     "output_type": "stream",
     "text": [
      "100%|██████████| 82/82 [00:04<00:00, 18.28it/s]\n",
      "100%|██████████| 35/35 [00:00<00:00, 36.64it/s]\n"
     ]
    },
    {
     "name": "stdout",
     "output_type": "stream",
     "text": [
      "Epoch 23/50, Train Loss: 1.2162, Train Accuracy: 0.8317, Test Loss: 1.4137, Test Accuracy: 0.6303\n",
      "Epoch 23\n"
     ]
    },
    {
     "name": "stderr",
     "output_type": "stream",
     "text": [
      "100%|██████████| 82/82 [00:04<00:00, 18.55it/s]\n",
      "100%|██████████| 35/35 [00:00<00:00, 36.39it/s]\n"
     ]
    },
    {
     "name": "stdout",
     "output_type": "stream",
     "text": [
      "Epoch 24/50, Train Loss: 1.2066, Train Accuracy: 0.8404, Test Loss: 1.4435, Test Accuracy: 0.5949\n",
      "Epoch 24\n"
     ]
    },
    {
     "name": "stderr",
     "output_type": "stream",
     "text": [
      "100%|██████████| 82/82 [00:04<00:00, 18.49it/s]\n",
      "100%|██████████| 35/35 [00:00<00:00, 36.63it/s]\n"
     ]
    },
    {
     "name": "stdout",
     "output_type": "stream",
     "text": [
      "Epoch 25/50, Train Loss: 1.2079, Train Accuracy: 0.8379, Test Loss: 1.4691, Test Accuracy: 0.5626\n",
      "Epoch 25\n"
     ]
    },
    {
     "name": "stderr",
     "output_type": "stream",
     "text": [
      "100%|██████████| 82/82 [00:04<00:00, 18.54it/s]\n",
      "100%|██████████| 35/35 [00:00<00:00, 36.53it/s]\n"
     ]
    },
    {
     "name": "stdout",
     "output_type": "stream",
     "text": [
      "Epoch 26/50, Train Loss: 1.1872, Train Accuracy: 0.8598, Test Loss: 1.4187, Test Accuracy: 0.6205\n",
      "Epoch 26\n"
     ]
    },
    {
     "name": "stderr",
     "output_type": "stream",
     "text": [
      "100%|██████████| 82/82 [00:04<00:00, 17.99it/s]\n",
      "100%|██████████| 35/35 [00:00<00:00, 36.51it/s]\n"
     ]
    },
    {
     "name": "stdout",
     "output_type": "stream",
     "text": [
      "Epoch 27/50, Train Loss: 1.1846, Train Accuracy: 0.8617, Test Loss: 1.4063, Test Accuracy: 0.6312\n",
      "Epoch 27\n"
     ]
    },
    {
     "name": "stderr",
     "output_type": "stream",
     "text": [
      "100%|██████████| 82/82 [00:04<00:00, 18.46it/s]\n",
      "100%|██████████| 35/35 [00:00<00:00, 35.88it/s]\n"
     ]
    },
    {
     "name": "stdout",
     "output_type": "stream",
     "text": [
      "Epoch 28/50, Train Loss: 1.1981, Train Accuracy: 0.8479, Test Loss: 1.4998, Test Accuracy: 0.5352\n",
      "Epoch 28\n"
     ]
    },
    {
     "name": "stderr",
     "output_type": "stream",
     "text": [
      "100%|██████████| 82/82 [00:04<00:00, 18.47it/s]\n",
      "100%|██████████| 35/35 [00:00<00:00, 36.14it/s]\n"
     ]
    },
    {
     "name": "stdout",
     "output_type": "stream",
     "text": [
      "Epoch 29/50, Train Loss: 1.1957, Train Accuracy: 0.8510, Test Loss: 1.4294, Test Accuracy: 0.6061\n",
      "Epoch 29\n"
     ]
    },
    {
     "name": "stderr",
     "output_type": "stream",
     "text": [
      "100%|██████████| 82/82 [00:04<00:00, 18.62it/s]\n",
      "100%|██████████| 35/35 [00:00<00:00, 36.52it/s]\n"
     ]
    },
    {
     "name": "stdout",
     "output_type": "stream",
     "text": [
      "Epoch 30/50, Train Loss: 1.1692, Train Accuracy: 0.8787, Test Loss: 1.3847, Test Accuracy: 0.6541\n",
      "Epoch 30\n"
     ]
    },
    {
     "name": "stderr",
     "output_type": "stream",
     "text": [
      "100%|██████████| 82/82 [00:04<00:00, 18.30it/s]\n",
      "100%|██████████| 35/35 [00:00<00:00, 36.64it/s]\n"
     ]
    },
    {
     "name": "stdout",
     "output_type": "stream",
     "text": [
      "Epoch 31/50, Train Loss: 1.1775, Train Accuracy: 0.8685, Test Loss: 1.3808, Test Accuracy: 0.6559\n",
      "Epoch 31\n"
     ]
    },
    {
     "name": "stderr",
     "output_type": "stream",
     "text": [
      "100%|██████████| 82/82 [00:04<00:00, 18.55it/s]\n",
      "100%|██████████| 35/35 [00:00<00:00, 36.15it/s]\n"
     ]
    },
    {
     "name": "stdout",
     "output_type": "stream",
     "text": [
      "Epoch 32/50, Train Loss: 1.1633, Train Accuracy: 0.8844, Test Loss: 1.4096, Test Accuracy: 0.6294\n",
      "Epoch 32\n"
     ]
    },
    {
     "name": "stderr",
     "output_type": "stream",
     "text": [
      "100%|██████████| 82/82 [00:04<00:00, 18.51it/s]\n",
      "100%|██████████| 35/35 [00:00<00:00, 36.23it/s]\n"
     ]
    },
    {
     "name": "stdout",
     "output_type": "stream",
     "text": [
      "Epoch 33/50, Train Loss: 1.1602, Train Accuracy: 0.8862, Test Loss: 1.4296, Test Accuracy: 0.6106\n",
      "Epoch 33\n"
     ]
    },
    {
     "name": "stderr",
     "output_type": "stream",
     "text": [
      "100%|██████████| 82/82 [00:04<00:00, 18.48it/s]\n",
      "100%|██████████| 35/35 [00:00<00:00, 36.35it/s]\n"
     ]
    },
    {
     "name": "stdout",
     "output_type": "stream",
     "text": [
      "Epoch 34/50, Train Loss: 1.1628, Train Accuracy: 0.8844, Test Loss: 1.3951, Test Accuracy: 0.6442\n",
      "Epoch 34\n"
     ]
    },
    {
     "name": "stderr",
     "output_type": "stream",
     "text": [
      "100%|██████████| 82/82 [00:04<00:00, 18.62it/s]\n",
      "100%|██████████| 35/35 [00:00<00:00, 36.83it/s]\n"
     ]
    },
    {
     "name": "stdout",
     "output_type": "stream",
     "text": [
      "Epoch 35/50, Train Loss: 1.1555, Train Accuracy: 0.8923, Test Loss: 1.3698, Test Accuracy: 0.6689\n",
      "Epoch 35\n"
     ]
    },
    {
     "name": "stderr",
     "output_type": "stream",
     "text": [
      "100%|██████████| 82/82 [00:04<00:00, 18.60it/s]\n",
      "100%|██████████| 35/35 [00:00<00:00, 36.24it/s]\n"
     ]
    },
    {
     "name": "stdout",
     "output_type": "stream",
     "text": [
      "Epoch 36/50, Train Loss: 1.1489, Train Accuracy: 0.8965, Test Loss: 1.4279, Test Accuracy: 0.6106\n",
      "Epoch 36\n"
     ]
    },
    {
     "name": "stderr",
     "output_type": "stream",
     "text": [
      "100%|██████████| 82/82 [00:04<00:00, 18.08it/s]\n",
      "100%|██████████| 35/35 [00:00<00:00, 36.21it/s]\n"
     ]
    },
    {
     "name": "stdout",
     "output_type": "stream",
     "text": [
      "Epoch 37/50, Train Loss: 1.1562, Train Accuracy: 0.8902, Test Loss: 1.4188, Test Accuracy: 0.6133\n",
      "Epoch 37\n"
     ]
    },
    {
     "name": "stderr",
     "output_type": "stream",
     "text": [
      "100%|██████████| 82/82 [00:04<00:00, 18.54it/s]\n",
      "100%|██████████| 35/35 [00:01<00:00, 32.72it/s]\n"
     ]
    },
    {
     "name": "stdout",
     "output_type": "stream",
     "text": [
      "Epoch 38/50, Train Loss: 1.1530, Train Accuracy: 0.8935, Test Loss: 1.4225, Test Accuracy: 0.6178\n",
      "Epoch 38\n"
     ]
    },
    {
     "name": "stderr",
     "output_type": "stream",
     "text": [
      "100%|██████████| 82/82 [00:04<00:00, 18.59it/s]\n",
      "100%|██████████| 35/35 [00:00<00:00, 36.39it/s]\n"
     ]
    },
    {
     "name": "stdout",
     "output_type": "stream",
     "text": [
      "Epoch 39/50, Train Loss: 1.1433, Train Accuracy: 0.9054, Test Loss: 1.3950, Test Accuracy: 0.6438\n",
      "Epoch 39\n"
     ]
    },
    {
     "name": "stderr",
     "output_type": "stream",
     "text": [
      "100%|██████████| 82/82 [00:04<00:00, 18.60it/s]\n",
      "100%|██████████| 35/35 [00:01<00:00, 34.12it/s]\n"
     ]
    },
    {
     "name": "stdout",
     "output_type": "stream",
     "text": [
      "Epoch 40/50, Train Loss: 1.1476, Train Accuracy: 0.8975, Test Loss: 1.4518, Test Accuracy: 0.5859\n",
      "Epoch 40\n"
     ]
    },
    {
     "name": "stderr",
     "output_type": "stream",
     "text": [
      "100%|██████████| 82/82 [00:04<00:00, 18.51it/s]\n",
      "100%|██████████| 35/35 [00:00<00:00, 36.63it/s]\n"
     ]
    },
    {
     "name": "stdout",
     "output_type": "stream",
     "text": [
      "Epoch 41/50, Train Loss: 1.1310, Train Accuracy: 0.9158, Test Loss: 1.3871, Test Accuracy: 0.6555\n",
      "Epoch 41\n"
     ]
    },
    {
     "name": "stderr",
     "output_type": "stream",
     "text": [
      "100%|██████████| 82/82 [00:04<00:00, 18.02it/s]\n",
      "100%|██████████| 35/35 [00:00<00:00, 36.58it/s]\n"
     ]
    },
    {
     "name": "stdout",
     "output_type": "stream",
     "text": [
      "Epoch 42/50, Train Loss: 1.1324, Train Accuracy: 0.9144, Test Loss: 1.4021, Test Accuracy: 0.6353\n",
      "Epoch 42\n"
     ]
    },
    {
     "name": "stderr",
     "output_type": "stream",
     "text": [
      "100%|██████████| 82/82 [00:04<00:00, 18.58it/s]\n",
      "100%|██████████| 35/35 [00:00<00:00, 36.02it/s]\n"
     ]
    },
    {
     "name": "stdout",
     "output_type": "stream",
     "text": [
      "Epoch 43/50, Train Loss: 1.1276, Train Accuracy: 0.9183, Test Loss: 1.3816, Test Accuracy: 0.6577\n",
      "Epoch 43\n"
     ]
    },
    {
     "name": "stderr",
     "output_type": "stream",
     "text": [
      "100%|██████████| 82/82 [00:04<00:00, 18.31it/s]\n",
      "100%|██████████| 35/35 [00:00<00:00, 36.81it/s]\n"
     ]
    },
    {
     "name": "stdout",
     "output_type": "stream",
     "text": [
      "Epoch 44/50, Train Loss: 1.1306, Train Accuracy: 0.9160, Test Loss: 1.4110, Test Accuracy: 0.6231\n",
      "Epoch 44\n"
     ]
    },
    {
     "name": "stderr",
     "output_type": "stream",
     "text": [
      "100%|██████████| 82/82 [00:04<00:00, 18.54it/s]\n",
      "100%|██████████| 35/35 [00:00<00:00, 36.37it/s]\n"
     ]
    },
    {
     "name": "stdout",
     "output_type": "stream",
     "text": [
      "Epoch 45/50, Train Loss: 1.1273, Train Accuracy: 0.9190, Test Loss: 1.3723, Test Accuracy: 0.6707\n",
      "Epoch 45\n"
     ]
    },
    {
     "name": "stderr",
     "output_type": "stream",
     "text": [
      "100%|██████████| 82/82 [00:04<00:00, 18.59it/s]\n",
      "100%|██████████| 35/35 [00:00<00:00, 36.56it/s]\n"
     ]
    },
    {
     "name": "stdout",
     "output_type": "stream",
     "text": [
      "Epoch 46/50, Train Loss: 1.1155, Train Accuracy: 0.9304, Test Loss: 1.3756, Test Accuracy: 0.6604\n",
      "Epoch 46\n"
     ]
    },
    {
     "name": "stderr",
     "output_type": "stream",
     "text": [
      "100%|██████████| 82/82 [00:04<00:00, 18.60it/s]\n",
      "100%|██████████| 35/35 [00:00<00:00, 36.80it/s]\n"
     ]
    },
    {
     "name": "stdout",
     "output_type": "stream",
     "text": [
      "Epoch 47/50, Train Loss: 1.1181, Train Accuracy: 0.9277, Test Loss: 1.4061, Test Accuracy: 0.6285\n",
      "Epoch 47\n"
     ]
    },
    {
     "name": "stderr",
     "output_type": "stream",
     "text": [
      "100%|██████████| 82/82 [00:04<00:00, 18.50it/s]\n",
      "100%|██████████| 35/35 [00:00<00:00, 36.55it/s]\n"
     ]
    },
    {
     "name": "stdout",
     "output_type": "stream",
     "text": [
      "Epoch 48/50, Train Loss: 1.1195, Train Accuracy: 0.9263, Test Loss: 1.4525, Test Accuracy: 0.5810\n",
      "Epoch 48\n"
     ]
    },
    {
     "name": "stderr",
     "output_type": "stream",
     "text": [
      "100%|██████████| 82/82 [00:04<00:00, 18.48it/s]\n",
      "100%|██████████| 35/35 [00:00<00:00, 36.26it/s]\n"
     ]
    },
    {
     "name": "stdout",
     "output_type": "stream",
     "text": [
      "Epoch 49/50, Train Loss: 1.1161, Train Accuracy: 0.9317, Test Loss: 1.3813, Test Accuracy: 0.6599\n",
      "Epoch 49\n"
     ]
    },
    {
     "name": "stderr",
     "output_type": "stream",
     "text": [
      "100%|██████████| 82/82 [00:04<00:00, 18.42it/s]\n",
      "100%|██████████| 35/35 [00:00<00:00, 35.97it/s]\n"
     ]
    },
    {
     "name": "stdout",
     "output_type": "stream",
     "text": [
      "Epoch 50/50, Train Loss: 1.1069, Train Accuracy: 0.9390, Test Loss: 1.3678, Test Accuracy: 0.6712\n",
      "\n",
      "Best Model:\n",
      "Model: Model_lr0.0001_bs64_epochs50\n",
      "Batch Size: 64\n",
      "Learning Rate: 0.0001\n",
      "Train Loss: 1.106932061268733\n",
      "Train Accuracy: 0.9390384615384615\n",
      "Test Loss: 1.3678176697726312\n",
      "Test Accuracy: 0.6711529834006281\n"
     ]
    }
   ],
   "source": [
    "if __name__ == \"__main__\":\n",
    "    num_epochs = 50 # Example values, adjust as needed\n",
    "    batch_sizes = [16, 32, 64]  # Example values, adjust as needed\n",
    "    learning_rates = [0.01, 0.001, 0.0001]\n",
    "\n",
    "    best_model_info = {}\n",
    "    results_file = 'Latest_GoogLeNet_audio_video_combined_fullscale_cnn.csv'\n",
    "\n",
    "    with open(results_file, mode='w', newline='') as csvfile:\n",
    "        fieldnames = ['Model', 'Batch Size', 'Learning Rate', 'Num Epochs',  'Train Loss', 'Train Accuracy', 'Test Loss', 'Test Accuracy']\n",
    "        writer = csv.DictWriter(csvfile, fieldnames=fieldnames)\n",
    "        writer.writeheader()\n",
    "\n",
    "        for lr in learning_rates:\n",
    "            for bs in batch_sizes:\n",
    "                # Initialize the model\n",
    "                model = CNN(num_classes=6)  \n",
    "                device = torch.device(\"cuda\" if torch.cuda.is_available() else \"cpu\")\n",
    "                model.to(device)\n",
    "\n",
    "                # Define loss function and optimizer\n",
    "                criterion = nn.CrossEntropyLoss()\n",
    "                optimizer = optim.Adam(model.parameters(), lr=lr)\n",
    "\n",
    "                    # Concatenate datasets\n",
    "                train_dataset = ConcatDataset(X_train, X_train_spec, y_train, presaved = _presaved)\n",
    "                test_dataset = ConcatDataset(X_test, X_test_spec, y_test, presaved = _presaved)\n",
    "\n",
    "                # Create data loaders\n",
    "                train_loader = torch.utils.data.DataLoader(train_dataset, batch_size=bs, shuffle=True)\n",
    "                test_loader = torch.utils.data.DataLoader(test_dataset, batch_size=bs)\n",
    "                print(f\"Batch size: {bs}\", f\"Num of Epochs: {num_epochs}\", f\"lr: {lr}\")\n",
    "                # Training loop\n",
    "                for epoch in range(num_epochs):\n",
    "                    print(\"Epoch \" + str(epoch))\n",
    "                    train_loss, train_accuracy = train_model(model, criterion, optimizer, train_loader, device)\n",
    "                  # Calculate test loss and accuracy\n",
    "                    test_loss, test_accuracy = test_model(model, criterion, test_loader, device)\n",
    "                    print(f\"Epoch {epoch+1}/{num_epochs}, Train Loss: {train_loss:.4f}, Train Accuracy: {train_accuracy:.4f}, Test Loss: {test_loss:.4f}, Test Accuracy: {test_accuracy:.4f}\")\n",
    "\n",
    "                # Write results to CSV\n",
    "                model_info = {'Model': f'Model_lr{lr}_bs{bs}_epochs{num_epochs}', 'Batch Size': bs, 'Learning Rate': lr, 'Num Epochs': num_epochs,\n",
    "                              'Train Loss': train_loss, 'Train Accuracy': train_accuracy,\n",
    "                              'Test Loss': test_loss, 'Test Accuracy': test_accuracy}\n",
    "                writer.writerow(model_info)\n",
    "\n",
    "                model_name = f'Latest_GoogLeNet_audio_video_combined_fullscale_cnn{num_epochs}_{bs}_{lr}'\n",
    "                torch.save(model.state_dict(), model_name)\n",
    "\n",
    "                # Check if this model is the best so far\n",
    "                if not best_model_info or test_accuracy > best_model_info['Test Accuracy']:\n",
    "                    best_model_info = {'Model': model_info['Model'], 'Batch Size': bs, 'Learning Rate': lr,\n",
    "                                       'Train Loss': train_loss, 'Train Accuracy': train_accuracy,\n",
    "                                       'Test Loss': test_loss, 'Test Accuracy': test_accuracy}\n",
    "\n",
    "    # Print best model\n",
    "    print(\"\\nBest Model:\")\n",
    "    for key, value in best_model_info.items():\n",
    "        print(f\"{key}: {value}\")\n"
   ]
  },
  {
   "cell_type": "code",
   "execution_count": 26,
   "metadata": {
    "id": "VIsatL11bPU_"
   },
   "outputs": [
    {
     "name": "stdout",
     "output_type": "stream",
     "text": [
      "Fin\n"
     ]
    }
   ],
   "source": [
    "print(\"Fin\")"
   ]
  },
  {
   "cell_type": "code",
   "execution_count": null,
   "metadata": {
    "id": "8WYN9KsDs8lP"
   },
   "outputs": [],
   "source": []
  }
 ],
 "metadata": {
  "accelerator": "GPU",
  "colab": {
   "gpuType": "T4",
   "provenance": []
  },
  "kernelspec": {
   "display_name": "Python 3.12.2 (default)",
   "language": "python",
   "name": "python3"
  },
  "language_info": {
   "codemirror_mode": {
    "name": "ipython",
    "version": 3
   },
   "file_extension": ".py",
   "mimetype": "text/x-python",
   "name": "python",
   "nbconvert_exporter": "python",
   "pygments_lexer": "ipython3",
   "version": "3.12.2"
  }
 },
 "nbformat": 4,
 "nbformat_minor": 4
}
