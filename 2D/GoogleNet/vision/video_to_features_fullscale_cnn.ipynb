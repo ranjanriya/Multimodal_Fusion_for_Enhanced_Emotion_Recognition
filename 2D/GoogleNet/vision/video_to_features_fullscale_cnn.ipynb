{
 "cells": [
  {
   "cell_type": "code",
   "execution_count": 1,
   "metadata": {
    "colab": {
     "base_uri": "https://localhost:8080/"
    },
    "id": "bm-A1pWMR3oa",
    "outputId": "c2b3637a-3003-4c8f-f9e5-bf432014f56f"
   },
   "outputs": [],
   "source": [
    "# from google.colab import drive\n",
    "# drive.mount('/content/drive')"
   ]
  },
  {
   "cell_type": "code",
   "execution_count": 2,
   "metadata": {
    "colab": {
     "base_uri": "https://localhost:8080/"
    },
    "id": "uNr_mImAjLT7",
    "outputId": "aea715b1-e118-4fc4-b877-7eddb206f21c"
   },
   "outputs": [],
   "source": [
    "# !python3 -m pip install facenet-pytorch\n",
    "# !python3 -m pip install face_alignment"
   ]
  },
  {
   "cell_type": "code",
   "execution_count": 1,
   "metadata": {},
   "outputs": [
    {
     "name": "stdout",
     "output_type": "stream",
     "text": [
      "7439\n"
     ]
    }
   ],
   "source": [
    "!ls 'Videos7439' | wc -l"
   ]
  },
  {
   "cell_type": "code",
   "execution_count": 2,
   "metadata": {},
   "outputs": [
    {
     "name": "stdout",
     "output_type": "stream",
     "text": [
      "7439\n"
     ]
    }
   ],
   "source": [
    "!ls 'Spectrograms7439' | wc -l"
   ]
  },
  {
   "cell_type": "code",
   "execution_count": 3,
   "metadata": {},
   "outputs": [],
   "source": [
    "videos_folder = 'Videos7439'\n",
    "spectrograms_folder = 'Spectrograms7439'"
   ]
  },
  {
   "cell_type": "code",
   "execution_count": 4,
   "metadata": {
    "id": "SP57JsruRqX5"
   },
   "outputs": [
    {
     "name": "stderr",
     "output_type": "stream",
     "text": [
      "/home1/riyaranj/.local/lib/python3.12/site-packages/tqdm/auto.py:21: TqdmWarning: IProgress not found. Please update jupyter and ipywidgets. See https://ipywidgets.readthedocs.io/en/stable/user_install.html\n",
      "  from .autonotebook import tqdm as notebook_tqdm\n"
     ]
    }
   ],
   "source": [
    "import cv2\n",
    "import os\n",
    "import sys\n",
    "import torch\n",
    "import torch.nn as nn\n",
    "import torch.optim as optim\n",
    "import torchvision.transforms as transforms\n",
    "from torchvision import models\n",
    "from PIL import Image\n",
    "from facenet_pytorch import MTCNN\n",
    "from sklearn.model_selection import train_test_split\n",
    "import numpy as np\n",
    "from tqdm import tqdm\n",
    "import face_alignment\n",
    "#import dlib\n",
    "import requests\n",
    "import csv\n",
    "import itertools\n"
   ]
  },
  {
   "cell_type": "code",
   "execution_count": 5,
   "metadata": {
    "id": "oLkWoD6pRrAb"
   },
   "outputs": [],
   "source": [
    "\n",
    "class GoogLeNetModified(models.GoogLeNet):\n",
    "    def _transform_input(self, x):\n",
    "        if x.size(1) == 1:\n",
    "            # If the input has only one channel, replicate it to create three channels\n",
    "            x = x.expand(-1, 3, -1, -1)\n",
    "\n",
    "        x_ch0 = torch.unsqueeze(x[:, 0], 1) * (0.229 / 0.5) + (0.485 - 0.5) / 0.5\n",
    "        x_ch1 = torch.unsqueeze(x[:, 1], 1) * (0.224 / 0.5) + (0.456 - 0.5) / 0.5\n",
    "        x_ch2 = torch.unsqueeze(x[:, 2], 1) * (0.225 / 0.5) + (0.406 - 0.5) / 0.5\n",
    "        x = torch.cat((x_ch0, x_ch1, x_ch2), 1)\n",
    "\n",
    "        return x\n",
    "        \n",
    "class CNN(nn.Module):\n",
    "    def __init__(self, num_classes):\n",
    "        super(CNN, self).__init__()\n",
    "        self.features = GoogLeNetModified()\n",
    "        # Modify the first layer to accept 3 channel input (for RGB images)\n",
    "        self.features.conv1 = nn.Conv2d(3, 64, kernel_size=7, stride=2, padding=3, bias=False)\n",
    "        # Modify the final layer to output the desired feature size\n",
    "        self.features.fc = nn.Linear(self.features.fc.in_features, num_classes)\n",
    "\n",
    "    def forward(self, x):\n",
    "        x = self.features(x)\n",
    "\n",
    "        # Assuming the output is a tensor inside the GoogLeNetOutputs object\n",
    "        logits_tensor = x.logits if hasattr(x, 'logits') else x  # Adjust accordingly based on the structure\n",
    "\n",
    "        # Apply softmax directly on the logits tensor\n",
    "        x_softmax = torch.nn.functional.softmax(logits_tensor, dim=1)\n",
    "        return x_softmax\n",
    "\n",
    "\n",
    "\n",
    "\n"
   ]
  },
  {
   "cell_type": "code",
   "execution_count": 6,
   "metadata": {
    "id": "gWDrEH00iv6H"
   },
   "outputs": [],
   "source": [
    "def extract_frame(video_path):\n",
    "    cap = cv2.VideoCapture(video_path)\n",
    "    frame_count = int(cap.get(cv2.CAP_PROP_FRAME_COUNT))\n",
    "    fps = cap.get(cv2.CAP_PROP_FPS)\n",
    "    mid_frame_index = frame_count // 2  # Index of the frame in the middle of the video\n",
    "    cap.set(cv2.CAP_PROP_POS_FRAMES, mid_frame_index)\n",
    "    ret, frame = cap.read()\n",
    "    if ret:\n",
    "        cap.release()\n",
    "        return frame\n",
    "    else:\n",
    "        cap.release()\n",
    "        return None"
   ]
  },
  {
   "cell_type": "code",
   "execution_count": 7,
   "metadata": {
    "id": "_eeDIIORixs-"
   },
   "outputs": [],
   "source": [
    "def detect_face(frame):\n",
    "    mtcnn = MTCNN()\n",
    "    boxes, _ = mtcnn.detect(frame)\n",
    "    if boxes is not None:\n",
    "        # Assuming only one face in the frame\n",
    "        box = boxes[0]\n",
    "        x1, y1, x2, y2 = box\n",
    "        # Crop the frame to the detected face\n",
    "        cropped_frame = frame[int(y1):int(y2), int(x1):int(x2)]\n",
    "        return cropped_frame\n",
    "    else:\n",
    "        return None"
   ]
  },
  {
   "cell_type": "code",
   "execution_count": 7,
   "metadata": {
    "id": "uCrtKaI8j4Fk"
   },
   "outputs": [],
   "source": [
    "# def align_face(frame):\n",
    "#     fa = face_alignment.FaceAlignment(face_alignment.LandmarksType.FACE_2D, flip_input=False)\n",
    "#     landmarks = fa.get_landmarks(frame)\n",
    "#     if landmarks is not None:\n",
    "#         aligned_face = fa.align(frame, landmarks)\n",
    "#         return aligned_face\n",
    "#     else:\n",
    "#         return None"
   ]
  },
  {
   "cell_type": "code",
   "execution_count": 8,
   "metadata": {
    "id": "4uaUCtgwlJUr"
   },
   "outputs": [],
   "source": [
    "# import dlib\n",
    "# import requests\n",
    "\n",
    "# # Function to download the pretrained shape predictor file if it doesn't exist\n",
    "# def download_shape_predictor_file(url, save_path):\n",
    "#     if not os.path.exists(save_path):\n",
    "#         print(\"Downloading pretrained shape predictor file...\")\n",
    "#         response = requests.get(url)\n",
    "#         with open(save_path, 'wb') as f:\n",
    "#             f.write(response.content)\n",
    "#         print(\"Download complete.\")\n",
    "\n",
    "# # Specify the URL of the pretrained shape predictor file\n",
    "# shape_predictor_url = \"https://github.com/davisking/dlib-models/raw/master/shape_predictor_68_face_landmarks.dat\"\n",
    "\n",
    "# def align_face(frame):\n",
    "#     # Download the pretrained shape predictor file if it doesn't exist\n",
    "#     shape_predictor_path = os.path.abspath(\"shape_predictor_68_face_landmarks.dat\")\n",
    "#     download_shape_predictor_file(shape_predictor_url, shape_predictor_path)\n",
    "\n",
    "#     # Initialize face detector and shape predictor\n",
    "#     detector = dlib.get_frontal_face_detector()\n",
    "#     predictor = dlib.shape_predictor(shape_predictor_path)\n",
    "\n",
    "#     gray = cv2.cvtColor(frame, cv2.COLOR_BGR2GRAY)\n",
    "#     rects = detector(gray, 0)\n",
    "\n",
    "#     if len(rects) == 1:  # Assuming only one face in the frame\n",
    "#         landmarks = predictor(gray, rects[0])\n",
    "#         aligned_face = dlib.get_face_chip(frame, landmarks)\n",
    "#         return aligned_face\n",
    "#     else:\n",
    "#         return None\n"
   ]
  },
  {
   "cell_type": "code",
   "execution_count": 8,
   "metadata": {
    "colab": {
     "base_uri": "https://localhost:8080/"
    },
    "id": "pWavua0jl3ds",
    "outputId": "410ec793-33fd-48be-a9cb-fdd77d92cd56"
   },
   "outputs": [],
   "source": [
    "import cv2\n",
    "import face_alignment\n",
    "import requests\n",
    "import os\n",
    "\n",
    "# Function to download the pretrained face alignment model if it doesn't exist\n",
    "def download_face_alignment_model(url, save_path):\n",
    "    if not os.path.exists(save_path):\n",
    "        print(\"Downloading pretrained face alignment model...\")\n",
    "        response = requests.get(url)\n",
    "        with open(save_path, 'wb') as f:\n",
    "            f.write(response.content)\n",
    "        print(\"Download complete.\")\n",
    "\n",
    "# Specify the URL of the pretrained face alignment model\n",
    "face_alignment_model_url = \"https://github.com/1adrianb/face-alignment-models/releases/download/2.0.1/2DFAN4-11f355bf06.pth.tar\"\n",
    "\n",
    "# Download the pretrained face alignment model if it doesn't exist\n",
    "face_alignment_model_path = os.path.abspath(\"2DFAN4-11f355bf06.pth.tar\")\n",
    "download_face_alignment_model(face_alignment_model_url, face_alignment_model_path)\n",
    "\n",
    "# Initialize face alignment model\n",
    "fa = face_alignment.FaceAlignment(2, flip_input=False,device='cpu')  # 2 corresponds to 2D landmarks\n",
    "\n",
    "def align_face(frame):\n",
    "    # Perform face alignment\n",
    "    aligned_faces = fa.get_landmarks(frame)\n",
    "    if aligned_faces is not None:\n",
    "        aligned_face = aligned_faces[0]  # Assuming only one face in the frame\n",
    "        return aligned_face\n",
    "    else:\n",
    "        return None\n"
   ]
  },
  {
   "cell_type": "code",
   "execution_count": 9,
   "metadata": {
    "id": "o5gBfMkuitP0"
   },
   "outputs": [],
   "source": [
    "def preprocess_image(frame):\n",
    "    frame_pil = Image.fromarray(frame.astype('uint8'))\n",
    "    frame_pil = frame_pil.convert('RGB')  # Convert to RGB format\n",
    "    frame_np = np.array(frame_pil)\n",
    "    print(frame_np.shape)\n",
    "    transform = transforms.Compose([\n",
    "        transforms.Resize((224, 224)),\n",
    "        transforms.ToTensor(),\n",
    "        transforms.Normalize(mean=[0.485, 0.456, 0.406], std=[0.229, 0.224, 0.225]),  # Normalize using ImageNet mean and std\n",
    "    ])\n",
    "    frame_tensor = transform(frame_pil)\n",
    "    return frame_tensor\n"
   ]
  },
  {
   "cell_type": "code",
   "execution_count": null,
   "metadata": {},
   "outputs": [],
   "source": [
    "# def preprocess_spectrogram(image_path):\n",
    "#     img = Image.open(image_path).convert('RGB')  # Convert to grayscale\n",
    "#     transform = transforms.Compose([\n",
    "#         transforms.Resize((224, 224)),  # Resize to match ViT input size\n",
    "#         transforms.ToTensor(),           # Convert to tensor\n",
    "#     ])\n",
    "#     img_tensor = transform(img)\n",
    "#     return img_tensor"
   ]
  },
  {
   "cell_type": "code",
   "execution_count": 10,
   "metadata": {
    "id": "RZPMwNWJi5p3"
   },
   "outputs": [],
   "source": [
    "def load_dataset(videos_folder):\n",
    "    X = []\n",
    "    y = []\n",
    "    skipped_files = []\n",
    "    video_files = [file for file in sorted(os.listdir(videos_folder)) if file.endswith(\".flv\")]\n",
    "    for video_file in tqdm(video_files):\n",
    "        video_path = os.path.join(videos_folder, video_file)\n",
    "        frame = extract_frame(video_path)\n",
    "        if frame is not None:\n",
    "            cropped_face = detect_face(frame)\n",
    "            if cropped_face is not None:\n",
    "                preprocessed_face = preprocess_image(cropped_face)\n",
    "                X.append(preprocessed_face)\n",
    "                label = video_file.split(\"_\")[2].split(\".\")[0]  # Adjusted to handle different file extensions\n",
    "                if label == \"HAP\":\n",
    "                    y.append(0)\n",
    "                elif label == \"SAD\":\n",
    "                    y.append(1)\n",
    "                elif label == \"ANG\":\n",
    "                    y.append(2)\n",
    "                elif label == \"DIS\":\n",
    "                    y.append(3)\n",
    "                elif label == \"FEA\":\n",
    "                    y.append(4)\n",
    "                elif label == \"NEU\":\n",
    "                    y.append(5)\n",
    "            else:\n",
    "                print(f\"No face detected in {video_file}. Skipping.\")\n",
    "                skipped_files.append(video_file[:-3])\n",
    "        else:\n",
    "            print(f\"Failed to extract frame from {video_file}. Skipping.\")\n",
    "            skipped_files.append(video_file[:-3])\n",
    "    return X, y, skipped_files"
   ]
  },
  {
   "cell_type": "code",
   "execution_count": 12,
   "metadata": {
    "id": "ASe2CY6_kJPn"
   },
   "outputs": [],
   "source": [
    "# def load_dataset(input_folder):\n",
    "#     X = []\n",
    "#     y = []\n",
    "#     video_files = [file for file in os.listdir(input_folder) if file.endswith(\".flv\")]\n",
    "#     for video_file in tqdm(video_files):\n",
    "#         video_path = os.path.join(input_folder, video_file)\n",
    "#         frame = extract_frame(video_path)\n",
    "#         # crop and align\n",
    "#         if frame is not None:\n",
    "#             cropped_face = detect_face(frame)\n",
    "#             if cropped_face is not None:\n",
    "#                 aligned_face = align_face(cropped_face)\n",
    "#                 if aligned_face is not None:\n",
    "#                     preprocessed_face = preprocess_image(aligned_face)\n",
    "#                     X.append(preprocessed_face)\n",
    "#                     label = video_file.split(\"_\")[2].split(\".\")[0]  # Adjusted to handle different file extensions\n",
    "#                     if label == \"HAP\":\n",
    "#                         y.append(0)\n",
    "#                     elif label == \"SAD\":\n",
    "#                         y.append(1)\n",
    "#                     elif label == \"ANG\":\n",
    "#                         y.append(2)\n",
    "#                 else:\n",
    "#                     print(f\"Failed to align face in {video_file}. Skipping.\")\n",
    "#             else:\n",
    "#                 print(f\"No face detected in {video_file}. Skipping.\")\n",
    "#         else:\n",
    "#             print(f\"Failed to extract frame from {video_file}. Skipping.\")\n",
    "#     return X, y\n"
   ]
  },
  {
   "cell_type": "code",
   "execution_count": 13,
   "metadata": {
    "id": "OegULYZ0zV_R"
   },
   "outputs": [],
   "source": [
    "# def extract_average_frames(video_path):\n",
    "#     cap = cv2.VideoCapture(video_path)\n",
    "#     frame_count = int(cap.get(cv2.CAP_PROP_FRAME_COUNT))\n",
    "#     fps = cap.get(cv2.CAP_PROP_FPS)\n",
    "#     interval_frames = int(fps) # Frames to skip to get 1 frame per second\n",
    "#     frames = []\n",
    "#     for i in range(0, frame_count, interval_frames):\n",
    "#         cap.set(cv2.CAP_PROP_POS_FRAMES, i)\n",
    "#         ret, frame = cap.read()\n",
    "#         if ret:\n",
    "#             frames.append(frame)\n",
    "#     cap.release()\n",
    "#     # Calculate average frame\n",
    "#     averaged_frame = sum(frames) / len(frames)\n",
    "#     return averaged_frame"
   ]
  },
  {
   "cell_type": "code",
   "execution_count": 14,
   "metadata": {
    "id": "YYjikmeiRsNP"
   },
   "outputs": [],
   "source": [
    "# def preprocess_image(averaged_frame):\n",
    "#     # Convert the NumPy array to a PIL Image\n",
    "#     averaged_frame_pil = Image.fromarray(averaged_frame.astype('uint8'))\n",
    "\n",
    "#     # Convert the image to grayscale\n",
    "#     averaged_frame_pil = averaged_frame_pil.convert('L')\n",
    "\n",
    "#     # Resize and normalize the averaged frame\n",
    "#     transform = transforms.Compose([\n",
    "#         transforms.Resize((224, 224)),\n",
    "#         transforms.ToTensor(),\n",
    "#         transforms.Normalize(mean=[0.485], std=[0.229]),  # For grayscale images, only 1 channel\n",
    "#     ])\n",
    "#     img_tensor = transform(averaged_frame_pil)\n",
    "#     return img_tensor\n"
   ]
  },
  {
   "cell_type": "code",
   "execution_count": 15,
   "metadata": {
    "id": "Y5pe1EXsSbpj"
   },
   "outputs": [],
   "source": [
    "# def load_dataset(input_folder):\n",
    "#     X = []\n",
    "#     y = []\n",
    "#     # List all video files in the input folder\n",
    "#     video_files = [file for file in os.listdir(input_folder) if file.endswith(\".flv\")]\n",
    "#     for video_file in video_files:\n",
    "#         video_path = os.path.join(input_folder, video_file)\n",
    "#         averaged_frame = extract_average_frames(video_path)\n",
    "#         img_tensor = preprocess_image(averaged_frame)\n",
    "#         X.append(img_tensor)\n",
    "#         # Extract label from video filename (assuming filename is in format \"label_videoID.mp4\")\n",
    "#         label = video_file.split(\"_\")[2]\n",
    "#         if label == \"HAP\":\n",
    "#             y.append(0)\n",
    "#         elif label == \"SAD\":\n",
    "#             y.append(1)\n",
    "#         elif label == \"ANG\":\n",
    "#             y.append(2)\n",
    "#         # print(video_path, label)\n",
    "#     return X, y"
   ]
  },
  {
   "cell_type": "code",
   "execution_count": 11,
   "metadata": {
    "id": "Q5--S5JwTTw1"
   },
   "outputs": [],
   "source": [
    "def train_model(model, criterion, optimizer, train_loader, device):\n",
    "    model.train()\n",
    "    running_loss = 0.0\n",
    "    correct_preds = 0\n",
    "    total_preds = 0\n",
    "    for inputs, labels in tqdm(train_loader):\n",
    "        inputs, labels = inputs.to(device), labels.to(device)\n",
    "        optimizer.zero_grad()\n",
    "        outputs = model(inputs)\n",
    "        loss = criterion(outputs, labels)\n",
    "        loss.backward()\n",
    "        optimizer.step()\n",
    "        running_loss += loss.item() * inputs.size(0)\n",
    "        _, predicted = torch.max(outputs, 1)\n",
    "        correct_preds += (predicted == labels).sum().item()\n",
    "        total_preds += labels.size(0)\n",
    "\n",
    "    epoch_loss = running_loss / len(train_loader.dataset)\n",
    "    accuracy = correct_preds / total_preds\n",
    "    return epoch_loss, accuracy"
   ]
  },
  {
   "cell_type": "code",
   "execution_count": 12,
   "metadata": {
    "id": "ajpo8J6kTUjD"
   },
   "outputs": [],
   "source": [
    "def test_model(model, criterion, test_loader, device):\n",
    "    model.eval()\n",
    "    running_loss = 0.0\n",
    "    correct_preds = 0\n",
    "    total_preds = 0\n",
    "    with torch.no_grad():\n",
    "        for inputs, labels in tqdm(test_loader):\n",
    "            inputs, labels = inputs.to(device), labels.to(device)\n",
    "            outputs = model(inputs)\n",
    "            loss = criterion(outputs, labels)\n",
    "            running_loss += loss.item() * inputs.size(0)\n",
    "            _, predicted = torch.max(outputs, 1)\n",
    "            correct_preds += (predicted == labels).sum().item()\n",
    "            total_preds += labels.size(0)\n",
    "    epoch_loss = running_loss / len(test_loader.dataset)\n",
    "    accuracy = correct_preds / total_preds\n",
    "    return epoch_loss, accuracy"
   ]
  },
  {
   "cell_type": "code",
   "execution_count": 13,
   "metadata": {
    "id": "92KI-5r7RtVi"
   },
   "outputs": [],
   "source": [
    "# def extract_features_from_folder(input_folder):\n",
    "#     # Initialize the model\n",
    "#     model = CNN(num_classes=3)  # 3 classes for HAPPY, SAD, ANGRY\n",
    "#     device = torch.device(\"cuda\" if torch.cuda.is_available() else \"cpu\")\n",
    "#     model.to(device)\n",
    "#     model.eval()  # Set the model to evaluation mode\n",
    "\n",
    "#     # List all files in the input folder\n",
    "#     files = os.listdir(input_folder)\n",
    "\n",
    "#     # Iterate over files in the folder\n",
    "#     for filename in files:\n",
    "#         if filename.endswith(\".png\"):  # Assuming mel spectrograms are stored as PNG files\n",
    "#             input_path = os.path.join(input_folder, filename)\n",
    "#             img_tensor = preprocess_image(input_path)\n",
    "#             img_tensor = img_tensor.to(device)\n",
    "#             with torch.no_grad():\n",
    "#                 output_features = model(img_tensor)\n",
    "#             print(f\"Features extracted for {filename}: {output_features}\")\n"
   ]
  },
  {
   "cell_type": "code",
   "execution_count": 14,
   "metadata": {
    "id": "eBB1OzDcRxDy"
   },
   "outputs": [],
   "source": [
    "# extract_features_from_folder('/content/drive/MyDrive/csci535/melspec')"
   ]
  },
  {
   "cell_type": "code",
   "execution_count": 15,
   "metadata": {
    "id": "mnnN_idgTBu5"
   },
   "outputs": [],
   "source": [
    "# !python3 melspec_to_features_cnn.py /content/drive/MyDrive/csci535/melspec\n"
   ]
  },
  {
   "cell_type": "code",
   "execution_count": 16,
   "metadata": {},
   "outputs": [],
   "source": [
    "assert([file[:-3] for file in sorted(os.listdir(videos_folder))] == [file[:-3] for file in sorted(os.listdir(spectrograms_folder))])"
   ]
  },
  {
   "cell_type": "code",
   "execution_count": 18,
   "metadata": {
    "scrolled": true
   },
   "outputs": [
    {
     "name": "stderr",
     "output_type": "stream",
     "text": [
      "  0%|          | 2/7439 [00:00<28:40,  4.32it/s]"
     ]
    },
    {
     "name": "stdout",
     "output_type": "stream",
     "text": [
      "(115, 92, 3)\n",
      "(112, 89, 3)\n",
      "(131, 101, 3)\n"
     ]
    },
    {
     "name": "stderr",
     "output_type": "stream",
     "text": [
      "  0%|          | 8/7439 [00:00<09:03, 13.68it/s]"
     ]
    },
    {
     "name": "stdout",
     "output_type": "stream",
     "text": [
      "(134, 101, 3)\n",
      "(114, 91, 3)\n",
      "(121, 95, 3)\n",
      "(116, 91, 3)\n",
      "(120, 93, 3)\n"
     ]
    },
    {
     "name": "stderr",
     "output_type": "stream",
     "text": [
      "  0%|          | 11/7439 [00:00<07:41, 16.11it/s]"
     ]
    },
    {
     "name": "stdout",
     "output_type": "stream",
     "text": [
      "(121, 95, 3)\n",
      "(106, 84, 3)\n",
      "(116, 90, 3)\n",
      "(110, 87, 3)\n",
      "(127, 98, 3)\n"
     ]
    },
    {
     "name": "stderr",
     "output_type": "stream",
     "text": [
      "  0%|          | 17/7439 [00:01<06:14, 19.80it/s]"
     ]
    },
    {
     "name": "stdout",
     "output_type": "stream",
     "text": [
      "(124, 94, 3)\n",
      "(114, 86, 3)\n",
      "(123, 95, 3)\n",
      "(127, 95, 3)\n",
      "(116, 91, 3)\n"
     ]
    },
    {
     "name": "stderr",
     "output_type": "stream",
     "text": [
      "  0%|          | 23/7439 [00:01<05:55, 20.87it/s]"
     ]
    },
    {
     "name": "stdout",
     "output_type": "stream",
     "text": [
      "(122, 93, 3)\n",
      "(116, 90, 3)\n",
      "(120, 95, 3)\n",
      "(119, 92, 3)\n",
      "(112, 92, 3)\n"
     ]
    },
    {
     "name": "stderr",
     "output_type": "stream",
     "text": [
      "  0%|          | 26/7439 [00:01<05:55, 20.87it/s]"
     ]
    },
    {
     "name": "stdout",
     "output_type": "stream",
     "text": [
      "(113, 91, 3)\n",
      "(123, 97, 3)\n",
      "(114, 93, 3)\n",
      "(120, 93, 3)\n",
      "(114, 91, 3)\n"
     ]
    },
    {
     "name": "stderr",
     "output_type": "stream",
     "text": [
      "  0%|          | 32/7439 [00:01<05:50, 21.11it/s]"
     ]
    },
    {
     "name": "stdout",
     "output_type": "stream",
     "text": [
      "(113, 91, 3)\n",
      "(112, 90, 3)\n",
      "(124, 99, 3)\n",
      "(119, 95, 3)\n",
      "(123, 95, 3)\n"
     ]
    },
    {
     "name": "stderr",
     "output_type": "stream",
     "text": [
      "  1%|          | 38/7439 [00:02<05:55, 20.83it/s]"
     ]
    },
    {
     "name": "stdout",
     "output_type": "stream",
     "text": [
      "(118, 93, 3)\n",
      "(119, 95, 3)\n",
      "(114, 91, 3)\n",
      "(126, 100, 3)\n",
      "(121, 95, 3)\n"
     ]
    },
    {
     "name": "stderr",
     "output_type": "stream",
     "text": [
      "  1%|          | 41/7439 [00:02<06:07, 20.11it/s]"
     ]
    },
    {
     "name": "stdout",
     "output_type": "stream",
     "text": [
      "(116, 92, 3)\n",
      "(117, 96, 3)\n",
      "(125, 96, 3)\n",
      "(118, 94, 3)\n"
     ]
    },
    {
     "name": "stderr",
     "output_type": "stream",
     "text": [
      "  1%|          | 47/7439 [00:02<06:07, 20.11it/s]"
     ]
    },
    {
     "name": "stdout",
     "output_type": "stream",
     "text": [
      "(124, 97, 3)\n",
      "(122, 95, 3)\n",
      "(116, 93, 3)\n",
      "(114, 93, 3)\n",
      "(114, 92, 3)\n"
     ]
    },
    {
     "name": "stderr",
     "output_type": "stream",
     "text": [
      "  1%|          | 50/7439 [00:02<05:54, 20.87it/s]"
     ]
    },
    {
     "name": "stdout",
     "output_type": "stream",
     "text": [
      "(110, 91, 3)\n",
      "(119, 96, 3)\n",
      "(116, 93, 3)\n",
      "(120, 94, 3)\n",
      "(114, 94, 3)\n"
     ]
    },
    {
     "name": "stderr",
     "output_type": "stream",
     "text": [
      "  1%|          | 56/7439 [00:03<05:59, 20.56it/s]"
     ]
    },
    {
     "name": "stdout",
     "output_type": "stream",
     "text": [
      "(118, 94, 3)\n",
      "(110, 89, 3)\n",
      "(128, 100, 3)\n",
      "(121, 96, 3)\n",
      "(113, 94, 3)\n"
     ]
    },
    {
     "name": "stderr",
     "output_type": "stream",
     "text": [
      "  1%|          | 59/7439 [00:03<05:57, 20.66it/s]"
     ]
    },
    {
     "name": "stdout",
     "output_type": "stream",
     "text": [
      "(115, 93, 3)\n",
      "(122, 97, 3)\n",
      "(113, 91, 3)\n",
      "(120, 97, 3)\n"
     ]
    },
    {
     "name": "stderr",
     "output_type": "stream",
     "text": [
      "  1%|          | 65/7439 [00:03<06:09, 19.93it/s]"
     ]
    },
    {
     "name": "stdout",
     "output_type": "stream",
     "text": [
      "(120, 94, 3)\n",
      "(120, 96, 3)\n",
      "(115, 93, 3)\n",
      "(117, 94, 3)\n"
     ]
    },
    {
     "name": "stderr",
     "output_type": "stream",
     "text": [
      "  1%|          | 68/7439 [00:03<06:01, 20.38it/s]"
     ]
    },
    {
     "name": "stdout",
     "output_type": "stream",
     "text": [
      "(108, 88, 3)\n",
      "(121, 94, 3)\n",
      "(119, 96, 3)\n",
      "(116, 91, 3)\n",
      "(120, 93, 3)\n"
     ]
    },
    {
     "name": "stderr",
     "output_type": "stream",
     "text": [
      "  1%|          | 74/7439 [00:03<05:58, 20.54it/s]"
     ]
    },
    {
     "name": "stdout",
     "output_type": "stream",
     "text": [
      "(120, 94, 3)\n",
      "(118, 92, 3)\n",
      "(130, 101, 3)\n",
      "(123, 96, 3)\n",
      "(119, 92, 3)\n"
     ]
    },
    {
     "name": "stderr",
     "output_type": "stream",
     "text": [
      "  1%|          | 77/7439 [00:04<06:07, 20.05it/s]"
     ]
    },
    {
     "name": "stdout",
     "output_type": "stream",
     "text": [
      "(116, 95, 3)\n",
      "(119, 95, 3)\n",
      "(111, 91, 3)\n",
      "(128, 98, 3)\n"
     ]
    },
    {
     "name": "stderr",
     "output_type": "stream",
     "text": [
      "  1%|          | 83/7439 [00:04<06:07, 20.02it/s]"
     ]
    },
    {
     "name": "stdout",
     "output_type": "stream",
     "text": [
      "(127, 97, 3)\n",
      "(120, 93, 3)\n",
      "(125, 98, 3)\n",
      "(105, 78, 3)\n"
     ]
    },
    {
     "name": "stderr",
     "output_type": "stream",
     "text": [
      "  1%|          | 86/7439 [00:04<06:15, 19.58it/s]"
     ]
    },
    {
     "name": "stdout",
     "output_type": "stream",
     "text": [
      "(96, 74, 3)\n",
      "(103, 79, 3)\n",
      "(105, 79, 3)\n",
      "(104, 81, 3)\n",
      "(102, 82, 3)\n"
     ]
    },
    {
     "name": "stderr",
     "output_type": "stream",
     "text": [
      "  1%|          | 91/7439 [00:04<06:15, 19.55it/s]"
     ]
    },
    {
     "name": "stdout",
     "output_type": "stream",
     "text": [
      "(100, 80, 3)\n",
      "(99, 78, 3)\n",
      "(104, 81, 3)\n",
      "(98, 78, 3)\n"
     ]
    },
    {
     "name": "stderr",
     "output_type": "stream",
     "text": [
      "  1%|▏         | 95/7439 [00:05<06:22, 19.20it/s]"
     ]
    },
    {
     "name": "stdout",
     "output_type": "stream",
     "text": [
      "(98, 78, 3)\n",
      "(97, 78, 3)\n",
      "(98, 78, 3)\n",
      "(100, 82, 3)\n"
     ]
    },
    {
     "name": "stderr",
     "output_type": "stream",
     "text": [
      "  1%|▏         | 100/7439 [00:05<06:15, 19.55it/s]"
     ]
    },
    {
     "name": "stdout",
     "output_type": "stream",
     "text": [
      "(100, 78, 3)\n",
      "(99, 77, 3)\n",
      "(100, 81, 3)\n",
      "(103, 81, 3)\n",
      "(100, 80, 3)\n"
     ]
    },
    {
     "name": "stderr",
     "output_type": "stream",
     "text": [
      "  1%|▏         | 104/7439 [00:05<06:44, 18.15it/s]"
     ]
    },
    {
     "name": "stdout",
     "output_type": "stream",
     "text": [
      "(99, 78, 3)\n",
      "(101, 78, 3)\n",
      "(100, 81, 3)\n",
      "(104, 82, 3)\n"
     ]
    },
    {
     "name": "stderr",
     "output_type": "stream",
     "text": [
      "  1%|▏         | 109/7439 [00:05<06:17, 19.39it/s]"
     ]
    },
    {
     "name": "stdout",
     "output_type": "stream",
     "text": [
      "(99, 79, 3)\n",
      "(105, 80, 3)\n",
      "(103, 81, 3)\n",
      "(102, 80, 3)\n",
      "(101, 78, 3)\n"
     ]
    },
    {
     "name": "stderr",
     "output_type": "stream",
     "text": [
      "  2%|▏         | 113/7439 [00:05<06:28, 18.85it/s]"
     ]
    },
    {
     "name": "stdout",
     "output_type": "stream",
     "text": [
      "(99, 80, 3)\n",
      "(101, 79, 3)\n",
      "(99, 79, 3)\n",
      "(97, 77, 3)\n"
     ]
    },
    {
     "name": "stderr",
     "output_type": "stream",
     "text": [
      "  2%|▏         | 118/7439 [00:06<06:14, 19.54it/s]"
     ]
    },
    {
     "name": "stdout",
     "output_type": "stream",
     "text": [
      "(99, 77, 3)\n",
      "(100, 80, 3)\n",
      "(102, 79, 3)\n",
      "(91, 73, 3)\n",
      "(96, 76, 3)\n"
     ]
    },
    {
     "name": "stderr",
     "output_type": "stream",
     "text": [
      "  2%|▏         | 123/7439 [00:06<06:08, 19.85it/s]"
     ]
    },
    {
     "name": "stdout",
     "output_type": "stream",
     "text": [
      "(96, 76, 3)\n",
      "(100, 78, 3)\n",
      "(103, 83, 3)\n",
      "(102, 78, 3)\n"
     ]
    },
    {
     "name": "stderr",
     "output_type": "stream",
     "text": [
      "  2%|▏         | 125/7439 [00:06<06:17, 19.36it/s]"
     ]
    },
    {
     "name": "stdout",
     "output_type": "stream",
     "text": [
      "(96, 78, 3)\n",
      "(102, 77, 3)\n",
      "(100, 81, 3)\n",
      "(103, 80, 3)\n"
     ]
    },
    {
     "name": "stderr",
     "output_type": "stream",
     "text": [
      "  2%|▏         | 131/7439 [00:06<06:10, 19.75it/s]"
     ]
    },
    {
     "name": "stdout",
     "output_type": "stream",
     "text": [
      "(103, 79, 3)\n",
      "(98, 78, 3)\n",
      "(93, 74, 3)\n",
      "(98, 78, 3)\n",
      "(96, 77, 3)\n"
     ]
    },
    {
     "name": "stderr",
     "output_type": "stream",
     "text": [
      "  2%|▏         | 134/7439 [00:07<06:01, 20.22it/s]"
     ]
    },
    {
     "name": "stdout",
     "output_type": "stream",
     "text": [
      "(103, 83, 3)\n",
      "(99, 79, 3)\n",
      "(106, 80, 3)\n",
      "(96, 73, 3)\n"
     ]
    },
    {
     "name": "stderr",
     "output_type": "stream",
     "text": [
      "  2%|▏         | 140/7439 [00:07<06:04, 20.03it/s]"
     ]
    },
    {
     "name": "stdout",
     "output_type": "stream",
     "text": [
      "(106, 83, 3)\n",
      "(100, 82, 3)\n",
      "(102, 82, 3)\n",
      "(100, 78, 3)\n",
      "(98, 77, 3)\n"
     ]
    },
    {
     "name": "stderr",
     "output_type": "stream",
     "text": [
      "  2%|▏         | 143/7439 [00:07<06:42, 18.13it/s]"
     ]
    },
    {
     "name": "stdout",
     "output_type": "stream",
     "text": [
      "(94, 79, 3)\n",
      "(99, 82, 3)\n",
      "(103, 80, 3)\n",
      "(100, 81, 3)\n"
     ]
    },
    {
     "name": "stderr",
     "output_type": "stream",
     "text": [
      "  2%|▏         | 148/7439 [00:07<06:22, 19.07it/s]"
     ]
    },
    {
     "name": "stdout",
     "output_type": "stream",
     "text": [
      "(99, 78, 3)\n",
      "(104, 81, 3)\n",
      "(100, 80, 3)\n",
      "(103, 78, 3)\n",
      "(95, 78, 3)\n"
     ]
    },
    {
     "name": "stderr",
     "output_type": "stream",
     "text": [
      "  2%|▏         | 154/7439 [00:08<06:06, 19.87it/s]"
     ]
    },
    {
     "name": "stdout",
     "output_type": "stream",
     "text": [
      "(101, 81, 3)\n",
      "(98, 78, 3)\n",
      "(91, 72, 3)\n",
      "(96, 75, 3)\n",
      "(97, 76, 3)\n"
     ]
    },
    {
     "name": "stderr",
     "output_type": "stream",
     "text": [
      "  2%|▏         | 160/7439 [00:08<05:59, 20.27it/s]"
     ]
    },
    {
     "name": "stdout",
     "output_type": "stream",
     "text": [
      "(98, 80, 3)\n",
      "(98, 79, 3)\n",
      "(101, 78, 3)\n",
      "(106, 81, 3)\n",
      "(106, 80, 3)\n"
     ]
    },
    {
     "name": "stderr",
     "output_type": "stream",
     "text": [
      "  2%|▏         | 163/7439 [00:08<05:57, 20.34it/s]"
     ]
    },
    {
     "name": "stdout",
     "output_type": "stream",
     "text": [
      "(103, 79, 3)\n",
      "(100, 80, 3)\n",
      "(105, 80, 3)\n",
      "(123, 86, 3)\n"
     ]
    },
    {
     "name": "stderr",
     "output_type": "stream",
     "text": [
      "  2%|▏         | 166/7439 [00:08<06:03, 19.98it/s]"
     ]
    },
    {
     "name": "stdout",
     "output_type": "stream",
     "text": [
      "(112, 83, 3)\n",
      "(110, 85, 3)\n",
      "(110, 84, 3)\n",
      "(109, 82, 3)\n"
     ]
    },
    {
     "name": "stderr",
     "output_type": "stream",
     "text": [
      "  2%|▏         | 172/7439 [00:08<06:02, 20.04it/s]"
     ]
    },
    {
     "name": "stdout",
     "output_type": "stream",
     "text": [
      "(114, 85, 3)\n",
      "(120, 86, 3)\n",
      "(123, 87, 3)\n",
      "(119, 85, 3)\n",
      "(105, 79, 3)\n"
     ]
    },
    {
     "name": "stderr",
     "output_type": "stream",
     "text": [
      "  2%|▏         | 178/7439 [00:09<05:53, 20.54it/s]"
     ]
    },
    {
     "name": "stdout",
     "output_type": "stream",
     "text": [
      "(109, 83, 3)\n",
      "(105, 80, 3)\n",
      "(108, 82, 3)\n",
      "(113, 83, 3)\n",
      "(112, 84, 3)\n"
     ]
    },
    {
     "name": "stderr",
     "output_type": "stream",
     "text": [
      "  2%|▏         | 181/7439 [00:09<05:48, 20.81it/s]"
     ]
    },
    {
     "name": "stdout",
     "output_type": "stream",
     "text": [
      "(113, 84, 3)\n",
      "(116, 85, 3)\n",
      "(110, 82, 3)\n",
      "(114, 84, 3)\n",
      "(110, 82, 3)\n"
     ]
    },
    {
     "name": "stderr",
     "output_type": "stream",
     "text": [
      "  3%|▎         | 187/7439 [00:09<05:54, 20.46it/s]"
     ]
    },
    {
     "name": "stdout",
     "output_type": "stream",
     "text": [
      "(112, 82, 3)\n",
      "(107, 82, 3)\n",
      "(114, 84, 3)\n",
      "(113, 84, 3)\n",
      "(114, 83, 3)\n"
     ]
    },
    {
     "name": "stderr",
     "output_type": "stream",
     "text": [
      "  3%|▎         | 190/7439 [00:09<06:00, 20.13it/s]"
     ]
    },
    {
     "name": "stdout",
     "output_type": "stream",
     "text": [
      "(112, 87, 3)\n",
      "(115, 85, 3)\n",
      "(104, 85, 3)\n",
      "(111, 86, 3)\n"
     ]
    },
    {
     "name": "stderr",
     "output_type": "stream",
     "text": [
      "  3%|▎         | 195/7439 [00:10<06:16, 19.24it/s]"
     ]
    },
    {
     "name": "stdout",
     "output_type": "stream",
     "text": [
      "(109, 84, 3)\n",
      "(113, 88, 3)\n",
      "(110, 83, 3)\n",
      "(112, 85, 3)\n"
     ]
    },
    {
     "name": "stderr",
     "output_type": "stream",
     "text": [
      "  3%|▎         | 199/7439 [00:10<06:33, 18.41it/s]"
     ]
    },
    {
     "name": "stdout",
     "output_type": "stream",
     "text": [
      "(112, 83, 3)\n",
      "(115, 84, 3)\n",
      "(110, 80, 3)\n",
      "(112, 82, 3)\n"
     ]
    },
    {
     "name": "stderr",
     "output_type": "stream",
     "text": [
      "  3%|▎         | 203/7439 [00:10<06:34, 18.32it/s]"
     ]
    },
    {
     "name": "stdout",
     "output_type": "stream",
     "text": [
      "(112, 84, 3)\n",
      "(111, 81, 3)\n",
      "(111, 83, 3)\n",
      "(117, 87, 3)\n"
     ]
    },
    {
     "name": "stderr",
     "output_type": "stream",
     "text": [
      "  3%|▎         | 207/7439 [00:10<06:42, 17.97it/s]"
     ]
    },
    {
     "name": "stdout",
     "output_type": "stream",
     "text": [
      "(113, 81, 3)\n",
      "(114, 86, 3)\n",
      "(111, 85, 3)\n",
      "(113, 84, 3)\n"
     ]
    },
    {
     "name": "stderr",
     "output_type": "stream",
     "text": [
      "  3%|▎         | 211/7439 [00:11<06:35, 18.28it/s]"
     ]
    },
    {
     "name": "stdout",
     "output_type": "stream",
     "text": [
      "(112, 82, 3)\n",
      "(109, 83, 3)\n",
      "(111, 80, 3)\n",
      "(110, 81, 3)\n"
     ]
    },
    {
     "name": "stderr",
     "output_type": "stream",
     "text": [
      "  3%|▎         | 216/7439 [00:11<06:15, 19.24it/s]"
     ]
    },
    {
     "name": "stdout",
     "output_type": "stream",
     "text": [
      "(110, 83, 3)\n",
      "(113, 82, 3)\n",
      "(116, 82, 3)\n",
      "(113, 83, 3)\n"
     ]
    },
    {
     "name": "stderr",
     "output_type": "stream",
     "text": [
      "  3%|▎         | 220/7439 [00:11<06:25, 18.72it/s]"
     ]
    },
    {
     "name": "stdout",
     "output_type": "stream",
     "text": [
      "(111, 83, 3)\n",
      "(114, 85, 3)\n",
      "(113, 83, 3)\n",
      "(114, 83, 3)\n"
     ]
    },
    {
     "name": "stderr",
     "output_type": "stream",
     "text": [
      "  3%|▎         | 224/7439 [00:11<06:25, 18.71it/s]"
     ]
    },
    {
     "name": "stdout",
     "output_type": "stream",
     "text": [
      "(115, 84, 3)\n",
      "(109, 84, 3)\n",
      "(113, 82, 3)\n",
      "(113, 84, 3)\n"
     ]
    },
    {
     "name": "stderr",
     "output_type": "stream",
     "text": [
      "  3%|▎         | 228/7439 [00:11<06:26, 18.64it/s]"
     ]
    },
    {
     "name": "stdout",
     "output_type": "stream",
     "text": [
      "(111, 85, 3)\n",
      "(107, 80, 3)\n",
      "(110, 83, 3)\n",
      "(113, 86, 3)\n"
     ]
    },
    {
     "name": "stderr",
     "output_type": "stream",
     "text": [
      "  3%|▎         | 232/7439 [00:12<06:27, 18.62it/s]"
     ]
    },
    {
     "name": "stdout",
     "output_type": "stream",
     "text": [
      "(109, 83, 3)\n",
      "(109, 83, 3)\n",
      "(113, 86, 3)\n",
      "(116, 86, 3)\n"
     ]
    },
    {
     "name": "stderr",
     "output_type": "stream",
     "text": [
      "  3%|▎         | 236/7439 [00:12<06:36, 18.18it/s]"
     ]
    },
    {
     "name": "stdout",
     "output_type": "stream",
     "text": [
      "(110, 84, 3)\n",
      "(111, 83, 3)\n",
      "(104, 83, 3)\n",
      "(110, 84, 3)\n"
     ]
    },
    {
     "name": "stderr",
     "output_type": "stream",
     "text": [
      "  3%|▎         | 240/7439 [00:12<06:27, 18.59it/s]"
     ]
    },
    {
     "name": "stdout",
     "output_type": "stream",
     "text": [
      "(112, 83, 3)\n",
      "(112, 82, 3)\n",
      "(113, 84, 3)\n",
      "(113, 85, 3)\n"
     ]
    },
    {
     "name": "stderr",
     "output_type": "stream",
     "text": [
      "  3%|▎         | 244/7439 [00:12<06:22, 18.79it/s]"
     ]
    },
    {
     "name": "stdout",
     "output_type": "stream",
     "text": [
      "(111, 83, 3)\n",
      "(117, 84, 3)\n",
      "(110, 85, 3)\n",
      "(116, 85, 3)\n"
     ]
    },
    {
     "name": "stderr",
     "output_type": "stream",
     "text": [
      "  3%|▎         | 248/7439 [00:12<06:22, 18.80it/s]"
     ]
    },
    {
     "name": "stdout",
     "output_type": "stream",
     "text": [
      "(115, 82, 3)\n",
      "(138, 103, 3)\n",
      "(127, 99, 3)\n",
      "(130, 98, 3)\n"
     ]
    },
    {
     "name": "stderr",
     "output_type": "stream",
     "text": [
      "  3%|▎         | 252/7439 [00:13<06:25, 18.62it/s]"
     ]
    },
    {
     "name": "stdout",
     "output_type": "stream",
     "text": [
      "(124, 101, 3)\n",
      "(126, 100, 3)\n",
      "(126, 101, 3)\n",
      "(142, 106, 3)\n"
     ]
    },
    {
     "name": "stderr",
     "output_type": "stream",
     "text": [
      "  3%|▎         | 256/7439 [00:13<06:34, 18.20it/s]"
     ]
    },
    {
     "name": "stdout",
     "output_type": "stream",
     "text": [
      "(137, 106, 3)\n",
      "(144, 107, 3)\n",
      "(130, 105, 3)\n",
      "(123, 98, 3)\n"
     ]
    },
    {
     "name": "stderr",
     "output_type": "stream",
     "text": [
      "  3%|▎         | 260/7439 [00:13<06:29, 18.43it/s]"
     ]
    },
    {
     "name": "stdout",
     "output_type": "stream",
     "text": [
      "(135, 105, 3)\n",
      "(130, 101, 3)\n",
      "(129, 102, 3)\n",
      "(125, 98, 3)\n"
     ]
    },
    {
     "name": "stderr",
     "output_type": "stream",
     "text": [
      "  4%|▎         | 263/7439 [00:13<06:18, 18.95it/s]"
     ]
    },
    {
     "name": "stdout",
     "output_type": "stream",
     "text": [
      "(137, 105, 3)\n",
      "(138, 106, 3)\n",
      "(132, 106, 3)\n",
      "(128, 102, 3)\n"
     ]
    },
    {
     "name": "stderr",
     "output_type": "stream",
     "text": [
      "  4%|▎         | 267/7439 [00:14<06:30, 18.37it/s]"
     ]
    },
    {
     "name": "stdout",
     "output_type": "stream",
     "text": [
      "(125, 103, 3)\n",
      "(129, 101, 3)\n",
      "(130, 100, 3)\n",
      "(124, 99, 3)\n"
     ]
    },
    {
     "name": "stderr",
     "output_type": "stream",
     "text": [
      "  4%|▎         | 271/7439 [00:14<06:16, 19.02it/s]"
     ]
    },
    {
     "name": "stdout",
     "output_type": "stream",
     "text": [
      "(123, 96, 3)\n",
      "(131, 101, 3)\n",
      "(121, 99, 3)\n",
      "(128, 101, 3)\n",
      "(123, 97, 3)\n"
     ]
    },
    {
     "name": "stderr",
     "output_type": "stream",
     "text": [
      "  4%|▎         | 276/7439 [00:14<06:25, 18.56it/s]"
     ]
    },
    {
     "name": "stdout",
     "output_type": "stream",
     "text": [
      "(124, 98, 3)\n",
      "(125, 100, 3)\n",
      "(120, 96, 3)\n",
      "(123, 96, 3)\n"
     ]
    },
    {
     "name": "stderr",
     "output_type": "stream",
     "text": [
      "  4%|▍         | 280/7439 [00:14<06:34, 18.13it/s]"
     ]
    },
    {
     "name": "stdout",
     "output_type": "stream",
     "text": [
      "(130, 102, 3)\n",
      "(124, 98, 3)\n",
      "(122, 97, 3)\n",
      "(123, 96, 3)\n"
     ]
    },
    {
     "name": "stderr",
     "output_type": "stream",
     "text": [
      "  4%|▍         | 284/7439 [00:14<06:27, 18.45it/s]"
     ]
    },
    {
     "name": "stdout",
     "output_type": "stream",
     "text": [
      "(123, 96, 3)\n",
      "(132, 103, 3)\n",
      "(129, 100, 3)\n",
      "(125, 98, 3)\n"
     ]
    },
    {
     "name": "stderr",
     "output_type": "stream",
     "text": [
      "  4%|▍         | 288/7439 [00:15<06:31, 18.24it/s]"
     ]
    },
    {
     "name": "stdout",
     "output_type": "stream",
     "text": [
      "(129, 99, 3)\n",
      "(126, 100, 3)\n",
      "(121, 96, 3)\n",
      "(137, 104, 3)\n"
     ]
    },
    {
     "name": "stderr",
     "output_type": "stream",
     "text": [
      "  4%|▍         | 292/7439 [00:15<06:27, 18.45it/s]"
     ]
    },
    {
     "name": "stdout",
     "output_type": "stream",
     "text": [
      "(132, 102, 3)\n",
      "(124, 97, 3)\n",
      "(132, 105, 3)\n",
      "(126, 100, 3)\n"
     ]
    },
    {
     "name": "stderr",
     "output_type": "stream",
     "text": [
      "  4%|▍         | 296/7439 [00:15<06:19, 18.81it/s]"
     ]
    },
    {
     "name": "stdout",
     "output_type": "stream",
     "text": [
      "(127, 101, 3)\n",
      "(133, 104, 3)\n",
      "(125, 102, 3)\n",
      "(132, 102, 3)\n"
     ]
    },
    {
     "name": "stderr",
     "output_type": "stream",
     "text": [
      "  4%|▍         | 300/7439 [00:15<06:23, 18.63it/s]"
     ]
    },
    {
     "name": "stdout",
     "output_type": "stream",
     "text": [
      "(127, 101, 3)\n",
      "(124, 97, 3)\n",
      "(133, 104, 3)\n",
      "(131, 102, 3)\n"
     ]
    },
    {
     "name": "stderr",
     "output_type": "stream",
     "text": [
      "  4%|▍         | 304/7439 [00:16<06:26, 18.46it/s]"
     ]
    },
    {
     "name": "stdout",
     "output_type": "stream",
     "text": [
      "(128, 97, 3)\n",
      "(137, 102, 3)\n",
      "(125, 101, 3)\n",
      "(128, 101, 3)\n"
     ]
    },
    {
     "name": "stderr",
     "output_type": "stream",
     "text": [
      "  4%|▍         | 308/7439 [00:16<06:25, 18.48it/s]"
     ]
    },
    {
     "name": "stdout",
     "output_type": "stream",
     "text": [
      "(129, 100, 3)\n",
      "(122, 98, 3)\n",
      "(133, 103, 3)\n",
      "(126, 98, 3)\n"
     ]
    },
    {
     "name": "stderr",
     "output_type": "stream",
     "text": [
      "  4%|▍         | 312/7439 [00:16<06:34, 18.08it/s]"
     ]
    },
    {
     "name": "stdout",
     "output_type": "stream",
     "text": [
      "(136, 103, 3)\n",
      "(135, 102, 3)\n",
      "(127, 97, 3)\n",
      "(132, 102, 3)\n"
     ]
    },
    {
     "name": "stderr",
     "output_type": "stream",
     "text": [
      "  4%|▍         | 315/7439 [00:16<06:20, 18.72it/s]"
     ]
    },
    {
     "name": "stdout",
     "output_type": "stream",
     "text": [
      "(129, 100, 3)\n",
      "(121, 100, 3)\n",
      "(133, 102, 3)\n",
      "(120, 95, 3)\n"
     ]
    },
    {
     "name": "stderr",
     "output_type": "stream",
     "text": [
      "  4%|▍         | 320/7439 [00:16<06:19, 18.77it/s]"
     ]
    },
    {
     "name": "stdout",
     "output_type": "stream",
     "text": [
      "(122, 95, 3)\n",
      "(125, 100, 3)\n",
      "(125, 101, 3)\n",
      "(127, 100, 3)\n"
     ]
    },
    {
     "name": "stderr",
     "output_type": "stream",
     "text": [
      "  4%|▍         | 324/7439 [00:17<06:18, 18.79it/s]"
     ]
    },
    {
     "name": "stdout",
     "output_type": "stream",
     "text": [
      "(134, 104, 3)\n",
      "(122, 99, 3)\n",
      "(133, 99, 3)\n",
      "(133, 104, 3)\n"
     ]
    },
    {
     "name": "stderr",
     "output_type": "stream",
     "text": [
      "  4%|▍         | 328/7439 [00:17<06:23, 18.52it/s]"
     ]
    },
    {
     "name": "stdout",
     "output_type": "stream",
     "text": [
      "(132, 105, 3)\n",
      "(129, 100, 3)\n",
      "(136, 100, 3)\n",
      "(118, 93, 3)\n"
     ]
    },
    {
     "name": "stderr",
     "output_type": "stream",
     "text": [
      "  4%|▍         | 332/7439 [00:17<06:14, 19.00it/s]"
     ]
    },
    {
     "name": "stdout",
     "output_type": "stream",
     "text": [
      "(118, 94, 3)\n",
      "(119, 93, 3)\n",
      "(131, 98, 3)\n",
      "(123, 95, 3)\n"
     ]
    },
    {
     "name": "stderr",
     "output_type": "stream",
     "text": [
      "  5%|▍         | 337/7439 [00:17<06:12, 19.04it/s]"
     ]
    },
    {
     "name": "stdout",
     "output_type": "stream",
     "text": [
      "(127, 98, 3)\n",
      "(123, 94, 3)\n",
      "(118, 94, 3)\n",
      "(125, 95, 3)\n"
     ]
    },
    {
     "name": "stderr",
     "output_type": "stream",
     "text": [
      "  5%|▍         | 342/7439 [00:18<06:22, 18.53it/s]"
     ]
    },
    {
     "name": "stdout",
     "output_type": "stream",
     "text": [
      "(122, 94, 3)\n",
      "(120, 92, 3)\n",
      "(137, 101, 3)\n",
      "(128, 98, 3)\n",
      "(125, 96, 3)\n"
     ]
    },
    {
     "name": "stderr",
     "output_type": "stream",
     "text": [
      "  5%|▍         | 345/7439 [00:18<06:00, 19.68it/s]"
     ]
    },
    {
     "name": "stdout",
     "output_type": "stream",
     "text": [
      "(117, 93, 3)\n",
      "(115, 92, 3)\n",
      "(113, 90, 3)\n",
      "(118, 91, 3)\n",
      "(121, 95, 3)\n"
     ]
    },
    {
     "name": "stderr",
     "output_type": "stream",
     "text": [
      "  5%|▍         | 351/7439 [00:18<05:54, 20.00it/s]"
     ]
    },
    {
     "name": "stdout",
     "output_type": "stream",
     "text": [
      "(125, 94, 3)\n",
      "(117, 93, 3)\n",
      "(126, 98, 3)\n",
      "(121, 95, 3)\n"
     ]
    },
    {
     "name": "stderr",
     "output_type": "stream",
     "text": [
      "  5%|▍         | 355/7439 [00:18<06:02, 19.55it/s]"
     ]
    },
    {
     "name": "stdout",
     "output_type": "stream",
     "text": [
      "(121, 95, 3)\n",
      "(112, 91, 3)\n",
      "(125, 98, 3)\n",
      "(124, 94, 3)\n"
     ]
    },
    {
     "name": "stderr",
     "output_type": "stream",
     "text": [
      "  5%|▍         | 359/7439 [00:18<06:18, 18.70it/s]"
     ]
    },
    {
     "name": "stdout",
     "output_type": "stream",
     "text": [
      "(119, 94, 3)\n",
      "(117, 92, 3)\n",
      "(126, 96, 3)\n",
      "(121, 96, 3)\n"
     ]
    },
    {
     "name": "stderr",
     "output_type": "stream",
     "text": [
      "  5%|▍         | 363/7439 [00:19<06:29, 18.18it/s]"
     ]
    },
    {
     "name": "stdout",
     "output_type": "stream",
     "text": [
      "(121, 94, 3)\n",
      "(121, 92, 3)\n",
      "(122, 95, 3)\n",
      "(118, 92, 3)\n"
     ]
    },
    {
     "name": "stderr",
     "output_type": "stream",
     "text": [
      "  5%|▍         | 367/7439 [00:19<06:28, 18.19it/s]"
     ]
    },
    {
     "name": "stdout",
     "output_type": "stream",
     "text": [
      "(123, 94, 3)\n",
      "(113, 90, 3)\n",
      "(124, 96, 3)\n",
      "(123, 95, 3)\n"
     ]
    },
    {
     "name": "stderr",
     "output_type": "stream",
     "text": [
      "  5%|▍         | 371/7439 [00:19<06:30, 18.08it/s]"
     ]
    },
    {
     "name": "stdout",
     "output_type": "stream",
     "text": [
      "(123, 96, 3)\n",
      "(115, 92, 3)\n",
      "(123, 94, 3)\n",
      "(121, 96, 3)\n"
     ]
    },
    {
     "name": "stderr",
     "output_type": "stream",
     "text": [
      "  5%|▌         | 373/7439 [00:19<06:32, 17.98it/s]"
     ]
    },
    {
     "name": "stdout",
     "output_type": "stream",
     "text": [
      "(121, 94, 3)\n",
      "(123, 93, 3)\n",
      "(121, 92, 3)\n",
      "(118, 92, 3)\n"
     ]
    },
    {
     "name": "stderr",
     "output_type": "stream",
     "text": [
      "  5%|▌         | 378/7439 [00:19<06:13, 18.92it/s]"
     ]
    },
    {
     "name": "stdout",
     "output_type": "stream",
     "text": [
      "(119, 92, 3)\n",
      "(121, 95, 3)\n",
      "(117, 92, 3)\n",
      "(126, 96, 3)\n"
     ]
    },
    {
     "name": "stderr",
     "output_type": "stream",
     "text": [
      "  5%|▌         | 382/7439 [00:20<06:28, 18.17it/s]"
     ]
    },
    {
     "name": "stdout",
     "output_type": "stream",
     "text": [
      "(120, 92, 3)\n",
      "(115, 91, 3)\n",
      "(127, 97, 3)\n",
      "(119, 94, 3)\n"
     ]
    },
    {
     "name": "stderr",
     "output_type": "stream",
     "text": [
      "  5%|▌         | 386/7439 [00:20<06:33, 17.94it/s]"
     ]
    },
    {
     "name": "stdout",
     "output_type": "stream",
     "text": [
      "(130, 97, 3)\n",
      "(122, 94, 3)\n",
      "(119, 94, 3)\n",
      "(120, 94, 3)\n"
     ]
    },
    {
     "name": "stderr",
     "output_type": "stream",
     "text": [
      "  5%|▌         | 390/7439 [00:20<06:24, 18.34it/s]"
     ]
    },
    {
     "name": "stdout",
     "output_type": "stream",
     "text": [
      "(126, 96, 3)\n",
      "(120, 93, 3)\n",
      "(118, 92, 3)\n",
      "(127, 97, 3)\n"
     ]
    },
    {
     "name": "stderr",
     "output_type": "stream",
     "text": [
      "  5%|▌         | 394/7439 [00:20<06:20, 18.50it/s]"
     ]
    },
    {
     "name": "stdout",
     "output_type": "stream",
     "text": [
      "(122, 96, 3)\n",
      "(116, 91, 3)\n",
      "(120, 94, 3)\n",
      "(119, 94, 3)\n"
     ]
    },
    {
     "name": "stderr",
     "output_type": "stream",
     "text": [
      "  5%|▌         | 398/7439 [00:21<06:39, 17.62it/s]"
     ]
    },
    {
     "name": "stdout",
     "output_type": "stream",
     "text": [
      "(129, 97, 3)\n",
      "(122, 95, 3)\n",
      "(120, 95, 3)\n",
      "(118, 93, 3)\n"
     ]
    },
    {
     "name": "stderr",
     "output_type": "stream",
     "text": [
      "  5%|▌         | 402/7439 [00:21<06:25, 18.26it/s]"
     ]
    },
    {
     "name": "stdout",
     "output_type": "stream",
     "text": [
      "(116, 92, 3)\n",
      "(109, 88, 3)\n",
      "(121, 95, 3)\n",
      "(124, 95, 3)\n"
     ]
    },
    {
     "name": "stderr",
     "output_type": "stream",
     "text": [
      "  5%|▌         | 406/7439 [00:21<06:28, 18.12it/s]"
     ]
    },
    {
     "name": "stdout",
     "output_type": "stream",
     "text": [
      "(120, 95, 3)\n",
      "(115, 89, 3)\n",
      "(122, 94, 3)\n",
      "(123, 97, 3)\n"
     ]
    },
    {
     "name": "stderr",
     "output_type": "stream",
     "text": [
      "  6%|▌         | 410/7439 [00:21<06:18, 18.56it/s]"
     ]
    },
    {
     "name": "stdout",
     "output_type": "stream",
     "text": [
      "(131, 98, 3)\n",
      "(125, 97, 3)\n",
      "(135, 100, 3)\n",
      "(128, 96, 3)\n"
     ]
    },
    {
     "name": "stderr",
     "output_type": "stream",
     "text": [
      "  6%|▌         | 416/7439 [00:22<05:54, 19.79it/s]"
     ]
    },
    {
     "name": "stdout",
     "output_type": "stream",
     "text": [
      "(128, 100, 3)\n",
      "(133, 103, 3)\n",
      "(131, 101, 3)\n",
      "(129, 101, 3)\n",
      "(134, 107, 3)\n"
     ]
    },
    {
     "name": "stderr",
     "output_type": "stream",
     "text": [
      "  6%|▌         | 419/7439 [00:22<05:48, 20.14it/s]"
     ]
    },
    {
     "name": "stdout",
     "output_type": "stream",
     "text": [
      "(131, 104, 3)\n",
      "(131, 103, 3)\n",
      "(124, 95, 3)\n",
      "(127, 99, 3)\n",
      "(126, 95, 3)\n"
     ]
    },
    {
     "name": "stderr",
     "output_type": "stream",
     "text": [
      "  6%|▌         | 425/7439 [00:22<05:31, 21.15it/s]"
     ]
    },
    {
     "name": "stdout",
     "output_type": "stream",
     "text": [
      "(127, 96, 3)\n",
      "(131, 99, 3)\n",
      "(135, 102, 3)\n",
      "(130, 100, 3)\n",
      "(136, 105, 3)\n"
     ]
    },
    {
     "name": "stderr",
     "output_type": "stream",
     "text": [
      "  6%|▌         | 431/7439 [00:22<05:24, 21.56it/s]"
     ]
    },
    {
     "name": "stdout",
     "output_type": "stream",
     "text": [
      "(132, 102, 3)\n",
      "(137, 104, 3)\n",
      "(129, 102, 3)\n",
      "(125, 98, 3)\n",
      "(131, 102, 3)\n"
     ]
    },
    {
     "name": "stderr",
     "output_type": "stream",
     "text": [
      "  6%|▌         | 434/7439 [00:22<05:44, 20.35it/s]"
     ]
    },
    {
     "name": "stdout",
     "output_type": "stream",
     "text": [
      "(137, 107, 3)\n",
      "(133, 104, 3)\n",
      "(135, 104, 3)\n",
      "(131, 98, 3)\n"
     ]
    },
    {
     "name": "stderr",
     "output_type": "stream",
     "text": [
      "  6%|▌         | 437/7439 [00:23<05:47, 20.17it/s]"
     ]
    },
    {
     "name": "stdout",
     "output_type": "stream",
     "text": [
      "(135, 104, 3)\n",
      "(130, 99, 3)\n",
      "(132, 99, 3)\n",
      "(126, 97, 3)\n"
     ]
    },
    {
     "name": "stderr",
     "output_type": "stream",
     "text": [
      "  6%|▌         | 442/7439 [00:23<06:05, 19.12it/s]"
     ]
    },
    {
     "name": "stdout",
     "output_type": "stream",
     "text": [
      "(132, 101, 3)\n",
      "(127, 96, 3)\n",
      "(126, 101, 3)\n",
      "(131, 99, 3)\n"
     ]
    },
    {
     "name": "stderr",
     "output_type": "stream",
     "text": [
      "  6%|▌         | 446/7439 [00:23<06:13, 18.74it/s]"
     ]
    },
    {
     "name": "stdout",
     "output_type": "stream",
     "text": [
      "(124, 102, 3)\n",
      "(125, 98, 3)\n",
      "(126, 97, 3)\n",
      "(122, 98, 3)\n"
     ]
    },
    {
     "name": "stderr",
     "output_type": "stream",
     "text": [
      "  6%|▌         | 450/7439 [00:23<06:11, 18.83it/s]"
     ]
    },
    {
     "name": "stdout",
     "output_type": "stream",
     "text": [
      "(128, 100, 3)\n",
      "(129, 98, 3)\n",
      "(124, 95, 3)\n",
      "(123, 100, 3)\n"
     ]
    },
    {
     "name": "stderr",
     "output_type": "stream",
     "text": [
      "  6%|▌         | 455/7439 [00:23<06:03, 19.23it/s]"
     ]
    },
    {
     "name": "stdout",
     "output_type": "stream",
     "text": [
      "(132, 99, 3)\n",
      "(127, 96, 3)\n",
      "(127, 98, 3)\n",
      "(132, 103, 3)\n"
     ]
    },
    {
     "name": "stderr",
     "output_type": "stream",
     "text": [
      "  6%|▌         | 459/7439 [00:24<06:13, 18.70it/s]"
     ]
    },
    {
     "name": "stdout",
     "output_type": "stream",
     "text": [
      "(130, 101, 3)\n",
      "(133, 103, 3)\n",
      "(137, 103, 3)\n",
      "(130, 95, 3)\n"
     ]
    },
    {
     "name": "stderr",
     "output_type": "stream",
     "text": [
      "  6%|▌         | 463/7439 [00:24<06:22, 18.23it/s]"
     ]
    },
    {
     "name": "stdout",
     "output_type": "stream",
     "text": [
      "(135, 101, 3)\n",
      "(128, 99, 3)\n",
      "(138, 104, 3)\n",
      "(126, 96, 3)\n"
     ]
    },
    {
     "name": "stderr",
     "output_type": "stream",
     "text": [
      "  6%|▋         | 467/7439 [00:24<06:41, 17.35it/s]"
     ]
    },
    {
     "name": "stdout",
     "output_type": "stream",
     "text": [
      "(133, 103, 3)\n",
      "(137, 104, 3)\n",
      "(128, 98, 3)\n",
      "(128, 101, 3)\n"
     ]
    },
    {
     "name": "stderr",
     "output_type": "stream",
     "text": [
      "  6%|▋         | 471/7439 [00:24<06:33, 17.70it/s]"
     ]
    },
    {
     "name": "stdout",
     "output_type": "stream",
     "text": [
      "(123, 96, 3)\n",
      "(133, 103, 3)\n",
      "(124, 95, 3)\n",
      "(135, 105, 3)\n"
     ]
    },
    {
     "name": "stderr",
     "output_type": "stream",
     "text": [
      "  6%|▋         | 475/7439 [00:25<06:37, 17.54it/s]"
     ]
    },
    {
     "name": "stdout",
     "output_type": "stream",
     "text": [
      "(128, 98, 3)\n",
      "(129, 101, 3)\n",
      "(133, 105, 3)\n",
      "(133, 102, 3)\n"
     ]
    },
    {
     "name": "stderr",
     "output_type": "stream",
     "text": [
      "  6%|▋         | 479/7439 [00:25<06:19, 18.34it/s]"
     ]
    },
    {
     "name": "stdout",
     "output_type": "stream",
     "text": [
      "(128, 98, 3)\n",
      "(135, 100, 3)\n",
      "(135, 100, 3)\n",
      "(132, 101, 3)\n"
     ]
    },
    {
     "name": "stderr",
     "output_type": "stream",
     "text": [
      "  6%|▋         | 483/7439 [00:25<06:14, 18.59it/s]"
     ]
    },
    {
     "name": "stdout",
     "output_type": "stream",
     "text": [
      "(125, 98, 3)\n",
      "(123, 99, 3)\n",
      "(127, 99, 3)\n",
      "(129, 102, 3)\n"
     ]
    },
    {
     "name": "stderr",
     "output_type": "stream",
     "text": [
      "  7%|▋         | 485/7439 [00:25<06:08, 18.88it/s]"
     ]
    },
    {
     "name": "stdout",
     "output_type": "stream",
     "text": [
      "(129, 100, 3)\n",
      "(129, 98, 3)\n",
      "(123, 94, 3)\n",
      "(120, 93, 3)\n"
     ]
    },
    {
     "name": "stderr",
     "output_type": "stream",
     "text": [
      "  7%|▋         | 490/7439 [00:25<06:01, 19.24it/s]"
     ]
    },
    {
     "name": "stdout",
     "output_type": "stream",
     "text": [
      "(123, 94, 3)\n",
      "(130, 99, 3)\n",
      "(127, 96, 3)\n",
      "(127, 100, 3)\n"
     ]
    },
    {
     "name": "stderr",
     "output_type": "stream",
     "text": [
      "  7%|▋         | 494/7439 [00:26<05:59, 19.33it/s]"
     ]
    },
    {
     "name": "stdout",
     "output_type": "stream",
     "text": [
      "(136, 101, 3)\n",
      "(127, 99, 3)\n",
      "(132, 100, 3)\n",
      "(133, 100, 3)\n",
      "(137, 101, 3)\n"
     ]
    },
    {
     "name": "stderr",
     "output_type": "stream",
     "text": [
      "  7%|▋         | 500/7439 [00:26<05:44, 20.15it/s]"
     ]
    },
    {
     "name": "stdout",
     "output_type": "stream",
     "text": [
      "(125, 98, 3)\n",
      "(137, 101, 3)\n",
      "(143, 107, 3)\n",
      "(125, 94, 3)\n",
      "(132, 101, 3)\n"
     ]
    },
    {
     "name": "stderr",
     "output_type": "stream",
     "text": [
      "  7%|▋         | 506/7439 [00:26<05:36, 20.59it/s]"
     ]
    },
    {
     "name": "stdout",
     "output_type": "stream",
     "text": [
      "(133, 100, 3)\n",
      "(136, 102, 3)\n",
      "(137, 102, 3)\n",
      "(126, 96, 3)\n",
      "(136, 103, 3)\n"
     ]
    },
    {
     "name": "stderr",
     "output_type": "stream",
     "text": [
      "  7%|▋         | 509/7439 [00:26<05:22, 21.52it/s]"
     ]
    },
    {
     "name": "stdout",
     "output_type": "stream",
     "text": [
      "(133, 101, 3)\n",
      "(130, 101, 3)\n",
      "(139, 104, 3)\n",
      "(132, 101, 3)\n",
      "(130, 102, 3)\n"
     ]
    },
    {
     "name": "stderr",
     "output_type": "stream",
     "text": [
      "  7%|▋         | 515/7439 [00:27<05:43, 20.14it/s]"
     ]
    },
    {
     "name": "stdout",
     "output_type": "stream",
     "text": [
      "(128, 101, 3)\n",
      "(132, 104, 3)\n",
      "(132, 102, 3)\n",
      "(140, 102, 3)\n"
     ]
    },
    {
     "name": "stderr",
     "output_type": "stream",
     "text": [
      "  7%|▋         | 518/7439 [00:27<05:58, 19.30it/s]"
     ]
    },
    {
     "name": "stdout",
     "output_type": "stream",
     "text": [
      "(134, 101, 3)\n",
      "(132, 98, 3)\n",
      "(121, 94, 3)\n",
      "(128, 100, 3)\n"
     ]
    },
    {
     "name": "stderr",
     "output_type": "stream",
     "text": [
      "  7%|▋         | 522/7439 [00:27<06:20, 18.20it/s]"
     ]
    },
    {
     "name": "stdout",
     "output_type": "stream",
     "text": [
      "(132, 103, 3)\n",
      "(134, 99, 3)\n",
      "(121, 95, 3)\n",
      "(130, 99, 3)\n"
     ]
    },
    {
     "name": "stderr",
     "output_type": "stream",
     "text": [
      "  7%|▋         | 526/7439 [00:27<06:33, 17.56it/s]"
     ]
    },
    {
     "name": "stdout",
     "output_type": "stream",
     "text": [
      "(138, 103, 3)\n",
      "(122, 95, 3)\n",
      "(129, 100, 3)\n",
      "(135, 97, 3)\n"
     ]
    },
    {
     "name": "stderr",
     "output_type": "stream",
     "text": [
      "  7%|▋         | 530/7439 [00:27<06:37, 17.40it/s]"
     ]
    },
    {
     "name": "stdout",
     "output_type": "stream",
     "text": [
      "(129, 97, 3)\n",
      "(140, 105, 3)\n",
      "(126, 97, 3)\n",
      "(117, 92, 3)\n"
     ]
    },
    {
     "name": "stderr",
     "output_type": "stream",
     "text": [
      "  7%|▋         | 534/7439 [00:28<06:35, 17.45it/s]"
     ]
    },
    {
     "name": "stdout",
     "output_type": "stream",
     "text": [
      "(123, 98, 3)\n",
      "(133, 97, 3)\n",
      "(130, 102, 3)\n",
      "(137, 102, 3)\n"
     ]
    },
    {
     "name": "stderr",
     "output_type": "stream",
     "text": [
      "  7%|▋         | 537/7439 [00:28<06:34, 17.50it/s]"
     ]
    },
    {
     "name": "stdout",
     "output_type": "stream",
     "text": [
      "(138, 100, 3)\n",
      "(135, 100, 3)\n",
      "(132, 99, 3)\n"
     ]
    },
    {
     "name": "stderr",
     "output_type": "stream",
     "text": [
      "  7%|▋         | 541/7439 [00:28<06:44, 17.06it/s]"
     ]
    },
    {
     "name": "stdout",
     "output_type": "stream",
     "text": [
      "(130, 97, 3)\n",
      "(130, 97, 3)\n",
      "(140, 101, 3)\n",
      "(134, 100, 3)\n"
     ]
    },
    {
     "name": "stderr",
     "output_type": "stream",
     "text": [
      "  7%|▋         | 545/7439 [00:28<06:52, 16.73it/s]"
     ]
    },
    {
     "name": "stdout",
     "output_type": "stream",
     "text": [
      "(122, 94, 3)\n",
      "(132, 101, 3)\n",
      "(130, 96, 3)\n",
      "(133, 103, 3)\n"
     ]
    },
    {
     "name": "stderr",
     "output_type": "stream",
     "text": [
      "  7%|▋         | 549/7439 [00:29<06:36, 17.40it/s]"
     ]
    },
    {
     "name": "stdout",
     "output_type": "stream",
     "text": [
      "(132, 98, 3)\n",
      "(126, 97, 3)\n",
      "(130, 98, 3)\n",
      "(129, 100, 3)\n"
     ]
    },
    {
     "name": "stderr",
     "output_type": "stream",
     "text": [
      "  7%|▋         | 553/7439 [00:29<06:33, 17.51it/s]"
     ]
    },
    {
     "name": "stdout",
     "output_type": "stream",
     "text": [
      "(136, 100, 3)\n",
      "(130, 99, 3)\n",
      "(132, 100, 3)\n",
      "(133, 99, 3)\n"
     ]
    },
    {
     "name": "stderr",
     "output_type": "stream",
     "text": [
      "  8%|▊         | 558/7439 [00:29<06:41, 17.15it/s]"
     ]
    },
    {
     "name": "stdout",
     "output_type": "stream",
     "text": [
      "(124, 98, 3)\n",
      "(136, 102, 3)\n",
      "(129, 100, 3)\n",
      "(148, 108, 3)\n"
     ]
    },
    {
     "name": "stderr",
     "output_type": "stream",
     "text": [
      "  8%|▊         | 562/7439 [00:29<06:23, 17.93it/s]"
     ]
    },
    {
     "name": "stdout",
     "output_type": "stream",
     "text": [
      "(138, 104, 3)\n",
      "(137, 105, 3)\n",
      "(130, 99, 3)\n",
      "(133, 105, 3)\n"
     ]
    },
    {
     "name": "stderr",
     "output_type": "stream",
     "text": [
      "  8%|▊         | 564/7439 [00:29<06:16, 18.26it/s]"
     ]
    },
    {
     "name": "stdout",
     "output_type": "stream",
     "text": [
      "(133, 99, 3)\n",
      "(126, 97, 3)\n",
      "(133, 100, 3)\n",
      "(130, 101, 3)\n"
     ]
    },
    {
     "name": "stderr",
     "output_type": "stream",
     "text": [
      "  8%|▊         | 569/7439 [00:30<06:12, 18.43it/s]"
     ]
    },
    {
     "name": "stdout",
     "output_type": "stream",
     "text": [
      "(128, 99, 3)\n",
      "(133, 101, 3)\n",
      "(129, 98, 3)\n",
      "(131, 101, 3)\n"
     ]
    },
    {
     "name": "stderr",
     "output_type": "stream",
     "text": [
      "  8%|▊         | 573/7439 [00:30<06:20, 18.03it/s]"
     ]
    },
    {
     "name": "stdout",
     "output_type": "stream",
     "text": [
      "(129, 100, 3)\n",
      "(136, 101, 3)\n",
      "(125, 99, 3)\n",
      "(149, 119, 3)\n"
     ]
    },
    {
     "name": "stderr",
     "output_type": "stream",
     "text": [
      "  8%|▊         | 577/7439 [00:30<06:10, 18.50it/s]"
     ]
    },
    {
     "name": "stdout",
     "output_type": "stream",
     "text": [
      "(136, 107, 3)\n",
      "(129, 106, 3)\n",
      "(139, 108, 3)\n",
      "(139, 111, 3)\n"
     ]
    },
    {
     "name": "stderr",
     "output_type": "stream",
     "text": [
      "  8%|▊         | 582/7439 [00:30<05:54, 19.35it/s]"
     ]
    },
    {
     "name": "stdout",
     "output_type": "stream",
     "text": [
      "(141, 113, 3)\n",
      "(149, 115, 3)\n",
      "(136, 109, 3)\n",
      "(135, 109, 3)\n"
     ]
    },
    {
     "name": "stderr",
     "output_type": "stream",
     "text": [
      "  8%|▊         | 586/7439 [00:31<05:58, 19.09it/s]"
     ]
    },
    {
     "name": "stdout",
     "output_type": "stream",
     "text": [
      "(141, 108, 3)\n",
      "(131, 108, 3)\n",
      "(132, 105, 3)\n",
      "(144, 111, 3)\n"
     ]
    },
    {
     "name": "stderr",
     "output_type": "stream",
     "text": [
      "  8%|▊         | 589/7439 [00:31<05:51, 19.50it/s]"
     ]
    },
    {
     "name": "stdout",
     "output_type": "stream",
     "text": [
      "(138, 114, 3)\n",
      "(138, 109, 3)\n",
      "(148, 115, 3)\n",
      "(148, 118, 3)\n",
      "(147, 117, 3)\n"
     ]
    },
    {
     "name": "stderr",
     "output_type": "stream",
     "text": [
      "  8%|▊         | 595/7439 [00:31<05:40, 20.09it/s]"
     ]
    },
    {
     "name": "stdout",
     "output_type": "stream",
     "text": [
      "(137, 109, 3)\n",
      "(141, 112, 3)\n",
      "(149, 113, 3)\n",
      "(149, 120, 3)\n"
     ]
    },
    {
     "name": "stderr",
     "output_type": "stream",
     "text": [
      "  8%|▊         | 598/7439 [00:31<06:00, 18.98it/s]"
     ]
    },
    {
     "name": "stdout",
     "output_type": "stream",
     "text": [
      "(150, 119, 3)\n",
      "(144, 112, 3)\n",
      "(151, 115, 3)\n",
      "(158, 119, 3)\n"
     ]
    },
    {
     "name": "stderr",
     "output_type": "stream",
     "text": [
      "  8%|▊         | 603/7439 [00:31<06:11, 18.38it/s]"
     ]
    },
    {
     "name": "stdout",
     "output_type": "stream",
     "text": [
      "(145, 111, 3)\n",
      "(148, 116, 3)\n",
      "(149, 121, 3)\n",
      "(137, 109, 3)\n"
     ]
    },
    {
     "name": "stderr",
     "output_type": "stream",
     "text": [
      "  8%|▊         | 607/7439 [00:32<06:24, 17.75it/s]"
     ]
    },
    {
     "name": "stdout",
     "output_type": "stream",
     "text": [
      "(135, 107, 3)\n",
      "(142, 113, 3)\n",
      "(134, 106, 3)\n",
      "(138, 107, 3)\n"
     ]
    },
    {
     "name": "stderr",
     "output_type": "stream",
     "text": [
      "  8%|▊         | 611/7439 [00:32<06:33, 17.37it/s]"
     ]
    },
    {
     "name": "stdout",
     "output_type": "stream",
     "text": [
      "(159, 123, 3)\n",
      "(130, 103, 3)\n",
      "(135, 103, 3)\n",
      "(140, 113, 3)\n"
     ]
    },
    {
     "name": "stderr",
     "output_type": "stream",
     "text": [
      "  8%|▊         | 615/7439 [00:32<06:34, 17.28it/s]"
     ]
    },
    {
     "name": "stdout",
     "output_type": "stream",
     "text": [
      "(134, 107, 3)\n",
      "(135, 108, 3)\n",
      "(151, 122, 3)\n",
      "(132, 107, 3)\n"
     ]
    },
    {
     "name": "stderr",
     "output_type": "stream",
     "text": [
      "  8%|▊         | 619/7439 [00:32<06:27, 17.59it/s]"
     ]
    },
    {
     "name": "stdout",
     "output_type": "stream",
     "text": [
      "(137, 110, 3)\n",
      "(150, 116, 3)\n",
      "(139, 107, 3)\n",
      "(145, 117, 3)\n"
     ]
    },
    {
     "name": "stderr",
     "output_type": "stream",
     "text": [
      "  8%|▊         | 623/7439 [00:33<06:18, 18.00it/s]"
     ]
    },
    {
     "name": "stdout",
     "output_type": "stream",
     "text": [
      "(148, 112, 3)\n",
      "(138, 110, 3)\n",
      "(128, 104, 3)\n",
      "(142, 112, 3)\n"
     ]
    },
    {
     "name": "stderr",
     "output_type": "stream",
     "text": [
      "  8%|▊         | 627/7439 [00:33<06:28, 17.55it/s]"
     ]
    },
    {
     "name": "stdout",
     "output_type": "stream",
     "text": [
      "(133, 106, 3)\n",
      "(140, 112, 3)\n",
      "(152, 118, 3)\n",
      "(144, 111, 3)\n"
     ]
    },
    {
     "name": "stderr",
     "output_type": "stream",
     "text": [
      "  8%|▊         | 631/7439 [00:33<06:28, 17.51it/s]"
     ]
    },
    {
     "name": "stdout",
     "output_type": "stream",
     "text": [
      "(133, 107, 3)\n",
      "(150, 115, 3)\n",
      "(136, 108, 3)\n",
      "(145, 113, 3)\n"
     ]
    },
    {
     "name": "stderr",
     "output_type": "stream",
     "text": [
      "  9%|▊         | 635/7439 [00:33<06:35, 17.19it/s]"
     ]
    },
    {
     "name": "stdout",
     "output_type": "stream",
     "text": [
      "(141, 114, 3)\n",
      "(139, 109, 3)\n",
      "(154, 116, 3)\n",
      "(138, 111, 3)\n"
     ]
    },
    {
     "name": "stderr",
     "output_type": "stream",
     "text": [
      "  9%|▊         | 637/7439 [00:33<06:34, 17.22it/s]"
     ]
    },
    {
     "name": "stdout",
     "output_type": "stream",
     "text": [
      "(132, 106, 3)\n",
      "(137, 110, 3)\n",
      "(153, 122, 3)\n"
     ]
    },
    {
     "name": "stderr",
     "output_type": "stream",
     "text": [
      "  9%|▊         | 639/7439 [00:34<07:09, 15.81it/s]"
     ]
    },
    {
     "name": "stdout",
     "output_type": "stream",
     "text": [
      "(147, 111, 3)\n",
      "(143, 106, 3)\n"
     ]
    },
    {
     "name": "stderr",
     "output_type": "stream",
     "text": [
      "  9%|▊         | 643/7439 [00:34<08:32, 13.27it/s]"
     ]
    },
    {
     "name": "stdout",
     "output_type": "stream",
     "text": [
      "(145, 111, 3)\n",
      "(136, 108, 3)\n",
      "(157, 118, 3)\n",
      "(142, 115, 3)\n"
     ]
    },
    {
     "name": "stderr",
     "output_type": "stream",
     "text": [
      "  9%|▊         | 647/7439 [00:34<07:13, 15.68it/s]"
     ]
    },
    {
     "name": "stdout",
     "output_type": "stream",
     "text": [
      "(132, 106, 3)\n",
      "(133, 105, 3)\n",
      "(141, 111, 3)\n",
      "(135, 108, 3)\n"
     ]
    },
    {
     "name": "stderr",
     "output_type": "stream",
     "text": [
      "  9%|▉         | 651/7439 [00:34<06:40, 16.93it/s]"
     ]
    },
    {
     "name": "stdout",
     "output_type": "stream",
     "text": [
      "(145, 113, 3)\n",
      "(167, 121, 3)\n",
      "(141, 111, 3)\n",
      "(151, 113, 3)\n"
     ]
    },
    {
     "name": "stderr",
     "output_type": "stream",
     "text": [
      "  9%|▉         | 655/7439 [00:35<06:16, 18.01it/s]"
     ]
    },
    {
     "name": "stdout",
     "output_type": "stream",
     "text": [
      "(149, 114, 3)\n",
      "(139, 111, 3)\n",
      "(145, 117, 3)\n",
      "(147, 116, 3)\n"
     ]
    },
    {
     "name": "stderr",
     "output_type": "stream",
     "text": [
      "  9%|▉         | 661/7439 [00:35<05:45, 19.63it/s]"
     ]
    },
    {
     "name": "stdout",
     "output_type": "stream",
     "text": [
      "(142, 115, 3)\n",
      "(147, 115, 3)\n",
      "(145, 114, 3)\n",
      "(133, 109, 3)\n",
      "(149, 118, 3)\n"
     ]
    },
    {
     "name": "stderr",
     "output_type": "stream",
     "text": [
      "  9%|▉         | 664/7439 [00:35<05:37, 20.04it/s]"
     ]
    },
    {
     "name": "stdout",
     "output_type": "stream",
     "text": [
      "(137, 108, 3)\n",
      "(142, 114, 3)\n",
      "(140, 111, 3)\n",
      "(148, 117, 3)\n",
      "(147, 116, 3)\n"
     ]
    },
    {
     "name": "stderr",
     "output_type": "stream",
     "text": [
      "  9%|▉         | 669/7439 [00:35<05:52, 19.23it/s]"
     ]
    },
    {
     "name": "stdout",
     "output_type": "stream",
     "text": [
      "(150, 119, 3)\n",
      "(140, 111, 3)\n",
      "(141, 111, 3)\n",
      "(150, 118, 3)\n"
     ]
    },
    {
     "name": "stderr",
     "output_type": "stream",
     "text": [
      "  9%|▉         | 673/7439 [00:36<05:56, 18.97it/s]"
     ]
    },
    {
     "name": "stdout",
     "output_type": "stream",
     "text": [
      "(135, 108, 3)\n",
      "(145, 117, 3)\n",
      "(140, 110, 3)\n",
      "(132, 106, 3)\n"
     ]
    },
    {
     "name": "stderr",
     "output_type": "stream",
     "text": [
      "  9%|▉         | 678/7439 [00:36<05:48, 19.38it/s]"
     ]
    },
    {
     "name": "stdout",
     "output_type": "stream",
     "text": [
      "(146, 116, 3)\n",
      "(146, 115, 3)\n",
      "(143, 114, 3)\n",
      "(148, 118, 3)\n"
     ]
    },
    {
     "name": "stderr",
     "output_type": "stream",
     "text": [
      "  9%|▉         | 682/7439 [00:36<05:51, 19.20it/s]"
     ]
    },
    {
     "name": "stdout",
     "output_type": "stream",
     "text": [
      "(133, 105, 3)\n",
      "(142, 110, 3)\n",
      "(138, 113, 3)\n",
      "(145, 113, 3)\n"
     ]
    },
    {
     "name": "stderr",
     "output_type": "stream",
     "text": [
      "  9%|▉         | 686/7439 [00:36<06:09, 18.25it/s]"
     ]
    },
    {
     "name": "stdout",
     "output_type": "stream",
     "text": [
      "(143, 114, 3)\n",
      "(145, 116, 3)\n",
      "(136, 104, 3)\n",
      "(136, 111, 3)\n"
     ]
    },
    {
     "name": "stderr",
     "output_type": "stream",
     "text": [
      "  9%|▉         | 690/7439 [00:36<06:04, 18.50it/s]"
     ]
    },
    {
     "name": "stdout",
     "output_type": "stream",
     "text": [
      "(148, 115, 3)\n",
      "(135, 106, 3)\n",
      "(138, 111, 3)\n",
      "(150, 118, 3)\n"
     ]
    },
    {
     "name": "stderr",
     "output_type": "stream",
     "text": [
      "  9%|▉         | 694/7439 [00:37<05:57, 18.89it/s]"
     ]
    },
    {
     "name": "stdout",
     "output_type": "stream",
     "text": [
      "(142, 113, 3)\n",
      "(145, 113, 3)\n",
      "(131, 106, 3)\n",
      "(140, 110, 3)\n"
     ]
    },
    {
     "name": "stderr",
     "output_type": "stream",
     "text": [
      "  9%|▉         | 698/7439 [00:37<06:05, 18.46it/s]"
     ]
    },
    {
     "name": "stdout",
     "output_type": "stream",
     "text": [
      "(142, 113, 3)\n",
      "(145, 113, 3)\n",
      "(139, 112, 3)\n",
      "(129, 102, 3)\n"
     ]
    },
    {
     "name": "stderr",
     "output_type": "stream",
     "text": [
      "  9%|▉         | 701/7439 [00:37<05:49, 19.30it/s]"
     ]
    },
    {
     "name": "stdout",
     "output_type": "stream",
     "text": [
      "(146, 111, 3)\n",
      "(138, 111, 3)\n",
      "(138, 108, 3)\n",
      "(147, 117, 3)\n"
     ]
    },
    {
     "name": "stderr",
     "output_type": "stream",
     "text": [
      "  9%|▉         | 705/7439 [00:37<05:55, 18.94it/s]"
     ]
    },
    {
     "name": "stdout",
     "output_type": "stream",
     "text": [
      "(133, 107, 3)\n",
      "(148, 116, 3)\n",
      "(143, 114, 3)\n",
      "(143, 111, 3)\n"
     ]
    },
    {
     "name": "stderr",
     "output_type": "stream",
     "text": [
      " 10%|▉         | 709/7439 [00:37<06:14, 17.99it/s]"
     ]
    },
    {
     "name": "stdout",
     "output_type": "stream",
     "text": [
      "(139, 112, 3)\n",
      "(143, 114, 3)\n",
      "(142, 112, 3)\n",
      "(143, 112, 3)\n"
     ]
    },
    {
     "name": "stderr",
     "output_type": "stream",
     "text": [
      " 10%|▉         | 713/7439 [00:38<06:02, 18.54it/s]"
     ]
    },
    {
     "name": "stdout",
     "output_type": "stream",
     "text": [
      "(153, 116, 3)\n",
      "(142, 112, 3)\n",
      "(144, 113, 3)\n",
      "(149, 117, 3)\n"
     ]
    },
    {
     "name": "stderr",
     "output_type": "stream",
     "text": [
      " 10%|▉         | 718/7439 [00:38<05:43, 19.58it/s]"
     ]
    },
    {
     "name": "stdout",
     "output_type": "stream",
     "text": [
      "(135, 108, 3)\n",
      "(149, 115, 3)\n",
      "(146, 115, 3)\n",
      "(140, 114, 3)\n"
     ]
    },
    {
     "name": "stderr",
     "output_type": "stream",
     "text": [
      " 10%|▉         | 722/7439 [00:38<06:02, 18.52it/s]"
     ]
    },
    {
     "name": "stdout",
     "output_type": "stream",
     "text": [
      "(140, 115, 3)\n",
      "(147, 118, 3)\n",
      "(133, 108, 3)\n",
      "(125, 104, 3)\n"
     ]
    },
    {
     "name": "stderr",
     "output_type": "stream",
     "text": [
      " 10%|▉         | 726/7439 [00:38<06:24, 17.47it/s]"
     ]
    },
    {
     "name": "stdout",
     "output_type": "stream",
     "text": [
      "(143, 111, 3)\n",
      "(142, 113, 3)\n",
      "(138, 112, 3)\n",
      "(146, 111, 3)\n"
     ]
    },
    {
     "name": "stderr",
     "output_type": "stream",
     "text": [
      " 10%|▉         | 729/7439 [00:39<05:57, 18.77it/s]"
     ]
    },
    {
     "name": "stdout",
     "output_type": "stream",
     "text": [
      "(139, 106, 3)\n",
      "(143, 112, 3)\n",
      "(148, 111, 3)\n",
      "(143, 111, 3)\n",
      "(147, 113, 3)\n"
     ]
    },
    {
     "name": "stderr",
     "output_type": "stream",
     "text": [
      " 10%|▉         | 735/7439 [00:39<05:41, 19.64it/s]"
     ]
    },
    {
     "name": "stdout",
     "output_type": "stream",
     "text": [
      "(147, 116, 3)\n",
      "(143, 109, 3)\n",
      "(141, 108, 3)\n",
      "(135, 105, 3)\n"
     ]
    },
    {
     "name": "stderr",
     "output_type": "stream",
     "text": [
      " 10%|▉         | 739/7439 [00:39<05:42, 19.57it/s]"
     ]
    },
    {
     "name": "stdout",
     "output_type": "stream",
     "text": [
      "(131, 103, 3)\n",
      "(137, 105, 3)\n",
      "(142, 108, 3)\n",
      "(139, 108, 3)\n"
     ]
    },
    {
     "name": "stderr",
     "output_type": "stream",
     "text": [
      " 10%|▉         | 742/7439 [00:39<05:34, 20.00it/s]"
     ]
    },
    {
     "name": "stdout",
     "output_type": "stream",
     "text": [
      "(134, 104, 3)\n",
      "(139, 109, 3)\n",
      "(132, 105, 3)\n",
      "(134, 107, 3)\n",
      "(138, 108, 3)\n"
     ]
    },
    {
     "name": "stderr",
     "output_type": "stream",
     "text": [
      " 10%|█         | 748/7439 [00:39<05:33, 20.06it/s]"
     ]
    },
    {
     "name": "stdout",
     "output_type": "stream",
     "text": [
      "(134, 104, 3)\n",
      "(134, 106, 3)\n",
      "(139, 106, 3)\n",
      "(138, 107, 3)\n",
      "(139, 107, 3)\n"
     ]
    },
    {
     "name": "stderr",
     "output_type": "stream",
     "text": [
      " 10%|█         | 754/7439 [00:40<05:33, 20.07it/s]"
     ]
    },
    {
     "name": "stdout",
     "output_type": "stream",
     "text": [
      "(137, 107, 3)\n",
      "(136, 106, 3)\n",
      "(139, 107, 3)\n",
      "(137, 107, 3)\n",
      "(143, 110, 3)\n"
     ]
    },
    {
     "name": "stderr",
     "output_type": "stream",
     "text": [
      " 10%|█         | 757/7439 [00:40<05:35, 19.94it/s]"
     ]
    },
    {
     "name": "stdout",
     "output_type": "stream",
     "text": [
      "(139, 108, 3)\n",
      "(145, 112, 3)\n",
      "(143, 110, 3)\n",
      "(140, 108, 3)\n"
     ]
    },
    {
     "name": "stderr",
     "output_type": "stream",
     "text": [
      " 10%|█         | 761/7439 [00:40<05:41, 19.56it/s]"
     ]
    },
    {
     "name": "stdout",
     "output_type": "stream",
     "text": [
      "(135, 106, 3)\n",
      "(142, 111, 3)\n",
      "(137, 107, 3)\n",
      "(135, 106, 3)\n",
      "(133, 105, 3)\n"
     ]
    },
    {
     "name": "stderr",
     "output_type": "stream",
     "text": [
      " 10%|█         | 766/7439 [00:40<05:42, 19.49it/s]"
     ]
    },
    {
     "name": "stdout",
     "output_type": "stream",
     "text": [
      "(142, 112, 3)\n",
      "(143, 108, 3)\n",
      "(143, 110, 3)\n",
      "(137, 106, 3)\n"
     ]
    },
    {
     "name": "stderr",
     "output_type": "stream",
     "text": [
      " 10%|█         | 770/7439 [00:41<05:41, 19.54it/s]"
     ]
    },
    {
     "name": "stdout",
     "output_type": "stream",
     "text": [
      "(143, 111, 3)\n",
      "(146, 112, 3)\n",
      "(147, 111, 3)\n",
      "(140, 108, 3)\n"
     ]
    },
    {
     "name": "stderr",
     "output_type": "stream",
     "text": [
      " 10%|█         | 775/7439 [00:41<05:46, 19.24it/s]"
     ]
    },
    {
     "name": "stdout",
     "output_type": "stream",
     "text": [
      "(140, 109, 3)\n",
      "(146, 109, 3)\n",
      "(129, 101, 3)\n",
      "(146, 111, 3)\n"
     ]
    },
    {
     "name": "stderr",
     "output_type": "stream",
     "text": [
      " 10%|█         | 779/7439 [00:41<05:42, 19.42it/s]"
     ]
    },
    {
     "name": "stdout",
     "output_type": "stream",
     "text": [
      "(131, 103, 3)\n",
      "(138, 107, 3)\n",
      "(148, 114, 3)\n",
      "(143, 108, 3)\n"
     ]
    },
    {
     "name": "stderr",
     "output_type": "stream",
     "text": [
      " 11%|█         | 782/7439 [00:41<05:35, 19.84it/s]"
     ]
    },
    {
     "name": "stdout",
     "output_type": "stream",
     "text": [
      "(139, 109, 3)\n",
      "(152, 114, 3)\n",
      "(129, 101, 3)\n",
      "(135, 105, 3)\n",
      "(152, 112, 3)\n"
     ]
    },
    {
     "name": "stderr",
     "output_type": "stream",
     "text": [
      " 11%|█         | 788/7439 [00:42<05:34, 19.87it/s]"
     ]
    },
    {
     "name": "stdout",
     "output_type": "stream",
     "text": [
      "(133, 102, 3)\n",
      "(142, 108, 3)\n",
      "(143, 113, 3)\n",
      "(136, 104, 3)\n"
     ]
    },
    {
     "name": "stderr",
     "output_type": "stream",
     "text": [
      " 11%|█         | 792/7439 [00:42<05:52, 18.84it/s]"
     ]
    },
    {
     "name": "stdout",
     "output_type": "stream",
     "text": [
      "(142, 110, 3)\n",
      "(143, 109, 3)\n",
      "(138, 107, 3)\n",
      "(142, 110, 3)\n"
     ]
    },
    {
     "name": "stderr",
     "output_type": "stream",
     "text": [
      " 11%|█         | 796/7439 [00:42<05:52, 18.84it/s]"
     ]
    },
    {
     "name": "stdout",
     "output_type": "stream",
     "text": [
      "(140, 107, 3)\n",
      "(137, 107, 3)\n",
      "(136, 107, 3)\n",
      "(146, 110, 3)\n"
     ]
    },
    {
     "name": "stderr",
     "output_type": "stream",
     "text": [
      " 11%|█         | 799/7439 [00:42<05:37, 19.66it/s]"
     ]
    },
    {
     "name": "stdout",
     "output_type": "stream",
     "text": [
      "(132, 101, 3)\n",
      "(139, 108, 3)\n",
      "(151, 115, 3)\n",
      "(141, 111, 3)\n",
      "(139, 108, 3)\n"
     ]
    },
    {
     "name": "stderr",
     "output_type": "stream",
     "text": [
      " 11%|█         | 804/7439 [00:42<05:38, 19.60it/s]"
     ]
    },
    {
     "name": "stdout",
     "output_type": "stream",
     "text": [
      "(140, 109, 3)\n",
      "(139, 109, 3)\n",
      "(147, 108, 3)\n",
      "(144, 110, 3)\n"
     ]
    },
    {
     "name": "stderr",
     "output_type": "stream",
     "text": [
      " 11%|█         | 809/7439 [00:43<05:38, 19.58it/s]"
     ]
    },
    {
     "name": "stdout",
     "output_type": "stream",
     "text": [
      "(140, 106, 3)\n",
      "(140, 108, 3)\n",
      "(141, 113, 3)\n",
      "(140, 114, 3)\n"
     ]
    },
    {
     "name": "stderr",
     "output_type": "stream",
     "text": [
      " 11%|█         | 814/7439 [00:43<05:33, 19.84it/s]"
     ]
    },
    {
     "name": "stdout",
     "output_type": "stream",
     "text": [
      "(145, 117, 3)\n",
      "(141, 116, 3)\n",
      "(141, 113, 3)\n",
      "(142, 117, 3)\n",
      "(140, 112, 3)\n"
     ]
    },
    {
     "name": "stderr",
     "output_type": "stream",
     "text": [
      " 11%|█         | 818/7439 [00:43<05:34, 19.77it/s]"
     ]
    },
    {
     "name": "stdout",
     "output_type": "stream",
     "text": [
      "(139, 109, 3)\n",
      "(138, 111, 3)\n",
      "(134, 108, 3)\n",
      "(135, 109, 3)\n"
     ]
    },
    {
     "name": "stderr",
     "output_type": "stream",
     "text": [
      " 11%|█         | 822/7439 [00:43<05:34, 19.78it/s]"
     ]
    },
    {
     "name": "stdout",
     "output_type": "stream",
     "text": [
      "(136, 105, 3)\n",
      "(151, 118, 3)\n",
      "(138, 109, 3)\n",
      "(136, 109, 3)\n",
      "(142, 113, 3)\n"
     ]
    },
    {
     "name": "stderr",
     "output_type": "stream",
     "text": [
      " 11%|█         | 828/7439 [00:44<05:24, 20.38it/s]"
     ]
    },
    {
     "name": "stdout",
     "output_type": "stream",
     "text": [
      "(140, 114, 3)\n",
      "(130, 106, 3)\n",
      "(136, 110, 3)\n",
      "(137, 112, 3)\n",
      "(136, 110, 3)\n"
     ]
    },
    {
     "name": "stderr",
     "output_type": "stream",
     "text": [
      " 11%|█         | 831/7439 [00:44<05:32, 19.85it/s]"
     ]
    },
    {
     "name": "stdout",
     "output_type": "stream",
     "text": [
      "(141, 112, 3)\n",
      "(138, 111, 3)\n",
      "(141, 112, 3)\n",
      "(140, 113, 3)\n"
     ]
    },
    {
     "name": "stderr",
     "output_type": "stream",
     "text": [
      " 11%|█         | 836/7439 [00:44<05:33, 19.80it/s]"
     ]
    },
    {
     "name": "stdout",
     "output_type": "stream",
     "text": [
      "(136, 111, 3)\n",
      "(138, 110, 3)\n",
      "(140, 114, 3)\n",
      "(147, 116, 3)\n"
     ]
    },
    {
     "name": "stderr",
     "output_type": "stream",
     "text": [
      " 11%|█▏        | 840/7439 [00:44<05:37, 19.53it/s]"
     ]
    },
    {
     "name": "stdout",
     "output_type": "stream",
     "text": [
      "(136, 109, 3)\n",
      "(142, 116, 3)\n",
      "(135, 108, 3)\n",
      "(141, 115, 3)\n",
      "(137, 111, 3)\n"
     ]
    },
    {
     "name": "stderr",
     "output_type": "stream",
     "text": [
      " 11%|█▏        | 846/7439 [00:44<05:31, 19.90it/s]"
     ]
    },
    {
     "name": "stdout",
     "output_type": "stream",
     "text": [
      "(141, 116, 3)\n",
      "(132, 110, 3)\n",
      "(143, 116, 3)\n",
      "(135, 113, 3)\n",
      "(138, 114, 3)\n"
     ]
    },
    {
     "name": "stderr",
     "output_type": "stream",
     "text": [
      " 11%|█▏        | 851/7439 [00:45<05:25, 20.26it/s]"
     ]
    },
    {
     "name": "stdout",
     "output_type": "stream",
     "text": [
      "(140, 113, 3)\n",
      "(142, 115, 3)\n",
      "(134, 108, 3)\n",
      "(139, 113, 3)\n",
      "(142, 116, 3)\n"
     ]
    },
    {
     "name": "stderr",
     "output_type": "stream",
     "text": [
      " 11%|█▏        | 854/7439 [00:45<05:27, 20.09it/s]"
     ]
    },
    {
     "name": "stdout",
     "output_type": "stream",
     "text": [
      "(134, 108, 3)\n",
      "(139, 114, 3)\n",
      "(136, 112, 3)\n",
      "(135, 109, 3)\n"
     ]
    },
    {
     "name": "stderr",
     "output_type": "stream",
     "text": [
      " 12%|█▏        | 860/7439 [00:45<05:28, 20.06it/s]"
     ]
    },
    {
     "name": "stdout",
     "output_type": "stream",
     "text": [
      "(137, 112, 3)\n",
      "(134, 111, 3)\n",
      "(140, 111, 3)\n",
      "(139, 114, 3)\n",
      "(141, 113, 3)\n"
     ]
    },
    {
     "name": "stderr",
     "output_type": "stream",
     "text": [
      " 12%|█▏        | 863/7439 [00:45<05:30, 19.87it/s]"
     ]
    },
    {
     "name": "stdout",
     "output_type": "stream",
     "text": [
      "(139, 112, 3)\n",
      "(141, 113, 3)\n",
      "(143, 114, 3)\n",
      "(136, 112, 3)\n"
     ]
    },
    {
     "name": "stderr",
     "output_type": "stream",
     "text": [
      " 12%|█▏        | 867/7439 [00:46<05:36, 19.52it/s]"
     ]
    },
    {
     "name": "stdout",
     "output_type": "stream",
     "text": [
      "(136, 110, 3)\n",
      "(140, 114, 3)\n",
      "(132, 109, 3)\n",
      "(135, 112, 3)\n"
     ]
    },
    {
     "name": "stderr",
     "output_type": "stream",
     "text": [
      " 12%|█▏        | 872/7439 [00:46<05:37, 19.44it/s]"
     ]
    },
    {
     "name": "stdout",
     "output_type": "stream",
     "text": [
      "(133, 110, 3)\n",
      "(139, 111, 3)\n",
      "(130, 107, 3)\n",
      "(133, 111, 3)\n"
     ]
    },
    {
     "name": "stderr",
     "output_type": "stream",
     "text": [
      " 12%|█▏        | 874/7439 [00:46<05:50, 18.72it/s]"
     ]
    },
    {
     "name": "stdout",
     "output_type": "stream",
     "text": [
      "(138, 110, 3)\n",
      "(141, 114, 3)\n",
      "(145, 111, 3)\n",
      "(140, 113, 3)\n"
     ]
    },
    {
     "name": "stderr",
     "output_type": "stream",
     "text": [
      " 12%|█▏        | 879/7439 [00:46<05:47, 18.89it/s]"
     ]
    },
    {
     "name": "stdout",
     "output_type": "stream",
     "text": [
      "(136, 110, 3)\n",
      "(134, 110, 3)\n",
      "(128, 108, 3)\n",
      "(143, 116, 3)\n",
      "(135, 114, 3)\n"
     ]
    },
    {
     "name": "stderr",
     "output_type": "stream",
     "text": [
      " 12%|█▏        | 884/7439 [00:46<05:37, 19.41it/s]"
     ]
    },
    {
     "name": "stdout",
     "output_type": "stream",
     "text": [
      "(138, 114, 3)\n",
      "(138, 111, 3)\n",
      "(141, 115, 3)\n",
      "(134, 111, 3)\n"
     ]
    },
    {
     "name": "stderr",
     "output_type": "stream",
     "text": [
      " 12%|█▏        | 888/7439 [00:47<05:33, 19.66it/s]"
     ]
    },
    {
     "name": "stdout",
     "output_type": "stream",
     "text": [
      "(139, 110, 3)\n",
      "(139, 110, 3)\n",
      "(138, 112, 3)\n",
      "(140, 115, 3)\n"
     ]
    },
    {
     "name": "stderr",
     "output_type": "stream",
     "text": [
      " 12%|█▏        | 893/7439 [00:47<05:22, 20.28it/s]"
     ]
    },
    {
     "name": "stdout",
     "output_type": "stream",
     "text": [
      "(124, 99, 3)\n",
      "(116, 94, 3)\n",
      "(121, 99, 3)\n",
      "(123, 95, 3)\n",
      "(124, 98, 3)\n"
     ]
    },
    {
     "name": "stderr",
     "output_type": "stream",
     "text": [
      " 12%|█▏        | 899/7439 [00:47<05:19, 20.44it/s]"
     ]
    },
    {
     "name": "stdout",
     "output_type": "stream",
     "text": [
      "(125, 100, 3)\n",
      "(136, 107, 3)\n",
      "(127, 99, 3)\n",
      "(127, 100, 3)\n",
      "(118, 92, 3)\n"
     ]
    },
    {
     "name": "stderr",
     "output_type": "stream",
     "text": [
      " 12%|█▏        | 902/7439 [00:47<05:22, 20.30it/s]"
     ]
    },
    {
     "name": "stdout",
     "output_type": "stream",
     "text": [
      "(115, 91, 3)\n",
      "(120, 95, 3)\n",
      "(122, 95, 3)\n",
      "(123, 99, 3)\n"
     ]
    },
    {
     "name": "stderr",
     "output_type": "stream",
     "text": [
      " 12%|█▏        | 908/7439 [00:48<05:22, 20.28it/s]"
     ]
    },
    {
     "name": "stdout",
     "output_type": "stream",
     "text": [
      "(120, 97, 3)\n",
      "(118, 97, 3)\n",
      "(121, 96, 3)\n",
      "(123, 99, 3)\n",
      "(119, 97, 3)\n"
     ]
    },
    {
     "name": "stderr",
     "output_type": "stream",
     "text": [
      " 12%|█▏        | 911/7439 [00:48<05:23, 20.19it/s]"
     ]
    },
    {
     "name": "stdout",
     "output_type": "stream",
     "text": [
      "(131, 102, 3)\n",
      "(128, 99, 3)\n",
      "(125, 100, 3)\n",
      "(128, 103, 3)\n",
      "(118, 93, 3)\n"
     ]
    },
    {
     "name": "stderr",
     "output_type": "stream",
     "text": [
      " 12%|█▏        | 917/7439 [00:48<05:16, 20.61it/s]"
     ]
    },
    {
     "name": "stdout",
     "output_type": "stream",
     "text": [
      "(120, 96, 3)\n",
      "(126, 97, 3)\n",
      "(124, 96, 3)\n",
      "(121, 98, 3)\n",
      "(123, 97, 3)\n"
     ]
    },
    {
     "name": "stderr",
     "output_type": "stream",
     "text": [
      " 12%|█▏        | 920/7439 [00:48<05:24, 20.10it/s]"
     ]
    },
    {
     "name": "stdout",
     "output_type": "stream",
     "text": [
      "(121, 95, 3)\n",
      "(116, 89, 3)\n",
      "(123, 96, 3)\n",
      "(121, 98, 3)\n"
     ]
    },
    {
     "name": "stderr",
     "output_type": "stream",
     "text": [
      " 12%|█▏        | 926/7439 [00:48<05:27, 19.90it/s]"
     ]
    },
    {
     "name": "stdout",
     "output_type": "stream",
     "text": [
      "(126, 97, 3)\n",
      "(123, 99, 3)\n",
      "(117, 95, 3)\n",
      "(125, 98, 3)\n"
     ]
    },
    {
     "name": "stderr",
     "output_type": "stream",
     "text": [
      " 12%|█▏        | 929/7439 [00:49<05:28, 19.83it/s]"
     ]
    },
    {
     "name": "stdout",
     "output_type": "stream",
     "text": [
      "(123, 97, 3)\n",
      "(121, 95, 3)\n",
      "(119, 95, 3)\n",
      "(125, 103, 3)\n"
     ]
    },
    {
     "name": "stderr",
     "output_type": "stream",
     "text": [
      " 13%|█▎        | 933/7439 [00:49<05:31, 19.63it/s]"
     ]
    },
    {
     "name": "stdout",
     "output_type": "stream",
     "text": [
      "(119, 97, 3)\n",
      "(123, 97, 3)\n",
      "(118, 96, 3)\n",
      "(119, 91, 3)\n"
     ]
    },
    {
     "name": "stderr",
     "output_type": "stream",
     "text": [
      " 13%|█▎        | 937/7439 [00:49<06:12, 17.45it/s]"
     ]
    },
    {
     "name": "stdout",
     "output_type": "stream",
     "text": [
      "(124, 99, 3)\n",
      "(122, 98, 3)\n",
      "(116, 94, 3)\n",
      "(124, 101, 3)\n"
     ]
    },
    {
     "name": "stderr",
     "output_type": "stream",
     "text": [
      " 13%|█▎        | 942/7439 [00:49<05:44, 18.83it/s]"
     ]
    },
    {
     "name": "stdout",
     "output_type": "stream",
     "text": [
      "(117, 96, 3)\n",
      "(129, 101, 3)\n",
      "(122, 100, 3)\n",
      "(120, 97, 3)\n",
      "(115, 94, 3)\n"
     ]
    },
    {
     "name": "stderr",
     "output_type": "stream",
     "text": [
      " 13%|█▎        | 946/7439 [00:50<05:38, 19.18it/s]"
     ]
    },
    {
     "name": "stdout",
     "output_type": "stream",
     "text": [
      "(122, 98, 3)\n",
      "(120, 93, 3)\n",
      "(126, 97, 3)\n",
      "(121, 94, 3)\n"
     ]
    },
    {
     "name": "stderr",
     "output_type": "stream",
     "text": [
      " 13%|█▎        | 950/7439 [00:50<05:42, 18.94it/s]"
     ]
    },
    {
     "name": "stdout",
     "output_type": "stream",
     "text": [
      "(131, 101, 3)\n",
      "(116, 92, 3)\n",
      "(121, 96, 3)\n",
      "(125, 98, 3)\n"
     ]
    },
    {
     "name": "stderr",
     "output_type": "stream",
     "text": [
      " 13%|█▎        | 955/7439 [00:50<05:42, 18.96it/s]"
     ]
    },
    {
     "name": "stdout",
     "output_type": "stream",
     "text": [
      "(122, 98, 3)\n",
      "(122, 94, 3)\n",
      "(129, 101, 3)\n",
      "(126, 100, 3)\n"
     ]
    },
    {
     "name": "stderr",
     "output_type": "stream",
     "text": [
      " 13%|█▎        | 959/7439 [00:50<05:53, 18.34it/s]"
     ]
    },
    {
     "name": "stdout",
     "output_type": "stream",
     "text": [
      "(132, 101, 3)\n",
      "(131, 103, 3)\n",
      "(126, 99, 3)\n",
      "(124, 99, 3)\n"
     ]
    },
    {
     "name": "stderr",
     "output_type": "stream",
     "text": [
      " 13%|█▎        | 964/7439 [00:50<05:31, 19.51it/s]"
     ]
    },
    {
     "name": "stdout",
     "output_type": "stream",
     "text": [
      "(125, 100, 3)\n",
      "(120, 95, 3)\n",
      "(120, 97, 3)\n",
      "(117, 95, 3)\n",
      "(122, 96, 3)\n"
     ]
    },
    {
     "name": "stderr",
     "output_type": "stream",
     "text": [
      " 13%|█▎        | 968/7439 [00:51<05:36, 19.24it/s]"
     ]
    },
    {
     "name": "stdout",
     "output_type": "stream",
     "text": [
      "(120, 96, 3)\n",
      "(132, 102, 3)\n",
      "(121, 93, 3)\n",
      "(120, 99, 3)\n"
     ]
    },
    {
     "name": "stderr",
     "output_type": "stream",
     "text": [
      " 13%|█▎        | 972/7439 [00:51<05:46, 18.64it/s]"
     ]
    },
    {
     "name": "stdout",
     "output_type": "stream",
     "text": [
      "(127, 101, 3)\n",
      "(129, 99, 3)\n",
      "(132, 102, 3)\n",
      "(142, 114, 3)\n"
     ]
    },
    {
     "name": "stderr",
     "output_type": "stream",
     "text": [
      " 13%|█▎        | 977/7439 [00:51<05:32, 19.44it/s]"
     ]
    },
    {
     "name": "stdout",
     "output_type": "stream",
     "text": [
      "(136, 111, 3)\n",
      "(133, 109, 3)\n",
      "(146, 119, 3)\n",
      "(136, 107, 3)\n",
      "(133, 105, 3)\n"
     ]
    },
    {
     "name": "stderr",
     "output_type": "stream",
     "text": [
      " 13%|█▎        | 980/7439 [00:51<05:20, 20.17it/s]"
     ]
    },
    {
     "name": "stdout",
     "output_type": "stream",
     "text": [
      "(141, 113, 3)\n",
      "(133, 113, 3)\n",
      "(136, 112, 3)\n",
      "(141, 114, 3)\n",
      "(130, 109, 3)\n"
     ]
    },
    {
     "name": "stderr",
     "output_type": "stream",
     "text": [
      " 13%|█▎        | 986/7439 [00:52<05:11, 20.72it/s]"
     ]
    },
    {
     "name": "stdout",
     "output_type": "stream",
     "text": [
      "(134, 107, 3)\n",
      "(141, 112, 3)\n",
      "(141, 111, 3)\n",
      "(137, 109, 3)\n",
      "(141, 115, 3)\n"
     ]
    },
    {
     "name": "stderr",
     "output_type": "stream",
     "text": [
      " 13%|█▎        | 992/7439 [00:52<05:03, 21.21it/s]"
     ]
    },
    {
     "name": "stdout",
     "output_type": "stream",
     "text": [
      "(135, 113, 3)\n",
      "(139, 115, 3)\n",
      "(135, 108, 3)\n",
      "(131, 104, 3)\n",
      "(129, 102, 3)\n"
     ]
    },
    {
     "name": "stderr",
     "output_type": "stream",
     "text": [
      " 13%|█▎        | 995/7439 [00:52<05:11, 20.67it/s]"
     ]
    },
    {
     "name": "stdout",
     "output_type": "stream",
     "text": [
      "(135, 111, 3)\n",
      "(140, 114, 3)\n",
      "(130, 107, 3)\n",
      "(141, 113, 3)\n"
     ]
    },
    {
     "name": "stderr",
     "output_type": "stream",
     "text": [
      " 13%|█▎        | 998/7439 [00:52<05:19, 20.14it/s]"
     ]
    },
    {
     "name": "stdout",
     "output_type": "stream",
     "text": [
      "(142, 115, 3)\n",
      "(136, 113, 3)\n",
      "(135, 110, 3)\n",
      "(137, 113, 3)\n"
     ]
    },
    {
     "name": "stderr",
     "output_type": "stream",
     "text": [
      " 13%|█▎        | 1003/7439 [00:52<05:28, 19.61it/s]"
     ]
    },
    {
     "name": "stdout",
     "output_type": "stream",
     "text": [
      "(131, 110, 3)\n",
      "(132, 105, 3)\n",
      "(152, 119, 3)\n",
      "(130, 101, 3)\n"
     ]
    },
    {
     "name": "stderr",
     "output_type": "stream",
     "text": [
      " 14%|█▎        | 1009/7439 [00:53<05:19, 20.15it/s]"
     ]
    },
    {
     "name": "stdout",
     "output_type": "stream",
     "text": [
      "(137, 110, 3)\n",
      "(145, 116, 3)\n",
      "(129, 107, 3)\n",
      "(132, 106, 3)\n",
      "(136, 112, 3)\n"
     ]
    },
    {
     "name": "stderr",
     "output_type": "stream",
     "text": [
      " 14%|█▎        | 1012/7439 [00:53<05:16, 20.32it/s]"
     ]
    },
    {
     "name": "stdout",
     "output_type": "stream",
     "text": [
      "(134, 111, 3)\n",
      "(130, 107, 3)\n",
      "(143, 115, 3)\n",
      "(134, 107, 3)\n",
      "(133, 108, 3)\n"
     ]
    },
    {
     "name": "stderr",
     "output_type": "stream",
     "text": [
      " 14%|█▎        | 1018/7439 [00:53<05:24, 19.78it/s]"
     ]
    },
    {
     "name": "stdout",
     "output_type": "stream",
     "text": [
      "(138, 115, 3)\n",
      "(140, 113, 3)\n",
      "(136, 109, 3)\n",
      "(141, 114, 3)\n"
     ]
    },
    {
     "name": "stderr",
     "output_type": "stream",
     "text": [
      " 14%|█▎        | 1021/7439 [00:53<05:16, 20.26it/s]"
     ]
    },
    {
     "name": "stdout",
     "output_type": "stream",
     "text": [
      "(131, 104, 3)\n",
      "(132, 104, 3)\n",
      "(131, 110, 3)\n",
      "(131, 103, 3)\n",
      "(130, 107, 3)\n"
     ]
    },
    {
     "name": "stderr",
     "output_type": "stream",
     "text": [
      " 14%|█▍        | 1027/7439 [00:54<05:18, 20.11it/s]"
     ]
    },
    {
     "name": "stdout",
     "output_type": "stream",
     "text": [
      "(135, 113, 3)\n",
      "(137, 111, 3)\n",
      "(132, 107, 3)\n",
      "(138, 115, 3)\n"
     ]
    },
    {
     "name": "stderr",
     "output_type": "stream",
     "text": [
      " 14%|█▍        | 1030/7439 [00:54<05:23, 19.79it/s]"
     ]
    },
    {
     "name": "stdout",
     "output_type": "stream",
     "text": [
      "(131, 107, 3)\n",
      "(136, 110, 3)\n",
      "(144, 116, 3)\n",
      "(129, 103, 3)\n"
     ]
    },
    {
     "name": "stderr",
     "output_type": "stream",
     "text": [
      " 14%|█▍        | 1035/7439 [00:54<05:20, 20.00it/s]"
     ]
    },
    {
     "name": "stdout",
     "output_type": "stream",
     "text": [
      "(137, 109, 3)\n",
      "(142, 114, 3)\n",
      "(130, 103, 3)\n",
      "(135, 110, 3)\n"
     ]
    },
    {
     "name": "stderr",
     "output_type": "stream",
     "text": [
      " 14%|█▍        | 1040/7439 [00:54<05:21, 19.88it/s]"
     ]
    },
    {
     "name": "stdout",
     "output_type": "stream",
     "text": [
      "(140, 112, 3)\n",
      "(130, 105, 3)\n",
      "(137, 109, 3)\n",
      "(133, 114, 3)\n",
      "(135, 110, 3)\n"
     ]
    },
    {
     "name": "stderr",
     "output_type": "stream",
     "text": [
      " 14%|█▍        | 1044/7439 [00:54<05:26, 19.57it/s]"
     ]
    },
    {
     "name": "stdout",
     "output_type": "stream",
     "text": [
      "(137, 113, 3)\n",
      "(135, 112, 3)\n",
      "(130, 104, 3)\n",
      "(130, 102, 3)\n",
      "(137, 112, 3)\n"
     ]
    },
    {
     "name": "stderr",
     "output_type": "stream",
     "text": [
      " 14%|█▍        | 1049/7439 [00:55<05:25, 19.61it/s]"
     ]
    },
    {
     "name": "stdout",
     "output_type": "stream",
     "text": [
      "(147, 116, 3)\n",
      "(132, 109, 3)\n",
      "(140, 115, 3)\n",
      "(128, 108, 3)\n"
     ]
    },
    {
     "name": "stderr",
     "output_type": "stream",
     "text": [
      " 14%|█▍        | 1053/7439 [00:55<05:26, 19.57it/s]"
     ]
    },
    {
     "name": "stdout",
     "output_type": "stream",
     "text": [
      "(130, 105, 3)\n",
      "(144, 115, 3)\n",
      "(134, 106, 3)\n",
      "(128, 108, 3)\n"
     ]
    },
    {
     "name": "stderr",
     "output_type": "stream",
     "text": [
      " 14%|█▍        | 1056/7439 [00:55<05:19, 20.00it/s]"
     ]
    },
    {
     "name": "stdout",
     "output_type": "stream",
     "text": [
      "(120, 97, 3)\n",
      "(121, 95, 3)\n",
      "(125, 98, 3)\n",
      "(129, 100, 3)\n",
      "(128, 98, 3)\n"
     ]
    },
    {
     "name": "stderr",
     "output_type": "stream",
     "text": [
      " 14%|█▍        | 1062/7439 [00:55<05:12, 20.41it/s]"
     ]
    },
    {
     "name": "stdout",
     "output_type": "stream",
     "text": [
      "(122, 97, 3)\n",
      "(128, 100, 3)\n",
      "(126, 97, 3)\n",
      "(130, 98, 3)\n"
     ]
    },
    {
     "name": "stderr",
     "output_type": "stream",
     "text": [
      " 14%|█▍        | 1065/7439 [00:56<05:13, 20.31it/s]"
     ]
    },
    {
     "name": "stdout",
     "output_type": "stream",
     "text": [
      "(114, 93, 3)\n",
      "(120, 96, 3)\n",
      "(121, 95, 3)\n",
      "(125, 98, 3)\n",
      "(124, 97, 3)\n"
     ]
    },
    {
     "name": "stderr",
     "output_type": "stream",
     "text": [
      " 14%|█▍        | 1071/7439 [00:56<04:59, 21.26it/s]"
     ]
    },
    {
     "name": "stdout",
     "output_type": "stream",
     "text": [
      "(128, 103, 3)\n",
      "(117, 97, 3)\n",
      "(124, 99, 3)\n",
      "(121, 97, 3)\n",
      "(120, 94, 3)\n"
     ]
    },
    {
     "name": "stderr",
     "output_type": "stream",
     "text": [
      " 14%|█▍        | 1077/7439 [00:56<04:58, 21.31it/s]"
     ]
    },
    {
     "name": "stdout",
     "output_type": "stream",
     "text": [
      "(122, 96, 3)\n",
      "(120, 94, 3)\n",
      "(119, 95, 3)\n",
      "(134, 100, 3)\n",
      "(125, 99, 3)\n"
     ]
    },
    {
     "name": "stderr",
     "output_type": "stream",
     "text": [
      " 15%|█▍        | 1080/7439 [00:56<04:56, 21.44it/s]"
     ]
    },
    {
     "name": "stdout",
     "output_type": "stream",
     "text": [
      "(124, 101, 3)\n",
      "(130, 103, 3)\n",
      "(125, 98, 3)\n",
      "(128, 100, 3)\n",
      "(127, 97, 3)\n"
     ]
    },
    {
     "name": "stderr",
     "output_type": "stream",
     "text": [
      " 15%|█▍        | 1086/7439 [00:57<05:10, 20.43it/s]"
     ]
    },
    {
     "name": "stdout",
     "output_type": "stream",
     "text": [
      "(120, 95, 3)\n",
      "(128, 100, 3)\n",
      "(123, 99, 3)\n",
      "(124, 98, 3)\n"
     ]
    },
    {
     "name": "stderr",
     "output_type": "stream",
     "text": [
      " 15%|█▍        | 1089/7439 [00:57<05:21, 19.75it/s]"
     ]
    },
    {
     "name": "stdout",
     "output_type": "stream",
     "text": [
      "(123, 95, 3)\n",
      "(127, 98, 3)\n",
      "(110, 87, 3)\n",
      "(115, 85, 3)\n"
     ]
    },
    {
     "name": "stderr",
     "output_type": "stream",
     "text": [
      " 15%|█▍        | 1092/7439 [00:57<05:18, 19.92it/s]"
     ]
    },
    {
     "name": "stdout",
     "output_type": "stream",
     "text": [
      "(128, 101, 3)\n",
      "(126, 99, 3)\n",
      "(122, 97, 3)\n",
      "(135, 102, 3)\n"
     ]
    },
    {
     "name": "stderr",
     "output_type": "stream",
     "text": [
      " 15%|█▍        | 1097/7439 [00:57<05:32, 19.06it/s]"
     ]
    },
    {
     "name": "stdout",
     "output_type": "stream",
     "text": [
      "(117, 94, 3)\n",
      "(126, 96, 3)\n",
      "(123, 98, 3)\n",
      "(127, 98, 3)\n"
     ]
    },
    {
     "name": "stderr",
     "output_type": "stream",
     "text": [
      " 15%|█▍        | 1101/7439 [00:57<05:30, 19.18it/s]"
     ]
    },
    {
     "name": "stdout",
     "output_type": "stream",
     "text": [
      "(128, 98, 3)\n",
      "(130, 101, 3)\n",
      "(123, 98, 3)\n",
      "(124, 98, 3)\n",
      "(119, 97, 3)\n"
     ]
    },
    {
     "name": "stderr",
     "output_type": "stream",
     "text": [
      " 15%|█▍        | 1107/7439 [00:58<05:16, 20.01it/s]"
     ]
    },
    {
     "name": "stdout",
     "output_type": "stream",
     "text": [
      "(126, 98, 3)\n",
      "(125, 99, 3)\n",
      "(131, 100, 3)\n",
      "(127, 100, 3)\n"
     ]
    },
    {
     "name": "stderr",
     "output_type": "stream",
     "text": [
      " 15%|█▍        | 1110/7439 [00:58<05:18, 19.85it/s]"
     ]
    },
    {
     "name": "stdout",
     "output_type": "stream",
     "text": [
      "(132, 99, 3)\n",
      "(120, 94, 3)\n",
      "(127, 98, 3)\n",
      "(131, 103, 3)\n"
     ]
    },
    {
     "name": "stderr",
     "output_type": "stream",
     "text": [
      " 15%|█▍        | 1114/7439 [00:58<05:20, 19.74it/s]"
     ]
    },
    {
     "name": "stdout",
     "output_type": "stream",
     "text": [
      "(135, 102, 3)\n",
      "(123, 98, 3)\n",
      "(128, 100, 3)\n",
      "(131, 100, 3)\n",
      "(125, 96, 3)\n"
     ]
    },
    {
     "name": "stderr",
     "output_type": "stream",
     "text": [
      " 15%|█▌        | 1119/7439 [00:58<05:26, 19.36it/s]"
     ]
    },
    {
     "name": "stdout",
     "output_type": "stream",
     "text": [
      "(128, 100, 3)\n",
      "(129, 101, 3)\n",
      "(131, 101, 3)\n",
      "(121, 93, 3)\n"
     ]
    },
    {
     "name": "stderr",
     "output_type": "stream",
     "text": [
      " 15%|█▌        | 1123/7439 [00:58<05:27, 19.26it/s]"
     ]
    },
    {
     "name": "stdout",
     "output_type": "stream",
     "text": [
      "(129, 101, 3)\n",
      "(130, 99, 3)\n",
      "(127, 98, 3)\n",
      "(129, 100, 3)\n"
     ]
    },
    {
     "name": "stderr",
     "output_type": "stream",
     "text": [
      " 15%|█▌        | 1128/7439 [00:59<05:19, 19.76it/s]"
     ]
    },
    {
     "name": "stdout",
     "output_type": "stream",
     "text": [
      "(118, 96, 3)\n",
      "(123, 96, 3)\n",
      "(126, 99, 3)\n",
      "(126, 100, 3)\n",
      "(128, 99, 3)\n"
     ]
    },
    {
     "name": "stderr",
     "output_type": "stream",
     "text": [
      " 15%|█▌        | 1133/7439 [00:59<05:10, 20.32it/s]"
     ]
    },
    {
     "name": "stdout",
     "output_type": "stream",
     "text": [
      "(127, 98, 3)\n",
      "(122, 97, 3)\n",
      "(126, 98, 3)\n",
      "(130, 100, 3)\n",
      "(113, 90, 3)\n"
     ]
    },
    {
     "name": "stderr",
     "output_type": "stream",
     "text": [
      " 15%|█▌        | 1139/7439 [00:59<04:53, 21.43it/s]"
     ]
    },
    {
     "name": "stdout",
     "output_type": "stream",
     "text": [
      "(129, 100, 3)\n",
      "(119, 98, 3)\n",
      "(116, 94, 3)\n",
      "(123, 100, 3)\n",
      "(124, 100, 3)\n"
     ]
    },
    {
     "name": "stderr",
     "output_type": "stream",
     "text": [
      " 15%|█▌        | 1142/7439 [00:59<04:48, 21.83it/s]"
     ]
    },
    {
     "name": "stdout",
     "output_type": "stream",
     "text": [
      "(123, 98, 3)\n",
      "(118, 95, 3)\n",
      "(125, 103, 3)\n",
      "(116, 95, 3)\n",
      "(116, 94, 3)\n"
     ]
    },
    {
     "name": "stderr",
     "output_type": "stream",
     "text": [
      " 15%|█▌        | 1148/7439 [01:00<05:00, 20.92it/s]"
     ]
    },
    {
     "name": "stdout",
     "output_type": "stream",
     "text": [
      "(122, 95, 3)\n",
      "(112, 91, 3)\n",
      "(110, 89, 3)\n",
      "(117, 92, 3)\n",
      "(119, 94, 3)\n"
     ]
    },
    {
     "name": "stderr",
     "output_type": "stream",
     "text": [
      " 16%|█▌        | 1154/7439 [01:00<04:53, 21.43it/s]"
     ]
    },
    {
     "name": "stdout",
     "output_type": "stream",
     "text": [
      "(117, 94, 3)\n",
      "(114, 94, 3)\n",
      "(117, 97, 3)\n",
      "(116, 95, 3)\n",
      "(113, 93, 3)\n"
     ]
    },
    {
     "name": "stderr",
     "output_type": "stream",
     "text": [
      " 16%|█▌        | 1157/7439 [01:00<04:49, 21.68it/s]"
     ]
    },
    {
     "name": "stdout",
     "output_type": "stream",
     "text": [
      "(116, 92, 3)\n",
      "(123, 97, 3)\n",
      "(109, 93, 3)\n",
      "(116, 93, 3)\n",
      "(111, 91, 3)\n"
     ]
    },
    {
     "name": "stderr",
     "output_type": "stream",
     "text": [
      " 16%|█▌        | 1163/7439 [01:00<04:53, 21.40it/s]"
     ]
    },
    {
     "name": "stdout",
     "output_type": "stream",
     "text": [
      "(118, 93, 3)\n",
      "(110, 90, 3)\n",
      "(118, 96, 3)\n",
      "(114, 91, 3)\n",
      "(111, 94, 3)\n"
     ]
    },
    {
     "name": "stderr",
     "output_type": "stream",
     "text": [
      " 16%|█▌        | 1169/7439 [01:01<05:02, 20.70it/s]"
     ]
    },
    {
     "name": "stdout",
     "output_type": "stream",
     "text": [
      "(108, 85, 3)\n",
      "(110, 90, 3)\n",
      "(111, 91, 3)\n",
      "(119, 96, 3)\n",
      "(112, 90, 3)\n"
     ]
    },
    {
     "name": "stderr",
     "output_type": "stream",
     "text": [
      " 16%|█▌        | 1172/7439 [01:01<05:00, 20.84it/s]"
     ]
    },
    {
     "name": "stdout",
     "output_type": "stream",
     "text": [
      "(113, 94, 3)\n",
      "(102, 84, 3)\n",
      "(110, 90, 3)\n",
      "(117, 96, 3)\n",
      "(115, 94, 3)\n"
     ]
    },
    {
     "name": "stderr",
     "output_type": "stream",
     "text": [
      " 16%|█▌        | 1178/7439 [01:01<05:04, 20.53it/s]"
     ]
    },
    {
     "name": "stdout",
     "output_type": "stream",
     "text": [
      "(116, 95, 3)\n",
      "(111, 92, 3)\n",
      "(115, 89, 3)\n",
      "(110, 90, 3)\n",
      "(115, 93, 3)\n"
     ]
    },
    {
     "name": "stderr",
     "output_type": "stream",
     "text": [
      " 16%|█▌        | 1184/7439 [01:01<04:58, 20.92it/s]"
     ]
    },
    {
     "name": "stdout",
     "output_type": "stream",
     "text": [
      "(118, 95, 3)\n",
      "(119, 94, 3)\n",
      "(111, 91, 3)\n",
      "(109, 89, 3)\n",
      "(114, 90, 3)\n"
     ]
    },
    {
     "name": "stderr",
     "output_type": "stream",
     "text": [
      " 16%|█▌        | 1187/7439 [01:01<04:54, 21.24it/s]"
     ]
    },
    {
     "name": "stdout",
     "output_type": "stream",
     "text": [
      "(110, 91, 3)\n",
      "(117, 93, 3)\n",
      "(108, 88, 3)\n",
      "(110, 92, 3)\n",
      "(106, 84, 3)\n"
     ]
    },
    {
     "name": "stderr",
     "output_type": "stream",
     "text": [
      " 16%|█▌        | 1193/7439 [01:02<04:47, 21.72it/s]"
     ]
    },
    {
     "name": "stdout",
     "output_type": "stream",
     "text": [
      "(115, 93, 3)\n",
      "(116, 92, 3)\n",
      "(116, 94, 3)\n",
      "(116, 94, 3)\n",
      "(121, 95, 3)\n"
     ]
    },
    {
     "name": "stderr",
     "output_type": "stream",
     "text": [
      " 16%|█▌        | 1199/7439 [01:02<04:47, 21.73it/s]"
     ]
    },
    {
     "name": "stdout",
     "output_type": "stream",
     "text": [
      "(109, 86, 3)\n",
      "(114, 92, 3)\n",
      "(112, 91, 3)\n",
      "(119, 97, 3)\n",
      "(115, 92, 3)\n"
     ]
    },
    {
     "name": "stderr",
     "output_type": "stream",
     "text": [
      " 16%|█▌        | 1202/7439 [01:02<04:53, 21.28it/s]"
     ]
    },
    {
     "name": "stdout",
     "output_type": "stream",
     "text": [
      "(121, 96, 3)\n",
      "(109, 88, 3)\n",
      "(112, 92, 3)\n",
      "(113, 93, 3)\n",
      "(123, 96, 3)\n"
     ]
    },
    {
     "name": "stderr",
     "output_type": "stream",
     "text": [
      " 16%|█▌        | 1208/7439 [01:02<05:02, 20.62it/s]"
     ]
    },
    {
     "name": "stdout",
     "output_type": "stream",
     "text": [
      "(122, 96, 3)\n",
      "(115, 96, 3)\n",
      "(110, 90, 3)\n",
      "(119, 94, 3)\n",
      "(113, 93, 3)\n"
     ]
    },
    {
     "name": "stderr",
     "output_type": "stream",
     "text": [
      " 16%|█▋        | 1214/7439 [01:03<04:49, 21.51it/s]"
     ]
    },
    {
     "name": "stdout",
     "output_type": "stream",
     "text": [
      "(111, 92, 3)\n",
      "(115, 92, 3)\n",
      "(123, 98, 3)\n",
      "(123, 98, 3)\n",
      "(120, 97, 3)\n"
     ]
    },
    {
     "name": "stderr",
     "output_type": "stream",
     "text": [
      " 16%|█▋        | 1217/7439 [01:03<04:44, 21.89it/s]"
     ]
    },
    {
     "name": "stdout",
     "output_type": "stream",
     "text": [
      "(135, 105, 3)\n",
      "(113, 94, 3)\n",
      "(116, 93, 3)\n",
      "(124, 99, 3)\n",
      "(138, 108, 3)\n"
     ]
    },
    {
     "name": "stderr",
     "output_type": "stream",
     "text": [
      " 16%|█▋        | 1223/7439 [01:03<04:40, 22.17it/s]"
     ]
    },
    {
     "name": "stdout",
     "output_type": "stream",
     "text": [
      "(142, 111, 3)\n",
      "(135, 109, 3)\n",
      "(137, 108, 3)\n",
      "(137, 109, 3)\n",
      "(143, 114, 3)\n"
     ]
    },
    {
     "name": "stderr",
     "output_type": "stream",
     "text": [
      " 17%|█▋        | 1229/7439 [01:03<04:49, 21.46it/s]"
     ]
    },
    {
     "name": "stdout",
     "output_type": "stream",
     "text": [
      "(137, 110, 3)\n",
      "(136, 107, 3)\n",
      "(134, 107, 3)\n",
      "(129, 103, 3)\n",
      "(124, 98, 3)\n"
     ]
    },
    {
     "name": "stderr",
     "output_type": "stream",
     "text": [
      " 17%|█▋        | 1232/7439 [01:04<04:51, 21.29it/s]"
     ]
    },
    {
     "name": "stdout",
     "output_type": "stream",
     "text": [
      "(135, 108, 3)\n",
      "(135, 107, 3)\n",
      "(131, 107, 3)\n",
      "(137, 111, 3)\n",
      "(139, 109, 3)\n"
     ]
    },
    {
     "name": "stderr",
     "output_type": "stream",
     "text": [
      " 17%|█▋        | 1238/7439 [01:04<04:50, 21.36it/s]"
     ]
    },
    {
     "name": "stdout",
     "output_type": "stream",
     "text": [
      "(137, 111, 3)\n",
      "(127, 104, 3)\n",
      "(135, 109, 3)\n",
      "(127, 105, 3)\n",
      "(127, 104, 3)\n"
     ]
    },
    {
     "name": "stderr",
     "output_type": "stream",
     "text": [
      " 17%|█▋        | 1244/7439 [01:04<04:51, 21.24it/s]"
     ]
    },
    {
     "name": "stdout",
     "output_type": "stream",
     "text": [
      "(130, 107, 3)\n",
      "(127, 102, 3)\n",
      "(129, 102, 3)\n",
      "(136, 109, 3)\n",
      "(132, 104, 3)\n"
     ]
    },
    {
     "name": "stderr",
     "output_type": "stream",
     "text": [
      " 17%|█▋        | 1247/7439 [01:04<04:56, 20.88it/s]"
     ]
    },
    {
     "name": "stdout",
     "output_type": "stream",
     "text": [
      "(140, 111, 3)\n",
      "(130, 102, 3)\n",
      "(137, 104, 3)\n",
      "(141, 111, 3)\n",
      "(129, 102, 3)\n"
     ]
    },
    {
     "name": "stderr",
     "output_type": "stream",
     "text": [
      " 17%|█▋        | 1253/7439 [01:05<05:06, 20.21it/s]"
     ]
    },
    {
     "name": "stdout",
     "output_type": "stream",
     "text": [
      "(133, 107, 3)\n",
      "(128, 101, 3)\n",
      "(126, 103, 3)\n",
      "(133, 104, 3)\n"
     ]
    },
    {
     "name": "stderr",
     "output_type": "stream",
     "text": [
      " 17%|█▋        | 1256/7439 [01:05<05:02, 20.45it/s]"
     ]
    },
    {
     "name": "stdout",
     "output_type": "stream",
     "text": [
      "(138, 109, 3)\n",
      "(136, 111, 3)\n",
      "(132, 106, 3)\n",
      "(125, 103, 3)\n",
      "(146, 114, 3)\n"
     ]
    },
    {
     "name": "stderr",
     "output_type": "stream",
     "text": [
      " 17%|█▋        | 1261/7439 [01:05<05:22, 19.18it/s]"
     ]
    },
    {
     "name": "stdout",
     "output_type": "stream",
     "text": [
      "(135, 106, 3)\n",
      "(141, 111, 3)\n",
      "(138, 111, 3)\n",
      "(137, 110, 3)\n"
     ]
    },
    {
     "name": "stderr",
     "output_type": "stream",
     "text": [
      " 17%|█▋        | 1265/7439 [01:05<05:23, 19.06it/s]"
     ]
    },
    {
     "name": "stdout",
     "output_type": "stream",
     "text": [
      "(143, 112, 3)\n",
      "(135, 109, 3)\n",
      "(130, 105, 3)\n",
      "(136, 109, 3)\n",
      "(128, 106, 3)\n"
     ]
    },
    {
     "name": "stderr",
     "output_type": "stream",
     "text": [
      " 17%|█▋        | 1270/7439 [01:05<05:18, 19.38it/s]"
     ]
    },
    {
     "name": "stdout",
     "output_type": "stream",
     "text": [
      "(128, 102, 3)\n",
      "(129, 103, 3)\n",
      "(129, 104, 3)\n",
      "(132, 107, 3)\n"
     ]
    },
    {
     "name": "stderr",
     "output_type": "stream",
     "text": [
      " 17%|█▋        | 1275/7439 [01:06<05:13, 19.66it/s]"
     ]
    },
    {
     "name": "stdout",
     "output_type": "stream",
     "text": [
      "(134, 107, 3)\n",
      "(137, 109, 3)\n",
      "(127, 101, 3)\n",
      "(129, 101, 3)\n",
      "(136, 105, 3)\n"
     ]
    },
    {
     "name": "stderr",
     "output_type": "stream",
     "text": [
      " 17%|█▋        | 1279/7439 [01:06<05:18, 19.34it/s]"
     ]
    },
    {
     "name": "stdout",
     "output_type": "stream",
     "text": [
      "(134, 105, 3)\n",
      "(124, 101, 3)\n",
      "(134, 109, 3)\n",
      "(129, 102, 3)\n"
     ]
    },
    {
     "name": "stderr",
     "output_type": "stream",
     "text": [
      " 17%|█▋        | 1283/7439 [01:06<05:17, 19.39it/s]"
     ]
    },
    {
     "name": "stdout",
     "output_type": "stream",
     "text": [
      "(135, 107, 3)\n",
      "(132, 105, 3)\n",
      "(136, 107, 3)\n",
      "(135, 107, 3)\n",
      "(137, 109, 3)\n"
     ]
    },
    {
     "name": "stderr",
     "output_type": "stream",
     "text": [
      " 17%|█▋        | 1289/7439 [01:06<05:06, 20.04it/s]"
     ]
    },
    {
     "name": "stdout",
     "output_type": "stream",
     "text": [
      "(140, 110, 3)\n",
      "(129, 103, 3)\n",
      "(128, 100, 3)\n",
      "(135, 107, 3)\n",
      "(130, 101, 3)\n"
     ]
    },
    {
     "name": "stderr",
     "output_type": "stream",
     "text": [
      " 17%|█▋        | 1295/7439 [01:07<05:06, 20.06it/s]"
     ]
    },
    {
     "name": "stdout",
     "output_type": "stream",
     "text": [
      "(136, 109, 3)\n",
      "(132, 106, 3)\n",
      "(130, 103, 3)\n",
      "(137, 111, 3)\n",
      "(130, 105, 3)\n"
     ]
    },
    {
     "name": "stderr",
     "output_type": "stream",
     "text": [
      " 17%|█▋        | 1298/7439 [01:07<05:01, 20.40it/s]"
     ]
    },
    {
     "name": "stdout",
     "output_type": "stream",
     "text": [
      "(139, 111, 3)\n",
      "(134, 108, 3)\n",
      "(133, 106, 3)\n",
      "(126, 100, 3)\n",
      "(122, 99, 3)\n"
     ]
    },
    {
     "name": "stderr",
     "output_type": "stream",
     "text": [
      " 18%|█▊        | 1304/7439 [01:07<04:45, 21.51it/s]"
     ]
    },
    {
     "name": "stdout",
     "output_type": "stream",
     "text": [
      "(121, 99, 3)\n",
      "(128, 105, 3)\n",
      "(131, 103, 3)\n",
      "(126, 105, 3)\n",
      "(126, 104, 3)\n"
     ]
    },
    {
     "name": "stderr",
     "output_type": "stream",
     "text": [
      " 18%|█▊        | 1310/7439 [01:07<04:47, 21.28it/s]"
     ]
    },
    {
     "name": "stdout",
     "output_type": "stream",
     "text": [
      "(113, 95, 3)\n",
      "(117, 96, 3)\n",
      "(114, 93, 3)\n",
      "(115, 94, 3)\n",
      "(112, 92, 3)\n"
     ]
    },
    {
     "name": "stderr",
     "output_type": "stream",
     "text": [
      " 18%|█▊        | 1313/7439 [01:08<04:47, 21.33it/s]"
     ]
    },
    {
     "name": "stdout",
     "output_type": "stream",
     "text": [
      "(119, 96, 3)\n",
      "(118, 97, 3)\n",
      "(115, 95, 3)\n",
      "(116, 96, 3)\n",
      "(118, 95, 3)\n"
     ]
    },
    {
     "name": "stderr",
     "output_type": "stream",
     "text": [
      " 18%|█▊        | 1319/7439 [01:08<04:41, 21.72it/s]"
     ]
    },
    {
     "name": "stdout",
     "output_type": "stream",
     "text": [
      "(120, 95, 3)\n",
      "(122, 98, 3)\n",
      "(121, 100, 3)\n",
      "(116, 94, 3)\n",
      "(119, 98, 3)\n"
     ]
    },
    {
     "name": "stderr",
     "output_type": "stream",
     "text": [
      " 18%|█▊        | 1325/7439 [01:08<04:45, 21.43it/s]"
     ]
    },
    {
     "name": "stdout",
     "output_type": "stream",
     "text": [
      "(116, 96, 3)\n",
      "(121, 98, 3)\n",
      "(110, 91, 3)\n",
      "(119, 98, 3)\n",
      "(125, 99, 3)\n"
     ]
    },
    {
     "name": "stderr",
     "output_type": "stream",
     "text": [
      " 18%|█▊        | 1328/7439 [01:08<04:46, 21.35it/s]"
     ]
    },
    {
     "name": "stdout",
     "output_type": "stream",
     "text": [
      "(123, 97, 3)\n",
      "(111, 89, 3)\n",
      "(127, 105, 3)\n",
      "(122, 97, 3)\n",
      "(115, 94, 3)\n"
     ]
    },
    {
     "name": "stderr",
     "output_type": "stream",
     "text": [
      " 18%|█▊        | 1334/7439 [01:09<04:49, 21.10it/s]"
     ]
    },
    {
     "name": "stdout",
     "output_type": "stream",
     "text": [
      "(129, 103, 3)\n",
      "(124, 102, 3)\n",
      "(126, 103, 3)\n",
      "(123, 100, 3)\n"
     ]
    },
    {
     "name": "stderr",
     "output_type": "stream",
     "text": [
      " 18%|█▊        | 1337/7439 [01:09<04:48, 21.18it/s]"
     ]
    },
    {
     "name": "stdout",
     "output_type": "stream",
     "text": [
      "(122, 101, 3)\n",
      "(130, 104, 3)\n",
      "(126, 102, 3)\n",
      "(123, 103, 3)\n",
      "(118, 95, 3)\n"
     ]
    },
    {
     "name": "stderr",
     "output_type": "stream",
     "text": [
      " 18%|█▊        | 1343/7439 [01:09<04:38, 21.90it/s]"
     ]
    },
    {
     "name": "stdout",
     "output_type": "stream",
     "text": [
      "(118, 96, 3)\n",
      "(118, 95, 3)\n",
      "(119, 96, 3)\n",
      "(119, 97, 3)\n",
      "(119, 96, 3)\n"
     ]
    },
    {
     "name": "stderr",
     "output_type": "stream",
     "text": [
      " 18%|█▊        | 1349/7439 [01:09<04:30, 22.49it/s]"
     ]
    },
    {
     "name": "stdout",
     "output_type": "stream",
     "text": [
      "(119, 98, 3)\n",
      "(117, 96, 3)\n",
      "(113, 93, 3)\n",
      "(109, 93, 3)\n",
      "(110, 94, 3)\n"
     ]
    },
    {
     "name": "stderr",
     "output_type": "stream",
     "text": [
      " 18%|█▊        | 1352/7439 [01:09<04:40, 21.71it/s]"
     ]
    },
    {
     "name": "stdout",
     "output_type": "stream",
     "text": [
      "(111, 90, 3)\n",
      "(110, 92, 3)\n",
      "(120, 97, 3)\n",
      "(124, 99, 3)\n"
     ]
    },
    {
     "name": "stderr",
     "output_type": "stream",
     "text": [
      " 18%|█▊        | 1358/7439 [01:10<04:49, 21.01it/s]"
     ]
    },
    {
     "name": "stdout",
     "output_type": "stream",
     "text": [
      "(117, 97, 3)\n",
      "(119, 95, 3)\n",
      "(115, 95, 3)\n",
      "(118, 98, 3)\n",
      "(112, 94, 3)\n"
     ]
    },
    {
     "name": "stderr",
     "output_type": "stream",
     "text": [
      " 18%|█▊        | 1361/7439 [01:10<04:46, 21.18it/s]"
     ]
    },
    {
     "name": "stdout",
     "output_type": "stream",
     "text": [
      "(118, 96, 3)\n",
      "(115, 96, 3)\n",
      "(117, 97, 3)\n",
      "(121, 98, 3)\n",
      "(119, 97, 3)\n"
     ]
    },
    {
     "name": "stderr",
     "output_type": "stream",
     "text": [
      " 18%|█▊        | 1367/7439 [01:10<04:59, 20.28it/s]"
     ]
    },
    {
     "name": "stdout",
     "output_type": "stream",
     "text": [
      "(118, 96, 3)\n",
      "(119, 94, 3)\n",
      "(115, 93, 3)\n",
      "(118, 97, 3)\n"
     ]
    },
    {
     "name": "stderr",
     "output_type": "stream",
     "text": [
      " 18%|█▊        | 1370/7439 [01:10<05:13, 19.36it/s]"
     ]
    },
    {
     "name": "stdout",
     "output_type": "stream",
     "text": [
      "(113, 92, 3)\n",
      "(118, 91, 3)\n",
      "(129, 104, 3)\n",
      "(124, 102, 3)\n"
     ]
    },
    {
     "name": "stderr",
     "output_type": "stream",
     "text": [
      " 18%|█▊        | 1376/7439 [01:11<04:50, 20.86it/s]"
     ]
    },
    {
     "name": "stdout",
     "output_type": "stream",
     "text": [
      "(125, 103, 3)\n",
      "(132, 106, 3)\n",
      "(127, 105, 3)\n",
      "(118, 96, 3)\n",
      "(121, 97, 3)\n"
     ]
    },
    {
     "name": "stderr",
     "output_type": "stream",
     "text": [
      " 19%|█▊        | 1379/7439 [01:11<04:42, 21.44it/s]"
     ]
    },
    {
     "name": "stdout",
     "output_type": "stream",
     "text": [
      "(122, 94, 3)\n",
      "(128, 103, 3)\n",
      "(121, 98, 3)\n",
      "(120, 96, 3)\n",
      "(130, 105, 3)\n"
     ]
    },
    {
     "name": "stderr",
     "output_type": "stream",
     "text": [
      " 19%|█▊        | 1385/7439 [01:11<04:32, 22.22it/s]"
     ]
    },
    {
     "name": "stdout",
     "output_type": "stream",
     "text": [
      "(113, 93, 3)\n",
      "(112, 91, 3)\n",
      "(116, 93, 3)\n",
      "(123, 94, 3)\n",
      "(122, 96, 3)\n"
     ]
    },
    {
     "name": "stderr",
     "output_type": "stream",
     "text": [
      " 19%|█▊        | 1391/7439 [01:11<04:37, 21.81it/s]"
     ]
    },
    {
     "name": "stdout",
     "output_type": "stream",
     "text": [
      "(118, 95, 3)\n",
      "(124, 100, 3)\n",
      "(121, 97, 3)\n",
      "(118, 96, 3)\n",
      "(113, 91, 3)\n"
     ]
    },
    {
     "name": "stderr",
     "output_type": "stream",
     "text": [
      " 19%|█▊        | 1394/7439 [01:11<04:42, 21.43it/s]"
     ]
    },
    {
     "name": "stdout",
     "output_type": "stream",
     "text": [
      "(114, 92, 3)\n",
      "(114, 92, 3)\n",
      "(121, 95, 3)\n",
      "(119, 95, 3)\n",
      "(118, 93, 3)\n"
     ]
    },
    {
     "name": "stderr",
     "output_type": "stream",
     "text": [
      " 19%|█▉        | 1400/7439 [01:12<04:36, 21.84it/s]"
     ]
    },
    {
     "name": "stdout",
     "output_type": "stream",
     "text": [
      "(118, 94, 3)\n",
      "(116, 95, 3)\n",
      "(118, 94, 3)\n",
      "(122, 97, 3)\n",
      "(121, 96, 3)\n"
     ]
    },
    {
     "name": "stderr",
     "output_type": "stream",
     "text": [
      " 19%|█▉        | 1406/7439 [01:12<04:48, 20.93it/s]"
     ]
    },
    {
     "name": "stdout",
     "output_type": "stream",
     "text": [
      "(121, 96, 3)\n",
      "(120, 95, 3)\n",
      "(121, 98, 3)\n",
      "(122, 96, 3)\n",
      "(123, 97, 3)\n"
     ]
    },
    {
     "name": "stderr",
     "output_type": "stream",
     "text": [
      " 19%|█▉        | 1409/7439 [01:12<04:41, 21.44it/s]"
     ]
    },
    {
     "name": "stdout",
     "output_type": "stream",
     "text": [
      "(123, 98, 3)\n",
      "(123, 97, 3)\n",
      "(126, 100, 3)\n",
      "(120, 98, 3)\n",
      "(117, 91, 3)\n"
     ]
    },
    {
     "name": "stderr",
     "output_type": "stream",
     "text": [
      " 19%|█▉        | 1415/7439 [01:12<04:39, 21.54it/s]"
     ]
    },
    {
     "name": "stdout",
     "output_type": "stream",
     "text": [
      "(116, 92, 3)\n",
      "(131, 98, 3)\n",
      "(122, 96, 3)\n",
      "(118, 94, 3)\n",
      "(117, 95, 3)\n"
     ]
    },
    {
     "name": "stderr",
     "output_type": "stream",
     "text": [
      " 19%|█▉        | 1421/7439 [01:13<04:35, 21.86it/s]"
     ]
    },
    {
     "name": "stdout",
     "output_type": "stream",
     "text": [
      "(115, 92, 3)\n",
      "(118, 94, 3)\n",
      "(119, 95, 3)\n",
      "(119, 94, 3)\n",
      "(116, 93, 3)\n"
     ]
    },
    {
     "name": "stderr",
     "output_type": "stream",
     "text": [
      " 19%|█▉        | 1424/7439 [01:13<04:36, 21.77it/s]"
     ]
    },
    {
     "name": "stdout",
     "output_type": "stream",
     "text": [
      "(125, 98, 3)\n",
      "(118, 94, 3)\n",
      "(120, 94, 3)\n",
      "(121, 96, 3)\n",
      "(123, 97, 3)\n"
     ]
    },
    {
     "name": "stderr",
     "output_type": "stream",
     "text": [
      " 19%|█▉        | 1430/7439 [01:13<04:35, 21.83it/s]"
     ]
    },
    {
     "name": "stdout",
     "output_type": "stream",
     "text": [
      "(121, 98, 3)\n",
      "(121, 97, 3)\n",
      "(113, 90, 3)\n",
      "(116, 94, 3)\n",
      "(116, 94, 3)\n"
     ]
    },
    {
     "name": "stderr",
     "output_type": "stream",
     "text": [
      " 19%|█▉        | 1436/7439 [01:13<04:32, 22.03it/s]"
     ]
    },
    {
     "name": "stdout",
     "output_type": "stream",
     "text": [
      "(122, 97, 3)\n",
      "(123, 96, 3)\n",
      "(121, 95, 3)\n",
      "(117, 93, 3)\n",
      "(120, 94, 3)\n"
     ]
    },
    {
     "name": "stderr",
     "output_type": "stream",
     "text": [
      " 19%|█▉        | 1439/7439 [01:13<04:29, 22.27it/s]"
     ]
    },
    {
     "name": "stdout",
     "output_type": "stream",
     "text": [
      "(119, 94, 3)\n",
      "(120, 95, 3)\n",
      "(120, 95, 3)\n",
      "(120, 97, 3)\n",
      "(123, 98, 3)\n"
     ]
    },
    {
     "name": "stderr",
     "output_type": "stream",
     "text": [
      " 19%|█▉        | 1445/7439 [01:14<04:35, 21.79it/s]"
     ]
    },
    {
     "name": "stdout",
     "output_type": "stream",
     "text": [
      "(121, 96, 3)\n",
      "(118, 94, 3)\n",
      "(123, 98, 3)\n",
      "(119, 94, 3)\n",
      "(127, 101, 3)\n"
     ]
    },
    {
     "name": "stderr",
     "output_type": "stream",
     "text": [
      " 19%|█▉        | 1448/7439 [01:14<04:55, 20.26it/s]"
     ]
    },
    {
     "name": "stdout",
     "output_type": "stream",
     "text": [
      "(121, 95, 3)\n",
      "(120, 97, 3)\n",
      "(115, 92, 3)\n",
      "(125, 97, 3)\n"
     ]
    },
    {
     "name": "stderr",
     "output_type": "stream",
     "text": [
      " 20%|█▉        | 1454/7439 [01:14<04:52, 20.46it/s]"
     ]
    },
    {
     "name": "stdout",
     "output_type": "stream",
     "text": [
      "(121, 95, 3)\n",
      "(117, 94, 3)\n",
      "(114, 90, 3)\n",
      "(114, 94, 3)\n",
      "(120, 95, 3)\n"
     ]
    },
    {
     "name": "stderr",
     "output_type": "stream",
     "text": [
      " 20%|█▉        | 1460/7439 [01:14<04:37, 21.54it/s]"
     ]
    },
    {
     "name": "stdout",
     "output_type": "stream",
     "text": [
      "(118, 95, 3)\n",
      "(117, 95, 3)\n",
      "(128, 97, 3)\n",
      "(113, 90, 3)\n",
      "(117, 94, 3)\n"
     ]
    },
    {
     "name": "stderr",
     "output_type": "stream",
     "text": [
      " 20%|█▉        | 1463/7439 [01:15<04:35, 21.66it/s]"
     ]
    },
    {
     "name": "stdout",
     "output_type": "stream",
     "text": [
      "(117, 95, 3)\n",
      "(121, 96, 3)\n",
      "(120, 96, 3)\n",
      "(126, 103, 3)\n",
      "(131, 104, 3)\n"
     ]
    },
    {
     "name": "stderr",
     "output_type": "stream",
     "text": [
      " 20%|█▉        | 1469/7439 [01:15<04:27, 22.31it/s]"
     ]
    },
    {
     "name": "stdout",
     "output_type": "stream",
     "text": [
      "(130, 104, 3)\n",
      "(135, 108, 3)\n",
      "(127, 104, 3)\n",
      "(131, 103, 3)\n",
      "(134, 105, 3)\n"
     ]
    },
    {
     "name": "stderr",
     "output_type": "stream",
     "text": [
      " 20%|█▉        | 1475/7439 [01:15<04:27, 22.32it/s]"
     ]
    },
    {
     "name": "stdout",
     "output_type": "stream",
     "text": [
      "(129, 105, 3)\n",
      "(128, 103, 3)\n",
      "(129, 105, 3)\n",
      "(125, 101, 3)\n",
      "(129, 104, 3)\n"
     ]
    },
    {
     "name": "stderr",
     "output_type": "stream",
     "text": [
      " 20%|█▉        | 1478/7439 [01:15<04:31, 21.93it/s]"
     ]
    },
    {
     "name": "stdout",
     "output_type": "stream",
     "text": [
      "(135, 105, 3)\n",
      "(129, 104, 3)\n",
      "(129, 104, 3)\n",
      "(128, 103, 3)\n",
      "(126, 102, 3)\n"
     ]
    },
    {
     "name": "stderr",
     "output_type": "stream",
     "text": [
      " 20%|█▉        | 1484/7439 [01:16<04:18, 23.03it/s]"
     ]
    },
    {
     "name": "stdout",
     "output_type": "stream",
     "text": [
      "(129, 104, 3)\n",
      "(130, 104, 3)\n",
      "(129, 104, 3)\n",
      "(130, 103, 3)\n",
      "(130, 103, 3)\n"
     ]
    },
    {
     "name": "stderr",
     "output_type": "stream",
     "text": [
      " 20%|██        | 1490/7439 [01:16<04:23, 22.57it/s]"
     ]
    },
    {
     "name": "stdout",
     "output_type": "stream",
     "text": [
      "(135, 107, 3)\n",
      "(131, 105, 3)\n",
      "(130, 105, 3)\n",
      "(130, 105, 3)\n",
      "(132, 106, 3)\n"
     ]
    },
    {
     "name": "stderr",
     "output_type": "stream",
     "text": [
      " 20%|██        | 1493/7439 [01:16<04:28, 22.19it/s]"
     ]
    },
    {
     "name": "stdout",
     "output_type": "stream",
     "text": [
      "(131, 105, 3)\n",
      "(126, 103, 3)\n",
      "(124, 102, 3)\n",
      "(129, 103, 3)\n",
      "(126, 103, 3)\n"
     ]
    },
    {
     "name": "stderr",
     "output_type": "stream",
     "text": [
      " 20%|██        | 1499/7439 [01:16<04:37, 21.39it/s]"
     ]
    },
    {
     "name": "stdout",
     "output_type": "stream",
     "text": [
      "(130, 105, 3)\n",
      "(128, 103, 3)\n",
      "(126, 104, 3)\n",
      "(126, 102, 3)\n",
      "(127, 104, 3)\n"
     ]
    },
    {
     "name": "stderr",
     "output_type": "stream",
     "text": [
      " 20%|██        | 1505/7439 [01:17<04:40, 21.13it/s]"
     ]
    },
    {
     "name": "stdout",
     "output_type": "stream",
     "text": [
      "(125, 103, 3)\n",
      "(129, 105, 3)\n",
      "(131, 104, 3)\n",
      "(130, 105, 3)\n",
      "(126, 101, 3)\n"
     ]
    },
    {
     "name": "stderr",
     "output_type": "stream",
     "text": [
      " 20%|██        | 1508/7439 [01:17<04:44, 20.82it/s]"
     ]
    },
    {
     "name": "stdout",
     "output_type": "stream",
     "text": [
      "(133, 106, 3)\n",
      "(127, 104, 3)\n",
      "(128, 105, 3)\n",
      "(128, 104, 3)\n",
      "(132, 106, 3)\n"
     ]
    },
    {
     "name": "stderr",
     "output_type": "stream",
     "text": [
      " 20%|██        | 1514/7439 [01:17<04:37, 21.33it/s]"
     ]
    },
    {
     "name": "stdout",
     "output_type": "stream",
     "text": [
      "(125, 102, 3)\n",
      "(126, 102, 3)\n",
      "(132, 105, 3)\n",
      "(126, 103, 3)\n",
      "(126, 103, 3)\n"
     ]
    },
    {
     "name": "stderr",
     "output_type": "stream",
     "text": [
      " 20%|██        | 1520/7439 [01:17<04:38, 21.22it/s]"
     ]
    },
    {
     "name": "stdout",
     "output_type": "stream",
     "text": [
      "(134, 105, 3)\n",
      "(130, 106, 3)\n",
      "(128, 104, 3)\n",
      "(125, 102, 3)\n",
      "(129, 105, 3)\n"
     ]
    },
    {
     "name": "stderr",
     "output_type": "stream",
     "text": [
      " 20%|██        | 1523/7439 [01:17<04:57, 19.90it/s]"
     ]
    },
    {
     "name": "stdout",
     "output_type": "stream",
     "text": [
      "(127, 104, 3)\n",
      "(128, 105, 3)\n",
      "(127, 103, 3)\n",
      "(135, 107, 3)\n"
     ]
    },
    {
     "name": "stderr",
     "output_type": "stream",
     "text": [
      " 21%|██        | 1529/7439 [01:18<04:54, 20.08it/s]"
     ]
    },
    {
     "name": "stdout",
     "output_type": "stream",
     "text": [
      "(132, 105, 3)\n",
      "(133, 106, 3)\n",
      "(129, 103, 3)\n",
      "(139, 109, 3)\n",
      "(132, 105, 3)\n"
     ]
    },
    {
     "name": "stderr",
     "output_type": "stream",
     "text": [
      " 21%|██        | 1532/7439 [01:18<04:44, 20.79it/s]"
     ]
    },
    {
     "name": "stdout",
     "output_type": "stream",
     "text": [
      "(130, 104, 3)\n",
      "(130, 107, 3)\n",
      "(127, 103, 3)\n",
      "(135, 107, 3)\n",
      "(135, 105, 3)\n"
     ]
    },
    {
     "name": "stderr",
     "output_type": "stream",
     "text": [
      " 21%|██        | 1538/7439 [01:18<04:39, 21.13it/s]"
     ]
    },
    {
     "name": "stdout",
     "output_type": "stream",
     "text": [
      "(128, 102, 3)\n",
      "(131, 104, 3)\n",
      "(132, 106, 3)\n",
      "(129, 104, 3)\n",
      "(127, 103, 3)\n"
     ]
    },
    {
     "name": "stderr",
     "output_type": "stream",
     "text": [
      " 21%|██        | 1544/7439 [01:18<04:33, 21.54it/s]"
     ]
    },
    {
     "name": "stdout",
     "output_type": "stream",
     "text": [
      "(136, 108, 3)\n",
      "(137, 113, 3)\n",
      "(136, 109, 3)\n",
      "(140, 111, 3)\n",
      "(135, 106, 3)\n"
     ]
    },
    {
     "name": "stderr",
     "output_type": "stream",
     "text": [
      " 21%|██        | 1547/7439 [01:19<04:34, 21.43it/s]"
     ]
    },
    {
     "name": "stdout",
     "output_type": "stream",
     "text": [
      "(135, 105, 3)\n",
      "(133, 106, 3)\n",
      "(145, 108, 3)\n",
      "(152, 111, 3)\n",
      "(136, 110, 3)\n"
     ]
    },
    {
     "name": "stderr",
     "output_type": "stream",
     "text": [
      " 21%|██        | 1553/7439 [01:19<04:37, 21.19it/s]"
     ]
    },
    {
     "name": "stdout",
     "output_type": "stream",
     "text": [
      "(135, 110, 3)\n",
      "(132, 109, 3)\n",
      "(141, 109, 3)\n",
      "(130, 103, 3)\n",
      "(136, 106, 3)\n"
     ]
    },
    {
     "name": "stderr",
     "output_type": "stream",
     "text": [
      " 21%|██        | 1559/7439 [01:19<04:33, 21.51it/s]"
     ]
    },
    {
     "name": "stdout",
     "output_type": "stream",
     "text": [
      "(132, 102, 3)\n",
      "(136, 110, 3)\n",
      "(129, 104, 3)\n",
      "(135, 107, 3)\n",
      "(138, 106, 3)\n"
     ]
    },
    {
     "name": "stderr",
     "output_type": "stream",
     "text": [
      " 21%|██        | 1562/7439 [01:19<04:39, 21.02it/s]"
     ]
    },
    {
     "name": "stdout",
     "output_type": "stream",
     "text": [
      "(135, 109, 3)\n",
      "(137, 110, 3)\n",
      "(146, 112, 3)\n",
      "(141, 110, 3)\n",
      "(133, 106, 3)\n"
     ]
    },
    {
     "name": "stderr",
     "output_type": "stream",
     "text": [
      " 21%|██        | 1568/7439 [01:20<04:37, 21.19it/s]"
     ]
    },
    {
     "name": "stdout",
     "output_type": "stream",
     "text": [
      "(131, 107, 3)\n",
      "(137, 110, 3)\n",
      "(133, 105, 3)\n",
      "(144, 114, 3)\n"
     ]
    },
    {
     "name": "stderr",
     "output_type": "stream",
     "text": [
      " 21%|██        | 1571/7439 [01:20<04:44, 20.62it/s]"
     ]
    },
    {
     "name": "stdout",
     "output_type": "stream",
     "text": [
      "(133, 112, 3)\n",
      "(135, 105, 3)\n",
      "(142, 113, 3)\n",
      "(132, 103, 3)\n",
      "(133, 105, 3)\n"
     ]
    },
    {
     "name": "stderr",
     "output_type": "stream",
     "text": [
      " 21%|██        | 1577/7439 [01:20<04:43, 20.69it/s]"
     ]
    },
    {
     "name": "stdout",
     "output_type": "stream",
     "text": [
      "(143, 110, 3)\n",
      "(141, 112, 3)\n",
      "(127, 102, 3)\n",
      "(141, 114, 3)\n",
      "(135, 107, 3)\n"
     ]
    },
    {
     "name": "stderr",
     "output_type": "stream",
     "text": [
      " 21%|██        | 1580/7439 [01:20<04:48, 20.33it/s]"
     ]
    },
    {
     "name": "stdout",
     "output_type": "stream",
     "text": [
      "(132, 104, 3)\n",
      "(144, 111, 3)\n",
      "(144, 112, 3)\n",
      "(135, 107, 3)\n"
     ]
    },
    {
     "name": "stderr",
     "output_type": "stream",
     "text": [
      " 21%|██▏       | 1585/7439 [01:20<04:54, 19.88it/s]"
     ]
    },
    {
     "name": "stdout",
     "output_type": "stream",
     "text": [
      "(139, 109, 3)\n",
      "(134, 105, 3)\n",
      "(135, 105, 3)\n",
      "(132, 107, 3)\n",
      "(137, 107, 3)\n"
     ]
    },
    {
     "name": "stderr",
     "output_type": "stream",
     "text": [
      " 21%|██▏       | 1591/7439 [01:21<04:35, 21.23it/s]"
     ]
    },
    {
     "name": "stdout",
     "output_type": "stream",
     "text": [
      "(133, 104, 3)\n",
      "(138, 112, 3)\n",
      "(139, 112, 3)\n",
      "(130, 102, 3)\n",
      "(142, 111, 3)\n"
     ]
    },
    {
     "name": "stderr",
     "output_type": "stream",
     "text": [
      " 21%|██▏       | 1597/7439 [01:21<04:40, 20.86it/s]"
     ]
    },
    {
     "name": "stdout",
     "output_type": "stream",
     "text": [
      "(137, 109, 3)\n",
      "(143, 110, 3)\n",
      "(134, 107, 3)\n",
      "(140, 108, 3)\n",
      "(135, 105, 3)\n"
     ]
    },
    {
     "name": "stderr",
     "output_type": "stream",
     "text": [
      " 22%|██▏       | 1600/7439 [01:21<04:42, 20.69it/s]"
     ]
    },
    {
     "name": "stdout",
     "output_type": "stream",
     "text": [
      "(143, 111, 3)\n",
      "(139, 109, 3)\n",
      "(129, 102, 3)\n",
      "(134, 107, 3)\n",
      "(138, 106, 3)\n"
     ]
    },
    {
     "name": "stderr",
     "output_type": "stream",
     "text": [
      " 22%|██▏       | 1606/7439 [01:21<04:59, 19.51it/s]"
     ]
    },
    {
     "name": "stdout",
     "output_type": "stream",
     "text": [
      "(139, 105, 3)\n",
      "(149, 117, 3)\n",
      "(142, 113, 3)\n",
      "(138, 106, 3)\n"
     ]
    },
    {
     "name": "stderr",
     "output_type": "stream",
     "text": [
      " 22%|██▏       | 1610/7439 [01:22<04:59, 19.44it/s]"
     ]
    },
    {
     "name": "stdout",
     "output_type": "stream",
     "text": [
      "(126, 104, 3)\n",
      "(143, 110, 3)\n",
      "(138, 105, 3)\n",
      "(136, 109, 3)\n"
     ]
    },
    {
     "name": "stderr",
     "output_type": "stream",
     "text": [
      " 22%|██▏       | 1613/7439 [01:22<04:52, 19.93it/s]"
     ]
    },
    {
     "name": "stdout",
     "output_type": "stream",
     "text": [
      "(127, 103, 3)\n",
      "(135, 109, 3)\n",
      "(134, 106, 3)\n",
      "(135, 104, 3)\n",
      "(135, 105, 3)\n"
     ]
    },
    {
     "name": "stderr",
     "output_type": "stream",
     "text": [
      " 22%|██▏       | 1619/7439 [01:22<04:45, 20.41it/s]"
     ]
    },
    {
     "name": "stdout",
     "output_type": "stream",
     "text": [
      "(140, 110, 3)\n",
      "(137, 109, 3)\n",
      "(136, 104, 3)\n",
      "(135, 109, 3)\n",
      "(140, 107, 3)\n"
     ]
    },
    {
     "name": "stderr",
     "output_type": "stream",
     "text": [
      " 22%|██▏       | 1622/7439 [01:22<04:43, 20.55it/s]"
     ]
    },
    {
     "name": "stdout",
     "output_type": "stream",
     "text": [
      "(145, 108, 3)\n",
      "(128, 104, 3)\n",
      "(126, 100, 3)\n",
      "(128, 103, 3)\n"
     ]
    },
    {
     "name": "stderr",
     "output_type": "stream",
     "text": [
      " 22%|██▏       | 1628/7439 [01:22<04:49, 20.08it/s]"
     ]
    },
    {
     "name": "stdout",
     "output_type": "stream",
     "text": [
      "(132, 107, 3)\n",
      "(132, 105, 3)\n",
      "(132, 106, 3)\n",
      "(133, 106, 3)\n"
     ]
    },
    {
     "name": "stderr",
     "output_type": "stream",
     "text": [
      " 22%|██▏       | 1631/7439 [01:23<04:56, 19.61it/s]"
     ]
    },
    {
     "name": "stdout",
     "output_type": "stream",
     "text": [
      "(137, 104, 3)\n",
      "(125, 99, 3)\n",
      "(113, 93, 3)\n",
      "(119, 97, 3)\n"
     ]
    },
    {
     "name": "stderr",
     "output_type": "stream",
     "text": [
      " 22%|██▏       | 1636/7439 [01:23<04:55, 19.64it/s]"
     ]
    },
    {
     "name": "stdout",
     "output_type": "stream",
     "text": [
      "(127, 99, 3)\n",
      "(127, 100, 3)\n",
      "(127, 101, 3)\n",
      "(129, 100, 3)\n"
     ]
    },
    {
     "name": "stderr",
     "output_type": "stream",
     "text": [
      " 22%|██▏       | 1639/7439 [01:23<04:45, 20.34it/s]"
     ]
    },
    {
     "name": "stdout",
     "output_type": "stream",
     "text": [
      "(131, 107, 3)\n",
      "(132, 106, 3)\n",
      "(131, 104, 3)\n",
      "(131, 106, 3)\n",
      "(132, 106, 3)\n"
     ]
    },
    {
     "name": "stderr",
     "output_type": "stream",
     "text": [
      " 22%|██▏       | 1645/7439 [01:23<04:47, 20.14it/s]"
     ]
    },
    {
     "name": "stdout",
     "output_type": "stream",
     "text": [
      "(134, 106, 3)\n",
      "(132, 102, 3)\n",
      "(143, 109, 3)\n",
      "(131, 102, 3)\n",
      "(127, 100, 3)\n"
     ]
    },
    {
     "name": "stderr",
     "output_type": "stream",
     "text": [
      " 22%|██▏       | 1651/7439 [01:24<04:43, 20.41it/s]"
     ]
    },
    {
     "name": "stdout",
     "output_type": "stream",
     "text": [
      "(131, 103, 3)\n",
      "(130, 101, 3)\n",
      "(137, 107, 3)\n",
      "(140, 109, 3)\n",
      "(127, 103, 3)\n"
     ]
    },
    {
     "name": "stderr",
     "output_type": "stream",
     "text": [
      " 22%|██▏       | 1654/7439 [01:24<04:44, 20.37it/s]"
     ]
    },
    {
     "name": "stdout",
     "output_type": "stream",
     "text": [
      "(129, 106, 3)\n",
      "(139, 107, 3)\n",
      "(133, 104, 3)\n",
      "(132, 107, 3)\n"
     ]
    },
    {
     "name": "stderr",
     "output_type": "stream",
     "text": [
      " 22%|██▏       | 1660/7439 [01:24<04:48, 20.07it/s]"
     ]
    },
    {
     "name": "stdout",
     "output_type": "stream",
     "text": [
      "(135, 106, 3)\n",
      "(119, 94, 3)\n",
      "(131, 105, 3)\n",
      "(131, 106, 3)\n",
      "(129, 102, 3)\n"
     ]
    },
    {
     "name": "stderr",
     "output_type": "stream",
     "text": [
      " 22%|██▏       | 1663/7439 [01:24<04:48, 19.99it/s]"
     ]
    },
    {
     "name": "stdout",
     "output_type": "stream",
     "text": [
      "(127, 100, 3)\n",
      "(130, 106, 3)\n",
      "(134, 103, 3)\n",
      "(126, 101, 3)\n"
     ]
    },
    {
     "name": "stderr",
     "output_type": "stream",
     "text": [
      " 22%|██▏       | 1668/7439 [01:24<04:51, 19.80it/s]"
     ]
    },
    {
     "name": "stdout",
     "output_type": "stream",
     "text": [
      "(127, 104, 3)\n",
      "(131, 104, 3)\n",
      "(123, 97, 3)\n",
      "(138, 109, 3)\n"
     ]
    },
    {
     "name": "stderr",
     "output_type": "stream",
     "text": [
      " 22%|██▏       | 1673/7439 [01:25<04:48, 19.99it/s]"
     ]
    },
    {
     "name": "stdout",
     "output_type": "stream",
     "text": [
      "(126, 98, 3)\n",
      "(126, 98, 3)\n",
      "(136, 106, 3)\n",
      "(132, 104, 3)\n",
      "(134, 107, 3)\n"
     ]
    },
    {
     "name": "stderr",
     "output_type": "stream",
     "text": [
      " 23%|██▎       | 1677/7439 [01:25<04:54, 19.54it/s]"
     ]
    },
    {
     "name": "stdout",
     "output_type": "stream",
     "text": [
      "(130, 99, 3)\n",
      "(132, 101, 3)\n",
      "(128, 103, 3)\n",
      "(135, 108, 3)\n"
     ]
    },
    {
     "name": "stderr",
     "output_type": "stream",
     "text": [
      " 23%|██▎       | 1681/7439 [01:25<05:00, 19.16it/s]"
     ]
    },
    {
     "name": "stdout",
     "output_type": "stream",
     "text": [
      "(128, 103, 3)\n",
      "(130, 104, 3)\n",
      "(125, 99, 3)\n",
      "(129, 101, 3)\n"
     ]
    },
    {
     "name": "stderr",
     "output_type": "stream",
     "text": [
      " 23%|██▎       | 1684/7439 [01:25<04:54, 19.57it/s]"
     ]
    },
    {
     "name": "stdout",
     "output_type": "stream",
     "text": [
      "(122, 99, 3)\n",
      "(137, 108, 3)\n",
      "(130, 100, 3)\n",
      "(124, 99, 3)\n"
     ]
    },
    {
     "name": "stderr",
     "output_type": "stream",
     "text": [
      " 23%|██▎       | 1688/7439 [01:26<05:06, 18.78it/s]"
     ]
    },
    {
     "name": "stdout",
     "output_type": "stream",
     "text": [
      "(132, 106, 3)\n",
      "(133, 104, 3)\n",
      "(129, 102, 3)\n",
      "(136, 106, 3)\n"
     ]
    },
    {
     "name": "stderr",
     "output_type": "stream",
     "text": [
      " 23%|██▎       | 1693/7439 [01:26<04:57, 19.31it/s]"
     ]
    },
    {
     "name": "stdout",
     "output_type": "stream",
     "text": [
      "(138, 106, 3)\n",
      "(134, 104, 3)\n",
      "(136, 107, 3)\n",
      "(114, 95, 3)\n"
     ]
    },
    {
     "name": "stderr",
     "output_type": "stream",
     "text": [
      " 23%|██▎       | 1698/7439 [01:26<04:47, 19.95it/s]"
     ]
    },
    {
     "name": "stdout",
     "output_type": "stream",
     "text": [
      "(127, 103, 3)\n",
      "(132, 105, 3)\n",
      "(134, 105, 3)\n",
      "(127, 103, 3)\n",
      "(128, 103, 3)\n"
     ]
    },
    {
     "name": "stderr",
     "output_type": "stream",
     "text": [
      " 23%|██▎       | 1702/7439 [01:26<05:03, 18.89it/s]"
     ]
    },
    {
     "name": "stdout",
     "output_type": "stream",
     "text": [
      "(126, 101, 3)\n",
      "(124, 99, 3)\n",
      "(136, 107, 3)\n",
      "(127, 103, 3)\n"
     ]
    },
    {
     "name": "stderr",
     "output_type": "stream",
     "text": [
      " 23%|██▎       | 1707/7439 [01:26<04:50, 19.72it/s]"
     ]
    },
    {
     "name": "stdout",
     "output_type": "stream",
     "text": [
      "(131, 102, 3)\n",
      "(130, 106, 3)\n",
      "(122, 101, 3)\n",
      "(131, 107, 3)\n",
      "(122, 102, 3)\n"
     ]
    },
    {
     "name": "stderr",
     "output_type": "stream",
     "text": [
      " 23%|██▎       | 1710/7439 [01:27<04:46, 19.99it/s]"
     ]
    },
    {
     "name": "stdout",
     "output_type": "stream",
     "text": [
      "(127, 102, 3)\n",
      "(133, 109, 3)\n",
      "(143, 114, 3)\n",
      "(136, 111, 3)\n",
      "(143, 114, 3)\n"
     ]
    },
    {
     "name": "stderr",
     "output_type": "stream",
     "text": [
      " 23%|██▎       | 1716/7439 [01:27<04:33, 20.90it/s]"
     ]
    },
    {
     "name": "stdout",
     "output_type": "stream",
     "text": [
      "(118, 102, 3)\n",
      "(118, 98, 3)\n",
      "(115, 100, 3)\n",
      "(130, 108, 3)\n",
      "(123, 104, 3)\n"
     ]
    },
    {
     "name": "stderr",
     "output_type": "stream",
     "text": [
      " 23%|██▎       | 1722/7439 [01:27<04:16, 22.29it/s]"
     ]
    },
    {
     "name": "stdout",
     "output_type": "stream",
     "text": [
      "(123, 95, 3)\n",
      "(121, 105, 3)\n",
      "(126, 102, 3)\n",
      "(120, 102, 3)\n",
      "(131, 108, 3)\n"
     ]
    },
    {
     "name": "stderr",
     "output_type": "stream",
     "text": [
      " 23%|██▎       | 1725/7439 [01:27<04:18, 22.07it/s]"
     ]
    },
    {
     "name": "stdout",
     "output_type": "stream",
     "text": [
      "(121, 105, 3)\n",
      "(128, 106, 3)\n",
      "(121, 99, 3)\n",
      "(129, 107, 3)\n",
      "(121, 102, 3)\n"
     ]
    },
    {
     "name": "stderr",
     "output_type": "stream",
     "text": [
      " 23%|██▎       | 1731/7439 [01:28<04:24, 21.56it/s]"
     ]
    },
    {
     "name": "stdout",
     "output_type": "stream",
     "text": [
      "(134, 110, 3)\n",
      "(117, 101, 3)\n",
      "(125, 103, 3)\n",
      "(136, 115, 3)\n",
      "(132, 109, 3)\n"
     ]
    },
    {
     "name": "stderr",
     "output_type": "stream",
     "text": [
      " 23%|██▎       | 1734/7439 [01:28<04:30, 21.08it/s]"
     ]
    },
    {
     "name": "stdout",
     "output_type": "stream",
     "text": [
      "(117, 100, 3)\n",
      "(120, 100, 3)\n",
      "(131, 107, 3)\n",
      "(132, 108, 3)\n"
     ]
    },
    {
     "name": "stderr",
     "output_type": "stream",
     "text": [
      " 23%|██▎       | 1740/7439 [01:28<04:35, 20.68it/s]"
     ]
    },
    {
     "name": "stdout",
     "output_type": "stream",
     "text": [
      "(129, 105, 3)\n",
      "(128, 107, 3)\n",
      "(113, 98, 3)\n",
      "(122, 99, 3)\n",
      "(114, 96, 3)\n"
     ]
    },
    {
     "name": "stderr",
     "output_type": "stream",
     "text": [
      " 23%|██▎       | 1746/7439 [01:28<04:31, 21.00it/s]"
     ]
    },
    {
     "name": "stdout",
     "output_type": "stream",
     "text": [
      "(129, 108, 3)\n",
      "(127, 105, 3)\n",
      "(154, 117, 3)\n",
      "(130, 108, 3)\n",
      "(128, 106, 3)\n"
     ]
    },
    {
     "name": "stderr",
     "output_type": "stream",
     "text": [
      " 24%|██▎       | 1749/7439 [01:28<04:34, 20.76it/s]"
     ]
    },
    {
     "name": "stdout",
     "output_type": "stream",
     "text": [
      "(123, 99, 3)\n",
      "(131, 109, 3)\n",
      "(131, 108, 3)\n",
      "(126, 105, 3)\n",
      "(112, 96, 3)\n"
     ]
    },
    {
     "name": "stderr",
     "output_type": "stream",
     "text": [
      " 24%|██▎       | 1755/7439 [01:29<04:22, 21.65it/s]"
     ]
    },
    {
     "name": "stdout",
     "output_type": "stream",
     "text": [
      "(126, 101, 3)\n",
      "(122, 100, 3)\n",
      "(128, 105, 3)\n",
      "(122, 101, 3)\n",
      "(132, 108, 3)\n"
     ]
    },
    {
     "name": "stderr",
     "output_type": "stream",
     "text": [
      " 24%|██▎       | 1758/7439 [01:29<04:32, 20.83it/s]"
     ]
    },
    {
     "name": "stdout",
     "output_type": "stream",
     "text": [
      "(125, 103, 3)\n",
      "(135, 109, 3)\n",
      "(125, 106, 3)\n",
      "(137, 112, 3)\n",
      "(136, 112, 3)\n"
     ]
    },
    {
     "name": "stderr",
     "output_type": "stream",
     "text": [
      " 24%|██▎       | 1764/7439 [01:29<04:40, 20.24it/s]"
     ]
    },
    {
     "name": "stdout",
     "output_type": "stream",
     "text": [
      "(139, 116, 3)\n",
      "(119, 101, 3)\n",
      "(132, 109, 3)\n",
      "(125, 105, 3)\n",
      "(126, 105, 3)\n"
     ]
    },
    {
     "name": "stderr",
     "output_type": "stream",
     "text": [
      " 24%|██▍       | 1770/7439 [01:30<04:51, 19.44it/s]"
     ]
    },
    {
     "name": "stdout",
     "output_type": "stream",
     "text": [
      "(120, 103, 3)\n",
      "(135, 104, 3)\n",
      "(120, 103, 3)\n",
      "(132, 107, 3)\n"
     ]
    },
    {
     "name": "stderr",
     "output_type": "stream",
     "text": [
      " 24%|██▍       | 1774/7439 [01:30<04:58, 18.95it/s]"
     ]
    },
    {
     "name": "stdout",
     "output_type": "stream",
     "text": [
      "(129, 106, 3)\n",
      "(137, 109, 3)\n",
      "(135, 113, 3)\n",
      "(123, 101, 3)\n"
     ]
    },
    {
     "name": "stderr",
     "output_type": "stream",
     "text": [
      " 24%|██▍       | 1777/7439 [01:30<04:43, 19.98it/s]"
     ]
    },
    {
     "name": "stdout",
     "output_type": "stream",
     "text": [
      "(116, 99, 3)\n",
      "(118, 97, 3)\n",
      "(116, 96, 3)\n",
      "(124, 104, 3)\n",
      "(117, 95, 3)\n"
     ]
    },
    {
     "name": "stderr",
     "output_type": "stream",
     "text": [
      " 24%|██▍       | 1783/7439 [01:30<04:42, 20.03it/s]"
     ]
    },
    {
     "name": "stdout",
     "output_type": "stream",
     "text": [
      "(140, 115, 3)\n",
      "(118, 102, 3)\n",
      "(118, 100, 3)\n",
      "(124, 104, 3)\n"
     ]
    },
    {
     "name": "stderr",
     "output_type": "stream",
     "text": [
      " 24%|██▍       | 1786/7439 [01:30<04:45, 19.81it/s]"
     ]
    },
    {
     "name": "stdout",
     "output_type": "stream",
     "text": [
      "(129, 104, 3)\n",
      "(126, 103, 3)\n",
      "(155, 120, 3)\n",
      "(130, 106, 3)\n",
      "(143, 114, 3)\n"
     ]
    },
    {
     "name": "stderr",
     "output_type": "stream",
     "text": [
      " 24%|██▍       | 1792/7439 [01:31<04:23, 21.43it/s]"
     ]
    },
    {
     "name": "stdout",
     "output_type": "stream",
     "text": [
      "(149, 115, 3)\n",
      "(146, 115, 3)\n",
      "(143, 110, 3)\n",
      "(152, 119, 3)\n",
      "(137, 112, 3)\n"
     ]
    },
    {
     "name": "stderr",
     "output_type": "stream",
     "text": [
      " 24%|██▍       | 1798/7439 [01:31<04:14, 22.18it/s]"
     ]
    },
    {
     "name": "stdout",
     "output_type": "stream",
     "text": [
      "(137, 109, 3)\n",
      "(116, 92, 3)\n",
      "(129, 101, 3)\n",
      "(123, 97, 3)\n",
      "(146, 113, 3)\n"
     ]
    },
    {
     "name": "stderr",
     "output_type": "stream",
     "text": [
      " 24%|██▍       | 1801/7439 [01:31<04:11, 22.43it/s]"
     ]
    },
    {
     "name": "stdout",
     "output_type": "stream",
     "text": [
      "(143, 110, 3)\n",
      "(129, 107, 3)\n",
      "(142, 115, 3)\n",
      "(139, 110, 3)\n",
      "(145, 117, 3)\n"
     ]
    },
    {
     "name": "stderr",
     "output_type": "stream",
     "text": [
      " 24%|██▍       | 1807/7439 [01:31<04:10, 22.48it/s]"
     ]
    },
    {
     "name": "stdout",
     "output_type": "stream",
     "text": [
      "(140, 113, 3)\n",
      "(139, 110, 3)\n",
      "(144, 117, 3)\n",
      "(137, 110, 3)\n",
      "(140, 112, 3)\n"
     ]
    },
    {
     "name": "stderr",
     "output_type": "stream",
     "text": [
      " 24%|██▍       | 1813/7439 [01:32<04:14, 22.13it/s]"
     ]
    },
    {
     "name": "stdout",
     "output_type": "stream",
     "text": [
      "(126, 103, 3)\n",
      "(134, 104, 3)\n",
      "(139, 109, 3)\n",
      "(138, 107, 3)\n",
      "(139, 111, 3)\n"
     ]
    },
    {
     "name": "stderr",
     "output_type": "stream",
     "text": [
      " 24%|██▍       | 1816/7439 [01:32<04:16, 21.90it/s]"
     ]
    },
    {
     "name": "stdout",
     "output_type": "stream",
     "text": [
      "(149, 119, 3)\n",
      "(128, 105, 3)\n",
      "(137, 108, 3)\n",
      "(139, 111, 3)\n",
      "(153, 117, 3)\n"
     ]
    },
    {
     "name": "stderr",
     "output_type": "stream",
     "text": [
      " 24%|██▍       | 1822/7439 [01:32<04:20, 21.60it/s]"
     ]
    },
    {
     "name": "stdout",
     "output_type": "stream",
     "text": [
      "(147, 117, 3)\n",
      "(139, 114, 3)\n",
      "(139, 110, 3)\n",
      "(133, 107, 3)\n",
      "(137, 110, 3)\n"
     ]
    },
    {
     "name": "stderr",
     "output_type": "stream",
     "text": [
      " 25%|██▍       | 1828/7439 [01:32<04:23, 21.33it/s]"
     ]
    },
    {
     "name": "stdout",
     "output_type": "stream",
     "text": [
      "(138, 112, 3)\n",
      "(137, 110, 3)\n",
      "(143, 111, 3)\n",
      "(124, 100, 3)\n",
      "(137, 108, 3)\n"
     ]
    },
    {
     "name": "stderr",
     "output_type": "stream",
     "text": [
      " 25%|██▍       | 1831/7439 [01:32<04:18, 21.67it/s]"
     ]
    },
    {
     "name": "stdout",
     "output_type": "stream",
     "text": [
      "(135, 106, 3)\n",
      "(137, 110, 3)\n",
      "(134, 107, 3)\n",
      "(133, 108, 3)\n",
      "(129, 103, 3)\n"
     ]
    },
    {
     "name": "stderr",
     "output_type": "stream",
     "text": [
      " 25%|██▍       | 1837/7439 [01:33<04:09, 22.44it/s]"
     ]
    },
    {
     "name": "stdout",
     "output_type": "stream",
     "text": [
      "(129, 106, 3)\n",
      "(140, 112, 3)\n",
      "(143, 114, 3)\n",
      "(135, 109, 3)\n",
      "(150, 118, 3)\n"
     ]
    },
    {
     "name": "stderr",
     "output_type": "stream",
     "text": [
      " 25%|██▍       | 1843/7439 [01:33<04:09, 22.43it/s]"
     ]
    },
    {
     "name": "stdout",
     "output_type": "stream",
     "text": [
      "(128, 103, 3)\n",
      "(127, 102, 3)\n",
      "(139, 111, 3)\n",
      "(134, 109, 3)\n",
      "(139, 108, 3)\n"
     ]
    },
    {
     "name": "stderr",
     "output_type": "stream",
     "text": [
      " 25%|██▍       | 1846/7439 [01:33<04:13, 22.08it/s]"
     ]
    },
    {
     "name": "stdout",
     "output_type": "stream",
     "text": [
      "(141, 111, 3)\n",
      "(125, 100, 3)\n",
      "(136, 107, 3)\n",
      "(143, 115, 3)\n",
      "(132, 107, 3)\n"
     ]
    },
    {
     "name": "stderr",
     "output_type": "stream",
     "text": [
      " 25%|██▍       | 1852/7439 [01:33<04:20, 21.47it/s]"
     ]
    },
    {
     "name": "stdout",
     "output_type": "stream",
     "text": [
      "(139, 109, 3)\n",
      "(148, 115, 3)\n",
      "(130, 102, 3)\n",
      "(134, 104, 3)\n"
     ]
    },
    {
     "name": "stderr",
     "output_type": "stream",
     "text": [
      " 25%|██▍       | 1855/7439 [01:33<04:26, 20.95it/s]"
     ]
    },
    {
     "name": "stdout",
     "output_type": "stream",
     "text": [
      "(145, 110, 3)\n",
      "(141, 111, 3)\n",
      "(132, 106, 3)\n",
      "(154, 120, 3)\n",
      "(130, 106, 3)\n"
     ]
    },
    {
     "name": "stderr",
     "output_type": "stream",
     "text": [
      " 25%|██▌       | 1861/7439 [01:34<04:17, 21.66it/s]"
     ]
    },
    {
     "name": "stdout",
     "output_type": "stream",
     "text": [
      "(135, 110, 3)\n",
      "(138, 111, 3)\n",
      "(142, 113, 3)\n",
      "(139, 114, 3)\n",
      "(157, 117, 3)\n"
     ]
    },
    {
     "name": "stderr",
     "output_type": "stream",
     "text": [
      " 25%|██▌       | 1867/7439 [01:34<04:22, 21.25it/s]"
     ]
    },
    {
     "name": "stdout",
     "output_type": "stream",
     "text": [
      "(128, 103, 3)\n",
      "(147, 111, 3)\n",
      "(144, 112, 3)\n",
      "(138, 110, 3)\n",
      "(147, 114, 3)\n"
     ]
    },
    {
     "name": "stderr",
     "output_type": "stream",
     "text": [
      " 25%|██▌       | 1870/7439 [01:34<04:21, 21.28it/s]"
     ]
    },
    {
     "name": "stdout",
     "output_type": "stream",
     "text": [
      "(127, 100, 3)\n",
      "(129, 100, 3)\n",
      "(132, 103, 3)\n",
      "(134, 102, 3)\n",
      "(126, 98, 3)\n"
     ]
    },
    {
     "name": "stderr",
     "output_type": "stream",
     "text": [
      " 25%|██▌       | 1876/7439 [01:34<04:12, 22.08it/s]"
     ]
    },
    {
     "name": "stdout",
     "output_type": "stream",
     "text": [
      "(122, 97, 3)\n",
      "(135, 102, 3)\n",
      "(135, 105, 3)\n",
      "(126, 101, 3)\n",
      "(128, 99, 3)\n"
     ]
    },
    {
     "name": "stderr",
     "output_type": "stream",
     "text": [
      " 25%|██▌       | 1879/7439 [01:35<04:17, 21.56it/s]"
     ]
    },
    {
     "name": "stdout",
     "output_type": "stream",
     "text": [
      "(128, 100, 3)\n",
      "(118, 95, 3)\n",
      "(129, 99, 3)\n",
      "(128, 101, 3)\n"
     ]
    },
    {
     "name": "stderr",
     "output_type": "stream",
     "text": [
      " 25%|██▌       | 1885/7439 [01:35<04:21, 21.27it/s]"
     ]
    },
    {
     "name": "stdout",
     "output_type": "stream",
     "text": [
      "(135, 104, 3)\n",
      "(125, 100, 3)\n",
      "(123, 98, 3)\n",
      "(128, 100, 3)\n",
      "(130, 104, 3)\n"
     ]
    },
    {
     "name": "stderr",
     "output_type": "stream",
     "text": [
      " 25%|██▌       | 1891/7439 [01:35<04:17, 21.57it/s]"
     ]
    },
    {
     "name": "stdout",
     "output_type": "stream",
     "text": [
      "(127, 101, 3)\n",
      "(128, 103, 3)\n",
      "(123, 97, 3)\n",
      "(133, 103, 3)\n",
      "(128, 100, 3)\n"
     ]
    },
    {
     "name": "stderr",
     "output_type": "stream",
     "text": [
      " 25%|██▌       | 1894/7439 [01:35<04:10, 22.17it/s]"
     ]
    },
    {
     "name": "stdout",
     "output_type": "stream",
     "text": [
      "(130, 102, 3)\n",
      "(125, 100, 3)\n",
      "(127, 101, 3)\n",
      "(135, 102, 3)\n",
      "(128, 102, 3)\n"
     ]
    },
    {
     "name": "stderr",
     "output_type": "stream",
     "text": [
      " 26%|██▌       | 1900/7439 [01:36<04:16, 21.63it/s]"
     ]
    },
    {
     "name": "stdout",
     "output_type": "stream",
     "text": [
      "(128, 100, 3)\n",
      "(123, 99, 3)\n",
      "(117, 96, 3)\n",
      "(122, 96, 3)\n",
      "(127, 100, 3)\n"
     ]
    },
    {
     "name": "stderr",
     "output_type": "stream",
     "text": [
      " 26%|██▌       | 1906/7439 [01:36<04:16, 21.55it/s]"
     ]
    },
    {
     "name": "stdout",
     "output_type": "stream",
     "text": [
      "(128, 102, 3)\n",
      "(126, 100, 3)\n",
      "(134, 102, 3)\n",
      "(122, 100, 3)\n",
      "(123, 98, 3)\n"
     ]
    },
    {
     "name": "stderr",
     "output_type": "stream",
     "text": [
      " 26%|██▌       | 1909/7439 [01:36<04:18, 21.37it/s]"
     ]
    },
    {
     "name": "stdout",
     "output_type": "stream",
     "text": [
      "(130, 102, 3)\n",
      "(117, 94, 3)\n",
      "(124, 97, 3)\n",
      "(128, 99, 3)\n",
      "(130, 103, 3)\n"
     ]
    },
    {
     "name": "stderr",
     "output_type": "stream",
     "text": [
      " 26%|██▌       | 1915/7439 [01:36<04:16, 21.55it/s]"
     ]
    },
    {
     "name": "stdout",
     "output_type": "stream",
     "text": [
      "(121, 97, 3)\n",
      "(124, 97, 3)\n",
      "(124, 98, 3)\n",
      "(118, 93, 3)\n",
      "(128, 102, 3)\n"
     ]
    },
    {
     "name": "stderr",
     "output_type": "stream",
     "text": [
      " 26%|██▌       | 1921/7439 [01:36<04:13, 21.74it/s]"
     ]
    },
    {
     "name": "stdout",
     "output_type": "stream",
     "text": [
      "(131, 106, 3)\n",
      "(125, 99, 3)\n",
      "(121, 96, 3)\n",
      "(125, 99, 3)\n",
      "(121, 98, 3)\n"
     ]
    },
    {
     "name": "stderr",
     "output_type": "stream",
     "text": [
      " 26%|██▌       | 1924/7439 [01:37<04:15, 21.63it/s]"
     ]
    },
    {
     "name": "stdout",
     "output_type": "stream",
     "text": [
      "(131, 102, 3)\n",
      "(133, 103, 3)\n",
      "(124, 98, 3)\n",
      "(124, 100, 3)\n",
      "(126, 102, 3)\n"
     ]
    },
    {
     "name": "stderr",
     "output_type": "stream",
     "text": [
      " 26%|██▌       | 1930/7439 [01:37<04:12, 21.84it/s]"
     ]
    },
    {
     "name": "stdout",
     "output_type": "stream",
     "text": [
      "(117, 95, 3)\n",
      "(132, 101, 3)\n",
      "(132, 104, 3)\n",
      "(124, 99, 3)\n",
      "(122, 98, 3)\n"
     ]
    },
    {
     "name": "stderr",
     "output_type": "stream",
     "text": [
      " 26%|██▌       | 1933/7439 [01:37<04:23, 20.94it/s]"
     ]
    },
    {
     "name": "stdout",
     "output_type": "stream",
     "text": [
      "(132, 102, 3)\n",
      "(127, 100, 3)\n",
      "(137, 105, 3)\n",
      "(122, 98, 3)\n"
     ]
    },
    {
     "name": "stderr",
     "output_type": "stream",
     "text": [
      " 26%|██▌       | 1939/7439 [01:37<04:27, 20.58it/s]"
     ]
    },
    {
     "name": "stdout",
     "output_type": "stream",
     "text": [
      "(135, 105, 3)\n",
      "(136, 104, 3)\n",
      "(121, 98, 3)\n",
      "(117, 95, 3)\n",
      "(126, 99, 3)\n"
     ]
    },
    {
     "name": "stderr",
     "output_type": "stream",
     "text": [
      " 26%|██▌       | 1945/7439 [01:38<04:19, 21.20it/s]"
     ]
    },
    {
     "name": "stdout",
     "output_type": "stream",
     "text": [
      "(130, 105, 3)\n",
      "(128, 102, 3)\n",
      "(123, 98, 3)\n",
      "(128, 102, 3)\n",
      "(126, 100, 3)\n"
     ]
    },
    {
     "name": "stderr",
     "output_type": "stream",
     "text": [
      " 26%|██▌       | 1948/7439 [01:38<04:16, 21.38it/s]"
     ]
    },
    {
     "name": "stdout",
     "output_type": "stream",
     "text": [
      "(135, 103, 3)\n",
      "(124, 98, 3)\n",
      "(123, 96, 3)\n",
      "(126, 99, 3)\n",
      "(138, 110, 3)\n"
     ]
    },
    {
     "name": "stderr",
     "output_type": "stream",
     "text": [
      " 26%|██▋       | 1954/7439 [01:38<04:22, 20.89it/s]"
     ]
    },
    {
     "name": "stdout",
     "output_type": "stream",
     "text": [
      "(127, 102, 3)\n",
      "(133, 108, 3)\n",
      "(129, 100, 3)\n",
      "(137, 108, 3)\n",
      "(133, 105, 3)\n"
     ]
    },
    {
     "name": "stderr",
     "output_type": "stream",
     "text": [
      " 26%|██▋       | 1957/7439 [01:38<04:25, 20.63it/s]"
     ]
    },
    {
     "name": "stdout",
     "output_type": "stream",
     "text": [
      "(150, 114, 3)\n",
      "(146, 115, 3)\n",
      "(138, 111, 3)\n",
      "(139, 107, 3)\n"
     ]
    },
    {
     "name": "stderr",
     "output_type": "stream",
     "text": [
      " 26%|██▋       | 1963/7439 [01:39<04:35, 19.84it/s]"
     ]
    },
    {
     "name": "stdout",
     "output_type": "stream",
     "text": [
      "(130, 107, 3)\n",
      "(132, 107, 3)\n",
      "(132, 107, 3)\n",
      "(136, 113, 3)\n"
     ]
    },
    {
     "name": "stderr",
     "output_type": "stream",
     "text": [
      " 26%|██▋       | 1966/7439 [01:39<04:27, 20.46it/s]"
     ]
    },
    {
     "name": "stdout",
     "output_type": "stream",
     "text": [
      "(140, 114, 3)\n",
      "(132, 107, 3)\n",
      "(132, 108, 3)\n",
      "(131, 107, 3)\n",
      "(134, 108, 3)\n"
     ]
    },
    {
     "name": "stderr",
     "output_type": "stream",
     "text": [
      " 27%|██▋       | 1972/7439 [01:39<04:24, 20.66it/s]"
     ]
    },
    {
     "name": "stdout",
     "output_type": "stream",
     "text": [
      "(135, 112, 3)\n",
      "(134, 109, 3)\n",
      "(138, 112, 3)\n",
      "(134, 109, 3)\n",
      "(134, 104, 3)\n"
     ]
    },
    {
     "name": "stderr",
     "output_type": "stream",
     "text": [
      " 27%|██▋       | 1978/7439 [01:39<04:21, 20.88it/s]"
     ]
    },
    {
     "name": "stdout",
     "output_type": "stream",
     "text": [
      "(130, 107, 3)\n",
      "(127, 102, 3)\n",
      "(143, 111, 3)\n",
      "(138, 107, 3)\n",
      "(133, 109, 3)\n"
     ]
    },
    {
     "name": "stderr",
     "output_type": "stream",
     "text": [
      " 27%|██▋       | 1981/7439 [01:39<04:30, 20.16it/s]"
     ]
    },
    {
     "name": "stdout",
     "output_type": "stream",
     "text": [
      "(134, 107, 3)\n",
      "(134, 105, 3)\n",
      "(134, 106, 3)\n",
      "(138, 107, 3)\n"
     ]
    },
    {
     "name": "stderr",
     "output_type": "stream",
     "text": [
      " 27%|██▋       | 1984/7439 [01:40<04:29, 20.26it/s]"
     ]
    },
    {
     "name": "stdout",
     "output_type": "stream",
     "text": [
      "(127, 106, 3)\n",
      "(136, 107, 3)\n"
     ]
    },
    {
     "name": "stderr",
     "output_type": "stream",
     "text": [
      " 27%|██▋       | 1987/7439 [01:40<05:33, 16.36it/s]"
     ]
    },
    {
     "name": "stdout",
     "output_type": "stream",
     "text": [
      "(124, 102, 3)\n",
      "(129, 105, 3)\n",
      "(136, 111, 3)\n",
      "(141, 115, 3)\n"
     ]
    },
    {
     "name": "stderr",
     "output_type": "stream",
     "text": [
      " 27%|██▋       | 1991/7439 [01:40<05:23, 16.85it/s]"
     ]
    },
    {
     "name": "stdout",
     "output_type": "stream",
     "text": [
      "(130, 105, 3)\n",
      "(135, 110, 3)\n",
      "(132, 106, 3)\n",
      "(129, 103, 3)\n"
     ]
    },
    {
     "name": "stderr",
     "output_type": "stream",
     "text": [
      " 27%|██▋       | 1996/7439 [01:40<05:00, 18.14it/s]"
     ]
    },
    {
     "name": "stdout",
     "output_type": "stream",
     "text": [
      "(124, 104, 3)\n",
      "(131, 108, 3)\n",
      "(135, 109, 3)\n",
      "(138, 110, 3)\n"
     ]
    },
    {
     "name": "stderr",
     "output_type": "stream",
     "text": [
      " 27%|██▋       | 2001/7439 [01:41<04:43, 19.18it/s]"
     ]
    },
    {
     "name": "stdout",
     "output_type": "stream",
     "text": [
      "(131, 104, 3)\n",
      "(134, 108, 3)\n",
      "(129, 103, 3)\n",
      "(132, 108, 3)\n",
      "(127, 103, 3)\n"
     ]
    },
    {
     "name": "stderr",
     "output_type": "stream",
     "text": [
      " 27%|██▋       | 2005/7439 [01:41<04:42, 19.27it/s]"
     ]
    },
    {
     "name": "stdout",
     "output_type": "stream",
     "text": [
      "(135, 108, 3)\n",
      "(129, 106, 3)\n",
      "(134, 109, 3)\n",
      "(133, 107, 3)\n"
     ]
    },
    {
     "name": "stderr",
     "output_type": "stream",
     "text": [
      " 27%|██▋       | 2009/7439 [01:41<04:45, 19.02it/s]"
     ]
    },
    {
     "name": "stdout",
     "output_type": "stream",
     "text": [
      "(131, 105, 3)\n",
      "(138, 109, 3)\n",
      "(129, 107, 3)\n",
      "(129, 102, 3)\n"
     ]
    },
    {
     "name": "stderr",
     "output_type": "stream",
     "text": [
      " 27%|██▋       | 2013/7439 [01:41<04:46, 18.95it/s]"
     ]
    },
    {
     "name": "stdout",
     "output_type": "stream",
     "text": [
      "(126, 105, 3)\n",
      "(136, 107, 3)\n",
      "(136, 109, 3)\n",
      "(127, 105, 3)\n"
     ]
    },
    {
     "name": "stderr",
     "output_type": "stream",
     "text": [
      " 27%|██▋       | 2017/7439 [01:41<05:11, 17.39it/s]"
     ]
    },
    {
     "name": "stdout",
     "output_type": "stream",
     "text": [
      "(137, 109, 3)\n",
      "(139, 111, 3)\n",
      "(148, 114, 3)\n",
      "(141, 110, 3)\n"
     ]
    },
    {
     "name": "stderr",
     "output_type": "stream",
     "text": [
      " 27%|██▋       | 2019/7439 [01:42<05:12, 17.36it/s]"
     ]
    },
    {
     "name": "stdout",
     "output_type": "stream",
     "text": [
      "(142, 113, 3)\n",
      "(138, 109, 3)\n",
      "(139, 113, 3)\n",
      "(132, 103, 3)\n"
     ]
    },
    {
     "name": "stderr",
     "output_type": "stream",
     "text": [
      " 27%|██▋       | 2025/7439 [01:42<04:42, 19.17it/s]"
     ]
    },
    {
     "name": "stdout",
     "output_type": "stream",
     "text": [
      "(134, 108, 3)\n",
      "(137, 108, 3)\n",
      "(133, 106, 3)\n",
      "(132, 105, 3)\n",
      "(138, 108, 3)\n"
     ]
    },
    {
     "name": "stderr",
     "output_type": "stream",
     "text": [
      " 27%|██▋       | 2030/7439 [01:42<04:38, 19.42it/s]"
     ]
    },
    {
     "name": "stdout",
     "output_type": "stream",
     "text": [
      "(135, 106, 3)\n",
      "(131, 107, 3)\n",
      "(133, 107, 3)\n",
      "(137, 109, 3)\n"
     ]
    },
    {
     "name": "stderr",
     "output_type": "stream",
     "text": [
      " 27%|██▋       | 2033/7439 [01:42<04:27, 20.22it/s]"
     ]
    },
    {
     "name": "stdout",
     "output_type": "stream",
     "text": [
      "(130, 102, 3)\n",
      "(139, 110, 3)\n",
      "(130, 105, 3)\n",
      "(130, 104, 3)\n",
      "(139, 110, 3)\n"
     ]
    },
    {
     "name": "stderr",
     "output_type": "stream",
     "text": [
      " 27%|██▋       | 2039/7439 [01:42<04:11, 21.46it/s]"
     ]
    },
    {
     "name": "stdout",
     "output_type": "stream",
     "text": [
      "(138, 109, 3)\n",
      "(132, 108, 3)\n",
      "(139, 113, 3)\n",
      "(145, 115, 3)\n",
      "(150, 118, 3)\n"
     ]
    },
    {
     "name": "stderr",
     "output_type": "stream",
     "text": [
      " 27%|██▋       | 2045/7439 [01:43<04:11, 21.49it/s]"
     ]
    },
    {
     "name": "stdout",
     "output_type": "stream",
     "text": [
      "(132, 102, 3)\n",
      "(131, 106, 3)\n",
      "(131, 104, 3)\n",
      "(141, 111, 3)\n",
      "(134, 108, 3)\n"
     ]
    },
    {
     "name": "stderr",
     "output_type": "stream",
     "text": [
      " 28%|██▊       | 2048/7439 [01:43<04:03, 22.12it/s]"
     ]
    },
    {
     "name": "stdout",
     "output_type": "stream",
     "text": [
      "(136, 107, 3)\n",
      "(138, 111, 3)\n",
      "(145, 113, 3)\n",
      "(138, 111, 3)\n",
      "(136, 109, 3)\n"
     ]
    },
    {
     "name": "stderr",
     "output_type": "stream",
     "text": [
      " 28%|██▊       | 2054/7439 [01:43<04:06, 21.88it/s]"
     ]
    },
    {
     "name": "stdout",
     "output_type": "stream",
     "text": [
      "(134, 109, 3)\n",
      "(130, 104, 3)\n",
      "(134, 107, 3)\n",
      "(143, 110, 3)\n",
      "(131, 104, 3)\n"
     ]
    },
    {
     "name": "stderr",
     "output_type": "stream",
     "text": [
      " 28%|██▊       | 2060/7439 [01:43<04:08, 21.68it/s]"
     ]
    },
    {
     "name": "stdout",
     "output_type": "stream",
     "text": [
      "(141, 112, 3)\n",
      "(136, 110, 3)\n",
      "(132, 109, 3)\n",
      "(140, 111, 3)\n",
      "(137, 110, 3)\n"
     ]
    },
    {
     "name": "stderr",
     "output_type": "stream",
     "text": [
      " 28%|██▊       | 2063/7439 [01:44<04:05, 21.87it/s]"
     ]
    },
    {
     "name": "stdout",
     "output_type": "stream",
     "text": [
      "(129, 105, 3)\n",
      "(139, 110, 3)\n",
      "(148, 113, 3)\n",
      "(141, 112, 3)\n",
      "(142, 111, 3)\n"
     ]
    },
    {
     "name": "stderr",
     "output_type": "stream",
     "text": [
      " 28%|██▊       | 2069/7439 [01:44<04:08, 21.65it/s]"
     ]
    },
    {
     "name": "stdout",
     "output_type": "stream",
     "text": [
      "(134, 107, 3)\n",
      "(129, 105, 3)\n",
      "(132, 107, 3)\n",
      "(139, 109, 3)\n",
      "(133, 106, 3)\n"
     ]
    },
    {
     "name": "stderr",
     "output_type": "stream",
     "text": [
      " 28%|██▊       | 2075/7439 [01:44<04:05, 21.82it/s]"
     ]
    },
    {
     "name": "stdout",
     "output_type": "stream",
     "text": [
      "(134, 109, 3)\n",
      "(141, 112, 3)\n",
      "(138, 110, 3)\n",
      "(144, 116, 3)\n",
      "(143, 115, 3)\n"
     ]
    },
    {
     "name": "stderr",
     "output_type": "stream",
     "text": [
      " 28%|██▊       | 2078/7439 [01:44<04:07, 21.68it/s]"
     ]
    },
    {
     "name": "stdout",
     "output_type": "stream",
     "text": [
      "(133, 105, 3)\n",
      "(129, 106, 3)\n",
      "(142, 114, 3)\n",
      "(128, 104, 3)\n",
      "(134, 109, 3)\n"
     ]
    },
    {
     "name": "stderr",
     "output_type": "stream",
     "text": [
      " 28%|██▊       | 2084/7439 [01:45<04:06, 21.75it/s]"
     ]
    },
    {
     "name": "stdout",
     "output_type": "stream",
     "text": [
      "(139, 110, 3)\n",
      "(133, 104, 3)\n",
      "(131, 104, 3)\n",
      "(142, 114, 3)\n",
      "(126, 102, 3)\n"
     ]
    },
    {
     "name": "stderr",
     "output_type": "stream",
     "text": [
      " 28%|██▊       | 2090/7439 [01:45<04:14, 21.05it/s]"
     ]
    },
    {
     "name": "stdout",
     "output_type": "stream",
     "text": [
      "(131, 105, 3)\n",
      "(139, 111, 3)\n",
      "(134, 111, 3)\n",
      "(135, 109, 3)\n",
      "(140, 113, 3)\n"
     ]
    },
    {
     "name": "stderr",
     "output_type": "stream",
     "text": [
      " 28%|██▊       | 2093/7439 [01:45<04:12, 21.16it/s]"
     ]
    },
    {
     "name": "stdout",
     "output_type": "stream",
     "text": [
      "(135, 108, 3)\n",
      "(141, 112, 3)\n",
      "(138, 110, 3)\n",
      "(131, 108, 3)\n",
      "(134, 109, 3)\n"
     ]
    },
    {
     "name": "stderr",
     "output_type": "stream",
     "text": [
      " 28%|██▊       | 2099/7439 [01:45<04:27, 19.95it/s]"
     ]
    },
    {
     "name": "stdout",
     "output_type": "stream",
     "text": [
      "(143, 113, 3)\n",
      "(139, 110, 3)\n",
      "(139, 109, 3)\n",
      "(147, 114, 3)\n"
     ]
    },
    {
     "name": "stderr",
     "output_type": "stream",
     "text": [
      " 28%|██▊       | 2102/7439 [01:45<04:36, 19.32it/s]"
     ]
    },
    {
     "name": "stdout",
     "output_type": "stream",
     "text": [
      "(143, 112, 3)\n",
      "(148, 113, 3)\n",
      "(146, 115, 3)\n",
      "(131, 105, 3)\n",
      "(139, 112, 3)\n"
     ]
    },
    {
     "name": "stderr",
     "output_type": "stream",
     "text": [
      " 28%|██▊       | 2108/7439 [01:46<04:20, 20.45it/s]"
     ]
    },
    {
     "name": "stdout",
     "output_type": "stream",
     "text": [
      "(136, 110, 3)\n",
      "(140, 112, 3)\n",
      "(137, 109, 3)\n",
      "(154, 117, 3)\n",
      "(131, 104, 3)\n"
     ]
    },
    {
     "name": "stderr",
     "output_type": "stream",
     "text": [
      " 28%|██▊       | 2114/7439 [01:46<04:08, 21.44it/s]"
     ]
    },
    {
     "name": "stdout",
     "output_type": "stream",
     "text": [
      "(136, 107, 3)\n",
      "(140, 111, 3)\n",
      "(136, 109, 3)\n",
      "(135, 112, 3)\n",
      "(133, 111, 3)\n"
     ]
    },
    {
     "name": "stderr",
     "output_type": "stream",
     "text": [
      " 28%|██▊       | 2117/7439 [01:46<04:04, 21.72it/s]"
     ]
    },
    {
     "name": "stdout",
     "output_type": "stream",
     "text": [
      "(132, 105, 3)\n",
      "(130, 107, 3)\n",
      "(132, 108, 3)\n",
      "(144, 111, 3)\n",
      "(138, 109, 3)\n"
     ]
    },
    {
     "name": "stderr",
     "output_type": "stream",
     "text": [
      " 29%|██▊       | 2123/7439 [01:46<04:06, 21.60it/s]"
     ]
    },
    {
     "name": "stdout",
     "output_type": "stream",
     "text": [
      "(144, 113, 3)\n",
      "(134, 107, 3)\n",
      "(136, 109, 3)\n",
      "(127, 99, 3)\n",
      "(123, 97, 3)\n"
     ]
    },
    {
     "name": "stderr",
     "output_type": "stream",
     "text": [
      " 29%|██▊       | 2129/7439 [01:47<04:08, 21.40it/s]"
     ]
    },
    {
     "name": "stdout",
     "output_type": "stream",
     "text": [
      "(128, 101, 3)\n",
      "(129, 104, 3)\n",
      "(124, 101, 3)\n",
      "(129, 101, 3)\n",
      "(144, 114, 3)\n"
     ]
    },
    {
     "name": "stderr",
     "output_type": "stream",
     "text": [
      " 29%|██▊       | 2132/7439 [01:47<04:07, 21.42it/s]"
     ]
    },
    {
     "name": "stdout",
     "output_type": "stream",
     "text": [
      "(137, 106, 3)\n",
      "(132, 104, 3)\n",
      "(126, 100, 3)\n",
      "(132, 102, 3)\n",
      "(128, 104, 3)\n"
     ]
    },
    {
     "name": "stderr",
     "output_type": "stream",
     "text": [
      " 29%|██▊       | 2138/7439 [01:47<04:09, 21.24it/s]"
     ]
    },
    {
     "name": "stdout",
     "output_type": "stream",
     "text": [
      "(131, 104, 3)\n",
      "(141, 110, 3)\n",
      "(126, 102, 3)\n",
      "(130, 106, 3)\n",
      "(122, 98, 3)\n"
     ]
    },
    {
     "name": "stderr",
     "output_type": "stream",
     "text": [
      " 29%|██▉       | 2144/7439 [01:47<04:09, 21.25it/s]"
     ]
    },
    {
     "name": "stdout",
     "output_type": "stream",
     "text": [
      "(125, 103, 3)\n",
      "(132, 107, 3)\n",
      "(147, 111, 3)\n",
      "(132, 104, 3)\n",
      "(132, 109, 3)\n"
     ]
    },
    {
     "name": "stderr",
     "output_type": "stream",
     "text": [
      " 29%|██▉       | 2147/7439 [01:48<04:10, 21.12it/s]"
     ]
    },
    {
     "name": "stdout",
     "output_type": "stream",
     "text": [
      "(131, 107, 3)\n",
      "(136, 109, 3)\n",
      "(136, 108, 3)\n",
      "(128, 108, 3)\n",
      "(130, 106, 3)\n"
     ]
    },
    {
     "name": "stderr",
     "output_type": "stream",
     "text": [
      " 29%|██▉       | 2153/7439 [01:48<04:09, 21.17it/s]"
     ]
    },
    {
     "name": "stdout",
     "output_type": "stream",
     "text": [
      "(131, 107, 3)\n",
      "(138, 111, 3)\n",
      "(127, 104, 3)\n",
      "(130, 104, 3)\n",
      "(136, 108, 3)\n"
     ]
    },
    {
     "name": "stderr",
     "output_type": "stream",
     "text": [
      " 29%|██▉       | 2159/7439 [01:48<04:09, 21.16it/s]"
     ]
    },
    {
     "name": "stdout",
     "output_type": "stream",
     "text": [
      "(133, 105, 3)\n",
      "(137, 111, 3)\n",
      "(135, 107, 3)\n",
      "(137, 108, 3)\n",
      "(136, 109, 3)\n"
     ]
    },
    {
     "name": "stderr",
     "output_type": "stream",
     "text": [
      " 29%|██▉       | 2162/7439 [01:48<04:03, 21.68it/s]"
     ]
    },
    {
     "name": "stdout",
     "output_type": "stream",
     "text": [
      "(124, 103, 3)\n",
      "(121, 99, 3)\n",
      "(127, 105, 3)\n",
      "(132, 106, 3)\n",
      "(124, 105, 3)\n"
     ]
    },
    {
     "name": "stderr",
     "output_type": "stream",
     "text": [
      " 29%|██▉       | 2168/7439 [01:49<04:01, 21.83it/s]"
     ]
    },
    {
     "name": "stdout",
     "output_type": "stream",
     "text": [
      "(125, 105, 3)\n",
      "(137, 108, 3)\n",
      "(128, 101, 3)\n",
      "(136, 107, 3)\n",
      "(136, 107, 3)\n"
     ]
    },
    {
     "name": "stderr",
     "output_type": "stream",
     "text": [
      " 29%|██▉       | 2174/7439 [01:49<04:08, 21.16it/s]"
     ]
    },
    {
     "name": "stdout",
     "output_type": "stream",
     "text": [
      "(130, 103, 3)\n",
      "(131, 103, 3)\n",
      "(125, 104, 3)\n",
      "(127, 101, 3)\n",
      "(127, 108, 3)\n"
     ]
    },
    {
     "name": "stderr",
     "output_type": "stream",
     "text": [
      " 29%|██▉       | 2177/7439 [01:49<04:09, 21.07it/s]"
     ]
    },
    {
     "name": "stdout",
     "output_type": "stream",
     "text": [
      "(136, 105, 3)\n",
      "(125, 103, 3)\n",
      "(133, 107, 3)\n",
      "(129, 106, 3)\n"
     ]
    },
    {
     "name": "stderr",
     "output_type": "stream",
     "text": [
      " 29%|██▉       | 2180/7439 [01:49<04:22, 20.04it/s]"
     ]
    },
    {
     "name": "stdout",
     "output_type": "stream",
     "text": [
      "(133, 107, 3)\n",
      "(135, 105, 3)\n",
      "(124, 100, 3)\n",
      "(124, 100, 3)\n"
     ]
    },
    {
     "name": "stderr",
     "output_type": "stream",
     "text": [
      " 29%|██▉       | 2186/7439 [01:49<04:24, 19.88it/s]"
     ]
    },
    {
     "name": "stdout",
     "output_type": "stream",
     "text": [
      "(133, 109, 3)\n",
      "(135, 110, 3)\n",
      "(130, 102, 3)\n",
      "(133, 107, 3)\n",
      "(140, 114, 3)\n"
     ]
    },
    {
     "name": "stderr",
     "output_type": "stream",
     "text": [
      " 29%|██▉       | 2189/7439 [01:50<04:18, 20.35it/s]"
     ]
    },
    {
     "name": "stdout",
     "output_type": "stream",
     "text": [
      "(138, 111, 3)\n",
      "(143, 115, 3)\n",
      "(138, 111, 3)\n",
      "(132, 104, 3)\n"
     ]
    },
    {
     "name": "stderr",
     "output_type": "stream",
     "text": [
      " 30%|██▉       | 2195/7439 [01:50<04:18, 20.27it/s]"
     ]
    },
    {
     "name": "stdout",
     "output_type": "stream",
     "text": [
      "(134, 108, 3)\n",
      "(142, 113, 3)\n",
      "(135, 108, 3)\n",
      "(135, 107, 3)\n",
      "(108, 89, 3)\n"
     ]
    },
    {
     "name": "stderr",
     "output_type": "stream",
     "text": [
      " 30%|██▉       | 2201/7439 [01:50<04:10, 20.92it/s]"
     ]
    },
    {
     "name": "stdout",
     "output_type": "stream",
     "text": [
      "(96, 81, 3)\n",
      "(116, 89, 3)\n",
      "(113, 91, 3)\n",
      "(112, 91, 3)\n",
      "(118, 92, 3)\n"
     ]
    },
    {
     "name": "stderr",
     "output_type": "stream",
     "text": [
      " 30%|██▉       | 2204/7439 [01:50<04:02, 21.58it/s]"
     ]
    },
    {
     "name": "stdout",
     "output_type": "stream",
     "text": [
      "(116, 94, 3)\n",
      "(113, 92, 3)\n",
      "(106, 90, 3)\n",
      "(100, 85, 3)\n",
      "(100, 84, 3)\n"
     ]
    },
    {
     "name": "stderr",
     "output_type": "stream",
     "text": [
      " 30%|██▉       | 2210/7439 [01:51<03:57, 22.01it/s]"
     ]
    },
    {
     "name": "stdout",
     "output_type": "stream",
     "text": [
      "(100, 82, 3)\n",
      "(109, 89, 3)\n",
      "(101, 85, 3)\n",
      "(102, 86, 3)\n",
      "(114, 92, 3)\n"
     ]
    },
    {
     "name": "stderr",
     "output_type": "stream",
     "text": [
      " 30%|██▉       | 2216/7439 [01:51<03:55, 22.15it/s]"
     ]
    },
    {
     "name": "stdout",
     "output_type": "stream",
     "text": [
      "(109, 91, 3)\n",
      "(118, 91, 3)\n",
      "(101, 86, 3)\n",
      "(113, 93, 3)\n",
      "(104, 86, 3)\n"
     ]
    },
    {
     "name": "stderr",
     "output_type": "stream",
     "text": [
      " 30%|██▉       | 2219/7439 [01:51<03:57, 21.98it/s]"
     ]
    },
    {
     "name": "stdout",
     "output_type": "stream",
     "text": [
      "(109, 88, 3)\n",
      "(111, 91, 3)\n",
      "(118, 91, 3)\n",
      "(107, 86, 3)\n",
      "(110, 91, 3)\n"
     ]
    },
    {
     "name": "stderr",
     "output_type": "stream",
     "text": [
      " 30%|██▉       | 2225/7439 [01:51<04:04, 21.29it/s]"
     ]
    },
    {
     "name": "stdout",
     "output_type": "stream",
     "text": [
      "(109, 91, 3)\n",
      "(114, 91, 3)\n",
      "(107, 87, 3)\n",
      "(97, 83, 3)\n",
      "(103, 87, 3)\n"
     ]
    },
    {
     "name": "stderr",
     "output_type": "stream",
     "text": [
      " 30%|██▉       | 2228/7439 [01:51<04:09, 20.86it/s]"
     ]
    },
    {
     "name": "stdout",
     "output_type": "stream",
     "text": [
      "(111, 91, 3)\n",
      "(100, 86, 3)\n",
      "(110, 91, 3)\n",
      "(111, 91, 3)\n"
     ]
    },
    {
     "name": "stderr",
     "output_type": "stream",
     "text": [
      " 30%|███       | 2234/7439 [01:52<04:15, 20.40it/s]"
     ]
    },
    {
     "name": "stdout",
     "output_type": "stream",
     "text": [
      "(99, 85, 3)\n",
      "(101, 85, 3)\n",
      "(111, 92, 3)\n",
      "(102, 86, 3)\n"
     ]
    },
    {
     "name": "stderr",
     "output_type": "stream",
     "text": [
      " 30%|███       | 2237/7439 [01:52<04:20, 19.99it/s]"
     ]
    },
    {
     "name": "stdout",
     "output_type": "stream",
     "text": [
      "(98, 83, 3)\n",
      "(110, 89, 3)\n",
      "(100, 85, 3)\n",
      "(110, 88, 3)\n",
      "(109, 90, 3)\n"
     ]
    },
    {
     "name": "stderr",
     "output_type": "stream",
     "text": [
      " 30%|███       | 2243/7439 [01:52<04:16, 20.27it/s]"
     ]
    },
    {
     "name": "stdout",
     "output_type": "stream",
     "text": [
      "(105, 88, 3)\n",
      "(108, 87, 3)\n",
      "(100, 87, 3)\n",
      "(102, 85, 3)\n",
      "(105, 87, 3)\n"
     ]
    },
    {
     "name": "stderr",
     "output_type": "stream",
     "text": [
      " 30%|███       | 2246/7439 [01:52<04:12, 20.54it/s]"
     ]
    },
    {
     "name": "stdout",
     "output_type": "stream",
     "text": [
      "(112, 92, 3)\n",
      "(97, 84, 3)\n",
      "(100, 83, 3)\n",
      "(110, 90, 3)\n"
     ]
    },
    {
     "name": "stderr",
     "output_type": "stream",
     "text": [
      " 30%|███       | 2252/7439 [01:53<04:19, 20.00it/s]"
     ]
    },
    {
     "name": "stdout",
     "output_type": "stream",
     "text": [
      "(104, 86, 3)\n",
      "(106, 86, 3)\n",
      "(105, 87, 3)\n",
      "(107, 89, 3)\n"
     ]
    },
    {
     "name": "stderr",
     "output_type": "stream",
     "text": [
      " 30%|███       | 2255/7439 [01:53<04:23, 19.69it/s]"
     ]
    },
    {
     "name": "stdout",
     "output_type": "stream",
     "text": [
      "(114, 90, 3)\n",
      "(115, 91, 3)\n",
      "(101, 85, 3)\n",
      "(104, 89, 3)\n",
      "(104, 88, 3)\n"
     ]
    },
    {
     "name": "stderr",
     "output_type": "stream",
     "text": [
      " 30%|███       | 2261/7439 [01:53<04:23, 19.68it/s]"
     ]
    },
    {
     "name": "stdout",
     "output_type": "stream",
     "text": [
      "(106, 89, 3)\n",
      "(104, 87, 3)\n",
      "(108, 91, 3)\n",
      "(106, 88, 3)\n"
     ]
    },
    {
     "name": "stderr",
     "output_type": "stream",
     "text": [
      " 30%|███       | 2265/7439 [01:53<04:28, 19.27it/s]"
     ]
    },
    {
     "name": "stdout",
     "output_type": "stream",
     "text": [
      "(114, 90, 3)\n",
      "(107, 89, 3)\n",
      "(105, 86, 3)\n",
      "(107, 87, 3)\n",
      "(101, 84, 3)\n"
     ]
    },
    {
     "name": "stderr",
     "output_type": "stream",
     "text": [
      " 31%|███       | 2271/7439 [01:54<04:13, 20.41it/s]"
     ]
    },
    {
     "name": "stdout",
     "output_type": "stream",
     "text": [
      "(97, 82, 3)\n",
      "(99, 84, 3)\n",
      "(110, 92, 3)\n",
      "(96, 83, 3)\n",
      "(99, 82, 3)\n"
     ]
    },
    {
     "name": "stderr",
     "output_type": "stream",
     "text": [
      " 31%|███       | 2274/7439 [01:54<04:14, 20.32it/s]"
     ]
    },
    {
     "name": "stdout",
     "output_type": "stream",
     "text": [
      "(106, 89, 3)\n",
      "(97, 83, 3)\n",
      "(109, 88, 3)\n",
      "(116, 94, 3)\n",
      "(114, 94, 3)\n"
     ]
    },
    {
     "name": "stderr",
     "output_type": "stream",
     "text": [
      " 31%|███       | 2280/7439 [01:54<04:04, 21.08it/s]"
     ]
    },
    {
     "name": "stdout",
     "output_type": "stream",
     "text": [
      "(110, 88, 3)\n",
      "(131, 108, 3)\n",
      "(118, 100, 3)\n",
      "(122, 103, 3)\n",
      "(118, 96, 3)\n"
     ]
    },
    {
     "name": "stderr",
     "output_type": "stream",
     "text": [
      " 31%|███       | 2286/7439 [01:54<03:51, 22.28it/s]"
     ]
    },
    {
     "name": "stdout",
     "output_type": "stream",
     "text": [
      "(121, 99, 3)\n",
      "(120, 101, 3)\n",
      "(121, 101, 3)\n",
      "(125, 105, 3)\n",
      "(130, 105, 3)\n"
     ]
    },
    {
     "name": "stderr",
     "output_type": "stream",
     "text": [
      " 31%|███       | 2289/7439 [01:54<03:48, 22.52it/s]"
     ]
    },
    {
     "name": "stdout",
     "output_type": "stream",
     "text": [
      "(120, 98, 3)\n",
      "(117, 98, 3)\n",
      "(114, 95, 3)\n",
      "(122, 98, 3)\n",
      "(118, 99, 3)\n"
     ]
    },
    {
     "name": "stderr",
     "output_type": "stream",
     "text": [
      " 31%|███       | 2295/7439 [01:55<03:39, 23.39it/s]"
     ]
    },
    {
     "name": "stdout",
     "output_type": "stream",
     "text": [
      "(119, 99, 3)\n",
      "(124, 105, 3)\n",
      "(121, 101, 3)\n",
      "(118, 100, 3)\n",
      "(121, 103, 3)\n"
     ]
    },
    {
     "name": "stderr",
     "output_type": "stream",
     "text": [
      " 31%|███       | 2301/7439 [01:55<03:46, 22.71it/s]"
     ]
    },
    {
     "name": "stdout",
     "output_type": "stream",
     "text": [
      "(118, 100, 3)\n",
      "(121, 100, 3)\n",
      "(117, 99, 3)\n",
      "(119, 99, 3)\n",
      "(116, 97, 3)\n"
     ]
    },
    {
     "name": "stderr",
     "output_type": "stream",
     "text": [
      " 31%|███       | 2304/7439 [01:55<03:44, 22.85it/s]"
     ]
    },
    {
     "name": "stdout",
     "output_type": "stream",
     "text": [
      "(120, 100, 3)\n",
      "(123, 103, 3)\n",
      "(120, 101, 3)\n",
      "(121, 101, 3)\n",
      "(120, 102, 3)\n"
     ]
    },
    {
     "name": "stderr",
     "output_type": "stream",
     "text": [
      " 31%|███       | 2310/7439 [01:55<03:48, 22.42it/s]"
     ]
    },
    {
     "name": "stdout",
     "output_type": "stream",
     "text": [
      "(122, 98, 3)\n",
      "(127, 101, 3)\n",
      "(118, 101, 3)\n",
      "(125, 102, 3)\n",
      "(120, 100, 3)\n"
     ]
    },
    {
     "name": "stderr",
     "output_type": "stream",
     "text": [
      " 31%|███       | 2316/7439 [01:56<03:54, 21.87it/s]"
     ]
    },
    {
     "name": "stdout",
     "output_type": "stream",
     "text": [
      "(122, 103, 3)\n",
      "(122, 100, 3)\n",
      "(127, 106, 3)\n",
      "(131, 110, 3)\n",
      "(128, 107, 3)\n"
     ]
    },
    {
     "name": "stderr",
     "output_type": "stream",
     "text": [
      " 31%|███       | 2319/7439 [01:56<03:57, 21.56it/s]"
     ]
    },
    {
     "name": "stdout",
     "output_type": "stream",
     "text": [
      "(122, 101, 3)\n",
      "(123, 101, 3)\n",
      "(118, 98, 3)\n",
      "(124, 103, 3)\n",
      "(110, 96, 3)\n"
     ]
    },
    {
     "name": "stderr",
     "output_type": "stream",
     "text": [
      " 31%|███▏      | 2325/7439 [01:56<03:54, 21.85it/s]"
     ]
    },
    {
     "name": "stdout",
     "output_type": "stream",
     "text": [
      "(120, 101, 3)\n",
      "(121, 101, 3)\n",
      "(116, 95, 3)\n",
      "(118, 101, 3)\n",
      "(123, 102, 3)\n"
     ]
    },
    {
     "name": "stderr",
     "output_type": "stream",
     "text": [
      " 31%|███▏      | 2331/7439 [01:56<03:56, 21.64it/s]"
     ]
    },
    {
     "name": "stdout",
     "output_type": "stream",
     "text": [
      "(122, 103, 3)\n",
      "(121, 99, 3)\n",
      "(121, 100, 3)\n",
      "(122, 101, 3)\n",
      "(123, 101, 3)\n"
     ]
    },
    {
     "name": "stderr",
     "output_type": "stream",
     "text": [
      " 31%|███▏      | 2334/7439 [01:56<04:03, 20.94it/s]"
     ]
    },
    {
     "name": "stdout",
     "output_type": "stream",
     "text": [
      "(129, 106, 3)\n",
      "(118, 100, 3)\n",
      "(120, 100, 3)\n",
      "(116, 99, 3)\n"
     ]
    },
    {
     "name": "stderr",
     "output_type": "stream",
     "text": [
      " 31%|███▏      | 2340/7439 [01:57<04:11, 20.26it/s]"
     ]
    },
    {
     "name": "stdout",
     "output_type": "stream",
     "text": [
      "(129, 104, 3)\n",
      "(124, 104, 3)\n",
      "(124, 103, 3)\n",
      "(116, 98, 3)\n",
      "(122, 104, 3)\n"
     ]
    },
    {
     "name": "stderr",
     "output_type": "stream",
     "text": [
      " 31%|███▏      | 2343/7439 [01:57<04:13, 20.13it/s]"
     ]
    },
    {
     "name": "stdout",
     "output_type": "stream",
     "text": [
      "(120, 101, 3)\n",
      "(132, 107, 3)\n",
      "(120, 99, 3)\n",
      "(125, 103, 3)\n",
      "(115, 99, 3)\n"
     ]
    },
    {
     "name": "stderr",
     "output_type": "stream",
     "text": [
      " 32%|███▏      | 2349/7439 [01:57<04:13, 20.10it/s]"
     ]
    },
    {
     "name": "stdout",
     "output_type": "stream",
     "text": [
      "(121, 100, 3)\n",
      "(121, 101, 3)\n",
      "(127, 106, 3)\n",
      "(116, 97, 3)\n",
      "(126, 107, 3)\n"
     ]
    },
    {
     "name": "stderr",
     "output_type": "stream",
     "text": [
      " 32%|███▏      | 2355/7439 [01:57<03:53, 21.79it/s]"
     ]
    },
    {
     "name": "stdout",
     "output_type": "stream",
     "text": [
      "(123, 104, 3)\n",
      "(120, 102, 3)\n",
      "(120, 102, 3)\n",
      "(128, 106, 3)\n",
      "(130, 106, 3)\n"
     ]
    },
    {
     "name": "stderr",
     "output_type": "stream",
     "text": [
      " 32%|███▏      | 2358/7439 [01:58<03:58, 21.26it/s]"
     ]
    },
    {
     "name": "stdout",
     "output_type": "stream",
     "text": [
      "(124, 104, 3)\n",
      "(125, 106, 3)\n",
      "(121, 100, 3)\n",
      "(130, 107, 3)\n"
     ]
    },
    {
     "name": "stderr",
     "output_type": "stream",
     "text": [
      " 32%|███▏      | 2361/7439 [01:58<04:06, 20.56it/s]"
     ]
    },
    {
     "name": "stdout",
     "output_type": "stream",
     "text": [
      "(129, 106, 3)\n",
      "(122, 99, 3)\n",
      "(117, 98, 3)\n",
      "(123, 101, 3)\n"
     ]
    },
    {
     "name": "stderr",
     "output_type": "stream",
     "text": [
      " 32%|███▏      | 2367/7439 [01:58<04:09, 20.32it/s]"
     ]
    },
    {
     "name": "stdout",
     "output_type": "stream",
     "text": [
      "(122, 100, 3)\n",
      "(129, 102, 3)\n",
      "(140, 109, 3)\n",
      "(115, 95, 3)\n",
      "(129, 102, 3)\n"
     ]
    },
    {
     "name": "stderr",
     "output_type": "stream",
     "text": [
      " 32%|███▏      | 2373/7439 [01:58<03:56, 21.46it/s]"
     ]
    },
    {
     "name": "stdout",
     "output_type": "stream",
     "text": [
      "(120, 94, 3)\n",
      "(115, 93, 3)\n",
      "(113, 94, 3)\n",
      "(129, 102, 3)\n",
      "(118, 96, 3)\n"
     ]
    },
    {
     "name": "stderr",
     "output_type": "stream",
     "text": [
      " 32%|███▏      | 2376/7439 [01:58<03:48, 22.13it/s]"
     ]
    },
    {
     "name": "stdout",
     "output_type": "stream",
     "text": [
      "(118, 96, 3)\n",
      "(132, 103, 3)\n",
      "(119, 95, 3)\n",
      "(122, 101, 3)\n",
      "(119, 97, 3)\n"
     ]
    },
    {
     "name": "stderr",
     "output_type": "stream",
     "text": [
      " 32%|███▏      | 2382/7439 [01:59<03:55, 21.48it/s]"
     ]
    },
    {
     "name": "stdout",
     "output_type": "stream",
     "text": [
      "(118, 95, 3)\n",
      "(124, 96, 3)\n",
      "(117, 98, 3)\n",
      "(117, 94, 3)\n",
      "(116, 95, 3)\n"
     ]
    },
    {
     "name": "stderr",
     "output_type": "stream",
     "text": [
      " 32%|███▏      | 2385/7439 [01:59<03:55, 21.46it/s]"
     ]
    },
    {
     "name": "stdout",
     "output_type": "stream",
     "text": [
      "(115, 94, 3)\n",
      "(115, 97, 3)\n",
      "(117, 97, 3)\n",
      "(119, 97, 3)\n"
     ]
    },
    {
     "name": "stderr",
     "output_type": "stream",
     "text": [
      " 32%|███▏      | 2391/7439 [01:59<04:09, 20.25it/s]"
     ]
    },
    {
     "name": "stdout",
     "output_type": "stream",
     "text": [
      "(126, 103, 3)\n",
      "(125, 98, 3)\n",
      "(115, 95, 3)\n",
      "(126, 100, 3)\n",
      "(118, 98, 3)\n"
     ]
    },
    {
     "name": "stderr",
     "output_type": "stream",
     "text": [
      " 32%|███▏      | 2397/7439 [01:59<04:11, 20.09it/s]"
     ]
    },
    {
     "name": "stdout",
     "output_type": "stream",
     "text": [
      "(125, 101, 3)\n",
      "(124, 102, 3)\n",
      "(119, 95, 3)\n",
      "(118, 97, 3)\n",
      "(123, 104, 3)\n"
     ]
    },
    {
     "name": "stderr",
     "output_type": "stream",
     "text": [
      " 32%|███▏      | 2400/7439 [02:00<04:11, 20.04it/s]"
     ]
    },
    {
     "name": "stdout",
     "output_type": "stream",
     "text": [
      "(110, 92, 3)\n",
      "(114, 93, 3)\n",
      "(117, 97, 3)\n",
      "(118, 96, 3)\n"
     ]
    },
    {
     "name": "stderr",
     "output_type": "stream",
     "text": [
      " 32%|███▏      | 2405/7439 [02:00<04:17, 19.52it/s]"
     ]
    },
    {
     "name": "stdout",
     "output_type": "stream",
     "text": [
      "(116, 94, 3)\n",
      "(125, 103, 3)\n",
      "(120, 100, 3)\n",
      "(121, 100, 3)\n"
     ]
    },
    {
     "name": "stderr",
     "output_type": "stream",
     "text": [
      " 32%|███▏      | 2410/7439 [02:00<04:09, 20.14it/s]"
     ]
    },
    {
     "name": "stdout",
     "output_type": "stream",
     "text": [
      "(113, 93, 3)\n",
      "(126, 99, 3)\n",
      "(113, 93, 3)\n",
      "(121, 98, 3)\n",
      "(119, 97, 3)\n"
     ]
    },
    {
     "name": "stderr",
     "output_type": "stream",
     "text": [
      " 32%|███▏      | 2413/7439 [02:00<04:19, 19.33it/s]"
     ]
    },
    {
     "name": "stdout",
     "output_type": "stream",
     "text": [
      "(117, 94, 3)\n",
      "(122, 100, 3)\n",
      "(119, 97, 3)\n",
      "(120, 95, 3)\n"
     ]
    },
    {
     "name": "stderr",
     "output_type": "stream",
     "text": [
      " 32%|███▏      | 2417/7439 [02:00<04:20, 19.26it/s]"
     ]
    },
    {
     "name": "stdout",
     "output_type": "stream",
     "text": [
      "(120, 101, 3)\n",
      "(120, 97, 3)\n",
      "(119, 98, 3)\n",
      "(122, 96, 3)\n"
     ]
    },
    {
     "name": "stderr",
     "output_type": "stream",
     "text": [
      " 33%|███▎      | 2422/7439 [02:01<04:17, 19.45it/s]"
     ]
    },
    {
     "name": "stdout",
     "output_type": "stream",
     "text": [
      "(118, 94, 3)\n",
      "(129, 104, 3)\n",
      "(129, 103, 3)\n",
      "(119, 97, 3)\n"
     ]
    },
    {
     "name": "stderr",
     "output_type": "stream",
     "text": [
      " 33%|███▎      | 2426/7439 [02:01<04:25, 18.91it/s]"
     ]
    },
    {
     "name": "stdout",
     "output_type": "stream",
     "text": [
      "(116, 95, 3)\n",
      "(125, 102, 3)\n",
      "(127, 101, 3)\n",
      "(116, 93, 3)\n"
     ]
    },
    {
     "name": "stderr",
     "output_type": "stream",
     "text": [
      " 33%|███▎      | 2430/7439 [02:01<04:18, 19.36it/s]"
     ]
    },
    {
     "name": "stdout",
     "output_type": "stream",
     "text": [
      "(118, 100, 3)\n",
      "(113, 95, 3)\n",
      "(120, 100, 3)\n",
      "(121, 97, 3)\n",
      "(121, 97, 3)\n"
     ]
    },
    {
     "name": "stderr",
     "output_type": "stream",
     "text": [
      " 33%|███▎      | 2436/7439 [02:01<04:05, 20.36it/s]"
     ]
    },
    {
     "name": "stdout",
     "output_type": "stream",
     "text": [
      "(117, 96, 3)\n",
      "(127, 102, 3)\n",
      "(116, 97, 3)\n",
      "(116, 96, 3)\n",
      "(124, 99, 3)\n"
     ]
    },
    {
     "name": "stderr",
     "output_type": "stream",
     "text": [
      " 33%|███▎      | 2439/7439 [02:02<04:09, 20.05it/s]"
     ]
    },
    {
     "name": "stdout",
     "output_type": "stream",
     "text": [
      "(124, 98, 3)\n",
      "(126, 100, 3)\n",
      "(124, 102, 3)\n",
      "(116, 95, 3)\n",
      "(118, 98, 3)\n"
     ]
    },
    {
     "name": "stderr",
     "output_type": "stream",
     "text": [
      " 33%|███▎      | 2445/7439 [02:02<03:59, 20.89it/s]"
     ]
    },
    {
     "name": "stdout",
     "output_type": "stream",
     "text": [
      "(129, 103, 3)\n",
      "(126, 103, 3)\n",
      "(121, 100, 3)\n",
      "(132, 105, 3)\n",
      "(124, 101, 3)\n"
     ]
    },
    {
     "name": "stderr",
     "output_type": "stream",
     "text": [
      " 33%|███▎      | 2451/7439 [02:02<03:54, 21.26it/s]"
     ]
    },
    {
     "name": "stdout",
     "output_type": "stream",
     "text": [
      "(129, 102, 3)\n",
      "(128, 102, 3)\n",
      "(129, 105, 3)\n",
      "(125, 102, 3)\n",
      "(125, 99, 3)\n"
     ]
    },
    {
     "name": "stderr",
     "output_type": "stream",
     "text": [
      " 33%|███▎      | 2454/7439 [02:02<03:54, 21.24it/s]"
     ]
    },
    {
     "name": "stdout",
     "output_type": "stream",
     "text": [
      "(122, 99, 3)\n",
      "(127, 102, 3)\n",
      "(133, 105, 3)\n",
      "(126, 102, 3)\n",
      "(127, 100, 3)\n"
     ]
    },
    {
     "name": "stderr",
     "output_type": "stream",
     "text": [
      " 33%|███▎      | 2460/7439 [02:03<03:46, 21.99it/s]"
     ]
    },
    {
     "name": "stdout",
     "output_type": "stream",
     "text": [
      "(129, 106, 3)\n",
      "(124, 101, 3)\n",
      "(122, 102, 3)\n",
      "(126, 100, 3)\n",
      "(123, 99, 3)\n"
     ]
    },
    {
     "name": "stderr",
     "output_type": "stream",
     "text": [
      " 33%|███▎      | 2466/7439 [02:03<03:51, 21.49it/s]"
     ]
    },
    {
     "name": "stdout",
     "output_type": "stream",
     "text": [
      "(119, 97, 3)\n",
      "(125, 104, 3)\n",
      "(128, 102, 3)\n",
      "(120, 97, 3)\n",
      "(127, 103, 3)\n"
     ]
    },
    {
     "name": "stderr",
     "output_type": "stream",
     "text": [
      " 33%|███▎      | 2469/7439 [02:03<03:52, 21.37it/s]"
     ]
    },
    {
     "name": "stdout",
     "output_type": "stream",
     "text": [
      "(132, 104, 3)\n",
      "(128, 103, 3)\n",
      "(120, 98, 3)\n",
      "(124, 101, 3)\n",
      "(130, 103, 3)\n"
     ]
    },
    {
     "name": "stderr",
     "output_type": "stream",
     "text": [
      " 33%|███▎      | 2475/7439 [02:03<04:06, 20.14it/s]"
     ]
    },
    {
     "name": "stdout",
     "output_type": "stream",
     "text": [
      "(128, 104, 3)\n",
      "(127, 102, 3)\n",
      "(124, 101, 3)\n",
      "(126, 102, 3)\n"
     ]
    },
    {
     "name": "stderr",
     "output_type": "stream",
     "text": [
      " 33%|███▎      | 2478/7439 [02:03<04:06, 20.12it/s]"
     ]
    },
    {
     "name": "stdout",
     "output_type": "stream",
     "text": [
      "(125, 102, 3)\n",
      "(122, 99, 3)\n",
      "(119, 96, 3)\n",
      "(124, 103, 3)\n",
      "(126, 101, 3)\n"
     ]
    },
    {
     "name": "stderr",
     "output_type": "stream",
     "text": [
      " 33%|███▎      | 2484/7439 [02:04<04:06, 20.08it/s]"
     ]
    },
    {
     "name": "stdout",
     "output_type": "stream",
     "text": [
      "(120, 97, 3)\n",
      "(128, 102, 3)\n",
      "(121, 99, 3)\n",
      "(120, 97, 3)\n"
     ]
    },
    {
     "name": "stderr",
     "output_type": "stream",
     "text": [
      " 33%|███▎      | 2487/7439 [02:04<04:05, 20.20it/s]"
     ]
    },
    {
     "name": "stdout",
     "output_type": "stream",
     "text": [
      "(130, 103, 3)\n",
      "(129, 102, 3)\n",
      "(123, 99, 3)\n",
      "(119, 99, 3)\n",
      "(126, 100, 3)\n"
     ]
    },
    {
     "name": "stderr",
     "output_type": "stream",
     "text": [
      " 34%|███▎      | 2493/7439 [02:04<03:59, 20.69it/s]"
     ]
    },
    {
     "name": "stdout",
     "output_type": "stream",
     "text": [
      "(121, 99, 3)\n",
      "(123, 101, 3)\n",
      "(122, 97, 3)\n",
      "(124, 100, 3)\n",
      "(122, 101, 3)\n"
     ]
    },
    {
     "name": "stderr",
     "output_type": "stream",
     "text": [
      " 34%|███▎      | 2499/7439 [02:04<04:03, 20.32it/s]"
     ]
    },
    {
     "name": "stdout",
     "output_type": "stream",
     "text": [
      "(126, 99, 3)\n",
      "(123, 100, 3)\n",
      "(131, 106, 3)\n",
      "(123, 101, 3)\n",
      "(126, 103, 3)\n"
     ]
    },
    {
     "name": "stderr",
     "output_type": "stream",
     "text": [
      " 34%|███▎      | 2502/7439 [02:05<04:04, 20.23it/s]"
     ]
    },
    {
     "name": "stdout",
     "output_type": "stream",
     "text": [
      "(125, 102, 3)\n",
      "(120, 100, 3)\n",
      "(124, 99, 3)\n",
      "(125, 100, 3)\n",
      "(128, 102, 3)\n"
     ]
    },
    {
     "name": "stderr",
     "output_type": "stream",
     "text": [
      " 34%|███▎      | 2508/7439 [02:05<04:11, 19.61it/s]"
     ]
    },
    {
     "name": "stdout",
     "output_type": "stream",
     "text": [
      "(125, 101, 3)\n",
      "(130, 105, 3)\n",
      "(124, 99, 3)\n",
      "(126, 104, 3)\n"
     ]
    },
    {
     "name": "stderr",
     "output_type": "stream",
     "text": [
      " 34%|███▍      | 2512/7439 [02:05<04:13, 19.44it/s]"
     ]
    },
    {
     "name": "stdout",
     "output_type": "stream",
     "text": [
      "(127, 102, 3)\n",
      "(125, 100, 3)\n",
      "(121, 100, 3)\n",
      "(130, 105, 3)\n"
     ]
    },
    {
     "name": "stderr",
     "output_type": "stream",
     "text": [
      " 34%|███▍      | 2515/7439 [02:05<04:07, 19.92it/s]"
     ]
    },
    {
     "name": "stdout",
     "output_type": "stream",
     "text": [
      "(122, 99, 3)\n",
      "(124, 101, 3)\n",
      "(124, 101, 3)\n",
      "(123, 100, 3)\n",
      "(123, 101, 3)\n"
     ]
    },
    {
     "name": "stderr",
     "output_type": "stream",
     "text": [
      " 34%|███▍      | 2520/7439 [02:06<04:06, 19.94it/s]"
     ]
    },
    {
     "name": "stdout",
     "output_type": "stream",
     "text": [
      "(127, 100, 3)\n",
      "(120, 96, 3)\n",
      "(121, 98, 3)\n",
      "(123, 100, 3)\n",
      "(126, 101, 3)\n"
     ]
    },
    {
     "name": "stderr",
     "output_type": "stream",
     "text": [
      " 34%|███▍      | 2526/7439 [02:06<04:00, 20.45it/s]"
     ]
    },
    {
     "name": "stdout",
     "output_type": "stream",
     "text": [
      "(125, 100, 3)\n",
      "(137, 112, 3)\n",
      "(135, 112, 3)\n",
      "(135, 110, 3)\n",
      "(145, 117, 3)\n"
     ]
    },
    {
     "name": "stderr",
     "output_type": "stream",
     "text": [
      " 34%|███▍      | 2532/7439 [02:06<03:57, 20.70it/s]"
     ]
    },
    {
     "name": "stdout",
     "output_type": "stream",
     "text": [
      "(148, 117, 3)\n",
      "(152, 119, 3)\n",
      "(151, 121, 3)\n",
      "(150, 120, 3)\n",
      "(143, 114, 3)\n"
     ]
    },
    {
     "name": "stderr",
     "output_type": "stream",
     "text": [
      " 34%|███▍      | 2535/7439 [02:06<03:57, 20.68it/s]"
     ]
    },
    {
     "name": "stdout",
     "output_type": "stream",
     "text": [
      "(142, 114, 3)\n",
      "(146, 116, 3)\n",
      "(140, 116, 3)\n",
      "(145, 118, 3)\n",
      "(143, 117, 3)\n"
     ]
    },
    {
     "name": "stderr",
     "output_type": "stream",
     "text": [
      " 34%|███▍      | 2541/7439 [02:07<03:45, 21.76it/s]"
     ]
    },
    {
     "name": "stdout",
     "output_type": "stream",
     "text": [
      "(140, 114, 3)\n",
      "(141, 115, 3)\n",
      "(147, 118, 3)\n",
      "(143, 120, 3)\n",
      "(137, 112, 3)\n"
     ]
    },
    {
     "name": "stderr",
     "output_type": "stream",
     "text": [
      " 34%|███▍      | 2547/7439 [02:07<03:44, 21.78it/s]"
     ]
    },
    {
     "name": "stdout",
     "output_type": "stream",
     "text": [
      "(140, 112, 3)\n",
      "(145, 117, 3)\n",
      "(141, 111, 3)\n",
      "(148, 118, 3)\n",
      "(144, 118, 3)\n"
     ]
    },
    {
     "name": "stderr",
     "output_type": "stream",
     "text": [
      " 34%|███▍      | 2550/7439 [02:07<03:46, 21.61it/s]"
     ]
    },
    {
     "name": "stdout",
     "output_type": "stream",
     "text": [
      "(141, 115, 3)\n",
      "(148, 118, 3)\n",
      "(143, 116, 3)\n",
      "(152, 118, 3)\n",
      "(144, 117, 3)\n"
     ]
    },
    {
     "name": "stderr",
     "output_type": "stream",
     "text": [
      " 34%|███▍      | 2556/7439 [02:07<03:55, 20.72it/s]"
     ]
    },
    {
     "name": "stdout",
     "output_type": "stream",
     "text": [
      "(132, 108, 3)\n",
      "(145, 116, 3)\n",
      "(145, 117, 3)\n",
      "(132, 110, 3)\n"
     ]
    },
    {
     "name": "stderr",
     "output_type": "stream",
     "text": [
      " 34%|███▍      | 2559/7439 [02:07<04:03, 20.07it/s]"
     ]
    },
    {
     "name": "stdout",
     "output_type": "stream",
     "text": [
      "(148, 119, 3)\n",
      "(157, 120, 3)\n",
      "(143, 116, 3)\n",
      "(142, 114, 3)\n"
     ]
    },
    {
     "name": "stderr",
     "output_type": "stream",
     "text": [
      " 34%|███▍      | 2564/7439 [02:08<04:05, 19.86it/s]"
     ]
    },
    {
     "name": "stdout",
     "output_type": "stream",
     "text": [
      "(145, 118, 3)\n",
      "(151, 118, 3)\n",
      "(149, 118, 3)\n",
      "(149, 119, 3)\n"
     ]
    },
    {
     "name": "stderr",
     "output_type": "stream",
     "text": [
      " 34%|███▍      | 2566/7439 [02:08<04:10, 19.48it/s]"
     ]
    },
    {
     "name": "stdout",
     "output_type": "stream",
     "text": [
      "(141, 114, 3)\n",
      "(146, 118, 3)\n",
      "(146, 118, 3)\n",
      "(151, 122, 3)\n",
      "(144, 115, 3)\n"
     ]
    },
    {
     "name": "stderr",
     "output_type": "stream",
     "text": [
      " 35%|███▍      | 2571/7439 [02:08<04:07, 19.66it/s]"
     ]
    },
    {
     "name": "stdout",
     "output_type": "stream",
     "text": [
      "(147, 116, 3)\n",
      "(137, 112, 3)\n",
      "(145, 118, 3)\n",
      "(150, 121, 3)\n",
      "(143, 115, 3)\n"
     ]
    },
    {
     "name": "stderr",
     "output_type": "stream",
     "text": [
      " 35%|███▍      | 2578/7439 [02:08<04:09, 19.46it/s]"
     ]
    },
    {
     "name": "stdout",
     "output_type": "stream",
     "text": [
      "(148, 116, 3)\n",
      "(138, 112, 3)\n",
      "(145, 117, 3)\n",
      "(140, 114, 3)\n"
     ]
    },
    {
     "name": "stderr",
     "output_type": "stream",
     "text": [
      " 35%|███▍      | 2581/7439 [02:09<04:06, 19.67it/s]"
     ]
    },
    {
     "name": "stdout",
     "output_type": "stream",
     "text": [
      "(139, 115, 3)\n",
      "(155, 121, 3)\n",
      "(142, 117, 3)\n",
      "(146, 118, 3)\n"
     ]
    },
    {
     "name": "stderr",
     "output_type": "stream",
     "text": [
      " 35%|███▍      | 2586/7439 [02:09<04:05, 19.73it/s]"
     ]
    },
    {
     "name": "stdout",
     "output_type": "stream",
     "text": [
      "(136, 112, 3)\n",
      "(138, 113, 3)\n",
      "(144, 116, 3)\n",
      "(144, 112, 3)\n",
      "(145, 116, 3)\n"
     ]
    },
    {
     "name": "stderr",
     "output_type": "stream",
     "text": [
      " 35%|███▍      | 2590/7439 [02:09<04:22, 18.51it/s]"
     ]
    },
    {
     "name": "stdout",
     "output_type": "stream",
     "text": [
      "(150, 119, 3)\n",
      "(135, 110, 3)\n",
      "(136, 110, 3)\n",
      "(139, 113, 3)\n"
     ]
    },
    {
     "name": "stderr",
     "output_type": "stream",
     "text": [
      " 35%|███▍      | 2594/7439 [02:09<04:25, 18.28it/s]"
     ]
    },
    {
     "name": "stdout",
     "output_type": "stream",
     "text": [
      "(150, 118, 3)\n",
      "(148, 115, 3)\n",
      "(144, 117, 3)\n",
      "(136, 112, 3)\n"
     ]
    },
    {
     "name": "stderr",
     "output_type": "stream",
     "text": [
      " 35%|███▍      | 2600/7439 [02:10<04:07, 19.57it/s]"
     ]
    },
    {
     "name": "stdout",
     "output_type": "stream",
     "text": [
      "(146, 113, 3)\n",
      "(148, 117, 3)\n",
      "(150, 119, 3)\n",
      "(143, 114, 3)\n",
      "(138, 111, 3)\n"
     ]
    },
    {
     "name": "stderr",
     "output_type": "stream",
     "text": [
      " 35%|███▌      | 2604/7439 [02:10<04:07, 19.55it/s]"
     ]
    },
    {
     "name": "stdout",
     "output_type": "stream",
     "text": [
      "(143, 116, 3)\n",
      "(142, 114, 3)\n",
      "(153, 120, 3)\n",
      "(155, 120, 3)\n"
     ]
    },
    {
     "name": "stderr",
     "output_type": "stream",
     "text": [
      " 35%|███▌      | 2607/7439 [02:10<03:59, 20.18it/s]"
     ]
    },
    {
     "name": "stdout",
     "output_type": "stream",
     "text": [
      "(146, 115, 3)\n",
      "(140, 113, 3)\n",
      "(130, 108, 3)\n",
      "(139, 111, 3)\n",
      "(146, 116, 3)\n"
     ]
    },
    {
     "name": "stderr",
     "output_type": "stream",
     "text": [
      " 35%|███▌      | 2613/7439 [02:10<03:49, 21.05it/s]"
     ]
    },
    {
     "name": "stdout",
     "output_type": "stream",
     "text": [
      "(145, 114, 3)\n",
      "(139, 112, 3)\n",
      "(140, 115, 3)\n",
      "(143, 112, 3)\n",
      "(139, 112, 3)\n"
     ]
    },
    {
     "name": "stderr",
     "output_type": "stream",
     "text": [
      " 35%|███▌      | 2619/7439 [02:10<03:43, 21.57it/s]"
     ]
    },
    {
     "name": "stdout",
     "output_type": "stream",
     "text": [
      "(135, 106, 3)\n",
      "(130, 105, 3)\n",
      "(130, 105, 3)\n",
      "(152, 116, 3)\n",
      "(137, 109, 3)\n"
     ]
    },
    {
     "name": "stderr",
     "output_type": "stream",
     "text": [
      " 35%|███▌      | 2622/7439 [02:11<03:41, 21.77it/s]"
     ]
    },
    {
     "name": "stdout",
     "output_type": "stream",
     "text": [
      "(136, 110, 3)\n",
      "(150, 114, 3)\n",
      "(136, 108, 3)\n",
      "(136, 108, 3)\n",
      "(131, 104, 3)\n"
     ]
    },
    {
     "name": "stderr",
     "output_type": "stream",
     "text": [
      " 35%|███▌      | 2628/7439 [02:11<03:39, 21.95it/s]"
     ]
    },
    {
     "name": "stdout",
     "output_type": "stream",
     "text": [
      "(133, 108, 3)\n",
      "(137, 106, 3)\n",
      "(139, 109, 3)\n",
      "(136, 109, 3)\n",
      "(131, 106, 3)\n"
     ]
    },
    {
     "name": "stderr",
     "output_type": "stream",
     "text": [
      " 35%|███▌      | 2634/7439 [02:11<03:40, 21.81it/s]"
     ]
    },
    {
     "name": "stdout",
     "output_type": "stream",
     "text": [
      "(136, 107, 3)\n",
      "(143, 114, 3)\n",
      "(142, 111, 3)\n",
      "(138, 112, 3)\n",
      "(152, 118, 3)\n"
     ]
    },
    {
     "name": "stderr",
     "output_type": "stream",
     "text": [
      " 35%|███▌      | 2637/7439 [02:11<03:41, 21.72it/s]"
     ]
    },
    {
     "name": "stdout",
     "output_type": "stream",
     "text": [
      "(135, 110, 3)\n",
      "(138, 109, 3)\n",
      "No face detected in 1033_ITH_HAP_XX.flv. Skipping.\n",
      "(142, 111, 3)\n",
      "(148, 116, 3)\n"
     ]
    },
    {
     "name": "stderr",
     "output_type": "stream",
     "text": [
      " 36%|███▌      | 2643/7439 [02:12<03:58, 20.09it/s]"
     ]
    },
    {
     "name": "stdout",
     "output_type": "stream",
     "text": [
      "(138, 113, 3)\n",
      "(128, 106, 3)\n",
      "(138, 114, 3)\n",
      "(133, 109, 3)\n"
     ]
    },
    {
     "name": "stderr",
     "output_type": "stream",
     "text": [
      " 36%|███▌      | 2646/7439 [02:12<03:59, 19.98it/s]"
     ]
    },
    {
     "name": "stdout",
     "output_type": "stream",
     "text": [
      "(141, 113, 3)\n",
      "(141, 115, 3)\n",
      "(138, 112, 3)\n",
      "(139, 113, 3)\n"
     ]
    },
    {
     "name": "stderr",
     "output_type": "stream",
     "text": [
      " 36%|███▌      | 2649/7439 [02:12<03:58, 20.05it/s]"
     ]
    },
    {
     "name": "stdout",
     "output_type": "stream",
     "text": [
      "(137, 109, 3)\n",
      "(141, 113, 3)\n",
      "(144, 114, 3)\n",
      "(144, 114, 3)\n",
      "(138, 113, 3)\n"
     ]
    },
    {
     "name": "stderr",
     "output_type": "stream",
     "text": [
      " 36%|███▌      | 2655/7439 [02:12<03:56, 20.23it/s]"
     ]
    },
    {
     "name": "stdout",
     "output_type": "stream",
     "text": [
      "(129, 105, 3)\n",
      "(132, 108, 3)\n",
      "(136, 112, 3)\n",
      "(137, 109, 3)\n",
      "(137, 111, 3)\n"
     ]
    },
    {
     "name": "stderr",
     "output_type": "stream",
     "text": [
      " 36%|███▌      | 2661/7439 [02:12<03:51, 20.63it/s]"
     ]
    },
    {
     "name": "stdout",
     "output_type": "stream",
     "text": [
      "(142, 112, 3)\n",
      "(135, 109, 3)\n",
      "(145, 114, 3)\n",
      "No face detected in 1033_MTI_HAP_XX.flv. Skipping.\n",
      "(140, 112, 3)\n"
     ]
    },
    {
     "name": "stderr",
     "output_type": "stream",
     "text": [
      " 36%|███▌      | 2667/7439 [02:13<03:51, 20.61it/s]"
     ]
    },
    {
     "name": "stdout",
     "output_type": "stream",
     "text": [
      "(142, 115, 3)\n",
      "(145, 114, 3)\n",
      "(132, 108, 3)\n",
      "(140, 111, 3)\n",
      "(142, 114, 3)\n"
     ]
    },
    {
     "name": "stderr",
     "output_type": "stream",
     "text": [
      " 36%|███▌      | 2670/7439 [02:13<03:48, 20.88it/s]"
     ]
    },
    {
     "name": "stdout",
     "output_type": "stream",
     "text": [
      "(140, 112, 3)\n",
      "(133, 108, 3)\n",
      "(147, 115, 3)\n",
      "(132, 107, 3)\n",
      "(145, 113, 3)\n"
     ]
    },
    {
     "name": "stderr",
     "output_type": "stream",
     "text": [
      " 36%|███▌      | 2676/7439 [02:13<03:50, 20.66it/s]"
     ]
    },
    {
     "name": "stdout",
     "output_type": "stream",
     "text": [
      "(141, 113, 3)\n",
      "(137, 112, 3)\n",
      "(151, 119, 3)\n",
      "(131, 108, 3)\n",
      "(131, 108, 3)\n"
     ]
    },
    {
     "name": "stderr",
     "output_type": "stream",
     "text": [
      " 36%|███▌      | 2682/7439 [02:13<03:43, 21.29it/s]"
     ]
    },
    {
     "name": "stdout",
     "output_type": "stream",
     "text": [
      "No face detected in 1033_TSI_FEA_XX.flv. Skipping.\n",
      "(137, 110, 3)\n",
      "(141, 113, 3)\n",
      "(139, 112, 3)\n",
      "(145, 113, 3)\n"
     ]
    },
    {
     "name": "stderr",
     "output_type": "stream",
     "text": [
      " 36%|███▌      | 2685/7439 [02:14<03:49, 20.76it/s]"
     ]
    },
    {
     "name": "stdout",
     "output_type": "stream",
     "text": [
      "(132, 109, 3)\n",
      "(145, 114, 3)\n",
      "(142, 113, 3)\n",
      "(146, 114, 3)\n",
      "(144, 111, 3)\n"
     ]
    },
    {
     "name": "stderr",
     "output_type": "stream",
     "text": [
      " 36%|███▌      | 2691/7439 [02:14<03:44, 21.16it/s]"
     ]
    },
    {
     "name": "stdout",
     "output_type": "stream",
     "text": [
      "(169, 134, 3)\n",
      "(155, 127, 3)\n",
      "(171, 137, 3)\n",
      "(157, 124, 3)\n",
      "(160, 131, 3)\n"
     ]
    },
    {
     "name": "stderr",
     "output_type": "stream",
     "text": [
      " 36%|███▋      | 2697/7439 [02:14<03:38, 21.68it/s]"
     ]
    },
    {
     "name": "stdout",
     "output_type": "stream",
     "text": [
      "(168, 134, 3)\n",
      "(158, 122, 3)\n",
      "(166, 132, 3)\n",
      "(166, 134, 3)\n",
      "(161, 131, 3)\n"
     ]
    },
    {
     "name": "stderr",
     "output_type": "stream",
     "text": [
      " 36%|███▋      | 2700/7439 [02:14<03:33, 22.21it/s]"
     ]
    },
    {
     "name": "stdout",
     "output_type": "stream",
     "text": [
      "(162, 128, 3)\n",
      "(162, 131, 3)\n",
      "(165, 133, 3)\n",
      "(166, 135, 3)\n",
      "(164, 133, 3)\n"
     ]
    },
    {
     "name": "stderr",
     "output_type": "stream",
     "text": [
      " 36%|███▋      | 2706/7439 [02:15<03:27, 22.80it/s]"
     ]
    },
    {
     "name": "stdout",
     "output_type": "stream",
     "text": [
      "(162, 131, 3)\n",
      "(160, 129, 3)\n",
      "(164, 130, 3)\n",
      "(165, 133, 3)\n",
      "(164, 132, 3)\n"
     ]
    },
    {
     "name": "stderr",
     "output_type": "stream",
     "text": [
      " 36%|███▋      | 2712/7439 [02:15<03:33, 22.11it/s]"
     ]
    },
    {
     "name": "stdout",
     "output_type": "stream",
     "text": [
      "(162, 131, 3)\n",
      "(159, 133, 3)\n",
      "(165, 128, 3)\n",
      "(163, 126, 3)\n",
      "(153, 122, 3)\n"
     ]
    },
    {
     "name": "stderr",
     "output_type": "stream",
     "text": [
      " 36%|███▋      | 2715/7439 [02:15<03:34, 21.99it/s]"
     ]
    },
    {
     "name": "stdout",
     "output_type": "stream",
     "text": [
      "(153, 125, 3)\n",
      "(162, 133, 3)\n",
      "(160, 132, 3)\n",
      "(165, 129, 3)\n",
      "(169, 137, 3)\n"
     ]
    },
    {
     "name": "stderr",
     "output_type": "stream",
     "text": [
      " 37%|███▋      | 2721/7439 [02:15<03:39, 21.50it/s]"
     ]
    },
    {
     "name": "stdout",
     "output_type": "stream",
     "text": [
      "(158, 126, 3)\n",
      "(161, 129, 3)\n",
      "(156, 122, 3)\n",
      "(166, 130, 3)\n",
      "(154, 127, 3)\n"
     ]
    },
    {
     "name": "stderr",
     "output_type": "stream",
     "text": [
      " 37%|███▋      | 2727/7439 [02:16<03:42, 21.22it/s]"
     ]
    },
    {
     "name": "stdout",
     "output_type": "stream",
     "text": [
      "(155, 130, 3)\n",
      "(149, 124, 3)\n",
      "(149, 122, 3)\n",
      "(164, 134, 3)\n",
      "(156, 130, 3)\n"
     ]
    },
    {
     "name": "stderr",
     "output_type": "stream",
     "text": [
      " 37%|███▋      | 2730/7439 [02:16<03:44, 20.94it/s]"
     ]
    },
    {
     "name": "stdout",
     "output_type": "stream",
     "text": [
      "(157, 124, 3)\n",
      "(156, 129, 3)\n",
      "(152, 127, 3)\n",
      "(161, 133, 3)\n",
      "(162, 126, 3)\n"
     ]
    },
    {
     "name": "stderr",
     "output_type": "stream",
     "text": [
      " 37%|███▋      | 2736/7439 [02:16<03:42, 21.10it/s]"
     ]
    },
    {
     "name": "stdout",
     "output_type": "stream",
     "text": [
      "(153, 125, 3)\n",
      "(154, 127, 3)\n",
      "(158, 131, 3)\n",
      "(159, 128, 3)\n",
      "(151, 124, 3)\n"
     ]
    },
    {
     "name": "stderr",
     "output_type": "stream",
     "text": [
      " 37%|███▋      | 2742/7439 [02:16<03:41, 21.17it/s]"
     ]
    },
    {
     "name": "stdout",
     "output_type": "stream",
     "text": [
      "(158, 124, 3)\n",
      "(164, 131, 3)\n",
      "(158, 133, 3)\n",
      "(160, 126, 3)\n",
      "(158, 131, 3)\n"
     ]
    },
    {
     "name": "stderr",
     "output_type": "stream",
     "text": [
      " 37%|███▋      | 2745/7439 [02:16<03:43, 20.98it/s]"
     ]
    },
    {
     "name": "stdout",
     "output_type": "stream",
     "text": [
      "(159, 134, 3)\n",
      "(160, 130, 3)\n",
      "(161, 127, 3)\n",
      "(163, 135, 3)\n",
      "(157, 130, 3)\n"
     ]
    },
    {
     "name": "stderr",
     "output_type": "stream",
     "text": [
      " 37%|███▋      | 2751/7439 [02:17<03:41, 21.15it/s]"
     ]
    },
    {
     "name": "stdout",
     "output_type": "stream",
     "text": [
      "(158, 133, 3)\n",
      "(156, 128, 3)\n",
      "(159, 129, 3)\n",
      "(158, 131, 3)\n",
      "(156, 124, 3)\n"
     ]
    },
    {
     "name": "stderr",
     "output_type": "stream",
     "text": [
      " 37%|███▋      | 2757/7439 [02:17<03:42, 21.09it/s]"
     ]
    },
    {
     "name": "stdout",
     "output_type": "stream",
     "text": [
      "(160, 127, 3)\n",
      "(165, 129, 3)\n",
      "(155, 129, 3)\n",
      "(162, 126, 3)\n",
      "(164, 133, 3)\n"
     ]
    },
    {
     "name": "stderr",
     "output_type": "stream",
     "text": [
      " 37%|███▋      | 2760/7439 [02:17<03:40, 21.24it/s]"
     ]
    },
    {
     "name": "stdout",
     "output_type": "stream",
     "text": [
      "(147, 126, 3)\n",
      "(158, 130, 3)\n",
      "(166, 135, 3)\n",
      "(145, 121, 3)\n",
      "(158, 130, 3)\n"
     ]
    },
    {
     "name": "stderr",
     "output_type": "stream",
     "text": [
      " 37%|███▋      | 2766/7439 [02:17<03:42, 21.04it/s]"
     ]
    },
    {
     "name": "stdout",
     "output_type": "stream",
     "text": [
      "(155, 128, 3)\n",
      "(157, 129, 3)\n",
      "(161, 131, 3)\n",
      "(160, 126, 3)\n",
      "(154, 124, 3)\n"
     ]
    },
    {
     "name": "stderr",
     "output_type": "stream",
     "text": [
      " 37%|███▋      | 2772/7439 [02:18<03:40, 21.18it/s]"
     ]
    },
    {
     "name": "stdout",
     "output_type": "stream",
     "text": [
      "(162, 132, 3)\n",
      "(159, 125, 3)\n",
      "(173, 127, 3)\n",
      "(160, 121, 3)\n",
      "(164, 123, 3)\n"
     ]
    },
    {
     "name": "stderr",
     "output_type": "stream",
     "text": [
      " 37%|███▋      | 2775/7439 [02:18<03:37, 21.46it/s]"
     ]
    },
    {
     "name": "stdout",
     "output_type": "stream",
     "text": [
      "(158, 120, 3)\n",
      "(167, 125, 3)\n",
      "(167, 124, 3)\n",
      "(160, 124, 3)\n",
      "(159, 124, 3)\n"
     ]
    },
    {
     "name": "stderr",
     "output_type": "stream",
     "text": [
      " 37%|███▋      | 2781/7439 [02:18<03:33, 21.79it/s]"
     ]
    },
    {
     "name": "stdout",
     "output_type": "stream",
     "text": [
      "(170, 129, 3)\n",
      "(161, 122, 3)\n",
      "(156, 121, 3)\n",
      "(161, 122, 3)\n",
      "(187, 135, 3)\n"
     ]
    },
    {
     "name": "stderr",
     "output_type": "stream",
     "text": [
      " 37%|███▋      | 2787/7439 [02:18<03:28, 22.30it/s]"
     ]
    },
    {
     "name": "stdout",
     "output_type": "stream",
     "text": [
      "(165, 126, 3)\n",
      "(164, 125, 3)\n",
      "(160, 121, 3)\n",
      "(163, 124, 3)\n",
      "(166, 124, 3)\n"
     ]
    },
    {
     "name": "stderr",
     "output_type": "stream",
     "text": [
      " 38%|███▊      | 2790/7439 [02:18<03:29, 22.17it/s]"
     ]
    },
    {
     "name": "stdout",
     "output_type": "stream",
     "text": [
      "(173, 130, 3)\n",
      "(175, 132, 3)\n",
      "(163, 126, 3)\n",
      "(171, 131, 3)\n",
      "(164, 126, 3)\n"
     ]
    },
    {
     "name": "stderr",
     "output_type": "stream",
     "text": [
      " 38%|███▊      | 2796/7439 [02:19<03:29, 22.15it/s]"
     ]
    },
    {
     "name": "stdout",
     "output_type": "stream",
     "text": [
      "(152, 120, 3)\n",
      "(167, 125, 3)\n",
      "(162, 126, 3)\n",
      "(173, 130, 3)\n",
      "(162, 123, 3)\n"
     ]
    },
    {
     "name": "stderr",
     "output_type": "stream",
     "text": [
      " 38%|███▊      | 2802/7439 [02:19<03:36, 21.37it/s]"
     ]
    },
    {
     "name": "stdout",
     "output_type": "stream",
     "text": [
      "(154, 119, 3)\n",
      "(154, 116, 3)\n",
      "(155, 120, 3)\n",
      "(157, 122, 3)\n",
      "(162, 123, 3)\n"
     ]
    },
    {
     "name": "stderr",
     "output_type": "stream",
     "text": [
      " 38%|███▊      | 2805/7439 [02:19<03:40, 20.98it/s]"
     ]
    },
    {
     "name": "stdout",
     "output_type": "stream",
     "text": [
      "(160, 122, 3)\n",
      "(153, 118, 3)\n",
      "(157, 120, 3)\n",
      "(159, 122, 3)\n",
      "(175, 127, 3)\n"
     ]
    },
    {
     "name": "stderr",
     "output_type": "stream",
     "text": [
      " 38%|███▊      | 2811/7439 [02:19<03:39, 21.10it/s]"
     ]
    },
    {
     "name": "stdout",
     "output_type": "stream",
     "text": [
      "(162, 123, 3)\n",
      "(159, 121, 3)\n",
      "(164, 127, 3)\n",
      "(153, 117, 3)\n",
      "(151, 119, 3)\n"
     ]
    },
    {
     "name": "stderr",
     "output_type": "stream",
     "text": [
      " 38%|███▊      | 2817/7439 [02:20<03:39, 21.08it/s]"
     ]
    },
    {
     "name": "stdout",
     "output_type": "stream",
     "text": [
      "(155, 119, 3)\n",
      "(165, 124, 3)\n",
      "(162, 122, 3)\n",
      "(167, 129, 3)\n",
      "(156, 119, 3)\n"
     ]
    },
    {
     "name": "stderr",
     "output_type": "stream",
     "text": [
      " 38%|███▊      | 2820/7439 [02:20<03:38, 21.15it/s]"
     ]
    },
    {
     "name": "stdout",
     "output_type": "stream",
     "text": [
      "(159, 123, 3)\n",
      "(164, 123, 3)\n",
      "(162, 125, 3)\n",
      "(161, 121, 3)\n",
      "(151, 119, 3)\n"
     ]
    },
    {
     "name": "stderr",
     "output_type": "stream",
     "text": [
      " 38%|███▊      | 2826/7439 [02:20<03:38, 21.09it/s]"
     ]
    },
    {
     "name": "stdout",
     "output_type": "stream",
     "text": [
      "(162, 122, 3)\n",
      "(162, 122, 3)\n",
      "(160, 123, 3)\n",
      "(165, 124, 3)\n",
      "(156, 122, 3)\n"
     ]
    },
    {
     "name": "stderr",
     "output_type": "stream",
     "text": [
      " 38%|███▊      | 2832/7439 [02:20<03:36, 21.31it/s]"
     ]
    },
    {
     "name": "stdout",
     "output_type": "stream",
     "text": [
      "(173, 128, 3)\n",
      "(162, 120, 3)\n",
      "(163, 124, 3)\n",
      "(135, 111, 3)\n",
      "(165, 124, 3)\n"
     ]
    },
    {
     "name": "stderr",
     "output_type": "stream",
     "text": [
      " 38%|███▊      | 2835/7439 [02:21<03:42, 20.65it/s]"
     ]
    },
    {
     "name": "stdout",
     "output_type": "stream",
     "text": [
      "(157, 122, 3)\n",
      "(173, 130, 3)\n",
      "(160, 120, 3)\n",
      "(171, 129, 3)\n"
     ]
    },
    {
     "name": "stderr",
     "output_type": "stream",
     "text": [
      " 38%|███▊      | 2838/7439 [02:21<03:45, 20.37it/s]"
     ]
    },
    {
     "name": "stdout",
     "output_type": "stream",
     "text": [
      "(165, 124, 3)\n",
      "(166, 125, 3)\n",
      "(177, 131, 3)\n",
      "(161, 123, 3)\n"
     ]
    },
    {
     "name": "stderr",
     "output_type": "stream",
     "text": [
      " 38%|███▊      | 2844/7439 [02:21<03:46, 20.27it/s]"
     ]
    },
    {
     "name": "stdout",
     "output_type": "stream",
     "text": [
      "(152, 118, 3)\n",
      "(158, 122, 3)\n",
      "(159, 122, 3)\n",
      "(159, 122, 3)\n",
      "(158, 121, 3)\n"
     ]
    },
    {
     "name": "stderr",
     "output_type": "stream",
     "text": [
      " 38%|███▊      | 2847/7439 [02:21<03:48, 20.12it/s]"
     ]
    },
    {
     "name": "stdout",
     "output_type": "stream",
     "text": [
      "(165, 126, 3)\n",
      "(149, 115, 3)\n",
      "(163, 124, 3)\n",
      "(140, 113, 3)\n",
      "(165, 124, 3)\n"
     ]
    },
    {
     "name": "stderr",
     "output_type": "stream",
     "text": [
      " 38%|███▊      | 2853/7439 [02:22<03:46, 20.28it/s]"
     ]
    },
    {
     "name": "stdout",
     "output_type": "stream",
     "text": [
      "(162, 122, 3)\n",
      "(169, 125, 3)\n",
      "(140, 112, 3)\n",
      "(167, 127, 3)\n",
      "(167, 125, 3)\n"
     ]
    },
    {
     "name": "stderr",
     "output_type": "stream",
     "text": [
      " 38%|███▊      | 2859/7439 [02:22<03:42, 20.55it/s]"
     ]
    },
    {
     "name": "stdout",
     "output_type": "stream",
     "text": [
      "(167, 125, 3)\n",
      "(176, 129, 3)\n",
      "(176, 128, 3)\n",
      "(163, 121, 3)\n",
      "(160, 121, 3)\n"
     ]
    },
    {
     "name": "stderr",
     "output_type": "stream",
     "text": [
      " 39%|███▊      | 2865/7439 [02:22<03:36, 21.16it/s]"
     ]
    },
    {
     "name": "stdout",
     "output_type": "stream",
     "text": [
      "(158, 121, 3)\n",
      "(159, 123, 3)\n",
      "(156, 120, 3)\n",
      "(171, 125, 3)\n",
      "(163, 125, 3)\n"
     ]
    },
    {
     "name": "stderr",
     "output_type": "stream",
     "text": [
      " 39%|███▊      | 2868/7439 [02:22<03:29, 21.82it/s]"
     ]
    },
    {
     "name": "stdout",
     "output_type": "stream",
     "text": [
      "(168, 125, 3)\n",
      "(165, 122, 3)\n",
      "(151, 115, 3)\n",
      "(159, 120, 3)\n",
      "(150, 117, 3)\n"
     ]
    },
    {
     "name": "stderr",
     "output_type": "stream",
     "text": [
      " 39%|███▊      | 2874/7439 [02:22<03:34, 21.32it/s]"
     ]
    },
    {
     "name": "stdout",
     "output_type": "stream",
     "text": [
      "(158, 120, 3)\n",
      "(160, 121, 3)\n",
      "(152, 117, 3)\n",
      "(158, 120, 3)\n"
     ]
    },
    {
     "name": "stderr",
     "output_type": "stream",
     "text": [
      " 39%|███▊      | 2877/7439 [02:23<03:38, 20.92it/s]"
     ]
    },
    {
     "name": "stdout",
     "output_type": "stream",
     "text": [
      "(157, 117, 3)\n",
      "(166, 124, 3)\n",
      "(150, 117, 3)\n",
      "(150, 116, 3)\n",
      "(158, 120, 3)\n"
     ]
    },
    {
     "name": "stderr",
     "output_type": "stream",
     "text": [
      " 39%|███▉      | 2883/7439 [02:23<03:41, 20.60it/s]"
     ]
    },
    {
     "name": "stdout",
     "output_type": "stream",
     "text": [
      "(167, 123, 3)\n",
      "(157, 121, 3)\n",
      "(163, 126, 3)\n",
      "(163, 124, 3)\n",
      "(167, 125, 3)\n"
     ]
    },
    {
     "name": "stderr",
     "output_type": "stream",
     "text": [
      " 39%|███▉      | 2889/7439 [02:23<03:37, 20.90it/s]"
     ]
    },
    {
     "name": "stdout",
     "output_type": "stream",
     "text": [
      "(161, 124, 3)\n",
      "(150, 116, 3)\n",
      "(151, 118, 3)\n",
      "(164, 124, 3)\n",
      "(160, 121, 3)\n"
     ]
    },
    {
     "name": "stderr",
     "output_type": "stream",
     "text": [
      " 39%|███▉      | 2892/7439 [02:23<03:38, 20.80it/s]"
     ]
    },
    {
     "name": "stdout",
     "output_type": "stream",
     "text": [
      "(145, 116, 3)\n",
      "(165, 121, 3)\n",
      "(160, 122, 3)\n",
      "(159, 120, 3)\n",
      "(154, 118, 3)\n"
     ]
    },
    {
     "name": "stderr",
     "output_type": "stream",
     "text": [
      " 39%|███▉      | 2898/7439 [02:24<03:41, 20.48it/s]"
     ]
    },
    {
     "name": "stdout",
     "output_type": "stream",
     "text": [
      "(165, 123, 3)\n",
      "(147, 112, 3)\n",
      "(156, 119, 3)\n",
      "(165, 125, 3)\n",
      "(160, 122, 3)\n"
     ]
    },
    {
     "name": "stderr",
     "output_type": "stream",
     "text": [
      " 39%|███▉      | 2904/7439 [02:24<03:41, 20.50it/s]"
     ]
    },
    {
     "name": "stdout",
     "output_type": "stream",
     "text": [
      "(175, 124, 3)\n",
      "(168, 122, 3)\n",
      "(160, 121, 3)\n",
      "(159, 122, 3)\n",
      "(158, 119, 3)\n"
     ]
    },
    {
     "name": "stderr",
     "output_type": "stream",
     "text": [
      " 39%|███▉      | 2907/7439 [02:24<03:45, 20.07it/s]"
     ]
    },
    {
     "name": "stdout",
     "output_type": "stream",
     "text": [
      "(161, 123, 3)\n",
      "(158, 121, 3)\n",
      "(157, 120, 3)\n",
      "(156, 120, 3)\n"
     ]
    },
    {
     "name": "stderr",
     "output_type": "stream",
     "text": [
      " 39%|███▉      | 2910/7439 [02:24<03:44, 20.14it/s]"
     ]
    },
    {
     "name": "stdout",
     "output_type": "stream",
     "text": [
      "(166, 123, 3)\n",
      "(161, 122, 3)\n",
      "(159, 118, 3)\n",
      "(166, 124, 3)\n"
     ]
    },
    {
     "name": "stderr",
     "output_type": "stream",
     "text": [
      " 39%|███▉      | 2915/7439 [02:25<03:47, 19.85it/s]"
     ]
    },
    {
     "name": "stdout",
     "output_type": "stream",
     "text": [
      "(172, 126, 3)\n",
      "(163, 123, 3)\n",
      "(149, 115, 3)\n",
      "(156, 119, 3)\n"
     ]
    },
    {
     "name": "stderr",
     "output_type": "stream",
     "text": [
      " 39%|███▉      | 2919/7439 [02:25<03:52, 19.44it/s]"
     ]
    },
    {
     "name": "stdout",
     "output_type": "stream",
     "text": [
      "(156, 119, 3)\n",
      "(164, 122, 3)\n",
      "(158, 121, 3)\n",
      "(159, 120, 3)\n"
     ]
    },
    {
     "name": "stderr",
     "output_type": "stream",
     "text": [
      " 39%|███▉      | 2924/7439 [02:25<03:50, 19.62it/s]"
     ]
    },
    {
     "name": "stdout",
     "output_type": "stream",
     "text": [
      "(159, 119, 3)\n",
      "(162, 122, 3)\n",
      "(160, 122, 3)\n",
      "(174, 129, 3)\n",
      "(156, 121, 3)\n"
     ]
    },
    {
     "name": "stderr",
     "output_type": "stream",
     "text": [
      " 39%|███▉      | 2929/7439 [02:25<03:45, 19.99it/s]"
     ]
    },
    {
     "name": "stdout",
     "output_type": "stream",
     "text": [
      "(161, 122, 3)\n",
      "(152, 118, 3)\n",
      "(167, 123, 3)\n",
      "(157, 120, 3)\n",
      "(183, 133, 3)\n"
     ]
    },
    {
     "name": "stderr",
     "output_type": "stream",
     "text": [
      " 39%|███▉      | 2934/7439 [02:25<03:37, 20.67it/s]"
     ]
    },
    {
     "name": "stdout",
     "output_type": "stream",
     "text": [
      "(162, 122, 3)\n",
      "(157, 121, 3)\n",
      "(153, 118, 3)\n",
      "(145, 119, 3)\n",
      "(140, 112, 3)\n"
     ]
    },
    {
     "name": "stderr",
     "output_type": "stream",
     "text": [
      " 40%|███▉      | 2940/7439 [02:26<03:31, 21.26it/s]"
     ]
    },
    {
     "name": "stdout",
     "output_type": "stream",
     "text": [
      "(150, 111, 3)\n",
      "(152, 118, 3)\n",
      "(149, 117, 3)\n",
      "(150, 117, 3)\n",
      "(161, 126, 3)\n"
     ]
    },
    {
     "name": "stderr",
     "output_type": "stream",
     "text": [
      " 40%|███▉      | 2943/7439 [02:26<03:44, 20.02it/s]"
     ]
    },
    {
     "name": "stdout",
     "output_type": "stream",
     "text": [
      "(153, 117, 3)\n",
      "(152, 122, 3)\n",
      "(141, 111, 3)\n",
      "(149, 120, 3)\n"
     ]
    },
    {
     "name": "stderr",
     "output_type": "stream",
     "text": [
      " 40%|███▉      | 2949/7439 [02:26<03:30, 21.33it/s]"
     ]
    },
    {
     "name": "stdout",
     "output_type": "stream",
     "text": [
      "(142, 111, 3)\n",
      "(145, 113, 3)\n",
      "(141, 114, 3)\n",
      "(136, 113, 3)\n",
      "(165, 123, 3)\n"
     ]
    },
    {
     "name": "stderr",
     "output_type": "stream",
     "text": [
      " 40%|███▉      | 2952/7439 [02:26<03:23, 22.03it/s]"
     ]
    },
    {
     "name": "stdout",
     "output_type": "stream",
     "text": [
      "(153, 118, 3)\n",
      "(150, 119, 3)\n",
      "(151, 120, 3)\n",
      "(155, 120, 3)\n",
      "(152, 119, 3)\n"
     ]
    },
    {
     "name": "stderr",
     "output_type": "stream",
     "text": [
      " 40%|███▉      | 2958/7439 [02:27<03:23, 21.98it/s]"
     ]
    },
    {
     "name": "stdout",
     "output_type": "stream",
     "text": [
      "(148, 117, 3)\n",
      "(148, 120, 3)\n",
      "(142, 114, 3)\n",
      "No face detected in 1037_IOM_FEA_XX.flv. Skipping.\n",
      "(140, 112, 3)\n"
     ]
    },
    {
     "name": "stderr",
     "output_type": "stream",
     "text": [
      " 40%|███▉      | 2961/7439 [02:27<03:20, 22.29it/s]"
     ]
    },
    {
     "name": "stdout",
     "output_type": "stream",
     "text": [
      "(147, 116, 3)\n",
      "(143, 113, 3)\n",
      "(155, 119, 3)\n",
      "(144, 114, 3)\n"
     ]
    },
    {
     "name": "stderr",
     "output_type": "stream",
     "text": [
      " 40%|███▉      | 2967/7439 [02:27<03:46, 19.76it/s]"
     ]
    },
    {
     "name": "stdout",
     "output_type": "stream",
     "text": [
      "(147, 113, 3)\n",
      "(167, 124, 3)\n",
      "(146, 116, 3)\n",
      "(151, 115, 3)\n"
     ]
    },
    {
     "name": "stderr",
     "output_type": "stream",
     "text": [
      " 40%|███▉      | 2970/7439 [02:27<03:54, 19.03it/s]"
     ]
    },
    {
     "name": "stdout",
     "output_type": "stream",
     "text": [
      "(147, 117, 3)\n",
      "(145, 115, 3)\n",
      "(142, 112, 3)\n",
      "(159, 126, 3)\n"
     ]
    },
    {
     "name": "stderr",
     "output_type": "stream",
     "text": [
      " 40%|███▉      | 2975/7439 [02:27<03:50, 19.37it/s]"
     ]
    },
    {
     "name": "stdout",
     "output_type": "stream",
     "text": [
      "(144, 116, 3)\n",
      "(143, 116, 3)\n",
      "(155, 123, 3)\n",
      "(147, 117, 3)\n"
     ]
    },
    {
     "name": "stderr",
     "output_type": "stream",
     "text": [
      " 40%|████      | 2978/7439 [02:28<03:44, 19.86it/s]"
     ]
    },
    {
     "name": "stdout",
     "output_type": "stream",
     "text": [
      "(157, 120, 3)\n",
      "(151, 114, 3)\n",
      "(144, 115, 3)\n",
      "(142, 114, 3)\n"
     ]
    },
    {
     "name": "stderr",
     "output_type": "stream",
     "text": [
      " 40%|████      | 2983/7439 [02:28<03:42, 20.06it/s]"
     ]
    },
    {
     "name": "stdout",
     "output_type": "stream",
     "text": [
      "(154, 126, 3)\n",
      "(143, 115, 3)\n",
      "(147, 116, 3)\n",
      "(145, 119, 3)\n",
      "(145, 117, 3)\n"
     ]
    },
    {
     "name": "stderr",
     "output_type": "stream",
     "text": [
      " 40%|████      | 2986/7439 [02:28<03:39, 20.32it/s]"
     ]
    },
    {
     "name": "stdout",
     "output_type": "stream",
     "text": [
      "(145, 118, 3)\n",
      "(154, 122, 3)\n",
      "(140, 112, 3)\n",
      "(149, 116, 3)\n"
     ]
    },
    {
     "name": "stderr",
     "output_type": "stream",
     "text": [
      " 40%|████      | 2992/7439 [02:28<03:44, 19.79it/s]"
     ]
    },
    {
     "name": "stdout",
     "output_type": "stream",
     "text": [
      "(152, 119, 3)\n",
      "(145, 115, 3)\n",
      "(142, 112, 3)\n",
      "(146, 115, 3)\n"
     ]
    },
    {
     "name": "stderr",
     "output_type": "stream",
     "text": [
      " 40%|████      | 2995/7439 [02:28<03:41, 20.04it/s]"
     ]
    },
    {
     "name": "stdout",
     "output_type": "stream",
     "text": [
      "(135, 111, 3)\n",
      "(149, 115, 3)\n",
      "(152, 122, 3)\n",
      "(148, 120, 3)\n",
      "(152, 118, 3)\n"
     ]
    },
    {
     "name": "stderr",
     "output_type": "stream",
     "text": [
      " 40%|████      | 3001/7439 [02:29<03:44, 19.77it/s]"
     ]
    },
    {
     "name": "stdout",
     "output_type": "stream",
     "text": [
      "(144, 116, 3)\n",
      "(140, 108, 3)\n",
      "(144, 114, 3)\n",
      "(145, 118, 3)\n"
     ]
    },
    {
     "name": "stderr",
     "output_type": "stream",
     "text": [
      " 40%|████      | 3005/7439 [02:29<03:50, 19.26it/s]"
     ]
    },
    {
     "name": "stdout",
     "output_type": "stream",
     "text": [
      "(144, 117, 3)\n",
      "(146, 116, 3)\n",
      "(148, 116, 3)\n",
      "(137, 110, 3)\n"
     ]
    },
    {
     "name": "stderr",
     "output_type": "stream",
     "text": [
      " 40%|████      | 3008/7439 [02:29<03:43, 19.81it/s]"
     ]
    },
    {
     "name": "stdout",
     "output_type": "stream",
     "text": [
      "(146, 114, 3)\n",
      "(155, 121, 3)\n",
      "(140, 112, 3)\n",
      "(142, 115, 3)\n"
     ]
    },
    {
     "name": "stderr",
     "output_type": "stream",
     "text": [
      " 41%|████      | 3013/7439 [02:29<03:32, 20.86it/s]"
     ]
    },
    {
     "name": "stdout",
     "output_type": "stream",
     "text": [
      "(144, 116, 3)\n",
      "(135, 108, 3)\n",
      "(140, 113, 3)\n",
      "(152, 120, 3)\n",
      "(146, 112, 3)\n"
     ]
    },
    {
     "name": "stderr",
     "output_type": "stream",
     "text": [
      " 41%|████      | 3019/7439 [02:30<03:28, 21.17it/s]"
     ]
    },
    {
     "name": "stdout",
     "output_type": "stream",
     "text": [
      "(140, 115, 3)\n",
      "(150, 121, 3)\n",
      "(148, 119, 3)\n",
      "(147, 122, 3)\n",
      "(154, 124, 3)\n"
     ]
    },
    {
     "name": "stderr",
     "output_type": "stream",
     "text": [
      " 41%|████      | 3022/7439 [02:30<03:28, 21.13it/s]"
     ]
    },
    {
     "name": "stdout",
     "output_type": "stream",
     "text": [
      "(152, 122, 3)\n",
      "(151, 123, 3)\n",
      "(149, 122, 3)\n",
      "(152, 123, 3)\n",
      "(162, 128, 3)\n"
     ]
    },
    {
     "name": "stderr",
     "output_type": "stream",
     "text": [
      " 41%|████      | 3028/7439 [02:30<03:24, 21.53it/s]"
     ]
    },
    {
     "name": "stdout",
     "output_type": "stream",
     "text": [
      "(150, 120, 3)\n",
      "(145, 118, 3)\n",
      "(149, 120, 3)\n",
      "(158, 126, 3)\n",
      "(144, 122, 3)\n"
     ]
    },
    {
     "name": "stderr",
     "output_type": "stream",
     "text": [
      " 41%|████      | 3034/7439 [02:30<03:20, 21.96it/s]"
     ]
    },
    {
     "name": "stdout",
     "output_type": "stream",
     "text": [
      "(147, 121, 3)\n",
      "(154, 126, 3)\n",
      "(146, 122, 3)\n",
      "(148, 121, 3)\n",
      "(161, 127, 3)\n"
     ]
    },
    {
     "name": "stderr",
     "output_type": "stream",
     "text": [
      " 41%|████      | 3037/7439 [02:30<03:24, 21.48it/s]"
     ]
    },
    {
     "name": "stdout",
     "output_type": "stream",
     "text": [
      "(145, 122, 3)\n",
      "(145, 124, 3)\n",
      "(155, 125, 3)\n",
      "(146, 119, 3)\n",
      "(153, 122, 3)\n"
     ]
    },
    {
     "name": "stderr",
     "output_type": "stream",
     "text": [
      " 41%|████      | 3043/7439 [02:31<03:27, 21.20it/s]"
     ]
    },
    {
     "name": "stdout",
     "output_type": "stream",
     "text": [
      "(152, 124, 3)\n",
      "(147, 122, 3)\n",
      "(142, 119, 3)\n",
      "(142, 119, 3)\n",
      "(143, 118, 3)\n"
     ]
    },
    {
     "name": "stderr",
     "output_type": "stream",
     "text": [
      " 41%|████      | 3049/7439 [02:31<03:36, 20.28it/s]"
     ]
    },
    {
     "name": "stdout",
     "output_type": "stream",
     "text": [
      "(142, 117, 3)\n",
      "(145, 119, 3)\n",
      "(141, 119, 3)\n",
      "(140, 116, 3)\n",
      "(140, 118, 3)\n"
     ]
    },
    {
     "name": "stderr",
     "output_type": "stream",
     "text": [
      " 41%|████      | 3052/7439 [02:31<03:40, 19.93it/s]"
     ]
    },
    {
     "name": "stdout",
     "output_type": "stream",
     "text": [
      "(141, 114, 3)\n",
      "(145, 118, 3)\n",
      "(148, 121, 3)\n",
      "(149, 121, 3)\n"
     ]
    },
    {
     "name": "stderr",
     "output_type": "stream",
     "text": [
      " 41%|████      | 3056/7439 [02:31<03:40, 19.90it/s]"
     ]
    },
    {
     "name": "stdout",
     "output_type": "stream",
     "text": [
      "(138, 116, 3)\n",
      "(137, 116, 3)\n",
      "(160, 129, 3)\n",
      "(138, 114, 3)\n"
     ]
    },
    {
     "name": "stderr",
     "output_type": "stream",
     "text": [
      " 41%|████      | 3060/7439 [02:32<03:45, 19.41it/s]"
     ]
    },
    {
     "name": "stdout",
     "output_type": "stream",
     "text": [
      "(148, 122, 3)\n",
      "(147, 120, 3)\n",
      "(142, 119, 3)\n",
      "(138, 116, 3)\n"
     ]
    },
    {
     "name": "stderr",
     "output_type": "stream",
     "text": [
      " 41%|████      | 3064/7439 [02:32<03:43, 19.60it/s]"
     ]
    },
    {
     "name": "stdout",
     "output_type": "stream",
     "text": [
      "(142, 119, 3)\n",
      "(140, 115, 3)\n",
      "(140, 117, 3)\n",
      "(139, 116, 3)\n",
      "(145, 116, 3)\n"
     ]
    },
    {
     "name": "stderr",
     "output_type": "stream",
     "text": [
      " 41%|████▏     | 3069/7439 [02:32<03:40, 19.86it/s]"
     ]
    },
    {
     "name": "stdout",
     "output_type": "stream",
     "text": [
      "(140, 118, 3)\n",
      "(152, 122, 3)\n",
      "(140, 117, 3)\n",
      "(157, 125, 3)\n"
     ]
    },
    {
     "name": "stderr",
     "output_type": "stream",
     "text": [
      " 41%|████▏     | 3073/7439 [02:32<03:42, 19.61it/s]"
     ]
    },
    {
     "name": "stdout",
     "output_type": "stream",
     "text": [
      "(140, 118, 3)\n",
      "(139, 115, 3)\n",
      "(135, 114, 3)\n",
      "(148, 120, 3)\n"
     ]
    },
    {
     "name": "stderr",
     "output_type": "stream",
     "text": [
      " 41%|████▏     | 3078/7439 [02:33<03:38, 19.99it/s]"
     ]
    },
    {
     "name": "stdout",
     "output_type": "stream",
     "text": [
      "(138, 114, 3)\n",
      "(149, 122, 3)\n",
      "(142, 121, 3)\n",
      "(134, 115, 3)\n",
      "(136, 113, 3)\n"
     ]
    },
    {
     "name": "stderr",
     "output_type": "stream",
     "text": [
      " 41%|████▏     | 3081/7439 [02:33<03:40, 19.75it/s]"
     ]
    },
    {
     "name": "stdout",
     "output_type": "stream",
     "text": [
      "(145, 120, 3)\n",
      "(135, 113, 3)\n",
      "(148, 121, 3)\n",
      "(146, 123, 3)\n"
     ]
    },
    {
     "name": "stderr",
     "output_type": "stream",
     "text": [
      " 41%|████▏     | 3086/7439 [02:33<03:41, 19.68it/s]"
     ]
    },
    {
     "name": "stdout",
     "output_type": "stream",
     "text": [
      "(141, 118, 3)\n",
      "(143, 119, 3)\n",
      "(146, 120, 3)\n",
      "(145, 121, 3)\n"
     ]
    },
    {
     "name": "stderr",
     "output_type": "stream",
     "text": [
      " 42%|████▏     | 3091/7439 [02:33<03:38, 19.90it/s]"
     ]
    },
    {
     "name": "stdout",
     "output_type": "stream",
     "text": [
      "(150, 128, 3)\n",
      "(149, 123, 3)\n",
      "(146, 121, 3)\n",
      "(138, 114, 3)\n",
      "(162, 126, 3)\n"
     ]
    },
    {
     "name": "stderr",
     "output_type": "stream",
     "text": [
      " 42%|████▏     | 3096/7439 [02:33<03:38, 19.89it/s]"
     ]
    },
    {
     "name": "stdout",
     "output_type": "stream",
     "text": [
      "(145, 116, 3)\n",
      "(151, 120, 3)\n",
      "(151, 125, 3)\n",
      "(147, 119, 3)\n",
      "(142, 117, 3)\n"
     ]
    },
    {
     "name": "stderr",
     "output_type": "stream",
     "text": [
      " 42%|████▏     | 3102/7439 [02:34<03:29, 20.73it/s]"
     ]
    },
    {
     "name": "stdout",
     "output_type": "stream",
     "text": [
      "(161, 132, 3)\n",
      "(168, 132, 3)\n",
      "(184, 147, 3)\n",
      "(163, 136, 3)\n",
      "(159, 128, 3)\n"
     ]
    },
    {
     "name": "stderr",
     "output_type": "stream",
     "text": [
      " 42%|████▏     | 3105/7439 [02:34<03:22, 21.39it/s]"
     ]
    },
    {
     "name": "stdout",
     "output_type": "stream",
     "text": [
      "(167, 135, 3)\n",
      "(167, 135, 3)\n",
      "(158, 133, 3)\n",
      "(166, 135, 3)\n",
      "(160, 128, 3)\n"
     ]
    },
    {
     "name": "stderr",
     "output_type": "stream",
     "text": [
      " 42%|████▏     | 3111/7439 [02:34<03:17, 21.87it/s]"
     ]
    },
    {
     "name": "stdout",
     "output_type": "stream",
     "text": [
      "(159, 131, 3)\n",
      "(149, 122, 3)\n",
      "(158, 124, 3)\n",
      "(152, 124, 3)\n",
      "(160, 131, 3)\n"
     ]
    },
    {
     "name": "stderr",
     "output_type": "stream",
     "text": [
      " 42%|████▏     | 3117/7439 [02:34<03:12, 22.45it/s]"
     ]
    },
    {
     "name": "stdout",
     "output_type": "stream",
     "text": [
      "(171, 137, 3)\n",
      "(166, 135, 3)\n",
      "(153, 126, 3)\n",
      "(153, 124, 3)\n",
      "(152, 125, 3)\n"
     ]
    },
    {
     "name": "stderr",
     "output_type": "stream",
     "text": [
      " 42%|████▏     | 3120/7439 [02:35<03:15, 22.06it/s]"
     ]
    },
    {
     "name": "stdout",
     "output_type": "stream",
     "text": [
      "(160, 130, 3)\n",
      "(168, 137, 3)\n",
      "(160, 130, 3)\n",
      "(155, 130, 3)\n",
      "(176, 142, 3)\n"
     ]
    },
    {
     "name": "stderr",
     "output_type": "stream",
     "text": [
      " 42%|████▏     | 3126/7439 [02:35<03:19, 21.65it/s]"
     ]
    },
    {
     "name": "stdout",
     "output_type": "stream",
     "text": [
      "(162, 135, 3)\n",
      "(155, 130, 3)\n",
      "(162, 132, 3)\n",
      "(162, 133, 3)\n",
      "(163, 135, 3)\n"
     ]
    },
    {
     "name": "stderr",
     "output_type": "stream",
     "text": [
      " 42%|████▏     | 3129/7439 [02:35<03:25, 20.92it/s]"
     ]
    },
    {
     "name": "stdout",
     "output_type": "stream",
     "text": [
      "(175, 139, 3)\n",
      "(173, 139, 3)\n",
      "(163, 135, 3)\n",
      "(161, 126, 3)\n"
     ]
    },
    {
     "name": "stderr",
     "output_type": "stream",
     "text": [
      " 42%|████▏     | 3135/7439 [02:35<03:29, 20.53it/s]"
     ]
    },
    {
     "name": "stdout",
     "output_type": "stream",
     "text": [
      "(159, 135, 3)\n",
      "(158, 131, 3)\n",
      "(163, 137, 3)\n",
      "(166, 139, 3)\n",
      "(165, 136, 3)\n"
     ]
    },
    {
     "name": "stderr",
     "output_type": "stream",
     "text": [
      " 42%|████▏     | 3138/7439 [02:35<03:32, 20.20it/s]"
     ]
    },
    {
     "name": "stdout",
     "output_type": "stream",
     "text": [
      "(154, 125, 3)\n",
      "(163, 135, 3)\n",
      "(161, 130, 3)\n",
      "(169, 135, 3)\n"
     ]
    },
    {
     "name": "stderr",
     "output_type": "stream",
     "text": [
      " 42%|████▏     | 3144/7439 [02:36<03:28, 20.58it/s]"
     ]
    },
    {
     "name": "stdout",
     "output_type": "stream",
     "text": [
      "(168, 138, 3)\n",
      "(165, 134, 3)\n",
      "(167, 136, 3)\n",
      "(178, 140, 3)\n",
      "(159, 133, 3)\n"
     ]
    },
    {
     "name": "stderr",
     "output_type": "stream",
     "text": [
      " 42%|████▏     | 3150/7439 [02:36<03:29, 20.50it/s]"
     ]
    },
    {
     "name": "stdout",
     "output_type": "stream",
     "text": [
      "(167, 138, 3)\n",
      "(175, 143, 3)\n",
      "(160, 133, 3)\n",
      "(156, 128, 3)\n",
      "(156, 128, 3)\n"
     ]
    },
    {
     "name": "stderr",
     "output_type": "stream",
     "text": [
      " 42%|████▏     | 3153/7439 [02:36<03:35, 19.93it/s]"
     ]
    },
    {
     "name": "stdout",
     "output_type": "stream",
     "text": [
      "(164, 132, 3)\n",
      "(168, 136, 3)\n",
      "(175, 142, 3)\n",
      "(169, 141, 3)\n",
      "(167, 136, 3)\n"
     ]
    },
    {
     "name": "stderr",
     "output_type": "stream",
     "text": [
      " 42%|████▏     | 3159/7439 [02:36<03:29, 20.42it/s]"
     ]
    },
    {
     "name": "stdout",
     "output_type": "stream",
     "text": [
      "(162, 133, 3)\n",
      "(165, 137, 3)\n",
      "(174, 141, 3)\n",
      "(169, 135, 3)\n",
      "(156, 130, 3)\n"
     ]
    },
    {
     "name": "stderr",
     "output_type": "stream",
     "text": [
      " 43%|████▎     | 3162/7439 [02:37<03:28, 20.52it/s]"
     ]
    },
    {
     "name": "stdout",
     "output_type": "stream",
     "text": [
      "(164, 133, 3)\n",
      "(164, 137, 3)\n",
      "(162, 132, 3)\n",
      "No face detected in 1039_TIE_FEA_XX.flv. Skipping.\n"
     ]
    },
    {
     "name": "stderr",
     "output_type": "stream",
     "text": [
      " 43%|████▎     | 3168/7439 [02:37<03:29, 20.40it/s]"
     ]
    },
    {
     "name": "stdout",
     "output_type": "stream",
     "text": [
      "(170, 139, 3)\n",
      "(161, 133, 3)\n",
      "(160, 130, 3)\n",
      "(159, 130, 3)\n",
      "(165, 135, 3)\n"
     ]
    },
    {
     "name": "stderr",
     "output_type": "stream",
     "text": [
      " 43%|████▎     | 3174/7439 [02:37<03:23, 20.94it/s]"
     ]
    },
    {
     "name": "stdout",
     "output_type": "stream",
     "text": [
      "(173, 141, 3)\n",
      "(168, 139, 3)\n",
      "(164, 137, 3)\n",
      "(169, 137, 3)\n",
      "(163, 136, 3)\n"
     ]
    },
    {
     "name": "stderr",
     "output_type": "stream",
     "text": [
      " 43%|████▎     | 3177/7439 [02:37<03:20, 21.23it/s]"
     ]
    },
    {
     "name": "stdout",
     "output_type": "stream",
     "text": [
      "(160, 130, 3)\n",
      "(167, 136, 3)\n",
      "(171, 140, 3)\n",
      "(159, 135, 3)\n",
      "(157, 127, 3)\n"
     ]
    },
    {
     "name": "stderr",
     "output_type": "stream",
     "text": [
      " 43%|████▎     | 3183/7439 [02:38<03:43, 19.01it/s]"
     ]
    },
    {
     "name": "stdout",
     "output_type": "stream",
     "text": [
      "(166, 136, 3)\n",
      "(172, 140, 3)\n",
      "(171, 136, 3)\n",
      "(177, 142, 3)\n",
      "(175, 140, 3)\n"
     ]
    },
    {
     "name": "stderr",
     "output_type": "stream",
     "text": [
      " 43%|████▎     | 3189/7439 [02:38<03:29, 20.26it/s]"
     ]
    },
    {
     "name": "stdout",
     "output_type": "stream",
     "text": [
      "(168, 138, 3)\n",
      "(176, 137, 3)\n",
      "(163, 135, 3)\n",
      "(164, 135, 3)\n",
      "(167, 134, 3)\n"
     ]
    },
    {
     "name": "stderr",
     "output_type": "stream",
     "text": [
      " 43%|████▎     | 3192/7439 [02:38<03:22, 21.02it/s]"
     ]
    },
    {
     "name": "stdout",
     "output_type": "stream",
     "text": [
      "(164, 128, 3)\n",
      "(164, 135, 3)\n",
      "(172, 137, 3)\n",
      "(169, 137, 3)\n",
      "(183, 144, 3)\n"
     ]
    },
    {
     "name": "stderr",
     "output_type": "stream",
     "text": [
      " 43%|████▎     | 3198/7439 [02:38<03:15, 21.67it/s]"
     ]
    },
    {
     "name": "stdout",
     "output_type": "stream",
     "text": [
      "(166, 136, 3)\n",
      "(173, 140, 3)\n",
      "(171, 138, 3)\n",
      "(167, 136, 3)\n",
      "(165, 135, 3)\n"
     ]
    },
    {
     "name": "stderr",
     "output_type": "stream",
     "text": [
      " 43%|████▎     | 3204/7439 [02:39<03:15, 21.61it/s]"
     ]
    },
    {
     "name": "stdout",
     "output_type": "stream",
     "text": [
      "(162, 134, 3)\n",
      "(162, 133, 3)\n",
      "(164, 135, 3)\n",
      "(163, 130, 3)\n",
      "(177, 142, 3)\n"
     ]
    },
    {
     "name": "stderr",
     "output_type": "stream",
     "text": [
      " 43%|████▎     | 3207/7439 [02:39<03:18, 21.37it/s]"
     ]
    },
    {
     "name": "stdout",
     "output_type": "stream",
     "text": [
      "(161, 132, 3)\n",
      "(166, 136, 3)\n",
      "(163, 132, 3)\n",
      "(169, 138, 3)\n",
      "(166, 134, 3)\n"
     ]
    },
    {
     "name": "stderr",
     "output_type": "stream",
     "text": [
      " 43%|████▎     | 3213/7439 [02:39<03:21, 21.01it/s]"
     ]
    },
    {
     "name": "stdout",
     "output_type": "stream",
     "text": [
      "(169, 136, 3)\n",
      "(171, 137, 3)\n",
      "(172, 142, 3)\n",
      "(170, 135, 3)\n",
      "(167, 138, 3)\n"
     ]
    },
    {
     "name": "stderr",
     "output_type": "stream",
     "text": [
      " 43%|████▎     | 3219/7439 [02:39<03:25, 20.57it/s]"
     ]
    },
    {
     "name": "stdout",
     "output_type": "stream",
     "text": [
      "(166, 133, 3)\n",
      "(178, 142, 3)\n",
      "(177, 142, 3)\n",
      "(169, 139, 3)\n",
      "(169, 139, 3)\n"
     ]
    },
    {
     "name": "stderr",
     "output_type": "stream",
     "text": [
      " 43%|████▎     | 3222/7439 [02:39<03:24, 20.59it/s]"
     ]
    },
    {
     "name": "stdout",
     "output_type": "stream",
     "text": [
      "(172, 137, 3)\n",
      "(173, 138, 3)\n",
      "(175, 140, 3)\n",
      "(176, 139, 3)\n",
      "(167, 138, 3)\n"
     ]
    },
    {
     "name": "stderr",
     "output_type": "stream",
     "text": [
      " 43%|████▎     | 3228/7439 [02:40<03:23, 20.68it/s]"
     ]
    },
    {
     "name": "stdout",
     "output_type": "stream",
     "text": [
      "(169, 135, 3)\n",
      "(167, 137, 3)\n",
      "(165, 133, 3)\n",
      "(167, 133, 3)\n",
      "(178, 138, 3)\n"
     ]
    },
    {
     "name": "stderr",
     "output_type": "stream",
     "text": [
      " 43%|████▎     | 3234/7439 [02:40<03:21, 20.89it/s]"
     ]
    },
    {
     "name": "stdout",
     "output_type": "stream",
     "text": [
      "(166, 136, 3)\n",
      "(170, 136, 3)\n",
      "(173, 140, 3)\n",
      "(183, 143, 3)\n",
      "(172, 138, 3)\n"
     ]
    },
    {
     "name": "stderr",
     "output_type": "stream",
     "text": [
      " 44%|████▎     | 3237/7439 [02:40<03:21, 20.83it/s]"
     ]
    },
    {
     "name": "stdout",
     "output_type": "stream",
     "text": [
      "(180, 141, 3)\n",
      "(168, 138, 3)\n",
      "(175, 142, 3)\n",
      "(169, 136, 3)\n",
      "(167, 133, 3)\n"
     ]
    },
    {
     "name": "stderr",
     "output_type": "stream",
     "text": [
      " 44%|████▎     | 3243/7439 [02:41<03:23, 20.58it/s]"
     ]
    },
    {
     "name": "stdout",
     "output_type": "stream",
     "text": [
      "(166, 133, 3)\n",
      "(173, 139, 3)\n",
      "(167, 140, 3)\n",
      "(170, 140, 3)\n",
      "(163, 134, 3)\n"
     ]
    },
    {
     "name": "stderr",
     "output_type": "stream",
     "text": [
      " 44%|████▎     | 3246/7439 [02:41<03:27, 20.24it/s]"
     ]
    },
    {
     "name": "stdout",
     "output_type": "stream",
     "text": [
      "(166, 134, 3)\n",
      "(177, 142, 3)\n",
      "(178, 142, 3)\n",
      "(166, 131, 3)\n",
      "(165, 135, 3)\n"
     ]
    },
    {
     "name": "stderr",
     "output_type": "stream",
     "text": [
      " 44%|████▎     | 3252/7439 [02:41<03:26, 20.26it/s]"
     ]
    },
    {
     "name": "stdout",
     "output_type": "stream",
     "text": [
      "(168, 139, 3)\n",
      "(167, 134, 3)\n",
      "(177, 142, 3)\n",
      "(168, 137, 3)\n",
      "(168, 140, 3)\n"
     ]
    },
    {
     "name": "stderr",
     "output_type": "stream",
     "text": [
      " 44%|████▍     | 3258/7439 [02:41<03:26, 20.23it/s]"
     ]
    },
    {
     "name": "stdout",
     "output_type": "stream",
     "text": [
      "(175, 142, 3)\n",
      "(170, 137, 3)\n",
      "(171, 137, 3)\n",
      "(177, 138, 3)\n"
     ]
    },
    {
     "name": "stderr",
     "output_type": "stream",
     "text": [
      " 44%|████▍     | 3261/7439 [02:41<03:26, 20.26it/s]"
     ]
    },
    {
     "name": "stdout",
     "output_type": "stream",
     "text": [
      "(170, 136, 3)\n",
      "(165, 136, 3)\n",
      "(174, 141, 3)\n",
      "(155, 124, 3)\n",
      "(147, 120, 3)\n"
     ]
    },
    {
     "name": "stderr",
     "output_type": "stream",
     "text": [
      " 44%|████▍     | 3267/7439 [02:42<03:14, 21.42it/s]"
     ]
    },
    {
     "name": "stdout",
     "output_type": "stream",
     "text": [
      "(143, 119, 3)\n",
      "(156, 125, 3)\n",
      "(151, 124, 3)\n",
      "(147, 123, 3)\n",
      "(158, 126, 3)\n"
     ]
    },
    {
     "name": "stderr",
     "output_type": "stream",
     "text": [
      " 44%|████▍     | 3273/7439 [02:42<03:16, 21.22it/s]"
     ]
    },
    {
     "name": "stdout",
     "output_type": "stream",
     "text": [
      "(151, 122, 3)\n",
      "(152, 121, 3)\n",
      "(152, 122, 3)\n",
      "(149, 124, 3)\n",
      "(152, 122, 3)\n"
     ]
    },
    {
     "name": "stderr",
     "output_type": "stream",
     "text": [
      " 44%|████▍     | 3276/7439 [02:42<03:15, 21.32it/s]"
     ]
    },
    {
     "name": "stdout",
     "output_type": "stream",
     "text": [
      "(167, 130, 3)\n",
      "(147, 122, 3)\n",
      "(159, 128, 3)\n",
      "(158, 126, 3)\n",
      "(145, 120, 3)\n"
     ]
    },
    {
     "name": "stderr",
     "output_type": "stream",
     "text": [
      " 44%|████▍     | 3282/7439 [02:42<03:08, 22.09it/s]"
     ]
    },
    {
     "name": "stdout",
     "output_type": "stream",
     "text": [
      "(144, 120, 3)\n",
      "(155, 123, 3)\n",
      "(144, 118, 3)\n",
      "(147, 120, 3)\n",
      "(142, 119, 3)\n"
     ]
    },
    {
     "name": "stderr",
     "output_type": "stream",
     "text": [
      " 44%|████▍     | 3288/7439 [02:43<03:05, 22.35it/s]"
     ]
    },
    {
     "name": "stdout",
     "output_type": "stream",
     "text": [
      "(149, 119, 3)\n",
      "(153, 121, 3)\n",
      "(148, 121, 3)\n",
      "(151, 124, 3)\n",
      "(150, 124, 3)\n"
     ]
    },
    {
     "name": "stderr",
     "output_type": "stream",
     "text": [
      " 44%|████▍     | 3291/7439 [02:43<03:08, 21.96it/s]"
     ]
    },
    {
     "name": "stdout",
     "output_type": "stream",
     "text": [
      "(145, 119, 3)\n",
      "(146, 121, 3)\n",
      "(140, 118, 3)\n",
      "(148, 119, 3)\n",
      "(141, 119, 3)\n"
     ]
    },
    {
     "name": "stderr",
     "output_type": "stream",
     "text": [
      " 44%|████▍     | 3297/7439 [02:43<03:16, 21.04it/s]"
     ]
    },
    {
     "name": "stdout",
     "output_type": "stream",
     "text": [
      "(144, 120, 3)\n",
      "(146, 120, 3)\n",
      "(146, 123, 3)\n",
      "(142, 117, 3)\n",
      "(147, 122, 3)\n"
     ]
    },
    {
     "name": "stderr",
     "output_type": "stream",
     "text": [
      " 44%|████▍     | 3303/7439 [02:43<03:19, 20.69it/s]"
     ]
    },
    {
     "name": "stdout",
     "output_type": "stream",
     "text": [
      "(147, 124, 3)\n",
      "(144, 119, 3)\n",
      "(143, 120, 3)\n",
      "(157, 123, 3)\n",
      "(144, 121, 3)\n"
     ]
    },
    {
     "name": "stderr",
     "output_type": "stream",
     "text": [
      " 44%|████▍     | 3306/7439 [02:43<03:17, 20.91it/s]"
     ]
    },
    {
     "name": "stdout",
     "output_type": "stream",
     "text": [
      "(160, 127, 3)\n",
      "(155, 124, 3)\n",
      "(149, 118, 3)\n",
      "(151, 126, 3)\n",
      "(146, 120, 3)\n"
     ]
    },
    {
     "name": "stderr",
     "output_type": "stream",
     "text": [
      " 45%|████▍     | 3312/7439 [02:44<03:13, 21.28it/s]"
     ]
    },
    {
     "name": "stdout",
     "output_type": "stream",
     "text": [
      "(146, 121, 3)\n",
      "(151, 124, 3)\n",
      "(142, 117, 3)\n",
      "(150, 122, 3)\n",
      "(143, 119, 3)\n"
     ]
    },
    {
     "name": "stderr",
     "output_type": "stream",
     "text": [
      " 45%|████▍     | 3318/7439 [02:44<03:12, 21.39it/s]"
     ]
    },
    {
     "name": "stdout",
     "output_type": "stream",
     "text": [
      "(151, 125, 3)\n",
      "(147, 120, 3)\n",
      "(154, 123, 3)\n",
      "(159, 129, 3)\n",
      "(149, 121, 3)\n"
     ]
    },
    {
     "name": "stderr",
     "output_type": "stream",
     "text": [
      " 45%|████▍     | 3321/7439 [02:44<03:17, 20.84it/s]"
     ]
    },
    {
     "name": "stdout",
     "output_type": "stream",
     "text": [
      "(154, 126, 3)\n",
      "(161, 129, 3)\n",
      "(145, 120, 3)\n",
      "(148, 121, 3)\n",
      "(148, 123, 3)\n"
     ]
    },
    {
     "name": "stderr",
     "output_type": "stream",
     "text": [
      " 45%|████▍     | 3327/7439 [02:45<03:21, 20.41it/s]"
     ]
    },
    {
     "name": "stdout",
     "output_type": "stream",
     "text": [
      "(152, 124, 3)\n",
      "(152, 124, 3)\n",
      "(148, 122, 3)\n",
      "(155, 122, 3)\n",
      "(151, 120, 3)\n",
      "(145, 123, 3)\n"
     ]
    },
    {
     "name": "stderr",
     "output_type": "stream",
     "text": [
      " 45%|████▍     | 3333/7439 [02:45<03:53, 17.57it/s]"
     ]
    },
    {
     "name": "stdout",
     "output_type": "stream",
     "text": [
      "(142, 120, 3)\n",
      "(153, 123, 3)\n",
      "(149, 125, 3)\n",
      "(143, 117, 3)\n",
      "(151, 124, 3)\n"
     ]
    },
    {
     "name": "stderr",
     "output_type": "stream",
     "text": [
      " 45%|████▍     | 3339/7439 [02:45<03:35, 18.99it/s]"
     ]
    },
    {
     "name": "stdout",
     "output_type": "stream",
     "text": [
      "(147, 125, 3)\n",
      "(145, 121, 3)\n",
      "(142, 120, 3)\n",
      "(166, 127, 3)\n",
      "(154, 121, 3)\n"
     ]
    },
    {
     "name": "stderr",
     "output_type": "stream",
     "text": [
      " 45%|████▍     | 3342/7439 [02:45<03:28, 19.63it/s]"
     ]
    },
    {
     "name": "stdout",
     "output_type": "stream",
     "text": [
      "(171, 133, 3)\n",
      "(148, 123, 3)\n",
      "(144, 120, 3)\n",
      "(155, 127, 3)\n",
      "(160, 127, 3)\n"
     ]
    },
    {
     "name": "stderr",
     "output_type": "stream",
     "text": [
      " 45%|████▌     | 3348/7439 [02:46<03:13, 21.13it/s]"
     ]
    },
    {
     "name": "stdout",
     "output_type": "stream",
     "text": [
      "(163, 126, 3)\n",
      "(169, 129, 3)\n",
      "(166, 131, 3)\n",
      "(160, 129, 3)\n",
      "(160, 126, 3)\n"
     ]
    },
    {
     "name": "stderr",
     "output_type": "stream",
     "text": [
      " 45%|████▌     | 3354/7439 [02:46<03:07, 21.77it/s]"
     ]
    },
    {
     "name": "stdout",
     "output_type": "stream",
     "text": [
      "(161, 132, 3)\n",
      "(179, 137, 3)\n",
      "(174, 135, 3)\n",
      "(151, 123, 3)\n",
      "(157, 127, 3)\n"
     ]
    },
    {
     "name": "stderr",
     "output_type": "stream",
     "text": [
      " 45%|████▌     | 3357/7439 [02:46<03:06, 21.88it/s]"
     ]
    },
    {
     "name": "stdout",
     "output_type": "stream",
     "text": [
      "(161, 127, 3)\n",
      "(171, 134, 3)\n",
      "(160, 128, 3)\n",
      "(169, 131, 3)\n",
      "(173, 132, 3)\n"
     ]
    },
    {
     "name": "stderr",
     "output_type": "stream",
     "text": [
      " 45%|████▌     | 3363/7439 [02:46<03:06, 21.91it/s]"
     ]
    },
    {
     "name": "stdout",
     "output_type": "stream",
     "text": [
      "(180, 139, 3)\n",
      "(160, 131, 3)\n",
      "(162, 131, 3)\n",
      "(155, 126, 3)\n",
      "(163, 129, 3)\n"
     ]
    },
    {
     "name": "stderr",
     "output_type": "stream",
     "text": [
      " 45%|████▌     | 3369/7439 [02:47<03:05, 21.94it/s]"
     ]
    },
    {
     "name": "stdout",
     "output_type": "stream",
     "text": [
      "(167, 131, 3)\n",
      "(160, 128, 3)\n",
      "(162, 129, 3)\n",
      "(159, 126, 3)\n",
      "(174, 136, 3)\n"
     ]
    },
    {
     "name": "stderr",
     "output_type": "stream",
     "text": [
      " 45%|████▌     | 3372/7439 [02:47<03:05, 21.97it/s]"
     ]
    },
    {
     "name": "stdout",
     "output_type": "stream",
     "text": [
      "(158, 126, 3)\n",
      "(159, 128, 3)\n",
      "(154, 126, 3)\n",
      "(161, 128, 3)\n",
      "(172, 134, 3)\n"
     ]
    },
    {
     "name": "stderr",
     "output_type": "stream",
     "text": [
      " 45%|████▌     | 3378/7439 [02:47<03:10, 21.31it/s]"
     ]
    },
    {
     "name": "stdout",
     "output_type": "stream",
     "text": [
      "(169, 133, 3)\n",
      "(159, 131, 3)\n",
      "(155, 123, 3)\n",
      "(159, 126, 3)\n",
      "(158, 127, 3)\n"
     ]
    },
    {
     "name": "stderr",
     "output_type": "stream",
     "text": [
      " 45%|████▌     | 3384/7439 [02:47<03:06, 21.71it/s]"
     ]
    },
    {
     "name": "stdout",
     "output_type": "stream",
     "text": [
      "(161, 127, 3)\n",
      "(165, 131, 3)\n",
      "(166, 130, 3)\n",
      "(161, 128, 3)\n",
      "(152, 125, 3)\n"
     ]
    },
    {
     "name": "stderr",
     "output_type": "stream",
     "text": [
      " 46%|████▌     | 3387/7439 [02:47<03:07, 21.61it/s]"
     ]
    },
    {
     "name": "stdout",
     "output_type": "stream",
     "text": [
      "(165, 129, 3)\n",
      "(171, 131, 3)\n",
      "(160, 128, 3)\n",
      "(158, 129, 3)\n",
      "(158, 130, 3)\n"
     ]
    },
    {
     "name": "stderr",
     "output_type": "stream",
     "text": [
      " 46%|████▌     | 3393/7439 [02:48<03:03, 22.04it/s]"
     ]
    },
    {
     "name": "stdout",
     "output_type": "stream",
     "text": [
      "(160, 128, 3)\n",
      "(163, 130, 3)\n",
      "(160, 128, 3)\n",
      "(168, 134, 3)\n",
      "(166, 134, 3)\n"
     ]
    },
    {
     "name": "stderr",
     "output_type": "stream",
     "text": [
      " 46%|████▌     | 3396/7439 [02:48<03:04, 21.86it/s]"
     ]
    },
    {
     "name": "stdout",
     "output_type": "stream",
     "text": [
      "(165, 131, 3)\n",
      "(166, 129, 3)\n",
      "(157, 126, 3)\n",
      "(167, 129, 3)\n"
     ]
    },
    {
     "name": "stderr",
     "output_type": "stream",
     "text": [
      " 46%|████▌     | 3402/7439 [02:48<03:24, 19.76it/s]"
     ]
    },
    {
     "name": "stdout",
     "output_type": "stream",
     "text": [
      "(174, 134, 3)\n",
      "(157, 126, 3)\n",
      "(166, 129, 3)\n",
      "(161, 127, 3)\n",
      "(158, 123, 3)\n"
     ]
    },
    {
     "name": "stderr",
     "output_type": "stream",
     "text": [
      " 46%|████▌     | 3408/7439 [02:48<03:16, 20.50it/s]"
     ]
    },
    {
     "name": "stdout",
     "output_type": "stream",
     "text": [
      "(160, 126, 3)\n",
      "(159, 128, 3)\n",
      "(157, 128, 3)\n",
      "(162, 130, 3)\n",
      "(167, 132, 3)\n"
     ]
    },
    {
     "name": "stderr",
     "output_type": "stream",
     "text": [
      " 46%|████▌     | 3411/7439 [02:49<03:16, 20.54it/s]"
     ]
    },
    {
     "name": "stdout",
     "output_type": "stream",
     "text": [
      "(163, 128, 3)\n",
      "(168, 133, 3)\n",
      "(173, 136, 3)\n",
      "(165, 129, 3)\n",
      "(170, 132, 3)\n"
     ]
    },
    {
     "name": "stderr",
     "output_type": "stream",
     "text": [
      " 46%|████▌     | 3417/7439 [02:49<03:08, 21.36it/s]"
     ]
    },
    {
     "name": "stdout",
     "output_type": "stream",
     "text": [
      "(158, 129, 3)\n",
      "(159, 129, 3)\n",
      "(165, 131, 3)\n",
      "(163, 129, 3)\n",
      "(155, 125, 3)\n"
     ]
    },
    {
     "name": "stderr",
     "output_type": "stream",
     "text": [
      " 46%|████▌     | 3423/7439 [02:49<03:05, 21.67it/s]"
     ]
    },
    {
     "name": "stdout",
     "output_type": "stream",
     "text": [
      "(160, 129, 3)\n",
      "(166, 129, 3)\n",
      "(158, 125, 3)\n",
      "(164, 130, 3)\n",
      "(158, 125, 3)\n"
     ]
    },
    {
     "name": "stderr",
     "output_type": "stream",
     "text": [
      " 46%|████▌     | 3426/7439 [02:49<03:02, 22.00it/s]"
     ]
    },
    {
     "name": "stdout",
     "output_type": "stream",
     "text": [
      "(168, 135, 3)\n",
      "(166, 133, 3)\n",
      "(156, 123, 3)\n",
      "(145, 119, 3)\n",
      "(153, 121, 3)\n"
     ]
    },
    {
     "name": "stderr",
     "output_type": "stream",
     "text": [
      " 46%|████▌     | 3432/7439 [02:50<02:57, 22.55it/s]"
     ]
    },
    {
     "name": "stdout",
     "output_type": "stream",
     "text": [
      "(144, 117, 3)\n",
      "(151, 121, 3)\n",
      "(151, 118, 3)\n",
      "(156, 124, 3)\n",
      "(148, 118, 3)\n"
     ]
    },
    {
     "name": "stderr",
     "output_type": "stream",
     "text": [
      " 46%|████▌     | 3438/7439 [02:50<02:59, 22.25it/s]"
     ]
    },
    {
     "name": "stdout",
     "output_type": "stream",
     "text": [
      "(138, 115, 3)\n",
      "(153, 120, 3)\n",
      "(146, 116, 3)\n",
      "(147, 117, 3)\n",
      "(148, 119, 3)\n"
     ]
    },
    {
     "name": "stderr",
     "output_type": "stream",
     "text": [
      " 46%|████▋     | 3441/7439 [02:50<02:58, 22.34it/s]"
     ]
    },
    {
     "name": "stdout",
     "output_type": "stream",
     "text": [
      "(150, 121, 3)\n",
      "(146, 118, 3)\n",
      "(140, 114, 3)\n",
      "(153, 121, 3)\n",
      "(151, 119, 3)\n"
     ]
    },
    {
     "name": "stderr",
     "output_type": "stream",
     "text": [
      " 46%|████▋     | 3447/7439 [02:50<02:59, 22.28it/s]"
     ]
    },
    {
     "name": "stdout",
     "output_type": "stream",
     "text": [
      "(144, 115, 3)\n",
      "(161, 127, 3)\n",
      "(149, 118, 3)\n",
      "(140, 115, 3)\n",
      "(142, 118, 3)\n"
     ]
    },
    {
     "name": "stderr",
     "output_type": "stream",
     "text": [
      " 46%|████▋     | 3453/7439 [02:50<02:52, 23.15it/s]"
     ]
    },
    {
     "name": "stdout",
     "output_type": "stream",
     "text": [
      "(155, 126, 3)\n",
      "(136, 112, 3)\n",
      "(145, 113, 3)\n",
      "(143, 121, 3)\n",
      "(145, 115, 3)\n"
     ]
    },
    {
     "name": "stderr",
     "output_type": "stream",
     "text": [
      " 46%|████▋     | 3456/7439 [02:51<02:55, 22.69it/s]"
     ]
    },
    {
     "name": "stdout",
     "output_type": "stream",
     "text": [
      "(140, 116, 3)\n",
      "(142, 115, 3)\n",
      "(145, 120, 3)\n",
      "(143, 117, 3)\n",
      "(144, 119, 3)\n"
     ]
    },
    {
     "name": "stderr",
     "output_type": "stream",
     "text": [
      " 47%|████▋     | 3462/7439 [02:51<03:01, 21.92it/s]"
     ]
    },
    {
     "name": "stdout",
     "output_type": "stream",
     "text": [
      "(137, 112, 3)\n",
      "(143, 122, 3)\n",
      "(153, 122, 3)\n",
      "(149, 120, 3)\n",
      "(146, 120, 3)\n"
     ]
    },
    {
     "name": "stderr",
     "output_type": "stream",
     "text": [
      " 47%|████▋     | 3468/7439 [02:51<02:58, 22.19it/s]"
     ]
    },
    {
     "name": "stdout",
     "output_type": "stream",
     "text": [
      "(148, 121, 3)\n",
      "(147, 119, 3)\n",
      "(149, 123, 3)\n",
      "(147, 117, 3)\n",
      "(142, 114, 3)\n"
     ]
    },
    {
     "name": "stderr",
     "output_type": "stream",
     "text": [
      " 47%|████▋     | 3471/7439 [02:51<02:57, 22.41it/s]"
     ]
    },
    {
     "name": "stdout",
     "output_type": "stream",
     "text": [
      "(148, 119, 3)\n",
      "(150, 125, 3)\n",
      "(143, 114, 3)\n",
      "(138, 117, 3)\n",
      "(146, 117, 3)\n"
     ]
    },
    {
     "name": "stderr",
     "output_type": "stream",
     "text": [
      " 47%|████▋     | 3477/7439 [02:52<02:52, 22.98it/s]"
     ]
    },
    {
     "name": "stdout",
     "output_type": "stream",
     "text": [
      "(143, 115, 3)\n",
      "(146, 119, 3)\n",
      "(147, 120, 3)\n",
      "(137, 113, 3)\n",
      "(147, 123, 3)\n"
     ]
    },
    {
     "name": "stderr",
     "output_type": "stream",
     "text": [
      " 47%|████▋     | 3483/7439 [02:52<02:53, 22.78it/s]"
     ]
    },
    {
     "name": "stdout",
     "output_type": "stream",
     "text": [
      "(164, 129, 3)\n",
      "(146, 122, 3)\n",
      "(152, 125, 3)\n",
      "(143, 117, 3)\n",
      "(149, 124, 3)\n"
     ]
    },
    {
     "name": "stderr",
     "output_type": "stream",
     "text": [
      " 47%|████▋     | 3486/7439 [02:52<02:55, 22.48it/s]"
     ]
    },
    {
     "name": "stdout",
     "output_type": "stream",
     "text": [
      "(136, 113, 3)\n",
      "(147, 118, 3)\n",
      "(139, 116, 3)\n",
      "(146, 121, 3)\n",
      "(143, 119, 3)\n"
     ]
    },
    {
     "name": "stderr",
     "output_type": "stream",
     "text": [
      " 47%|████▋     | 3492/7439 [02:52<03:02, 21.61it/s]"
     ]
    },
    {
     "name": "stdout",
     "output_type": "stream",
     "text": [
      "(140, 117, 3)\n",
      "(148, 121, 3)\n",
      "(155, 122, 3)\n",
      "(145, 117, 3)\n"
     ]
    },
    {
     "name": "stderr",
     "output_type": "stream",
     "text": [
      " 47%|████▋     | 3495/7439 [02:52<03:03, 21.49it/s]"
     ]
    },
    {
     "name": "stdout",
     "output_type": "stream",
     "text": [
      "(147, 122, 3)\n",
      "(146, 119, 3)\n",
      "(140, 116, 3)\n",
      "(140, 118, 3)\n",
      "(152, 121, 3)\n"
     ]
    },
    {
     "name": "stderr",
     "output_type": "stream",
     "text": [
      " 47%|████▋     | 3501/7439 [02:53<02:55, 22.38it/s]"
     ]
    },
    {
     "name": "stdout",
     "output_type": "stream",
     "text": [
      "(151, 123, 3)\n",
      "(148, 124, 3)\n",
      "(145, 118, 3)\n",
      "(150, 116, 3)\n",
      "(147, 120, 3)\n"
     ]
    },
    {
     "name": "stderr",
     "output_type": "stream",
     "text": [
      " 47%|████▋     | 3507/7439 [02:53<02:59, 21.85it/s]"
     ]
    },
    {
     "name": "stdout",
     "output_type": "stream",
     "text": [
      "(150, 119, 3)\n",
      "(158, 122, 3)\n",
      "(152, 121, 3)\n",
      "(148, 120, 3)\n",
      "(152, 122, 3)\n"
     ]
    },
    {
     "name": "stderr",
     "output_type": "stream",
     "text": [
      " 47%|████▋     | 3510/7439 [02:53<03:03, 21.47it/s]"
     ]
    },
    {
     "name": "stdout",
     "output_type": "stream",
     "text": [
      "(152, 125, 3)\n",
      "(147, 123, 3)\n",
      "(156, 127, 3)\n",
      "(160, 127, 3)\n",
      "(154, 124, 3)\n"
     ]
    },
    {
     "name": "stderr",
     "output_type": "stream",
     "text": [
      " 47%|████▋     | 3516/7439 [02:53<03:08, 20.79it/s]"
     ]
    },
    {
     "name": "stdout",
     "output_type": "stream",
     "text": [
      "(146, 116, 3)\n",
      "(167, 130, 3)\n",
      "(151, 123, 3)\n",
      "(147, 119, 3)\n",
      "(143, 111, 3)\n"
     ]
    },
    {
     "name": "stderr",
     "output_type": "stream",
     "text": [
      " 47%|████▋     | 3522/7439 [02:54<03:07, 20.88it/s]"
     ]
    },
    {
     "name": "stdout",
     "output_type": "stream",
     "text": [
      "(137, 114, 3)\n",
      "(140, 114, 3)\n",
      "(159, 124, 3)\n",
      "(151, 119, 3)\n",
      "(150, 119, 3)\n"
     ]
    },
    {
     "name": "stderr",
     "output_type": "stream",
     "text": [
      " 47%|████▋     | 3525/7439 [02:54<03:07, 20.93it/s]"
     ]
    },
    {
     "name": "stdout",
     "output_type": "stream",
     "text": [
      "(144, 117, 3)\n",
      "(156, 122, 3)\n",
      "(151, 119, 3)\n",
      "(149, 115, 3)\n",
      "(147, 118, 3)\n"
     ]
    },
    {
     "name": "stderr",
     "output_type": "stream",
     "text": [
      " 47%|████▋     | 3531/7439 [02:54<03:04, 21.22it/s]"
     ]
    },
    {
     "name": "stdout",
     "output_type": "stream",
     "text": [
      "(148, 118, 3)\n",
      "(157, 124, 3)\n",
      "(146, 123, 3)\n",
      "(139, 118, 3)\n",
      "(152, 123, 3)\n"
     ]
    },
    {
     "name": "stderr",
     "output_type": "stream",
     "text": [
      " 48%|████▊     | 3537/7439 [02:54<03:06, 20.89it/s]"
     ]
    },
    {
     "name": "stdout",
     "output_type": "stream",
     "text": [
      "(155, 126, 3)\n",
      "(155, 127, 3)\n",
      "(162, 129, 3)\n",
      "(144, 119, 3)\n",
      "(144, 118, 3)\n"
     ]
    },
    {
     "name": "stderr",
     "output_type": "stream",
     "text": [
      " 48%|████▊     | 3540/7439 [02:54<03:09, 20.59it/s]"
     ]
    },
    {
     "name": "stdout",
     "output_type": "stream",
     "text": [
      "(147, 117, 3)\n",
      "(145, 118, 3)\n",
      "(140, 119, 3)\n",
      "(145, 120, 3)\n"
     ]
    },
    {
     "name": "stderr",
     "output_type": "stream",
     "text": [
      " 48%|████▊     | 3546/7439 [02:55<03:08, 20.61it/s]"
     ]
    },
    {
     "name": "stdout",
     "output_type": "stream",
     "text": [
      "(146, 124, 3)\n",
      "(140, 116, 3)\n",
      "(148, 123, 3)\n",
      "(156, 129, 3)\n",
      "(149, 126, 3)\n"
     ]
    },
    {
     "name": "stderr",
     "output_type": "stream",
     "text": [
      " 48%|████▊     | 3549/7439 [02:55<03:13, 20.14it/s]"
     ]
    },
    {
     "name": "stdout",
     "output_type": "stream",
     "text": [
      "(142, 119, 3)\n",
      "(147, 120, 3)\n",
      "(141, 118, 3)\n",
      "(160, 124, 3)\n"
     ]
    },
    {
     "name": "stderr",
     "output_type": "stream",
     "text": [
      " 48%|████▊     | 3555/7439 [02:55<03:10, 20.35it/s]"
     ]
    },
    {
     "name": "stdout",
     "output_type": "stream",
     "text": [
      "(162, 128, 3)\n",
      "(143, 122, 3)\n",
      "(155, 123, 3)\n",
      "(144, 122, 3)\n",
      "(149, 124, 3)\n"
     ]
    },
    {
     "name": "stderr",
     "output_type": "stream",
     "text": [
      " 48%|████▊     | 3558/7439 [02:55<03:10, 20.37it/s]"
     ]
    },
    {
     "name": "stdout",
     "output_type": "stream",
     "text": [
      "(145, 122, 3)\n",
      "(160, 128, 3)\n",
      "(149, 123, 3)\n",
      "(147, 123, 3)\n",
      "(149, 124, 3)\n"
     ]
    },
    {
     "name": "stderr",
     "output_type": "stream",
     "text": [
      " 48%|████▊     | 3564/7439 [02:56<03:09, 20.48it/s]"
     ]
    },
    {
     "name": "stdout",
     "output_type": "stream",
     "text": [
      "(138, 112, 3)\n",
      "(143, 116, 3)\n",
      "(145, 117, 3)\n",
      "(144, 118, 3)\n",
      "(144, 118, 3)\n"
     ]
    },
    {
     "name": "stderr",
     "output_type": "stream",
     "text": [
      " 48%|████▊     | 3570/7439 [02:56<03:08, 20.49it/s]"
     ]
    },
    {
     "name": "stdout",
     "output_type": "stream",
     "text": [
      "(155, 124, 3)\n",
      "(138, 116, 3)\n",
      "(130, 104, 3)\n",
      "(145, 120, 3)\n",
      "(143, 119, 3)\n"
     ]
    },
    {
     "name": "stderr",
     "output_type": "stream",
     "text": [
      " 48%|████▊     | 3573/7439 [02:56<03:12, 20.06it/s]"
     ]
    },
    {
     "name": "stdout",
     "output_type": "stream",
     "text": [
      "(139, 118, 3)\n",
      "(156, 124, 3)\n",
      "(158, 124, 3)\n",
      "(163, 127, 3)\n"
     ]
    },
    {
     "name": "stderr",
     "output_type": "stream",
     "text": [
      " 48%|████▊     | 3579/7439 [02:56<03:09, 20.36it/s]"
     ]
    },
    {
     "name": "stdout",
     "output_type": "stream",
     "text": [
      "(155, 125, 3)\n",
      "(142, 119, 3)\n",
      "(157, 126, 3)\n",
      "(143, 120, 3)\n",
      "(138, 116, 3)\n"
     ]
    },
    {
     "name": "stderr",
     "output_type": "stream",
     "text": [
      " 48%|████▊     | 3582/7439 [02:57<03:07, 20.58it/s]"
     ]
    },
    {
     "name": "stdout",
     "output_type": "stream",
     "text": [
      "(138, 111, 3)\n",
      "(153, 123, 3)\n",
      "(143, 114, 3)\n",
      "(138, 113, 3)\n",
      "(149, 123, 3)\n"
     ]
    },
    {
     "name": "stderr",
     "output_type": "stream",
     "text": [
      " 48%|████▊     | 3588/7439 [02:57<03:05, 20.80it/s]"
     ]
    },
    {
     "name": "stdout",
     "output_type": "stream",
     "text": [
      "(152, 124, 3)\n",
      "(156, 124, 3)\n",
      "(149, 121, 3)\n",
      "(145, 117, 3)\n",
      "(148, 116, 3)\n"
     ]
    },
    {
     "name": "stderr",
     "output_type": "stream",
     "text": [
      " 48%|████▊     | 3594/7439 [02:57<03:02, 21.07it/s]"
     ]
    },
    {
     "name": "stdout",
     "output_type": "stream",
     "text": [
      "(154, 122, 3)\n",
      "(139, 114, 3)\n",
      "(156, 126, 3)\n",
      "(150, 119, 3)\n",
      "(155, 124, 3)\n"
     ]
    },
    {
     "name": "stderr",
     "output_type": "stream",
     "text": [
      " 48%|████▊     | 3597/7439 [02:57<03:03, 20.92it/s]"
     ]
    },
    {
     "name": "stdout",
     "output_type": "stream",
     "text": [
      "(148, 120, 3)\n",
      "(179, 135, 3)\n",
      "(144, 120, 3)\n",
      "(152, 129, 3)\n",
      "(131, 108, 3)\n"
     ]
    },
    {
     "name": "stderr",
     "output_type": "stream",
     "text": [
      " 48%|████▊     | 3603/7439 [02:58<02:56, 21.68it/s]"
     ]
    },
    {
     "name": "stdout",
     "output_type": "stream",
     "text": [
      "(136, 111, 3)\n",
      "(135, 112, 3)\n",
      "(158, 123, 3)\n",
      "(138, 114, 3)\n",
      "(159, 128, 3)\n"
     ]
    },
    {
     "name": "stderr",
     "output_type": "stream",
     "text": [
      " 49%|████▊     | 3609/7439 [02:58<02:52, 22.23it/s]"
     ]
    },
    {
     "name": "stdout",
     "output_type": "stream",
     "text": [
      "(158, 127, 3)\n",
      "(155, 118, 3)\n",
      "(136, 112, 3)\n",
      "(144, 114, 3)\n",
      "(143, 117, 3)\n"
     ]
    },
    {
     "name": "stderr",
     "output_type": "stream",
     "text": [
      " 49%|████▊     | 3612/7439 [02:58<02:51, 22.31it/s]"
     ]
    },
    {
     "name": "stdout",
     "output_type": "stream",
     "text": [
      "(150, 125, 3)\n",
      "(143, 118, 3)\n",
      "(151, 125, 3)\n",
      "(139, 114, 3)\n",
      "(144, 118, 3)\n"
     ]
    },
    {
     "name": "stderr",
     "output_type": "stream",
     "text": [
      " 49%|████▊     | 3618/7439 [02:58<02:51, 22.25it/s]"
     ]
    },
    {
     "name": "stdout",
     "output_type": "stream",
     "text": [
      "(147, 119, 3)\n",
      "(144, 116, 3)\n",
      "(144, 120, 3)\n",
      "(144, 117, 3)\n",
      "(138, 116, 3)\n"
     ]
    },
    {
     "name": "stderr",
     "output_type": "stream",
     "text": [
      " 49%|████▊     | 3621/7439 [02:58<03:09, 20.18it/s]"
     ]
    },
    {
     "name": "stdout",
     "output_type": "stream",
     "text": [
      "(139, 115, 3)\n",
      "(144, 118, 3)\n",
      "(159, 128, 3)\n",
      "(154, 125, 3)\n"
     ]
    },
    {
     "name": "stderr",
     "output_type": "stream",
     "text": [
      " 49%|████▉     | 3627/7439 [02:59<03:05, 20.57it/s]"
     ]
    },
    {
     "name": "stdout",
     "output_type": "stream",
     "text": [
      "(142, 117, 3)\n",
      "(135, 113, 3)\n",
      "(141, 119, 3)\n",
      "(145, 119, 3)\n",
      "(147, 119, 3)\n"
     ]
    },
    {
     "name": "stderr",
     "output_type": "stream",
     "text": [
      " 49%|████▉     | 3633/7439 [02:59<03:04, 20.65it/s]"
     ]
    },
    {
     "name": "stdout",
     "output_type": "stream",
     "text": [
      "(150, 120, 3)\n",
      "(146, 117, 3)\n",
      "(134, 113, 3)\n",
      "(147, 121, 3)\n",
      "(148, 115, 3)\n"
     ]
    },
    {
     "name": "stderr",
     "output_type": "stream",
     "text": [
      " 49%|████▉     | 3636/7439 [02:59<03:05, 20.45it/s]"
     ]
    },
    {
     "name": "stdout",
     "output_type": "stream",
     "text": [
      "(147, 118, 3)\n",
      "(144, 117, 3)\n",
      "(144, 118, 3)\n",
      "(138, 113, 3)\n",
      "(145, 119, 3)\n"
     ]
    },
    {
     "name": "stderr",
     "output_type": "stream",
     "text": [
      " 49%|████▉     | 3642/7439 [02:59<03:03, 20.71it/s]"
     ]
    },
    {
     "name": "stdout",
     "output_type": "stream",
     "text": [
      "(155, 124, 3)\n",
      "(153, 121, 3)\n",
      "(144, 118, 3)\n",
      "(154, 120, 3)\n",
      "(147, 117, 3)\n"
     ]
    },
    {
     "name": "stderr",
     "output_type": "stream",
     "text": [
      " 49%|████▉     | 3645/7439 [03:00<03:06, 20.34it/s]"
     ]
    },
    {
     "name": "stdout",
     "output_type": "stream",
     "text": [
      "(149, 120, 3)\n",
      "(151, 120, 3)\n",
      "(150, 120, 3)\n",
      "(153, 122, 3)\n"
     ]
    },
    {
     "name": "stderr",
     "output_type": "stream",
     "text": [
      " 49%|████▉     | 3651/7439 [03:00<03:16, 19.30it/s]"
     ]
    },
    {
     "name": "stdout",
     "output_type": "stream",
     "text": [
      "(145, 119, 3)\n",
      "(136, 112, 3)\n",
      "(140, 115, 3)\n",
      "(163, 122, 3)\n"
     ]
    },
    {
     "name": "stderr",
     "output_type": "stream",
     "text": [
      " 49%|████▉     | 3654/7439 [03:00<03:14, 19.47it/s]"
     ]
    },
    {
     "name": "stdout",
     "output_type": "stream",
     "text": [
      "(155, 120, 3)\n",
      "(142, 117, 3)\n",
      "(145, 119, 3)\n",
      "(142, 117, 3)\n"
     ]
    },
    {
     "name": "stderr",
     "output_type": "stream",
     "text": [
      " 49%|████▉     | 3658/7439 [03:00<03:19, 18.97it/s]"
     ]
    },
    {
     "name": "stdout",
     "output_type": "stream",
     "text": [
      "(156, 122, 3)\n",
      "(168, 128, 3)\n",
      "(146, 117, 3)\n",
      "(155, 123, 3)\n"
     ]
    },
    {
     "name": "stderr",
     "output_type": "stream",
     "text": [
      " 49%|████▉     | 3662/7439 [03:00<03:20, 18.80it/s]"
     ]
    },
    {
     "name": "stdout",
     "output_type": "stream",
     "text": [
      "(143, 118, 3)\n",
      "(138, 114, 3)\n",
      "(147, 120, 3)\n",
      "(148, 121, 3)\n",
      "(153, 121, 3)\n"
     ]
    },
    {
     "name": "stderr",
     "output_type": "stream",
     "text": [
      " 49%|████▉     | 3668/7439 [03:01<03:11, 19.71it/s]"
     ]
    },
    {
     "name": "stdout",
     "output_type": "stream",
     "text": [
      "(147, 118, 3)\n",
      "(150, 119, 3)\n",
      "(148, 116, 3)\n",
      "(151, 121, 3)\n",
      "(151, 121, 3)\n"
     ]
    },
    {
     "name": "stderr",
     "output_type": "stream",
     "text": [
      " 49%|████▉     | 3672/7439 [03:01<03:18, 18.93it/s]"
     ]
    },
    {
     "name": "stdout",
     "output_type": "stream",
     "text": [
      "(152, 121, 3)\n",
      "(150, 121, 3)\n",
      "(164, 129, 3)\n",
      "(160, 129, 3)\n",
      "(157, 127, 3)\n"
     ]
    },
    {
     "name": "stderr",
     "output_type": "stream",
     "text": [
      " 49%|████▉     | 3678/7439 [03:01<03:00, 20.86it/s]"
     ]
    },
    {
     "name": "stdout",
     "output_type": "stream",
     "text": [
      "(162, 129, 3)\n",
      "(160, 130, 3)\n",
      "(166, 130, 3)\n",
      "(166, 132, 3)\n",
      "(160, 127, 3)\n"
     ]
    },
    {
     "name": "stderr",
     "output_type": "stream",
     "text": [
      " 50%|████▉     | 3684/7439 [03:01<02:49, 22.20it/s]"
     ]
    },
    {
     "name": "stdout",
     "output_type": "stream",
     "text": [
      "(167, 133, 3)\n",
      "(157, 128, 3)\n",
      "(154, 127, 3)\n",
      "(162, 132, 3)\n",
      "(157, 127, 3)\n"
     ]
    },
    {
     "name": "stderr",
     "output_type": "stream",
     "text": [
      " 50%|████▉     | 3687/7439 [03:02<02:46, 22.49it/s]"
     ]
    },
    {
     "name": "stdout",
     "output_type": "stream",
     "text": [
      "(167, 129, 3)\n",
      "(161, 128, 3)\n",
      "(165, 129, 3)\n",
      "(165, 131, 3)\n",
      "(160, 131, 3)\n"
     ]
    },
    {
     "name": "stderr",
     "output_type": "stream",
     "text": [
      " 50%|████▉     | 3693/7439 [03:02<02:43, 22.94it/s]"
     ]
    },
    {
     "name": "stdout",
     "output_type": "stream",
     "text": [
      "(164, 131, 3)\n",
      "(164, 132, 3)\n",
      "(159, 128, 3)\n",
      "(164, 133, 3)\n",
      "(164, 129, 3)\n"
     ]
    },
    {
     "name": "stderr",
     "output_type": "stream",
     "text": [
      " 50%|████▉     | 3699/7439 [03:02<02:48, 22.20it/s]"
     ]
    },
    {
     "name": "stdout",
     "output_type": "stream",
     "text": [
      "(160, 127, 3)\n",
      "(160, 129, 3)\n",
      "(161, 130, 3)\n",
      "(168, 132, 3)\n",
      "(162, 129, 3)\n"
     ]
    },
    {
     "name": "stderr",
     "output_type": "stream",
     "text": [
      " 50%|████▉     | 3702/7439 [03:02<02:49, 22.10it/s]"
     ]
    },
    {
     "name": "stdout",
     "output_type": "stream",
     "text": [
      "(158, 127, 3)\n",
      "(159, 130, 3)\n",
      "(160, 127, 3)\n",
      "(161, 126, 3)\n",
      "(156, 125, 3)\n"
     ]
    },
    {
     "name": "stderr",
     "output_type": "stream",
     "text": [
      " 50%|████▉     | 3708/7439 [03:03<02:49, 21.95it/s]"
     ]
    },
    {
     "name": "stdout",
     "output_type": "stream",
     "text": [
      "(156, 127, 3)\n",
      "(157, 128, 3)\n",
      "(161, 129, 3)\n",
      "(156, 126, 3)\n",
      "(158, 130, 3)\n"
     ]
    },
    {
     "name": "stderr",
     "output_type": "stream",
     "text": [
      " 50%|████▉     | 3714/7439 [03:03<02:47, 22.19it/s]"
     ]
    },
    {
     "name": "stdout",
     "output_type": "stream",
     "text": [
      "(158, 129, 3)\n",
      "(161, 130, 3)\n",
      "(159, 127, 3)\n",
      "(153, 122, 3)\n",
      "(157, 126, 3)\n"
     ]
    },
    {
     "name": "stderr",
     "output_type": "stream",
     "text": [
      " 50%|████▉     | 3717/7439 [03:03<02:48, 22.09it/s]"
     ]
    },
    {
     "name": "stdout",
     "output_type": "stream",
     "text": [
      "(161, 129, 3)\n",
      "(157, 126, 3)\n",
      "(156, 127, 3)\n",
      "(160, 128, 3)\n",
      "(162, 130, 3)\n"
     ]
    },
    {
     "name": "stderr",
     "output_type": "stream",
     "text": [
      " 50%|█████     | 3723/7439 [03:03<02:45, 22.45it/s]"
     ]
    },
    {
     "name": "stdout",
     "output_type": "stream",
     "text": [
      "(156, 126, 3)\n",
      "(165, 129, 3)\n",
      "(160, 128, 3)\n",
      "(169, 132, 3)\n",
      "(162, 129, 3)\n"
     ]
    },
    {
     "name": "stderr",
     "output_type": "stream",
     "text": [
      " 50%|█████     | 3729/7439 [03:03<02:46, 22.28it/s]"
     ]
    },
    {
     "name": "stdout",
     "output_type": "stream",
     "text": [
      "(154, 123, 3)\n",
      "(161, 127, 3)\n",
      "(165, 131, 3)\n",
      "(163, 129, 3)\n",
      "(159, 125, 3)\n"
     ]
    },
    {
     "name": "stderr",
     "output_type": "stream",
     "text": [
      " 50%|█████     | 3732/7439 [03:04<02:45, 22.35it/s]"
     ]
    },
    {
     "name": "stdout",
     "output_type": "stream",
     "text": [
      "(161, 129, 3)\n",
      "(152, 125, 3)\n",
      "(159, 129, 3)\n",
      "(165, 130, 3)\n",
      "(165, 132, 3)\n"
     ]
    },
    {
     "name": "stderr",
     "output_type": "stream",
     "text": [
      " 50%|█████     | 3738/7439 [03:04<02:44, 22.43it/s]"
     ]
    },
    {
     "name": "stdout",
     "output_type": "stream",
     "text": [
      "(163, 130, 3)\n",
      "(160, 129, 3)\n",
      "(165, 131, 3)\n",
      "(168, 132, 3)\n",
      "(175, 134, 3)\n"
     ]
    },
    {
     "name": "stderr",
     "output_type": "stream",
     "text": [
      " 50%|█████     | 3744/7439 [03:04<02:41, 22.91it/s]"
     ]
    },
    {
     "name": "stdout",
     "output_type": "stream",
     "text": [
      "(160, 129, 3)\n",
      "(162, 130, 3)\n",
      "(162, 130, 3)\n",
      "(161, 130, 3)\n",
      "(160, 127, 3)\n"
     ]
    },
    {
     "name": "stderr",
     "output_type": "stream",
     "text": [
      " 50%|█████     | 3747/7439 [03:04<02:39, 23.16it/s]"
     ]
    },
    {
     "name": "stdout",
     "output_type": "stream",
     "text": [
      "(153, 125, 3)\n",
      "(159, 129, 3)\n",
      "(159, 129, 3)\n",
      "(164, 128, 3)\n",
      "(162, 129, 3)\n"
     ]
    },
    {
     "name": "stderr",
     "output_type": "stream",
     "text": [
      " 50%|█████     | 3753/7439 [03:05<02:39, 23.10it/s]"
     ]
    },
    {
     "name": "stdout",
     "output_type": "stream",
     "text": [
      "(156, 127, 3)\n",
      "(158, 129, 3)\n",
      "(163, 127, 3)\n",
      "(165, 129, 3)\n",
      "(178, 135, 3)\n"
     ]
    },
    {
     "name": "stderr",
     "output_type": "stream",
     "text": [
      " 51%|█████     | 3759/7439 [03:05<02:38, 23.15it/s]"
     ]
    },
    {
     "name": "stdout",
     "output_type": "stream",
     "text": [
      "(164, 128, 3)\n",
      "(171, 132, 3)\n",
      "(166, 131, 3)\n",
      "(164, 128, 3)\n",
      "(172, 133, 3)\n"
     ]
    },
    {
     "name": "stderr",
     "output_type": "stream",
     "text": [
      " 51%|█████     | 3762/7439 [03:05<02:42, 22.69it/s]"
     ]
    },
    {
     "name": "stdout",
     "output_type": "stream",
     "text": [
      "(167, 131, 3)\n",
      "(169, 131, 3)\n",
      "(162, 126, 3)\n",
      "(165, 125, 3)\n",
      "(148, 118, 3)\n"
     ]
    },
    {
     "name": "stderr",
     "output_type": "stream",
     "text": [
      " 51%|█████     | 3768/7439 [03:05<02:42, 22.60it/s]"
     ]
    },
    {
     "name": "stdout",
     "output_type": "stream",
     "text": [
      "(159, 125, 3)\n",
      "(181, 140, 3)\n",
      "(159, 124, 3)\n",
      "(164, 125, 3)\n",
      "(162, 124, 3)\n"
     ]
    },
    {
     "name": "stderr",
     "output_type": "stream",
     "text": [
      " 51%|█████     | 3774/7439 [03:05<02:36, 23.36it/s]"
     ]
    },
    {
     "name": "stdout",
     "output_type": "stream",
     "text": [
      "(156, 121, 3)\n",
      "(153, 126, 3)\n",
      "(157, 124, 3)\n",
      "(163, 128, 3)\n",
      "(152, 122, 3)\n"
     ]
    },
    {
     "name": "stderr",
     "output_type": "stream",
     "text": [
      " 51%|█████     | 3777/7439 [03:06<02:38, 23.07it/s]"
     ]
    },
    {
     "name": "stdout",
     "output_type": "stream",
     "text": [
      "(162, 126, 3)\n",
      "(169, 132, 3)\n",
      "(166, 130, 3)\n",
      "(167, 132, 3)\n",
      "(155, 126, 3)\n"
     ]
    },
    {
     "name": "stderr",
     "output_type": "stream",
     "text": [
      " 51%|█████     | 3783/7439 [03:06<02:43, 22.30it/s]"
     ]
    },
    {
     "name": "stdout",
     "output_type": "stream",
     "text": [
      "(160, 127, 3)\n",
      "(172, 134, 3)\n",
      "(164, 129, 3)\n",
      "(163, 128, 3)\n",
      "(158, 129, 3)\n"
     ]
    },
    {
     "name": "stderr",
     "output_type": "stream",
     "text": [
      " 51%|█████     | 3789/7439 [03:06<02:49, 21.56it/s]"
     ]
    },
    {
     "name": "stdout",
     "output_type": "stream",
     "text": [
      "(177, 131, 3)\n",
      "(162, 127, 3)\n",
      "(166, 128, 3)\n",
      "(163, 129, 3)\n",
      "(160, 129, 3)\n"
     ]
    },
    {
     "name": "stderr",
     "output_type": "stream",
     "text": [
      " 51%|█████     | 3792/7439 [03:06<02:49, 21.50it/s]"
     ]
    },
    {
     "name": "stdout",
     "output_type": "stream",
     "text": [
      "(167, 130, 3)\n",
      "(162, 128, 3)\n",
      "(153, 119, 3)\n",
      "(160, 129, 3)\n",
      "(163, 126, 3)\n"
     ]
    },
    {
     "name": "stderr",
     "output_type": "stream",
     "text": [
      " 51%|█████     | 3798/7439 [03:07<02:49, 21.43it/s]"
     ]
    },
    {
     "name": "stdout",
     "output_type": "stream",
     "text": [
      "(152, 121, 3)\n",
      "(159, 126, 3)\n",
      "(161, 124, 3)\n",
      "(157, 124, 3)\n",
      "(163, 128, 3)\n"
     ]
    },
    {
     "name": "stderr",
     "output_type": "stream",
     "text": [
      " 51%|█████     | 3804/7439 [03:07<02:48, 21.57it/s]"
     ]
    },
    {
     "name": "stdout",
     "output_type": "stream",
     "text": [
      "(167, 130, 3)\n",
      "(165, 130, 3)\n",
      "(161, 126, 3)\n",
      "(164, 129, 3)\n",
      "(159, 129, 3)\n"
     ]
    },
    {
     "name": "stderr",
     "output_type": "stream",
     "text": [
      " 51%|█████     | 3807/7439 [03:07<02:49, 21.43it/s]"
     ]
    },
    {
     "name": "stdout",
     "output_type": "stream",
     "text": [
      "(170, 131, 3)\n",
      "(177, 138, 3)\n",
      "(171, 134, 3)\n",
      "(171, 129, 3)\n",
      "(163, 130, 3)\n"
     ]
    },
    {
     "name": "stderr",
     "output_type": "stream",
     "text": [
      " 51%|█████▏    | 3813/7439 [03:07<02:53, 20.86it/s]"
     ]
    },
    {
     "name": "stdout",
     "output_type": "stream",
     "text": [
      "(160, 126, 3)\n",
      "(157, 126, 3)\n",
      "(175, 134, 3)\n",
      "(160, 126, 3)\n",
      "(169, 133, 3)\n"
     ]
    },
    {
     "name": "stderr",
     "output_type": "stream",
     "text": [
      " 51%|█████▏    | 3819/7439 [03:08<02:53, 20.92it/s]"
     ]
    },
    {
     "name": "stdout",
     "output_type": "stream",
     "text": [
      "(161, 129, 3)\n",
      "(161, 127, 3)\n",
      "(166, 130, 3)\n",
      "(162, 129, 3)\n",
      "(172, 133, 3)\n"
     ]
    },
    {
     "name": "stderr",
     "output_type": "stream",
     "text": [
      " 51%|█████▏    | 3822/7439 [03:08<02:51, 21.09it/s]"
     ]
    },
    {
     "name": "stdout",
     "output_type": "stream",
     "text": [
      "(170, 131, 3)\n",
      "(159, 127, 3)\n",
      "(150, 120, 3)\n",
      "(154, 125, 3)\n",
      "(166, 127, 3)\n"
     ]
    },
    {
     "name": "stderr",
     "output_type": "stream",
     "text": [
      " 51%|█████▏    | 3828/7439 [03:08<02:48, 21.43it/s]"
     ]
    },
    {
     "name": "stdout",
     "output_type": "stream",
     "text": [
      "(167, 129, 3)\n",
      "(157, 127, 3)\n",
      "(165, 127, 3)\n",
      "(155, 124, 3)\n",
      "(166, 128, 3)\n"
     ]
    },
    {
     "name": "stderr",
     "output_type": "stream",
     "text": [
      " 52%|█████▏    | 3834/7439 [03:08<02:51, 21.01it/s]"
     ]
    },
    {
     "name": "stdout",
     "output_type": "stream",
     "text": [
      "(167, 125, 3)\n",
      "(158, 122, 3)\n",
      "(164, 132, 3)\n",
      "(160, 124, 3)\n",
      "(160, 126, 3)\n"
     ]
    },
    {
     "name": "stderr",
     "output_type": "stream",
     "text": [
      " 52%|█████▏    | 3837/7439 [03:08<02:50, 21.10it/s]"
     ]
    },
    {
     "name": "stdout",
     "output_type": "stream",
     "text": [
      "(169, 127, 3)\n",
      "(182, 143, 3)\n",
      "(172, 136, 3)\n",
      "(175, 137, 3)\n",
      "(171, 137, 3)\n"
     ]
    },
    {
     "name": "stderr",
     "output_type": "stream",
     "text": [
      " 52%|█████▏    | 3843/7439 [03:09<03:08, 19.12it/s]"
     ]
    },
    {
     "name": "stdout",
     "output_type": "stream",
     "text": [
      "(180, 142, 3)\n",
      "(171, 138, 3)\n",
      "(184, 144, 3)\n",
      "(185, 145, 3)\n"
     ]
    },
    {
     "name": "stderr",
     "output_type": "stream",
     "text": [
      " 52%|█████▏    | 3846/7439 [03:09<03:01, 19.82it/s]"
     ]
    },
    {
     "name": "stdout",
     "output_type": "stream",
     "text": [
      "(176, 140, 3)\n",
      "(165, 133, 3)\n",
      "(171, 136, 3)\n",
      "(164, 134, 3)\n",
      "(164, 128, 3)\n"
     ]
    },
    {
     "name": "stderr",
     "output_type": "stream",
     "text": [
      " 52%|█████▏    | 3852/7439 [03:09<02:50, 21.05it/s]"
     ]
    },
    {
     "name": "stdout",
     "output_type": "stream",
     "text": [
      "(178, 137, 3)\n",
      "(179, 136, 3)\n",
      "(171, 135, 3)\n",
      "(170, 136, 3)\n",
      "(170, 134, 3)\n"
     ]
    },
    {
     "name": "stderr",
     "output_type": "stream",
     "text": [
      " 52%|█████▏    | 3858/7439 [03:09<02:48, 21.24it/s]"
     ]
    },
    {
     "name": "stdout",
     "output_type": "stream",
     "text": [
      "(180, 138, 3)\n",
      "(182, 142, 3)\n",
      "(175, 137, 3)\n",
      "(183, 143, 3)\n",
      "(179, 143, 3)\n"
     ]
    },
    {
     "name": "stderr",
     "output_type": "stream",
     "text": [
      " 52%|█████▏    | 3861/7439 [03:10<02:50, 21.04it/s]"
     ]
    },
    {
     "name": "stdout",
     "output_type": "stream",
     "text": [
      "(174, 138, 3)\n",
      "(182, 141, 3)\n",
      "(195, 148, 3)\n",
      "(178, 143, 3)\n",
      "(175, 140, 3)\n"
     ]
    },
    {
     "name": "stderr",
     "output_type": "stream",
     "text": [
      " 52%|█████▏    | 3867/7439 [03:10<02:53, 20.57it/s]"
     ]
    },
    {
     "name": "stdout",
     "output_type": "stream",
     "text": [
      "(177, 143, 3)\n",
      "(165, 135, 3)\n",
      "(177, 137, 3)\n",
      "(184, 143, 3)\n",
      "(180, 141, 3)\n"
     ]
    },
    {
     "name": "stderr",
     "output_type": "stream",
     "text": [
      " 52%|█████▏    | 3873/7439 [03:10<02:54, 20.44it/s]"
     ]
    },
    {
     "name": "stdout",
     "output_type": "stream",
     "text": [
      "(178, 143, 3)\n",
      "(185, 150, 3)\n",
      "(171, 137, 3)\n",
      "(184, 149, 3)\n",
      "(196, 151, 3)\n"
     ]
    },
    {
     "name": "stderr",
     "output_type": "stream",
     "text": [
      " 52%|█████▏    | 3876/7439 [03:10<02:51, 20.77it/s]"
     ]
    },
    {
     "name": "stdout",
     "output_type": "stream",
     "text": [
      "(190, 149, 3)\n",
      "(183, 146, 3)\n",
      "(172, 139, 3)\n",
      "(157, 127, 3)\n",
      "(186, 143, 3)\n"
     ]
    },
    {
     "name": "stderr",
     "output_type": "stream",
     "text": [
      " 52%|█████▏    | 3882/7439 [03:11<02:50, 20.81it/s]"
     ]
    },
    {
     "name": "stdout",
     "output_type": "stream",
     "text": [
      "(194, 149, 3)\n",
      "(177, 142, 3)\n",
      "(175, 143, 3)\n",
      "(175, 143, 3)\n",
      "(168, 137, 3)\n"
     ]
    },
    {
     "name": "stderr",
     "output_type": "stream",
     "text": [
      " 52%|█████▏    | 3888/7439 [03:11<02:49, 20.97it/s]"
     ]
    },
    {
     "name": "stdout",
     "output_type": "stream",
     "text": [
      "(169, 137, 3)\n",
      "(181, 146, 3)\n",
      "(176, 141, 3)\n",
      "(176, 141, 3)\n",
      "(175, 139, 3)\n"
     ]
    },
    {
     "name": "stderr",
     "output_type": "stream",
     "text": [
      " 52%|█████▏    | 3891/7439 [03:11<02:54, 20.37it/s]"
     ]
    },
    {
     "name": "stdout",
     "output_type": "stream",
     "text": [
      "(179, 141, 3)\n",
      "(177, 142, 3)\n",
      "(187, 145, 3)\n",
      "(185, 146, 3)\n",
      "(161, 133, 3)\n"
     ]
    },
    {
     "name": "stderr",
     "output_type": "stream",
     "text": [
      " 52%|█████▏    | 3897/7439 [03:11<02:54, 20.35it/s]"
     ]
    },
    {
     "name": "stdout",
     "output_type": "stream",
     "text": [
      "(179, 146, 3)\n",
      "(173, 138, 3)\n",
      "(175, 140, 3)\n",
      "(186, 143, 3)\n",
      "(173, 140, 3)\n"
     ]
    },
    {
     "name": "stderr",
     "output_type": "stream",
     "text": [
      " 52%|█████▏    | 3900/7439 [03:11<02:55, 20.20it/s]"
     ]
    },
    {
     "name": "stdout",
     "output_type": "stream",
     "text": [
      "(172, 139, 3)\n",
      "(180, 143, 3)\n",
      "(172, 136, 3)\n",
      "(175, 139, 3)\n"
     ]
    },
    {
     "name": "stderr",
     "output_type": "stream",
     "text": [
      " 52%|█████▏    | 3905/7439 [03:12<03:02, 19.37it/s]"
     ]
    },
    {
     "name": "stdout",
     "output_type": "stream",
     "text": [
      "(178, 141, 3)\n",
      "(179, 141, 3)\n",
      "(180, 142, 3)\n",
      "(186, 150, 3)\n"
     ]
    },
    {
     "name": "stderr",
     "output_type": "stream",
     "text": [
      " 53%|█████▎    | 3911/7439 [03:12<02:54, 20.21it/s]"
     ]
    },
    {
     "name": "stdout",
     "output_type": "stream",
     "text": [
      "(169, 139, 3)\n",
      "(174, 138, 3)\n",
      "(190, 143, 3)\n",
      "(173, 139, 3)\n",
      "(181, 145, 3)\n"
     ]
    },
    {
     "name": "stderr",
     "output_type": "stream",
     "text": [
      " 53%|█████▎    | 3914/7439 [03:12<03:00, 19.58it/s]"
     ]
    },
    {
     "name": "stdout",
     "output_type": "stream",
     "text": [
      "(180, 144, 3)\n",
      "(175, 135, 3)\n",
      "(170, 138, 3)\n",
      "(189, 147, 3)\n"
     ]
    },
    {
     "name": "stderr",
     "output_type": "stream",
     "text": [
      " 53%|█████▎    | 3919/7439 [03:12<02:58, 19.69it/s]"
     ]
    },
    {
     "name": "stdout",
     "output_type": "stream",
     "text": [
      "(186, 147, 3)\n",
      "(176, 135, 3)\n",
      "(153, 124, 3)\n",
      "(158, 123, 3)\n",
      "(154, 122, 3)\n"
     ]
    },
    {
     "name": "stderr",
     "output_type": "stream",
     "text": [
      " 53%|█████▎    | 3925/7439 [03:13<02:48, 20.81it/s]"
     ]
    },
    {
     "name": "stdout",
     "output_type": "stream",
     "text": [
      "(171, 133, 3)\n",
      "(151, 122, 3)\n",
      "(146, 119, 3)\n",
      "(169, 134, 3)\n",
      "(162, 130, 3)\n"
     ]
    },
    {
     "name": "stderr",
     "output_type": "stream",
     "text": [
      " 53%|█████▎    | 3928/7439 [03:13<02:45, 21.22it/s]"
     ]
    },
    {
     "name": "stdout",
     "output_type": "stream",
     "text": [
      "(162, 130, 3)\n",
      "(141, 113, 3)\n",
      "(144, 119, 3)\n",
      "(143, 119, 3)\n",
      "(148, 119, 3)\n"
     ]
    },
    {
     "name": "stderr",
     "output_type": "stream",
     "text": [
      " 53%|█████▎    | 3934/7439 [03:13<02:39, 22.03it/s]"
     ]
    },
    {
     "name": "stdout",
     "output_type": "stream",
     "text": [
      "(149, 120, 3)\n",
      "(149, 120, 3)\n",
      "(168, 130, 3)\n",
      "(153, 123, 3)\n",
      "(161, 129, 3)\n"
     ]
    },
    {
     "name": "stderr",
     "output_type": "stream",
     "text": [
      " 53%|█████▎    | 3940/7439 [03:13<02:40, 21.86it/s]"
     ]
    },
    {
     "name": "stdout",
     "output_type": "stream",
     "text": [
      "(145, 117, 3)\n",
      "(156, 123, 3)\n",
      "(153, 123, 3)\n",
      "(150, 119, 3)\n",
      "(153, 122, 3)\n"
     ]
    },
    {
     "name": "stderr",
     "output_type": "stream",
     "text": [
      " 53%|█████▎    | 3943/7439 [03:14<02:37, 22.19it/s]"
     ]
    },
    {
     "name": "stdout",
     "output_type": "stream",
     "text": [
      "(143, 118, 3)\n",
      "(145, 116, 3)\n",
      "(159, 128, 3)\n",
      "(148, 121, 3)\n",
      "(153, 122, 3)\n"
     ]
    },
    {
     "name": "stderr",
     "output_type": "stream",
     "text": [
      " 53%|█████▎    | 3949/7439 [03:14<02:44, 21.16it/s]"
     ]
    },
    {
     "name": "stdout",
     "output_type": "stream",
     "text": [
      "(155, 124, 3)\n",
      "(152, 124, 3)\n",
      "(146, 119, 3)\n",
      "(155, 126, 3)\n",
      "(143, 119, 3)\n"
     ]
    },
    {
     "name": "stderr",
     "output_type": "stream",
     "text": [
      " 53%|█████▎    | 3955/7439 [03:14<02:42, 21.38it/s]"
     ]
    },
    {
     "name": "stdout",
     "output_type": "stream",
     "text": [
      "(145, 118, 3)\n",
      "(155, 125, 3)\n",
      "(146, 121, 3)\n",
      "(149, 121, 3)\n",
      "(159, 128, 3)\n"
     ]
    },
    {
     "name": "stderr",
     "output_type": "stream",
     "text": [
      " 53%|█████▎    | 3958/7439 [03:14<02:43, 21.33it/s]"
     ]
    },
    {
     "name": "stdout",
     "output_type": "stream",
     "text": [
      "(140, 118, 3)\n",
      "(151, 121, 3)\n",
      "(154, 125, 3)\n",
      "(152, 120, 3)\n",
      "(150, 122, 3)\n"
     ]
    },
    {
     "name": "stderr",
     "output_type": "stream",
     "text": [
      " 53%|█████▎    | 3964/7439 [03:15<02:42, 21.32it/s]"
     ]
    },
    {
     "name": "stdout",
     "output_type": "stream",
     "text": [
      "(144, 129, 3)\n",
      "(143, 120, 3)\n",
      "(153, 124, 3)\n",
      "(157, 128, 3)\n",
      "(147, 120, 3)\n"
     ]
    },
    {
     "name": "stderr",
     "output_type": "stream",
     "text": [
      " 53%|█████▎    | 3970/7439 [03:15<02:40, 21.62it/s]"
     ]
    },
    {
     "name": "stdout",
     "output_type": "stream",
     "text": [
      "(152, 121, 3)\n",
      "(155, 124, 3)\n",
      "(143, 119, 3)\n",
      "(151, 121, 3)\n",
      "(160, 127, 3)\n"
     ]
    },
    {
     "name": "stderr",
     "output_type": "stream",
     "text": [
      " 53%|█████▎    | 3973/7439 [03:15<02:44, 21.06it/s]"
     ]
    },
    {
     "name": "stdout",
     "output_type": "stream",
     "text": [
      "(151, 123, 3)\n",
      "(147, 118, 3)\n",
      "(153, 126, 3)\n",
      "(136, 118, 3)\n",
      "(151, 123, 3)\n"
     ]
    },
    {
     "name": "stderr",
     "output_type": "stream",
     "text": [
      " 53%|█████▎    | 3979/7439 [03:15<02:43, 21.20it/s]"
     ]
    },
    {
     "name": "stdout",
     "output_type": "stream",
     "text": [
      "(162, 131, 3)\n",
      "(148, 120, 3)\n",
      "(145, 116, 3)\n",
      "(150, 122, 3)\n",
      "(141, 117, 3)\n"
     ]
    },
    {
     "name": "stderr",
     "output_type": "stream",
     "text": [
      " 54%|█████▎    | 3985/7439 [03:16<02:45, 20.86it/s]"
     ]
    },
    {
     "name": "stdout",
     "output_type": "stream",
     "text": [
      "(157, 126, 3)\n",
      "(155, 125, 3)\n",
      "(143, 118, 3)\n",
      "(151, 120, 3)\n",
      "(157, 125, 3)\n"
     ]
    },
    {
     "name": "stderr",
     "output_type": "stream",
     "text": [
      " 54%|█████▎    | 3988/7439 [03:16<02:45, 20.85it/s]"
     ]
    },
    {
     "name": "stdout",
     "output_type": "stream",
     "text": [
      "(154, 120, 3)\n",
      "(151, 120, 3)\n",
      "(158, 127, 3)\n",
      "(149, 121, 3)\n",
      "(144, 117, 3)\n"
     ]
    },
    {
     "name": "stderr",
     "output_type": "stream",
     "text": [
      " 54%|█████▎    | 3994/7439 [03:16<02:46, 20.71it/s]"
     ]
    },
    {
     "name": "stdout",
     "output_type": "stream",
     "text": [
      "(158, 129, 3)\n",
      "(142, 117, 3)\n",
      "(148, 119, 3)\n",
      "(155, 121, 3)\n",
      "(148, 121, 3)\n"
     ]
    },
    {
     "name": "stderr",
     "output_type": "stream",
     "text": [
      " 54%|█████▍    | 4000/7439 [03:16<02:47, 20.56it/s]"
     ]
    },
    {
     "name": "stdout",
     "output_type": "stream",
     "text": [
      "(144, 120, 3)\n",
      "(160, 128, 3)\n",
      "(147, 122, 3)\n",
      "(158, 127, 3)\n",
      "(185, 146, 3)\n"
     ]
    },
    {
     "name": "stderr",
     "output_type": "stream",
     "text": [
      " 54%|█████▍    | 4003/7439 [03:16<02:50, 20.13it/s]"
     ]
    },
    {
     "name": "stdout",
     "output_type": "stream",
     "text": [
      "(175, 140, 3)\n",
      "(177, 145, 3)\n",
      "(182, 147, 3)\n",
      "(186, 148, 3)\n",
      "(184, 146, 3)\n"
     ]
    },
    {
     "name": "stderr",
     "output_type": "stream",
     "text": [
      " 54%|█████▍    | 4009/7439 [03:17<02:40, 21.37it/s]"
     ]
    },
    {
     "name": "stdout",
     "output_type": "stream",
     "text": [
      "(198, 153, 3)\n",
      "(191, 153, 3)\n",
      "(184, 151, 3)\n",
      "(179, 144, 3)\n",
      "(180, 149, 3)\n"
     ]
    },
    {
     "name": "stderr",
     "output_type": "stream",
     "text": [
      " 54%|█████▍    | 4015/7439 [03:17<02:35, 21.98it/s]"
     ]
    },
    {
     "name": "stdout",
     "output_type": "stream",
     "text": [
      "(173, 140, 3)\n",
      "(210, 163, 3)\n",
      "(193, 154, 3)\n",
      "(187, 149, 3)\n",
      "(183, 144, 3)\n"
     ]
    },
    {
     "name": "stderr",
     "output_type": "stream",
     "text": [
      " 54%|█████▍    | 4018/7439 [03:17<02:32, 22.41it/s]"
     ]
    },
    {
     "name": "stdout",
     "output_type": "stream",
     "text": [
      "(173, 142, 3)\n",
      "(181, 146, 3)\n",
      "(181, 146, 3)\n",
      "(188, 149, 3)\n",
      "(178, 142, 3)\n"
     ]
    },
    {
     "name": "stderr",
     "output_type": "stream",
     "text": [
      " 54%|█████▍    | 4024/7439 [03:17<02:37, 21.63it/s]"
     ]
    },
    {
     "name": "stdout",
     "output_type": "stream",
     "text": [
      "(187, 145, 3)\n",
      "(184, 145, 3)\n",
      "(174, 140, 3)\n",
      "(172, 139, 3)\n",
      "(174, 142, 3)\n"
     ]
    },
    {
     "name": "stderr",
     "output_type": "stream",
     "text": [
      " 54%|█████▍    | 4027/7439 [03:18<02:35, 21.94it/s]"
     ]
    },
    {
     "name": "stdout",
     "output_type": "stream",
     "text": [
      "(180, 142, 3)\n",
      "(176, 144, 3)\n",
      "(188, 146, 3)\n",
      "(166, 137, 3)\n"
     ]
    },
    {
     "name": "stderr",
     "output_type": "stream",
     "text": [
      " 54%|█████▍    | 4033/7439 [03:18<02:43, 20.78it/s]"
     ]
    },
    {
     "name": "stdout",
     "output_type": "stream",
     "text": [
      "(183, 146, 3)\n",
      "(180, 146, 3)\n",
      "(183, 145, 3)\n",
      "(180, 143, 3)\n",
      "(179, 145, 3)\n"
     ]
    },
    {
     "name": "stderr",
     "output_type": "stream",
     "text": [
      " 54%|█████▍    | 4039/7439 [03:18<02:48, 20.20it/s]"
     ]
    },
    {
     "name": "stdout",
     "output_type": "stream",
     "text": [
      "(166, 136, 3)\n",
      "(168, 135, 3)\n",
      "(177, 144, 3)\n",
      "(173, 139, 3)\n",
      "(177, 143, 3)\n"
     ]
    },
    {
     "name": "stderr",
     "output_type": "stream",
     "text": [
      " 54%|█████▍    | 4042/7439 [03:18<02:51, 19.79it/s]"
     ]
    },
    {
     "name": "stdout",
     "output_type": "stream",
     "text": [
      "(187, 149, 3)\n",
      "(183, 148, 3)\n",
      "(184, 147, 3)\n",
      "(174, 140, 3)\n"
     ]
    },
    {
     "name": "stderr",
     "output_type": "stream",
     "text": [
      " 54%|█████▍    | 4048/7439 [03:19<02:49, 19.97it/s]"
     ]
    },
    {
     "name": "stdout",
     "output_type": "stream",
     "text": [
      "(173, 138, 3)\n",
      "(181, 145, 3)\n",
      "(172, 141, 3)\n",
      "(171, 138, 3)\n",
      "(176, 142, 3)\n"
     ]
    },
    {
     "name": "stderr",
     "output_type": "stream",
     "text": [
      " 54%|█████▍    | 4051/7439 [03:19<02:42, 20.85it/s]"
     ]
    },
    {
     "name": "stdout",
     "output_type": "stream",
     "text": [
      "(172, 140, 3)\n",
      "(180, 144, 3)\n",
      "(172, 139, 3)\n",
      "(192, 152, 3)\n",
      "(166, 135, 3)\n"
     ]
    },
    {
     "name": "stderr",
     "output_type": "stream",
     "text": [
      " 55%|█████▍    | 4057/7439 [03:19<02:48, 20.12it/s]"
     ]
    },
    {
     "name": "stdout",
     "output_type": "stream",
     "text": [
      "(190, 151, 3)\n",
      "(190, 153, 3)\n",
      "(184, 142, 3)\n",
      "(189, 147, 3)\n"
     ]
    },
    {
     "name": "stderr",
     "output_type": "stream",
     "text": [
      " 55%|█████▍    | 4060/7439 [03:19<02:54, 19.35it/s]"
     ]
    },
    {
     "name": "stdout",
     "output_type": "stream",
     "text": [
      "(189, 146, 3)\n",
      "(167, 132, 3)\n",
      "(184, 148, 3)\n",
      "(180, 146, 3)\n",
      "(175, 139, 3)\n"
     ]
    },
    {
     "name": "stderr",
     "output_type": "stream",
     "text": [
      " 55%|█████▍    | 4066/7439 [03:19<02:50, 19.80it/s]"
     ]
    },
    {
     "name": "stdout",
     "output_type": "stream",
     "text": [
      "(181, 145, 3)\n",
      "(175, 139, 3)\n",
      "(175, 139, 3)\n",
      "(175, 140, 3)\n"
     ]
    },
    {
     "name": "stderr",
     "output_type": "stream",
     "text": [
      " 55%|█████▍    | 4070/7439 [03:20<02:50, 19.73it/s]"
     ]
    },
    {
     "name": "stdout",
     "output_type": "stream",
     "text": [
      "(174, 142, 3)\n",
      "(179, 144, 3)\n",
      "(173, 138, 3)\n",
      "(181, 143, 3)\n"
     ]
    },
    {
     "name": "stderr",
     "output_type": "stream",
     "text": [
      " 55%|█████▍    | 4072/7439 [03:20<02:55, 19.23it/s]"
     ]
    },
    {
     "name": "stdout",
     "output_type": "stream",
     "text": [
      "(175, 140, 3)\n",
      "(188, 148, 3)\n",
      "(186, 151, 3)\n",
      "(173, 141, 3)\n"
     ]
    },
    {
     "name": "stderr",
     "output_type": "stream",
     "text": [
      " 55%|█████▍    | 4077/7439 [03:20<03:00, 18.58it/s]"
     ]
    },
    {
     "name": "stdout",
     "output_type": "stream",
     "text": [
      "(175, 141, 3)\n",
      "(186, 148, 3)\n",
      "(179, 143, 3)\n",
      "(185, 147, 3)\n"
     ]
    },
    {
     "name": "stderr",
     "output_type": "stream",
     "text": [
      " 55%|█████▍    | 4081/7439 [03:20<03:01, 18.53it/s]"
     ]
    },
    {
     "name": "stdout",
     "output_type": "stream",
     "text": [
      "(187, 150, 3)\n",
      "(176, 141, 3)\n",
      "(175, 138, 3)\n",
      "(184, 145, 3)\n"
     ]
    },
    {
     "name": "stderr",
     "output_type": "stream",
     "text": [
      " 55%|█████▍    | 4087/7439 [03:21<02:39, 21.06it/s]"
     ]
    },
    {
     "name": "stdout",
     "output_type": "stream",
     "text": [
      "(177, 138, 3)\n",
      "(191, 148, 3)\n",
      "(188, 149, 3)\n",
      "(170, 136, 3)\n",
      "(183, 142, 3)\n"
     ]
    },
    {
     "name": "stderr",
     "output_type": "stream",
     "text": [
      " 55%|█████▍    | 4090/7439 [03:21<02:34, 21.66it/s]"
     ]
    },
    {
     "name": "stdout",
     "output_type": "stream",
     "text": [
      "(173, 140, 3)\n",
      "(187, 145, 3)\n",
      "(189, 147, 3)\n",
      "(184, 144, 3)\n",
      "(186, 145, 3)\n"
     ]
    },
    {
     "name": "stderr",
     "output_type": "stream",
     "text": [
      " 55%|█████▌    | 4096/7439 [03:21<02:35, 21.56it/s]"
     ]
    },
    {
     "name": "stdout",
     "output_type": "stream",
     "text": [
      "(178, 140, 3)\n",
      "(187, 150, 3)\n",
      "(188, 148, 3)\n",
      "(179, 142, 3)\n",
      "(187, 145, 3)\n"
     ]
    },
    {
     "name": "stderr",
     "output_type": "stream",
     "text": [
      " 55%|█████▌    | 4102/7439 [03:21<02:36, 21.34it/s]"
     ]
    },
    {
     "name": "stdout",
     "output_type": "stream",
     "text": [
      "(185, 147, 3)\n",
      "(174, 141, 3)\n",
      "(178, 142, 3)\n",
      "(187, 147, 3)\n",
      "(186, 143, 3)\n"
     ]
    },
    {
     "name": "stderr",
     "output_type": "stream",
     "text": [
      " 55%|█████▌    | 4105/7439 [03:21<02:36, 21.24it/s]"
     ]
    },
    {
     "name": "stdout",
     "output_type": "stream",
     "text": [
      "(180, 144, 3)\n",
      "(184, 147, 3)\n",
      "(183, 143, 3)\n",
      "(187, 142, 3)\n",
      "(191, 150, 3)\n"
     ]
    },
    {
     "name": "stderr",
     "output_type": "stream",
     "text": [
      " 55%|█████▌    | 4111/7439 [03:22<02:38, 20.95it/s]"
     ]
    },
    {
     "name": "stdout",
     "output_type": "stream",
     "text": [
      "(177, 141, 3)\n",
      "(178, 140, 3)\n",
      "(172, 139, 3)\n",
      "(179, 142, 3)\n"
     ]
    },
    {
     "name": "stderr",
     "output_type": "stream",
     "text": [
      " 55%|█████▌    | 4114/7439 [03:22<02:38, 20.97it/s]"
     ]
    },
    {
     "name": "stdout",
     "output_type": "stream",
     "text": [
      "(173, 138, 3)\n",
      "(184, 147, 3)\n",
      "(178, 138, 3)\n",
      "(190, 148, 3)\n",
      "(173, 138, 3)\n"
     ]
    },
    {
     "name": "stderr",
     "output_type": "stream",
     "text": [
      " 55%|█████▌    | 4120/7439 [03:22<02:43, 20.33it/s]"
     ]
    },
    {
     "name": "stdout",
     "output_type": "stream",
     "text": [
      "(183, 143, 3)\n",
      "(187, 146, 3)\n",
      "(188, 147, 3)\n",
      "(178, 139, 3)\n",
      "(186, 142, 3)\n"
     ]
    },
    {
     "name": "stderr",
     "output_type": "stream",
     "text": [
      " 55%|█████▌    | 4126/7439 [03:22<02:41, 20.57it/s]"
     ]
    },
    {
     "name": "stdout",
     "output_type": "stream",
     "text": [
      "(190, 149, 3)\n",
      "(178, 141, 3)\n",
      "(194, 149, 3)\n",
      "(183, 143, 3)\n",
      "(175, 138, 3)\n"
     ]
    },
    {
     "name": "stderr",
     "output_type": "stream",
     "text": [
      " 56%|█████▌    | 4129/7439 [03:23<02:44, 20.06it/s]"
     ]
    },
    {
     "name": "stdout",
     "output_type": "stream",
     "text": [
      "(176, 138, 3)\n",
      "(175, 142, 3)\n",
      "(180, 144, 3)\n",
      "(169, 138, 3)\n",
      "(175, 142, 3)\n"
     ]
    },
    {
     "name": "stderr",
     "output_type": "stream",
     "text": [
      " 56%|█████▌    | 4135/7439 [03:23<02:42, 20.38it/s]"
     ]
    },
    {
     "name": "stdout",
     "output_type": "stream",
     "text": [
      "(179, 143, 3)\n",
      "(175, 139, 3)\n",
      "(176, 141, 3)\n",
      "(178, 143, 3)\n"
     ]
    },
    {
     "name": "stderr",
     "output_type": "stream",
     "text": [
      " 56%|█████▌    | 4138/7439 [03:23<02:42, 20.28it/s]"
     ]
    },
    {
     "name": "stdout",
     "output_type": "stream",
     "text": [
      "(182, 143, 3)\n",
      "(191, 148, 3)\n",
      "(171, 138, 3)\n",
      "(187, 143, 3)\n"
     ]
    },
    {
     "name": "stderr",
     "output_type": "stream",
     "text": [
      " 56%|█████▌    | 4144/7439 [03:23<02:42, 20.23it/s]"
     ]
    },
    {
     "name": "stdout",
     "output_type": "stream",
     "text": [
      "(184, 143, 3)\n",
      "(185, 146, 3)\n",
      "(184, 145, 3)\n",
      "(186, 144, 3)\n",
      "(172, 137, 3)\n"
     ]
    },
    {
     "name": "stderr",
     "output_type": "stream",
     "text": [
      " 56%|█████▌    | 4147/7439 [03:23<02:48, 19.58it/s]"
     ]
    },
    {
     "name": "stdout",
     "output_type": "stream",
     "text": [
      "(173, 138, 3)\n",
      "(185, 147, 3)\n",
      "(178, 140, 3)\n",
      "(187, 144, 3)\n"
     ]
    },
    {
     "name": "stderr",
     "output_type": "stream",
     "text": [
      " 56%|█████▌    | 4151/7439 [03:24<02:54, 18.81it/s]"
     ]
    },
    {
     "name": "stdout",
     "output_type": "stream",
     "text": [
      "(176, 143, 3)\n",
      "(177, 142, 3)\n",
      "(190, 146, 3)\n",
      "(173, 138, 3)\n"
     ]
    },
    {
     "name": "stderr",
     "output_type": "stream",
     "text": [
      " 56%|█████▌    | 4157/7439 [03:24<02:42, 20.26it/s]"
     ]
    },
    {
     "name": "stdout",
     "output_type": "stream",
     "text": [
      "(180, 143, 3)\n",
      "(189, 147, 3)\n",
      "(177, 144, 3)\n",
      "(175, 141, 3)\n",
      "(178, 142, 3)\n"
     ]
    },
    {
     "name": "stderr",
     "output_type": "stream",
     "text": [
      " 56%|█████▌    | 4160/7439 [03:24<02:44, 19.88it/s]"
     ]
    },
    {
     "name": "stdout",
     "output_type": "stream",
     "text": [
      "(175, 140, 3)\n",
      "(174, 138, 3)\n",
      "(189, 147, 3)\n",
      "(185, 143, 3)\n",
      "(183, 142, 3)\n"
     ]
    },
    {
     "name": "stderr",
     "output_type": "stream",
     "text": [
      " 56%|█████▌    | 4166/7439 [03:24<02:35, 21.11it/s]"
     ]
    },
    {
     "name": "stdout",
     "output_type": "stream",
     "text": [
      "(185, 148, 3)\n",
      "(160, 124, 3)\n",
      "(169, 125, 3)\n",
      "(161, 125, 3)\n",
      "(172, 132, 3)\n"
     ]
    },
    {
     "name": "stderr",
     "output_type": "stream",
     "text": [
      " 56%|█████▌    | 4169/7439 [03:25<02:33, 21.34it/s]"
     ]
    },
    {
     "name": "stdout",
     "output_type": "stream",
     "text": [
      "(171, 131, 3)\n",
      "(160, 124, 3)\n",
      "(162, 127, 3)\n",
      "(172, 128, 3)\n"
     ]
    },
    {
     "name": "stderr",
     "output_type": "stream",
     "text": [
      " 56%|█████▌    | 4175/7439 [03:25<02:39, 20.41it/s]"
     ]
    },
    {
     "name": "stdout",
     "output_type": "stream",
     "text": [
      "(163, 122, 3)\n",
      "(152, 117, 3)\n",
      "(167, 122, 3)\n",
      "(158, 121, 3)\n"
     ]
    },
    {
     "name": "stderr",
     "output_type": "stream",
     "text": [
      " 56%|█████▌    | 4178/7439 [03:25<02:42, 20.10it/s]"
     ]
    },
    {
     "name": "stdout",
     "output_type": "stream",
     "text": [
      "(166, 129, 3)\n",
      "(150, 119, 3)\n",
      "(159, 123, 3)\n",
      "(161, 124, 3)\n",
      "(168, 125, 3)\n"
     ]
    },
    {
     "name": "stderr",
     "output_type": "stream",
     "text": [
      " 56%|█████▌    | 4184/7439 [03:25<02:40, 20.27it/s]"
     ]
    },
    {
     "name": "stdout",
     "output_type": "stream",
     "text": [
      "(152, 120, 3)\n",
      "(156, 119, 3)\n",
      "(155, 121, 3)\n",
      "(157, 123, 3)\n"
     ]
    },
    {
     "name": "stderr",
     "output_type": "stream",
     "text": [
      " 56%|█████▋    | 4187/7439 [03:25<02:37, 20.62it/s]"
     ]
    },
    {
     "name": "stdout",
     "output_type": "stream",
     "text": [
      "(173, 128, 3)\n",
      "(155, 122, 3)\n",
      "(177, 129, 3)\n",
      "(155, 122, 3)\n",
      "(161, 122, 3)\n"
     ]
    },
    {
     "name": "stderr",
     "output_type": "stream",
     "text": [
      " 56%|█████▋    | 4193/7439 [03:26<02:41, 20.12it/s]"
     ]
    },
    {
     "name": "stdout",
     "output_type": "stream",
     "text": [
      "(158, 118, 3)\n",
      "(158, 119, 3)\n",
      "(173, 128, 3)\n",
      "(160, 127, 3)\n"
     ]
    },
    {
     "name": "stderr",
     "output_type": "stream",
     "text": [
      " 56%|█████▋    | 4196/7439 [03:26<02:41, 20.13it/s]"
     ]
    },
    {
     "name": "stdout",
     "output_type": "stream",
     "text": [
      "(165, 125, 3)\n",
      "(165, 128, 3)\n",
      "(169, 126, 3)\n",
      "(180, 133, 3)\n",
      "(156, 123, 3)\n"
     ]
    },
    {
     "name": "stderr",
     "output_type": "stream",
     "text": [
      " 56%|█████▋    | 4202/7439 [03:26<02:42, 19.95it/s]"
     ]
    },
    {
     "name": "stdout",
     "output_type": "stream",
     "text": [
      "(157, 126, 3)\n",
      "(163, 126, 3)\n",
      "(177, 137, 3)\n",
      "(161, 127, 3)\n"
     ]
    },
    {
     "name": "stderr",
     "output_type": "stream",
     "text": [
      " 57%|█████▋    | 4206/7439 [03:26<02:45, 19.49it/s]"
     ]
    },
    {
     "name": "stdout",
     "output_type": "stream",
     "text": [
      "(174, 133, 3)\n",
      "(164, 125, 3)\n",
      "(157, 123, 3)\n",
      "(161, 124, 3)\n"
     ]
    },
    {
     "name": "stderr",
     "output_type": "stream",
     "text": [
      " 57%|█████▋    | 4208/7439 [03:26<02:45, 19.57it/s]"
     ]
    },
    {
     "name": "stdout",
     "output_type": "stream",
     "text": [
      "(135, 113, 3)\n",
      "(143, 114, 3)\n",
      "(158, 122, 3)\n"
     ]
    },
    {
     "name": "stderr",
     "output_type": "stream",
     "text": [
      " 57%|█████▋    | 4212/7439 [03:27<03:33, 15.12it/s]"
     ]
    },
    {
     "name": "stdout",
     "output_type": "stream",
     "text": [
      "(148, 117, 3)\n",
      "(159, 124, 3)\n",
      "(159, 123, 3)\n"
     ]
    },
    {
     "name": "stderr",
     "output_type": "stream",
     "text": [
      " 57%|█████▋    | 4215/7439 [03:27<03:10, 16.94it/s]"
     ]
    },
    {
     "name": "stdout",
     "output_type": "stream",
     "text": [
      "(155, 122, 3)\n",
      "(152, 119, 3)\n",
      "(163, 124, 3)\n",
      "(158, 124, 3)\n",
      "(166, 126, 3)\n"
     ]
    },
    {
     "name": "stderr",
     "output_type": "stream",
     "text": [
      " 57%|█████▋    | 4220/7439 [03:27<02:57, 18.10it/s]"
     ]
    },
    {
     "name": "stdout",
     "output_type": "stream",
     "text": [
      "(167, 126, 3)\n",
      "(161, 122, 3)\n",
      "(167, 126, 3)\n",
      "(173, 130, 3)\n"
     ]
    },
    {
     "name": "stderr",
     "output_type": "stream",
     "text": [
      " 57%|█████▋    | 4225/7439 [03:27<02:45, 19.48it/s]"
     ]
    },
    {
     "name": "stdout",
     "output_type": "stream",
     "text": [
      "(174, 131, 3)\n",
      "(165, 127, 3)\n",
      "(154, 119, 3)\n",
      "(159, 123, 3)\n",
      "(166, 126, 3)\n"
     ]
    },
    {
     "name": "stderr",
     "output_type": "stream",
     "text": [
      " 57%|█████▋    | 4229/7439 [03:28<02:49, 18.98it/s]"
     ]
    },
    {
     "name": "stdout",
     "output_type": "stream",
     "text": [
      "(158, 125, 3)\n",
      "(177, 129, 3)\n",
      "(161, 124, 3)\n",
      "(163, 126, 3)\n"
     ]
    },
    {
     "name": "stderr",
     "output_type": "stream",
     "text": [
      " 57%|█████▋    | 4233/7439 [03:28<02:52, 18.57it/s]"
     ]
    },
    {
     "name": "stdout",
     "output_type": "stream",
     "text": [
      "(162, 123, 3)\n",
      "(161, 123, 3)\n",
      "(162, 123, 3)\n",
      "(162, 131, 3)\n"
     ]
    },
    {
     "name": "stderr",
     "output_type": "stream",
     "text": [
      " 57%|█████▋    | 4239/7439 [03:28<02:36, 20.50it/s]"
     ]
    },
    {
     "name": "stdout",
     "output_type": "stream",
     "text": [
      "(149, 119, 3)\n",
      "(150, 120, 3)\n",
      "(164, 126, 3)\n",
      "(151, 119, 3)\n",
      "(158, 125, 3)\n"
     ]
    },
    {
     "name": "stderr",
     "output_type": "stream",
     "text": [
      " 57%|█████▋    | 4242/7439 [03:28<02:32, 20.90it/s]"
     ]
    },
    {
     "name": "stdout",
     "output_type": "stream",
     "text": [
      "(158, 126, 3)\n",
      "(166, 128, 3)\n",
      "(183, 138, 3)\n",
      "(173, 132, 3)\n",
      "(164, 127, 3)\n"
     ]
    },
    {
     "name": "stderr",
     "output_type": "stream",
     "text": [
      " 57%|█████▋    | 4248/7439 [03:29<02:27, 21.68it/s]"
     ]
    },
    {
     "name": "stdout",
     "output_type": "stream",
     "text": [
      "(163, 126, 3)\n",
      "(165, 134, 3)\n",
      "(165, 130, 3)\n",
      "(166, 132, 3)\n",
      "(180, 138, 3)\n"
     ]
    },
    {
     "name": "stderr",
     "output_type": "stream",
     "text": [
      " 57%|█████▋    | 4254/7439 [03:29<02:24, 22.09it/s]"
     ]
    },
    {
     "name": "stdout",
     "output_type": "stream",
     "text": [
      "(174, 134, 3)\n",
      "(163, 130, 3)\n",
      "(181, 135, 3)\n",
      "(176, 134, 3)\n",
      "(174, 135, 3)\n"
     ]
    },
    {
     "name": "stderr",
     "output_type": "stream",
     "text": [
      " 57%|█████▋    | 4257/7439 [03:29<02:21, 22.44it/s]"
     ]
    },
    {
     "name": "stdout",
     "output_type": "stream",
     "text": [
      "(173, 137, 3)\n",
      "(165, 130, 3)\n",
      "(163, 129, 3)\n",
      "(171, 138, 3)\n",
      "(169, 132, 3)\n"
     ]
    },
    {
     "name": "stderr",
     "output_type": "stream",
     "text": [
      " 57%|█████▋    | 4263/7439 [03:29<02:18, 22.94it/s]"
     ]
    },
    {
     "name": "stdout",
     "output_type": "stream",
     "text": [
      "(166, 134, 3)\n",
      "(192, 141, 3)\n",
      "(178, 134, 3)\n",
      "(180, 138, 3)\n",
      "(162, 129, 3)\n"
     ]
    },
    {
     "name": "stderr",
     "output_type": "stream",
     "text": [
      " 57%|█████▋    | 4269/7439 [03:30<02:21, 22.48it/s]"
     ]
    },
    {
     "name": "stdout",
     "output_type": "stream",
     "text": [
      "(164, 130, 3)\n",
      "(168, 131, 3)\n",
      "(173, 133, 3)\n",
      "(165, 132, 3)\n",
      "(157, 124, 3)\n"
     ]
    },
    {
     "name": "stderr",
     "output_type": "stream",
     "text": [
      " 57%|█████▋    | 4272/7439 [03:30<02:19, 22.63it/s]"
     ]
    },
    {
     "name": "stdout",
     "output_type": "stream",
     "text": [
      "(161, 131, 3)\n",
      "(174, 136, 3)\n",
      "(172, 133, 3)\n",
      "(167, 133, 3)\n",
      "(179, 136, 3)\n"
     ]
    },
    {
     "name": "stderr",
     "output_type": "stream",
     "text": [
      " 58%|█████▊    | 4278/7439 [03:30<02:23, 21.98it/s]"
     ]
    },
    {
     "name": "stdout",
     "output_type": "stream",
     "text": [
      "(166, 130, 3)\n",
      "(163, 130, 3)\n",
      "(173, 134, 3)\n",
      "(179, 136, 3)\n",
      "(170, 132, 3)\n"
     ]
    },
    {
     "name": "stderr",
     "output_type": "stream",
     "text": [
      " 58%|█████▊    | 4284/7439 [03:30<02:21, 22.37it/s]"
     ]
    },
    {
     "name": "stdout",
     "output_type": "stream",
     "text": [
      "(180, 141, 3)\n",
      "(165, 132, 3)\n",
      "(163, 130, 3)\n",
      "(176, 137, 3)\n",
      "(162, 129, 3)\n"
     ]
    },
    {
     "name": "stderr",
     "output_type": "stream",
     "text": [
      " 58%|█████▊    | 4287/7439 [03:30<02:22, 22.08it/s]"
     ]
    },
    {
     "name": "stdout",
     "output_type": "stream",
     "text": [
      "(168, 135, 3)\n",
      "(170, 134, 3)\n",
      "(169, 134, 3)\n",
      "(165, 130, 3)\n",
      "(180, 138, 3)\n"
     ]
    },
    {
     "name": "stderr",
     "output_type": "stream",
     "text": [
      " 58%|█████▊    | 4293/7439 [03:31<02:20, 22.42it/s]"
     ]
    },
    {
     "name": "stdout",
     "output_type": "stream",
     "text": [
      "(172, 134, 3)\n",
      "(163, 131, 3)\n",
      "(172, 139, 3)\n",
      "(158, 126, 3)\n",
      "(163, 131, 3)\n"
     ]
    },
    {
     "name": "stderr",
     "output_type": "stream",
     "text": [
      " 58%|█████▊    | 4299/7439 [03:31<02:22, 22.04it/s]"
     ]
    },
    {
     "name": "stdout",
     "output_type": "stream",
     "text": [
      "(181, 138, 3)\n",
      "(168, 133, 3)\n",
      "(162, 132, 3)\n",
      "(167, 133, 3)\n",
      "(162, 127, 3)\n"
     ]
    },
    {
     "name": "stderr",
     "output_type": "stream",
     "text": [
      " 58%|█████▊    | 4302/7439 [03:31<02:23, 21.93it/s]"
     ]
    },
    {
     "name": "stdout",
     "output_type": "stream",
     "text": [
      "(172, 133, 3)\n",
      "(178, 135, 3)\n",
      "(177, 136, 3)\n",
      "(169, 132, 3)\n",
      "(176, 132, 3)\n"
     ]
    },
    {
     "name": "stderr",
     "output_type": "stream",
     "text": [
      " 58%|█████▊    | 4308/7439 [03:31<02:21, 22.17it/s]"
     ]
    },
    {
     "name": "stdout",
     "output_type": "stream",
     "text": [
      "(160, 125, 3)\n",
      "(164, 130, 3)\n",
      "(157, 128, 3)\n",
      "(166, 135, 3)\n",
      "(161, 129, 3)\n"
     ]
    },
    {
     "name": "stderr",
     "output_type": "stream",
     "text": [
      " 58%|█████▊    | 4314/7439 [03:32<02:26, 21.31it/s]"
     ]
    },
    {
     "name": "stdout",
     "output_type": "stream",
     "text": [
      "(166, 135, 3)\n",
      "(178, 134, 3)\n",
      "(173, 138, 3)\n",
      "(184, 137, 3)\n",
      "(184, 139, 3)\n"
     ]
    },
    {
     "name": "stderr",
     "output_type": "stream",
     "text": [
      " 58%|█████▊    | 4317/7439 [03:32<02:27, 21.16it/s]"
     ]
    },
    {
     "name": "stdout",
     "output_type": "stream",
     "text": [
      "(170, 135, 3)\n",
      "(168, 131, 3)\n",
      "(159, 126, 3)\n",
      "(162, 129, 3)\n",
      "(182, 140, 3)\n"
     ]
    },
    {
     "name": "stderr",
     "output_type": "stream",
     "text": [
      " 58%|█████▊    | 4323/7439 [03:32<02:23, 21.69it/s]"
     ]
    },
    {
     "name": "stdout",
     "output_type": "stream",
     "text": [
      "(167, 131, 3)\n",
      "(160, 130, 3)\n",
      "(172, 133, 3)\n",
      "(178, 133, 3)\n",
      "(183, 137, 3)\n"
     ]
    },
    {
     "name": "stderr",
     "output_type": "stream",
     "text": [
      " 58%|█████▊    | 4329/7439 [03:32<02:20, 22.17it/s]"
     ]
    },
    {
     "name": "stdout",
     "output_type": "stream",
     "text": [
      "(187, 141, 3)\n",
      "(174, 135, 3)\n",
      "(163, 129, 3)\n",
      "(163, 126, 3)\n",
      "(146, 117, 3)\n"
     ]
    },
    {
     "name": "stderr",
     "output_type": "stream",
     "text": [
      " 58%|█████▊    | 4332/7439 [03:32<02:16, 22.81it/s]"
     ]
    },
    {
     "name": "stdout",
     "output_type": "stream",
     "text": [
      "(147, 117, 3)\n",
      "(165, 123, 3)\n",
      "(156, 122, 3)\n",
      "(161, 122, 3)\n",
      "(165, 127, 3)\n"
     ]
    },
    {
     "name": "stderr",
     "output_type": "stream",
     "text": [
      " 58%|█████▊    | 4338/7439 [03:33<02:16, 22.76it/s]"
     ]
    },
    {
     "name": "stdout",
     "output_type": "stream",
     "text": [
      "(157, 125, 3)\n",
      "(162, 123, 3)\n",
      "(146, 114, 3)\n",
      "(149, 117, 3)\n",
      "(147, 113, 3)\n"
     ]
    },
    {
     "name": "stderr",
     "output_type": "stream",
     "text": [
      " 58%|█████▊    | 4344/7439 [03:33<02:17, 22.56it/s]"
     ]
    },
    {
     "name": "stdout",
     "output_type": "stream",
     "text": [
      "(159, 121, 3)\n",
      "(166, 127, 3)\n",
      "(148, 115, 3)\n",
      "(159, 122, 3)\n",
      "(148, 116, 3)\n"
     ]
    },
    {
     "name": "stderr",
     "output_type": "stream",
     "text": [
      " 58%|█████▊    | 4347/7439 [03:33<02:18, 22.39it/s]"
     ]
    },
    {
     "name": "stdout",
     "output_type": "stream",
     "text": [
      "(158, 124, 3)\n",
      "(153, 119, 3)\n",
      "(154, 123, 3)\n",
      "(146, 116, 3)\n",
      "(158, 123, 3)\n"
     ]
    },
    {
     "name": "stderr",
     "output_type": "stream",
     "text": [
      " 59%|█████▊    | 4353/7439 [03:33<02:15, 22.81it/s]"
     ]
    },
    {
     "name": "stdout",
     "output_type": "stream",
     "text": [
      "(156, 123, 3)\n",
      "(149, 118, 3)\n",
      "(157, 123, 3)\n",
      "(163, 126, 3)\n",
      "(154, 123, 3)\n"
     ]
    },
    {
     "name": "stderr",
     "output_type": "stream",
     "text": [
      " 59%|█████▊    | 4359/7439 [03:34<02:14, 22.94it/s]"
     ]
    },
    {
     "name": "stdout",
     "output_type": "stream",
     "text": [
      "(153, 120, 3)\n",
      "(151, 122, 3)\n",
      "(150, 118, 3)\n",
      "(150, 117, 3)\n",
      "(158, 124, 3)\n"
     ]
    },
    {
     "name": "stderr",
     "output_type": "stream",
     "text": [
      " 59%|█████▊    | 4362/7439 [03:34<02:15, 22.71it/s]"
     ]
    },
    {
     "name": "stdout",
     "output_type": "stream",
     "text": [
      "(152, 120, 3)\n",
      "(153, 121, 3)\n",
      "(156, 121, 3)\n",
      "(145, 115, 3)\n",
      "(152, 120, 3)\n"
     ]
    },
    {
     "name": "stderr",
     "output_type": "stream",
     "text": [
      " 59%|█████▊    | 4368/7439 [03:34<02:16, 22.54it/s]"
     ]
    },
    {
     "name": "stdout",
     "output_type": "stream",
     "text": [
      "(155, 121, 3)\n",
      "(151, 121, 3)\n",
      "(150, 120, 3)\n",
      "(159, 124, 3)\n",
      "(153, 119, 3)\n"
     ]
    },
    {
     "name": "stderr",
     "output_type": "stream",
     "text": [
      " 59%|█████▉    | 4374/7439 [03:34<02:17, 22.33it/s]"
     ]
    },
    {
     "name": "stdout",
     "output_type": "stream",
     "text": [
      "(158, 121, 3)\n",
      "(149, 119, 3)\n",
      "(153, 118, 3)\n",
      "(165, 129, 3)\n",
      "(154, 122, 3)\n"
     ]
    },
    {
     "name": "stderr",
     "output_type": "stream",
     "text": [
      " 59%|█████▉    | 4377/7439 [03:34<02:15, 22.65it/s]"
     ]
    },
    {
     "name": "stdout",
     "output_type": "stream",
     "text": [
      "(149, 118, 3)\n",
      "(161, 125, 3)\n",
      "(158, 124, 3)\n",
      "(158, 126, 3)\n",
      "(153, 121, 3)\n"
     ]
    },
    {
     "name": "stderr",
     "output_type": "stream",
     "text": [
      " 59%|█████▉    | 4383/7439 [03:35<02:16, 22.43it/s]"
     ]
    },
    {
     "name": "stdout",
     "output_type": "stream",
     "text": [
      "(165, 125, 3)\n",
      "(153, 122, 3)\n",
      "(162, 122, 3)\n",
      "(149, 122, 3)\n",
      "(160, 124, 3)\n"
     ]
    },
    {
     "name": "stderr",
     "output_type": "stream",
     "text": [
      " 59%|█████▉    | 4389/7439 [03:35<02:17, 22.15it/s]"
     ]
    },
    {
     "name": "stdout",
     "output_type": "stream",
     "text": [
      "(162, 125, 3)\n",
      "(156, 122, 3)\n",
      "(153, 119, 3)\n",
      "(160, 125, 3)\n",
      "(162, 126, 3)\n"
     ]
    },
    {
     "name": "stderr",
     "output_type": "stream",
     "text": [
      " 59%|█████▉    | 4392/7439 [03:35<02:19, 21.89it/s]"
     ]
    },
    {
     "name": "stdout",
     "output_type": "stream",
     "text": [
      "(153, 120, 3)\n",
      "(161, 121, 3)\n",
      "(158, 126, 3)\n",
      "(148, 119, 3)\n",
      "(162, 122, 3)\n"
     ]
    },
    {
     "name": "stderr",
     "output_type": "stream",
     "text": [
      " 59%|█████▉    | 4398/7439 [03:35<02:26, 20.71it/s]"
     ]
    },
    {
     "name": "stdout",
     "output_type": "stream",
     "text": [
      "(163, 124, 3)\n",
      "(154, 124, 3)\n",
      "(163, 125, 3)\n",
      "(161, 124, 3)\n",
      "(150, 121, 3)\n"
     ]
    },
    {
     "name": "stderr",
     "output_type": "stream",
     "text": [
      " 59%|█████▉    | 4404/7439 [03:36<02:18, 21.96it/s]"
     ]
    },
    {
     "name": "stdout",
     "output_type": "stream",
     "text": [
      "(156, 124, 3)\n",
      "(155, 121, 3)\n",
      "(155, 121, 3)\n",
      "(149, 118, 3)\n",
      "(163, 127, 3)\n"
     ]
    },
    {
     "name": "stderr",
     "output_type": "stream",
     "text": [
      " 59%|█████▉    | 4407/7439 [03:36<02:17, 22.09it/s]"
     ]
    },
    {
     "name": "stdout",
     "output_type": "stream",
     "text": [
      "(149, 115, 3)\n",
      "(151, 118, 3)\n",
      "(149, 118, 3)\n",
      "(156, 122, 3)\n",
      "(152, 119, 3)\n"
     ]
    },
    {
     "name": "stderr",
     "output_type": "stream",
     "text": [
      " 59%|█████▉    | 4413/7439 [03:36<02:16, 22.14it/s]"
     ]
    },
    {
     "name": "stdout",
     "output_type": "stream",
     "text": [
      "(162, 127, 3)\n",
      "(163, 130, 3)\n",
      "(176, 135, 3)\n",
      "(172, 134, 3)\n",
      "(175, 131, 3)\n"
     ]
    },
    {
     "name": "stderr",
     "output_type": "stream",
     "text": [
      " 59%|█████▉    | 4419/7439 [03:36<02:16, 22.08it/s]"
     ]
    },
    {
     "name": "stdout",
     "output_type": "stream",
     "text": [
      "(164, 128, 3)\n",
      "(178, 135, 3)\n",
      "(167, 132, 3)\n",
      "(175, 137, 3)\n",
      "(156, 125, 3)\n"
     ]
    },
    {
     "name": "stderr",
     "output_type": "stream",
     "text": [
      " 59%|█████▉    | 4422/7439 [03:36<02:15, 22.27it/s]"
     ]
    },
    {
     "name": "stdout",
     "output_type": "stream",
     "text": [
      "(158, 125, 3)\n",
      "(154, 124, 3)\n",
      "(159, 121, 3)\n",
      "(186, 141, 3)\n",
      "(172, 134, 3)\n"
     ]
    },
    {
     "name": "stderr",
     "output_type": "stream",
     "text": [
      " 60%|█████▉    | 4428/7439 [03:37<02:10, 23.02it/s]"
     ]
    },
    {
     "name": "stdout",
     "output_type": "stream",
     "text": [
      "(163, 126, 3)\n",
      "(185, 139, 3)\n",
      "(164, 127, 3)\n",
      "(175, 137, 3)\n",
      "(173, 137, 3)\n"
     ]
    },
    {
     "name": "stderr",
     "output_type": "stream",
     "text": [
      " 60%|█████▉    | 4434/7439 [03:37<02:16, 22.05it/s]"
     ]
    },
    {
     "name": "stdout",
     "output_type": "stream",
     "text": [
      "(174, 136, 3)\n",
      "(170, 135, 3)\n",
      "(168, 133, 3)\n",
      "(169, 131, 3)\n",
      "(175, 134, 3)\n"
     ]
    },
    {
     "name": "stderr",
     "output_type": "stream",
     "text": [
      " 60%|█████▉    | 4437/7439 [03:37<02:16, 22.04it/s]"
     ]
    },
    {
     "name": "stdout",
     "output_type": "stream",
     "text": [
      "(161, 129, 3)\n",
      "(171, 133, 3)\n",
      "(169, 130, 3)\n",
      "(171, 130, 3)\n",
      "(171, 134, 3)\n"
     ]
    },
    {
     "name": "stderr",
     "output_type": "stream",
     "text": [
      " 60%|█████▉    | 4440/7439 [03:37<02:29, 20.12it/s]"
     ]
    },
    {
     "name": "stdout",
     "output_type": "stream",
     "text": [
      "(175, 134, 3)\n",
      "(172, 134, 3)\n",
      "(170, 133, 3)\n"
     ]
    },
    {
     "name": "stderr",
     "output_type": "stream",
     "text": [
      " 60%|█████▉    | 4445/7439 [03:38<02:44, 18.25it/s]"
     ]
    },
    {
     "name": "stdout",
     "output_type": "stream",
     "text": [
      "(170, 130, 3)\n",
      "(165, 132, 3)\n",
      "(152, 122, 3)\n",
      "(165, 131, 3)\n"
     ]
    },
    {
     "name": "stderr",
     "output_type": "stream",
     "text": [
      " 60%|█████▉    | 4450/7439 [03:38<02:36, 19.05it/s]"
     ]
    },
    {
     "name": "stdout",
     "output_type": "stream",
     "text": [
      "(166, 130, 3)\n",
      "(158, 122, 3)\n",
      "(159, 125, 3)\n",
      "(170, 128, 3)\n"
     ]
    },
    {
     "name": "stderr",
     "output_type": "stream",
     "text": [
      " 60%|█████▉    | 4455/7439 [03:38<02:34, 19.37it/s]"
     ]
    },
    {
     "name": "stdout",
     "output_type": "stream",
     "text": [
      "(169, 135, 3)\n",
      "(168, 129, 3)\n",
      "(161, 128, 3)\n",
      "(166, 128, 3)\n",
      "(166, 128, 3)\n"
     ]
    },
    {
     "name": "stderr",
     "output_type": "stream",
     "text": [
      " 60%|█████▉    | 4458/7439 [03:38<02:28, 20.12it/s]"
     ]
    },
    {
     "name": "stdout",
     "output_type": "stream",
     "text": [
      "(165, 128, 3)\n",
      "(165, 130, 3)\n",
      "(166, 129, 3)\n",
      "(169, 132, 3)\n",
      "(169, 132, 3)\n"
     ]
    },
    {
     "name": "stderr",
     "output_type": "stream",
     "text": [
      " 60%|██████    | 4464/7439 [03:39<02:25, 20.48it/s]"
     ]
    },
    {
     "name": "stdout",
     "output_type": "stream",
     "text": [
      "(162, 127, 3)\n",
      "(168, 129, 3)\n",
      "(167, 134, 3)\n",
      "(169, 135, 3)\n",
      "(170, 133, 3)\n"
     ]
    },
    {
     "name": "stderr",
     "output_type": "stream",
     "text": [
      " 60%|██████    | 4470/7439 [03:39<02:23, 20.65it/s]"
     ]
    },
    {
     "name": "stdout",
     "output_type": "stream",
     "text": [
      "(167, 129, 3)\n",
      "(170, 133, 3)\n",
      "(167, 133, 3)\n",
      "(165, 131, 3)\n",
      "(180, 141, 3)\n"
     ]
    },
    {
     "name": "stderr",
     "output_type": "stream",
     "text": [
      " 60%|██████    | 4473/7439 [03:39<02:20, 21.04it/s]"
     ]
    },
    {
     "name": "stdout",
     "output_type": "stream",
     "text": [
      "(175, 134, 3)\n",
      "(174, 137, 3)\n",
      "(164, 131, 3)\n",
      "(169, 132, 3)\n",
      "(169, 132, 3)\n"
     ]
    },
    {
     "name": "stderr",
     "output_type": "stream",
     "text": [
      " 60%|██████    | 4479/7439 [03:39<02:24, 20.49it/s]"
     ]
    },
    {
     "name": "stdout",
     "output_type": "stream",
     "text": [
      "(179, 135, 3)\n",
      "(181, 137, 3)\n",
      "(176, 133, 3)\n",
      "(172, 132, 3)\n",
      "(155, 122, 3)\n"
     ]
    },
    {
     "name": "stderr",
     "output_type": "stream",
     "text": [
      " 60%|██████    | 4485/7439 [03:40<02:19, 21.20it/s]"
     ]
    },
    {
     "name": "stdout",
     "output_type": "stream",
     "text": [
      "(162, 129, 3)\n",
      "(170, 135, 3)\n",
      "(159, 123, 3)\n",
      "(170, 132, 3)\n",
      "(161, 127, 3)\n"
     ]
    },
    {
     "name": "stderr",
     "output_type": "stream",
     "text": [
      " 60%|██████    | 4488/7439 [03:40<02:18, 21.25it/s]"
     ]
    },
    {
     "name": "stdout",
     "output_type": "stream",
     "text": [
      "(175, 132, 3)\n",
      "(162, 128, 3)\n",
      "(172, 133, 3)\n",
      "(167, 128, 3)\n",
      "(179, 136, 3)\n"
     ]
    },
    {
     "name": "stderr",
     "output_type": "stream",
     "text": [
      " 60%|██████    | 4494/7439 [03:40<02:15, 21.72it/s]"
     ]
    },
    {
     "name": "stdout",
     "output_type": "stream",
     "text": [
      "(169, 130, 3)\n",
      "(205, 166, 3)\n",
      "(202, 161, 3)\n",
      "(200, 161, 3)\n",
      "(196, 160, 3)\n"
     ]
    },
    {
     "name": "stderr",
     "output_type": "stream",
     "text": [
      " 60%|██████    | 4500/7439 [03:40<02:15, 21.67it/s]"
     ]
    },
    {
     "name": "stdout",
     "output_type": "stream",
     "text": [
      "(193, 158, 3)\n",
      "(198, 160, 3)\n",
      "(214, 174, 3)\n",
      "(206, 166, 3)\n",
      "(201, 169, 3)\n"
     ]
    },
    {
     "name": "stderr",
     "output_type": "stream",
     "text": [
      " 61%|██████    | 4503/7439 [03:40<02:20, 20.87it/s]"
     ]
    },
    {
     "name": "stdout",
     "output_type": "stream",
     "text": [
      "(202, 157, 3)\n",
      "(191, 159, 3)\n",
      "(188, 158, 3)\n",
      "(209, 169, 3)\n",
      "(201, 160, 3)\n"
     ]
    },
    {
     "name": "stderr",
     "output_type": "stream",
     "text": [
      " 61%|██████    | 4509/7439 [03:41<02:14, 21.76it/s]"
     ]
    },
    {
     "name": "stdout",
     "output_type": "stream",
     "text": [
      "(206, 167, 3)\n",
      "(204, 166, 3)\n",
      "(186, 155, 3)\n",
      "(200, 160, 3)\n",
      "(195, 158, 3)\n"
     ]
    },
    {
     "name": "stderr",
     "output_type": "stream",
     "text": [
      " 61%|██████    | 4515/7439 [03:41<02:10, 22.35it/s]"
     ]
    },
    {
     "name": "stdout",
     "output_type": "stream",
     "text": [
      "(189, 153, 3)\n",
      "(200, 158, 3)\n",
      "(188, 160, 3)\n",
      "(198, 157, 3)\n",
      "(188, 154, 3)\n"
     ]
    },
    {
     "name": "stderr",
     "output_type": "stream",
     "text": [
      " 61%|██████    | 4518/7439 [03:41<02:08, 22.65it/s]"
     ]
    },
    {
     "name": "stdout",
     "output_type": "stream",
     "text": [
      "(188, 158, 3)\n",
      "(184, 153, 3)\n",
      "(189, 155, 3)\n",
      "(188, 153, 3)\n",
      "(179, 151, 3)\n"
     ]
    },
    {
     "name": "stderr",
     "output_type": "stream",
     "text": [
      " 61%|██████    | 4524/7439 [03:41<02:12, 22.06it/s]"
     ]
    },
    {
     "name": "stdout",
     "output_type": "stream",
     "text": [
      "(214, 164, 3)\n",
      "(187, 153, 3)\n",
      "(197, 160, 3)\n",
      "(191, 154, 3)\n",
      "(199, 157, 3)\n"
     ]
    },
    {
     "name": "stderr",
     "output_type": "stream",
     "text": [
      " 61%|██████    | 4530/7439 [03:42<02:14, 21.59it/s]"
     ]
    },
    {
     "name": "stdout",
     "output_type": "stream",
     "text": [
      "(192, 154, 3)\n",
      "(180, 152, 3)\n",
      "(193, 158, 3)\n",
      "(191, 161, 3)\n",
      "(185, 152, 3)\n"
     ]
    },
    {
     "name": "stderr",
     "output_type": "stream",
     "text": [
      " 61%|██████    | 4533/7439 [03:42<02:14, 21.68it/s]"
     ]
    },
    {
     "name": "stdout",
     "output_type": "stream",
     "text": [
      "(188, 154, 3)\n",
      "(195, 157, 3)\n",
      "(186, 152, 3)\n",
      "(173, 140, 3)\n",
      "(198, 160, 3)\n"
     ]
    },
    {
     "name": "stderr",
     "output_type": "stream",
     "text": [
      " 61%|██████    | 4539/7439 [03:42<02:13, 21.78it/s]"
     ]
    },
    {
     "name": "stdout",
     "output_type": "stream",
     "text": [
      "(178, 147, 3)\n",
      "(184, 152, 3)\n",
      "(190, 155, 3)\n",
      "(189, 155, 3)\n",
      "(192, 159, 3)\n"
     ]
    },
    {
     "name": "stderr",
     "output_type": "stream",
     "text": [
      " 61%|██████    | 4545/7439 [03:42<02:10, 22.22it/s]"
     ]
    },
    {
     "name": "stdout",
     "output_type": "stream",
     "text": [
      "(187, 156, 3)\n",
      "(193, 155, 3)\n",
      "(192, 157, 3)\n",
      "(195, 155, 3)\n",
      "(198, 159, 3)\n"
     ]
    },
    {
     "name": "stderr",
     "output_type": "stream",
     "text": [
      " 61%|██████    | 4548/7439 [03:42<02:11, 22.04it/s]"
     ]
    },
    {
     "name": "stdout",
     "output_type": "stream",
     "text": [
      "(177, 148, 3)\n",
      "(192, 161, 3)\n",
      "(181, 148, 3)\n",
      "(184, 154, 3)\n",
      "(190, 155, 3)\n"
     ]
    },
    {
     "name": "stderr",
     "output_type": "stream",
     "text": [
      " 61%|██████    | 4554/7439 [03:43<02:07, 22.57it/s]"
     ]
    },
    {
     "name": "stdout",
     "output_type": "stream",
     "text": [
      "(183, 151, 3)\n",
      "(198, 164, 3)\n",
      "(177, 152, 3)\n",
      "(188, 153, 3)\n",
      "(191, 158, 3)\n"
     ]
    },
    {
     "name": "stderr",
     "output_type": "stream",
     "text": [
      " 61%|██████▏   | 4557/7439 [03:43<02:13, 21.58it/s]"
     ]
    },
    {
     "name": "stdout",
     "output_type": "stream",
     "text": [
      "(199, 160, 3)\n",
      "(198, 158, 3)\n",
      "(184, 155, 3)\n",
      "(201, 159, 3)\n"
     ]
    },
    {
     "name": "stderr",
     "output_type": "stream",
     "text": [
      " 61%|██████▏   | 4563/7439 [03:43<02:16, 21.05it/s]"
     ]
    },
    {
     "name": "stdout",
     "output_type": "stream",
     "text": [
      "(192, 157, 3)\n",
      "(210, 163, 3)\n",
      "(193, 156, 3)\n",
      "(190, 156, 3)\n",
      "(202, 161, 3)\n"
     ]
    },
    {
     "name": "stderr",
     "output_type": "stream",
     "text": [
      " 61%|██████▏   | 4569/7439 [03:43<02:10, 22.02it/s]"
     ]
    },
    {
     "name": "stdout",
     "output_type": "stream",
     "text": [
      "(197, 163, 3)\n",
      "(189, 153, 3)\n",
      "(194, 157, 3)\n",
      "(201, 161, 3)\n",
      "(183, 152, 3)\n"
     ]
    },
    {
     "name": "stderr",
     "output_type": "stream",
     "text": [
      " 61%|██████▏   | 4572/7439 [03:43<02:11, 21.87it/s]"
     ]
    },
    {
     "name": "stdout",
     "output_type": "stream",
     "text": [
      "(193, 156, 3)\n",
      "(195, 159, 3)\n",
      "(204, 160, 3)\n",
      "(183, 147, 3)\n",
      "(178, 148, 3)\n"
     ]
    },
    {
     "name": "stderr",
     "output_type": "stream",
     "text": [
      " 62%|██████▏   | 4578/7439 [03:44<02:11, 21.82it/s]"
     ]
    },
    {
     "name": "stdout",
     "output_type": "stream",
     "text": [
      "(159, 135, 3)\n",
      "(178, 143, 3)\n",
      "(177, 143, 3)\n",
      "(173, 140, 3)\n",
      "(182, 147, 3)\n"
     ]
    },
    {
     "name": "stderr",
     "output_type": "stream",
     "text": [
      " 62%|██████▏   | 4584/7439 [03:44<02:12, 21.52it/s]"
     ]
    },
    {
     "name": "stdout",
     "output_type": "stream",
     "text": [
      "(184, 151, 3)\n",
      "(186, 145, 3)\n",
      "(189, 150, 3)\n",
      "(164, 132, 3)\n",
      "(158, 136, 3)\n"
     ]
    },
    {
     "name": "stderr",
     "output_type": "stream",
     "text": [
      " 62%|██████▏   | 4587/7439 [03:44<02:13, 21.37it/s]"
     ]
    },
    {
     "name": "stdout",
     "output_type": "stream",
     "text": [
      "(161, 141, 3)\n",
      "(184, 144, 3)\n",
      "(177, 137, 3)\n",
      "(176, 142, 3)\n",
      "(191, 146, 3)\n"
     ]
    },
    {
     "name": "stderr",
     "output_type": "stream",
     "text": [
      " 62%|██████▏   | 4593/7439 [03:44<02:11, 21.68it/s]"
     ]
    },
    {
     "name": "stdout",
     "output_type": "stream",
     "text": [
      "(171, 140, 3)\n",
      "(178, 144, 3)\n",
      "(171, 138, 3)\n",
      "(175, 146, 3)\n",
      "(165, 135, 3)\n"
     ]
    },
    {
     "name": "stderr",
     "output_type": "stream",
     "text": [
      " 62%|██████▏   | 4599/7439 [03:45<02:07, 22.22it/s]"
     ]
    },
    {
     "name": "stdout",
     "output_type": "stream",
     "text": [
      "(173, 146, 3)\n",
      "(175, 140, 3)\n",
      "(164, 135, 3)\n",
      "(173, 138, 3)\n",
      "(178, 143, 3)\n"
     ]
    },
    {
     "name": "stderr",
     "output_type": "stream",
     "text": [
      " 62%|██████▏   | 4602/7439 [03:45<02:08, 22.10it/s]"
     ]
    },
    {
     "name": "stdout",
     "output_type": "stream",
     "text": [
      "(170, 138, 3)\n",
      "(172, 141, 3)\n",
      "(181, 148, 3)\n",
      "(163, 137, 3)\n",
      "(172, 142, 3)\n"
     ]
    },
    {
     "name": "stderr",
     "output_type": "stream",
     "text": [
      " 62%|██████▏   | 4608/7439 [03:45<02:12, 21.44it/s]"
     ]
    },
    {
     "name": "stdout",
     "output_type": "stream",
     "text": [
      "(172, 141, 3)\n",
      "(169, 142, 3)\n",
      "(168, 137, 3)\n",
      "(179, 149, 3)\n",
      "(151, 131, 3)\n"
     ]
    },
    {
     "name": "stderr",
     "output_type": "stream",
     "text": [
      " 62%|██████▏   | 4614/7439 [03:45<02:13, 21.16it/s]"
     ]
    },
    {
     "name": "stdout",
     "output_type": "stream",
     "text": [
      "(168, 140, 3)\n",
      "(174, 147, 3)\n",
      "(171, 138, 3)\n",
      "(170, 143, 3)\n",
      "(179, 143, 3)\n"
     ]
    },
    {
     "name": "stderr",
     "output_type": "stream",
     "text": [
      " 62%|██████▏   | 4617/7439 [03:46<02:13, 21.13it/s]"
     ]
    },
    {
     "name": "stdout",
     "output_type": "stream",
     "text": [
      "(168, 136, 3)\n",
      "(182, 144, 3)\n",
      "(182, 141, 3)\n",
      "(169, 138, 3)\n",
      "(179, 147, 3)\n"
     ]
    },
    {
     "name": "stderr",
     "output_type": "stream",
     "text": [
      " 62%|██████▏   | 4623/7439 [03:46<02:15, 20.81it/s]"
     ]
    },
    {
     "name": "stdout",
     "output_type": "stream",
     "text": [
      "(172, 141, 3)\n",
      "(163, 136, 3)\n",
      "(170, 139, 3)\n",
      "(180, 147, 3)\n",
      "(178, 148, 3)\n"
     ]
    },
    {
     "name": "stderr",
     "output_type": "stream",
     "text": [
      " 62%|██████▏   | 4626/7439 [03:46<02:15, 20.83it/s]"
     ]
    },
    {
     "name": "stdout",
     "output_type": "stream",
     "text": [
      "(168, 137, 3)\n",
      "(180, 143, 3)\n",
      "(167, 138, 3)\n",
      "(171, 140, 3)\n"
     ]
    },
    {
     "name": "stderr",
     "output_type": "stream",
     "text": [
      " 62%|██████▏   | 4632/7439 [03:46<02:18, 20.31it/s]"
     ]
    },
    {
     "name": "stdout",
     "output_type": "stream",
     "text": [
      "(182, 145, 3)\n",
      "(169, 138, 3)\n",
      "(176, 145, 3)\n",
      "(188, 148, 3)\n",
      "(167, 137, 3)\n"
     ]
    },
    {
     "name": "stderr",
     "output_type": "stream",
     "text": [
      " 62%|██████▏   | 4638/7439 [03:47<02:18, 20.28it/s]"
     ]
    },
    {
     "name": "stdout",
     "output_type": "stream",
     "text": [
      "(166, 139, 3)\n",
      "(168, 140, 3)\n",
      "(171, 144, 3)\n",
      "(169, 139, 3)\n",
      "(187, 148, 3)\n"
     ]
    },
    {
     "name": "stderr",
     "output_type": "stream",
     "text": [
      " 62%|██████▏   | 4641/7439 [03:47<02:18, 20.17it/s]"
     ]
    },
    {
     "name": "stdout",
     "output_type": "stream",
     "text": [
      "(175, 144, 3)\n",
      "(184, 144, 3)\n",
      "(187, 146, 3)\n",
      "(172, 135, 3)\n"
     ]
    },
    {
     "name": "stderr",
     "output_type": "stream",
     "text": [
      " 62%|██████▏   | 4647/7439 [03:47<02:18, 20.23it/s]"
     ]
    },
    {
     "name": "stdout",
     "output_type": "stream",
     "text": [
      "(179, 136, 3)\n",
      "(176, 148, 3)\n",
      "(161, 134, 3)\n",
      "(172, 136, 3)\n",
      "(182, 145, 3)\n"
     ]
    },
    {
     "name": "stderr",
     "output_type": "stream",
     "text": [
      " 63%|██████▎   | 4650/7439 [03:47<02:16, 20.41it/s]"
     ]
    },
    {
     "name": "stdout",
     "output_type": "stream",
     "text": [
      "(169, 140, 3)\n",
      "(170, 142, 3)\n",
      "(192, 154, 3)\n",
      "(170, 142, 3)\n",
      "(176, 138, 3)\n"
     ]
    },
    {
     "name": "stderr",
     "output_type": "stream",
     "text": [
      " 63%|██████▎   | 4656/7439 [03:47<02:15, 20.60it/s]"
     ]
    },
    {
     "name": "stdout",
     "output_type": "stream",
     "text": [
      "(173, 144, 3)\n",
      "(180, 142, 3)\n",
      "(166, 139, 3)\n",
      "(185, 151, 3)\n",
      "(186, 149, 3)\n"
     ]
    },
    {
     "name": "stderr",
     "output_type": "stream",
     "text": [
      " 63%|██████▎   | 4662/7439 [03:48<02:13, 20.79it/s]"
     ]
    },
    {
     "name": "stdout",
     "output_type": "stream",
     "text": [
      "(193, 153, 3)\n",
      "(187, 152, 3)\n",
      "(175, 143, 3)\n",
      "(184, 152, 3)\n",
      "(208, 162, 3)\n"
     ]
    },
    {
     "name": "stderr",
     "output_type": "stream",
     "text": [
      " 63%|██████▎   | 4665/7439 [03:48<02:13, 20.71it/s]"
     ]
    },
    {
     "name": "stdout",
     "output_type": "stream",
     "text": [
      "(186, 149, 3)\n",
      "(185, 149, 3)\n",
      "(171, 140, 3)\n",
      "(173, 142, 3)\n"
     ]
    },
    {
     "name": "stderr",
     "output_type": "stream",
     "text": [
      " 63%|██████▎   | 4671/7439 [03:48<02:18, 19.92it/s]"
     ]
    },
    {
     "name": "stdout",
     "output_type": "stream",
     "text": [
      "(175, 144, 3)\n",
      "(189, 148, 3)\n",
      "(182, 150, 3)\n",
      "(176, 146, 3)\n",
      "(192, 153, 3)\n"
     ]
    },
    {
     "name": "stderr",
     "output_type": "stream",
     "text": [
      " 63%|██████▎   | 4674/7439 [03:48<02:13, 20.69it/s]"
     ]
    },
    {
     "name": "stdout",
     "output_type": "stream",
     "text": [
      "(195, 152, 3)\n",
      "(186, 149, 3)\n",
      "(181, 147, 3)\n",
      "(176, 143, 3)\n",
      "(183, 150, 3)\n"
     ]
    },
    {
     "name": "stderr",
     "output_type": "stream",
     "text": [
      " 63%|██████▎   | 4680/7439 [03:49<02:09, 21.29it/s]"
     ]
    },
    {
     "name": "stdout",
     "output_type": "stream",
     "text": [
      "(178, 144, 3)\n",
      "(179, 146, 3)\n",
      "(173, 140, 3)\n",
      "(192, 151, 3)\n",
      "(187, 149, 3)\n"
     ]
    },
    {
     "name": "stderr",
     "output_type": "stream",
     "text": [
      " 63%|██████▎   | 4683/7439 [03:49<02:08, 21.40it/s]"
     ]
    },
    {
     "name": "stdout",
     "output_type": "stream",
     "text": [
      "(177, 144, 3)\n",
      "(176, 141, 3)\n",
      "(196, 156, 3)\n",
      "(169, 139, 3)\n"
     ]
    },
    {
     "name": "stderr",
     "output_type": "stream",
     "text": [
      " 63%|██████▎   | 4686/7439 [03:49<02:14, 20.54it/s]"
     ]
    },
    {
     "name": "stdout",
     "output_type": "stream",
     "text": [
      "(173, 142, 3)\n",
      "(182, 153, 3)\n",
      "(183, 148, 3)\n"
     ]
    },
    {
     "name": "stderr",
     "output_type": "stream",
     "text": [
      " 63%|██████▎   | 4691/7439 [03:49<02:38, 17.38it/s]"
     ]
    },
    {
     "name": "stdout",
     "output_type": "stream",
     "text": [
      "(186, 144, 3)\n",
      "(193, 149, 3)\n",
      "(182, 145, 3)\n",
      "(185, 150, 3)\n"
     ]
    },
    {
     "name": "stderr",
     "output_type": "stream",
     "text": [
      " 63%|██████▎   | 4696/7439 [03:50<02:31, 18.15it/s]"
     ]
    },
    {
     "name": "stdout",
     "output_type": "stream",
     "text": [
      "(188, 156, 3)\n",
      "(180, 148, 3)\n",
      "(186, 150, 3)\n",
      "(185, 152, 3)\n"
     ]
    },
    {
     "name": "stderr",
     "output_type": "stream",
     "text": [
      " 63%|██████▎   | 4700/7439 [03:50<02:25, 18.83it/s]"
     ]
    },
    {
     "name": "stdout",
     "output_type": "stream",
     "text": [
      "(166, 141, 3)\n",
      "(172, 141, 3)\n",
      "(184, 151, 3)\n",
      "(182, 147, 3)\n"
     ]
    },
    {
     "name": "stderr",
     "output_type": "stream",
     "text": [
      " 63%|██████▎   | 4703/7439 [03:50<02:19, 19.59it/s]"
     ]
    },
    {
     "name": "stdout",
     "output_type": "stream",
     "text": [
      "(181, 142, 3)\n",
      "(184, 149, 3)\n",
      "(177, 144, 3)\n",
      "(185, 153, 3)\n",
      "(194, 154, 3)\n"
     ]
    },
    {
     "name": "stderr",
     "output_type": "stream",
     "text": [
      " 63%|██████▎   | 4709/7439 [03:50<02:14, 20.37it/s]"
     ]
    },
    {
     "name": "stdout",
     "output_type": "stream",
     "text": [
      "(180, 147, 3)\n",
      "(175, 142, 3)\n",
      "(193, 152, 3)\n",
      "(176, 147, 3)\n",
      "(181, 149, 3)\n"
     ]
    },
    {
     "name": "stderr",
     "output_type": "stream",
     "text": [
      " 63%|██████▎   | 4712/7439 [03:50<02:14, 20.34it/s]"
     ]
    },
    {
     "name": "stdout",
     "output_type": "stream",
     "text": [
      "(194, 155, 3)\n",
      "(181, 145, 3)\n",
      "(182, 146, 3)\n",
      "(183, 147, 3)\n"
     ]
    },
    {
     "name": "stderr",
     "output_type": "stream",
     "text": [
      " 63%|██████▎   | 4718/7439 [03:51<02:16, 19.95it/s]"
     ]
    },
    {
     "name": "stdout",
     "output_type": "stream",
     "text": [
      "(166, 138, 3)\n",
      "(178, 145, 3)\n",
      "(182, 150, 3)\n",
      "(182, 147, 3)\n"
     ]
    },
    {
     "name": "stderr",
     "output_type": "stream",
     "text": [
      " 63%|██████▎   | 4722/7439 [03:51<02:19, 19.50it/s]"
     ]
    },
    {
     "name": "stdout",
     "output_type": "stream",
     "text": [
      "(179, 150, 3)\n",
      "(187, 150, 3)\n",
      "(182, 149, 3)\n",
      "(186, 147, 3)\n"
     ]
    },
    {
     "name": "stderr",
     "output_type": "stream",
     "text": [
      " 64%|██████▎   | 4726/7439 [03:51<02:21, 19.18it/s]"
     ]
    },
    {
     "name": "stdout",
     "output_type": "stream",
     "text": [
      "(191, 156, 3)\n",
      "(191, 152, 3)\n",
      "(184, 149, 3)\n",
      "(202, 157, 3)\n"
     ]
    },
    {
     "name": "stderr",
     "output_type": "stream",
     "text": [
      " 64%|██████▎   | 4729/7439 [03:51<02:15, 19.95it/s]"
     ]
    },
    {
     "name": "stdout",
     "output_type": "stream",
     "text": [
      "(177, 144, 3)\n",
      "(187, 147, 3)\n",
      "(192, 155, 3)\n",
      "(184, 148, 3)\n",
      "(185, 150, 3)\n"
     ]
    },
    {
     "name": "stderr",
     "output_type": "stream",
     "text": [
      " 64%|██████▎   | 4735/7439 [03:52<02:13, 20.32it/s]"
     ]
    },
    {
     "name": "stdout",
     "output_type": "stream",
     "text": [
      "(204, 162, 3)\n",
      "(178, 137, 3)\n",
      "(186, 148, 3)\n",
      "(191, 156, 3)\n",
      "(191, 152, 3)\n"
     ]
    },
    {
     "name": "stderr",
     "output_type": "stream",
     "text": [
      " 64%|██████▎   | 4741/7439 [03:52<02:06, 21.25it/s]"
     ]
    },
    {
     "name": "stdout",
     "output_type": "stream",
     "text": [
      "(185, 152, 3)\n",
      "(189, 158, 3)\n",
      "(191, 159, 3)\n",
      "(202, 162, 3)\n",
      "(199, 161, 3)\n"
     ]
    },
    {
     "name": "stderr",
     "output_type": "stream",
     "text": [
      " 64%|██████▍   | 4744/7439 [03:52<02:06, 21.26it/s]"
     ]
    },
    {
     "name": "stdout",
     "output_type": "stream",
     "text": [
      "(197, 158, 3)\n",
      "(199, 161, 3)\n",
      "(203, 162, 3)\n",
      "(203, 163, 3)\n",
      "(207, 165, 3)\n"
     ]
    },
    {
     "name": "stderr",
     "output_type": "stream",
     "text": [
      " 64%|██████▍   | 4750/7439 [03:52<02:05, 21.47it/s]"
     ]
    },
    {
     "name": "stdout",
     "output_type": "stream",
     "text": [
      "(200, 163, 3)\n",
      "(186, 159, 3)\n",
      "(195, 160, 3)\n",
      "(209, 168, 3)\n",
      "(204, 166, 3)\n"
     ]
    },
    {
     "name": "stderr",
     "output_type": "stream",
     "text": [
      " 64%|██████▍   | 4756/7439 [03:52<02:04, 21.63it/s]"
     ]
    },
    {
     "name": "stdout",
     "output_type": "stream",
     "text": [
      "(207, 166, 3)\n",
      "(191, 156, 3)\n",
      "(193, 156, 3)\n",
      "(198, 160, 3)\n",
      "(184, 154, 3)\n"
     ]
    },
    {
     "name": "stderr",
     "output_type": "stream",
     "text": [
      " 64%|██████▍   | 4759/7439 [03:53<02:06, 21.15it/s]"
     ]
    },
    {
     "name": "stdout",
     "output_type": "stream",
     "text": [
      "(200, 163, 3)\n",
      "(194, 158, 3)\n",
      "(199, 163, 3)\n",
      "(187, 157, 3)\n",
      "(178, 150, 3)\n"
     ]
    },
    {
     "name": "stderr",
     "output_type": "stream",
     "text": [
      " 64%|██████▍   | 4765/7439 [03:53<02:05, 21.26it/s]"
     ]
    },
    {
     "name": "stdout",
     "output_type": "stream",
     "text": [
      "(191, 156, 3)\n",
      "(194, 158, 3)\n",
      "(187, 153, 3)\n",
      "(191, 157, 3)\n",
      "(193, 159, 3)\n"
     ]
    },
    {
     "name": "stderr",
     "output_type": "stream",
     "text": [
      " 64%|██████▍   | 4771/7439 [03:53<02:06, 21.12it/s]"
     ]
    },
    {
     "name": "stdout",
     "output_type": "stream",
     "text": [
      "(188, 156, 3)\n",
      "(212, 166, 3)\n",
      "(204, 164, 3)\n",
      "(200, 162, 3)\n",
      "(205, 165, 3)\n"
     ]
    },
    {
     "name": "stderr",
     "output_type": "stream",
     "text": [
      " 64%|██████▍   | 4774/7439 [03:53<02:07, 20.89it/s]"
     ]
    },
    {
     "name": "stdout",
     "output_type": "stream",
     "text": [
      "(185, 159, 3)\n",
      "(193, 160, 3)\n",
      "(196, 161, 3)\n",
      "(201, 162, 3)\n",
      "(198, 163, 3)\n"
     ]
    },
    {
     "name": "stderr",
     "output_type": "stream",
     "text": [
      " 64%|██████▍   | 4780/7439 [03:54<02:06, 21.10it/s]"
     ]
    },
    {
     "name": "stdout",
     "output_type": "stream",
     "text": [
      "(192, 160, 3)\n",
      "(195, 162, 3)\n",
      "(187, 157, 3)\n",
      "(196, 161, 3)\n",
      "(199, 162, 3)\n"
     ]
    },
    {
     "name": "stderr",
     "output_type": "stream",
     "text": [
      " 64%|██████▍   | 4786/7439 [03:54<02:03, 21.53it/s]"
     ]
    },
    {
     "name": "stdout",
     "output_type": "stream",
     "text": [
      "(196, 164, 3)\n",
      "(200, 161, 3)\n",
      "(184, 154, 3)\n",
      "(188, 157, 3)\n",
      "(192, 158, 3)\n"
     ]
    },
    {
     "name": "stderr",
     "output_type": "stream",
     "text": [
      " 64%|██████▍   | 4789/7439 [03:54<02:01, 21.90it/s]"
     ]
    },
    {
     "name": "stdout",
     "output_type": "stream",
     "text": [
      "(190, 157, 3)\n",
      "(187, 155, 3)\n",
      "(191, 159, 3)\n",
      "(197, 161, 3)\n",
      "(188, 156, 3)\n"
     ]
    },
    {
     "name": "stderr",
     "output_type": "stream",
     "text": [
      " 64%|██████▍   | 4795/7439 [03:54<02:05, 21.03it/s]"
     ]
    },
    {
     "name": "stdout",
     "output_type": "stream",
     "text": [
      "(211, 174, 3)\n",
      "(200, 159, 3)\n",
      "(193, 158, 3)\n",
      "(189, 155, 3)\n",
      "(178, 152, 3)\n"
     ]
    },
    {
     "name": "stderr",
     "output_type": "stream",
     "text": [
      " 65%|██████▍   | 4801/7439 [03:55<02:07, 20.65it/s]"
     ]
    },
    {
     "name": "stdout",
     "output_type": "stream",
     "text": [
      "(179, 152, 3)\n",
      "(193, 159, 3)\n",
      "(201, 162, 3)\n",
      "(196, 159, 3)\n",
      "(197, 159, 3)\n"
     ]
    },
    {
     "name": "stderr",
     "output_type": "stream",
     "text": [
      " 65%|██████▍   | 4804/7439 [03:55<02:11, 19.98it/s]"
     ]
    },
    {
     "name": "stdout",
     "output_type": "stream",
     "text": [
      "(202, 163, 3)\n",
      "(184, 155, 3)\n",
      "(192, 156, 3)\n",
      "(192, 158, 3)\n"
     ]
    },
    {
     "name": "stderr",
     "output_type": "stream",
     "text": [
      " 65%|██████▍   | 4810/7439 [03:55<02:12, 19.90it/s]"
     ]
    },
    {
     "name": "stdout",
     "output_type": "stream",
     "text": [
      "(190, 157, 3)\n",
      "(195, 159, 3)\n",
      "(191, 161, 3)\n",
      "(197, 163, 3)\n",
      "(204, 167, 3)\n"
     ]
    },
    {
     "name": "stderr",
     "output_type": "stream",
     "text": [
      " 65%|██████▍   | 4813/7439 [03:55<02:09, 20.33it/s]"
     ]
    },
    {
     "name": "stdout",
     "output_type": "stream",
     "text": [
      "(188, 157, 3)\n",
      "(198, 160, 3)\n",
      "(195, 163, 3)\n",
      "(201, 164, 3)\n",
      "(184, 153, 3)\n"
     ]
    },
    {
     "name": "stderr",
     "output_type": "stream",
     "text": [
      " 65%|██████▍   | 4819/7439 [03:56<02:09, 20.19it/s]"
     ]
    },
    {
     "name": "stdout",
     "output_type": "stream",
     "text": [
      "(212, 170, 3)\n",
      "(194, 158, 3)\n",
      "(194, 157, 3)\n",
      "(185, 154, 3)\n",
      "(180, 142, 3)\n"
     ]
    },
    {
     "name": "stderr",
     "output_type": "stream",
     "text": [
      " 65%|██████▍   | 4825/7439 [03:56<02:04, 20.92it/s]"
     ]
    },
    {
     "name": "stdout",
     "output_type": "stream",
     "text": [
      "(187, 148, 3)\n",
      "(191, 149, 3)\n",
      "(187, 150, 3)\n",
      "(193, 153, 3)\n",
      "(186, 148, 3)\n"
     ]
    },
    {
     "name": "stderr",
     "output_type": "stream",
     "text": [
      " 65%|██████▍   | 4828/7439 [03:56<02:03, 21.16it/s]"
     ]
    },
    {
     "name": "stdout",
     "output_type": "stream",
     "text": [
      "(206, 164, 3)\n",
      "(202, 158, 3)\n",
      "(207, 162, 3)\n",
      "(191, 154, 3)\n",
      "(192, 154, 3)\n"
     ]
    },
    {
     "name": "stderr",
     "output_type": "stream",
     "text": [
      " 65%|██████▍   | 4834/7439 [03:56<02:03, 21.03it/s]"
     ]
    },
    {
     "name": "stdout",
     "output_type": "stream",
     "text": [
      "(202, 156, 3)\n",
      "(203, 159, 3)\n",
      "(193, 155, 3)\n",
      "(197, 154, 3)\n",
      "(197, 154, 3)\n"
     ]
    },
    {
     "name": "stderr",
     "output_type": "stream",
     "text": [
      " 65%|██████▌   | 4840/7439 [03:57<02:03, 21.01it/s]"
     ]
    },
    {
     "name": "stdout",
     "output_type": "stream",
     "text": [
      "(190, 156, 3)\n",
      "(210, 166, 3)\n",
      "(204, 158, 3)\n",
      "(206, 162, 3)\n",
      "(198, 155, 3)\n"
     ]
    },
    {
     "name": "stderr",
     "output_type": "stream",
     "text": [
      " 65%|██████▌   | 4843/7439 [03:57<02:05, 20.66it/s]"
     ]
    },
    {
     "name": "stdout",
     "output_type": "stream",
     "text": [
      "(199, 154, 3)\n",
      "(202, 159, 3)\n",
      "(198, 156, 3)\n",
      "(204, 156, 3)\n",
      "(201, 162, 3)\n"
     ]
    },
    {
     "name": "stderr",
     "output_type": "stream",
     "text": [
      " 65%|██████▌   | 4849/7439 [03:57<02:03, 20.94it/s]"
     ]
    },
    {
     "name": "stdout",
     "output_type": "stream",
     "text": [
      "(198, 155, 3)\n",
      "(202, 157, 3)\n",
      "(199, 156, 3)\n",
      "(186, 147, 3)\n",
      "(195, 153, 3)\n"
     ]
    },
    {
     "name": "stderr",
     "output_type": "stream",
     "text": [
      " 65%|██████▌   | 4855/7439 [03:57<02:06, 20.43it/s]"
     ]
    },
    {
     "name": "stdout",
     "output_type": "stream",
     "text": [
      "(196, 156, 3)\n",
      "(188, 147, 3)\n",
      "(202, 158, 3)\n",
      "(201, 159, 3)\n",
      "(191, 152, 3)\n"
     ]
    },
    {
     "name": "stderr",
     "output_type": "stream",
     "text": [
      " 65%|██████▌   | 4858/7439 [03:57<02:05, 20.52it/s]"
     ]
    },
    {
     "name": "stdout",
     "output_type": "stream",
     "text": [
      "(190, 150, 3)\n",
      "(195, 154, 3)\n",
      "(191, 149, 3)\n",
      "(186, 149, 3)\n",
      "(199, 156, 3)\n"
     ]
    },
    {
     "name": "stderr",
     "output_type": "stream",
     "text": [
      " 65%|██████▌   | 4864/7439 [03:58<02:08, 20.03it/s]"
     ]
    },
    {
     "name": "stdout",
     "output_type": "stream",
     "text": [
      "(187, 149, 3)\n",
      "(183, 144, 3)\n",
      "(192, 156, 3)\n",
      "(184, 149, 3)\n"
     ]
    },
    {
     "name": "stderr",
     "output_type": "stream",
     "text": [
      " 65%|██████▌   | 4867/7439 [03:58<02:06, 20.30it/s]"
     ]
    },
    {
     "name": "stdout",
     "output_type": "stream",
     "text": [
      "(203, 155, 3)\n",
      "(201, 158, 3)\n",
      "(192, 149, 3)\n",
      "(192, 151, 3)\n",
      "(197, 157, 3)\n"
     ]
    },
    {
     "name": "stderr",
     "output_type": "stream",
     "text": [
      " 66%|██████▌   | 4873/7439 [03:58<02:04, 20.57it/s]"
     ]
    },
    {
     "name": "stdout",
     "output_type": "stream",
     "text": [
      "(192, 151, 3)\n",
      "(199, 155, 3)\n",
      "(200, 159, 3)\n",
      "(188, 149, 3)\n",
      "(196, 152, 3)\n"
     ]
    },
    {
     "name": "stderr",
     "output_type": "stream",
     "text": [
      " 66%|██████▌   | 4879/7439 [03:59<02:21, 18.12it/s]"
     ]
    },
    {
     "name": "stdout",
     "output_type": "stream",
     "text": [
      "(204, 161, 3)\n",
      "(186, 152, 3)\n",
      "(194, 151, 3)\n",
      "(209, 163, 3)\n",
      "(193, 151, 3)\n"
     ]
    },
    {
     "name": "stderr",
     "output_type": "stream",
     "text": [
      " 66%|██████▌   | 4882/7439 [03:59<02:15, 18.93it/s]"
     ]
    },
    {
     "name": "stdout",
     "output_type": "stream",
     "text": [
      "(195, 154, 3)\n",
      "(197, 154, 3)\n",
      "(192, 152, 3)\n",
      "(194, 151, 3)\n",
      "(189, 153, 3)\n"
     ]
    },
    {
     "name": "stderr",
     "output_type": "stream",
     "text": [
      " 66%|██████▌   | 4887/7439 [03:59<02:15, 18.77it/s]"
     ]
    },
    {
     "name": "stdout",
     "output_type": "stream",
     "text": [
      "(199, 154, 3)\n",
      "(199, 153, 3)\n",
      "(198, 155, 3)\n",
      "(196, 155, 3)\n"
     ]
    },
    {
     "name": "stderr",
     "output_type": "stream",
     "text": [
      " 66%|██████▌   | 4892/7439 [03:59<02:10, 19.53it/s]"
     ]
    },
    {
     "name": "stdout",
     "output_type": "stream",
     "text": [
      "(208, 158, 3)\n",
      "(190, 156, 3)\n",
      "(183, 147, 3)\n",
      "(193, 152, 3)\n",
      "(197, 155, 3)\n"
     ]
    },
    {
     "name": "stderr",
     "output_type": "stream",
     "text": [
      " 66%|██████▌   | 4898/7439 [03:59<02:06, 20.08it/s]"
     ]
    },
    {
     "name": "stdout",
     "output_type": "stream",
     "text": [
      "(189, 148, 3)\n",
      "(189, 151, 3)\n",
      "(203, 158, 3)\n",
      "(195, 152, 3)\n",
      "(196, 154, 3)\n"
     ]
    },
    {
     "name": "stderr",
     "output_type": "stream",
     "text": [
      " 66%|██████▌   | 4901/7439 [04:00<02:03, 20.51it/s]"
     ]
    },
    {
     "name": "stdout",
     "output_type": "stream",
     "text": [
      "(201, 159, 3)\n",
      "(195, 158, 3)\n",
      "(191, 150, 3)\n",
      "(163, 131, 3)\n",
      "(162, 128, 3)\n"
     ]
    },
    {
     "name": "stderr",
     "output_type": "stream",
     "text": [
      " 66%|██████▌   | 4907/7439 [04:00<02:00, 21.07it/s]"
     ]
    },
    {
     "name": "stdout",
     "output_type": "stream",
     "text": [
      "(183, 136, 3)\n",
      "(188, 144, 3)\n",
      "(158, 123, 3)\n",
      "(179, 136, 3)\n",
      "(185, 147, 3)\n"
     ]
    },
    {
     "name": "stderr",
     "output_type": "stream",
     "text": [
      " 66%|██████▌   | 4913/7439 [04:00<01:58, 21.35it/s]"
     ]
    },
    {
     "name": "stdout",
     "output_type": "stream",
     "text": [
      "(180, 140, 3)\n",
      "(170, 131, 3)\n",
      "(161, 123, 3)\n",
      "(180, 138, 3)\n",
      "(159, 126, 3)\n"
     ]
    },
    {
     "name": "stderr",
     "output_type": "stream",
     "text": [
      " 66%|██████▌   | 4916/7439 [04:00<01:57, 21.43it/s]"
     ]
    },
    {
     "name": "stdout",
     "output_type": "stream",
     "text": [
      "(187, 143, 3)\n",
      "(190, 143, 3)\n",
      "(188, 142, 3)\n",
      "(190, 145, 3)\n",
      "(184, 142, 3)\n"
     ]
    },
    {
     "name": "stderr",
     "output_type": "stream",
     "text": [
      " 66%|██████▌   | 4922/7439 [04:01<01:55, 21.82it/s]"
     ]
    },
    {
     "name": "stdout",
     "output_type": "stream",
     "text": [
      "(181, 141, 3)\n",
      "(177, 139, 3)\n",
      "(191, 143, 3)\n",
      "(182, 141, 3)\n",
      "(187, 143, 3)\n"
     ]
    },
    {
     "name": "stderr",
     "output_type": "stream",
     "text": [
      " 66%|██████▌   | 4928/7439 [04:01<01:57, 21.44it/s]"
     ]
    },
    {
     "name": "stdout",
     "output_type": "stream",
     "text": [
      "(179, 138, 3)\n",
      "(175, 136, 3)\n",
      "(188, 141, 3)\n",
      "(179, 137, 3)\n",
      "(177, 142, 3)\n"
     ]
    },
    {
     "name": "stderr",
     "output_type": "stream",
     "text": [
      " 66%|██████▋   | 4931/7439 [04:01<02:01, 20.66it/s]"
     ]
    },
    {
     "name": "stdout",
     "output_type": "stream",
     "text": [
      "(169, 133, 3)\n",
      "(197, 148, 3)\n",
      "(168, 131, 3)\n",
      "(172, 133, 3)\n"
     ]
    },
    {
     "name": "stderr",
     "output_type": "stream",
     "text": [
      " 66%|██████▋   | 4934/7439 [04:01<02:03, 20.30it/s]"
     ]
    },
    {
     "name": "stdout",
     "output_type": "stream",
     "text": [
      "(180, 141, 3)\n",
      "(184, 139, 3)\n",
      "(181, 137, 3)\n",
      "(171, 134, 3)\n"
     ]
    },
    {
     "name": "stderr",
     "output_type": "stream",
     "text": [
      " 66%|██████▋   | 4940/7439 [04:01<02:04, 20.06it/s]"
     ]
    },
    {
     "name": "stdout",
     "output_type": "stream",
     "text": [
      "(170, 134, 3)\n",
      "(174, 132, 3)\n",
      "(173, 137, 3)\n",
      "(169, 132, 3)\n"
     ]
    },
    {
     "name": "stderr",
     "output_type": "stream",
     "text": [
      " 66%|██████▋   | 4943/7439 [04:02<02:05, 19.85it/s]"
     ]
    },
    {
     "name": "stdout",
     "output_type": "stream",
     "text": [
      "(178, 138, 3)\n",
      "(188, 140, 3)\n",
      "(165, 128, 3)\n",
      "(182, 137, 3)\n"
     ]
    },
    {
     "name": "stderr",
     "output_type": "stream",
     "text": [
      " 67%|██████▋   | 4948/7439 [04:02<02:02, 20.40it/s]"
     ]
    },
    {
     "name": "stdout",
     "output_type": "stream",
     "text": [
      "(177, 139, 3)\n",
      "(171, 135, 3)\n",
      "(188, 142, 3)\n",
      "(169, 134, 3)\n",
      "(168, 133, 3)\n"
     ]
    },
    {
     "name": "stderr",
     "output_type": "stream",
     "text": [
      " 67%|██████▋   | 4951/7439 [04:02<02:00, 20.71it/s]"
     ]
    },
    {
     "name": "stdout",
     "output_type": "stream",
     "text": [
      "(170, 133, 3)\n",
      "(172, 136, 3)\n",
      "(170, 133, 3)\n",
      "(166, 129, 3)\n",
      "(164, 134, 3)\n"
     ]
    },
    {
     "name": "stderr",
     "output_type": "stream",
     "text": [
      " 67%|██████▋   | 4957/7439 [04:02<02:06, 19.59it/s]"
     ]
    },
    {
     "name": "stdout",
     "output_type": "stream",
     "text": [
      "(188, 142, 3)\n",
      "(164, 125, 3)\n",
      "(175, 139, 3)\n",
      "(167, 129, 3)\n"
     ]
    },
    {
     "name": "stderr",
     "output_type": "stream",
     "text": [
      " 67%|██████▋   | 4962/7439 [04:03<02:05, 19.72it/s]"
     ]
    },
    {
     "name": "stdout",
     "output_type": "stream",
     "text": [
      "(178, 136, 3)\n",
      "(164, 131, 3)\n",
      "(165, 130, 3)\n",
      "(170, 133, 3)\n",
      "(180, 136, 3)\n"
     ]
    },
    {
     "name": "stderr",
     "output_type": "stream",
     "text": [
      " 67%|██████▋   | 4967/7439 [04:03<02:04, 19.92it/s]"
     ]
    },
    {
     "name": "stdout",
     "output_type": "stream",
     "text": [
      "(173, 132, 3)\n",
      "(177, 134, 3)\n",
      "(191, 142, 3)\n",
      "(172, 130, 3)\n",
      "(193, 142, 3)\n"
     ]
    },
    {
     "name": "stderr",
     "output_type": "stream",
     "text": [
      " 67%|██████▋   | 4971/7439 [04:03<02:05, 19.63it/s]"
     ]
    },
    {
     "name": "stdout",
     "output_type": "stream",
     "text": [
      "(185, 144, 3)\n",
      "(182, 142, 3)\n",
      "(174, 136, 3)\n",
      "(166, 133, 3)\n",
      "(167, 133, 3)\n"
     ]
    },
    {
     "name": "stderr",
     "output_type": "stream",
     "text": [
      " 67%|██████▋   | 4977/7439 [04:03<01:59, 20.59it/s]"
     ]
    },
    {
     "name": "stdout",
     "output_type": "stream",
     "text": [
      "(170, 132, 3)\n",
      "(183, 143, 3)\n",
      "(175, 135, 3)\n",
      "(183, 139, 3)\n",
      "(178, 137, 3)\n"
     ]
    },
    {
     "name": "stderr",
     "output_type": "stream",
     "text": [
      " 67%|██████▋   | 4983/7439 [04:04<01:58, 20.71it/s]"
     ]
    },
    {
     "name": "stdout",
     "output_type": "stream",
     "text": [
      "(159, 129, 3)\n",
      "(180, 136, 3)\n",
      "(173, 135, 3)\n",
      "(169, 134, 3)\n",
      "(177, 135, 3)\n"
     ]
    },
    {
     "name": "stderr",
     "output_type": "stream",
     "text": [
      " 67%|██████▋   | 4986/7439 [04:04<01:55, 21.30it/s]"
     ]
    },
    {
     "name": "stdout",
     "output_type": "stream",
     "text": [
      "(183, 139, 3)\n",
      "(171, 134, 3)\n",
      "(177, 136, 3)\n",
      "(181, 140, 3)\n",
      "(171, 134, 3)\n"
     ]
    },
    {
     "name": "stderr",
     "output_type": "stream",
     "text": [
      " 67%|██████▋   | 4992/7439 [04:04<01:50, 22.10it/s]"
     ]
    },
    {
     "name": "stdout",
     "output_type": "stream",
     "text": [
      "(171, 137, 3)\n",
      "(185, 144, 3)\n",
      "(180, 140, 3)\n",
      "(179, 141, 3)\n",
      "(162, 129, 3)\n"
     ]
    },
    {
     "name": "stderr",
     "output_type": "stream",
     "text": [
      " 67%|██████▋   | 4998/7439 [04:04<01:48, 22.52it/s]"
     ]
    },
    {
     "name": "stdout",
     "output_type": "stream",
     "text": [
      "(164, 130, 3)\n",
      "(164, 126, 3)\n",
      "(182, 142, 3)\n",
      "(173, 135, 3)\n",
      "(175, 134, 3)\n"
     ]
    },
    {
     "name": "stderr",
     "output_type": "stream",
     "text": [
      " 67%|██████▋   | 5001/7439 [04:04<01:46, 22.83it/s]"
     ]
    },
    {
     "name": "stdout",
     "output_type": "stream",
     "text": [
      "(171, 133, 3)\n",
      "(187, 138, 3)\n",
      "(184, 141, 3)\n",
      "(190, 143, 3)\n",
      "(173, 135, 3)\n"
     ]
    },
    {
     "name": "stderr",
     "output_type": "stream",
     "text": [
      " 67%|██████▋   | 5007/7439 [04:05<01:46, 22.88it/s]"
     ]
    },
    {
     "name": "stdout",
     "output_type": "stream",
     "text": [
      "(182, 139, 3)\n",
      "(181, 135, 3)\n",
      "(188, 140, 3)\n",
      "(172, 132, 3)\n",
      "(178, 135, 3)\n"
     ]
    },
    {
     "name": "stderr",
     "output_type": "stream",
     "text": [
      " 67%|██████▋   | 5013/7439 [04:05<01:48, 22.31it/s]"
     ]
    },
    {
     "name": "stdout",
     "output_type": "stream",
     "text": [
      "(174, 139, 3)\n",
      "(179, 140, 3)\n",
      "(183, 136, 3)\n",
      "(171, 132, 3)\n",
      "(168, 133, 3)\n"
     ]
    },
    {
     "name": "stderr",
     "output_type": "stream",
     "text": [
      " 67%|██████▋   | 5016/7439 [04:05<01:51, 21.75it/s]"
     ]
    },
    {
     "name": "stdout",
     "output_type": "stream",
     "text": [
      "(168, 133, 3)\n",
      "(167, 134, 3)\n",
      "(171, 134, 3)\n",
      "(164, 131, 3)\n",
      "(185, 145, 3)\n"
     ]
    },
    {
     "name": "stderr",
     "output_type": "stream",
     "text": [
      " 68%|██████▊   | 5022/7439 [04:05<01:52, 21.52it/s]"
     ]
    },
    {
     "name": "stdout",
     "output_type": "stream",
     "text": [
      "(168, 130, 3)\n",
      "(174, 135, 3)\n",
      "(165, 134, 3)\n",
      "(171, 135, 3)\n",
      "(169, 132, 3)\n"
     ]
    },
    {
     "name": "stderr",
     "output_type": "stream",
     "text": [
      " 68%|██████▊   | 5028/7439 [04:06<01:52, 21.47it/s]"
     ]
    },
    {
     "name": "stdout",
     "output_type": "stream",
     "text": [
      "(183, 139, 3)\n",
      "(171, 134, 3)\n",
      "(176, 134, 3)\n",
      "(168, 135, 3)\n",
      "(171, 137, 3)\n"
     ]
    },
    {
     "name": "stderr",
     "output_type": "stream",
     "text": [
      " 68%|██████▊   | 5031/7439 [04:06<01:49, 22.04it/s]"
     ]
    },
    {
     "name": "stdout",
     "output_type": "stream",
     "text": [
      "(168, 134, 3)\n",
      "(179, 138, 3)\n",
      "(169, 131, 3)\n",
      "(171, 134, 3)\n",
      "(172, 135, 3)\n"
     ]
    },
    {
     "name": "stderr",
     "output_type": "stream",
     "text": [
      " 68%|██████▊   | 5037/7439 [04:06<01:49, 21.95it/s]"
     ]
    },
    {
     "name": "stdout",
     "output_type": "stream",
     "text": [
      "(176, 136, 3)\n",
      "(169, 134, 3)\n",
      "(185, 142, 3)\n",
      "(172, 133, 3)\n",
      "(179, 140, 3)\n"
     ]
    },
    {
     "name": "stderr",
     "output_type": "stream",
     "text": [
      " 68%|██████▊   | 5043/7439 [04:06<01:49, 21.84it/s]"
     ]
    },
    {
     "name": "stdout",
     "output_type": "stream",
     "text": [
      "(177, 136, 3)\n",
      "(176, 140, 3)\n",
      "(168, 134, 3)\n",
      "(191, 144, 3)\n",
      "(165, 130, 3)\n"
     ]
    },
    {
     "name": "stderr",
     "output_type": "stream",
     "text": [
      " 68%|██████▊   | 5046/7439 [04:06<01:50, 21.58it/s]"
     ]
    },
    {
     "name": "stdout",
     "output_type": "stream",
     "text": [
      "(188, 139, 3)\n",
      "(176, 137, 3)\n",
      "(176, 138, 3)\n",
      "(166, 132, 3)\n",
      "(184, 143, 3)\n"
     ]
    },
    {
     "name": "stderr",
     "output_type": "stream",
     "text": [
      " 68%|██████▊   | 5052/7439 [04:07<01:57, 20.32it/s]"
     ]
    },
    {
     "name": "stdout",
     "output_type": "stream",
     "text": [
      "(186, 138, 3)\n",
      "(180, 138, 3)\n",
      "(183, 143, 3)\n",
      "(171, 136, 3)\n"
     ]
    },
    {
     "name": "stderr",
     "output_type": "stream",
     "text": [
      " 68%|██████▊   | 5055/7439 [04:07<01:58, 20.19it/s]"
     ]
    },
    {
     "name": "stdout",
     "output_type": "stream",
     "text": [
      "(176, 138, 3)\n",
      "(172, 133, 3)\n",
      "(171, 129, 3)\n",
      "(172, 138, 3)\n",
      "(170, 133, 3)\n"
     ]
    },
    {
     "name": "stderr",
     "output_type": "stream",
     "text": [
      " 68%|██████▊   | 5061/7439 [04:07<01:53, 20.98it/s]"
     ]
    },
    {
     "name": "stdout",
     "output_type": "stream",
     "text": [
      "(168, 133, 3)\n",
      "(176, 137, 3)\n",
      "(191, 139, 3)\n",
      "(176, 136, 3)\n",
      "(179, 138, 3)\n"
     ]
    },
    {
     "name": "stderr",
     "output_type": "stream",
     "text": [
      " 68%|██████▊   | 5067/7439 [04:07<01:54, 20.75it/s]"
     ]
    },
    {
     "name": "stdout",
     "output_type": "stream",
     "text": [
      "(169, 133, 3)\n",
      "(176, 135, 3)\n",
      "(180, 137, 3)\n",
      "(157, 121, 3)\n",
      "(146, 118, 3)\n"
     ]
    },
    {
     "name": "stderr",
     "output_type": "stream",
     "text": [
      " 68%|██████▊   | 5070/7439 [04:08<01:53, 20.88it/s]"
     ]
    },
    {
     "name": "stdout",
     "output_type": "stream",
     "text": [
      "(144, 115, 3)\n",
      "(158, 123, 3)\n",
      "(155, 121, 3)\n",
      "(146, 117, 3)\n",
      "(152, 121, 3)\n"
     ]
    },
    {
     "name": "stderr",
     "output_type": "stream",
     "text": [
      " 68%|██████▊   | 5076/7439 [04:08<01:47, 21.93it/s]"
     ]
    },
    {
     "name": "stdout",
     "output_type": "stream",
     "text": [
      "(151, 121, 3)\n",
      "(148, 118, 3)\n",
      "(149, 119, 3)\n",
      "(147, 117, 3)\n",
      "(146, 117, 3)\n"
     ]
    },
    {
     "name": "stderr",
     "output_type": "stream",
     "text": [
      " 68%|██████▊   | 5082/7439 [04:08<01:46, 22.06it/s]"
     ]
    },
    {
     "name": "stdout",
     "output_type": "stream",
     "text": [
      "(156, 120, 3)\n",
      "(149, 120, 3)\n",
      "(144, 116, 3)\n",
      "(154, 119, 3)\n",
      "(148, 116, 3)\n"
     ]
    },
    {
     "name": "stderr",
     "output_type": "stream",
     "text": [
      " 68%|██████▊   | 5085/7439 [04:08<01:47, 21.94it/s]"
     ]
    },
    {
     "name": "stdout",
     "output_type": "stream",
     "text": [
      "(160, 121, 3)\n",
      "(145, 118, 3)\n",
      "(147, 118, 3)\n",
      "(147, 118, 3)\n",
      "(156, 121, 3)\n"
     ]
    },
    {
     "name": "stderr",
     "output_type": "stream",
     "text": [
      " 68%|██████▊   | 5091/7439 [04:09<01:46, 22.05it/s]"
     ]
    },
    {
     "name": "stdout",
     "output_type": "stream",
     "text": [
      "(155, 125, 3)\n",
      "(155, 121, 3)\n",
      "(151, 122, 3)\n",
      "(147, 119, 3)\n",
      "(151, 117, 3)\n"
     ]
    },
    {
     "name": "stderr",
     "output_type": "stream",
     "text": [
      " 68%|██████▊   | 5094/7439 [04:09<02:02, 19.19it/s]"
     ]
    },
    {
     "name": "stdout",
     "output_type": "stream",
     "text": [
      "(153, 121, 3)\n",
      "(149, 120, 3)\n",
      "(149, 121, 3)\n"
     ]
    },
    {
     "name": "stderr",
     "output_type": "stream",
     "text": [
      " 69%|██████▊   | 5099/7439 [04:09<01:59, 19.57it/s]"
     ]
    },
    {
     "name": "stdout",
     "output_type": "stream",
     "text": [
      "(151, 118, 3)\n",
      "(156, 120, 3)\n",
      "(154, 120, 3)\n",
      "(150, 121, 3)\n",
      "(148, 122, 3)\n"
     ]
    },
    {
     "name": "stderr",
     "output_type": "stream",
     "text": [
      " 69%|██████▊   | 5105/7439 [04:09<01:50, 21.21it/s]"
     ]
    },
    {
     "name": "stdout",
     "output_type": "stream",
     "text": [
      "(150, 121, 3)\n",
      "(143, 115, 3)\n",
      "(157, 126, 3)\n",
      "(148, 120, 3)\n",
      "(145, 118, 3)\n"
     ]
    },
    {
     "name": "stderr",
     "output_type": "stream",
     "text": [
      " 69%|██████▊   | 5108/7439 [04:09<01:49, 21.29it/s]"
     ]
    },
    {
     "name": "stdout",
     "output_type": "stream",
     "text": [
      "(153, 122, 3)\n",
      "(145, 117, 3)\n",
      "(152, 119, 3)\n",
      "(142, 115, 3)\n",
      "(145, 116, 3)\n"
     ]
    },
    {
     "name": "stderr",
     "output_type": "stream",
     "text": [
      " 69%|██████▊   | 5114/7439 [04:10<01:49, 21.18it/s]"
     ]
    },
    {
     "name": "stdout",
     "output_type": "stream",
     "text": [
      "(151, 117, 3)\n",
      "(147, 119, 3)\n",
      "(150, 119, 3)\n",
      "(150, 121, 3)\n",
      "(158, 125, 3)\n"
     ]
    },
    {
     "name": "stderr",
     "output_type": "stream",
     "text": [
      " 69%|██████▉   | 5120/7439 [04:10<01:49, 21.23it/s]"
     ]
    },
    {
     "name": "stdout",
     "output_type": "stream",
     "text": [
      "(151, 119, 3)\n",
      "(152, 120, 3)\n",
      "(145, 119, 3)\n",
      "(147, 117, 3)\n",
      "(151, 117, 3)\n"
     ]
    },
    {
     "name": "stderr",
     "output_type": "stream",
     "text": [
      " 69%|██████▉   | 5123/7439 [04:10<01:51, 20.78it/s]"
     ]
    },
    {
     "name": "stdout",
     "output_type": "stream",
     "text": [
      "(148, 120, 3)\n",
      "(153, 120, 3)\n",
      "(154, 124, 3)\n",
      "(152, 119, 3)\n",
      "(149, 117, 3)\n"
     ]
    },
    {
     "name": "stderr",
     "output_type": "stream",
     "text": [
      " 69%|██████▉   | 5129/7439 [04:10<01:49, 21.13it/s]"
     ]
    },
    {
     "name": "stdout",
     "output_type": "stream",
     "text": [
      "(148, 118, 3)\n",
      "(146, 120, 3)\n",
      "(149, 116, 3)\n",
      "(147, 119, 3)\n",
      "(151, 122, 3)\n"
     ]
    },
    {
     "name": "stderr",
     "output_type": "stream",
     "text": [
      " 69%|██████▉   | 5132/7439 [04:11<01:53, 20.27it/s]"
     ]
    },
    {
     "name": "stdout",
     "output_type": "stream",
     "text": [
      "(146, 115, 3)\n",
      "(154, 119, 3)\n",
      "(160, 124, 3)\n",
      "(159, 122, 3)\n"
     ]
    },
    {
     "name": "stderr",
     "output_type": "stream",
     "text": [
      " 69%|██████▉   | 5138/7439 [04:11<01:53, 20.31it/s]"
     ]
    },
    {
     "name": "stdout",
     "output_type": "stream",
     "text": [
      "(150, 122, 3)\n",
      "(154, 121, 3)\n",
      "(152, 121, 3)\n",
      "(154, 121, 3)\n",
      "(153, 123, 3)\n"
     ]
    },
    {
     "name": "stderr",
     "output_type": "stream",
     "text": [
      " 69%|██████▉   | 5144/7439 [04:11<01:48, 21.23it/s]"
     ]
    },
    {
     "name": "stdout",
     "output_type": "stream",
     "text": [
      "(154, 121, 3)\n",
      "(150, 121, 3)\n",
      "(153, 122, 3)\n",
      "(153, 119, 3)\n",
      "(149, 119, 3)\n"
     ]
    },
    {
     "name": "stderr",
     "output_type": "stream",
     "text": [
      " 69%|██████▉   | 5147/7439 [04:11<01:46, 21.43it/s]"
     ]
    },
    {
     "name": "stdout",
     "output_type": "stream",
     "text": [
      "(154, 119, 3)\n",
      "(150, 119, 3)\n",
      "(148, 118, 3)\n",
      "(178, 136, 3)\n"
     ]
    },
    {
     "name": "stderr",
     "output_type": "stream",
     "text": [
      " 69%|██████▉   | 5150/7439 [04:11<01:52, 20.33it/s]"
     ]
    },
    {
     "name": "stdout",
     "output_type": "stream",
     "text": [
      "(145, 120, 3)\n",
      "(161, 130, 3)\n",
      "(147, 126, 3)\n",
      "(139, 118, 3)\n"
     ]
    },
    {
     "name": "stderr",
     "output_type": "stream",
     "text": [
      " 69%|██████▉   | 5155/7439 [04:12<01:55, 19.73it/s]"
     ]
    },
    {
     "name": "stdout",
     "output_type": "stream",
     "text": [
      "(156, 127, 3)\n",
      "(168, 136, 3)\n",
      "(167, 132, 3)\n",
      "(151, 122, 3)\n"
     ]
    },
    {
     "name": "stderr",
     "output_type": "stream",
     "text": [
      " 69%|██████▉   | 5159/7439 [04:12<02:00, 18.99it/s]"
     ]
    },
    {
     "name": "stdout",
     "output_type": "stream",
     "text": [
      "(142, 121, 3)\n",
      "(143, 118, 3)\n",
      "(187, 144, 3)\n",
      "(144, 121, 3)\n"
     ]
    },
    {
     "name": "stderr",
     "output_type": "stream",
     "text": [
      " 69%|██████▉   | 5164/7439 [04:12<01:58, 19.22it/s]"
     ]
    },
    {
     "name": "stdout",
     "output_type": "stream",
     "text": [
      "(149, 122, 3)\n",
      "(159, 128, 3)\n",
      "(159, 126, 3)\n",
      "(155, 124, 3)\n",
      "(142, 120, 3)\n"
     ]
    },
    {
     "name": "stderr",
     "output_type": "stream",
     "text": [
      " 69%|██████▉   | 5169/7439 [04:12<01:56, 19.50it/s]"
     ]
    },
    {
     "name": "stdout",
     "output_type": "stream",
     "text": [
      "(144, 117, 3)\n",
      "(153, 126, 3)\n",
      "(155, 126, 3)\n",
      "(170, 130, 3)\n"
     ]
    },
    {
     "name": "stderr",
     "output_type": "stream",
     "text": [
      " 70%|██████▉   | 5174/7439 [04:13<01:57, 19.30it/s]"
     ]
    },
    {
     "name": "stdout",
     "output_type": "stream",
     "text": [
      "(150, 123, 3)\n",
      "(154, 125, 3)\n",
      "(169, 132, 3)\n",
      "(153, 127, 3)\n",
      "(158, 126, 3)\n"
     ]
    },
    {
     "name": "stderr",
     "output_type": "stream",
     "text": [
      " 70%|██████▉   | 5178/7439 [04:13<02:02, 18.49it/s]"
     ]
    },
    {
     "name": "stdout",
     "output_type": "stream",
     "text": [
      "(162, 133, 3)\n",
      "(158, 126, 3)\n",
      "(164, 132, 3)\n",
      "(162, 132, 3)\n"
     ]
    },
    {
     "name": "stderr",
     "output_type": "stream",
     "text": [
      " 70%|██████▉   | 5182/7439 [04:13<02:00, 18.66it/s]"
     ]
    },
    {
     "name": "stdout",
     "output_type": "stream",
     "text": [
      "(164, 132, 3)\n",
      "(153, 124, 3)\n",
      "(154, 125, 3)\n",
      "(155, 124, 3)\n"
     ]
    },
    {
     "name": "stderr",
     "output_type": "stream",
     "text": [
      " 70%|██████▉   | 5186/7439 [04:13<01:58, 19.02it/s]"
     ]
    },
    {
     "name": "stdout",
     "output_type": "stream",
     "text": [
      "(148, 125, 3)\n",
      "(168, 137, 3)\n",
      "(149, 124, 3)\n",
      "(148, 120, 3)\n"
     ]
    },
    {
     "name": "stderr",
     "output_type": "stream",
     "text": [
      " 70%|██████▉   | 5190/7439 [04:14<01:59, 18.81it/s]"
     ]
    },
    {
     "name": "stdout",
     "output_type": "stream",
     "text": [
      "(165, 134, 3)\n",
      "(160, 125, 3)\n",
      "(167, 132, 3)\n",
      "(160, 129, 3)\n"
     ]
    },
    {
     "name": "stderr",
     "output_type": "stream",
     "text": [
      " 70%|██████▉   | 5195/7439 [04:14<01:54, 19.57it/s]"
     ]
    },
    {
     "name": "stdout",
     "output_type": "stream",
     "text": [
      "(143, 120, 3)\n",
      "(163, 129, 3)\n",
      "(142, 119, 3)\n",
      "(147, 121, 3)\n",
      "(147, 118, 3)\n"
     ]
    },
    {
     "name": "stderr",
     "output_type": "stream",
     "text": [
      " 70%|██████▉   | 5199/7439 [04:14<02:00, 18.61it/s]"
     ]
    },
    {
     "name": "stdout",
     "output_type": "stream",
     "text": [
      "(162, 130, 3)\n",
      "(146, 123, 3)\n",
      "(145, 117, 3)\n",
      "(195, 155, 3)\n"
     ]
    },
    {
     "name": "stderr",
     "output_type": "stream",
     "text": [
      " 70%|██████▉   | 5203/7439 [04:14<02:03, 18.13it/s]"
     ]
    },
    {
     "name": "stdout",
     "output_type": "stream",
     "text": [
      "(159, 123, 3)\n",
      "(146, 123, 3)\n",
      "(167, 136, 3)\n",
      "(145, 119, 3)\n"
     ]
    },
    {
     "name": "stderr",
     "output_type": "stream",
     "text": [
      " 70%|██████▉   | 5207/7439 [04:15<02:06, 17.59it/s]"
     ]
    },
    {
     "name": "stdout",
     "output_type": "stream",
     "text": [
      "(162, 129, 3)\n",
      "(155, 126, 3)\n",
      "(160, 126, 3)\n",
      "(149, 123, 3)\n"
     ]
    },
    {
     "name": "stderr",
     "output_type": "stream",
     "text": [
      " 70%|███████   | 5211/7439 [04:15<02:02, 18.23it/s]"
     ]
    },
    {
     "name": "stdout",
     "output_type": "stream",
     "text": [
      "(166, 131, 3)\n",
      "(143, 120, 3)\n",
      "(162, 134, 3)\n",
      "(158, 132, 3)\n"
     ]
    },
    {
     "name": "stderr",
     "output_type": "stream",
     "text": [
      " 70%|███████   | 5215/7439 [04:15<02:02, 18.12it/s]"
     ]
    },
    {
     "name": "stdout",
     "output_type": "stream",
     "text": [
      "(156, 122, 3)\n",
      "(163, 129, 3)\n",
      "(169, 135, 3)\n",
      "(161, 132, 3)\n"
     ]
    },
    {
     "name": "stderr",
     "output_type": "stream",
     "text": [
      " 70%|███████   | 5219/7439 [04:15<01:59, 18.59it/s]"
     ]
    },
    {
     "name": "stdout",
     "output_type": "stream",
     "text": [
      "(162, 129, 3)\n",
      "(149, 122, 3)\n",
      "(163, 127, 3)\n",
      "(159, 131, 3)\n"
     ]
    },
    {
     "name": "stderr",
     "output_type": "stream",
     "text": [
      " 70%|███████   | 5222/7439 [04:15<01:55, 19.14it/s]"
     ]
    },
    {
     "name": "stdout",
     "output_type": "stream",
     "text": [
      "(142, 120, 3)\n",
      "(153, 126, 3)\n",
      "(192, 146, 3)\n",
      "(152, 123, 3)\n"
     ]
    },
    {
     "name": "stderr",
     "output_type": "stream",
     "text": [
      " 70%|███████   | 5227/7439 [04:16<01:55, 19.11it/s]"
     ]
    },
    {
     "name": "stdout",
     "output_type": "stream",
     "text": [
      "(164, 136, 3)\n",
      "(158, 126, 3)\n",
      "(151, 125, 3)\n",
      "(163, 128, 3)\n",
      "(160, 122, 3)\n"
     ]
    },
    {
     "name": "stderr",
     "output_type": "stream",
     "text": [
      " 70%|███████   | 5233/7439 [04:16<01:44, 21.02it/s]"
     ]
    },
    {
     "name": "stdout",
     "output_type": "stream",
     "text": [
      "(162, 129, 3)\n",
      "(162, 130, 3)\n",
      "(168, 134, 3)\n",
      "(159, 124, 3)\n",
      "(160, 125, 3)\n"
     ]
    },
    {
     "name": "stderr",
     "output_type": "stream",
     "text": [
      " 70%|███████   | 5236/7439 [04:16<01:42, 21.46it/s]"
     ]
    },
    {
     "name": "stdout",
     "output_type": "stream",
     "text": [
      "(177, 136, 3)\n",
      "(180, 138, 3)\n",
      "(175, 136, 3)\n",
      "(164, 126, 3)\n",
      "(162, 128, 3)\n"
     ]
    },
    {
     "name": "stderr",
     "output_type": "stream",
     "text": [
      " 70%|███████   | 5242/7439 [04:16<01:36, 22.82it/s]"
     ]
    },
    {
     "name": "stdout",
     "output_type": "stream",
     "text": [
      "(158, 124, 3)\n",
      "(173, 136, 3)\n",
      "(161, 129, 3)\n",
      "(173, 137, 3)\n",
      "(169, 136, 3)\n"
     ]
    },
    {
     "name": "stderr",
     "output_type": "stream",
     "text": [
      " 71%|███████   | 5248/7439 [04:16<01:35, 22.98it/s]"
     ]
    },
    {
     "name": "stdout",
     "output_type": "stream",
     "text": [
      "(165, 131, 3)\n",
      "(160, 129, 3)\n",
      "(171, 132, 3)\n",
      "(167, 131, 3)\n",
      "(163, 132, 3)\n"
     ]
    },
    {
     "name": "stderr",
     "output_type": "stream",
     "text": [
      " 71%|███████   | 5251/7439 [04:17<01:34, 23.04it/s]"
     ]
    },
    {
     "name": "stdout",
     "output_type": "stream",
     "text": [
      "(166, 131, 3)\n",
      "(175, 137, 3)\n",
      "(162, 129, 3)\n",
      "(168, 133, 3)\n",
      "(161, 128, 3)\n"
     ]
    },
    {
     "name": "stderr",
     "output_type": "stream",
     "text": [
      " 71%|███████   | 5257/7439 [04:17<01:35, 22.78it/s]"
     ]
    },
    {
     "name": "stdout",
     "output_type": "stream",
     "text": [
      "(168, 134, 3)\n",
      "(163, 129, 3)\n",
      "(159, 126, 3)\n",
      "(159, 128, 3)\n",
      "(155, 122, 3)\n"
     ]
    },
    {
     "name": "stderr",
     "output_type": "stream",
     "text": [
      " 71%|███████   | 5263/7439 [04:17<01:38, 22.14it/s]"
     ]
    },
    {
     "name": "stdout",
     "output_type": "stream",
     "text": [
      "(170, 134, 3)\n",
      "(158, 126, 3)\n",
      "(172, 133, 3)\n",
      "(166, 132, 3)\n",
      "(153, 126, 3)\n"
     ]
    },
    {
     "name": "stderr",
     "output_type": "stream",
     "text": [
      " 71%|███████   | 5266/7439 [04:17<01:40, 21.55it/s]"
     ]
    },
    {
     "name": "stdout",
     "output_type": "stream",
     "text": [
      "(156, 123, 3)\n",
      "(170, 134, 3)\n",
      "(167, 133, 3)\n",
      "(156, 122, 3)\n"
     ]
    },
    {
     "name": "stderr",
     "output_type": "stream",
     "text": [
      " 71%|███████   | 5272/7439 [04:18<01:41, 21.25it/s]"
     ]
    },
    {
     "name": "stdout",
     "output_type": "stream",
     "text": [
      "(174, 136, 3)\n",
      "(163, 132, 3)\n",
      "(172, 134, 3)\n",
      "(172, 137, 3)\n",
      "(164, 130, 3)\n"
     ]
    },
    {
     "name": "stderr",
     "output_type": "stream",
     "text": [
      " 71%|███████   | 5275/7439 [04:18<01:41, 21.23it/s]"
     ]
    },
    {
     "name": "stdout",
     "output_type": "stream",
     "text": [
      "(165, 129, 3)\n",
      "(162, 130, 3)\n",
      "(163, 130, 3)\n",
      "(165, 130, 3)\n",
      "(161, 130, 3)\n"
     ]
    },
    {
     "name": "stderr",
     "output_type": "stream",
     "text": [
      " 71%|███████   | 5281/7439 [04:18<01:40, 21.43it/s]"
     ]
    },
    {
     "name": "stdout",
     "output_type": "stream",
     "text": [
      "(165, 129, 3)\n",
      "(165, 131, 3)\n",
      "(178, 138, 3)\n",
      "(163, 128, 3)\n",
      "(162, 130, 3)\n"
     ]
    },
    {
     "name": "stderr",
     "output_type": "stream",
     "text": [
      " 71%|███████   | 5287/7439 [04:18<01:40, 21.31it/s]"
     ]
    },
    {
     "name": "stdout",
     "output_type": "stream",
     "text": [
      "(167, 129, 3)\n",
      "(155, 122, 3)\n",
      "(166, 129, 3)\n",
      "(161, 124, 3)\n",
      "(164, 129, 3)\n"
     ]
    },
    {
     "name": "stderr",
     "output_type": "stream",
     "text": [
      " 71%|███████   | 5290/7439 [04:18<01:40, 21.46it/s]"
     ]
    },
    {
     "name": "stdout",
     "output_type": "stream",
     "text": [
      "(164, 130, 3)\n",
      "(166, 133, 3)\n",
      "(166, 131, 3)\n",
      "(166, 132, 3)\n",
      "(167, 129, 3)\n"
     ]
    },
    {
     "name": "stderr",
     "output_type": "stream",
     "text": [
      " 71%|███████   | 5296/7439 [04:19<01:41, 21.04it/s]"
     ]
    },
    {
     "name": "stdout",
     "output_type": "stream",
     "text": [
      "(165, 127, 3)\n",
      "(163, 129, 3)\n",
      "(171, 137, 3)\n",
      "(167, 130, 3)\n",
      "(169, 133, 3)\n"
     ]
    },
    {
     "name": "stderr",
     "output_type": "stream",
     "text": [
      " 71%|███████▏  | 5302/7439 [04:19<01:42, 20.84it/s]"
     ]
    },
    {
     "name": "stdout",
     "output_type": "stream",
     "text": [
      "(157, 123, 3)\n",
      "(155, 126, 3)\n",
      "(165, 131, 3)\n",
      "(164, 132, 3)\n",
      "(159, 123, 3)\n"
     ]
    },
    {
     "name": "stderr",
     "output_type": "stream",
     "text": [
      " 71%|███████▏  | 5305/7439 [04:19<01:54, 18.71it/s]"
     ]
    },
    {
     "name": "stdout",
     "output_type": "stream",
     "text": [
      "(163, 129, 3)\n",
      "(155, 123, 3)\n",
      "(157, 127, 3)\n",
      "(170, 133, 3)\n"
     ]
    },
    {
     "name": "stderr",
     "output_type": "stream",
     "text": [
      " 71%|███████▏  | 5311/7439 [04:19<01:44, 20.36it/s]"
     ]
    },
    {
     "name": "stdout",
     "output_type": "stream",
     "text": [
      "(176, 138, 3)\n",
      "(166, 132, 3)\n",
      "(157, 127, 3)\n",
      "(149, 122, 3)\n",
      "(151, 123, 3)\n"
     ]
    },
    {
     "name": "stderr",
     "output_type": "stream",
     "text": [
      " 71%|███████▏  | 5314/7439 [04:20<01:40, 21.07it/s]"
     ]
    },
    {
     "name": "stdout",
     "output_type": "stream",
     "text": [
      "(158, 126, 3)\n",
      "(151, 123, 3)\n",
      "(140, 117, 3)\n",
      "(147, 122, 3)\n",
      "(158, 125, 3)\n"
     ]
    },
    {
     "name": "stderr",
     "output_type": "stream",
     "text": [
      " 72%|███████▏  | 5320/7439 [04:20<01:35, 22.28it/s]"
     ]
    },
    {
     "name": "stdout",
     "output_type": "stream",
     "text": [
      "(151, 122, 3)\n",
      "(145, 121, 3)\n",
      "(144, 113, 3)\n",
      "(140, 117, 3)\n",
      "(150, 124, 3)\n"
     ]
    },
    {
     "name": "stderr",
     "output_type": "stream",
     "text": [
      " 72%|███████▏  | 5326/7439 [04:20<01:33, 22.56it/s]"
     ]
    },
    {
     "name": "stdout",
     "output_type": "stream",
     "text": [
      "(152, 122, 3)\n",
      "(146, 120, 3)\n",
      "(145, 118, 3)\n",
      "(153, 119, 3)\n",
      "(150, 123, 3)\n"
     ]
    },
    {
     "name": "stderr",
     "output_type": "stream",
     "text": [
      " 72%|███████▏  | 5329/7439 [04:20<01:33, 22.66it/s]"
     ]
    },
    {
     "name": "stdout",
     "output_type": "stream",
     "text": [
      "(148, 121, 3)\n",
      "(147, 122, 3)\n",
      "(143, 118, 3)\n",
      "(149, 122, 3)\n",
      "(150, 121, 3)\n"
     ]
    },
    {
     "name": "stderr",
     "output_type": "stream",
     "text": [
      " 72%|███████▏  | 5335/7439 [04:21<01:33, 22.41it/s]"
     ]
    },
    {
     "name": "stdout",
     "output_type": "stream",
     "text": [
      "(154, 127, 3)\n",
      "(140, 116, 3)\n",
      "(148, 121, 3)\n",
      "(149, 123, 3)\n",
      "(151, 121, 3)\n"
     ]
    },
    {
     "name": "stderr",
     "output_type": "stream",
     "text": [
      " 72%|███████▏  | 5341/7439 [04:21<01:34, 22.09it/s]"
     ]
    },
    {
     "name": "stdout",
     "output_type": "stream",
     "text": [
      "(148, 118, 3)\n",
      "(147, 119, 3)\n",
      "(153, 124, 3)\n",
      "(143, 121, 3)\n",
      "(169, 131, 3)\n"
     ]
    },
    {
     "name": "stderr",
     "output_type": "stream",
     "text": [
      " 72%|███████▏  | 5344/7439 [04:21<01:35, 22.01it/s]"
     ]
    },
    {
     "name": "stdout",
     "output_type": "stream",
     "text": [
      "(136, 114, 3)\n",
      "(138, 115, 3)\n",
      "(137, 117, 3)\n",
      "(140, 118, 3)\n"
     ]
    },
    {
     "name": "stderr",
     "output_type": "stream",
     "text": [
      " 72%|███████▏  | 5350/7439 [04:21<01:37, 21.36it/s]"
     ]
    },
    {
     "name": "stdout",
     "output_type": "stream",
     "text": [
      "(145, 120, 3)\n",
      "(148, 120, 3)\n",
      "(143, 118, 3)\n",
      "(142, 118, 3)\n",
      "(158, 124, 3)\n"
     ]
    },
    {
     "name": "stderr",
     "output_type": "stream",
     "text": [
      " 72%|███████▏  | 5353/7439 [04:21<01:37, 21.31it/s]"
     ]
    },
    {
     "name": "stdout",
     "output_type": "stream",
     "text": [
      "(158, 125, 3)\n",
      "(149, 120, 3)\n",
      "(152, 124, 3)\n",
      "(141, 120, 3)\n",
      "(147, 120, 3)\n"
     ]
    },
    {
     "name": "stderr",
     "output_type": "stream",
     "text": [
      " 72%|███████▏  | 5359/7439 [04:22<01:37, 21.34it/s]"
     ]
    },
    {
     "name": "stdout",
     "output_type": "stream",
     "text": [
      "(145, 123, 3)\n",
      "(141, 117, 3)\n",
      "(149, 120, 3)\n",
      "(148, 118, 3)\n",
      "(138, 117, 3)\n"
     ]
    },
    {
     "name": "stderr",
     "output_type": "stream",
     "text": [
      " 72%|███████▏  | 5365/7439 [04:22<01:35, 21.77it/s]"
     ]
    },
    {
     "name": "stdout",
     "output_type": "stream",
     "text": [
      "(143, 119, 3)\n",
      "(150, 123, 3)\n",
      "(145, 118, 3)\n",
      "(151, 124, 3)\n",
      "(160, 127, 3)\n"
     ]
    },
    {
     "name": "stderr",
     "output_type": "stream",
     "text": [
      " 72%|███████▏  | 5368/7439 [04:22<01:35, 21.68it/s]"
     ]
    },
    {
     "name": "stdout",
     "output_type": "stream",
     "text": [
      "(147, 121, 3)\n",
      "(147, 122, 3)\n",
      "(146, 121, 3)\n",
      "(144, 118, 3)\n",
      "(158, 127, 3)\n"
     ]
    },
    {
     "name": "stderr",
     "output_type": "stream",
     "text": [
      " 72%|███████▏  | 5374/7439 [04:22<01:34, 21.80it/s]"
     ]
    },
    {
     "name": "stdout",
     "output_type": "stream",
     "text": [
      "(157, 125, 3)\n",
      "(146, 121, 3)\n",
      "(151, 122, 3)\n",
      "(176, 132, 3)\n",
      "(155, 124, 3)\n"
     ]
    },
    {
     "name": "stderr",
     "output_type": "stream",
     "text": [
      " 72%|███████▏  | 5380/7439 [04:23<01:36, 21.28it/s]"
     ]
    },
    {
     "name": "stdout",
     "output_type": "stream",
     "text": [
      "(154, 124, 3)\n",
      "(153, 121, 3)\n",
      "(152, 122, 3)\n",
      "(153, 122, 3)\n",
      "(142, 117, 3)\n"
     ]
    },
    {
     "name": "stderr",
     "output_type": "stream",
     "text": [
      " 72%|███████▏  | 5383/7439 [04:23<01:36, 21.31it/s]"
     ]
    },
    {
     "name": "stdout",
     "output_type": "stream",
     "text": [
      "(147, 123, 3)\n",
      "(147, 119, 3)\n",
      "(149, 122, 3)\n",
      "(138, 116, 3)\n",
      "(141, 118, 3)\n"
     ]
    },
    {
     "name": "stderr",
     "output_type": "stream",
     "text": [
      " 72%|███████▏  | 5389/7439 [04:23<01:38, 20.71it/s]"
     ]
    },
    {
     "name": "stdout",
     "output_type": "stream",
     "text": [
      "(165, 127, 3)\n",
      "(146, 120, 3)\n",
      "(153, 124, 3)\n",
      "(154, 125, 3)\n",
      "(143, 119, 3)\n"
     ]
    },
    {
     "name": "stderr",
     "output_type": "stream",
     "text": [
      " 73%|███████▎  | 5395/7439 [04:23<01:34, 21.71it/s]"
     ]
    },
    {
     "name": "stdout",
     "output_type": "stream",
     "text": [
      "(146, 121, 3)\n",
      "(161, 128, 3)\n",
      "(166, 131, 3)\n",
      "(178, 135, 3)\n",
      "(174, 133, 3)\n"
     ]
    },
    {
     "name": "stderr",
     "output_type": "stream",
     "text": [
      " 73%|███████▎  | 5398/7439 [04:23<01:35, 21.40it/s]"
     ]
    },
    {
     "name": "stdout",
     "output_type": "stream",
     "text": [
      "(166, 130, 3)\n",
      "(174, 133, 3)\n",
      "(176, 130, 3)\n",
      "(181, 140, 3)\n",
      "(161, 129, 3)\n"
     ]
    },
    {
     "name": "stderr",
     "output_type": "stream",
     "text": [
      " 73%|███████▎  | 5404/7439 [04:24<01:36, 21.19it/s]"
     ]
    },
    {
     "name": "stdout",
     "output_type": "stream",
     "text": [
      "(170, 133, 3)\n",
      "(183, 138, 3)\n",
      "(158, 125, 3)\n",
      "(169, 132, 3)\n",
      "(174, 136, 3)\n"
     ]
    },
    {
     "name": "stderr",
     "output_type": "stream",
     "text": [
      " 73%|███████▎  | 5410/7439 [04:24<01:33, 21.81it/s]"
     ]
    },
    {
     "name": "stdout",
     "output_type": "stream",
     "text": [
      "(169, 135, 3)\n",
      "(182, 139, 3)\n",
      "(179, 138, 3)\n",
      "(167, 131, 3)\n",
      "(187, 142, 3)\n"
     ]
    },
    {
     "name": "stderr",
     "output_type": "stream",
     "text": [
      " 73%|███████▎  | 5413/7439 [04:24<01:35, 21.22it/s]"
     ]
    },
    {
     "name": "stdout",
     "output_type": "stream",
     "text": [
      "(182, 136, 3)\n",
      "(166, 131, 3)\n",
      "(170, 135, 3)\n",
      "(178, 141, 3)\n"
     ]
    },
    {
     "name": "stderr",
     "output_type": "stream",
     "text": [
      " 73%|███████▎  | 5419/7439 [04:24<01:37, 20.69it/s]"
     ]
    },
    {
     "name": "stdout",
     "output_type": "stream",
     "text": [
      "(180, 136, 3)\n",
      "(183, 143, 3)\n",
      "(169, 133, 3)\n",
      "(167, 130, 3)\n",
      "(170, 133, 3)\n"
     ]
    },
    {
     "name": "stderr",
     "output_type": "stream",
     "text": [
      " 73%|███████▎  | 5422/7439 [04:25<01:38, 20.41it/s]"
     ]
    },
    {
     "name": "stdout",
     "output_type": "stream",
     "text": [
      "(170, 132, 3)\n",
      "(154, 123, 3)\n",
      "(168, 129, 3)\n",
      "(173, 137, 3)\n",
      "(174, 138, 3)\n"
     ]
    },
    {
     "name": "stderr",
     "output_type": "stream",
     "text": [
      " 73%|███████▎  | 5428/7439 [04:25<01:37, 20.56it/s]"
     ]
    },
    {
     "name": "stdout",
     "output_type": "stream",
     "text": [
      "(170, 132, 3)\n",
      "(172, 138, 3)\n",
      "(167, 133, 3)\n",
      "(162, 133, 3)\n"
     ]
    },
    {
     "name": "stderr",
     "output_type": "stream",
     "text": [
      " 73%|███████▎  | 5431/7439 [04:25<01:41, 19.83it/s]"
     ]
    },
    {
     "name": "stdout",
     "output_type": "stream",
     "text": [
      "(163, 128, 3)\n",
      "(166, 131, 3)\n",
      "(181, 139, 3)\n",
      "(179, 135, 3)\n"
     ]
    },
    {
     "name": "stderr",
     "output_type": "stream",
     "text": [
      " 73%|███████▎  | 5435/7439 [04:25<01:49, 18.31it/s]"
     ]
    },
    {
     "name": "stdout",
     "output_type": "stream",
     "text": [
      "(176, 135, 3)\n",
      "(166, 133, 3)\n",
      "(172, 128, 3)\n",
      "(172, 134, 3)\n"
     ]
    },
    {
     "name": "stderr",
     "output_type": "stream",
     "text": [
      " 73%|███████▎  | 5441/7439 [04:26<01:40, 19.98it/s]"
     ]
    },
    {
     "name": "stdout",
     "output_type": "stream",
     "text": [
      "(184, 138, 3)\n",
      "(164, 133, 3)\n",
      "(166, 134, 3)\n",
      "(164, 133, 3)\n",
      "(179, 138, 3)\n"
     ]
    },
    {
     "name": "stderr",
     "output_type": "stream",
     "text": [
      " 73%|███████▎  | 5443/7439 [04:26<01:41, 19.57it/s]"
     ]
    },
    {
     "name": "stdout",
     "output_type": "stream",
     "text": [
      "(169, 130, 3)\n",
      "(171, 133, 3)\n",
      "(181, 141, 3)\n",
      "(168, 135, 3)\n"
     ]
    },
    {
     "name": "stderr",
     "output_type": "stream",
     "text": [
      " 73%|███████▎  | 5448/7439 [04:26<01:42, 19.46it/s]"
     ]
    },
    {
     "name": "stdout",
     "output_type": "stream",
     "text": [
      "(167, 128, 3)\n",
      "(169, 131, 3)\n",
      "(181, 142, 3)\n",
      "(176, 138, 3)\n"
     ]
    },
    {
     "name": "stderr",
     "output_type": "stream",
     "text": [
      " 73%|███████▎  | 5452/7439 [04:26<01:45, 18.86it/s]"
     ]
    },
    {
     "name": "stdout",
     "output_type": "stream",
     "text": [
      "(189, 144, 3)\n",
      "(172, 138, 3)\n",
      "(164, 131, 3)\n",
      "(176, 139, 3)\n"
     ]
    },
    {
     "name": "stderr",
     "output_type": "stream",
     "text": [
      " 73%|███████▎  | 5457/7439 [04:26<01:41, 19.58it/s]"
     ]
    },
    {
     "name": "stdout",
     "output_type": "stream",
     "text": [
      "(179, 139, 3)\n",
      "(170, 132, 3)\n",
      "(169, 133, 3)\n",
      "(172, 135, 3)\n",
      "(169, 129, 3)\n"
     ]
    },
    {
     "name": "stderr",
     "output_type": "stream",
     "text": [
      " 73%|███████▎  | 5463/7439 [04:27<01:35, 20.59it/s]"
     ]
    },
    {
     "name": "stdout",
     "output_type": "stream",
     "text": [
      "(175, 142, 3)\n",
      "(167, 132, 3)\n",
      "(172, 132, 3)\n",
      "(171, 136, 3)\n",
      "(178, 142, 3)\n"
     ]
    },
    {
     "name": "stderr",
     "output_type": "stream",
     "text": [
      " 73%|███████▎  | 5466/7439 [04:27<01:33, 21.03it/s]"
     ]
    },
    {
     "name": "stdout",
     "output_type": "stream",
     "text": [
      "(174, 138, 3)\n",
      "(181, 145, 3)\n",
      "(174, 138, 3)\n",
      "(166, 134, 3)\n",
      "(183, 142, 3)\n"
     ]
    },
    {
     "name": "stderr",
     "output_type": "stream",
     "text": [
      " 74%|███████▎  | 5472/7439 [04:27<01:35, 20.62it/s]"
     ]
    },
    {
     "name": "stdout",
     "output_type": "stream",
     "text": [
      "(190, 145, 3)\n",
      "(184, 144, 3)\n",
      "(177, 139, 3)\n",
      "(189, 148, 3)\n",
      "(189, 145, 3)\n"
     ]
    },
    {
     "name": "stderr",
     "output_type": "stream",
     "text": [
      " 74%|███████▎  | 5478/7439 [04:27<01:34, 20.86it/s]"
     ]
    },
    {
     "name": "stdout",
     "output_type": "stream",
     "text": [
      "(165, 139, 3)\n",
      "(159, 127, 3)\n",
      "(178, 146, 3)\n",
      "(182, 146, 3)\n",
      "(172, 137, 3)\n"
     ]
    },
    {
     "name": "stderr",
     "output_type": "stream",
     "text": [
      " 74%|███████▎  | 5481/7439 [04:28<01:36, 20.37it/s]"
     ]
    },
    {
     "name": "stdout",
     "output_type": "stream",
     "text": [
      "(160, 134, 3)\n",
      "(195, 155, 3)\n",
      "(175, 137, 3)\n",
      "(193, 146, 3)\n",
      "(166, 135, 3)\n"
     ]
    },
    {
     "name": "stderr",
     "output_type": "stream",
     "text": [
      " 74%|███████▍  | 5487/7439 [04:28<01:37, 20.10it/s]"
     ]
    },
    {
     "name": "stdout",
     "output_type": "stream",
     "text": [
      "(156, 130, 3)\n",
      "(164, 136, 3)\n",
      "(185, 143, 3)\n",
      "(178, 141, 3)\n"
     ]
    },
    {
     "name": "stderr",
     "output_type": "stream",
     "text": [
      " 74%|███████▍  | 5490/7439 [04:28<01:38, 19.86it/s]"
     ]
    },
    {
     "name": "stdout",
     "output_type": "stream",
     "text": [
      "(167, 135, 3)\n",
      "(179, 144, 3)\n",
      "(173, 140, 3)\n",
      "(186, 143, 3)\n",
      "(174, 135, 3)\n"
     ]
    },
    {
     "name": "stderr",
     "output_type": "stream",
     "text": [
      " 74%|███████▍  | 5496/7439 [04:28<01:35, 20.32it/s]"
     ]
    },
    {
     "name": "stdout",
     "output_type": "stream",
     "text": [
      "(172, 138, 3)\n",
      "(172, 136, 3)\n",
      "(171, 136, 3)\n",
      "(176, 145, 3)\n",
      "(158, 130, 3)\n"
     ]
    },
    {
     "name": "stderr",
     "output_type": "stream",
     "text": [
      " 74%|███████▍  | 5502/7439 [04:29<01:34, 20.49it/s]"
     ]
    },
    {
     "name": "stdout",
     "output_type": "stream",
     "text": [
      "(179, 143, 3)\n",
      "(182, 143, 3)\n",
      "(172, 137, 3)\n",
      "(171, 137, 3)\n",
      "(165, 138, 3)\n"
     ]
    },
    {
     "name": "stderr",
     "output_type": "stream",
     "text": [
      " 74%|███████▍  | 5505/7439 [04:29<01:34, 20.37it/s]"
     ]
    },
    {
     "name": "stdout",
     "output_type": "stream",
     "text": [
      "(160, 135, 3)\n",
      "(179, 141, 3)\n",
      "(178, 137, 3)\n",
      "(169, 135, 3)\n"
     ]
    },
    {
     "name": "stderr",
     "output_type": "stream",
     "text": [
      " 74%|███████▍  | 5511/7439 [04:29<01:33, 20.57it/s]"
     ]
    },
    {
     "name": "stdout",
     "output_type": "stream",
     "text": [
      "(160, 133, 3)\n",
      "(164, 133, 3)\n",
      "(160, 132, 3)\n",
      "(167, 138, 3)\n",
      "(161, 133, 3)\n"
     ]
    },
    {
     "name": "stderr",
     "output_type": "stream",
     "text": [
      " 74%|███████▍  | 5514/7439 [04:29<01:34, 20.32it/s]"
     ]
    },
    {
     "name": "stdout",
     "output_type": "stream",
     "text": [
      "(157, 130, 3)\n",
      "(153, 128, 3)\n",
      "(164, 130, 3)\n",
      "(151, 127, 3)\n",
      "(176, 141, 3)\n"
     ]
    },
    {
     "name": "stderr",
     "output_type": "stream",
     "text": [
      " 74%|███████▍  | 5520/7439 [04:29<01:32, 20.72it/s]"
     ]
    },
    {
     "name": "stdout",
     "output_type": "stream",
     "text": [
      "(158, 131, 3)\n",
      "(158, 131, 3)\n",
      "(173, 144, 3)\n",
      "(183, 147, 3)\n",
      "(152, 129, 3)\n"
     ]
    },
    {
     "name": "stderr",
     "output_type": "stream",
     "text": [
      " 74%|███████▍  | 5526/7439 [04:30<01:32, 20.58it/s]"
     ]
    },
    {
     "name": "stdout",
     "output_type": "stream",
     "text": [
      "(180, 147, 3)\n",
      "(172, 138, 3)\n",
      "(172, 136, 3)\n",
      "(164, 136, 3)\n",
      "(176, 138, 3)\n"
     ]
    },
    {
     "name": "stderr",
     "output_type": "stream",
     "text": [
      " 74%|███████▍  | 5529/7439 [04:30<01:40, 19.00it/s]"
     ]
    },
    {
     "name": "stdout",
     "output_type": "stream",
     "text": [
      "(153, 128, 3)\n",
      "(177, 143, 3)\n",
      "(170, 141, 3)\n",
      "(168, 135, 3)\n"
     ]
    },
    {
     "name": "stderr",
     "output_type": "stream",
     "text": [
      " 74%|███████▍  | 5533/7439 [04:30<01:39, 19.12it/s]"
     ]
    },
    {
     "name": "stdout",
     "output_type": "stream",
     "text": [
      "(173, 136, 3)\n",
      "(171, 137, 3)\n",
      "(163, 132, 3)\n",
      "(183, 146, 3)\n",
      "(177, 142, 3)\n"
     ]
    },
    {
     "name": "stderr",
     "output_type": "stream",
     "text": [
      " 74%|███████▍  | 5538/7439 [04:30<01:41, 18.81it/s]"
     ]
    },
    {
     "name": "stdout",
     "output_type": "stream",
     "text": [
      "(164, 135, 3)\n",
      "(182, 143, 3)\n",
      "(174, 140, 3)\n",
      "(166, 139, 3)\n"
     ]
    },
    {
     "name": "stderr",
     "output_type": "stream",
     "text": [
      " 75%|███████▍  | 5543/7439 [04:31<01:38, 19.18it/s]"
     ]
    },
    {
     "name": "stdout",
     "output_type": "stream",
     "text": [
      "(180, 146, 3)\n",
      "(189, 145, 3)\n",
      "(167, 136, 3)\n",
      "(160, 134, 3)\n"
     ]
    },
    {
     "name": "stderr",
     "output_type": "stream",
     "text": [
      " 75%|███████▍  | 5546/7439 [04:31<01:35, 19.80it/s]"
     ]
    },
    {
     "name": "stdout",
     "output_type": "stream",
     "text": [
      "(176, 142, 3)\n",
      "(158, 134, 3)\n",
      "(176, 139, 3)\n",
      "(167, 135, 3)\n",
      "(167, 135, 3)\n"
     ]
    },
    {
     "name": "stderr",
     "output_type": "stream",
     "text": [
      " 75%|███████▍  | 5552/7439 [04:31<01:33, 20.22it/s]"
     ]
    },
    {
     "name": "stdout",
     "output_type": "stream",
     "text": [
      "(167, 133, 3)\n",
      "(168, 135, 3)\n",
      "(172, 135, 3)\n",
      "(183, 142, 3)\n",
      "(175, 139, 3)\n"
     ]
    },
    {
     "name": "stderr",
     "output_type": "stream",
     "text": [
      " 75%|███████▍  | 5558/7439 [04:31<01:29, 21.13it/s]"
     ]
    },
    {
     "name": "stdout",
     "output_type": "stream",
     "text": [
      "(156, 131, 3)\n",
      "(168, 135, 3)\n",
      "(156, 123, 3)\n",
      "(164, 122, 3)\n",
      "(155, 122, 3)\n"
     ]
    },
    {
     "name": "stderr",
     "output_type": "stream",
     "text": [
      " 75%|███████▍  | 5561/7439 [04:32<01:26, 21.72it/s]"
     ]
    },
    {
     "name": "stdout",
     "output_type": "stream",
     "text": [
      "(170, 126, 3)\n",
      "(157, 123, 3)\n",
      "(153, 122, 3)\n",
      "(160, 122, 3)\n",
      "(154, 118, 3)\n"
     ]
    },
    {
     "name": "stderr",
     "output_type": "stream",
     "text": [
      " 75%|███████▍  | 5567/7439 [04:32<01:25, 21.98it/s]"
     ]
    },
    {
     "name": "stdout",
     "output_type": "stream",
     "text": [
      "(165, 125, 3)\n",
      "(168, 125, 3)\n",
      "(157, 120, 3)\n",
      "(158, 123, 3)\n",
      "(156, 118, 3)\n"
     ]
    },
    {
     "name": "stderr",
     "output_type": "stream",
     "text": [
      " 75%|███████▍  | 5573/7439 [04:32<01:23, 22.25it/s]"
     ]
    },
    {
     "name": "stdout",
     "output_type": "stream",
     "text": [
      "(162, 123, 3)\n",
      "(154, 117, 3)\n",
      "(170, 127, 3)\n",
      "(160, 123, 3)\n",
      "(163, 125, 3)\n"
     ]
    },
    {
     "name": "stderr",
     "output_type": "stream",
     "text": [
      " 75%|███████▍  | 5576/7439 [04:32<01:24, 22.13it/s]"
     ]
    },
    {
     "name": "stdout",
     "output_type": "stream",
     "text": [
      "(150, 118, 3)\n",
      "(171, 126, 3)\n",
      "(150, 119, 3)\n",
      "(153, 118, 3)\n",
      "(156, 120, 3)\n"
     ]
    },
    {
     "name": "stderr",
     "output_type": "stream",
     "text": [
      " 75%|███████▌  | 5582/7439 [04:32<01:22, 22.51it/s]"
     ]
    },
    {
     "name": "stdout",
     "output_type": "stream",
     "text": [
      "(139, 114, 3)\n",
      "(159, 122, 3)\n",
      "(150, 119, 3)\n",
      "(153, 119, 3)\n",
      "(146, 117, 3)\n"
     ]
    },
    {
     "name": "stderr",
     "output_type": "stream",
     "text": [
      " 75%|███████▌  | 5588/7439 [04:33<01:24, 21.84it/s]"
     ]
    },
    {
     "name": "stdout",
     "output_type": "stream",
     "text": [
      "(153, 125, 3)\n",
      "(147, 117, 3)\n",
      "(160, 126, 3)\n",
      "(151, 120, 3)\n",
      "(162, 125, 3)\n"
     ]
    },
    {
     "name": "stderr",
     "output_type": "stream",
     "text": [
      " 75%|███████▌  | 5591/7439 [04:33<01:24, 21.76it/s]"
     ]
    },
    {
     "name": "stdout",
     "output_type": "stream",
     "text": [
      "(148, 118, 3)\n",
      "(152, 122, 3)\n",
      "(145, 117, 3)\n",
      "(150, 120, 3)\n",
      "(155, 126, 3)\n"
     ]
    },
    {
     "name": "stderr",
     "output_type": "stream",
     "text": [
      " 75%|███████▌  | 5597/7439 [04:33<01:24, 21.83it/s]"
     ]
    },
    {
     "name": "stdout",
     "output_type": "stream",
     "text": [
      "(150, 120, 3)\n",
      "(157, 122, 3)\n",
      "(152, 121, 3)\n",
      "(153, 123, 3)\n",
      "(158, 124, 3)\n"
     ]
    },
    {
     "name": "stderr",
     "output_type": "stream",
     "text": [
      " 75%|███████▌  | 5603/7439 [04:33<01:24, 21.82it/s]"
     ]
    },
    {
     "name": "stdout",
     "output_type": "stream",
     "text": [
      "(153, 121, 3)\n",
      "(155, 120, 3)\n",
      "(157, 123, 3)\n",
      "(165, 130, 3)\n",
      "(149, 123, 3)\n"
     ]
    },
    {
     "name": "stderr",
     "output_type": "stream",
     "text": [
      " 75%|███████▌  | 5606/7439 [04:34<01:22, 22.28it/s]"
     ]
    },
    {
     "name": "stdout",
     "output_type": "stream",
     "text": [
      "(163, 126, 3)\n",
      "(166, 132, 3)\n",
      "(161, 127, 3)\n",
      "(155, 127, 3)\n",
      "(152, 121, 3)\n"
     ]
    },
    {
     "name": "stderr",
     "output_type": "stream",
     "text": [
      " 75%|███████▌  | 5612/7439 [04:34<01:23, 22.01it/s]"
     ]
    },
    {
     "name": "stdout",
     "output_type": "stream",
     "text": [
      "(162, 126, 3)\n",
      "(165, 125, 3)\n",
      "(156, 125, 3)\n",
      "(158, 126, 3)\n",
      "(151, 121, 3)\n"
     ]
    },
    {
     "name": "stderr",
     "output_type": "stream",
     "text": [
      " 76%|███████▌  | 5618/7439 [04:34<01:27, 20.92it/s]"
     ]
    },
    {
     "name": "stdout",
     "output_type": "stream",
     "text": [
      "(161, 128, 3)\n",
      "(149, 121, 3)\n",
      "(169, 127, 3)\n",
      "(158, 124, 3)\n",
      "(161, 125, 3)\n"
     ]
    },
    {
     "name": "stderr",
     "output_type": "stream",
     "text": [
      " 76%|███████▌  | 5621/7439 [04:34<01:27, 20.89it/s]"
     ]
    },
    {
     "name": "stdout",
     "output_type": "stream",
     "text": [
      "(149, 122, 3)\n",
      "(164, 126, 3)\n",
      "(149, 116, 3)\n",
      "(153, 124, 3)\n",
      "(159, 125, 3)\n"
     ]
    },
    {
     "name": "stderr",
     "output_type": "stream",
     "text": [
      " 76%|███████▌  | 5627/7439 [04:35<01:24, 21.46it/s]"
     ]
    },
    {
     "name": "stdout",
     "output_type": "stream",
     "text": [
      "(157, 124, 3)\n",
      "(156, 123, 3)\n",
      "(157, 123, 3)\n",
      "(147, 118, 3)\n",
      "(165, 123, 3)\n",
      "(156, 123, 3)\n"
     ]
    },
    {
     "name": "stderr",
     "output_type": "stream",
     "text": [
      " 76%|███████▌  | 5633/7439 [04:35<01:48, 16.58it/s]"
     ]
    },
    {
     "name": "stdout",
     "output_type": "stream",
     "text": [
      "(148, 117, 3)\n",
      "(153, 123, 3)\n",
      "(163, 124, 3)\n",
      "(141, 118, 3)\n",
      "(165, 126, 3)\n"
     ]
    },
    {
     "name": "stderr",
     "output_type": "stream",
     "text": [
      " 76%|███████▌  | 5639/7439 [04:35<01:36, 18.56it/s]"
     ]
    },
    {
     "name": "stdout",
     "output_type": "stream",
     "text": [
      "(163, 126, 3)\n",
      "(159, 124, 3)\n",
      "(152, 118, 3)\n",
      "(188, 145, 3)\n",
      "(179, 139, 3)\n"
     ]
    },
    {
     "name": "stderr",
     "output_type": "stream",
     "text": [
      " 76%|███████▌  | 5642/7439 [04:35<01:33, 19.21it/s]"
     ]
    },
    {
     "name": "stdout",
     "output_type": "stream",
     "text": [
      "(191, 146, 3)\n",
      "(192, 146, 3)\n",
      "(185, 143, 3)\n",
      "(196, 146, 3)\n",
      "(185, 140, 3)\n"
     ]
    },
    {
     "name": "stderr",
     "output_type": "stream",
     "text": [
      " 76%|███████▌  | 5648/7439 [04:36<01:28, 20.28it/s]"
     ]
    },
    {
     "name": "stdout",
     "output_type": "stream",
     "text": [
      "(186, 142, 3)\n",
      "(184, 143, 3)\n",
      "(166, 133, 3)\n",
      "(184, 138, 3)\n",
      "(180, 141, 3)\n"
     ]
    },
    {
     "name": "stderr",
     "output_type": "stream",
     "text": [
      " 76%|███████▌  | 5654/7439 [04:36<01:24, 21.08it/s]"
     ]
    },
    {
     "name": "stdout",
     "output_type": "stream",
     "text": [
      "(193, 146, 3)\n",
      "(191, 146, 3)\n",
      "(189, 144, 3)\n",
      "(182, 142, 3)\n",
      "(173, 135, 3)\n"
     ]
    },
    {
     "name": "stderr",
     "output_type": "stream",
     "text": [
      " 76%|███████▌  | 5657/7439 [04:36<01:23, 21.22it/s]"
     ]
    },
    {
     "name": "stdout",
     "output_type": "stream",
     "text": [
      "(194, 144, 3)\n",
      "(178, 135, 3)\n",
      "(184, 143, 3)\n",
      "(184, 141, 3)\n"
     ]
    },
    {
     "name": "stderr",
     "output_type": "stream",
     "text": [
      " 76%|███████▌  | 5663/7439 [04:36<01:25, 20.67it/s]"
     ]
    },
    {
     "name": "stdout",
     "output_type": "stream",
     "text": [
      "(185, 142, 3)\n",
      "(190, 145, 3)\n",
      "(171, 135, 3)\n",
      "(184, 142, 3)\n",
      "(192, 149, 3)\n"
     ]
    },
    {
     "name": "stderr",
     "output_type": "stream",
     "text": [
      " 76%|███████▌  | 5666/7439 [04:37<01:26, 20.55it/s]"
     ]
    },
    {
     "name": "stdout",
     "output_type": "stream",
     "text": [
      "(192, 148, 3)\n",
      "(191, 145, 3)\n",
      "(202, 150, 3)\n",
      "(172, 138, 3)\n"
     ]
    },
    {
     "name": "stderr",
     "output_type": "stream",
     "text": [
      " 76%|███████▌  | 5669/7439 [04:37<01:28, 20.02it/s]"
     ]
    },
    {
     "name": "stdout",
     "output_type": "stream",
     "text": [
      "(183, 144, 3)\n",
      "(188, 145, 3)\n",
      "(177, 136, 3)\n",
      "(189, 145, 3)\n"
     ]
    },
    {
     "name": "stderr",
     "output_type": "stream",
     "text": [
      " 76%|███████▋  | 5675/7439 [04:37<01:28, 20.00it/s]"
     ]
    },
    {
     "name": "stdout",
     "output_type": "stream",
     "text": [
      "(191, 148, 3)\n",
      "(172, 138, 3)\n",
      "(181, 140, 3)\n",
      "(190, 147, 3)\n",
      "(191, 145, 3)\n"
     ]
    },
    {
     "name": "stderr",
     "output_type": "stream",
     "text": [
      " 76%|███████▋  | 5678/7439 [04:37<01:28, 19.98it/s]"
     ]
    },
    {
     "name": "stdout",
     "output_type": "stream",
     "text": [
      "(187, 146, 3)\n",
      "(176, 141, 3)\n",
      "(179, 139, 3)\n",
      "(182, 141, 3)\n"
     ]
    },
    {
     "name": "stderr",
     "output_type": "stream",
     "text": [
      " 76%|███████▋  | 5684/7439 [04:38<01:24, 20.83it/s]"
     ]
    },
    {
     "name": "stdout",
     "output_type": "stream",
     "text": [
      "(183, 142, 3)\n",
      "(184, 144, 3)\n",
      "(189, 143, 3)\n",
      "(181, 141, 3)\n",
      "(178, 140, 3)\n"
     ]
    },
    {
     "name": "stderr",
     "output_type": "stream",
     "text": [
      " 76%|███████▋  | 5687/7439 [04:38<01:24, 20.62it/s]"
     ]
    },
    {
     "name": "stdout",
     "output_type": "stream",
     "text": [
      "(179, 140, 3)\n",
      "(175, 138, 3)\n",
      "(190, 145, 3)\n",
      "(182, 142, 3)\n"
     ]
    },
    {
     "name": "stderr",
     "output_type": "stream",
     "text": [
      " 77%|███████▋  | 5693/7439 [04:38<01:27, 19.85it/s]"
     ]
    },
    {
     "name": "stdout",
     "output_type": "stream",
     "text": [
      "(180, 139, 3)\n",
      "(187, 143, 3)\n",
      "(187, 142, 3)\n",
      "(192, 145, 3)\n"
     ]
    },
    {
     "name": "stderr",
     "output_type": "stream",
     "text": [
      " 77%|███████▋  | 5698/7439 [04:38<01:26, 20.18it/s]"
     ]
    },
    {
     "name": "stdout",
     "output_type": "stream",
     "text": [
      "(195, 149, 3)\n",
      "(183, 142, 3)\n",
      "(185, 145, 3)\n",
      "(198, 147, 3)\n",
      "(196, 148, 3)\n"
     ]
    },
    {
     "name": "stderr",
     "output_type": "stream",
     "text": [
      " 77%|███████▋  | 5701/7439 [04:38<01:24, 20.45it/s]"
     ]
    },
    {
     "name": "stdout",
     "output_type": "stream",
     "text": [
      "(192, 146, 3)\n",
      "(183, 142, 3)\n",
      "(180, 141, 3)\n",
      "(194, 144, 3)\n"
     ]
    },
    {
     "name": "stderr",
     "output_type": "stream",
     "text": [
      " 77%|███████▋  | 5707/7439 [04:39<01:26, 20.10it/s]"
     ]
    },
    {
     "name": "stdout",
     "output_type": "stream",
     "text": [
      "(195, 147, 3)\n",
      "(196, 149, 3)\n",
      "(179, 139, 3)\n",
      "(191, 148, 3)\n",
      "(182, 141, 3)\n"
     ]
    },
    {
     "name": "stderr",
     "output_type": "stream",
     "text": [
      " 77%|███████▋  | 5710/7439 [04:39<01:25, 20.25it/s]"
     ]
    },
    {
     "name": "stdout",
     "output_type": "stream",
     "text": [
      "(180, 140, 3)\n",
      "(181, 142, 3)\n",
      "(184, 143, 3)\n",
      "(180, 142, 3)\n",
      "(186, 144, 3)\n"
     ]
    },
    {
     "name": "stderr",
     "output_type": "stream",
     "text": [
      " 77%|███████▋  | 5716/7439 [04:39<01:25, 20.13it/s]"
     ]
    },
    {
     "name": "stdout",
     "output_type": "stream",
     "text": [
      "(181, 143, 3)\n",
      "(193, 148, 3)\n",
      "(189, 143, 3)\n",
      "(187, 144, 3)\n"
     ]
    },
    {
     "name": "stderr",
     "output_type": "stream",
     "text": [
      " 77%|███████▋  | 5719/7439 [04:39<01:25, 20.01it/s]"
     ]
    },
    {
     "name": "stdout",
     "output_type": "stream",
     "text": [
      "(186, 144, 3)\n",
      "(194, 146, 3)\n",
      "(191, 145, 3)\n",
      "(187, 145, 3)\n",
      "(179, 141, 3)\n"
     ]
    },
    {
     "name": "stderr",
     "output_type": "stream",
     "text": [
      " 77%|███████▋  | 5725/7439 [04:40<01:21, 21.12it/s]"
     ]
    },
    {
     "name": "stdout",
     "output_type": "stream",
     "text": [
      "(185, 144, 3)\n",
      "(185, 140, 3)\n",
      "(181, 139, 3)\n",
      "(175, 138, 3)\n",
      "(181, 144, 3)\n"
     ]
    },
    {
     "name": "stderr",
     "output_type": "stream",
     "text": [
      " 77%|███████▋  | 5731/7439 [04:40<01:16, 22.21it/s]"
     ]
    },
    {
     "name": "stdout",
     "output_type": "stream",
     "text": [
      "(175, 137, 3)\n",
      "(182, 139, 3)\n",
      "(170, 133, 3)\n",
      "(169, 135, 3)\n",
      "(171, 139, 3)\n"
     ]
    },
    {
     "name": "stderr",
     "output_type": "stream",
     "text": [
      " 77%|███████▋  | 5734/7439 [04:40<01:16, 22.35it/s]"
     ]
    },
    {
     "name": "stdout",
     "output_type": "stream",
     "text": [
      "(177, 141, 3)\n",
      "(174, 140, 3)\n",
      "(182, 139, 3)\n",
      "(177, 138, 3)\n",
      "(174, 141, 3)\n"
     ]
    },
    {
     "name": "stderr",
     "output_type": "stream",
     "text": [
      " 77%|███████▋  | 5740/7439 [04:40<01:13, 23.07it/s]"
     ]
    },
    {
     "name": "stdout",
     "output_type": "stream",
     "text": [
      "(175, 136, 3)\n",
      "(174, 142, 3)\n",
      "(175, 137, 3)\n",
      "(172, 137, 3)\n",
      "(170, 136, 3)\n"
     ]
    },
    {
     "name": "stderr",
     "output_type": "stream",
     "text": [
      " 77%|███████▋  | 5746/7439 [04:40<01:17, 21.76it/s]"
     ]
    },
    {
     "name": "stdout",
     "output_type": "stream",
     "text": [
      "(193, 146, 3)\n",
      "(187, 142, 3)\n",
      "(181, 147, 3)\n",
      "(183, 142, 3)\n",
      "(182, 141, 3)\n"
     ]
    },
    {
     "name": "stderr",
     "output_type": "stream",
     "text": [
      " 77%|███████▋  | 5749/7439 [04:41<01:23, 20.35it/s]"
     ]
    },
    {
     "name": "stdout",
     "output_type": "stream",
     "text": [
      "(182, 142, 3)\n",
      "(191, 148, 3)\n",
      "(174, 134, 3)\n",
      "(174, 136, 3)\n",
      "(179, 142, 3)\n"
     ]
    },
    {
     "name": "stderr",
     "output_type": "stream",
     "text": [
      " 77%|███████▋  | 5755/7439 [04:41<01:20, 21.03it/s]"
     ]
    },
    {
     "name": "stdout",
     "output_type": "stream",
     "text": [
      "(177, 144, 3)\n",
      "(181, 143, 3)\n",
      "(179, 139, 3)\n",
      "(176, 138, 3)\n",
      "(175, 137, 3)\n"
     ]
    },
    {
     "name": "stderr",
     "output_type": "stream",
     "text": [
      " 77%|███████▋  | 5761/7439 [04:41<01:20, 20.96it/s]"
     ]
    },
    {
     "name": "stdout",
     "output_type": "stream",
     "text": [
      "(183, 141, 3)\n",
      "(185, 142, 3)\n",
      "(178, 140, 3)\n",
      "(183, 142, 3)\n",
      "(179, 144, 3)\n"
     ]
    },
    {
     "name": "stderr",
     "output_type": "stream",
     "text": [
      " 77%|███████▋  | 5764/7439 [04:41<01:20, 20.89it/s]"
     ]
    },
    {
     "name": "stdout",
     "output_type": "stream",
     "text": [
      "(186, 143, 3)\n",
      "(176, 141, 3)\n",
      "(182, 143, 3)\n",
      "(177, 141, 3)\n",
      "(180, 136, 3)\n"
     ]
    },
    {
     "name": "stderr",
     "output_type": "stream",
     "text": [
      " 78%|███████▊  | 5770/7439 [04:42<01:19, 21.08it/s]"
     ]
    },
    {
     "name": "stdout",
     "output_type": "stream",
     "text": [
      "(174, 137, 3)\n",
      "(177, 135, 3)\n",
      "(171, 132, 3)\n",
      "(174, 135, 3)\n",
      "(174, 134, 3)\n"
     ]
    },
    {
     "name": "stderr",
     "output_type": "stream",
     "text": [
      " 78%|███████▊  | 5776/7439 [04:42<01:18, 21.07it/s]"
     ]
    },
    {
     "name": "stdout",
     "output_type": "stream",
     "text": [
      "(184, 140, 3)\n",
      "(182, 142, 3)\n",
      "(182, 141, 3)\n",
      "(181, 138, 3)\n",
      "(175, 138, 3)\n"
     ]
    },
    {
     "name": "stderr",
     "output_type": "stream",
     "text": [
      " 78%|███████▊  | 5779/7439 [04:42<01:20, 20.67it/s]"
     ]
    },
    {
     "name": "stdout",
     "output_type": "stream",
     "text": [
      "(175, 137, 3)\n",
      "(172, 136, 3)\n",
      "(179, 137, 3)\n",
      "(174, 137, 3)\n",
      "(184, 144, 3)\n"
     ]
    },
    {
     "name": "stderr",
     "output_type": "stream",
     "text": [
      " 78%|███████▊  | 5785/7439 [04:42<01:20, 20.46it/s]"
     ]
    },
    {
     "name": "stdout",
     "output_type": "stream",
     "text": [
      "(175, 137, 3)\n",
      "(171, 133, 3)\n",
      "(176, 134, 3)\n",
      "(178, 136, 3)\n"
     ]
    },
    {
     "name": "stderr",
     "output_type": "stream",
     "text": [
      " 78%|███████▊  | 5788/7439 [04:42<01:20, 20.50it/s]"
     ]
    },
    {
     "name": "stdout",
     "output_type": "stream",
     "text": [
      "(180, 138, 3)\n",
      "(164, 130, 3)\n",
      "(177, 137, 3)\n",
      "(174, 135, 3)\n",
      "(174, 140, 3)\n"
     ]
    },
    {
     "name": "stderr",
     "output_type": "stream",
     "text": [
      " 78%|███████▊  | 5794/7439 [04:43<01:22, 19.95it/s]"
     ]
    },
    {
     "name": "stdout",
     "output_type": "stream",
     "text": [
      "(173, 139, 3)\n",
      "(174, 139, 3)\n",
      "(177, 142, 3)\n",
      "(176, 140, 3)\n"
     ]
    },
    {
     "name": "stderr",
     "output_type": "stream",
     "text": [
      " 78%|███████▊  | 5797/7439 [04:43<01:21, 20.26it/s]"
     ]
    },
    {
     "name": "stdout",
     "output_type": "stream",
     "text": [
      "(178, 144, 3)\n",
      "(183, 141, 3)\n",
      "(171, 134, 3)\n",
      "(181, 139, 3)\n",
      "(189, 149, 3)\n"
     ]
    },
    {
     "name": "stderr",
     "output_type": "stream",
     "text": [
      " 78%|███████▊  | 5803/7439 [04:43<01:19, 20.50it/s]"
     ]
    },
    {
     "name": "stdout",
     "output_type": "stream",
     "text": [
      "(186, 140, 3)\n",
      "(183, 141, 3)\n",
      "(176, 140, 3)\n",
      "(168, 137, 3)\n",
      "(179, 144, 3)\n"
     ]
    },
    {
     "name": "stderr",
     "output_type": "stream",
     "text": [
      " 78%|███████▊  | 5809/7439 [04:43<01:14, 21.75it/s]"
     ]
    },
    {
     "name": "stdout",
     "output_type": "stream",
     "text": [
      "(163, 139, 3)\n",
      "(188, 141, 3)\n",
      "(191, 142, 3)\n",
      "(173, 139, 3)\n",
      "(179, 142, 3)\n"
     ]
    },
    {
     "name": "stderr",
     "output_type": "stream",
     "text": [
      " 78%|███████▊  | 5812/7439 [04:44<01:14, 21.79it/s]"
     ]
    },
    {
     "name": "stdout",
     "output_type": "stream",
     "text": [
      "(172, 141, 3)\n",
      "(180, 142, 3)\n",
      "(173, 138, 3)\n",
      "(178, 138, 3)\n"
     ]
    },
    {
     "name": "stderr",
     "output_type": "stream",
     "text": [
      " 78%|███████▊  | 5818/7439 [04:44<01:15, 21.36it/s]"
     ]
    },
    {
     "name": "stdout",
     "output_type": "stream",
     "text": [
      "(182, 141, 3)\n",
      "(181, 139, 3)\n",
      "(188, 143, 3)\n",
      "(179, 144, 3)\n",
      "(175, 139, 3)\n"
     ]
    },
    {
     "name": "stderr",
     "output_type": "stream",
     "text": [
      " 78%|███████▊  | 5821/7439 [04:44<01:15, 21.47it/s]"
     ]
    },
    {
     "name": "stdout",
     "output_type": "stream",
     "text": [
      "(173, 142, 3)\n",
      "(178, 142, 3)\n",
      "(169, 138, 3)\n",
      "(168, 138, 3)\n",
      "(172, 138, 3)\n"
     ]
    },
    {
     "name": "stderr",
     "output_type": "stream",
     "text": [
      " 78%|███████▊  | 5827/7439 [04:44<01:16, 21.17it/s]"
     ]
    },
    {
     "name": "stdout",
     "output_type": "stream",
     "text": [
      "(192, 149, 3)\n",
      "(179, 139, 3)\n",
      "(178, 142, 3)\n",
      "(181, 137, 3)\n"
     ]
    },
    {
     "name": "stderr",
     "output_type": "stream",
     "text": [
      " 78%|███████▊  | 5830/7439 [04:45<01:19, 20.27it/s]"
     ]
    },
    {
     "name": "stdout",
     "output_type": "stream",
     "text": [
      "(190, 144, 3)\n",
      "(180, 139, 3)\n",
      "(181, 141, 3)\n",
      "(172, 134, 3)\n"
     ]
    },
    {
     "name": "stderr",
     "output_type": "stream",
     "text": [
      " 78%|███████▊  | 5836/7439 [04:45<01:19, 20.16it/s]"
     ]
    },
    {
     "name": "stdout",
     "output_type": "stream",
     "text": [
      "(173, 140, 3)\n",
      "(188, 144, 3)\n",
      "(186, 142, 3)\n",
      "(182, 138, 3)\n",
      "(181, 141, 3)\n"
     ]
    },
    {
     "name": "stderr",
     "output_type": "stream",
     "text": [
      " 78%|███████▊  | 5839/7439 [04:45<01:17, 20.55it/s]"
     ]
    },
    {
     "name": "stdout",
     "output_type": "stream",
     "text": [
      "(161, 130, 3)\n",
      "(189, 142, 3)\n",
      "(182, 141, 3)\n",
      "(186, 141, 3)\n",
      "(171, 139, 3)\n"
     ]
    },
    {
     "name": "stderr",
     "output_type": "stream",
     "text": [
      " 79%|███████▊  | 5845/7439 [04:45<01:22, 19.41it/s]"
     ]
    },
    {
     "name": "stdout",
     "output_type": "stream",
     "text": [
      "(177, 141, 3)\n",
      "(172, 138, 3)\n",
      "(172, 137, 3)\n",
      "(178, 142, 3)\n"
     ]
    },
    {
     "name": "stderr",
     "output_type": "stream",
     "text": [
      " 79%|███████▊  | 5847/7439 [04:45<01:22, 19.25it/s]"
     ]
    },
    {
     "name": "stdout",
     "output_type": "stream",
     "text": [
      "(186, 142, 3)\n",
      "(176, 138, 3)\n",
      "(177, 139, 3)\n",
      "(180, 138, 3)\n"
     ]
    },
    {
     "name": "stderr",
     "output_type": "stream",
     "text": [
      " 79%|███████▊  | 5852/7439 [04:46<01:23, 19.04it/s]"
     ]
    },
    {
     "name": "stdout",
     "output_type": "stream",
     "text": [
      "(178, 139, 3)\n",
      "(180, 142, 3)\n",
      "(187, 144, 3)\n",
      "(185, 142, 3)\n"
     ]
    },
    {
     "name": "stderr",
     "output_type": "stream",
     "text": [
      " 79%|███████▊  | 5856/7439 [04:46<01:25, 18.44it/s]"
     ]
    },
    {
     "name": "stdout",
     "output_type": "stream",
     "text": [
      "(185, 143, 3)\n",
      "(176, 139, 3)\n",
      "(182, 139, 3)\n",
      "(178, 140, 3)\n"
     ]
    },
    {
     "name": "stderr",
     "output_type": "stream",
     "text": [
      " 79%|███████▉  | 5860/7439 [04:46<01:25, 18.56it/s]"
     ]
    },
    {
     "name": "stdout",
     "output_type": "stream",
     "text": [
      "(183, 144, 3)\n",
      "(177, 136, 3)\n",
      "(184, 141, 3)\n",
      "(178, 138, 3)\n"
     ]
    },
    {
     "name": "stderr",
     "output_type": "stream",
     "text": [
      " 79%|███████▉  | 5865/7439 [04:46<01:22, 19.19it/s]"
     ]
    },
    {
     "name": "stdout",
     "output_type": "stream",
     "text": [
      "(174, 138, 3)\n",
      "(176, 140, 3)\n",
      "(172, 138, 3)\n",
      "(175, 141, 3)\n",
      "(192, 145, 3)\n"
     ]
    },
    {
     "name": "stderr",
     "output_type": "stream",
     "text": [
      " 79%|███████▉  | 5869/7439 [04:47<01:25, 18.27it/s]"
     ]
    },
    {
     "name": "stdout",
     "output_type": "stream",
     "text": [
      "(185, 141, 3)\n",
      "(182, 139, 3)\n",
      "(174, 140, 3)\n",
      "(198, 143, 3)\n"
     ]
    },
    {
     "name": "stderr",
     "output_type": "stream",
     "text": [
      " 79%|███████▉  | 5873/7439 [04:47<01:24, 18.59it/s]"
     ]
    },
    {
     "name": "stdout",
     "output_type": "stream",
     "text": [
      "(173, 140, 3)\n",
      "(171, 138, 3)\n",
      "(177, 137, 3)\n",
      "(192, 144, 3)\n"
     ]
    },
    {
     "name": "stderr",
     "output_type": "stream",
     "text": [
      " 79%|███████▉  | 5878/7439 [04:47<01:16, 20.45it/s]"
     ]
    },
    {
     "name": "stdout",
     "output_type": "stream",
     "text": [
      "(186, 144, 3)\n",
      "(190, 146, 3)\n",
      "(170, 139, 3)\n",
      "(178, 139, 3)\n",
      "(181, 139, 3)\n"
     ]
    },
    {
     "name": "stderr",
     "output_type": "stream",
     "text": [
      " 79%|███████▉  | 5884/7439 [04:47<01:16, 20.26it/s]"
     ]
    },
    {
     "name": "stdout",
     "output_type": "stream",
     "text": [
      "(180, 138, 3)\n",
      "(179, 138, 3)\n",
      "(179, 141, 3)\n",
      "(178, 139, 3)\n",
      "(199, 161, 3)\n"
     ]
    },
    {
     "name": "stderr",
     "output_type": "stream",
     "text": [
      " 79%|███████▉  | 5887/7439 [04:47<01:17, 19.97it/s]"
     ]
    },
    {
     "name": "stdout",
     "output_type": "stream",
     "text": [
      "(179, 148, 3)\n",
      "(184, 150, 3)\n",
      "(191, 157, 3)\n",
      "(191, 153, 3)\n",
      "(188, 153, 3)\n"
     ]
    },
    {
     "name": "stderr",
     "output_type": "stream",
     "text": [
      " 79%|███████▉  | 5892/7439 [04:48<01:15, 20.38it/s]"
     ]
    },
    {
     "name": "stdout",
     "output_type": "stream",
     "text": [
      "(201, 164, 3)\n",
      "(207, 165, 3)\n",
      "(199, 160, 3)\n",
      "(188, 155, 3)\n",
      "(183, 150, 3)\n"
     ]
    },
    {
     "name": "stderr",
     "output_type": "stream",
     "text": [
      " 79%|███████▉  | 5898/7439 [04:48<01:13, 21.01it/s]"
     ]
    },
    {
     "name": "stdout",
     "output_type": "stream",
     "text": [
      "(197, 159, 3)\n",
      "(199, 159, 3)\n",
      "(184, 150, 3)\n",
      "(183, 149, 3)\n",
      "(207, 168, 3)\n"
     ]
    },
    {
     "name": "stderr",
     "output_type": "stream",
     "text": [
      " 79%|███████▉  | 5904/7439 [04:48<01:11, 21.61it/s]"
     ]
    },
    {
     "name": "stdout",
     "output_type": "stream",
     "text": [
      "(200, 163, 3)\n",
      "(204, 164, 3)\n",
      "(187, 152, 3)\n",
      "(190, 154, 3)\n",
      "(193, 155, 3)\n"
     ]
    },
    {
     "name": "stderr",
     "output_type": "stream",
     "text": [
      " 79%|███████▉  | 5907/7439 [04:48<01:13, 20.87it/s]"
     ]
    },
    {
     "name": "stdout",
     "output_type": "stream",
     "text": [
      "(197, 155, 3)\n",
      "(198, 162, 3)\n",
      "(188, 151, 3)\n",
      "(191, 155, 3)\n"
     ]
    },
    {
     "name": "stderr",
     "output_type": "stream",
     "text": [
      " 79%|███████▉  | 5910/7439 [04:49<01:14, 20.48it/s]"
     ]
    },
    {
     "name": "stdout",
     "output_type": "stream",
     "text": [
      "(195, 158, 3)\n",
      "(185, 149, 3)\n",
      "(188, 152, 3)\n",
      "(197, 156, 3)\n"
     ]
    },
    {
     "name": "stderr",
     "output_type": "stream",
     "text": [
      " 80%|███████▉  | 5916/7439 [04:49<01:17, 19.64it/s]"
     ]
    },
    {
     "name": "stdout",
     "output_type": "stream",
     "text": [
      "(188, 152, 3)\n",
      "(180, 148, 3)\n",
      "(186, 154, 3)\n",
      "(183, 151, 3)\n"
     ]
    },
    {
     "name": "stderr",
     "output_type": "stream",
     "text": [
      " 80%|███████▉  | 5920/7439 [04:49<01:18, 19.37it/s]"
     ]
    },
    {
     "name": "stdout",
     "output_type": "stream",
     "text": [
      "(178, 145, 3)\n",
      "(195, 159, 3)\n",
      "(182, 151, 3)\n",
      "(188, 152, 3)\n"
     ]
    },
    {
     "name": "stderr",
     "output_type": "stream",
     "text": [
      " 80%|███████▉  | 5925/7439 [04:49<01:17, 19.58it/s]"
     ]
    },
    {
     "name": "stdout",
     "output_type": "stream",
     "text": [
      "(195, 159, 3)\n",
      "(185, 152, 3)\n",
      "(186, 150, 3)\n",
      "(187, 152, 3)\n",
      "(181, 150, 3)\n"
     ]
    },
    {
     "name": "stderr",
     "output_type": "stream",
     "text": [
      " 80%|███████▉  | 5929/7439 [04:50<01:17, 19.55it/s]"
     ]
    },
    {
     "name": "stdout",
     "output_type": "stream",
     "text": [
      "(180, 146, 3)\n",
      "(189, 157, 3)\n",
      "(183, 150, 3)\n",
      "(181, 146, 3)\n"
     ]
    },
    {
     "name": "stderr",
     "output_type": "stream",
     "text": [
      " 80%|███████▉  | 5932/7439 [04:50<01:17, 19.40it/s]"
     ]
    },
    {
     "name": "stdout",
     "output_type": "stream",
     "text": [
      "(187, 153, 3)\n",
      "(181, 149, 3)\n",
      "(178, 144, 3)\n",
      "(199, 163, 3)\n",
      "(189, 153, 3)\n"
     ]
    },
    {
     "name": "stderr",
     "output_type": "stream",
     "text": [
      " 80%|███████▉  | 5938/7439 [04:50<01:15, 20.00it/s]"
     ]
    },
    {
     "name": "stdout",
     "output_type": "stream",
     "text": [
      "(187, 150, 3)\n",
      "(197, 160, 3)\n",
      "(186, 151, 3)\n",
      "(183, 149, 3)\n"
     ]
    },
    {
     "name": "stderr",
     "output_type": "stream",
     "text": [
      " 80%|███████▉  | 5943/7439 [04:50<01:13, 20.39it/s]"
     ]
    },
    {
     "name": "stdout",
     "output_type": "stream",
     "text": [
      "(201, 162, 3)\n",
      "(193, 156, 3)\n",
      "(194, 152, 3)\n",
      "(191, 157, 3)\n",
      "(186, 151, 3)\n"
     ]
    },
    {
     "name": "stderr",
     "output_type": "stream",
     "text": [
      " 80%|███████▉  | 5946/7439 [04:50<01:14, 20.14it/s]"
     ]
    },
    {
     "name": "stdout",
     "output_type": "stream",
     "text": [
      "(184, 151, 3)\n",
      "(192, 159, 3)\n",
      "(182, 148, 3)\n",
      "(182, 150, 3)\n",
      "(198, 157, 3)\n"
     ]
    },
    {
     "name": "stderr",
     "output_type": "stream",
     "text": [
      " 80%|████████  | 5952/7439 [04:51<01:13, 20.19it/s]"
     ]
    },
    {
     "name": "stdout",
     "output_type": "stream",
     "text": [
      "(185, 151, 3)\n",
      "(191, 155, 3)\n",
      "(198, 159, 3)\n",
      "(188, 152, 3)\n",
      "(181, 150, 3)\n"
     ]
    },
    {
     "name": "stderr",
     "output_type": "stream",
     "text": [
      " 80%|████████  | 5955/7439 [04:51<01:13, 20.18it/s]"
     ]
    },
    {
     "name": "stdout",
     "output_type": "stream",
     "text": [
      "(197, 158, 3)\n",
      "(181, 151, 3)\n",
      "(185, 151, 3)\n"
     ]
    },
    {
     "name": "stderr",
     "output_type": "stream",
     "text": [
      " 80%|████████  | 5961/7439 [04:51<01:20, 18.47it/s]"
     ]
    },
    {
     "name": "stdout",
     "output_type": "stream",
     "text": [
      "(202, 161, 3)\n",
      "(189, 153, 3)\n",
      "(189, 151, 3)\n",
      "(205, 155, 3)\n",
      "(190, 151, 3)\n"
     ]
    },
    {
     "name": "stderr",
     "output_type": "stream",
     "text": [
      " 80%|████████  | 5966/7439 [04:51<01:15, 19.55it/s]"
     ]
    },
    {
     "name": "stdout",
     "output_type": "stream",
     "text": [
      "(182, 149, 3)\n",
      "(182, 156, 3)\n",
      "(181, 148, 3)\n",
      "(186, 145, 3)\n",
      "(169, 135, 3)\n"
     ]
    },
    {
     "name": "stderr",
     "output_type": "stream",
     "text": [
      " 80%|████████  | 5969/7439 [04:52<01:12, 20.23it/s]"
     ]
    },
    {
     "name": "stdout",
     "output_type": "stream",
     "text": [
      "(159, 126, 3)\n",
      "(165, 129, 3)\n",
      "(182, 137, 3)\n",
      "(166, 133, 3)\n",
      "(179, 140, 3)\n"
     ]
    },
    {
     "name": "stderr",
     "output_type": "stream",
     "text": [
      " 80%|████████  | 5975/7439 [04:52<01:07, 21.60it/s]"
     ]
    },
    {
     "name": "stdout",
     "output_type": "stream",
     "text": [
      "(172, 140, 3)\n",
      "(170, 136, 3)\n",
      "(170, 137, 3)\n",
      "(161, 127, 3)\n",
      "(171, 136, 3)\n"
     ]
    },
    {
     "name": "stderr",
     "output_type": "stream",
     "text": [
      " 80%|████████  | 5981/7439 [04:52<01:04, 22.71it/s]"
     ]
    },
    {
     "name": "stdout",
     "output_type": "stream",
     "text": [
      "(160, 129, 3)\n",
      "(166, 132, 3)\n",
      "(179, 137, 3)\n",
      "(160, 128, 3)\n",
      "(176, 138, 3)\n"
     ]
    },
    {
     "name": "stderr",
     "output_type": "stream",
     "text": [
      " 80%|████████  | 5984/7439 [04:52<01:04, 22.39it/s]"
     ]
    },
    {
     "name": "stdout",
     "output_type": "stream",
     "text": [
      "(187, 142, 3)\n",
      "(176, 128, 3)\n",
      "(174, 136, 3)\n",
      "(166, 133, 3)\n",
      "(168, 133, 3)\n"
     ]
    },
    {
     "name": "stderr",
     "output_type": "stream",
     "text": [
      " 81%|████████  | 5990/7439 [04:53<01:06, 21.88it/s]"
     ]
    },
    {
     "name": "stdout",
     "output_type": "stream",
     "text": [
      "(168, 132, 3)\n",
      "(182, 142, 3)\n",
      "(169, 132, 3)\n",
      "(169, 135, 3)\n",
      "(174, 139, 3)\n"
     ]
    },
    {
     "name": "stderr",
     "output_type": "stream",
     "text": [
      " 81%|████████  | 5996/7439 [04:53<01:08, 21.19it/s]"
     ]
    },
    {
     "name": "stdout",
     "output_type": "stream",
     "text": [
      "(176, 138, 3)\n",
      "(175, 137, 3)\n",
      "(171, 134, 3)\n",
      "(168, 131, 3)\n",
      "(170, 131, 3)\n"
     ]
    },
    {
     "name": "stderr",
     "output_type": "stream",
     "text": [
      " 81%|████████  | 5999/7439 [04:53<01:08, 21.03it/s]"
     ]
    },
    {
     "name": "stdout",
     "output_type": "stream",
     "text": [
      "(169, 134, 3)\n",
      "(177, 136, 3)\n",
      "(161, 127, 3)\n",
      "(169, 136, 3)\n",
      "(163, 130, 3)\n"
     ]
    },
    {
     "name": "stderr",
     "output_type": "stream",
     "text": [
      " 81%|████████  | 6005/7439 [04:53<01:08, 20.88it/s]"
     ]
    },
    {
     "name": "stdout",
     "output_type": "stream",
     "text": [
      "(163, 128, 3)\n",
      "(170, 132, 3)\n",
      "(169, 134, 3)\n",
      "(166, 131, 3)\n",
      "(171, 133, 3)\n"
     ]
    },
    {
     "name": "stderr",
     "output_type": "stream",
     "text": [
      " 81%|████████  | 6011/7439 [04:54<01:09, 20.54it/s]"
     ]
    },
    {
     "name": "stdout",
     "output_type": "stream",
     "text": [
      "(165, 129, 3)\n",
      "(158, 125, 3)\n",
      "(168, 133, 3)\n",
      "(174, 138, 3)\n",
      "(171, 132, 3)\n"
     ]
    },
    {
     "name": "stderr",
     "output_type": "stream",
     "text": [
      " 81%|████████  | 6014/7439 [04:54<01:09, 20.37it/s]"
     ]
    },
    {
     "name": "stdout",
     "output_type": "stream",
     "text": [
      "(169, 133, 3)\n",
      "(172, 135, 3)\n",
      "(168, 133, 3)\n",
      "(170, 132, 3)\n",
      "(173, 136, 3)\n"
     ]
    },
    {
     "name": "stderr",
     "output_type": "stream",
     "text": [
      " 81%|████████  | 6020/7439 [04:54<01:09, 20.48it/s]"
     ]
    },
    {
     "name": "stdout",
     "output_type": "stream",
     "text": [
      "(168, 134, 3)\n",
      "(181, 139, 3)\n",
      "(164, 129, 3)\n",
      "(177, 137, 3)\n",
      "(175, 135, 3)\n"
     ]
    },
    {
     "name": "stderr",
     "output_type": "stream",
     "text": [
      " 81%|████████  | 6023/7439 [04:54<01:09, 20.38it/s]"
     ]
    },
    {
     "name": "stdout",
     "output_type": "stream",
     "text": [
      "(173, 137, 3)\n",
      "(164, 129, 3)\n",
      "(179, 138, 3)\n",
      "(170, 132, 3)\n"
     ]
    },
    {
     "name": "stderr",
     "output_type": "stream",
     "text": [
      " 81%|████████  | 6029/7439 [04:54<01:09, 20.37it/s]"
     ]
    },
    {
     "name": "stdout",
     "output_type": "stream",
     "text": [
      "(172, 137, 3)\n",
      "(167, 129, 3)\n",
      "(171, 135, 3)\n",
      "(166, 132, 3)\n",
      "(175, 141, 3)\n"
     ]
    },
    {
     "name": "stderr",
     "output_type": "stream",
     "text": [
      " 81%|████████  | 6034/7439 [04:55<01:10, 19.79it/s]"
     ]
    },
    {
     "name": "stdout",
     "output_type": "stream",
     "text": [
      "(179, 137, 3)\n",
      "(180, 140, 3)\n",
      "(186, 138, 3)\n",
      "(168, 133, 3)\n"
     ]
    },
    {
     "name": "stderr",
     "output_type": "stream",
     "text": [
      " 81%|████████  | 6039/7439 [04:55<01:10, 19.92it/s]"
     ]
    },
    {
     "name": "stdout",
     "output_type": "stream",
     "text": [
      "(181, 139, 3)\n",
      "(168, 130, 3)\n",
      "(158, 126, 3)\n",
      "(161, 126, 3)\n",
      "(164, 132, 3)\n"
     ]
    },
    {
     "name": "stderr",
     "output_type": "stream",
     "text": [
      " 81%|████████  | 6042/7439 [04:55<01:09, 19.99it/s]"
     ]
    },
    {
     "name": "stdout",
     "output_type": "stream",
     "text": [
      "(171, 136, 3)\n",
      "(175, 135, 3)\n",
      "(186, 142, 3)\n",
      "(153, 124, 3)\n"
     ]
    },
    {
     "name": "stderr",
     "output_type": "stream",
     "text": [
      " 81%|████████▏ | 6047/7439 [04:55<01:20, 17.19it/s]"
     ]
    },
    {
     "name": "stdout",
     "output_type": "stream",
     "text": [
      "(161, 127, 3)\n",
      "(172, 136, 3)\n",
      "(172, 136, 3)\n",
      "(178, 136, 3)\n",
      "(163, 126, 3)\n"
     ]
    },
    {
     "name": "stderr",
     "output_type": "stream",
     "text": [
      " 81%|████████▏ | 6053/7439 [04:56<01:11, 19.32it/s]"
     ]
    },
    {
     "name": "stdout",
     "output_type": "stream",
     "text": [
      "(158, 122, 3)\n",
      "(162, 124, 3)\n",
      "(166, 125, 3)\n",
      "(165, 125, 3)\n",
      "(146, 116, 3)\n"
     ]
    },
    {
     "name": "stderr",
     "output_type": "stream",
     "text": [
      " 81%|████████▏ | 6056/7439 [04:56<01:09, 19.87it/s]"
     ]
    },
    {
     "name": "stdout",
     "output_type": "stream",
     "text": [
      "(172, 126, 3)\n",
      "(168, 128, 3)\n",
      "(166, 126, 3)\n",
      "(156, 122, 3)\n",
      "(160, 128, 3)\n"
     ]
    },
    {
     "name": "stderr",
     "output_type": "stream",
     "text": [
      " 81%|████████▏ | 6062/7439 [04:56<01:05, 21.14it/s]"
     ]
    },
    {
     "name": "stdout",
     "output_type": "stream",
     "text": [
      "(156, 120, 3)\n",
      "(155, 122, 3)\n",
      "(164, 128, 3)\n",
      "(158, 121, 3)\n",
      "(169, 129, 3)\n"
     ]
    },
    {
     "name": "stderr",
     "output_type": "stream",
     "text": [
      " 82%|████████▏ | 6068/7439 [04:56<01:01, 22.35it/s]"
     ]
    },
    {
     "name": "stdout",
     "output_type": "stream",
     "text": [
      "(167, 123, 3)\n",
      "(175, 131, 3)\n",
      "(169, 129, 3)\n",
      "(167, 128, 3)\n",
      "(156, 128, 3)\n"
     ]
    },
    {
     "name": "stderr",
     "output_type": "stream",
     "text": [
      " 82%|████████▏ | 6071/7439 [04:57<01:02, 22.06it/s]"
     ]
    },
    {
     "name": "stdout",
     "output_type": "stream",
     "text": [
      "(164, 127, 3)\n",
      "(166, 128, 3)\n",
      "(144, 118, 3)\n",
      "(151, 118, 3)\n",
      "(162, 123, 3)\n"
     ]
    },
    {
     "name": "stderr",
     "output_type": "stream",
     "text": [
      " 82%|████████▏ | 6077/7439 [04:57<01:02, 21.70it/s]"
     ]
    },
    {
     "name": "stdout",
     "output_type": "stream",
     "text": [
      "(156, 123, 3)\n",
      "(158, 124, 3)\n",
      "(149, 121, 3)\n",
      "(149, 118, 3)\n",
      "(160, 121, 3)\n"
     ]
    },
    {
     "name": "stderr",
     "output_type": "stream",
     "text": [
      " 82%|████████▏ | 6083/7439 [04:57<01:03, 21.25it/s]"
     ]
    },
    {
     "name": "stdout",
     "output_type": "stream",
     "text": [
      "(156, 124, 3)\n",
      "(160, 125, 3)\n",
      "(154, 123, 3)\n",
      "(150, 124, 3)\n",
      "(153, 119, 3)\n"
     ]
    },
    {
     "name": "stderr",
     "output_type": "stream",
     "text": [
      " 82%|████████▏ | 6086/7439 [04:57<01:04, 21.10it/s]"
     ]
    },
    {
     "name": "stdout",
     "output_type": "stream",
     "text": [
      "(161, 127, 3)\n",
      "(165, 126, 3)\n",
      "(155, 126, 3)\n",
      "(156, 123, 3)\n",
      "(156, 124, 3)\n"
     ]
    },
    {
     "name": "stderr",
     "output_type": "stream",
     "text": [
      " 82%|████████▏ | 6092/7439 [04:58<01:03, 21.24it/s]"
     ]
    },
    {
     "name": "stdout",
     "output_type": "stream",
     "text": [
      "(156, 122, 3)\n",
      "(153, 122, 3)\n",
      "(159, 126, 3)\n",
      "(157, 119, 3)\n",
      "(156, 128, 3)\n"
     ]
    },
    {
     "name": "stderr",
     "output_type": "stream",
     "text": [
      " 82%|████████▏ | 6098/7439 [04:58<01:01, 21.80it/s]"
     ]
    },
    {
     "name": "stdout",
     "output_type": "stream",
     "text": [
      "(152, 121, 3)\n",
      "(148, 116, 3)\n",
      "(156, 122, 3)\n",
      "(152, 118, 3)\n",
      "(165, 126, 3)\n"
     ]
    },
    {
     "name": "stderr",
     "output_type": "stream",
     "text": [
      " 82%|████████▏ | 6101/7439 [04:58<01:02, 21.54it/s]"
     ]
    },
    {
     "name": "stdout",
     "output_type": "stream",
     "text": [
      "(153, 119, 3)\n",
      "(165, 128, 3)\n",
      "(156, 125, 3)\n",
      "(152, 121, 3)\n",
      "(155, 121, 3)\n"
     ]
    },
    {
     "name": "stderr",
     "output_type": "stream",
     "text": [
      " 82%|████████▏ | 6107/7439 [04:58<01:02, 21.29it/s]"
     ]
    },
    {
     "name": "stdout",
     "output_type": "stream",
     "text": [
      "(162, 124, 3)\n",
      "(153, 126, 3)\n",
      "(156, 120, 3)\n",
      "(149, 118, 3)\n",
      "(156, 122, 3)\n"
     ]
    },
    {
     "name": "stderr",
     "output_type": "stream",
     "text": [
      " 82%|████████▏ | 6110/7439 [04:58<01:01, 21.67it/s]"
     ]
    },
    {
     "name": "stdout",
     "output_type": "stream",
     "text": [
      "(162, 124, 3)\n",
      "(157, 120, 3)\n",
      "(152, 119, 3)\n",
      "(178, 136, 3)\n",
      "(156, 120, 3)\n"
     ]
    },
    {
     "name": "stderr",
     "output_type": "stream",
     "text": [
      " 82%|████████▏ | 6116/7439 [04:59<01:03, 20.84it/s]"
     ]
    },
    {
     "name": "stdout",
     "output_type": "stream",
     "text": [
      "(160, 125, 3)\n",
      "(168, 129, 3)\n",
      "(162, 120, 3)\n",
      "(165, 126, 3)\n",
      "(155, 125, 3)\n"
     ]
    },
    {
     "name": "stderr",
     "output_type": "stream",
     "text": [
      " 82%|████████▏ | 6122/7439 [04:59<01:02, 21.08it/s]"
     ]
    },
    {
     "name": "stdout",
     "output_type": "stream",
     "text": [
      "(154, 122, 3)\n",
      "(154, 121, 3)\n",
      "(163, 126, 3)\n",
      "(150, 118, 3)\n",
      "(141, 119, 3)\n"
     ]
    },
    {
     "name": "stderr",
     "output_type": "stream",
     "text": [
      " 82%|████████▏ | 6128/7439 [04:59<01:01, 21.17it/s]"
     ]
    },
    {
     "name": "stdout",
     "output_type": "stream",
     "text": [
      "(163, 126, 3)\n",
      "(152, 121, 3)\n",
      "(156, 123, 3)\n",
      "(164, 128, 3)\n",
      "(161, 122, 3)\n"
     ]
    },
    {
     "name": "stderr",
     "output_type": "stream",
     "text": [
      " 82%|████████▏ | 6131/7439 [04:59<01:00, 21.49it/s]"
     ]
    },
    {
     "name": "stdout",
     "output_type": "stream",
     "text": [
      "(158, 122, 3)\n",
      "(186, 134, 3)\n",
      "(166, 128, 3)\n",
      "(180, 131, 3)\n",
      "(178, 133, 3)\n"
     ]
    },
    {
     "name": "stderr",
     "output_type": "stream",
     "text": [
      " 82%|████████▏ | 6137/7439 [05:00<01:01, 21.30it/s]"
     ]
    },
    {
     "name": "stdout",
     "output_type": "stream",
     "text": [
      "(169, 133, 3)\n",
      "(165, 127, 3)\n",
      "(171, 131, 3)\n",
      "(174, 130, 3)\n",
      "(169, 129, 3)\n"
     ]
    },
    {
     "name": "stderr",
     "output_type": "stream",
     "text": [
      " 83%|████████▎ | 6143/7439 [05:00<00:58, 22.11it/s]"
     ]
    },
    {
     "name": "stdout",
     "output_type": "stream",
     "text": [
      "(173, 130, 3)\n",
      "(158, 127, 3)\n",
      "(159, 125, 3)\n",
      "(171, 132, 3)\n",
      "(157, 120, 3)\n"
     ]
    },
    {
     "name": "stderr",
     "output_type": "stream",
     "text": [
      " 83%|████████▎ | 6146/7439 [05:00<00:57, 22.51it/s]"
     ]
    },
    {
     "name": "stdout",
     "output_type": "stream",
     "text": [
      "(164, 126, 3)\n",
      "(175, 135, 3)\n",
      "(162, 127, 3)\n",
      "(180, 135, 3)\n",
      "(174, 130, 3)\n"
     ]
    },
    {
     "name": "stderr",
     "output_type": "stream",
     "text": [
      " 83%|████████▎ | 6152/7439 [05:00<00:58, 22.06it/s]"
     ]
    },
    {
     "name": "stdout",
     "output_type": "stream",
     "text": [
      "(175, 135, 3)\n",
      "(165, 127, 3)\n",
      "(169, 127, 3)\n",
      "(168, 128, 3)\n",
      "(176, 130, 3)\n"
     ]
    },
    {
     "name": "stderr",
     "output_type": "stream",
     "text": [
      " 83%|████████▎ | 6158/7439 [05:01<00:59, 21.63it/s]"
     ]
    },
    {
     "name": "stdout",
     "output_type": "stream",
     "text": [
      "(181, 133, 3)\n",
      "(169, 129, 3)\n",
      "(181, 134, 3)\n",
      "(176, 130, 3)\n",
      "(191, 133, 3)\n"
     ]
    },
    {
     "name": "stderr",
     "output_type": "stream",
     "text": [
      " 83%|████████▎ | 6161/7439 [05:01<00:58, 21.79it/s]"
     ]
    },
    {
     "name": "stdout",
     "output_type": "stream",
     "text": [
      "(168, 130, 3)\n",
      "(177, 131, 3)\n",
      "(170, 127, 3)\n",
      "(170, 128, 3)\n",
      "(164, 127, 3)\n"
     ]
    },
    {
     "name": "stderr",
     "output_type": "stream",
     "text": [
      " 83%|████████▎ | 6167/7439 [05:01<01:00, 21.14it/s]"
     ]
    },
    {
     "name": "stdout",
     "output_type": "stream",
     "text": [
      "(168, 130, 3)\n",
      "(165, 129, 3)\n",
      "(159, 122, 3)\n",
      "(165, 128, 3)\n"
     ]
    },
    {
     "name": "stderr",
     "output_type": "stream",
     "text": [
      " 83%|████████▎ | 6170/7439 [05:01<01:00, 20.86it/s]"
     ]
    },
    {
     "name": "stdout",
     "output_type": "stream",
     "text": [
      "(167, 125, 3)\n",
      "(188, 137, 3)\n",
      "(164, 128, 3)\n",
      "(173, 130, 3)\n",
      "(178, 136, 3)\n"
     ]
    },
    {
     "name": "stderr",
     "output_type": "stream",
     "text": [
      " 83%|████████▎ | 6176/7439 [05:01<01:05, 19.25it/s]"
     ]
    },
    {
     "name": "stdout",
     "output_type": "stream",
     "text": [
      "(180, 132, 3)\n",
      "(178, 134, 3)\n",
      "(175, 134, 3)\n",
      "(163, 127, 3)\n"
     ]
    },
    {
     "name": "stderr",
     "output_type": "stream",
     "text": [
      " 83%|████████▎ | 6179/7439 [05:02<01:03, 19.87it/s]"
     ]
    },
    {
     "name": "stdout",
     "output_type": "stream",
     "text": [
      "(160, 126, 3)\n",
      "(168, 130, 3)\n",
      "(169, 130, 3)\n",
      "(172, 129, 3)\n",
      "(178, 134, 3)\n"
     ]
    },
    {
     "name": "stderr",
     "output_type": "stream",
     "text": [
      " 83%|████████▎ | 6185/7439 [05:02<01:00, 20.68it/s]"
     ]
    },
    {
     "name": "stdout",
     "output_type": "stream",
     "text": [
      "(185, 136, 3)\n",
      "(178, 130, 3)\n",
      "(178, 134, 3)\n",
      "No face detected in 1076_MTI_SAD_XX.flv. Skipping.\n",
      "(180, 135, 3)\n"
     ]
    },
    {
     "name": "stderr",
     "output_type": "stream",
     "text": [
      " 83%|████████▎ | 6191/7439 [05:02<00:58, 21.30it/s]"
     ]
    },
    {
     "name": "stdout",
     "output_type": "stream",
     "text": [
      "(155, 122, 3)\n",
      "(167, 128, 3)\n",
      "(179, 133, 3)\n",
      "(164, 124, 3)\n",
      "(170, 128, 3)\n"
     ]
    },
    {
     "name": "stderr",
     "output_type": "stream",
     "text": [
      " 83%|████████▎ | 6194/7439 [05:02<01:00, 20.74it/s]"
     ]
    },
    {
     "name": "stdout",
     "output_type": "stream",
     "text": [
      "(192, 139, 3)\n",
      "(177, 129, 3)\n",
      "(172, 130, 3)\n",
      "(182, 137, 3)\n"
     ]
    },
    {
     "name": "stderr",
     "output_type": "stream",
     "text": [
      " 83%|████████▎ | 6200/7439 [05:03<00:59, 20.88it/s]"
     ]
    },
    {
     "name": "stdout",
     "output_type": "stream",
     "text": [
      "(169, 129, 3)\n",
      "(186, 139, 3)\n",
      "(179, 136, 3)\n",
      "(163, 127, 3)\n",
      "(172, 133, 3)\n"
     ]
    },
    {
     "name": "stderr",
     "output_type": "stream",
     "text": [
      " 83%|████████▎ | 6203/7439 [05:03<00:58, 21.02it/s]"
     ]
    },
    {
     "name": "stdout",
     "output_type": "stream",
     "text": [
      "(170, 132, 3)\n",
      "(167, 128, 3)\n",
      "(160, 128, 3)\n",
      "(176, 131, 3)\n",
      "(170, 129, 3)\n"
     ]
    },
    {
     "name": "stderr",
     "output_type": "stream",
     "text": [
      " 83%|████████▎ | 6209/7439 [05:03<00:59, 20.59it/s]"
     ]
    },
    {
     "name": "stdout",
     "output_type": "stream",
     "text": [
      "(166, 128, 3)\n",
      "(168, 129, 3)\n",
      "(178, 131, 3)\n",
      "(169, 126, 3)\n",
      "(163, 128, 3)\n"
     ]
    },
    {
     "name": "stderr",
     "output_type": "stream",
     "text": [
      " 84%|████████▎ | 6215/7439 [05:03<00:57, 21.33it/s]"
     ]
    },
    {
     "name": "stdout",
     "output_type": "stream",
     "text": [
      "(158, 123, 3)\n",
      "(152, 123, 3)\n",
      "(160, 124, 3)\n",
      "(161, 126, 3)\n",
      "(162, 125, 3)\n"
     ]
    },
    {
     "name": "stderr",
     "output_type": "stream",
     "text": [
      " 84%|████████▎ | 6218/7439 [05:03<00:56, 21.78it/s]"
     ]
    },
    {
     "name": "stdout",
     "output_type": "stream",
     "text": [
      "(182, 135, 3)\n",
      "(155, 123, 3)\n",
      "(164, 127, 3)\n",
      "(151, 121, 3)\n",
      "(158, 123, 3)\n"
     ]
    },
    {
     "name": "stderr",
     "output_type": "stream",
     "text": [
      " 84%|████████▎ | 6224/7439 [05:04<00:54, 22.49it/s]"
     ]
    },
    {
     "name": "stdout",
     "output_type": "stream",
     "text": [
      "(157, 122, 3)\n",
      "(159, 125, 3)\n",
      "(166, 130, 3)\n",
      "(179, 129, 3)\n",
      "(174, 128, 3)\n"
     ]
    },
    {
     "name": "stderr",
     "output_type": "stream",
     "text": [
      " 84%|████████▎ | 6230/7439 [05:04<00:54, 22.13it/s]"
     ]
    },
    {
     "name": "stdout",
     "output_type": "stream",
     "text": [
      "(156, 122, 3)\n",
      "(172, 127, 3)\n",
      "(166, 130, 3)\n",
      "(173, 127, 3)\n",
      "(165, 123, 3)\n"
     ]
    },
    {
     "name": "stderr",
     "output_type": "stream",
     "text": [
      " 84%|████████▍ | 6233/7439 [05:04<00:55, 21.65it/s]"
     ]
    },
    {
     "name": "stdout",
     "output_type": "stream",
     "text": [
      "(157, 119, 3)\n",
      "(179, 135, 3)\n",
      "(164, 128, 3)\n",
      "(153, 124, 3)\n",
      "(161, 123, 3)\n"
     ]
    },
    {
     "name": "stderr",
     "output_type": "stream",
     "text": [
      " 84%|████████▍ | 6239/7439 [05:04<00:57, 21.01it/s]"
     ]
    },
    {
     "name": "stdout",
     "output_type": "stream",
     "text": [
      "(172, 133, 3)\n",
      "(161, 126, 3)\n",
      "(153, 121, 3)\n",
      "(166, 128, 3)\n",
      "(155, 123, 3)\n"
     ]
    },
    {
     "name": "stderr",
     "output_type": "stream",
     "text": [
      " 84%|████████▍ | 6245/7439 [05:05<00:56, 21.25it/s]"
     ]
    },
    {
     "name": "stdout",
     "output_type": "stream",
     "text": [
      "(166, 121, 3)\n",
      "(168, 129, 3)\n",
      "(160, 124, 3)\n",
      "(156, 127, 3)\n",
      "(155, 123, 3)\n"
     ]
    },
    {
     "name": "stderr",
     "output_type": "stream",
     "text": [
      " 84%|████████▍ | 6248/7439 [05:05<00:55, 21.57it/s]"
     ]
    },
    {
     "name": "stdout",
     "output_type": "stream",
     "text": [
      "(163, 129, 3)\n",
      "(162, 123, 3)\n",
      "(160, 129, 3)\n",
      "(152, 116, 3)\n",
      "(168, 129, 3)\n"
     ]
    },
    {
     "name": "stderr",
     "output_type": "stream",
     "text": [
      " 84%|████████▍ | 6254/7439 [05:05<00:54, 21.57it/s]"
     ]
    },
    {
     "name": "stdout",
     "output_type": "stream",
     "text": [
      "(151, 119, 3)\n",
      "(153, 117, 3)\n",
      "(163, 132, 3)\n",
      "(162, 126, 3)\n",
      "(157, 121, 3)\n"
     ]
    },
    {
     "name": "stderr",
     "output_type": "stream",
     "text": [
      " 84%|████████▍ | 6260/7439 [05:05<00:54, 21.78it/s]"
     ]
    },
    {
     "name": "stdout",
     "output_type": "stream",
     "text": [
      "(170, 131, 3)\n",
      "(149, 117, 3)\n",
      "(156, 120, 3)\n",
      "(167, 125, 3)\n",
      "(161, 125, 3)\n"
     ]
    },
    {
     "name": "stderr",
     "output_type": "stream",
     "text": [
      " 84%|████████▍ | 6263/7439 [05:06<00:55, 21.16it/s]"
     ]
    },
    {
     "name": "stdout",
     "output_type": "stream",
     "text": [
      "(151, 123, 3)\n",
      "(166, 125, 3)\n",
      "(151, 117, 3)\n",
      "(164, 126, 3)\n"
     ]
    },
    {
     "name": "stderr",
     "output_type": "stream",
     "text": [
      " 84%|████████▍ | 6269/7439 [05:06<00:56, 20.68it/s]"
     ]
    },
    {
     "name": "stdout",
     "output_type": "stream",
     "text": [
      "(163, 128, 3)\n",
      "(162, 127, 3)\n",
      "(161, 124, 3)\n",
      "(167, 129, 3)\n",
      "(166, 125, 3)\n"
     ]
    },
    {
     "name": "stderr",
     "output_type": "stream",
     "text": [
      " 84%|████████▍ | 6272/7439 [05:06<00:56, 20.81it/s]"
     ]
    },
    {
     "name": "stdout",
     "output_type": "stream",
     "text": [
      "(162, 124, 3)\n",
      "(154, 125, 3)\n",
      "(161, 123, 3)\n",
      "(156, 124, 3)\n",
      "(173, 129, 3)\n"
     ]
    },
    {
     "name": "stderr",
     "output_type": "stream",
     "text": [
      " 84%|████████▍ | 6278/7439 [05:06<00:56, 20.63it/s]"
     ]
    },
    {
     "name": "stdout",
     "output_type": "stream",
     "text": [
      "(167, 129, 3)\n",
      "(180, 140, 3)\n",
      "(161, 123, 3)\n",
      "(160, 126, 3)\n",
      "(177, 133, 3)\n"
     ]
    },
    {
     "name": "stderr",
     "output_type": "stream",
     "text": [
      " 84%|████████▍ | 6281/7439 [05:06<00:58, 19.84it/s]"
     ]
    },
    {
     "name": "stdout",
     "output_type": "stream",
     "text": [
      "(168, 128, 3)\n",
      "(158, 124, 3)\n",
      "(163, 129, 3)\n",
      "(151, 117, 3)\n"
     ]
    },
    {
     "name": "stderr",
     "output_type": "stream",
     "text": [
      " 85%|████████▍ | 6287/7439 [05:07<00:56, 20.32it/s]"
     ]
    },
    {
     "name": "stdout",
     "output_type": "stream",
     "text": [
      "(148, 120, 3)\n",
      "(158, 125, 3)\n",
      "(163, 125, 3)\n",
      "(166, 126, 3)\n"
     ]
    },
    {
     "name": "stderr",
     "output_type": "stream",
     "text": [
      " 85%|████████▍ | 6290/7439 [05:07<00:56, 20.20it/s]"
     ]
    },
    {
     "name": "stdout",
     "output_type": "stream",
     "text": [
      "(164, 128, 3)\n",
      "(157, 124, 3)\n",
      "(156, 122, 3)\n",
      "(161, 128, 3)\n"
     ]
    },
    {
     "name": "stderr",
     "output_type": "stream",
     "text": [
      " 85%|████████▍ | 6293/7439 [05:07<00:58, 19.63it/s]"
     ]
    },
    {
     "name": "stdout",
     "output_type": "stream",
     "text": [
      "(169, 127, 3)\n",
      "(142, 113, 3)\n",
      "(156, 121, 3)\n",
      "(177, 129, 3)\n"
     ]
    },
    {
     "name": "stderr",
     "output_type": "stream",
     "text": [
      " 85%|████████▍ | 6298/7439 [05:07<00:58, 19.54it/s]"
     ]
    },
    {
     "name": "stdout",
     "output_type": "stream",
     "text": [
      "(171, 128, 3)\n",
      "(164, 125, 3)\n",
      "(177, 134, 3)\n",
      "(180, 132, 3)\n",
      "(168, 128, 3)\n"
     ]
    },
    {
     "name": "stderr",
     "output_type": "stream",
     "text": [
      " 85%|████████▍ | 6304/7439 [05:08<00:56, 20.22it/s]"
     ]
    },
    {
     "name": "stdout",
     "output_type": "stream",
     "text": [
      "(150, 121, 3)\n",
      "(168, 125, 3)\n",
      "(155, 120, 3)\n",
      "(188, 135, 3)\n",
      "(165, 129, 3)\n"
     ]
    },
    {
     "name": "stderr",
     "output_type": "stream",
     "text": [
      " 85%|████████▍ | 6310/7439 [05:08<00:54, 20.57it/s]"
     ]
    },
    {
     "name": "stdout",
     "output_type": "stream",
     "text": [
      "(170, 131, 3)\n",
      "(185, 136, 3)\n",
      "(168, 130, 3)\n",
      "(175, 133, 3)\n",
      "(167, 130, 3)\n"
     ]
    },
    {
     "name": "stderr",
     "output_type": "stream",
     "text": [
      " 85%|████████▍ | 6313/7439 [05:08<00:54, 20.52it/s]"
     ]
    },
    {
     "name": "stdout",
     "output_type": "stream",
     "text": [
      "(171, 130, 3)\n",
      "(164, 126, 3)\n",
      "(158, 125, 3)\n",
      "(173, 132, 3)\n"
     ]
    },
    {
     "name": "stderr",
     "output_type": "stream",
     "text": [
      " 85%|████████▍ | 6319/7439 [05:08<00:54, 20.59it/s]"
     ]
    },
    {
     "name": "stdout",
     "output_type": "stream",
     "text": [
      "(158, 125, 3)\n",
      "(164, 127, 3)\n",
      "(173, 131, 3)\n",
      "(166, 129, 3)\n",
      "(168, 132, 3)\n"
     ]
    },
    {
     "name": "stderr",
     "output_type": "stream",
     "text": [
      " 85%|████████▍ | 6322/7439 [05:08<00:55, 20.22it/s]"
     ]
    },
    {
     "name": "stdout",
     "output_type": "stream",
     "text": [
      "(166, 126, 3)\n",
      "(145, 118, 3)\n",
      "(161, 124, 3)\n",
      "(169, 131, 3)\n",
      "(168, 126, 3)\n"
     ]
    },
    {
     "name": "stderr",
     "output_type": "stream",
     "text": [
      " 85%|████████▌ | 6328/7439 [05:09<00:56, 19.50it/s]"
     ]
    },
    {
     "name": "stdout",
     "output_type": "stream",
     "text": [
      "(157, 120, 3)\n",
      "(165, 125, 3)\n",
      "(149, 121, 3)\n",
      "(154, 116, 3)\n"
     ]
    },
    {
     "name": "stderr",
     "output_type": "stream",
     "text": [
      " 85%|████████▌ | 6333/7439 [05:09<00:56, 19.75it/s]"
     ]
    },
    {
     "name": "stdout",
     "output_type": "stream",
     "text": [
      "(156, 123, 3)\n",
      "(150, 119, 3)\n",
      "(161, 124, 3)\n",
      "(170, 128, 3)\n",
      "(154, 120, 3)\n"
     ]
    },
    {
     "name": "stderr",
     "output_type": "stream",
     "text": [
      " 85%|████████▌ | 6336/7439 [05:09<00:55, 19.95it/s]"
     ]
    },
    {
     "name": "stdout",
     "output_type": "stream",
     "text": [
      "(167, 126, 3)\n",
      "(152, 122, 3)\n",
      "(158, 124, 3)\n",
      "(166, 126, 3)\n",
      "(163, 129, 3)\n"
     ]
    },
    {
     "name": "stderr",
     "output_type": "stream",
     "text": [
      " 85%|████████▌ | 6342/7439 [05:09<00:54, 20.10it/s]"
     ]
    },
    {
     "name": "stdout",
     "output_type": "stream",
     "text": [
      "(152, 122, 3)\n",
      "(156, 121, 3)\n",
      "(160, 128, 3)\n",
      "(162, 125, 3)\n",
      "(163, 126, 3)\n"
     ]
    },
    {
     "name": "stderr",
     "output_type": "stream",
     "text": [
      " 85%|████████▌ | 6347/7439 [05:10<00:55, 19.66it/s]"
     ]
    },
    {
     "name": "stdout",
     "output_type": "stream",
     "text": [
      "(166, 126, 3)\n",
      "(155, 123, 3)\n",
      "(167, 126, 3)\n",
      "(169, 130, 3)\n"
     ]
    },
    {
     "name": "stderr",
     "output_type": "stream",
     "text": [
      " 85%|████████▌ | 6350/7439 [05:10<00:55, 19.58it/s]"
     ]
    },
    {
     "name": "stdout",
     "output_type": "stream",
     "text": [
      "(160, 123, 3)\n",
      "(160, 121, 3)\n",
      "(174, 132, 3)\n",
      "(163, 125, 3)\n",
      "(158, 119, 3)\n"
     ]
    },
    {
     "name": "stderr",
     "output_type": "stream",
     "text": [
      " 85%|████████▌ | 6356/7439 [05:10<00:56, 19.20it/s]"
     ]
    },
    {
     "name": "stdout",
     "output_type": "stream",
     "text": [
      "(181, 129, 3)\n",
      "(161, 124, 3)\n",
      "(166, 127, 3)\n",
      "(158, 125, 3)\n"
     ]
    },
    {
     "name": "stderr",
     "output_type": "stream",
     "text": [
      " 85%|████████▌ | 6360/7439 [05:10<00:56, 19.11it/s]"
     ]
    },
    {
     "name": "stdout",
     "output_type": "stream",
     "text": [
      "(166, 124, 3)\n",
      "(172, 132, 3)\n",
      "(175, 135, 3)\n",
      "(166, 129, 3)\n"
     ]
    },
    {
     "name": "stderr",
     "output_type": "stream",
     "text": [
      " 86%|████████▌ | 6365/7439 [05:11<00:55, 19.45it/s]"
     ]
    },
    {
     "name": "stdout",
     "output_type": "stream",
     "text": [
      "(161, 124, 3)\n",
      "(172, 133, 3)\n",
      "(150, 121, 3)\n",
      "(156, 120, 3)\n",
      "(159, 126, 3)\n"
     ]
    },
    {
     "name": "stderr",
     "output_type": "stream",
     "text": [
      " 86%|████████▌ | 6369/7439 [05:11<00:54, 19.59it/s]"
     ]
    },
    {
     "name": "stdout",
     "output_type": "stream",
     "text": [
      "(162, 125, 3)\n",
      "(153, 124, 3)\n",
      "(163, 124, 3)\n",
      "(154, 120, 3)\n"
     ]
    },
    {
     "name": "stderr",
     "output_type": "stream",
     "text": [
      " 86%|████████▌ | 6373/7439 [05:11<00:55, 19.31it/s]"
     ]
    },
    {
     "name": "stdout",
     "output_type": "stream",
     "text": [
      "(162, 124, 3)\n",
      "(149, 121, 3)\n",
      "(175, 132, 3)\n",
      "(162, 124, 3)\n"
     ]
    },
    {
     "name": "stderr",
     "output_type": "stream",
     "text": [
      " 86%|████████▌ | 6376/7439 [05:11<00:52, 20.22it/s]"
     ]
    },
    {
     "name": "stdout",
     "output_type": "stream",
     "text": [
      "(174, 143, 3)\n",
      "(175, 138, 3)\n",
      "(173, 140, 3)\n",
      "(183, 147, 3)\n",
      "(174, 139, 3)\n"
     ]
    },
    {
     "name": "stderr",
     "output_type": "stream",
     "text": [
      " 86%|████████▌ | 6382/7439 [05:11<00:49, 21.27it/s]"
     ]
    },
    {
     "name": "stdout",
     "output_type": "stream",
     "text": [
      "(179, 142, 3)\n",
      "(185, 144, 3)\n",
      "(180, 141, 3)\n",
      "(171, 133, 3)\n",
      "(178, 139, 3)\n"
     ]
    },
    {
     "name": "stderr",
     "output_type": "stream",
     "text": [
      " 86%|████████▌ | 6385/7439 [05:12<00:58, 18.17it/s]"
     ]
    },
    {
     "name": "stdout",
     "output_type": "stream",
     "text": [
      "(166, 130, 3)\n",
      "(178, 141, 3)\n",
      "(163, 132, 3)\n"
     ]
    },
    {
     "name": "stderr",
     "output_type": "stream",
     "text": [
      " 86%|████████▌ | 6391/7439 [05:12<00:51, 20.24it/s]"
     ]
    },
    {
     "name": "stdout",
     "output_type": "stream",
     "text": [
      "(155, 123, 3)\n",
      "(167, 137, 3)\n",
      "(180, 143, 3)\n",
      "(175, 141, 3)\n",
      "(172, 140, 3)\n"
     ]
    },
    {
     "name": "stderr",
     "output_type": "stream",
     "text": [
      " 86%|████████▌ | 6394/7439 [05:12<00:51, 20.38it/s]"
     ]
    },
    {
     "name": "stdout",
     "output_type": "stream",
     "text": [
      "(173, 139, 3)\n",
      "(170, 139, 3)\n",
      "(173, 140, 3)\n",
      "(167, 137, 3)\n",
      "(177, 143, 3)\n"
     ]
    },
    {
     "name": "stderr",
     "output_type": "stream",
     "text": [
      " 86%|████████▌ | 6400/7439 [05:12<00:51, 20.28it/s]"
     ]
    },
    {
     "name": "stdout",
     "output_type": "stream",
     "text": [
      "(174, 135, 3)\n",
      "(170, 136, 3)\n",
      "(159, 131, 3)\n",
      "(165, 131, 3)\n",
      "(159, 129, 3)\n"
     ]
    },
    {
     "name": "stderr",
     "output_type": "stream",
     "text": [
      " 86%|████████▌ | 6403/7439 [05:13<00:51, 20.28it/s]"
     ]
    },
    {
     "name": "stdout",
     "output_type": "stream",
     "text": [
      "(174, 139, 3)\n",
      "(171, 141, 3)\n",
      "(170, 140, 3)\n",
      "(174, 139, 3)\n"
     ]
    },
    {
     "name": "stderr",
     "output_type": "stream",
     "text": [
      " 86%|████████▌ | 6408/7439 [05:13<00:55, 18.60it/s]"
     ]
    },
    {
     "name": "stdout",
     "output_type": "stream",
     "text": [
      "(175, 141, 3)\n",
      "(167, 135, 3)\n",
      "(172, 140, 3)\n",
      "(170, 138, 3)\n"
     ]
    },
    {
     "name": "stderr",
     "output_type": "stream",
     "text": [
      " 86%|████████▌ | 6413/7439 [05:13<00:53, 19.31it/s]"
     ]
    },
    {
     "name": "stdout",
     "output_type": "stream",
     "text": [
      "(180, 145, 3)\n",
      "(176, 143, 3)\n",
      "(165, 131, 3)\n",
      "(171, 137, 3)\n",
      "(168, 137, 3)\n"
     ]
    },
    {
     "name": "stderr",
     "output_type": "stream",
     "text": [
      " 86%|████████▋ | 6418/7439 [05:13<00:52, 19.59it/s]"
     ]
    },
    {
     "name": "stdout",
     "output_type": "stream",
     "text": [
      "(165, 132, 3)\n",
      "(178, 136, 3)\n",
      "(176, 142, 3)\n",
      "(177, 141, 3)\n"
     ]
    },
    {
     "name": "stderr",
     "output_type": "stream",
     "text": [
      " 86%|████████▋ | 6421/7439 [05:14<00:51, 19.88it/s]"
     ]
    },
    {
     "name": "stdout",
     "output_type": "stream",
     "text": [
      "(177, 144, 3)\n",
      "(173, 136, 3)\n",
      "(171, 139, 3)\n",
      "(172, 137, 3)\n"
     ]
    },
    {
     "name": "stderr",
     "output_type": "stream",
     "text": [
      " 86%|████████▋ | 6426/7439 [05:14<00:50, 20.07it/s]"
     ]
    },
    {
     "name": "stdout",
     "output_type": "stream",
     "text": [
      "(156, 131, 3)\n",
      "(174, 143, 3)\n",
      "(166, 136, 3)\n",
      "(173, 140, 3)\n",
      "(178, 140, 3)\n"
     ]
    },
    {
     "name": "stderr",
     "output_type": "stream",
     "text": [
      " 86%|████████▋ | 6430/7439 [05:14<00:50, 19.88it/s]"
     ]
    },
    {
     "name": "stdout",
     "output_type": "stream",
     "text": [
      "(180, 140, 3)\n",
      "(177, 143, 3)\n",
      "(171, 135, 3)\n",
      "(174, 144, 3)\n"
     ]
    },
    {
     "name": "stderr",
     "output_type": "stream",
     "text": [
      " 87%|████████▋ | 6435/7439 [05:14<00:47, 20.98it/s]"
     ]
    },
    {
     "name": "stdout",
     "output_type": "stream",
     "text": [
      "(183, 142, 3)\n",
      "(171, 136, 3)\n",
      "(170, 137, 3)\n",
      "(169, 138, 3)\n",
      "(168, 134, 3)\n"
     ]
    },
    {
     "name": "stderr",
     "output_type": "stream",
     "text": [
      " 87%|████████▋ | 6438/7439 [05:14<00:49, 20.33it/s]"
     ]
    },
    {
     "name": "stdout",
     "output_type": "stream",
     "text": [
      "(170, 141, 3)\n",
      "(178, 141, 3)\n",
      "(181, 135, 3)\n",
      "(176, 138, 3)\n"
     ]
    },
    {
     "name": "stderr",
     "output_type": "stream",
     "text": [
      " 87%|████████▋ | 6443/7439 [05:15<00:51, 19.32it/s]"
     ]
    },
    {
     "name": "stdout",
     "output_type": "stream",
     "text": [
      "(168, 135, 3)\n",
      "(167, 134, 3)\n",
      "(164, 133, 3)\n",
      "(181, 141, 3)\n"
     ]
    },
    {
     "name": "stderr",
     "output_type": "stream",
     "text": [
      " 87%|████████▋ | 6448/7439 [05:15<00:50, 19.81it/s]"
     ]
    },
    {
     "name": "stdout",
     "output_type": "stream",
     "text": [
      "(167, 133, 3)\n",
      "(177, 141, 3)\n",
      "(176, 142, 3)\n",
      "(163, 130, 3)\n",
      "(164, 134, 3)\n"
     ]
    },
    {
     "name": "stderr",
     "output_type": "stream",
     "text": [
      " 87%|████████▋ | 6453/7439 [05:15<00:49, 19.82it/s]"
     ]
    },
    {
     "name": "stdout",
     "output_type": "stream",
     "text": [
      "(174, 138, 3)\n",
      "(170, 140, 3)\n",
      "(168, 135, 3)\n",
      "(158, 134, 3)\n"
     ]
    },
    {
     "name": "stderr",
     "output_type": "stream",
     "text": [
      " 87%|████████▋ | 6457/7439 [05:15<00:49, 19.71it/s]"
     ]
    },
    {
     "name": "stdout",
     "output_type": "stream",
     "text": [
      "(176, 140, 3)\n",
      "(168, 137, 3)\n",
      "No face detected in 1080_DFA_ANG_XX.flv. Skipping.\n",
      "(202, 158, 3)\n"
     ]
    },
    {
     "name": "stderr",
     "output_type": "stream",
     "text": [
      " 87%|████████▋ | 6462/7439 [05:16<00:49, 19.74it/s]"
     ]
    },
    {
     "name": "stdout",
     "output_type": "stream",
     "text": [
      "(205, 159, 3)\n",
      "(212, 162, 3)\n",
      "(204, 157, 3)\n",
      "(208, 156, 3)\n",
      "(200, 155, 3)\n"
     ]
    },
    {
     "name": "stderr",
     "output_type": "stream",
     "text": [
      " 87%|████████▋ | 6465/7439 [05:16<00:48, 20.12it/s]"
     ]
    },
    {
     "name": "stdout",
     "output_type": "stream",
     "text": [
      "(203, 160, 3)\n",
      "(204, 160, 3)\n",
      "(194, 153, 3)\n",
      "(197, 155, 3)\n",
      "(198, 154, 3)\n"
     ]
    },
    {
     "name": "stderr",
     "output_type": "stream",
     "text": [
      " 87%|████████▋ | 6471/7439 [05:16<00:47, 20.44it/s]"
     ]
    },
    {
     "name": "stdout",
     "output_type": "stream",
     "text": [
      "(198, 153, 3)\n",
      "(200, 159, 3)\n",
      "No face detected in 1080_IEO_FEA_MD.flv. Skipping.\n",
      "(214, 164, 3)\n",
      "(202, 159, 3)\n"
     ]
    },
    {
     "name": "stderr",
     "output_type": "stream",
     "text": [
      " 87%|████████▋ | 6477/7439 [05:16<00:46, 20.56it/s]"
     ]
    },
    {
     "name": "stdout",
     "output_type": "stream",
     "text": [
      "(212, 158, 3)\n",
      "(192, 156, 3)\n",
      "(218, 164, 3)\n",
      "(199, 157, 3)\n",
      "(205, 160, 3)\n"
     ]
    },
    {
     "name": "stderr",
     "output_type": "stream",
     "text": [
      " 87%|████████▋ | 6480/7439 [05:16<00:47, 20.19it/s]"
     ]
    },
    {
     "name": "stdout",
     "output_type": "stream",
     "text": [
      "No face detected in 1080_IOM_ANG_XX.flv. Skipping.\n",
      "(196, 155, 3)\n",
      "(204, 159, 3)\n",
      "(207, 161, 3)\n"
     ]
    },
    {
     "name": "stderr",
     "output_type": "stream",
     "text": [
      " 87%|████████▋ | 6485/7439 [05:17<00:49, 19.36it/s]"
     ]
    },
    {
     "name": "stdout",
     "output_type": "stream",
     "text": [
      "(214, 163, 3)\n",
      "(216, 161, 3)\n",
      "(206, 156, 3)\n",
      "(196, 153, 3)\n"
     ]
    },
    {
     "name": "stderr",
     "output_type": "stream",
     "text": [
      " 87%|████████▋ | 6489/7439 [05:17<00:50, 18.82it/s]"
     ]
    },
    {
     "name": "stdout",
     "output_type": "stream",
     "text": [
      "(201, 157, 3)\n",
      "(206, 161, 3)\n",
      "(205, 160, 3)\n",
      "(216, 163, 3)\n"
     ]
    },
    {
     "name": "stderr",
     "output_type": "stream",
     "text": [
      " 87%|████████▋ | 6492/7439 [05:17<00:49, 19.02it/s]"
     ]
    },
    {
     "name": "stdout",
     "output_type": "stream",
     "text": [
      "(210, 159, 3)\n",
      "(197, 153, 3)\n",
      "(196, 152, 3)\n",
      "(208, 159, 3)\n"
     ]
    },
    {
     "name": "stderr",
     "output_type": "stream",
     "text": [
      " 87%|████████▋ | 6496/7439 [05:17<00:50, 18.83it/s]"
     ]
    },
    {
     "name": "stdout",
     "output_type": "stream",
     "text": [
      "(200, 159, 3)\n",
      "(203, 157, 3)\n",
      "(203, 157, 3)\n",
      "(198, 152, 3)\n"
     ]
    },
    {
     "name": "stderr",
     "output_type": "stream",
     "text": [
      " 87%|████████▋ | 6500/7439 [05:18<00:50, 18.66it/s]"
     ]
    },
    {
     "name": "stdout",
     "output_type": "stream",
     "text": [
      "(222, 165, 3)\n",
      "(204, 159, 3)\n",
      "(196, 156, 3)\n",
      "(203, 160, 3)\n"
     ]
    },
    {
     "name": "stderr",
     "output_type": "stream",
     "text": [
      " 87%|████████▋ | 6504/7439 [05:18<00:49, 18.71it/s]"
     ]
    },
    {
     "name": "stdout",
     "output_type": "stream",
     "text": [
      "(204, 156, 3)\n",
      "(200, 152, 3)\n",
      "(196, 152, 3)\n",
      "(204, 156, 3)\n"
     ]
    },
    {
     "name": "stderr",
     "output_type": "stream",
     "text": [
      " 87%|████████▋ | 6509/7439 [05:18<00:47, 19.48it/s]"
     ]
    },
    {
     "name": "stdout",
     "output_type": "stream",
     "text": [
      "(195, 153, 3)\n",
      "(209, 156, 3)\n",
      "(205, 161, 3)\n",
      "(202, 154, 3)\n"
     ]
    },
    {
     "name": "stderr",
     "output_type": "stream",
     "text": [
      " 88%|████████▊ | 6512/7439 [05:18<00:46, 19.72it/s]"
     ]
    },
    {
     "name": "stdout",
     "output_type": "stream",
     "text": [
      "(207, 157, 3)\n",
      "(192, 151, 3)\n",
      "(200, 153, 3)\n",
      "(203, 156, 3)\n"
     ]
    },
    {
     "name": "stderr",
     "output_type": "stream",
     "text": [
      " 88%|████████▊ | 6516/7439 [05:18<00:47, 19.44it/s]"
     ]
    },
    {
     "name": "stdout",
     "output_type": "stream",
     "text": [
      "(212, 159, 3)\n",
      "(192, 149, 3)\n",
      "(198, 153, 3)\n",
      "(206, 158, 3)\n"
     ]
    },
    {
     "name": "stderr",
     "output_type": "stream",
     "text": [
      " 88%|████████▊ | 6521/7439 [05:19<00:46, 19.72it/s]"
     ]
    },
    {
     "name": "stdout",
     "output_type": "stream",
     "text": [
      "(202, 155, 3)\n",
      "(203, 156, 3)\n",
      "(212, 158, 3)\n",
      "(206, 154, 3)\n"
     ]
    },
    {
     "name": "stderr",
     "output_type": "stream",
     "text": [
      " 88%|████████▊ | 6525/7439 [05:19<00:48, 18.87it/s]"
     ]
    },
    {
     "name": "stdout",
     "output_type": "stream",
     "text": [
      "(198, 157, 3)\n",
      "(204, 156, 3)\n",
      "(212, 161, 3)\n",
      "(197, 157, 3)\n"
     ]
    },
    {
     "name": "stderr",
     "output_type": "stream",
     "text": [
      " 88%|████████▊ | 6527/7439 [05:19<00:48, 18.99it/s]"
     ]
    },
    {
     "name": "stdout",
     "output_type": "stream",
     "text": [
      "(203, 159, 3)\n",
      "(202, 149, 3)\n",
      "(211, 161, 3)\n",
      "No face detected in 1080_TSI_HAP_XX.flv. Skipping.\n",
      "(200, 161, 3)\n"
     ]
    },
    {
     "name": "stderr",
     "output_type": "stream",
     "text": [
      " 88%|████████▊ | 6534/7439 [05:19<00:48, 18.53it/s]"
     ]
    },
    {
     "name": "stdout",
     "output_type": "stream",
     "text": [
      "(206, 158, 3)\n",
      "(206, 156, 3)\n",
      "(206, 156, 3)\n",
      "(211, 159, 3)\n"
     ]
    },
    {
     "name": "stderr",
     "output_type": "stream",
     "text": [
      " 88%|████████▊ | 6539/7439 [05:20<00:45, 19.65it/s]"
     ]
    },
    {
     "name": "stdout",
     "output_type": "stream",
     "text": [
      "(204, 160, 3)\n",
      "(206, 157, 3)\n",
      "(209, 160, 3)\n",
      "(178, 148, 3)\n",
      "(173, 138, 3)\n"
     ]
    },
    {
     "name": "stderr",
     "output_type": "stream",
     "text": [
      " 88%|████████▊ | 6542/7439 [05:20<00:44, 20.22it/s]"
     ]
    },
    {
     "name": "stdout",
     "output_type": "stream",
     "text": [
      "(161, 131, 3)\n",
      "(177, 143, 3)\n",
      "(160, 132, 3)\n",
      "(178, 142, 3)\n",
      "(181, 142, 3)\n"
     ]
    },
    {
     "name": "stderr",
     "output_type": "stream",
     "text": [
      " 88%|████████▊ | 6548/7439 [05:20<00:43, 20.48it/s]"
     ]
    },
    {
     "name": "stdout",
     "output_type": "stream",
     "text": [
      "(174, 141, 3)\n",
      "(178, 144, 3)\n",
      "(166, 138, 3)\n",
      "(156, 130, 3)\n",
      "(167, 139, 3)\n"
     ]
    },
    {
     "name": "stderr",
     "output_type": "stream",
     "text": [
      " 88%|████████▊ | 6554/7439 [05:20<00:42, 20.87it/s]"
     ]
    },
    {
     "name": "stdout",
     "output_type": "stream",
     "text": [
      "(174, 141, 3)\n",
      "(166, 137, 3)\n",
      "(176, 145, 3)\n",
      "(202, 148, 3)\n",
      "(174, 140, 3)\n"
     ]
    },
    {
     "name": "stderr",
     "output_type": "stream",
     "text": [
      " 88%|████████▊ | 6557/7439 [05:20<00:41, 21.10it/s]"
     ]
    },
    {
     "name": "stdout",
     "output_type": "stream",
     "text": [
      "(177, 142, 3)\n",
      "(169, 132, 3)\n",
      "(170, 144, 3)\n",
      "(164, 134, 3)\n",
      "(179, 144, 3)\n"
     ]
    },
    {
     "name": "stderr",
     "output_type": "stream",
     "text": [
      " 88%|████████▊ | 6563/7439 [05:21<00:41, 21.15it/s]"
     ]
    },
    {
     "name": "stdout",
     "output_type": "stream",
     "text": [
      "(168, 136, 3)\n",
      "(166, 138, 3)\n",
      "(166, 137, 3)\n",
      "(176, 142, 3)\n",
      "(171, 138, 3)\n"
     ]
    },
    {
     "name": "stderr",
     "output_type": "stream",
     "text": [
      " 88%|████████▊ | 6569/7439 [05:21<00:41, 20.97it/s]"
     ]
    },
    {
     "name": "stdout",
     "output_type": "stream",
     "text": [
      "(170, 138, 3)\n",
      "(174, 139, 3)\n",
      "(165, 138, 3)\n",
      "(165, 133, 3)\n",
      "(165, 135, 3)\n"
     ]
    },
    {
     "name": "stderr",
     "output_type": "stream",
     "text": [
      " 88%|████████▊ | 6572/7439 [05:21<00:41, 20.89it/s]"
     ]
    },
    {
     "name": "stdout",
     "output_type": "stream",
     "text": [
      "(160, 133, 3)\n",
      "(162, 136, 3)\n",
      "(177, 143, 3)\n",
      "(167, 134, 3)\n"
     ]
    },
    {
     "name": "stderr",
     "output_type": "stream",
     "text": [
      " 88%|████████▊ | 6575/7439 [05:21<00:42, 20.25it/s]"
     ]
    },
    {
     "name": "stdout",
     "output_type": "stream",
     "text": [
      "(167, 135, 3)\n",
      "(186, 149, 3)\n",
      "(172, 139, 3)\n",
      "(164, 134, 3)\n"
     ]
    },
    {
     "name": "stderr",
     "output_type": "stream",
     "text": [
      " 88%|████████▊ | 6581/7439 [05:22<00:42, 20.16it/s]"
     ]
    },
    {
     "name": "stdout",
     "output_type": "stream",
     "text": [
      "(169, 138, 3)\n",
      "(159, 134, 3)\n",
      "(164, 136, 3)\n",
      "(153, 131, 3)\n",
      "(168, 138, 3)\n"
     ]
    },
    {
     "name": "stderr",
     "output_type": "stream",
     "text": [
      " 89%|████████▊ | 6587/7439 [05:22<00:42, 20.25it/s]"
     ]
    },
    {
     "name": "stdout",
     "output_type": "stream",
     "text": [
      "(164, 133, 3)\n",
      "(166, 137, 3)\n",
      "(161, 133, 3)\n",
      "(171, 138, 3)\n",
      "(175, 142, 3)\n"
     ]
    },
    {
     "name": "stderr",
     "output_type": "stream",
     "text": [
      " 89%|████████▊ | 6590/7439 [05:22<00:41, 20.41it/s]"
     ]
    },
    {
     "name": "stdout",
     "output_type": "stream",
     "text": [
      "(165, 136, 3)\n",
      "(163, 136, 3)\n",
      "(168, 137, 3)\n",
      "(165, 134, 3)\n"
     ]
    },
    {
     "name": "stderr",
     "output_type": "stream",
     "text": [
      " 89%|████████▊ | 6596/7439 [05:22<00:44, 19.14it/s]"
     ]
    },
    {
     "name": "stdout",
     "output_type": "stream",
     "text": [
      "(176, 141, 3)\n",
      "(183, 146, 3)\n",
      "(176, 142, 3)\n",
      "(169, 137, 3)\n",
      "(178, 145, 3)\n"
     ]
    },
    {
     "name": "stderr",
     "output_type": "stream",
     "text": [
      " 89%|████████▊ | 6601/7439 [05:23<00:42, 19.80it/s]"
     ]
    },
    {
     "name": "stdout",
     "output_type": "stream",
     "text": [
      "(165, 140, 3)\n",
      "(168, 139, 3)\n",
      "(168, 141, 3)\n",
      "(160, 133, 3)\n",
      "(160, 134, 3)\n"
     ]
    },
    {
     "name": "stderr",
     "output_type": "stream",
     "text": [
      " 89%|████████▉ | 6605/7439 [05:23<00:42, 19.78it/s]"
     ]
    },
    {
     "name": "stdout",
     "output_type": "stream",
     "text": [
      "(171, 140, 3)\n",
      "(169, 138, 3)\n",
      "(169, 139, 3)\n",
      "(174, 140, 3)\n",
      "(181, 144, 3)\n"
     ]
    },
    {
     "name": "stderr",
     "output_type": "stream",
     "text": [
      " 89%|████████▉ | 6611/7439 [05:23<00:41, 20.07it/s]"
     ]
    },
    {
     "name": "stdout",
     "output_type": "stream",
     "text": [
      "(170, 140, 3)\n",
      "(167, 136, 3)\n",
      "(172, 142, 3)\n",
      "(165, 137, 3)\n",
      "(174, 140, 3)\n"
     ]
    },
    {
     "name": "stderr",
     "output_type": "stream",
     "text": [
      " 89%|████████▉ | 6614/7439 [05:23<00:40, 20.16it/s]"
     ]
    },
    {
     "name": "stdout",
     "output_type": "stream",
     "text": [
      "(169, 140, 3)\n",
      "(170, 144, 3)\n",
      "(158, 130, 3)\n",
      "(165, 136, 3)\n"
     ]
    },
    {
     "name": "stderr",
     "output_type": "stream",
     "text": [
      " 89%|████████▉ | 6619/7439 [05:23<00:41, 19.80it/s]"
     ]
    },
    {
     "name": "stdout",
     "output_type": "stream",
     "text": [
      "(161, 131, 3)\n",
      "(174, 140, 3)\n",
      "(167, 138, 3)\n",
      "(165, 139, 3)\n",
      "(165, 133, 3)\n"
     ]
    },
    {
     "name": "stderr",
     "output_type": "stream",
     "text": [
      " 89%|████████▉ | 6625/7439 [05:24<00:38, 20.93it/s]"
     ]
    },
    {
     "name": "stdout",
     "output_type": "stream",
     "text": [
      "(151, 126, 3)\n",
      "(168, 129, 3)\n",
      "(160, 134, 3)\n",
      "(181, 140, 3)\n",
      "(158, 127, 3)\n"
     ]
    },
    {
     "name": "stderr",
     "output_type": "stream",
     "text": [
      " 89%|████████▉ | 6628/7439 [05:24<00:39, 20.73it/s]"
     ]
    },
    {
     "name": "stdout",
     "output_type": "stream",
     "text": [
      "(182, 141, 3)\n",
      "(192, 143, 3)\n",
      "(181, 139, 3)\n",
      "(165, 128, 3)\n",
      "(152, 126, 3)\n"
     ]
    },
    {
     "name": "stderr",
     "output_type": "stream",
     "text": [
      " 89%|████████▉ | 6634/7439 [05:24<00:38, 21.10it/s]"
     ]
    },
    {
     "name": "stdout",
     "output_type": "stream",
     "text": [
      "(159, 131, 3)\n",
      "(166, 131, 3)\n",
      "(171, 133, 3)\n",
      "(167, 134, 3)\n",
      "(165, 135, 3)\n"
     ]
    },
    {
     "name": "stderr",
     "output_type": "stream",
     "text": [
      " 89%|████████▉ | 6640/7439 [05:24<00:36, 21.75it/s]"
     ]
    },
    {
     "name": "stdout",
     "output_type": "stream",
     "text": [
      "(175, 133, 3)\n",
      "(172, 134, 3)\n",
      "(184, 138, 3)\n",
      "(170, 133, 3)\n",
      "(172, 132, 3)\n"
     ]
    },
    {
     "name": "stderr",
     "output_type": "stream",
     "text": [
      " 89%|████████▉ | 6643/7439 [05:25<00:37, 21.31it/s]"
     ]
    },
    {
     "name": "stdout",
     "output_type": "stream",
     "text": [
      "(179, 138, 3)\n",
      "(164, 131, 3)\n",
      "(151, 123, 3)\n",
      "(157, 127, 3)\n",
      "(157, 131, 3)\n"
     ]
    },
    {
     "name": "stderr",
     "output_type": "stream",
     "text": [
      " 89%|████████▉ | 6649/7439 [05:25<00:37, 20.83it/s]"
     ]
    },
    {
     "name": "stdout",
     "output_type": "stream",
     "text": [
      "(175, 137, 3)\n",
      "(155, 126, 3)\n",
      "(171, 132, 3)\n",
      "(160, 129, 3)\n"
     ]
    },
    {
     "name": "stderr",
     "output_type": "stream",
     "text": [
      " 89%|████████▉ | 6652/7439 [05:25<00:37, 20.98it/s]"
     ]
    },
    {
     "name": "stdout",
     "output_type": "stream",
     "text": [
      "(162, 130, 3)\n",
      "(161, 133, 3)\n",
      "(158, 129, 3)\n",
      "(155, 130, 3)\n",
      "(168, 133, 3)\n"
     ]
    },
    {
     "name": "stderr",
     "output_type": "stream",
     "text": [
      " 90%|████████▉ | 6658/7439 [05:25<00:37, 21.01it/s]"
     ]
    },
    {
     "name": "stdout",
     "output_type": "stream",
     "text": [
      "(154, 129, 3)\n",
      "(156, 127, 3)\n",
      "(169, 136, 3)\n",
      "(173, 134, 3)\n",
      "(160, 128, 3)\n"
     ]
    },
    {
     "name": "stderr",
     "output_type": "stream",
     "text": [
      " 90%|████████▉ | 6661/7439 [05:25<00:38, 20.35it/s]"
     ]
    },
    {
     "name": "stdout",
     "output_type": "stream",
     "text": [
      "(168, 132, 3)\n",
      "(160, 129, 3)\n",
      "(155, 126, 3)\n",
      "(165, 132, 3)\n"
     ]
    },
    {
     "name": "stderr",
     "output_type": "stream",
     "text": [
      " 90%|████████▉ | 6667/7439 [05:26<00:38, 20.14it/s]"
     ]
    },
    {
     "name": "stdout",
     "output_type": "stream",
     "text": [
      "(159, 128, 3)\n",
      "(159, 129, 3)\n",
      "(164, 134, 3)\n",
      "(164, 131, 3)\n",
      "(151, 120, 3)\n"
     ]
    },
    {
     "name": "stderr",
     "output_type": "stream",
     "text": [
      " 90%|████████▉ | 6670/7439 [05:26<00:38, 19.98it/s]"
     ]
    },
    {
     "name": "stdout",
     "output_type": "stream",
     "text": [
      "(160, 132, 3)\n",
      "(166, 134, 3)\n",
      "(156, 129, 3)\n",
      "(179, 137, 3)\n"
     ]
    },
    {
     "name": "stderr",
     "output_type": "stream",
     "text": [
      " 90%|████████▉ | 6676/7439 [05:26<00:37, 20.20it/s]"
     ]
    },
    {
     "name": "stdout",
     "output_type": "stream",
     "text": [
      "(161, 129, 3)\n",
      "(162, 127, 3)\n",
      "(171, 138, 3)\n",
      "(171, 133, 3)\n",
      "(164, 129, 3)\n"
     ]
    },
    {
     "name": "stderr",
     "output_type": "stream",
     "text": [
      " 90%|████████▉ | 6682/7439 [05:27<00:37, 20.31it/s]"
     ]
    },
    {
     "name": "stdout",
     "output_type": "stream",
     "text": [
      "(164, 131, 3)\n",
      "(149, 123, 3)\n",
      "(156, 127, 3)\n",
      "(156, 128, 3)\n",
      "(172, 133, 3)\n"
     ]
    },
    {
     "name": "stderr",
     "output_type": "stream",
     "text": [
      " 90%|████████▉ | 6685/7439 [05:27<00:39, 19.17it/s]"
     ]
    },
    {
     "name": "stdout",
     "output_type": "stream",
     "text": [
      "(154, 126, 3)\n",
      "(175, 137, 3)\n",
      "(160, 126, 3)\n",
      "(164, 128, 3)\n"
     ]
    },
    {
     "name": "stderr",
     "output_type": "stream",
     "text": [
      " 90%|████████▉ | 6689/7439 [05:27<00:40, 18.61it/s]"
     ]
    },
    {
     "name": "stdout",
     "output_type": "stream",
     "text": [
      "(162, 135, 3)\n",
      "(168, 134, 3)\n",
      "(170, 135, 3)\n",
      "(161, 132, 3)\n"
     ]
    },
    {
     "name": "stderr",
     "output_type": "stream",
     "text": [
      " 90%|████████▉ | 6693/7439 [05:27<00:40, 18.41it/s]"
     ]
    },
    {
     "name": "stdout",
     "output_type": "stream",
     "text": [
      "(164, 132, 3)\n",
      "(160, 131, 3)\n",
      "(159, 130, 3)\n"
     ]
    },
    {
     "name": "stderr",
     "output_type": "stream",
     "text": [
      " 90%|████████▉ | 6695/7439 [05:27<00:45, 16.52it/s]"
     ]
    },
    {
     "name": "stdout",
     "output_type": "stream",
     "text": [
      "(161, 131, 3)\n",
      "(154, 127, 3)\n",
      "(169, 135, 3)\n"
     ]
    },
    {
     "name": "stderr",
     "output_type": "stream",
     "text": [
      " 90%|█████████ | 6700/7439 [05:28<00:44, 16.45it/s]"
     ]
    },
    {
     "name": "stdout",
     "output_type": "stream",
     "text": [
      "(163, 131, 3)\n",
      "(163, 128, 3)\n",
      "(151, 129, 3)\n",
      "(172, 132, 3)\n",
      "(159, 129, 3)\n"
     ]
    },
    {
     "name": "stderr",
     "output_type": "stream",
     "text": [
      " 90%|█████████ | 6704/7439 [05:28<00:43, 16.90it/s]"
     ]
    },
    {
     "name": "stdout",
     "output_type": "stream",
     "text": [
      "(186, 148, 3)\n",
      "(182, 146, 3)\n",
      "(184, 150, 3)\n",
      "(188, 154, 3)\n"
     ]
    },
    {
     "name": "stderr",
     "output_type": "stream",
     "text": [
      " 90%|█████████ | 6709/7439 [05:28<00:40, 17.88it/s]"
     ]
    },
    {
     "name": "stdout",
     "output_type": "stream",
     "text": [
      "(189, 151, 3)\n",
      "(191, 152, 3)\n",
      "(179, 143, 3)\n",
      "(180, 143, 3)\n"
     ]
    },
    {
     "name": "stderr",
     "output_type": "stream",
     "text": [
      " 90%|█████████ | 6713/7439 [05:28<00:39, 18.35it/s]"
     ]
    },
    {
     "name": "stdout",
     "output_type": "stream",
     "text": [
      "(185, 148, 3)\n",
      "(192, 154, 3)\n",
      "(170, 138, 3)\n",
      "(192, 148, 3)\n"
     ]
    },
    {
     "name": "stderr",
     "output_type": "stream",
     "text": [
      " 90%|█████████ | 6716/7439 [05:28<00:38, 18.83it/s]"
     ]
    },
    {
     "name": "stdout",
     "output_type": "stream",
     "text": [
      "(184, 147, 3)\n",
      "(179, 146, 3)\n",
      "(183, 148, 3)\n",
      "(185, 148, 3)\n",
      "(181, 147, 3)\n"
     ]
    },
    {
     "name": "stderr",
     "output_type": "stream",
     "text": [
      " 90%|█████████ | 6721/7439 [05:29<00:37, 19.15it/s]"
     ]
    },
    {
     "name": "stdout",
     "output_type": "stream",
     "text": [
      "(179, 149, 3)\n",
      "(172, 140, 3)\n",
      "(179, 149, 3)\n",
      "(175, 144, 3)\n"
     ]
    },
    {
     "name": "stderr",
     "output_type": "stream",
     "text": [
      " 90%|█████████ | 6725/7439 [05:29<00:37, 18.87it/s]"
     ]
    },
    {
     "name": "stdout",
     "output_type": "stream",
     "text": [
      "(184, 144, 3)\n",
      "(189, 150, 3)\n",
      "(180, 145, 3)\n",
      "(182, 146, 3)\n"
     ]
    },
    {
     "name": "stderr",
     "output_type": "stream",
     "text": [
      " 90%|█████████ | 6729/7439 [05:29<00:36, 19.20it/s]"
     ]
    },
    {
     "name": "stdout",
     "output_type": "stream",
     "text": [
      "(179, 147, 3)\n",
      "(182, 146, 3)\n",
      "(177, 144, 3)\n",
      "(185, 150, 3)\n"
     ]
    },
    {
     "name": "stderr",
     "output_type": "stream",
     "text": [
      " 91%|█████████ | 6734/7439 [05:29<00:36, 19.30it/s]"
     ]
    },
    {
     "name": "stdout",
     "output_type": "stream",
     "text": [
      "(181, 146, 3)\n",
      "(183, 147, 3)\n",
      "(183, 150, 3)\n",
      "(186, 148, 3)\n"
     ]
    },
    {
     "name": "stderr",
     "output_type": "stream",
     "text": [
      " 91%|█████████ | 6738/7439 [05:30<00:37, 18.55it/s]"
     ]
    },
    {
     "name": "stdout",
     "output_type": "stream",
     "text": [
      "(189, 148, 3)\n",
      "(194, 155, 3)\n",
      "(186, 149, 3)\n",
      "(187, 150, 3)\n"
     ]
    },
    {
     "name": "stderr",
     "output_type": "stream",
     "text": [
      " 91%|█████████ | 6741/7439 [05:30<00:36, 19.17it/s]"
     ]
    },
    {
     "name": "stdout",
     "output_type": "stream",
     "text": [
      "(186, 153, 3)\n",
      "(178, 147, 3)\n",
      "(186, 151, 3)\n",
      "(171, 140, 3)\n"
     ]
    },
    {
     "name": "stderr",
     "output_type": "stream",
     "text": [
      " 91%|█████████ | 6745/7439 [05:30<00:37, 18.39it/s]"
     ]
    },
    {
     "name": "stdout",
     "output_type": "stream",
     "text": [
      "(176, 142, 3)\n",
      "(181, 143, 3)\n",
      "(174, 142, 3)\n",
      "(178, 147, 3)\n"
     ]
    },
    {
     "name": "stderr",
     "output_type": "stream",
     "text": [
      " 91%|█████████ | 6749/7439 [05:30<00:37, 18.18it/s]"
     ]
    },
    {
     "name": "stdout",
     "output_type": "stream",
     "text": [
      "(190, 149, 3)\n",
      "(175, 144, 3)\n",
      "(173, 142, 3)\n",
      "(180, 144, 3)\n"
     ]
    },
    {
     "name": "stderr",
     "output_type": "stream",
     "text": [
      " 91%|█████████ | 6754/7439 [05:30<00:36, 18.66it/s]"
     ]
    },
    {
     "name": "stdout",
     "output_type": "stream",
     "text": [
      "(183, 147, 3)\n",
      "(179, 144, 3)\n",
      "(177, 144, 3)\n",
      "(166, 131, 3)\n"
     ]
    },
    {
     "name": "stderr",
     "output_type": "stream",
     "text": [
      " 91%|█████████ | 6758/7439 [05:31<00:36, 18.43it/s]"
     ]
    },
    {
     "name": "stdout",
     "output_type": "stream",
     "text": [
      "(187, 145, 3)\n",
      "(181, 150, 3)\n",
      "(186, 147, 3)\n",
      "(173, 142, 3)\n"
     ]
    },
    {
     "name": "stderr",
     "output_type": "stream",
     "text": [
      " 91%|█████████ | 6763/7439 [05:31<00:35, 19.14it/s]"
     ]
    },
    {
     "name": "stdout",
     "output_type": "stream",
     "text": [
      "(183, 148, 3)\n",
      "(169, 139, 3)\n",
      "(177, 144, 3)\n",
      "(179, 146, 3)\n",
      "(185, 150, 3)\n"
     ]
    },
    {
     "name": "stderr",
     "output_type": "stream",
     "text": [
      " 91%|█████████ | 6766/7439 [05:31<00:34, 19.32it/s]"
     ]
    },
    {
     "name": "stdout",
     "output_type": "stream",
     "text": [
      "(178, 145, 3)\n",
      "(180, 146, 3)\n",
      "(182, 148, 3)\n",
      "(187, 147, 3)\n"
     ]
    },
    {
     "name": "stderr",
     "output_type": "stream",
     "text": [
      " 91%|█████████ | 6770/7439 [05:31<00:36, 18.56it/s]"
     ]
    },
    {
     "name": "stdout",
     "output_type": "stream",
     "text": [
      "(187, 150, 3)\n",
      "(185, 149, 3)\n",
      "(191, 153, 3)\n",
      "(186, 151, 3)\n"
     ]
    },
    {
     "name": "stderr",
     "output_type": "stream",
     "text": [
      " 91%|█████████ | 6774/7439 [05:32<00:36, 18.25it/s]"
     ]
    },
    {
     "name": "stdout",
     "output_type": "stream",
     "text": [
      "(190, 152, 3)\n",
      "(191, 151, 3)\n",
      "(181, 148, 3)\n",
      "(187, 151, 3)\n"
     ]
    },
    {
     "name": "stderr",
     "output_type": "stream",
     "text": [
      " 91%|█████████ | 6778/7439 [05:32<00:35, 18.82it/s]"
     ]
    },
    {
     "name": "stdout",
     "output_type": "stream",
     "text": [
      "(184, 149, 3)\n",
      "(179, 150, 3)\n",
      "(189, 150, 3)\n",
      "(183, 146, 3)\n"
     ]
    },
    {
     "name": "stderr",
     "output_type": "stream",
     "text": [
      " 91%|█████████ | 6783/7439 [05:32<00:34, 18.89it/s]"
     ]
    },
    {
     "name": "stdout",
     "output_type": "stream",
     "text": [
      "(186, 147, 3)\n",
      "(188, 151, 3)\n",
      "(193, 151, 3)\n",
      "(181, 148, 3)\n",
      "(190, 144, 3)\n"
     ]
    },
    {
     "name": "stderr",
     "output_type": "stream",
     "text": [
      " 91%|█████████▏| 6789/7439 [05:32<00:32, 20.28it/s]"
     ]
    },
    {
     "name": "stdout",
     "output_type": "stream",
     "text": [
      "(178, 136, 3)\n",
      "(183, 140, 3)\n",
      "(186, 141, 3)\n",
      "(188, 143, 3)\n",
      "(191, 143, 3)\n"
     ]
    },
    {
     "name": "stderr",
     "output_type": "stream",
     "text": [
      " 91%|█████████▏| 6792/7439 [05:32<00:32, 20.02it/s]"
     ]
    },
    {
     "name": "stdout",
     "output_type": "stream",
     "text": [
      "(208, 153, 3)\n",
      "(187, 144, 3)\n",
      "(183, 143, 3)\n",
      "(172, 137, 3)\n",
      "(181, 139, 3)\n"
     ]
    },
    {
     "name": "stderr",
     "output_type": "stream",
     "text": [
      " 91%|█████████▏| 6798/7439 [05:33<00:32, 19.89it/s]"
     ]
    },
    {
     "name": "stdout",
     "output_type": "stream",
     "text": [
      "(175, 138, 3)\n",
      "(184, 141, 3)\n",
      "(197, 146, 3)\n",
      "(187, 145, 3)\n"
     ]
    },
    {
     "name": "stderr",
     "output_type": "stream",
     "text": [
      " 91%|█████████▏| 6801/7439 [05:33<00:31, 20.39it/s]"
     ]
    },
    {
     "name": "stdout",
     "output_type": "stream",
     "text": [
      "(199, 146, 3)\n",
      "(189, 144, 3)\n",
      "(184, 143, 3)\n",
      "(187, 143, 3)\n",
      "(185, 141, 3)\n"
     ]
    },
    {
     "name": "stderr",
     "output_type": "stream",
     "text": [
      " 92%|█████████▏| 6807/7439 [05:33<00:30, 20.44it/s]"
     ]
    },
    {
     "name": "stdout",
     "output_type": "stream",
     "text": [
      "(189, 146, 3)\n",
      "(190, 144, 3)\n",
      "(187, 142, 3)\n",
      "(180, 138, 3)\n"
     ]
    },
    {
     "name": "stderr",
     "output_type": "stream",
     "text": [
      " 92%|█████████▏| 6810/7439 [05:33<00:30, 20.62it/s]"
     ]
    },
    {
     "name": "stdout",
     "output_type": "stream",
     "text": [
      "(190, 144, 3)\n",
      "(185, 139, 3)\n",
      "(180, 139, 3)\n",
      "(191, 146, 3)\n",
      "(196, 145, 3)\n"
     ]
    },
    {
     "name": "stderr",
     "output_type": "stream",
     "text": [
      " 92%|█████████▏| 6816/7439 [05:34<00:31, 20.07it/s]"
     ]
    },
    {
     "name": "stdout",
     "output_type": "stream",
     "text": [
      "(178, 139, 3)\n",
      "(182, 142, 3)\n",
      "(190, 143, 3)\n",
      "(184, 141, 3)\n"
     ]
    },
    {
     "name": "stderr",
     "output_type": "stream",
     "text": [
      " 92%|█████████▏| 6819/7439 [05:34<00:31, 19.75it/s]"
     ]
    },
    {
     "name": "stdout",
     "output_type": "stream",
     "text": [
      "(189, 143, 3)\n",
      "(182, 139, 3)\n",
      "(183, 137, 3)\n",
      "(177, 136, 3)\n"
     ]
    },
    {
     "name": "stderr",
     "output_type": "stream",
     "text": [
      " 92%|█████████▏| 6824/7439 [05:34<00:31, 19.66it/s]"
     ]
    },
    {
     "name": "stdout",
     "output_type": "stream",
     "text": [
      "(186, 143, 3)\n",
      "(180, 140, 3)\n",
      "(186, 144, 3)\n",
      "(188, 141, 3)\n"
     ]
    },
    {
     "name": "stderr",
     "output_type": "stream",
     "text": [
      " 92%|█████████▏| 6826/7439 [05:34<00:31, 19.23it/s]"
     ]
    },
    {
     "name": "stdout",
     "output_type": "stream",
     "text": [
      "(176, 137, 3)\n",
      "(189, 142, 3)\n",
      "(180, 139, 3)\n",
      "(177, 137, 3)\n"
     ]
    },
    {
     "name": "stderr",
     "output_type": "stream",
     "text": [
      " 92%|█████████▏| 6832/7439 [05:34<00:31, 19.47it/s]"
     ]
    },
    {
     "name": "stdout",
     "output_type": "stream",
     "text": [
      "(184, 141, 3)\n",
      "(183, 138, 3)\n",
      "(177, 137, 3)\n",
      "(181, 139, 3)\n"
     ]
    },
    {
     "name": "stderr",
     "output_type": "stream",
     "text": [
      " 92%|█████████▏| 6837/7439 [05:35<00:30, 19.87it/s]"
     ]
    },
    {
     "name": "stdout",
     "output_type": "stream",
     "text": [
      "(185, 142, 3)\n",
      "(187, 143, 3)\n",
      "(182, 138, 3)\n",
      "(187, 141, 3)\n",
      "(180, 136, 3)\n"
     ]
    },
    {
     "name": "stderr",
     "output_type": "stream",
     "text": [
      " 92%|█████████▏| 6841/7439 [05:35<00:30, 19.59it/s]"
     ]
    },
    {
     "name": "stdout",
     "output_type": "stream",
     "text": [
      "(184, 139, 3)\n",
      "(187, 143, 3)\n",
      "(186, 140, 3)\n",
      "(185, 139, 3)\n"
     ]
    },
    {
     "name": "stderr",
     "output_type": "stream",
     "text": [
      " 92%|█████████▏| 6845/7439 [05:35<00:30, 19.42it/s]"
     ]
    },
    {
     "name": "stdout",
     "output_type": "stream",
     "text": [
      "(186, 140, 3)\n",
      "(170, 132, 3)\n",
      "(186, 142, 3)\n",
      "(193, 144, 3)\n"
     ]
    },
    {
     "name": "stderr",
     "output_type": "stream",
     "text": [
      " 92%|█████████▏| 6848/7439 [05:35<00:29, 19.80it/s]"
     ]
    },
    {
     "name": "stdout",
     "output_type": "stream",
     "text": [
      "(181, 140, 3)\n",
      "(179, 137, 3)\n",
      "(191, 144, 3)\n",
      "(178, 137, 3)\n"
     ]
    },
    {
     "name": "stderr",
     "output_type": "stream",
     "text": [
      " 92%|█████████▏| 6853/7439 [05:36<00:29, 19.72it/s]"
     ]
    },
    {
     "name": "stdout",
     "output_type": "stream",
     "text": [
      "(199, 143, 3)\n",
      "(189, 143, 3)\n",
      "(190, 144, 3)\n",
      "(201, 149, 3)\n"
     ]
    },
    {
     "name": "stderr",
     "output_type": "stream",
     "text": [
      " 92%|█████████▏| 6857/7439 [05:36<00:29, 19.59it/s]"
     ]
    },
    {
     "name": "stdout",
     "output_type": "stream",
     "text": [
      "(181, 140, 3)\n",
      "(185, 138, 3)\n",
      "(180, 137, 3)\n",
      "(183, 137, 3)\n"
     ]
    },
    {
     "name": "stderr",
     "output_type": "stream",
     "text": [
      " 92%|█████████▏| 6861/7439 [05:36<00:30, 18.78it/s]"
     ]
    },
    {
     "name": "stdout",
     "output_type": "stream",
     "text": [
      "(183, 140, 3)\n",
      "(179, 140, 3)\n",
      "(191, 144, 3)\n",
      "(181, 137, 3)\n"
     ]
    },
    {
     "name": "stderr",
     "output_type": "stream",
     "text": [
      " 92%|█████████▏| 6866/7439 [05:36<00:29, 19.48it/s]"
     ]
    },
    {
     "name": "stdout",
     "output_type": "stream",
     "text": [
      "(192, 146, 3)\n",
      "(183, 140, 3)\n",
      "(184, 139, 3)\n",
      "(191, 143, 3)\n",
      "(159, 120, 3)\n"
     ]
    },
    {
     "name": "stderr",
     "output_type": "stream",
     "text": [
      " 92%|█████████▏| 6871/7439 [05:36<00:27, 20.36it/s]"
     ]
    },
    {
     "name": "stdout",
     "output_type": "stream",
     "text": [
      "(176, 130, 3)\n",
      "(172, 132, 3)\n",
      "(174, 127, 3)\n",
      "(164, 130, 3)\n",
      "(173, 132, 3)\n"
     ]
    },
    {
     "name": "stderr",
     "output_type": "stream",
     "text": [
      " 92%|█████████▏| 6874/7439 [05:37<00:27, 20.84it/s]"
     ]
    },
    {
     "name": "stdout",
     "output_type": "stream",
     "text": [
      "(183, 137, 3)\n",
      "(177, 131, 3)\n",
      "(177, 135, 3)\n",
      "(162, 127, 3)\n",
      "(164, 128, 3)\n"
     ]
    },
    {
     "name": "stderr",
     "output_type": "stream",
     "text": [
      " 92%|█████████▏| 6880/7439 [05:37<00:26, 20.86it/s]"
     ]
    },
    {
     "name": "stdout",
     "output_type": "stream",
     "text": [
      "(169, 129, 3)\n",
      "(178, 133, 3)\n",
      "(165, 128, 3)\n",
      "(167, 129, 3)\n",
      "(167, 128, 3)\n"
     ]
    },
    {
     "name": "stderr",
     "output_type": "stream",
     "text": [
      " 93%|█████████▎| 6886/7439 [05:37<00:26, 21.12it/s]"
     ]
    },
    {
     "name": "stdout",
     "output_type": "stream",
     "text": [
      "(168, 128, 3)\n",
      "(167, 130, 3)\n",
      "(161, 126, 3)\n",
      "(174, 128, 3)\n",
      "(156, 126, 3)\n"
     ]
    },
    {
     "name": "stderr",
     "output_type": "stream",
     "text": [
      " 93%|█████████▎| 6889/7439 [05:37<00:26, 20.98it/s]"
     ]
    },
    {
     "name": "stdout",
     "output_type": "stream",
     "text": [
      "(157, 125, 3)\n",
      "(179, 138, 3)\n",
      "(164, 125, 3)\n",
      "(163, 128, 3)\n",
      "(168, 130, 3)\n"
     ]
    },
    {
     "name": "stderr",
     "output_type": "stream",
     "text": [
      " 93%|█████████▎| 6895/7439 [05:38<00:26, 20.70it/s]"
     ]
    },
    {
     "name": "stdout",
     "output_type": "stream",
     "text": [
      "(166, 127, 3)\n",
      "(168, 128, 3)\n",
      "(165, 128, 3)\n",
      "(174, 128, 3)\n"
     ]
    },
    {
     "name": "stderr",
     "output_type": "stream",
     "text": [
      " 93%|█████████▎| 6898/7439 [05:38<00:26, 20.42it/s]"
     ]
    },
    {
     "name": "stdout",
     "output_type": "stream",
     "text": [
      "(161, 127, 3)\n",
      "(171, 132, 3)\n",
      "(177, 133, 3)\n",
      "(164, 127, 3)\n"
     ]
    },
    {
     "name": "stderr",
     "output_type": "stream",
     "text": [
      " 93%|█████████▎| 6903/7439 [05:38<00:30, 17.82it/s]"
     ]
    },
    {
     "name": "stdout",
     "output_type": "stream",
     "text": [
      "(174, 136, 3)\n",
      "(155, 121, 3)\n",
      "(160, 121, 3)\n",
      "(163, 127, 3)\n"
     ]
    },
    {
     "name": "stderr",
     "output_type": "stream",
     "text": [
      " 93%|█████████▎| 6906/7439 [05:38<00:28, 18.50it/s]"
     ]
    },
    {
     "name": "stdout",
     "output_type": "stream",
     "text": [
      "(170, 132, 3)\n",
      "(164, 127, 3)\n",
      "(164, 129, 3)\n",
      "(164, 128, 3)\n"
     ]
    },
    {
     "name": "stderr",
     "output_type": "stream",
     "text": [
      " 93%|█████████▎| 6911/7439 [05:39<00:27, 19.04it/s]"
     ]
    },
    {
     "name": "stdout",
     "output_type": "stream",
     "text": [
      "(166, 131, 3)\n",
      "(165, 129, 3)\n",
      "(170, 132, 3)\n",
      "(165, 127, 3)\n",
      "(175, 133, 3)\n"
     ]
    },
    {
     "name": "stderr",
     "output_type": "stream",
     "text": [
      " 93%|█████████▎| 6916/7439 [05:39<00:26, 19.62it/s]"
     ]
    },
    {
     "name": "stdout",
     "output_type": "stream",
     "text": [
      "(167, 125, 3)\n",
      "(164, 125, 3)\n",
      "(170, 129, 3)\n",
      "(163, 130, 3)\n",
      "(160, 126, 3)\n"
     ]
    },
    {
     "name": "stderr",
     "output_type": "stream",
     "text": [
      " 93%|█████████▎| 6921/7439 [05:39<00:26, 19.31it/s]"
     ]
    },
    {
     "name": "stdout",
     "output_type": "stream",
     "text": [
      "(169, 131, 3)\n",
      "(163, 129, 3)\n",
      "(171, 127, 3)\n",
      "(174, 132, 3)\n"
     ]
    },
    {
     "name": "stderr",
     "output_type": "stream",
     "text": [
      " 93%|█████████▎| 6924/7439 [05:39<00:26, 19.67it/s]"
     ]
    },
    {
     "name": "stdout",
     "output_type": "stream",
     "text": [
      "(165, 128, 3)\n",
      "(166, 129, 3)\n",
      "(172, 132, 3)\n",
      "(164, 128, 3)\n"
     ]
    },
    {
     "name": "stderr",
     "output_type": "stream",
     "text": [
      " 93%|█████████▎| 6929/7439 [05:39<00:25, 20.00it/s]"
     ]
    },
    {
     "name": "stdout",
     "output_type": "stream",
     "text": [
      "(155, 126, 3)\n",
      "(170, 129, 3)\n",
      "(164, 128, 3)\n",
      "(162, 126, 3)\n",
      "(175, 134, 3)\n"
     ]
    },
    {
     "name": "stderr",
     "output_type": "stream",
     "text": [
      " 93%|█████████▎| 6933/7439 [05:40<00:25, 19.53it/s]"
     ]
    },
    {
     "name": "stdout",
     "output_type": "stream",
     "text": [
      "(164, 130, 3)\n",
      "(158, 124, 3)\n",
      "(181, 131, 3)\n",
      "(171, 128, 3)\n"
     ]
    },
    {
     "name": "stderr",
     "output_type": "stream",
     "text": [
      " 93%|█████████▎| 6937/7439 [05:40<00:25, 19.46it/s]"
     ]
    },
    {
     "name": "stdout",
     "output_type": "stream",
     "text": [
      "(161, 125, 3)\n",
      "(169, 129, 3)\n",
      "(167, 124, 3)\n",
      "(165, 127, 3)\n",
      "(173, 130, 3)\n"
     ]
    },
    {
     "name": "stderr",
     "output_type": "stream",
     "text": [
      " 93%|█████████▎| 6943/7439 [05:40<00:25, 19.79it/s]"
     ]
    },
    {
     "name": "stdout",
     "output_type": "stream",
     "text": [
      "(174, 133, 3)\n",
      "(162, 127, 3)\n",
      "(183, 135, 3)\n",
      "(164, 127, 3)\n"
     ]
    },
    {
     "name": "stderr",
     "output_type": "stream",
     "text": [
      " 93%|█████████▎| 6946/7439 [05:40<00:24, 20.05it/s]"
     ]
    },
    {
     "name": "stdout",
     "output_type": "stream",
     "text": [
      "(168, 128, 3)\n",
      "(162, 129, 3)\n",
      "(163, 129, 3)\n",
      "(165, 127, 3)\n",
      "(172, 133, 3)\n"
     ]
    },
    {
     "name": "stderr",
     "output_type": "stream",
     "text": [
      " 93%|█████████▎| 6952/7439 [05:41<00:23, 20.56it/s]"
     ]
    },
    {
     "name": "stdout",
     "output_type": "stream",
     "text": [
      "(168, 129, 3)\n",
      "(162, 128, 3)\n",
      "(157, 122, 3)\n",
      "(165, 128, 3)\n",
      "(160, 129, 3)\n"
     ]
    },
    {
     "name": "stderr",
     "output_type": "stream",
     "text": [
      " 94%|█████████▎| 6958/7439 [05:41<00:23, 20.56it/s]"
     ]
    },
    {
     "name": "stdout",
     "output_type": "stream",
     "text": [
      "(165, 130, 3)\n",
      "(162, 126, 3)\n",
      "(171, 131, 3)\n",
      "(153, 120, 3)\n",
      "(159, 127, 3)\n"
     ]
    },
    {
     "name": "stderr",
     "output_type": "stream",
     "text": [
      " 94%|█████████▎| 6961/7439 [05:41<00:22, 21.02it/s]"
     ]
    },
    {
     "name": "stdout",
     "output_type": "stream",
     "text": [
      "(156, 121, 3)\n",
      "(175, 133, 3)\n",
      "(164, 131, 3)\n",
      "(170, 130, 3)\n",
      "(170, 135, 3)\n"
     ]
    },
    {
     "name": "stderr",
     "output_type": "stream",
     "text": [
      " 94%|█████████▎| 6967/7439 [05:41<00:22, 20.79it/s]"
     ]
    },
    {
     "name": "stdout",
     "output_type": "stream",
     "text": [
      "(163, 130, 3)\n",
      "(158, 125, 3)\n",
      "(156, 124, 3)\n",
      "(162, 129, 3)\n",
      "(164, 126, 3)\n"
     ]
    },
    {
     "name": "stderr",
     "output_type": "stream",
     "text": [
      " 94%|█████████▎| 6973/7439 [05:42<00:22, 20.77it/s]"
     ]
    },
    {
     "name": "stdout",
     "output_type": "stream",
     "text": [
      "(166, 128, 3)\n",
      "(151, 122, 3)\n",
      "(159, 121, 3)\n",
      "(168, 131, 3)\n",
      "(158, 124, 3)\n"
     ]
    },
    {
     "name": "stderr",
     "output_type": "stream",
     "text": [
      " 94%|█████████▍| 6976/7439 [05:42<00:22, 20.69it/s]"
     ]
    },
    {
     "name": "stdout",
     "output_type": "stream",
     "text": [
      "(164, 129, 3)\n",
      "(161, 127, 3)\n",
      "(163, 130, 3)\n",
      "(153, 124, 3)\n",
      "(162, 130, 3)\n"
     ]
    },
    {
     "name": "stderr",
     "output_type": "stream",
     "text": [
      " 94%|█████████▍| 6982/7439 [05:42<00:22, 20.68it/s]"
     ]
    },
    {
     "name": "stdout",
     "output_type": "stream",
     "text": [
      "(163, 128, 3)\n",
      "(161, 130, 3)\n",
      "(166, 130, 3)\n",
      "(163, 129, 3)\n",
      "(156, 122, 3)\n"
     ]
    },
    {
     "name": "stderr",
     "output_type": "stream",
     "text": [
      " 94%|█████████▍| 6988/7439 [05:42<00:21, 21.04it/s]"
     ]
    },
    {
     "name": "stdout",
     "output_type": "stream",
     "text": [
      "(153, 125, 3)\n",
      "(153, 122, 3)\n",
      "(157, 127, 3)\n",
      "(155, 123, 3)\n",
      "(161, 126, 3)\n"
     ]
    },
    {
     "name": "stderr",
     "output_type": "stream",
     "text": [
      " 94%|█████████▍| 6991/7439 [05:42<00:21, 21.10it/s]"
     ]
    },
    {
     "name": "stdout",
     "output_type": "stream",
     "text": [
      "(172, 133, 3)\n",
      "(162, 129, 3)\n",
      "(157, 128, 3)\n",
      "(159, 128, 3)\n",
      "(165, 129, 3)\n"
     ]
    },
    {
     "name": "stderr",
     "output_type": "stream",
     "text": [
      " 94%|█████████▍| 6997/7439 [05:43<00:20, 21.12it/s]"
     ]
    },
    {
     "name": "stdout",
     "output_type": "stream",
     "text": [
      "(160, 127, 3)\n",
      "(160, 126, 3)\n",
      "(164, 131, 3)\n",
      "(158, 127, 3)\n",
      "(160, 129, 3)\n"
     ]
    },
    {
     "name": "stderr",
     "output_type": "stream",
     "text": [
      " 94%|█████████▍| 7003/7439 [05:43<00:20, 20.89it/s]"
     ]
    },
    {
     "name": "stdout",
     "output_type": "stream",
     "text": [
      "(156, 125, 3)\n",
      "(164, 130, 3)\n",
      "(167, 132, 3)\n",
      "(163, 128, 3)\n",
      "(154, 123, 3)\n"
     ]
    },
    {
     "name": "stderr",
     "output_type": "stream",
     "text": [
      " 94%|█████████▍| 7006/7439 [05:43<00:20, 20.76it/s]"
     ]
    },
    {
     "name": "stdout",
     "output_type": "stream",
     "text": [
      "(156, 123, 3)\n",
      "(167, 130, 3)\n",
      "(162, 128, 3)\n",
      "(162, 130, 3)\n",
      "(163, 131, 3)\n"
     ]
    },
    {
     "name": "stderr",
     "output_type": "stream",
     "text": [
      " 94%|█████████▍| 7012/7439 [05:43<00:20, 20.59it/s]"
     ]
    },
    {
     "name": "stdout",
     "output_type": "stream",
     "text": [
      "(154, 126, 3)\n",
      "(162, 127, 3)\n",
      "(161, 129, 3)\n",
      "(159, 125, 3)\n"
     ]
    },
    {
     "name": "stderr",
     "output_type": "stream",
     "text": [
      " 94%|█████████▍| 7015/7439 [05:44<00:20, 20.33it/s]"
     ]
    },
    {
     "name": "stdout",
     "output_type": "stream",
     "text": [
      "(172, 129, 3)\n",
      "(161, 125, 3)\n",
      "(166, 129, 3)\n",
      "(165, 130, 3)\n",
      "(169, 128, 3)\n"
     ]
    },
    {
     "name": "stderr",
     "output_type": "stream",
     "text": [
      " 94%|█████████▍| 7021/7439 [05:44<00:20, 20.12it/s]"
     ]
    },
    {
     "name": "stdout",
     "output_type": "stream",
     "text": [
      "(160, 125, 3)\n",
      "(168, 132, 3)\n",
      "(161, 128, 3)\n",
      "(150, 121, 3)\n",
      "(158, 128, 3)\n"
     ]
    },
    {
     "name": "stderr",
     "output_type": "stream",
     "text": [
      " 94%|█████████▍| 7026/7439 [05:44<00:21, 19.47it/s]"
     ]
    },
    {
     "name": "stdout",
     "output_type": "stream",
     "text": [
      "(167, 132, 3)\n",
      "(170, 132, 3)\n",
      "(159, 125, 3)\n",
      "(166, 130, 3)\n"
     ]
    },
    {
     "name": "stderr",
     "output_type": "stream",
     "text": [
      " 94%|█████████▍| 7029/7439 [05:44<00:20, 19.95it/s]"
     ]
    },
    {
     "name": "stdout",
     "output_type": "stream",
     "text": [
      "(153, 123, 3)\n",
      "(155, 124, 3)\n",
      "(166, 129, 3)\n",
      "(174, 140, 3)\n",
      "(184, 145, 3)\n"
     ]
    },
    {
     "name": "stderr",
     "output_type": "stream",
     "text": [
      " 95%|█████████▍| 7035/7439 [05:45<00:19, 20.76it/s]"
     ]
    },
    {
     "name": "stdout",
     "output_type": "stream",
     "text": [
      "(170, 138, 3)\n",
      "(167, 132, 3)\n",
      "(173, 142, 3)\n",
      "(174, 142, 3)\n",
      "(188, 151, 3)\n"
     ]
    },
    {
     "name": "stderr",
     "output_type": "stream",
     "text": [
      " 95%|█████████▍| 7041/7439 [05:45<00:19, 20.32it/s]"
     ]
    },
    {
     "name": "stdout",
     "output_type": "stream",
     "text": [
      "(169, 132, 3)\n",
      "(189, 145, 3)\n",
      "(182, 142, 3)\n",
      "(180, 143, 3)\n",
      "(170, 136, 3)\n"
     ]
    },
    {
     "name": "stderr",
     "output_type": "stream",
     "text": [
      " 95%|█████████▍| 7044/7439 [05:45<00:18, 20.80it/s]"
     ]
    },
    {
     "name": "stdout",
     "output_type": "stream",
     "text": [
      "(199, 151, 3)\n",
      "(179, 144, 3)\n",
      "(179, 139, 3)\n",
      "(169, 135, 3)\n",
      "(174, 141, 3)\n"
     ]
    },
    {
     "name": "stderr",
     "output_type": "stream",
     "text": [
      " 95%|█████████▍| 7050/7439 [05:45<00:19, 20.37it/s]"
     ]
    },
    {
     "name": "stdout",
     "output_type": "stream",
     "text": [
      "(172, 140, 3)\n",
      "(175, 141, 3)\n",
      "(198, 151, 3)\n",
      "(176, 142, 3)\n",
      "(182, 145, 3)\n"
     ]
    },
    {
     "name": "stderr",
     "output_type": "stream",
     "text": [
      " 95%|█████████▍| 7056/7439 [05:46<00:17, 21.38it/s]"
     ]
    },
    {
     "name": "stdout",
     "output_type": "stream",
     "text": [
      "(185, 145, 3)\n",
      "(176, 143, 3)\n",
      "(175, 141, 3)\n",
      "(171, 139, 3)\n",
      "(175, 144, 3)\n"
     ]
    },
    {
     "name": "stderr",
     "output_type": "stream",
     "text": [
      " 95%|█████████▍| 7059/7439 [05:46<00:17, 21.78it/s]"
     ]
    },
    {
     "name": "stdout",
     "output_type": "stream",
     "text": [
      "(178, 145, 3)\n",
      "(177, 142, 3)\n",
      "(175, 137, 3)\n",
      "(180, 143, 3)\n",
      "(171, 140, 3)\n"
     ]
    },
    {
     "name": "stderr",
     "output_type": "stream",
     "text": [
      " 95%|█████████▍| 7065/7439 [05:46<00:17, 21.45it/s]"
     ]
    },
    {
     "name": "stdout",
     "output_type": "stream",
     "text": [
      "(174, 140, 3)\n",
      "(170, 138, 3)\n",
      "(176, 143, 3)\n",
      "(164, 135, 3)\n",
      "(170, 136, 3)\n"
     ]
    },
    {
     "name": "stderr",
     "output_type": "stream",
     "text": [
      " 95%|█████████▌| 7071/7439 [05:46<00:17, 21.28it/s]"
     ]
    },
    {
     "name": "stdout",
     "output_type": "stream",
     "text": [
      "(170, 140, 3)\n",
      "(170, 139, 3)\n",
      "(165, 135, 3)\n",
      "(185, 147, 3)\n",
      "(164, 133, 3)\n"
     ]
    },
    {
     "name": "stderr",
     "output_type": "stream",
     "text": [
      " 95%|█████████▌| 7074/7439 [05:46<00:17, 21.01it/s]"
     ]
    },
    {
     "name": "stdout",
     "output_type": "stream",
     "text": [
      "(186, 146, 3)\n",
      "(174, 145, 3)\n",
      "(176, 143, 3)\n",
      "(178, 144, 3)\n",
      "(172, 141, 3)\n"
     ]
    },
    {
     "name": "stderr",
     "output_type": "stream",
     "text": [
      " 95%|█████████▌| 7080/7439 [05:47<00:16, 21.95it/s]"
     ]
    },
    {
     "name": "stdout",
     "output_type": "stream",
     "text": [
      "(161, 131, 3)\n",
      "(171, 139, 3)\n",
      "(173, 143, 3)\n",
      "(172, 142, 3)\n",
      "(177, 145, 3)\n"
     ]
    },
    {
     "name": "stderr",
     "output_type": "stream",
     "text": [
      " 95%|█████████▌| 7086/7439 [05:47<00:16, 21.55it/s]"
     ]
    },
    {
     "name": "stdout",
     "output_type": "stream",
     "text": [
      "(174, 141, 3)\n",
      "(169, 137, 3)\n",
      "(172, 139, 3)\n",
      "(175, 142, 3)\n",
      "(178, 141, 3)\n"
     ]
    },
    {
     "name": "stderr",
     "output_type": "stream",
     "text": [
      " 95%|█████████▌| 7089/7439 [05:47<00:16, 21.26it/s]"
     ]
    },
    {
     "name": "stdout",
     "output_type": "stream",
     "text": [
      "(174, 139, 3)\n",
      "(177, 144, 3)\n",
      "(178, 143, 3)\n",
      "(177, 142, 3)\n",
      "(174, 144, 3)\n"
     ]
    },
    {
     "name": "stderr",
     "output_type": "stream",
     "text": [
      " 95%|█████████▌| 7095/7439 [05:47<00:16, 21.36it/s]"
     ]
    },
    {
     "name": "stdout",
     "output_type": "stream",
     "text": [
      "(171, 140, 3)\n",
      "(164, 137, 3)\n",
      "(190, 151, 3)\n",
      "(191, 145, 3)\n",
      "(177, 142, 3)\n"
     ]
    },
    {
     "name": "stderr",
     "output_type": "stream",
     "text": [
      " 95%|█████████▌| 7101/7439 [05:48<00:16, 20.88it/s]"
     ]
    },
    {
     "name": "stdout",
     "output_type": "stream",
     "text": [
      "(173, 140, 3)\n",
      "(186, 147, 3)\n",
      "(181, 145, 3)\n",
      "(172, 135, 3)\n",
      "(169, 138, 3)\n"
     ]
    },
    {
     "name": "stderr",
     "output_type": "stream",
     "text": [
      " 95%|█████████▌| 7104/7439 [05:48<00:15, 21.07it/s]"
     ]
    },
    {
     "name": "stdout",
     "output_type": "stream",
     "text": [
      "(182, 143, 3)\n",
      "(165, 130, 3)\n",
      "(171, 139, 3)\n",
      "(174, 141, 3)\n",
      "(175, 143, 3)\n"
     ]
    },
    {
     "name": "stderr",
     "output_type": "stream",
     "text": [
      " 96%|█████████▌| 7110/7439 [05:48<00:15, 21.11it/s]"
     ]
    },
    {
     "name": "stdout",
     "output_type": "stream",
     "text": [
      "(187, 146, 3)\n",
      "(183, 145, 3)\n",
      "(177, 145, 3)\n",
      "(171, 138, 3)\n",
      "(167, 137, 3)\n"
     ]
    },
    {
     "name": "stderr",
     "output_type": "stream",
     "text": [
      " 96%|█████████▌| 7115/7439 [05:48<00:16, 19.23it/s]"
     ]
    },
    {
     "name": "stdout",
     "output_type": "stream",
     "text": [
      "(174, 140, 3)\n",
      "(165, 136, 3)\n",
      "(163, 135, 3)\n",
      "(182, 148, 3)\n"
     ]
    },
    {
     "name": "stderr",
     "output_type": "stream",
     "text": [
      " 96%|█████████▌| 7118/7439 [05:49<00:16, 19.59it/s]"
     ]
    },
    {
     "name": "stdout",
     "output_type": "stream",
     "text": [
      "(172, 140, 3)\n",
      "(173, 141, 3)\n",
      "(186, 148, 3)\n",
      "(176, 144, 3)\n",
      "(180, 142, 3)\n"
     ]
    },
    {
     "name": "stderr",
     "output_type": "stream",
     "text": [
      " 96%|█████████▌| 7124/7439 [05:49<00:15, 20.46it/s]"
     ]
    },
    {
     "name": "stdout",
     "output_type": "stream",
     "text": [
      "(182, 142, 3)\n",
      "(171, 138, 3)\n",
      "(166, 133, 3)\n",
      "(169, 140, 3)\n",
      "(176, 144, 3)\n"
     ]
    },
    {
     "name": "stderr",
     "output_type": "stream",
     "text": [
      " 96%|█████████▌| 7130/7439 [05:49<00:14, 21.53it/s]"
     ]
    },
    {
     "name": "stdout",
     "output_type": "stream",
     "text": [
      "(183, 144, 3)\n",
      "(175, 143, 3)\n",
      "(170, 142, 3)\n",
      "(166, 140, 3)\n",
      "(170, 139, 3)\n"
     ]
    },
    {
     "name": "stderr",
     "output_type": "stream",
     "text": [
      " 96%|█████████▌| 7133/7439 [05:49<00:14, 21.04it/s]"
     ]
    },
    {
     "name": "stdout",
     "output_type": "stream",
     "text": [
      "(180, 145, 3)\n",
      "(177, 142, 3)\n",
      "(175, 140, 3)\n",
      "(184, 146, 3)\n",
      "(170, 139, 3)\n"
     ]
    },
    {
     "name": "stderr",
     "output_type": "stream",
     "text": [
      " 96%|█████████▌| 7139/7439 [05:50<00:14, 21.35it/s]"
     ]
    },
    {
     "name": "stdout",
     "output_type": "stream",
     "text": [
      "(167, 134, 3)\n",
      "(172, 140, 3)\n",
      "(180, 143, 3)\n",
      "(174, 140, 3)\n",
      "(172, 142, 3)\n"
     ]
    },
    {
     "name": "stderr",
     "output_type": "stream",
     "text": [
      " 96%|█████████▌| 7142/7439 [05:50<00:14, 20.64it/s]"
     ]
    },
    {
     "name": "stdout",
     "output_type": "stream",
     "text": [
      "(176, 141, 3)\n",
      "(176, 142, 3)\n",
      "(173, 144, 3)\n",
      "(172, 141, 3)\n"
     ]
    },
    {
     "name": "stderr",
     "output_type": "stream",
     "text": [
      " 96%|█████████▌| 7148/7439 [05:50<00:14, 20.70it/s]"
     ]
    },
    {
     "name": "stdout",
     "output_type": "stream",
     "text": [
      "(176, 143, 3)\n",
      "(167, 139, 3)\n",
      "(162, 136, 3)\n",
      "(171, 139, 3)\n",
      "(167, 141, 3)\n"
     ]
    },
    {
     "name": "stderr",
     "output_type": "stream",
     "text": [
      " 96%|█████████▌| 7151/7439 [05:50<00:14, 20.51it/s]"
     ]
    },
    {
     "name": "stdout",
     "output_type": "stream",
     "text": [
      "(175, 142, 3)\n",
      "(164, 139, 3)\n",
      "(168, 140, 3)\n",
      "(168, 136, 3)\n"
     ]
    },
    {
     "name": "stderr",
     "output_type": "stream",
     "text": [
      " 96%|█████████▌| 7157/7439 [05:50<00:14, 20.05it/s]"
     ]
    },
    {
     "name": "stdout",
     "output_type": "stream",
     "text": [
      "(176, 140, 3)\n",
      "(163, 140, 3)\n",
      "(174, 141, 3)\n",
      "(178, 143, 3)\n",
      "(168, 137, 3)\n"
     ]
    },
    {
     "name": "stderr",
     "output_type": "stream",
     "text": [
      " 96%|█████████▋| 7163/7439 [05:51<00:13, 20.48it/s]"
     ]
    },
    {
     "name": "stdout",
     "output_type": "stream",
     "text": [
      "(178, 144, 3)\n",
      "(174, 144, 3)\n",
      "(170, 143, 3)\n",
      "(172, 140, 3)\n",
      "(174, 142, 3)\n"
     ]
    },
    {
     "name": "stderr",
     "output_type": "stream",
     "text": [
      " 96%|█████████▋| 7166/7439 [05:51<00:13, 20.17it/s]"
     ]
    },
    {
     "name": "stdout",
     "output_type": "stream",
     "text": [
      "(174, 141, 3)\n",
      "(163, 137, 3)\n",
      "(166, 137, 3)\n",
      "(172, 141, 3)\n",
      "(171, 137, 3)\n"
     ]
    },
    {
     "name": "stderr",
     "output_type": "stream",
     "text": [
      " 96%|█████████▋| 7172/7439 [05:51<00:13, 19.99it/s]"
     ]
    },
    {
     "name": "stdout",
     "output_type": "stream",
     "text": [
      "(175, 144, 3)\n",
      "(171, 141, 3)\n",
      "(173, 140, 3)\n",
      "(168, 137, 3)\n"
     ]
    },
    {
     "name": "stderr",
     "output_type": "stream",
     "text": [
      " 96%|█████████▋| 7175/7439 [05:51<00:13, 20.19it/s]"
     ]
    },
    {
     "name": "stdout",
     "output_type": "stream",
     "text": [
      "(181, 145, 3)\n",
      "(170, 140, 3)\n",
      "(182, 146, 3)\n",
      "(170, 140, 3)\n",
      "(176, 140, 3)\n"
     ]
    },
    {
     "name": "stderr",
     "output_type": "stream",
     "text": [
      " 97%|█████████▋| 7181/7439 [05:52<00:12, 20.06it/s]"
     ]
    },
    {
     "name": "stdout",
     "output_type": "stream",
     "text": [
      "(167, 132, 3)\n",
      "(172, 140, 3)\n",
      "(159, 130, 3)\n",
      "(177, 140, 3)\n",
      "(170, 140, 3)\n"
     ]
    },
    {
     "name": "stderr",
     "output_type": "stream",
     "text": [
      " 97%|█████████▋| 7187/7439 [05:52<00:12, 20.57it/s]"
     ]
    },
    {
     "name": "stdout",
     "output_type": "stream",
     "text": [
      "(172, 140, 3)\n",
      "(172, 141, 3)\n",
      "(165, 136, 3)\n",
      "(171, 141, 3)\n",
      "(173, 141, 3)\n"
     ]
    },
    {
     "name": "stderr",
     "output_type": "stream",
     "text": [
      " 97%|█████████▋| 7190/7439 [05:52<00:12, 20.30it/s]"
     ]
    },
    {
     "name": "stdout",
     "output_type": "stream",
     "text": [
      "(171, 139, 3)\n",
      "(175, 140, 3)\n",
      "(160, 132, 3)\n",
      "(183, 143, 3)\n",
      "(172, 139, 3)\n"
     ]
    },
    {
     "name": "stderr",
     "output_type": "stream",
     "text": [
      " 97%|█████████▋| 7196/7439 [05:52<00:11, 20.46it/s]"
     ]
    },
    {
     "name": "stdout",
     "output_type": "stream",
     "text": [
      "(183, 140, 3)\n",
      "(183, 142, 3)\n",
      "(165, 128, 3)\n",
      "(166, 140, 3)\n",
      "(166, 138, 3)\n"
     ]
    },
    {
     "name": "stderr",
     "output_type": "stream",
     "text": [
      " 97%|█████████▋| 7202/7439 [05:53<00:11, 20.89it/s]"
     ]
    },
    {
     "name": "stdout",
     "output_type": "stream",
     "text": [
      "(172, 140, 3)\n",
      "(169, 139, 3)\n",
      "(179, 143, 3)\n",
      "(173, 138, 3)\n",
      "(168, 143, 3)\n"
     ]
    },
    {
     "name": "stderr",
     "output_type": "stream",
     "text": [
      " 97%|█████████▋| 7205/7439 [05:53<00:11, 20.57it/s]"
     ]
    },
    {
     "name": "stdout",
     "output_type": "stream",
     "text": [
      "(161, 134, 3)\n",
      "(152, 128, 3)\n",
      "(167, 136, 3)\n",
      "(161, 130, 3)\n",
      "(152, 129, 3)\n"
     ]
    },
    {
     "name": "stderr",
     "output_type": "stream",
     "text": [
      " 97%|█████████▋| 7211/7439 [05:53<00:10, 20.75it/s]"
     ]
    },
    {
     "name": "stdout",
     "output_type": "stream",
     "text": [
      "(166, 135, 3)\n",
      "(193, 147, 3)\n",
      "(165, 135, 3)\n",
      "(190, 142, 3)\n",
      "(164, 135, 3)\n"
     ]
    },
    {
     "name": "stderr",
     "output_type": "stream",
     "text": [
      " 97%|█████████▋| 7214/7439 [05:53<00:10, 20.65it/s]"
     ]
    },
    {
     "name": "stdout",
     "output_type": "stream",
     "text": [
      "(168, 137, 3)\n",
      "(164, 137, 3)\n",
      "(169, 142, 3)\n",
      "(178, 141, 3)\n"
     ]
    },
    {
     "name": "stderr",
     "output_type": "stream",
     "text": [
      " 97%|█████████▋| 7220/7439 [05:54<00:10, 20.25it/s]"
     ]
    },
    {
     "name": "stdout",
     "output_type": "stream",
     "text": [
      "(169, 134, 3)\n",
      "(158, 132, 3)\n",
      "(169, 137, 3)\n",
      "(169, 139, 3)\n",
      "(168, 139, 3)\n"
     ]
    },
    {
     "name": "stderr",
     "output_type": "stream",
     "text": [
      " 97%|█████████▋| 7223/7439 [05:54<00:10, 19.80it/s]"
     ]
    },
    {
     "name": "stdout",
     "output_type": "stream",
     "text": [
      "(164, 134, 3)\n",
      "(174, 135, 3)\n",
      "(158, 132, 3)\n",
      "(167, 135, 3)\n"
     ]
    },
    {
     "name": "stderr",
     "output_type": "stream",
     "text": [
      " 97%|█████████▋| 7229/7439 [05:54<00:10, 20.13it/s]"
     ]
    },
    {
     "name": "stdout",
     "output_type": "stream",
     "text": [
      "(157, 133, 3)\n",
      "(158, 132, 3)\n",
      "(153, 132, 3)\n",
      "(176, 139, 3)\n"
     ]
    },
    {
     "name": "stderr",
     "output_type": "stream",
     "text": [
      " 97%|█████████▋| 7232/7439 [05:54<00:10, 20.13it/s]"
     ]
    },
    {
     "name": "stdout",
     "output_type": "stream",
     "text": [
      "(167, 135, 3)\n",
      "(169, 133, 3)\n",
      "(157, 135, 3)\n",
      "(157, 132, 3)\n",
      "(168, 137, 3)\n"
     ]
    },
    {
     "name": "stderr",
     "output_type": "stream",
     "text": [
      " 97%|█████████▋| 7238/7439 [05:54<00:10, 19.94it/s]"
     ]
    },
    {
     "name": "stdout",
     "output_type": "stream",
     "text": [
      "(157, 127, 3)\n",
      "(161, 132, 3)\n",
      "(156, 132, 3)\n",
      "(163, 135, 3)\n",
      "(165, 133, 3)\n"
     ]
    },
    {
     "name": "stderr",
     "output_type": "stream",
     "text": [
      " 97%|█████████▋| 7241/7439 [05:55<00:09, 19.84it/s]"
     ]
    },
    {
     "name": "stdout",
     "output_type": "stream",
     "text": [
      "(171, 143, 3)\n",
      "(154, 125, 3)\n",
      "(157, 129, 3)\n",
      "(162, 134, 3)\n"
     ]
    },
    {
     "name": "stderr",
     "output_type": "stream",
     "text": [
      " 97%|█████████▋| 7246/7439 [05:55<00:09, 19.71it/s]"
     ]
    },
    {
     "name": "stdout",
     "output_type": "stream",
     "text": [
      "(164, 133, 3)\n",
      "(162, 133, 3)\n",
      "(178, 138, 3)\n",
      "(151, 128, 3)\n"
     ]
    },
    {
     "name": "stderr",
     "output_type": "stream",
     "text": [
      " 97%|█████████▋| 7251/7439 [05:55<00:09, 19.24it/s]"
     ]
    },
    {
     "name": "stdout",
     "output_type": "stream",
     "text": [
      "(150, 127, 3)\n",
      "(165, 132, 3)\n",
      "(159, 131, 3)\n",
      "(157, 130, 3)\n"
     ]
    },
    {
     "name": "stderr",
     "output_type": "stream",
     "text": [
      " 98%|█████████▊| 7255/7439 [05:55<00:09, 19.10it/s]"
     ]
    },
    {
     "name": "stdout",
     "output_type": "stream",
     "text": [
      "(177, 142, 3)\n",
      "(149, 125, 3)\n",
      "(158, 128, 3)\n",
      "(174, 133, 3)\n"
     ]
    },
    {
     "name": "stderr",
     "output_type": "stream",
     "text": [
      " 98%|█████████▊| 7259/7439 [05:56<00:09, 18.72it/s]"
     ]
    },
    {
     "name": "stdout",
     "output_type": "stream",
     "text": [
      "(160, 135, 3)\n",
      "(179, 143, 3)\n",
      "(182, 143, 3)\n",
      "(163, 130, 3)\n"
     ]
    },
    {
     "name": "stderr",
     "output_type": "stream",
     "text": [
      " 98%|█████████▊| 7263/7439 [05:56<00:09, 18.52it/s]"
     ]
    },
    {
     "name": "stdout",
     "output_type": "stream",
     "text": [
      "(160, 132, 3)\n",
      "(181, 141, 3)\n",
      "(163, 136, 3)\n",
      "(172, 142, 3)\n"
     ]
    },
    {
     "name": "stderr",
     "output_type": "stream",
     "text": [
      " 98%|█████████▊| 7268/7439 [05:56<00:08, 19.92it/s]"
     ]
    },
    {
     "name": "stdout",
     "output_type": "stream",
     "text": [
      "(167, 139, 3)\n",
      "(160, 132, 3)\n",
      "(160, 132, 3)\n",
      "(152, 135, 3)\n",
      "(161, 136, 3)\n"
     ]
    },
    {
     "name": "stderr",
     "output_type": "stream",
     "text": [
      " 98%|█████████▊| 7271/7439 [05:56<00:08, 19.64it/s]"
     ]
    },
    {
     "name": "stdout",
     "output_type": "stream",
     "text": [
      "(154, 133, 3)\n",
      "(170, 141, 3)\n",
      "(159, 128, 3)\n",
      "(171, 139, 3)\n",
      "(174, 136, 3)\n"
     ]
    },
    {
     "name": "stderr",
     "output_type": "stream",
     "text": [
      " 98%|█████████▊| 7277/7439 [05:56<00:07, 20.51it/s]"
     ]
    },
    {
     "name": "stdout",
     "output_type": "stream",
     "text": [
      "(162, 135, 3)\n",
      "(162, 139, 3)\n",
      "(186, 143, 3)\n",
      "(185, 143, 3)\n",
      "(180, 141, 3)\n"
     ]
    },
    {
     "name": "stderr",
     "output_type": "stream",
     "text": [
      " 98%|█████████▊| 7283/7439 [05:57<00:07, 21.17it/s]"
     ]
    },
    {
     "name": "stdout",
     "output_type": "stream",
     "text": [
      "(191, 143, 3)\n",
      "(196, 147, 3)\n",
      "(189, 141, 3)\n",
      "(178, 140, 3)\n",
      "(184, 141, 3)\n"
     ]
    },
    {
     "name": "stderr",
     "output_type": "stream",
     "text": [
      " 98%|█████████▊| 7286/7439 [05:57<00:07, 21.60it/s]"
     ]
    },
    {
     "name": "stdout",
     "output_type": "stream",
     "text": [
      "(179, 140, 3)\n",
      "(171, 132, 3)\n",
      "(174, 135, 3)\n",
      "(179, 137, 3)\n",
      "(183, 138, 3)\n"
     ]
    },
    {
     "name": "stderr",
     "output_type": "stream",
     "text": [
      " 98%|█████████▊| 7292/7439 [05:57<00:06, 22.32it/s]"
     ]
    },
    {
     "name": "stdout",
     "output_type": "stream",
     "text": [
      "(189, 142, 3)\n",
      "(180, 138, 3)\n",
      "(186, 144, 3)\n",
      "(191, 145, 3)\n",
      "(185, 140, 3)\n"
     ]
    },
    {
     "name": "stderr",
     "output_type": "stream",
     "text": [
      " 98%|█████████▊| 7298/7439 [05:57<00:06, 22.46it/s]"
     ]
    },
    {
     "name": "stdout",
     "output_type": "stream",
     "text": [
      "(187, 142, 3)\n",
      "(176, 137, 3)\n",
      "(183, 138, 3)\n",
      "(175, 136, 3)\n",
      "(179, 136, 3)\n"
     ]
    },
    {
     "name": "stderr",
     "output_type": "stream",
     "text": [
      " 98%|█████████▊| 7301/7439 [05:58<00:06, 21.86it/s]"
     ]
    },
    {
     "name": "stdout",
     "output_type": "stream",
     "text": [
      "(184, 140, 3)\n",
      "(183, 140, 3)\n",
      "(179, 137, 3)\n",
      "(186, 140, 3)\n",
      "(182, 140, 3)\n"
     ]
    },
    {
     "name": "stderr",
     "output_type": "stream",
     "text": [
      " 98%|█████████▊| 7307/7439 [05:58<00:06, 20.83it/s]"
     ]
    },
    {
     "name": "stdout",
     "output_type": "stream",
     "text": [
      "(181, 138, 3)\n",
      "(183, 142, 3)\n",
      "(178, 139, 3)\n",
      "(197, 145, 3)\n",
      "(192, 142, 3)\n"
     ]
    },
    {
     "name": "stderr",
     "output_type": "stream",
     "text": [
      " 98%|█████████▊| 7313/7439 [05:58<00:06, 20.60it/s]"
     ]
    },
    {
     "name": "stdout",
     "output_type": "stream",
     "text": [
      "(187, 141, 3)\n",
      "(183, 142, 3)\n",
      "(183, 141, 3)\n",
      "(184, 142, 3)\n",
      "(186, 143, 3)\n"
     ]
    },
    {
     "name": "stderr",
     "output_type": "stream",
     "text": [
      " 98%|█████████▊| 7316/7439 [05:58<00:06, 20.25it/s]"
     ]
    },
    {
     "name": "stdout",
     "output_type": "stream",
     "text": [
      "(188, 145, 3)\n",
      "(185, 143, 3)\n",
      "(178, 141, 3)\n",
      "(170, 130, 3)\n"
     ]
    },
    {
     "name": "stderr",
     "output_type": "stream",
     "text": [
      " 98%|█████████▊| 7322/7439 [05:59<00:05, 20.03it/s]"
     ]
    },
    {
     "name": "stdout",
     "output_type": "stream",
     "text": [
      "(178, 136, 3)\n",
      "(199, 146, 3)\n",
      "(182, 139, 3)\n",
      "(193, 143, 3)\n",
      "(178, 137, 3)\n"
     ]
    },
    {
     "name": "stderr",
     "output_type": "stream",
     "text": [
      " 98%|█████████▊| 7325/7439 [05:59<00:05, 20.54it/s]"
     ]
    },
    {
     "name": "stdout",
     "output_type": "stream",
     "text": [
      "(181, 137, 3)\n",
      "(183, 141, 3)\n",
      "(187, 140, 3)\n"
     ]
    },
    {
     "name": "stderr",
     "output_type": "stream",
     "text": [
      " 99%|█████████▊| 7328/7439 [05:59<00:06, 17.55it/s]"
     ]
    },
    {
     "name": "stdout",
     "output_type": "stream",
     "text": [
      "(188, 142, 3)\n",
      "(182, 136, 3)\n",
      "(180, 139, 3)\n",
      "(183, 138, 3)\n"
     ]
    },
    {
     "name": "stderr",
     "output_type": "stream",
     "text": [
      " 99%|█████████▊| 7333/7439 [05:59<00:05, 18.48it/s]"
     ]
    },
    {
     "name": "stdout",
     "output_type": "stream",
     "text": [
      "(194, 144, 3)\n",
      "(183, 139, 3)\n",
      "(194, 143, 3)\n",
      "(188, 139, 3)\n"
     ]
    },
    {
     "name": "stderr",
     "output_type": "stream",
     "text": [
      " 99%|█████████▊| 7338/7439 [05:59<00:05, 19.38it/s]"
     ]
    },
    {
     "name": "stdout",
     "output_type": "stream",
     "text": [
      "(205, 146, 3)\n",
      "(179, 137, 3)\n",
      "(182, 139, 3)\n",
      "(191, 144, 3)\n",
      "(192, 142, 3)\n"
     ]
    },
    {
     "name": "stderr",
     "output_type": "stream",
     "text": [
      " 99%|█████████▊| 7342/7439 [06:00<00:05, 18.99it/s]"
     ]
    },
    {
     "name": "stdout",
     "output_type": "stream",
     "text": [
      "(177, 137, 3)\n",
      "(184, 139, 3)\n",
      "(166, 130, 3)\n",
      "(184, 140, 3)\n"
     ]
    },
    {
     "name": "stderr",
     "output_type": "stream",
     "text": [
      " 99%|█████████▊| 7345/7439 [06:00<00:04, 19.26it/s]"
     ]
    },
    {
     "name": "stdout",
     "output_type": "stream",
     "text": [
      "(196, 145, 3)\n",
      "(194, 142, 3)\n",
      "(167, 127, 3)\n",
      "(191, 145, 3)\n"
     ]
    },
    {
     "name": "stderr",
     "output_type": "stream",
     "text": [
      " 99%|█████████▉| 7350/7439 [06:00<00:04, 19.87it/s]"
     ]
    },
    {
     "name": "stdout",
     "output_type": "stream",
     "text": [
      "(193, 145, 3)\n",
      "(191, 143, 3)\n",
      "(186, 143, 3)\n",
      "(196, 148, 3)\n",
      "(182, 141, 3)\n"
     ]
    },
    {
     "name": "stderr",
     "output_type": "stream",
     "text": [
      " 99%|█████████▉| 7356/7439 [06:00<00:04, 20.43it/s]"
     ]
    },
    {
     "name": "stdout",
     "output_type": "stream",
     "text": [
      "(188, 141, 3)\n",
      "(184, 141, 3)\n",
      "(185, 143, 3)\n",
      "(194, 144, 3)\n",
      "(192, 143, 3)\n"
     ]
    },
    {
     "name": "stderr",
     "output_type": "stream",
     "text": [
      " 99%|█████████▉| 7359/7439 [06:00<00:03, 20.36it/s]"
     ]
    },
    {
     "name": "stdout",
     "output_type": "stream",
     "text": [
      "(194, 145, 3)\n",
      "(174, 136, 3)\n",
      "(158, 127, 3)\n",
      "(184, 144, 3)\n",
      "(172, 135, 3)\n"
     ]
    },
    {
     "name": "stderr",
     "output_type": "stream",
     "text": [
      " 99%|█████████▉| 7365/7439 [06:01<00:03, 21.21it/s]"
     ]
    },
    {
     "name": "stdout",
     "output_type": "stream",
     "text": [
      "(171, 134, 3)\n",
      "(168, 132, 3)\n",
      "(167, 134, 3)\n",
      "(173, 136, 3)\n",
      "(174, 137, 3)\n"
     ]
    },
    {
     "name": "stderr",
     "output_type": "stream",
     "text": [
      " 99%|█████████▉| 7368/7439 [06:01<00:03, 20.94it/s]"
     ]
    },
    {
     "name": "stdout",
     "output_type": "stream",
     "text": [
      "(170, 131, 3)\n",
      "(160, 129, 3)\n",
      "(166, 134, 3)\n",
      "(166, 133, 3)\n"
     ]
    },
    {
     "name": "stderr",
     "output_type": "stream",
     "text": [
      " 99%|█████████▉| 7374/7439 [06:01<00:03, 20.58it/s]"
     ]
    },
    {
     "name": "stdout",
     "output_type": "stream",
     "text": [
      "(164, 132, 3)\n",
      "(169, 131, 3)\n",
      "(161, 132, 3)\n",
      "(164, 135, 3)\n",
      "(161, 132, 3)\n"
     ]
    },
    {
     "name": "stderr",
     "output_type": "stream",
     "text": [
      " 99%|█████████▉| 7380/7439 [06:01<00:02, 21.12it/s]"
     ]
    },
    {
     "name": "stdout",
     "output_type": "stream",
     "text": [
      "(167, 133, 3)\n",
      "(165, 131, 3)\n",
      "(166, 132, 3)\n",
      "(171, 137, 3)\n",
      "(166, 133, 3)\n"
     ]
    },
    {
     "name": "stderr",
     "output_type": "stream",
     "text": [
      " 99%|█████████▉| 7383/7439 [06:02<00:02, 20.71it/s]"
     ]
    },
    {
     "name": "stdout",
     "output_type": "stream",
     "text": [
      "(162, 131, 3)\n",
      "(164, 130, 3)\n",
      "(160, 131, 3)\n",
      "(168, 133, 3)\n",
      "(170, 133, 3)\n"
     ]
    },
    {
     "name": "stderr",
     "output_type": "stream",
     "text": [
      " 99%|█████████▉| 7389/7439 [06:02<00:02, 20.57it/s]"
     ]
    },
    {
     "name": "stdout",
     "output_type": "stream",
     "text": [
      "(165, 131, 3)\n",
      "(160, 126, 3)\n",
      "(164, 132, 3)\n",
      "(168, 135, 3)\n",
      "(159, 129, 3)\n"
     ]
    },
    {
     "name": "stderr",
     "output_type": "stream",
     "text": [
      " 99%|█████████▉| 7392/7439 [06:02<00:02, 20.34it/s]"
     ]
    },
    {
     "name": "stdout",
     "output_type": "stream",
     "text": [
      "(165, 131, 3)\n",
      "(170, 135, 3)\n",
      "(160, 128, 3)\n",
      "(168, 131, 3)\n"
     ]
    },
    {
     "name": "stderr",
     "output_type": "stream",
     "text": [
      " 99%|█████████▉| 7398/7439 [06:02<00:02, 20.01it/s]"
     ]
    },
    {
     "name": "stdout",
     "output_type": "stream",
     "text": [
      "(171, 138, 3)\n",
      "(164, 131, 3)\n",
      "(163, 130, 3)\n",
      "(168, 132, 3)\n",
      "(165, 131, 3)\n"
     ]
    },
    {
     "name": "stderr",
     "output_type": "stream",
     "text": [
      "100%|█████████▉| 7404/7439 [06:03<00:01, 20.27it/s]"
     ]
    },
    {
     "name": "stdout",
     "output_type": "stream",
     "text": [
      "(166, 131, 3)\n",
      "(170, 138, 3)\n",
      "(166, 133, 3)\n",
      "(160, 129, 3)\n",
      "(166, 133, 3)\n"
     ]
    },
    {
     "name": "stderr",
     "output_type": "stream",
     "text": [
      "100%|█████████▉| 7407/7439 [06:03<00:01, 20.34it/s]"
     ]
    },
    {
     "name": "stdout",
     "output_type": "stream",
     "text": [
      "(165, 131, 3)\n",
      "(167, 132, 3)\n",
      "(165, 135, 3)\n",
      "(167, 131, 3)\n",
      "(171, 136, 3)\n"
     ]
    },
    {
     "name": "stderr",
     "output_type": "stream",
     "text": [
      "100%|█████████▉| 7410/7439 [06:03<00:01, 20.40it/s]"
     ]
    },
    {
     "name": "stdout",
     "output_type": "stream",
     "text": [
      "(170, 138, 3)\n",
      "(164, 129, 3)\n",
      "(173, 136, 3)\n"
     ]
    },
    {
     "name": "stderr",
     "output_type": "stream",
     "text": [
      "100%|█████████▉| 7416/7439 [06:03<00:01, 17.57it/s]"
     ]
    },
    {
     "name": "stdout",
     "output_type": "stream",
     "text": [
      "(178, 139, 3)\n",
      "(168, 133, 3)\n",
      "(172, 134, 3)\n",
      "(161, 133, 3)\n",
      "(160, 130, 3)\n"
     ]
    },
    {
     "name": "stderr",
     "output_type": "stream",
     "text": [
      "100%|█████████▉| 7422/7439 [06:04<00:00, 19.03it/s]"
     ]
    },
    {
     "name": "stdout",
     "output_type": "stream",
     "text": [
      "(163, 131, 3)\n",
      "(163, 131, 3)\n",
      "(165, 131, 3)\n",
      "(165, 132, 3)\n",
      "(170, 135, 3)\n"
     ]
    },
    {
     "name": "stderr",
     "output_type": "stream",
     "text": [
      "100%|█████████▉| 7424/7439 [06:04<00:00, 18.71it/s]"
     ]
    },
    {
     "name": "stdout",
     "output_type": "stream",
     "text": [
      "(163, 133, 3)\n",
      "(172, 138, 3)\n",
      "(180, 140, 3)\n",
      "(168, 131, 3)\n"
     ]
    },
    {
     "name": "stderr",
     "output_type": "stream",
     "text": [
      "100%|█████████▉| 7430/7439 [06:04<00:00, 19.56it/s]"
     ]
    },
    {
     "name": "stdout",
     "output_type": "stream",
     "text": [
      "(182, 142, 3)\n",
      "(173, 139, 3)\n",
      "(159, 133, 3)\n",
      "(174, 139, 3)\n",
      "(163, 133, 3)\n"
     ]
    },
    {
     "name": "stderr",
     "output_type": "stream",
     "text": [
      "100%|█████████▉| 7436/7439 [06:04<00:00, 20.08it/s]"
     ]
    },
    {
     "name": "stdout",
     "output_type": "stream",
     "text": [
      "(167, 134, 3)\n",
      "(158, 127, 3)\n",
      "(168, 132, 3)\n",
      "(160, 128, 3)\n",
      "(167, 131, 3)\n"
     ]
    },
    {
     "name": "stderr",
     "output_type": "stream",
     "text": [
      "100%|██████████| 7439/7439 [06:05<00:00, 20.38it/s]"
     ]
    },
    {
     "name": "stdout",
     "output_type": "stream",
     "text": [
      "(166, 132, 3)\n",
      "(174, 137, 3)\n",
      "(167, 131, 3)\n"
     ]
    },
    {
     "name": "stderr",
     "output_type": "stream",
     "text": [
      "\n"
     ]
    }
   ],
   "source": [
    "X, y, skipped_files = load_dataset(videos_folder)\n",
    "#X_spec, y_spec = load_spectrogram_dataset(spectrograms_folder, skipped_files)"
   ]
  },
  {
   "cell_type": "code",
   "execution_count": 19,
   "metadata": {},
   "outputs": [],
   "source": [
    "# Save X, y, X_spec, y_spec\n",
    "np.save('X.npy', np.array(X))\n",
    "np.save('y.npy', np.array(y))"
   ]
  },
  {
   "cell_type": "code",
   "execution_count": 21,
   "metadata": {},
   "outputs": [
    {
     "name": "stdout",
     "output_type": "stream",
     "text": [
      "Total number of samples: 7429\n",
      "Number of train samples: 5200 Number of test samples: 2229\n"
     ]
    }
   ],
   "source": [
    "print(f\"Total number of samples: {len(X)}\")\n",
    "X_train, X_test, y_train, y_test = train_test_split(X, y, test_size=0.3, random_state=42)\n",
    "print(f\"Number of train samples: {len(X_train)}\", f\"Number of test samples: {len(X_test)}\")"
   ]
  },
  {
   "cell_type": "code",
   "execution_count": 22,
   "metadata": {
    "scrolled": true
   },
   "outputs": [
    {
     "name": "stderr",
     "output_type": "stream",
     "text": [
      "/home1/riyaranj/.local/lib/python3.12/site-packages/torchvision/models/googlenet.py:47: FutureWarning: The default weight initialization of GoogleNet will be changed in future releases of torchvision. If you wish to keep the old behavior (which leads to long initialization times due to scipy/scipy#11299), please set init_weights=True.\n",
      "  warnings.warn(\n"
     ]
    },
    {
     "name": "stdout",
     "output_type": "stream",
     "text": [
      "Batch size: 16 Num of Epochs: 50 lr: 0.01\n",
      "Epoch 0\n"
     ]
    },
    {
     "name": "stderr",
     "output_type": "stream",
     "text": [
      "100%|██████████| 325/325 [00:11<00:00, 29.04it/s]\n",
      "100%|██████████| 140/140 [00:01<00:00, 135.27it/s]\n"
     ]
    },
    {
     "name": "stdout",
     "output_type": "stream",
     "text": [
      "Epoch 1/50, Train Loss: 1.8097, Train Accuracy: 0.1719, Test Loss: 1.8069, Test Accuracy: 0.1709\n",
      "Epoch 1\n"
     ]
    },
    {
     "name": "stderr",
     "output_type": "stream",
     "text": [
      "100%|██████████| 325/325 [00:06<00:00, 50.68it/s]\n",
      "100%|██████████| 140/140 [00:00<00:00, 154.67it/s]\n"
     ]
    },
    {
     "name": "stdout",
     "output_type": "stream",
     "text": [
      "Epoch 2/50, Train Loss: 1.8041, Train Accuracy: 0.1696, Test Loss: 1.8056, Test Accuracy: 0.1669\n",
      "Epoch 2\n"
     ]
    },
    {
     "name": "stderr",
     "output_type": "stream",
     "text": [
      "100%|██████████| 325/325 [00:06<00:00, 51.16it/s]\n",
      "100%|██████████| 140/140 [00:00<00:00, 154.19it/s]\n"
     ]
    },
    {
     "name": "stdout",
     "output_type": "stream",
     "text": [
      "Epoch 3/50, Train Loss: 1.8005, Train Accuracy: 0.1744, Test Loss: 1.7915, Test Accuracy: 0.1678\n",
      "Epoch 3\n"
     ]
    },
    {
     "name": "stderr",
     "output_type": "stream",
     "text": [
      "100%|██████████| 325/325 [00:06<00:00, 49.86it/s]\n",
      "100%|██████████| 140/140 [00:00<00:00, 154.72it/s]\n"
     ]
    },
    {
     "name": "stdout",
     "output_type": "stream",
     "text": [
      "Epoch 4/50, Train Loss: 1.8005, Train Accuracy: 0.1758, Test Loss: 1.8017, Test Accuracy: 0.1633\n",
      "Epoch 4\n"
     ]
    },
    {
     "name": "stderr",
     "output_type": "stream",
     "text": [
      "100%|██████████| 325/325 [00:06<00:00, 50.32it/s]\n",
      "100%|██████████| 140/140 [00:00<00:00, 155.21it/s]\n"
     ]
    },
    {
     "name": "stdout",
     "output_type": "stream",
     "text": [
      "Epoch 5/50, Train Loss: 1.7982, Train Accuracy: 0.1656, Test Loss: 1.7960, Test Accuracy: 0.1660\n",
      "Epoch 5\n"
     ]
    },
    {
     "name": "stderr",
     "output_type": "stream",
     "text": [
      "100%|██████████| 325/325 [00:06<00:00, 50.68it/s]\n",
      "100%|██████████| 140/140 [00:00<00:00, 155.43it/s]\n"
     ]
    },
    {
     "name": "stdout",
     "output_type": "stream",
     "text": [
      "Epoch 6/50, Train Loss: 1.7991, Train Accuracy: 0.1754, Test Loss: 1.8049, Test Accuracy: 0.1655\n",
      "Epoch 6\n"
     ]
    },
    {
     "name": "stderr",
     "output_type": "stream",
     "text": [
      "100%|██████████| 325/325 [00:06<00:00, 51.00it/s]\n",
      "100%|██████████| 140/140 [00:00<00:00, 154.63it/s]\n"
     ]
    },
    {
     "name": "stdout",
     "output_type": "stream",
     "text": [
      "Epoch 7/50, Train Loss: 1.7937, Train Accuracy: 0.1777, Test Loss: 1.7899, Test Accuracy: 0.1839\n",
      "Epoch 7\n"
     ]
    },
    {
     "name": "stderr",
     "output_type": "stream",
     "text": [
      "100%|██████████| 325/325 [00:06<00:00, 50.69it/s]\n",
      "100%|██████████| 140/140 [00:00<00:00, 155.38it/s]\n"
     ]
    },
    {
     "name": "stdout",
     "output_type": "stream",
     "text": [
      "Epoch 8/50, Train Loss: 1.7856, Train Accuracy: 0.1960, Test Loss: 1.7828, Test Accuracy: 0.2050\n",
      "Epoch 8\n"
     ]
    },
    {
     "name": "stderr",
     "output_type": "stream",
     "text": [
      "100%|██████████| 325/325 [00:06<00:00, 50.33it/s]\n",
      "100%|██████████| 140/140 [00:00<00:00, 153.44it/s]\n"
     ]
    },
    {
     "name": "stdout",
     "output_type": "stream",
     "text": [
      "Epoch 9/50, Train Loss: 1.7726, Train Accuracy: 0.2106, Test Loss: 1.7727, Test Accuracy: 0.2288\n",
      "Epoch 9\n"
     ]
    },
    {
     "name": "stderr",
     "output_type": "stream",
     "text": [
      "100%|██████████| 325/325 [00:06<00:00, 50.98it/s]\n",
      "100%|██████████| 140/140 [00:00<00:00, 155.85it/s]\n"
     ]
    },
    {
     "name": "stdout",
     "output_type": "stream",
     "text": [
      "Epoch 10/50, Train Loss: 1.7667, Train Accuracy: 0.2258, Test Loss: 1.7704, Test Accuracy: 0.2225\n",
      "Epoch 10\n"
     ]
    },
    {
     "name": "stderr",
     "output_type": "stream",
     "text": [
      "100%|██████████| 325/325 [00:06<00:00, 50.26it/s]\n",
      "100%|██████████| 140/140 [00:00<00:00, 155.34it/s]\n"
     ]
    },
    {
     "name": "stdout",
     "output_type": "stream",
     "text": [
      "Epoch 11/50, Train Loss: 1.7678, Train Accuracy: 0.2173, Test Loss: 1.7717, Test Accuracy: 0.2293\n",
      "Epoch 11\n"
     ]
    },
    {
     "name": "stderr",
     "output_type": "stream",
     "text": [
      "100%|██████████| 325/325 [00:06<00:00, 49.75it/s]\n",
      "100%|██████████| 140/140 [00:00<00:00, 154.20it/s]\n"
     ]
    },
    {
     "name": "stdout",
     "output_type": "stream",
     "text": [
      "Epoch 12/50, Train Loss: 1.7752, Train Accuracy: 0.2081, Test Loss: 1.7753, Test Accuracy: 0.2073\n",
      "Epoch 12\n"
     ]
    },
    {
     "name": "stderr",
     "output_type": "stream",
     "text": [
      "100%|██████████| 325/325 [00:06<00:00, 50.74it/s]\n",
      "100%|██████████| 140/140 [00:01<00:00, 138.82it/s]\n"
     ]
    },
    {
     "name": "stdout",
     "output_type": "stream",
     "text": [
      "Epoch 13/50, Train Loss: 1.7596, Train Accuracy: 0.2383, Test Loss: 1.7581, Test Accuracy: 0.2450\n",
      "Epoch 13\n"
     ]
    },
    {
     "name": "stderr",
     "output_type": "stream",
     "text": [
      "100%|██████████| 325/325 [00:06<00:00, 50.85it/s]\n",
      "100%|██████████| 140/140 [00:00<00:00, 155.68it/s]\n"
     ]
    },
    {
     "name": "stdout",
     "output_type": "stream",
     "text": [
      "Epoch 14/50, Train Loss: 1.7469, Train Accuracy: 0.2540, Test Loss: 1.7412, Test Accuracy: 0.2764\n",
      "Epoch 14\n"
     ]
    },
    {
     "name": "stderr",
     "output_type": "stream",
     "text": [
      "100%|██████████| 325/325 [00:06<00:00, 50.26it/s]\n",
      "100%|██████████| 140/140 [00:00<00:00, 154.83it/s]\n"
     ]
    },
    {
     "name": "stdout",
     "output_type": "stream",
     "text": [
      "Epoch 15/50, Train Loss: 1.7323, Train Accuracy: 0.2685, Test Loss: 1.7533, Test Accuracy: 0.2512\n",
      "Epoch 15\n"
     ]
    },
    {
     "name": "stderr",
     "output_type": "stream",
     "text": [
      "100%|██████████| 325/325 [00:06<00:00, 50.51it/s]\n",
      "100%|██████████| 140/140 [00:00<00:00, 150.45it/s]\n"
     ]
    },
    {
     "name": "stdout",
     "output_type": "stream",
     "text": [
      "Epoch 16/50, Train Loss: 1.7266, Train Accuracy: 0.2746, Test Loss: 1.7474, Test Accuracy: 0.2418\n",
      "Epoch 16\n"
     ]
    },
    {
     "name": "stderr",
     "output_type": "stream",
     "text": [
      "100%|██████████| 325/325 [00:06<00:00, 50.92it/s]\n",
      "100%|██████████| 140/140 [00:00<00:00, 154.97it/s]\n"
     ]
    },
    {
     "name": "stdout",
     "output_type": "stream",
     "text": [
      "Epoch 17/50, Train Loss: 1.7270, Train Accuracy: 0.2696, Test Loss: 1.7272, Test Accuracy: 0.2629\n",
      "Epoch 17\n"
     ]
    },
    {
     "name": "stderr",
     "output_type": "stream",
     "text": [
      "100%|██████████| 325/325 [00:06<00:00, 50.62it/s]\n",
      "100%|██████████| 140/140 [00:00<00:00, 155.38it/s]\n"
     ]
    },
    {
     "name": "stdout",
     "output_type": "stream",
     "text": [
      "Epoch 18/50, Train Loss: 1.7188, Train Accuracy: 0.2808, Test Loss: 1.7365, Test Accuracy: 0.2485\n",
      "Epoch 18\n"
     ]
    },
    {
     "name": "stderr",
     "output_type": "stream",
     "text": [
      "100%|██████████| 325/325 [00:06<00:00, 50.10it/s]\n",
      "100%|██████████| 140/140 [00:00<00:00, 154.16it/s]\n"
     ]
    },
    {
     "name": "stdout",
     "output_type": "stream",
     "text": [
      "Epoch 19/50, Train Loss: 1.7254, Train Accuracy: 0.2810, Test Loss: 1.7711, Test Accuracy: 0.2212\n",
      "Epoch 19\n"
     ]
    },
    {
     "name": "stderr",
     "output_type": "stream",
     "text": [
      "100%|██████████| 325/325 [00:06<00:00, 49.76it/s]\n",
      "100%|██████████| 140/140 [00:00<00:00, 155.89it/s]\n"
     ]
    },
    {
     "name": "stdout",
     "output_type": "stream",
     "text": [
      "Epoch 20/50, Train Loss: 1.7211, Train Accuracy: 0.2756, Test Loss: 1.6891, Test Accuracy: 0.3199\n",
      "Epoch 20\n"
     ]
    },
    {
     "name": "stderr",
     "output_type": "stream",
     "text": [
      "100%|██████████| 325/325 [00:06<00:00, 50.14it/s]\n",
      "100%|██████████| 140/140 [00:00<00:00, 156.09it/s]\n"
     ]
    },
    {
     "name": "stdout",
     "output_type": "stream",
     "text": [
      "Epoch 21/50, Train Loss: 1.7046, Train Accuracy: 0.2988, Test Loss: 1.7231, Test Accuracy: 0.2633\n",
      "Epoch 21\n"
     ]
    },
    {
     "name": "stderr",
     "output_type": "stream",
     "text": [
      "100%|██████████| 325/325 [00:06<00:00, 50.90it/s]\n",
      "100%|██████████| 140/140 [00:00<00:00, 155.64it/s]\n"
     ]
    },
    {
     "name": "stdout",
     "output_type": "stream",
     "text": [
      "Epoch 22/50, Train Loss: 1.7075, Train Accuracy: 0.3033, Test Loss: 1.6864, Test Accuracy: 0.3244\n",
      "Epoch 22\n"
     ]
    },
    {
     "name": "stderr",
     "output_type": "stream",
     "text": [
      "100%|██████████| 325/325 [00:06<00:00, 50.28it/s]\n",
      "100%|██████████| 140/140 [00:00<00:00, 156.16it/s]\n"
     ]
    },
    {
     "name": "stdout",
     "output_type": "stream",
     "text": [
      "Epoch 23/50, Train Loss: 1.7079, Train Accuracy: 0.2990, Test Loss: 1.7497, Test Accuracy: 0.2562\n",
      "Epoch 23\n"
     ]
    },
    {
     "name": "stderr",
     "output_type": "stream",
     "text": [
      "100%|██████████| 325/325 [00:06<00:00, 49.86it/s]\n",
      "100%|██████████| 140/140 [00:00<00:00, 155.01it/s]\n"
     ]
    },
    {
     "name": "stdout",
     "output_type": "stream",
     "text": [
      "Epoch 24/50, Train Loss: 1.7228, Train Accuracy: 0.2875, Test Loss: 1.7467, Test Accuracy: 0.2607\n",
      "Epoch 24\n"
     ]
    },
    {
     "name": "stderr",
     "output_type": "stream",
     "text": [
      "100%|██████████| 325/325 [00:06<00:00, 50.99it/s]\n",
      "100%|██████████| 140/140 [00:00<00:00, 155.25it/s]\n"
     ]
    },
    {
     "name": "stdout",
     "output_type": "stream",
     "text": [
      "Epoch 25/50, Train Loss: 1.7048, Train Accuracy: 0.2985, Test Loss: 1.6822, Test Accuracy: 0.3203\n",
      "Epoch 25\n"
     ]
    },
    {
     "name": "stderr",
     "output_type": "stream",
     "text": [
      "100%|██████████| 325/325 [00:06<00:00, 50.48it/s]\n",
      "100%|██████████| 140/140 [00:00<00:00, 154.48it/s]\n"
     ]
    },
    {
     "name": "stdout",
     "output_type": "stream",
     "text": [
      "Epoch 26/50, Train Loss: 1.6743, Train Accuracy: 0.3390, Test Loss: 1.6712, Test Accuracy: 0.3495\n",
      "Epoch 26\n"
     ]
    },
    {
     "name": "stderr",
     "output_type": "stream",
     "text": [
      "100%|██████████| 325/325 [00:06<00:00, 50.32it/s]\n",
      "100%|██████████| 140/140 [00:00<00:00, 154.33it/s]\n"
     ]
    },
    {
     "name": "stdout",
     "output_type": "stream",
     "text": [
      "Epoch 27/50, Train Loss: 1.6500, Train Accuracy: 0.3685, Test Loss: 1.6440, Test Accuracy: 0.3786\n",
      "Epoch 27\n"
     ]
    },
    {
     "name": "stderr",
     "output_type": "stream",
     "text": [
      "100%|██████████| 325/325 [00:06<00:00, 50.75it/s]\n",
      "100%|██████████| 140/140 [00:01<00:00, 138.89it/s]\n"
     ]
    },
    {
     "name": "stdout",
     "output_type": "stream",
     "text": [
      "Epoch 28/50, Train Loss: 1.6429, Train Accuracy: 0.3769, Test Loss: 1.6312, Test Accuracy: 0.3890\n",
      "Epoch 28\n"
     ]
    },
    {
     "name": "stderr",
     "output_type": "stream",
     "text": [
      "100%|██████████| 325/325 [00:06<00:00, 50.98it/s]\n",
      "100%|██████████| 140/140 [00:00<00:00, 154.13it/s]\n"
     ]
    },
    {
     "name": "stdout",
     "output_type": "stream",
     "text": [
      "Epoch 29/50, Train Loss: 1.6218, Train Accuracy: 0.4056, Test Loss: 1.6117, Test Accuracy: 0.4159\n",
      "Epoch 29\n"
     ]
    },
    {
     "name": "stderr",
     "output_type": "stream",
     "text": [
      "100%|██████████| 325/325 [00:06<00:00, 50.44it/s]\n",
      "100%|██████████| 140/140 [00:00<00:00, 155.60it/s]\n"
     ]
    },
    {
     "name": "stdout",
     "output_type": "stream",
     "text": [
      "Epoch 30/50, Train Loss: 1.6103, Train Accuracy: 0.4106, Test Loss: 1.6233, Test Accuracy: 0.3988\n",
      "Epoch 30\n"
     ]
    },
    {
     "name": "stderr",
     "output_type": "stream",
     "text": [
      "100%|██████████| 325/325 [00:06<00:00, 50.69it/s]\n",
      "100%|██████████| 140/140 [00:00<00:00, 155.12it/s]\n"
     ]
    },
    {
     "name": "stdout",
     "output_type": "stream",
     "text": [
      "Epoch 31/50, Train Loss: 1.6002, Train Accuracy: 0.4265, Test Loss: 1.6692, Test Accuracy: 0.3625\n",
      "Epoch 31\n"
     ]
    },
    {
     "name": "stderr",
     "output_type": "stream",
     "text": [
      "100%|██████████| 325/325 [00:06<00:00, 51.03it/s]\n",
      "100%|██████████| 140/140 [00:00<00:00, 155.45it/s]\n"
     ]
    },
    {
     "name": "stdout",
     "output_type": "stream",
     "text": [
      "Epoch 32/50, Train Loss: 1.5950, Train Accuracy: 0.4337, Test Loss: 1.5751, Test Accuracy: 0.4540\n",
      "Epoch 32\n"
     ]
    },
    {
     "name": "stderr",
     "output_type": "stream",
     "text": [
      "100%|██████████| 325/325 [00:06<00:00, 50.10it/s]\n",
      "100%|██████████| 140/140 [00:00<00:00, 155.80it/s]\n"
     ]
    },
    {
     "name": "stdout",
     "output_type": "stream",
     "text": [
      "Epoch 33/50, Train Loss: 1.5948, Train Accuracy: 0.4271, Test Loss: 1.5737, Test Accuracy: 0.4428\n",
      "Epoch 33\n"
     ]
    },
    {
     "name": "stderr",
     "output_type": "stream",
     "text": [
      "100%|██████████| 325/325 [00:06<00:00, 50.46it/s]\n",
      "100%|██████████| 140/140 [00:00<00:00, 155.88it/s]\n"
     ]
    },
    {
     "name": "stdout",
     "output_type": "stream",
     "text": [
      "Epoch 34/50, Train Loss: 1.5797, Train Accuracy: 0.4463, Test Loss: 1.5997, Test Accuracy: 0.4302\n",
      "Epoch 34\n"
     ]
    },
    {
     "name": "stderr",
     "output_type": "stream",
     "text": [
      "100%|██████████| 325/325 [00:06<00:00, 50.81it/s]\n",
      "100%|██████████| 140/140 [00:00<00:00, 156.28it/s]\n"
     ]
    },
    {
     "name": "stdout",
     "output_type": "stream",
     "text": [
      "Epoch 35/50, Train Loss: 1.5784, Train Accuracy: 0.4504, Test Loss: 1.5749, Test Accuracy: 0.4495\n",
      "Epoch 35\n"
     ]
    },
    {
     "name": "stderr",
     "output_type": "stream",
     "text": [
      "100%|██████████| 325/325 [00:06<00:00, 49.42it/s]\n",
      "100%|██████████| 140/140 [00:00<00:00, 153.15it/s]\n"
     ]
    },
    {
     "name": "stdout",
     "output_type": "stream",
     "text": [
      "Epoch 36/50, Train Loss: 1.5687, Train Accuracy: 0.4590, Test Loss: 1.5541, Test Accuracy: 0.4724\n",
      "Epoch 36\n"
     ]
    },
    {
     "name": "stderr",
     "output_type": "stream",
     "text": [
      "100%|██████████| 325/325 [00:06<00:00, 51.07it/s]\n",
      "100%|██████████| 140/140 [00:00<00:00, 154.90it/s]\n"
     ]
    },
    {
     "name": "stdout",
     "output_type": "stream",
     "text": [
      "Epoch 37/50, Train Loss: 1.5552, Train Accuracy: 0.4783, Test Loss: 1.5635, Test Accuracy: 0.4666\n",
      "Epoch 37\n"
     ]
    },
    {
     "name": "stderr",
     "output_type": "stream",
     "text": [
      "100%|██████████| 325/325 [00:06<00:00, 50.11it/s]\n",
      "100%|██████████| 140/140 [00:00<00:00, 155.26it/s]\n"
     ]
    },
    {
     "name": "stdout",
     "output_type": "stream",
     "text": [
      "Epoch 38/50, Train Loss: 1.5589, Train Accuracy: 0.4723, Test Loss: 1.5640, Test Accuracy: 0.4648\n",
      "Epoch 38\n"
     ]
    },
    {
     "name": "stderr",
     "output_type": "stream",
     "text": [
      "100%|██████████| 325/325 [00:06<00:00, 50.75it/s]\n",
      "100%|██████████| 140/140 [00:00<00:00, 156.16it/s]\n"
     ]
    },
    {
     "name": "stdout",
     "output_type": "stream",
     "text": [
      "Epoch 39/50, Train Loss: 1.5571, Train Accuracy: 0.4765, Test Loss: 1.5673, Test Accuracy: 0.4607\n",
      "Epoch 39\n"
     ]
    },
    {
     "name": "stderr",
     "output_type": "stream",
     "text": [
      "100%|██████████| 325/325 [00:06<00:00, 50.92it/s]\n",
      "100%|██████████| 140/140 [00:00<00:00, 155.71it/s]\n"
     ]
    },
    {
     "name": "stdout",
     "output_type": "stream",
     "text": [
      "Epoch 40/50, Train Loss: 1.5483, Train Accuracy: 0.4829, Test Loss: 1.5598, Test Accuracy: 0.4724\n",
      "Epoch 40\n"
     ]
    },
    {
     "name": "stderr",
     "output_type": "stream",
     "text": [
      "100%|██████████| 325/325 [00:06<00:00, 50.38it/s]\n",
      "100%|██████████| 140/140 [00:00<00:00, 155.55it/s]\n"
     ]
    },
    {
     "name": "stdout",
     "output_type": "stream",
     "text": [
      "Epoch 41/50, Train Loss: 1.5476, Train Accuracy: 0.4848, Test Loss: 1.5893, Test Accuracy: 0.4428\n",
      "Epoch 41\n"
     ]
    },
    {
     "name": "stderr",
     "output_type": "stream",
     "text": [
      "100%|██████████| 325/325 [00:06<00:00, 50.61it/s]\n",
      "100%|██████████| 140/140 [00:00<00:00, 154.73it/s]\n"
     ]
    },
    {
     "name": "stdout",
     "output_type": "stream",
     "text": [
      "Epoch 42/50, Train Loss: 1.5403, Train Accuracy: 0.4910, Test Loss: 1.5895, Test Accuracy: 0.4437\n",
      "Epoch 42\n"
     ]
    },
    {
     "name": "stderr",
     "output_type": "stream",
     "text": [
      "100%|██████████| 325/325 [00:06<00:00, 51.05it/s]\n",
      "100%|██████████| 140/140 [00:00<00:00, 149.58it/s]\n"
     ]
    },
    {
     "name": "stdout",
     "output_type": "stream",
     "text": [
      "Epoch 43/50, Train Loss: 1.5291, Train Accuracy: 0.5019, Test Loss: 1.5478, Test Accuracy: 0.4809\n",
      "Epoch 43\n"
     ]
    },
    {
     "name": "stderr",
     "output_type": "stream",
     "text": [
      "100%|██████████| 325/325 [00:06<00:00, 50.65it/s]\n",
      "100%|██████████| 140/140 [00:00<00:00, 156.02it/s]\n"
     ]
    },
    {
     "name": "stdout",
     "output_type": "stream",
     "text": [
      "Epoch 44/50, Train Loss: 1.5295, Train Accuracy: 0.5031, Test Loss: 1.5471, Test Accuracy: 0.4814\n",
      "Epoch 44\n"
     ]
    },
    {
     "name": "stderr",
     "output_type": "stream",
     "text": [
      "100%|██████████| 325/325 [00:06<00:00, 50.39it/s]\n",
      "100%|██████████| 140/140 [00:00<00:00, 155.20it/s]\n"
     ]
    },
    {
     "name": "stdout",
     "output_type": "stream",
     "text": [
      "Epoch 45/50, Train Loss: 1.5222, Train Accuracy: 0.5129, Test Loss: 1.5303, Test Accuracy: 0.5047\n",
      "Epoch 45\n"
     ]
    },
    {
     "name": "stderr",
     "output_type": "stream",
     "text": [
      "100%|██████████| 325/325 [00:06<00:00, 50.42it/s]\n",
      "100%|██████████| 140/140 [00:00<00:00, 155.21it/s]\n"
     ]
    },
    {
     "name": "stdout",
     "output_type": "stream",
     "text": [
      "Epoch 46/50, Train Loss: 1.5088, Train Accuracy: 0.5256, Test Loss: 1.5426, Test Accuracy: 0.4904\n",
      "Epoch 46\n"
     ]
    },
    {
     "name": "stderr",
     "output_type": "stream",
     "text": [
      "100%|██████████| 325/325 [00:06<00:00, 51.02it/s]\n",
      "100%|██████████| 140/140 [00:00<00:00, 153.49it/s]\n"
     ]
    },
    {
     "name": "stdout",
     "output_type": "stream",
     "text": [
      "Epoch 47/50, Train Loss: 1.5104, Train Accuracy: 0.5223, Test Loss: 1.5383, Test Accuracy: 0.4971\n",
      "Epoch 47\n"
     ]
    },
    {
     "name": "stderr",
     "output_type": "stream",
     "text": [
      "100%|██████████| 325/325 [00:06<00:00, 50.57it/s]\n",
      "100%|██████████| 140/140 [00:00<00:00, 156.03it/s]\n"
     ]
    },
    {
     "name": "stdout",
     "output_type": "stream",
     "text": [
      "Epoch 48/50, Train Loss: 1.5061, Train Accuracy: 0.5277, Test Loss: 1.5327, Test Accuracy: 0.5025\n",
      "Epoch 48\n"
     ]
    },
    {
     "name": "stderr",
     "output_type": "stream",
     "text": [
      "100%|██████████| 325/325 [00:06<00:00, 50.43it/s]\n",
      "100%|██████████| 140/140 [00:00<00:00, 156.05it/s]\n"
     ]
    },
    {
     "name": "stdout",
     "output_type": "stream",
     "text": [
      "Epoch 49/50, Train Loss: 1.5026, Train Accuracy: 0.5304, Test Loss: 1.5379, Test Accuracy: 0.4966\n",
      "Epoch 49\n"
     ]
    },
    {
     "name": "stderr",
     "output_type": "stream",
     "text": [
      "100%|██████████| 325/325 [00:06<00:00, 50.87it/s]\n",
      "100%|██████████| 140/140 [00:00<00:00, 154.75it/s]\n"
     ]
    },
    {
     "name": "stdout",
     "output_type": "stream",
     "text": [
      "Epoch 50/50, Train Loss: 1.5046, Train Accuracy: 0.5298, Test Loss: 1.5161, Test Accuracy: 0.5173\n",
      "Batch size: 32 Num of Epochs: 50 lr: 0.01\n",
      "Epoch 0\n"
     ]
    },
    {
     "name": "stderr",
     "output_type": "stream",
     "text": [
      "100%|██████████| 163/163 [00:04<00:00, 36.20it/s]\n",
      "100%|██████████| 70/70 [00:00<00:00, 111.64it/s]\n"
     ]
    },
    {
     "name": "stdout",
     "output_type": "stream",
     "text": [
      "Epoch 1/50, Train Loss: 1.8235, Train Accuracy: 0.1590, Test Loss: 1.8466, Test Accuracy: 0.1723\n",
      "Epoch 1\n"
     ]
    },
    {
     "name": "stderr",
     "output_type": "stream",
     "text": [
      "100%|██████████| 163/163 [00:04<00:00, 39.87it/s]\n",
      "100%|██████████| 70/70 [00:00<00:00, 130.22it/s]\n"
     ]
    },
    {
     "name": "stdout",
     "output_type": "stream",
     "text": [
      "Epoch 2/50, Train Loss: 1.8117, Train Accuracy: 0.1654, Test Loss: 1.7984, Test Accuracy: 0.1736\n",
      "Epoch 2\n"
     ]
    },
    {
     "name": "stderr",
     "output_type": "stream",
     "text": [
      "100%|██████████| 163/163 [00:04<00:00, 39.49it/s]\n",
      "100%|██████████| 70/70 [00:00<00:00, 129.77it/s]\n"
     ]
    },
    {
     "name": "stdout",
     "output_type": "stream",
     "text": [
      "Epoch 3/50, Train Loss: 1.8006, Train Accuracy: 0.1690, Test Loss: 1.8166, Test Accuracy: 0.1651\n",
      "Epoch 3\n"
     ]
    },
    {
     "name": "stderr",
     "output_type": "stream",
     "text": [
      "100%|██████████| 163/163 [00:04<00:00, 38.78it/s]\n",
      "100%|██████████| 70/70 [00:00<00:00, 129.91it/s]\n"
     ]
    },
    {
     "name": "stdout",
     "output_type": "stream",
     "text": [
      "Epoch 4/50, Train Loss: 1.7969, Train Accuracy: 0.1644, Test Loss: 1.8123, Test Accuracy: 0.1763\n",
      "Epoch 4\n"
     ]
    },
    {
     "name": "stderr",
     "output_type": "stream",
     "text": [
      "100%|██████████| 163/163 [00:04<00:00, 39.79it/s]\n",
      "100%|██████████| 70/70 [00:00<00:00, 129.73it/s]\n"
     ]
    },
    {
     "name": "stdout",
     "output_type": "stream",
     "text": [
      "Epoch 5/50, Train Loss: 1.7986, Train Accuracy: 0.1694, Test Loss: 1.7974, Test Accuracy: 0.1678\n",
      "Epoch 5\n"
     ]
    },
    {
     "name": "stderr",
     "output_type": "stream",
     "text": [
      "100%|██████████| 163/163 [00:04<00:00, 39.23it/s]\n",
      "100%|██████████| 70/70 [00:00<00:00, 129.61it/s]\n"
     ]
    },
    {
     "name": "stdout",
     "output_type": "stream",
     "text": [
      "Epoch 6/50, Train Loss: 1.7971, Train Accuracy: 0.1619, Test Loss: 1.7987, Test Accuracy: 0.1682\n",
      "Epoch 6\n"
     ]
    },
    {
     "name": "stderr",
     "output_type": "stream",
     "text": [
      "100%|██████████| 163/163 [00:04<00:00, 39.55it/s]\n",
      "100%|██████████| 70/70 [00:00<00:00, 129.64it/s]\n"
     ]
    },
    {
     "name": "stdout",
     "output_type": "stream",
     "text": [
      "Epoch 7/50, Train Loss: 1.7949, Train Accuracy: 0.1669, Test Loss: 1.7954, Test Accuracy: 0.1682\n",
      "Epoch 7\n"
     ]
    },
    {
     "name": "stderr",
     "output_type": "stream",
     "text": [
      "100%|██████████| 163/163 [00:04<00:00, 39.33it/s]\n",
      "100%|██████████| 70/70 [00:00<00:00, 129.46it/s]\n"
     ]
    },
    {
     "name": "stdout",
     "output_type": "stream",
     "text": [
      "Epoch 8/50, Train Loss: 1.7963, Train Accuracy: 0.1648, Test Loss: 1.7996, Test Accuracy: 0.1660\n",
      "Epoch 8\n"
     ]
    },
    {
     "name": "stderr",
     "output_type": "stream",
     "text": [
      "100%|██████████| 163/163 [00:04<00:00, 39.83it/s]\n",
      "100%|██████████| 70/70 [00:00<00:00, 129.66it/s]\n"
     ]
    },
    {
     "name": "stdout",
     "output_type": "stream",
     "text": [
      "Epoch 9/50, Train Loss: 1.7953, Train Accuracy: 0.1640, Test Loss: 1.8204, Test Accuracy: 0.1655\n",
      "Epoch 9\n"
     ]
    },
    {
     "name": "stderr",
     "output_type": "stream",
     "text": [
      "100%|██████████| 163/163 [00:04<00:00, 39.51it/s]\n",
      "100%|██████████| 70/70 [00:00<00:00, 108.41it/s]\n"
     ]
    },
    {
     "name": "stdout",
     "output_type": "stream",
     "text": [
      "Epoch 10/50, Train Loss: 1.7943, Train Accuracy: 0.1613, Test Loss: 1.7956, Test Accuracy: 0.1673\n",
      "Epoch 10\n"
     ]
    },
    {
     "name": "stderr",
     "output_type": "stream",
     "text": [
      "100%|██████████| 163/163 [00:04<00:00, 39.71it/s]\n",
      "100%|██████████| 70/70 [00:00<00:00, 129.65it/s]\n"
     ]
    },
    {
     "name": "stdout",
     "output_type": "stream",
     "text": [
      "Epoch 11/50, Train Loss: 1.7956, Train Accuracy: 0.1712, Test Loss: 1.7946, Test Accuracy: 0.1700\n",
      "Epoch 11\n"
     ]
    },
    {
     "name": "stderr",
     "output_type": "stream",
     "text": [
      "100%|██████████| 163/163 [00:04<00:00, 39.76it/s]\n",
      "100%|██████████| 70/70 [00:00<00:00, 129.93it/s]\n"
     ]
    },
    {
     "name": "stdout",
     "output_type": "stream",
     "text": [
      "Epoch 12/50, Train Loss: 1.7939, Train Accuracy: 0.1721, Test Loss: 1.8127, Test Accuracy: 0.1624\n",
      "Epoch 12\n"
     ]
    },
    {
     "name": "stderr",
     "output_type": "stream",
     "text": [
      "100%|██████████| 163/163 [00:04<00:00, 39.69it/s]\n",
      "100%|██████████| 70/70 [00:00<00:00, 129.66it/s]\n"
     ]
    },
    {
     "name": "stdout",
     "output_type": "stream",
     "text": [
      "Epoch 13/50, Train Loss: 1.7958, Train Accuracy: 0.1612, Test Loss: 1.8083, Test Accuracy: 0.1705\n",
      "Epoch 13\n"
     ]
    },
    {
     "name": "stderr",
     "output_type": "stream",
     "text": [
      "100%|██████████| 163/163 [00:04<00:00, 39.51it/s]\n",
      "100%|██████████| 70/70 [00:00<00:00, 127.48it/s]\n"
     ]
    },
    {
     "name": "stdout",
     "output_type": "stream",
     "text": [
      "Epoch 14/50, Train Loss: 1.7943, Train Accuracy: 0.1733, Test Loss: 1.7953, Test Accuracy: 0.1682\n",
      "Epoch 14\n"
     ]
    },
    {
     "name": "stderr",
     "output_type": "stream",
     "text": [
      "100%|██████████| 163/163 [00:04<00:00, 39.21it/s]\n",
      "100%|██████████| 70/70 [00:00<00:00, 129.64it/s]\n"
     ]
    },
    {
     "name": "stdout",
     "output_type": "stream",
     "text": [
      "Epoch 15/50, Train Loss: 1.7941, Train Accuracy: 0.1604, Test Loss: 1.7916, Test Accuracy: 0.1687\n",
      "Epoch 15\n"
     ]
    },
    {
     "name": "stderr",
     "output_type": "stream",
     "text": [
      "100%|██████████| 163/163 [00:04<00:00, 39.54it/s]\n",
      "100%|██████████| 70/70 [00:00<00:00, 128.93it/s]\n"
     ]
    },
    {
     "name": "stdout",
     "output_type": "stream",
     "text": [
      "Epoch 16/50, Train Loss: 1.7930, Train Accuracy: 0.1590, Test Loss: 1.7954, Test Accuracy: 0.1687\n",
      "Epoch 16\n"
     ]
    },
    {
     "name": "stderr",
     "output_type": "stream",
     "text": [
      "100%|██████████| 163/163 [00:04<00:00, 39.63it/s]\n",
      "100%|██████████| 70/70 [00:00<00:00, 129.45it/s]\n"
     ]
    },
    {
     "name": "stdout",
     "output_type": "stream",
     "text": [
      "Epoch 17/50, Train Loss: 1.7943, Train Accuracy: 0.1654, Test Loss: 1.7969, Test Accuracy: 0.1732\n",
      "Epoch 17\n"
     ]
    },
    {
     "name": "stderr",
     "output_type": "stream",
     "text": [
      "100%|██████████| 163/163 [00:04<00:00, 39.56it/s]\n",
      "100%|██████████| 70/70 [00:00<00:00, 128.88it/s]\n"
     ]
    },
    {
     "name": "stdout",
     "output_type": "stream",
     "text": [
      "Epoch 18/50, Train Loss: 1.7943, Train Accuracy: 0.1627, Test Loss: 1.8183, Test Accuracy: 0.1678\n",
      "Epoch 18\n"
     ]
    },
    {
     "name": "stderr",
     "output_type": "stream",
     "text": [
      "100%|██████████| 163/163 [00:04<00:00, 39.59it/s]\n",
      "100%|██████████| 70/70 [00:00<00:00, 129.74it/s]\n"
     ]
    },
    {
     "name": "stdout",
     "output_type": "stream",
     "text": [
      "Epoch 19/50, Train Loss: 1.7932, Train Accuracy: 0.1667, Test Loss: 1.7952, Test Accuracy: 0.1669\n",
      "Epoch 19\n"
     ]
    },
    {
     "name": "stderr",
     "output_type": "stream",
     "text": [
      "100%|██████████| 163/163 [00:04<00:00, 39.57it/s]\n",
      "100%|██████████| 70/70 [00:00<00:00, 128.69it/s]\n"
     ]
    },
    {
     "name": "stdout",
     "output_type": "stream",
     "text": [
      "Epoch 20/50, Train Loss: 1.7930, Train Accuracy: 0.1600, Test Loss: 1.7982, Test Accuracy: 0.1651\n",
      "Epoch 20\n"
     ]
    },
    {
     "name": "stderr",
     "output_type": "stream",
     "text": [
      "100%|██████████| 163/163 [00:04<00:00, 39.39it/s]\n",
      "100%|██████████| 70/70 [00:00<00:00, 129.53it/s]\n"
     ]
    },
    {
     "name": "stdout",
     "output_type": "stream",
     "text": [
      "Epoch 21/50, Train Loss: 1.7954, Train Accuracy: 0.1648, Test Loss: 1.7962, Test Accuracy: 0.1660\n",
      "Epoch 21\n"
     ]
    },
    {
     "name": "stderr",
     "output_type": "stream",
     "text": [
      "100%|██████████| 163/163 [00:04<00:00, 39.34it/s]\n",
      "100%|██████████| 70/70 [00:00<00:00, 129.38it/s]\n"
     ]
    },
    {
     "name": "stdout",
     "output_type": "stream",
     "text": [
      "Epoch 22/50, Train Loss: 1.7936, Train Accuracy: 0.1694, Test Loss: 1.7958, Test Accuracy: 0.1664\n",
      "Epoch 22\n"
     ]
    },
    {
     "name": "stderr",
     "output_type": "stream",
     "text": [
      "100%|██████████| 163/163 [00:04<00:00, 39.07it/s]\n",
      "100%|██████████| 70/70 [00:00<00:00, 128.81it/s]\n"
     ]
    },
    {
     "name": "stdout",
     "output_type": "stream",
     "text": [
      "Epoch 23/50, Train Loss: 1.7938, Train Accuracy: 0.1617, Test Loss: 1.7953, Test Accuracy: 0.1678\n",
      "Epoch 23\n"
     ]
    },
    {
     "name": "stderr",
     "output_type": "stream",
     "text": [
      "100%|██████████| 163/163 [00:04<00:00, 39.64it/s]\n",
      "100%|██████████| 70/70 [00:00<00:00, 129.53it/s]\n"
     ]
    },
    {
     "name": "stdout",
     "output_type": "stream",
     "text": [
      "Epoch 24/50, Train Loss: 1.7926, Train Accuracy: 0.1706, Test Loss: 1.7969, Test Accuracy: 0.1705\n",
      "Epoch 24\n"
     ]
    },
    {
     "name": "stderr",
     "output_type": "stream",
     "text": [
      "100%|██████████| 163/163 [00:04<00:00, 38.76it/s]\n",
      "100%|██████████| 70/70 [00:00<00:00, 129.68it/s]\n"
     ]
    },
    {
     "name": "stdout",
     "output_type": "stream",
     "text": [
      "Epoch 25/50, Train Loss: 1.7925, Train Accuracy: 0.1704, Test Loss: 1.7971, Test Accuracy: 0.1669\n",
      "Epoch 25\n"
     ]
    },
    {
     "name": "stderr",
     "output_type": "stream",
     "text": [
      "100%|██████████| 163/163 [00:04<00:00, 39.51it/s]\n",
      "100%|██████████| 70/70 [00:00<00:00, 129.37it/s]\n"
     ]
    },
    {
     "name": "stdout",
     "output_type": "stream",
     "text": [
      "Epoch 26/50, Train Loss: 1.7913, Train Accuracy: 0.1729, Test Loss: 1.8057, Test Accuracy: 0.1655\n",
      "Epoch 26\n"
     ]
    },
    {
     "name": "stderr",
     "output_type": "stream",
     "text": [
      "100%|██████████| 163/163 [00:04<00:00, 39.59it/s]\n",
      "100%|██████████| 70/70 [00:00<00:00, 129.74it/s]\n"
     ]
    },
    {
     "name": "stdout",
     "output_type": "stream",
     "text": [
      "Epoch 27/50, Train Loss: 1.7896, Train Accuracy: 0.1763, Test Loss: 1.7852, Test Accuracy: 0.1830\n",
      "Epoch 27\n"
     ]
    },
    {
     "name": "stderr",
     "output_type": "stream",
     "text": [
      "100%|██████████| 163/163 [00:04<00:00, 38.79it/s]\n",
      "100%|██████████| 70/70 [00:00<00:00, 129.64it/s]\n"
     ]
    },
    {
     "name": "stdout",
     "output_type": "stream",
     "text": [
      "Epoch 28/50, Train Loss: 1.7786, Train Accuracy: 0.1948, Test Loss: 1.7732, Test Accuracy: 0.2149\n",
      "Epoch 28\n"
     ]
    },
    {
     "name": "stderr",
     "output_type": "stream",
     "text": [
      "100%|██████████| 163/163 [00:04<00:00, 39.59it/s]\n",
      "100%|██████████| 70/70 [00:00<00:00, 129.58it/s]\n"
     ]
    },
    {
     "name": "stdout",
     "output_type": "stream",
     "text": [
      "Epoch 29/50, Train Loss: 1.7688, Train Accuracy: 0.2221, Test Loss: 1.7672, Test Accuracy: 0.2225\n",
      "Epoch 29\n"
     ]
    },
    {
     "name": "stderr",
     "output_type": "stream",
     "text": [
      "100%|██████████| 163/163 [00:04<00:00, 39.33it/s]\n",
      "100%|██████████| 70/70 [00:00<00:00, 129.84it/s]\n"
     ]
    },
    {
     "name": "stdout",
     "output_type": "stream",
     "text": [
      "Epoch 30/50, Train Loss: 1.7620, Train Accuracy: 0.2231, Test Loss: 1.7635, Test Accuracy: 0.2324\n",
      "Epoch 30\n"
     ]
    },
    {
     "name": "stderr",
     "output_type": "stream",
     "text": [
      "100%|██████████| 163/163 [00:04<00:00, 39.53it/s]\n",
      "100%|██████████| 70/70 [00:00<00:00, 129.12it/s]\n"
     ]
    },
    {
     "name": "stdout",
     "output_type": "stream",
     "text": [
      "Epoch 31/50, Train Loss: 1.7662, Train Accuracy: 0.2263, Test Loss: 1.7729, Test Accuracy: 0.2225\n",
      "Epoch 31\n"
     ]
    },
    {
     "name": "stderr",
     "output_type": "stream",
     "text": [
      "100%|██████████| 163/163 [00:04<00:00, 37.50it/s]\n",
      "100%|██████████| 70/70 [00:00<00:00, 128.44it/s]\n"
     ]
    },
    {
     "name": "stdout",
     "output_type": "stream",
     "text": [
      "Epoch 32/50, Train Loss: 1.7629, Train Accuracy: 0.2296, Test Loss: 1.7666, Test Accuracy: 0.2144\n",
      "Epoch 32\n"
     ]
    },
    {
     "name": "stderr",
     "output_type": "stream",
     "text": [
      "100%|██████████| 163/163 [00:04<00:00, 39.53it/s]\n",
      "100%|██████████| 70/70 [00:00<00:00, 129.66it/s]\n"
     ]
    },
    {
     "name": "stdout",
     "output_type": "stream",
     "text": [
      "Epoch 33/50, Train Loss: 1.7629, Train Accuracy: 0.2283, Test Loss: 1.7926, Test Accuracy: 0.2122\n",
      "Epoch 33\n"
     ]
    },
    {
     "name": "stderr",
     "output_type": "stream",
     "text": [
      "100%|██████████| 163/163 [00:04<00:00, 39.44it/s]\n",
      "100%|██████████| 70/70 [00:00<00:00, 110.74it/s]\n"
     ]
    },
    {
     "name": "stdout",
     "output_type": "stream",
     "text": [
      "Epoch 34/50, Train Loss: 1.7594, Train Accuracy: 0.2256, Test Loss: 1.7507, Test Accuracy: 0.2472\n",
      "Epoch 34\n"
     ]
    },
    {
     "name": "stderr",
     "output_type": "stream",
     "text": [
      "100%|██████████| 163/163 [00:04<00:00, 39.53it/s]\n",
      "100%|██████████| 70/70 [00:00<00:00, 128.75it/s]\n"
     ]
    },
    {
     "name": "stdout",
     "output_type": "stream",
     "text": [
      "Epoch 35/50, Train Loss: 1.7615, Train Accuracy: 0.2185, Test Loss: 1.8029, Test Accuracy: 0.1696\n",
      "Epoch 35\n"
     ]
    },
    {
     "name": "stderr",
     "output_type": "stream",
     "text": [
      "100%|██████████| 163/163 [00:04<00:00, 39.24it/s]\n",
      "100%|██████████| 70/70 [00:00<00:00, 128.81it/s]\n"
     ]
    },
    {
     "name": "stdout",
     "output_type": "stream",
     "text": [
      "Epoch 36/50, Train Loss: 1.7588, Train Accuracy: 0.2277, Test Loss: 1.7262, Test Accuracy: 0.2647\n",
      "Epoch 36\n"
     ]
    },
    {
     "name": "stderr",
     "output_type": "stream",
     "text": [
      "100%|██████████| 163/163 [00:04<00:00, 38.89it/s]\n",
      "100%|██████████| 70/70 [00:00<00:00, 129.08it/s]\n"
     ]
    },
    {
     "name": "stdout",
     "output_type": "stream",
     "text": [
      "Epoch 37/50, Train Loss: 1.6955, Train Accuracy: 0.3140, Test Loss: 1.7630, Test Accuracy: 0.2642\n",
      "Epoch 37\n"
     ]
    },
    {
     "name": "stderr",
     "output_type": "stream",
     "text": [
      "100%|██████████| 163/163 [00:04<00:00, 38.60it/s]\n",
      "100%|██████████| 70/70 [00:00<00:00, 129.18it/s]\n"
     ]
    },
    {
     "name": "stdout",
     "output_type": "stream",
     "text": [
      "Epoch 38/50, Train Loss: 1.6586, Train Accuracy: 0.3554, Test Loss: 1.6462, Test Accuracy: 0.3674\n",
      "Epoch 38\n"
     ]
    },
    {
     "name": "stderr",
     "output_type": "stream",
     "text": [
      "100%|██████████| 163/163 [00:04<00:00, 38.91it/s]\n",
      "100%|██████████| 70/70 [00:00<00:00, 111.08it/s]\n"
     ]
    },
    {
     "name": "stdout",
     "output_type": "stream",
     "text": [
      "Epoch 39/50, Train Loss: 1.6236, Train Accuracy: 0.3990, Test Loss: 1.6629, Test Accuracy: 0.3571\n",
      "Epoch 39\n"
     ]
    },
    {
     "name": "stderr",
     "output_type": "stream",
     "text": [
      "100%|██████████| 163/163 [00:04<00:00, 39.45it/s]\n",
      "100%|██████████| 70/70 [00:00<00:00, 107.47it/s]\n"
     ]
    },
    {
     "name": "stdout",
     "output_type": "stream",
     "text": [
      "Epoch 40/50, Train Loss: 1.6116, Train Accuracy: 0.4131, Test Loss: 1.6173, Test Accuracy: 0.3988\n",
      "Epoch 40\n"
     ]
    },
    {
     "name": "stderr",
     "output_type": "stream",
     "text": [
      "100%|██████████| 163/163 [00:04<00:00, 39.28it/s]\n",
      "100%|██████████| 70/70 [00:00<00:00, 129.37it/s]\n"
     ]
    },
    {
     "name": "stdout",
     "output_type": "stream",
     "text": [
      "Epoch 41/50, Train Loss: 1.5860, Train Accuracy: 0.4417, Test Loss: 1.6371, Test Accuracy: 0.3903\n",
      "Epoch 41\n"
     ]
    },
    {
     "name": "stderr",
     "output_type": "stream",
     "text": [
      "100%|██████████| 163/163 [00:04<00:00, 39.48it/s]\n",
      "100%|██████████| 70/70 [00:00<00:00, 128.73it/s]\n"
     ]
    },
    {
     "name": "stdout",
     "output_type": "stream",
     "text": [
      "Epoch 42/50, Train Loss: 1.5815, Train Accuracy: 0.4450, Test Loss: 1.6486, Test Accuracy: 0.3773\n",
      "Epoch 42\n"
     ]
    },
    {
     "name": "stderr",
     "output_type": "stream",
     "text": [
      "100%|██████████| 163/163 [00:04<00:00, 39.27it/s]\n",
      "100%|██████████| 70/70 [00:00<00:00, 129.37it/s]\n"
     ]
    },
    {
     "name": "stdout",
     "output_type": "stream",
     "text": [
      "Epoch 43/50, Train Loss: 1.5644, Train Accuracy: 0.4638, Test Loss: 1.6269, Test Accuracy: 0.4033\n",
      "Epoch 43\n"
     ]
    },
    {
     "name": "stderr",
     "output_type": "stream",
     "text": [
      "100%|██████████| 163/163 [00:04<00:00, 38.98it/s]\n",
      "100%|██████████| 70/70 [00:00<00:00, 129.17it/s]\n"
     ]
    },
    {
     "name": "stdout",
     "output_type": "stream",
     "text": [
      "Epoch 44/50, Train Loss: 1.5471, Train Accuracy: 0.4837, Test Loss: 1.5832, Test Accuracy: 0.4513\n",
      "Epoch 44\n"
     ]
    },
    {
     "name": "stderr",
     "output_type": "stream",
     "text": [
      "100%|██████████| 163/163 [00:04<00:00, 39.47it/s]\n",
      "100%|██████████| 70/70 [00:00<00:00, 129.56it/s]\n"
     ]
    },
    {
     "name": "stdout",
     "output_type": "stream",
     "text": [
      "Epoch 45/50, Train Loss: 1.5475, Train Accuracy: 0.4817, Test Loss: 1.5668, Test Accuracy: 0.4598\n",
      "Epoch 45\n"
     ]
    },
    {
     "name": "stderr",
     "output_type": "stream",
     "text": [
      "100%|██████████| 163/163 [00:04<00:00, 38.91it/s]\n",
      "100%|██████████| 70/70 [00:00<00:00, 127.57it/s]\n"
     ]
    },
    {
     "name": "stdout",
     "output_type": "stream",
     "text": [
      "Epoch 46/50, Train Loss: 1.5349, Train Accuracy: 0.4973, Test Loss: 1.5885, Test Accuracy: 0.4347\n",
      "Epoch 46\n"
     ]
    },
    {
     "name": "stderr",
     "output_type": "stream",
     "text": [
      "100%|██████████| 163/163 [00:04<00:00, 39.53it/s]\n",
      "100%|██████████| 70/70 [00:00<00:00, 128.32it/s]\n"
     ]
    },
    {
     "name": "stdout",
     "output_type": "stream",
     "text": [
      "Epoch 47/50, Train Loss: 1.5238, Train Accuracy: 0.5104, Test Loss: 1.6265, Test Accuracy: 0.4060\n",
      "Epoch 47\n"
     ]
    },
    {
     "name": "stderr",
     "output_type": "stream",
     "text": [
      "100%|██████████| 163/163 [00:04<00:00, 38.53it/s]\n",
      "100%|██████████| 70/70 [00:00<00:00, 129.54it/s]\n"
     ]
    },
    {
     "name": "stdout",
     "output_type": "stream",
     "text": [
      "Epoch 48/50, Train Loss: 1.5250, Train Accuracy: 0.5054, Test Loss: 1.5802, Test Accuracy: 0.4500\n",
      "Epoch 48\n"
     ]
    },
    {
     "name": "stderr",
     "output_type": "stream",
     "text": [
      "100%|██████████| 163/163 [00:04<00:00, 37.89it/s]\n",
      "100%|██████████| 70/70 [00:00<00:00, 129.71it/s]\n"
     ]
    },
    {
     "name": "stdout",
     "output_type": "stream",
     "text": [
      "Epoch 49/50, Train Loss: 1.5098, Train Accuracy: 0.5252, Test Loss: 1.5526, Test Accuracy: 0.4805\n",
      "Epoch 49\n"
     ]
    },
    {
     "name": "stderr",
     "output_type": "stream",
     "text": [
      "100%|██████████| 163/163 [00:04<00:00, 39.52it/s]\n",
      "100%|██████████| 70/70 [00:00<00:00, 129.20it/s]\n"
     ]
    },
    {
     "name": "stdout",
     "output_type": "stream",
     "text": [
      "Epoch 50/50, Train Loss: 1.5134, Train Accuracy: 0.5204, Test Loss: 1.5564, Test Accuracy: 0.4738\n",
      "Batch size: 64 Num of Epochs: 50 lr: 0.01\n",
      "Epoch 0\n"
     ]
    },
    {
     "name": "stderr",
     "output_type": "stream",
     "text": [
      "100%|██████████| 82/82 [00:03<00:00, 22.28it/s]\n",
      "100%|██████████| 35/35 [00:00<00:00, 54.98it/s]\n"
     ]
    },
    {
     "name": "stdout",
     "output_type": "stream",
     "text": [
      "Epoch 1/50, Train Loss: 1.8157, Train Accuracy: 0.1760, Test Loss: 1.7922, Test Accuracy: 0.1664\n",
      "Epoch 1\n"
     ]
    },
    {
     "name": "stderr",
     "output_type": "stream",
     "text": [
      "100%|██████████| 82/82 [00:03<00:00, 22.79it/s]\n",
      "100%|██████████| 35/35 [00:00<00:00, 63.05it/s]\n"
     ]
    },
    {
     "name": "stdout",
     "output_type": "stream",
     "text": [
      "Epoch 2/50, Train Loss: 1.8055, Train Accuracy: 0.1800, Test Loss: 1.7947, Test Accuracy: 0.1732\n",
      "Epoch 2\n"
     ]
    },
    {
     "name": "stderr",
     "output_type": "stream",
     "text": [
      "100%|██████████| 82/82 [00:03<00:00, 23.46it/s]\n",
      "100%|██████████| 35/35 [00:00<00:00, 62.47it/s]\n"
     ]
    },
    {
     "name": "stdout",
     "output_type": "stream",
     "text": [
      "Epoch 3/50, Train Loss: 1.7952, Train Accuracy: 0.1656, Test Loss: 1.8080, Test Accuracy: 0.1620\n",
      "Epoch 3\n"
     ]
    },
    {
     "name": "stderr",
     "output_type": "stream",
     "text": [
      "100%|██████████| 82/82 [00:03<00:00, 23.41it/s]\n",
      "100%|██████████| 35/35 [00:00<00:00, 61.95it/s]\n"
     ]
    },
    {
     "name": "stdout",
     "output_type": "stream",
     "text": [
      "Epoch 4/50, Train Loss: 1.8004, Train Accuracy: 0.1702, Test Loss: 1.8629, Test Accuracy: 0.1570\n",
      "Epoch 4\n"
     ]
    },
    {
     "name": "stderr",
     "output_type": "stream",
     "text": [
      "100%|██████████| 82/82 [00:03<00:00, 23.42it/s]\n",
      "100%|██████████| 35/35 [00:00<00:00, 62.36it/s]\n"
     ]
    },
    {
     "name": "stdout",
     "output_type": "stream",
     "text": [
      "Epoch 5/50, Train Loss: 1.7971, Train Accuracy: 0.1731, Test Loss: 1.7959, Test Accuracy: 0.1678\n",
      "Epoch 5\n"
     ]
    },
    {
     "name": "stderr",
     "output_type": "stream",
     "text": [
      "100%|██████████| 82/82 [00:03<00:00, 23.28it/s]\n",
      "100%|██████████| 35/35 [00:00<00:00, 63.01it/s]\n"
     ]
    },
    {
     "name": "stdout",
     "output_type": "stream",
     "text": [
      "Epoch 6/50, Train Loss: 1.7950, Train Accuracy: 0.1715, Test Loss: 1.8018, Test Accuracy: 0.1750\n",
      "Epoch 6\n"
     ]
    },
    {
     "name": "stderr",
     "output_type": "stream",
     "text": [
      "100%|██████████| 82/82 [00:03<00:00, 22.91it/s]\n",
      "100%|██████████| 35/35 [00:00<00:00, 62.80it/s]\n"
     ]
    },
    {
     "name": "stdout",
     "output_type": "stream",
     "text": [
      "Epoch 7/50, Train Loss: 1.7909, Train Accuracy: 0.1854, Test Loss: 1.7930, Test Accuracy: 0.1916\n",
      "Epoch 7\n"
     ]
    },
    {
     "name": "stderr",
     "output_type": "stream",
     "text": [
      "100%|██████████| 82/82 [00:03<00:00, 23.20it/s]\n",
      "100%|██████████| 35/35 [00:00<00:00, 62.96it/s]\n"
     ]
    },
    {
     "name": "stdout",
     "output_type": "stream",
     "text": [
      "Epoch 8/50, Train Loss: 1.7894, Train Accuracy: 0.1940, Test Loss: 1.7989, Test Accuracy: 0.1759\n",
      "Epoch 8\n"
     ]
    },
    {
     "name": "stderr",
     "output_type": "stream",
     "text": [
      "100%|██████████| 82/82 [00:03<00:00, 23.42it/s]\n",
      "100%|██████████| 35/35 [00:00<00:00, 62.28it/s]\n"
     ]
    },
    {
     "name": "stdout",
     "output_type": "stream",
     "text": [
      "Epoch 9/50, Train Loss: 1.7925, Train Accuracy: 0.1904, Test Loss: 1.8076, Test Accuracy: 0.1938\n",
      "Epoch 9\n"
     ]
    },
    {
     "name": "stderr",
     "output_type": "stream",
     "text": [
      "100%|██████████| 82/82 [00:03<00:00, 23.37it/s]\n",
      "100%|██████████| 35/35 [00:00<00:00, 62.40it/s]\n"
     ]
    },
    {
     "name": "stdout",
     "output_type": "stream",
     "text": [
      "Epoch 10/50, Train Loss: 1.7891, Train Accuracy: 0.1954, Test Loss: 1.7936, Test Accuracy: 0.1943\n",
      "Epoch 10\n"
     ]
    },
    {
     "name": "stderr",
     "output_type": "stream",
     "text": [
      "100%|██████████| 82/82 [00:03<00:00, 22.70it/s]\n",
      "100%|██████████| 35/35 [00:00<00:00, 62.23it/s]\n"
     ]
    },
    {
     "name": "stdout",
     "output_type": "stream",
     "text": [
      "Epoch 11/50, Train Loss: 1.7767, Train Accuracy: 0.2244, Test Loss: 1.8003, Test Accuracy: 0.1857\n",
      "Epoch 11\n"
     ]
    },
    {
     "name": "stderr",
     "output_type": "stream",
     "text": [
      "100%|██████████| 82/82 [00:03<00:00, 23.42it/s]\n",
      "100%|██████████| 35/35 [00:00<00:00, 62.88it/s]\n"
     ]
    },
    {
     "name": "stdout",
     "output_type": "stream",
     "text": [
      "Epoch 12/50, Train Loss: 1.7549, Train Accuracy: 0.2552, Test Loss: 1.8130, Test Accuracy: 0.2077\n",
      "Epoch 12\n"
     ]
    },
    {
     "name": "stderr",
     "output_type": "stream",
     "text": [
      "100%|██████████| 82/82 [00:03<00:00, 23.32it/s]\n",
      "100%|██████████| 35/35 [00:00<00:00, 62.81it/s]\n"
     ]
    },
    {
     "name": "stdout",
     "output_type": "stream",
     "text": [
      "Epoch 13/50, Train Loss: 1.7606, Train Accuracy: 0.2479, Test Loss: 1.7455, Test Accuracy: 0.2633\n",
      "Epoch 13\n"
     ]
    },
    {
     "name": "stderr",
     "output_type": "stream",
     "text": [
      "100%|██████████| 82/82 [00:03<00:00, 23.34it/s]\n",
      "100%|██████████| 35/35 [00:00<00:00, 62.38it/s]\n"
     ]
    },
    {
     "name": "stdout",
     "output_type": "stream",
     "text": [
      "Epoch 14/50, Train Loss: 1.7360, Train Accuracy: 0.2700, Test Loss: 1.7754, Test Accuracy: 0.2248\n",
      "Epoch 14\n"
     ]
    },
    {
     "name": "stderr",
     "output_type": "stream",
     "text": [
      "100%|██████████| 82/82 [00:03<00:00, 23.40it/s]\n",
      "100%|██████████| 35/35 [00:00<00:00, 62.10it/s]\n"
     ]
    },
    {
     "name": "stdout",
     "output_type": "stream",
     "text": [
      "Epoch 15/50, Train Loss: 1.7419, Train Accuracy: 0.2775, Test Loss: 1.8708, Test Accuracy: 0.1709\n",
      "Epoch 15\n"
     ]
    },
    {
     "name": "stderr",
     "output_type": "stream",
     "text": [
      "100%|██████████| 82/82 [00:03<00:00, 23.38it/s]\n",
      "100%|██████████| 35/35 [00:00<00:00, 54.30it/s]\n"
     ]
    },
    {
     "name": "stdout",
     "output_type": "stream",
     "text": [
      "Epoch 16/50, Train Loss: 1.7387, Train Accuracy: 0.2877, Test Loss: 1.7937, Test Accuracy: 0.2382\n",
      "Epoch 16\n"
     ]
    },
    {
     "name": "stderr",
     "output_type": "stream",
     "text": [
      "100%|██████████| 82/82 [00:03<00:00, 22.73it/s]\n",
      "100%|██████████| 35/35 [00:00<00:00, 62.21it/s]\n"
     ]
    },
    {
     "name": "stdout",
     "output_type": "stream",
     "text": [
      "Epoch 17/50, Train Loss: 1.7005, Train Accuracy: 0.3142, Test Loss: 1.6848, Test Accuracy: 0.3293\n",
      "Epoch 17\n"
     ]
    },
    {
     "name": "stderr",
     "output_type": "stream",
     "text": [
      "100%|██████████| 82/82 [00:03<00:00, 23.41it/s]\n",
      "100%|██████████| 35/35 [00:00<00:00, 62.54it/s]\n"
     ]
    },
    {
     "name": "stdout",
     "output_type": "stream",
     "text": [
      "Epoch 18/50, Train Loss: 1.6774, Train Accuracy: 0.3385, Test Loss: 1.6902, Test Accuracy: 0.3199\n",
      "Epoch 18\n"
     ]
    },
    {
     "name": "stderr",
     "output_type": "stream",
     "text": [
      "100%|██████████| 82/82 [00:03<00:00, 23.44it/s]\n",
      "100%|██████████| 35/35 [00:00<00:00, 62.58it/s]\n"
     ]
    },
    {
     "name": "stdout",
     "output_type": "stream",
     "text": [
      "Epoch 19/50, Train Loss: 1.6692, Train Accuracy: 0.3502, Test Loss: 1.6702, Test Accuracy: 0.3472\n",
      "Epoch 19\n"
     ]
    },
    {
     "name": "stderr",
     "output_type": "stream",
     "text": [
      "100%|██████████| 82/82 [00:03<00:00, 23.40it/s]\n",
      "100%|██████████| 35/35 [00:00<00:00, 61.84it/s]\n"
     ]
    },
    {
     "name": "stdout",
     "output_type": "stream",
     "text": [
      "Epoch 20/50, Train Loss: 1.6277, Train Accuracy: 0.3935, Test Loss: 1.7039, Test Accuracy: 0.3158\n",
      "Epoch 20\n"
     ]
    },
    {
     "name": "stderr",
     "output_type": "stream",
     "text": [
      "100%|██████████| 82/82 [00:03<00:00, 23.39it/s]\n",
      "100%|██████████| 35/35 [00:00<00:00, 62.12it/s]\n"
     ]
    },
    {
     "name": "stdout",
     "output_type": "stream",
     "text": [
      "Epoch 21/50, Train Loss: 1.6178, Train Accuracy: 0.4042, Test Loss: 1.7102, Test Accuracy: 0.3105\n",
      "Epoch 21\n"
     ]
    },
    {
     "name": "stderr",
     "output_type": "stream",
     "text": [
      "100%|██████████| 82/82 [00:03<00:00, 23.37it/s]\n",
      "100%|██████████| 35/35 [00:00<00:00, 54.60it/s]\n"
     ]
    },
    {
     "name": "stdout",
     "output_type": "stream",
     "text": [
      "Epoch 22/50, Train Loss: 1.6130, Train Accuracy: 0.4156, Test Loss: 1.7940, Test Accuracy: 0.2301\n",
      "Epoch 22\n"
     ]
    },
    {
     "name": "stderr",
     "output_type": "stream",
     "text": [
      "100%|██████████| 82/82 [00:03<00:00, 23.40it/s]\n",
      "100%|██████████| 35/35 [00:00<00:00, 62.22it/s]\n"
     ]
    },
    {
     "name": "stdout",
     "output_type": "stream",
     "text": [
      "Epoch 23/50, Train Loss: 1.5959, Train Accuracy: 0.4277, Test Loss: 1.6001, Test Accuracy: 0.4406\n",
      "Epoch 23\n"
     ]
    },
    {
     "name": "stderr",
     "output_type": "stream",
     "text": [
      "100%|██████████| 82/82 [00:03<00:00, 23.34it/s]\n",
      "100%|██████████| 35/35 [00:00<00:00, 63.21it/s]\n"
     ]
    },
    {
     "name": "stdout",
     "output_type": "stream",
     "text": [
      "Epoch 24/50, Train Loss: 1.5838, Train Accuracy: 0.4454, Test Loss: 1.6640, Test Accuracy: 0.3580\n",
      "Epoch 24\n"
     ]
    },
    {
     "name": "stderr",
     "output_type": "stream",
     "text": [
      "100%|██████████| 82/82 [00:03<00:00, 22.92it/s]\n",
      "100%|██████████| 35/35 [00:00<00:00, 62.20it/s]\n"
     ]
    },
    {
     "name": "stdout",
     "output_type": "stream",
     "text": [
      "Epoch 25/50, Train Loss: 1.5685, Train Accuracy: 0.4623, Test Loss: 1.5886, Test Accuracy: 0.4410\n",
      "Epoch 25\n"
     ]
    },
    {
     "name": "stderr",
     "output_type": "stream",
     "text": [
      "100%|██████████| 82/82 [00:03<00:00, 23.35it/s]\n",
      "100%|██████████| 35/35 [00:00<00:00, 62.43it/s]\n"
     ]
    },
    {
     "name": "stdout",
     "output_type": "stream",
     "text": [
      "Epoch 26/50, Train Loss: 1.5542, Train Accuracy: 0.4769, Test Loss: 1.6772, Test Accuracy: 0.3459\n",
      "Epoch 26\n"
     ]
    },
    {
     "name": "stderr",
     "output_type": "stream",
     "text": [
      "100%|██████████| 82/82 [00:03<00:00, 23.31it/s]\n",
      "100%|██████████| 35/35 [00:00<00:00, 50.18it/s]\n"
     ]
    },
    {
     "name": "stdout",
     "output_type": "stream",
     "text": [
      "Epoch 27/50, Train Loss: 1.5580, Train Accuracy: 0.4690, Test Loss: 1.6289, Test Accuracy: 0.4060\n",
      "Epoch 27\n"
     ]
    },
    {
     "name": "stderr",
     "output_type": "stream",
     "text": [
      "100%|██████████| 82/82 [00:03<00:00, 22.91it/s]\n",
      "100%|██████████| 35/35 [00:00<00:00, 62.76it/s]\n"
     ]
    },
    {
     "name": "stdout",
     "output_type": "stream",
     "text": [
      "Epoch 28/50, Train Loss: 1.5365, Train Accuracy: 0.4994, Test Loss: 1.6264, Test Accuracy: 0.4047\n",
      "Epoch 28\n"
     ]
    },
    {
     "name": "stderr",
     "output_type": "stream",
     "text": [
      "100%|██████████| 82/82 [00:03<00:00, 23.31it/s]\n",
      "100%|██████████| 35/35 [00:00<00:00, 63.14it/s]\n"
     ]
    },
    {
     "name": "stdout",
     "output_type": "stream",
     "text": [
      "Epoch 29/50, Train Loss: 1.5322, Train Accuracy: 0.5012, Test Loss: 1.5717, Test Accuracy: 0.4616\n",
      "Epoch 29\n"
     ]
    },
    {
     "name": "stderr",
     "output_type": "stream",
     "text": [
      "100%|██████████| 82/82 [00:03<00:00, 23.08it/s]\n",
      "100%|██████████| 35/35 [00:00<00:00, 62.74it/s]\n"
     ]
    },
    {
     "name": "stdout",
     "output_type": "stream",
     "text": [
      "Epoch 30/50, Train Loss: 1.5196, Train Accuracy: 0.5108, Test Loss: 1.6172, Test Accuracy: 0.4105\n",
      "Epoch 30\n"
     ]
    },
    {
     "name": "stderr",
     "output_type": "stream",
     "text": [
      "100%|██████████| 82/82 [00:03<00:00, 23.28it/s]\n",
      "100%|██████████| 35/35 [00:00<00:00, 62.88it/s]\n"
     ]
    },
    {
     "name": "stdout",
     "output_type": "stream",
     "text": [
      "Epoch 31/50, Train Loss: 1.5184, Train Accuracy: 0.5169, Test Loss: 1.6074, Test Accuracy: 0.4208\n",
      "Epoch 31\n"
     ]
    },
    {
     "name": "stderr",
     "output_type": "stream",
     "text": [
      "100%|██████████| 82/82 [00:03<00:00, 23.34it/s]\n",
      "100%|██████████| 35/35 [00:00<00:00, 61.93it/s]\n"
     ]
    },
    {
     "name": "stdout",
     "output_type": "stream",
     "text": [
      "Epoch 32/50, Train Loss: 1.5156, Train Accuracy: 0.5192, Test Loss: 1.6962, Test Accuracy: 0.3387\n",
      "Epoch 32\n"
     ]
    },
    {
     "name": "stderr",
     "output_type": "stream",
     "text": [
      "100%|██████████| 82/82 [00:03<00:00, 23.34it/s]\n",
      "100%|██████████| 35/35 [00:00<00:00, 62.20it/s]\n"
     ]
    },
    {
     "name": "stdout",
     "output_type": "stream",
     "text": [
      "Epoch 33/50, Train Loss: 1.5093, Train Accuracy: 0.5221, Test Loss: 1.5504, Test Accuracy: 0.4809\n",
      "Epoch 33\n"
     ]
    },
    {
     "name": "stderr",
     "output_type": "stream",
     "text": [
      "100%|██████████| 82/82 [00:03<00:00, 23.26it/s]\n",
      "100%|██████████| 35/35 [00:00<00:00, 62.89it/s]\n"
     ]
    },
    {
     "name": "stdout",
     "output_type": "stream",
     "text": [
      "Epoch 34/50, Train Loss: 1.4786, Train Accuracy: 0.5565, Test Loss: 1.5536, Test Accuracy: 0.4787\n",
      "Epoch 34\n"
     ]
    },
    {
     "name": "stderr",
     "output_type": "stream",
     "text": [
      "100%|██████████| 82/82 [00:03<00:00, 23.13it/s]\n",
      "100%|██████████| 35/35 [00:00<00:00, 62.71it/s]\n"
     ]
    },
    {
     "name": "stdout",
     "output_type": "stream",
     "text": [
      "Epoch 35/50, Train Loss: 1.4887, Train Accuracy: 0.5438, Test Loss: 1.5635, Test Accuracy: 0.4697\n",
      "Epoch 35\n"
     ]
    },
    {
     "name": "stderr",
     "output_type": "stream",
     "text": [
      "100%|██████████| 82/82 [00:03<00:00, 23.29it/s]\n",
      "100%|██████████| 35/35 [00:00<00:00, 63.10it/s]\n"
     ]
    },
    {
     "name": "stdout",
     "output_type": "stream",
     "text": [
      "Epoch 36/50, Train Loss: 1.4817, Train Accuracy: 0.5546, Test Loss: 1.5207, Test Accuracy: 0.5128\n",
      "Epoch 36\n"
     ]
    },
    {
     "name": "stderr",
     "output_type": "stream",
     "text": [
      "100%|██████████| 82/82 [00:03<00:00, 22.77it/s]\n",
      "100%|██████████| 35/35 [00:00<00:00, 54.06it/s]\n"
     ]
    },
    {
     "name": "stdout",
     "output_type": "stream",
     "text": [
      "Epoch 37/50, Train Loss: 1.4699, Train Accuracy: 0.5688, Test Loss: 1.5829, Test Accuracy: 0.4473\n",
      "Epoch 37\n"
     ]
    },
    {
     "name": "stderr",
     "output_type": "stream",
     "text": [
      "100%|██████████| 82/82 [00:03<00:00, 23.33it/s]\n",
      "100%|██████████| 35/35 [00:00<00:00, 62.88it/s]\n"
     ]
    },
    {
     "name": "stdout",
     "output_type": "stream",
     "text": [
      "Epoch 38/50, Train Loss: 1.4655, Train Accuracy: 0.5696, Test Loss: 1.5437, Test Accuracy: 0.4850\n",
      "Epoch 38\n"
     ]
    },
    {
     "name": "stderr",
     "output_type": "stream",
     "text": [
      "100%|██████████| 82/82 [00:03<00:00, 23.32it/s]\n",
      "100%|██████████| 35/35 [00:00<00:00, 62.38it/s]\n"
     ]
    },
    {
     "name": "stdout",
     "output_type": "stream",
     "text": [
      "Epoch 39/50, Train Loss: 1.4608, Train Accuracy: 0.5752, Test Loss: 1.5877, Test Accuracy: 0.4504\n",
      "Epoch 39\n"
     ]
    },
    {
     "name": "stderr",
     "output_type": "stream",
     "text": [
      "100%|██████████| 82/82 [00:03<00:00, 22.69it/s]\n",
      "100%|██████████| 35/35 [00:00<00:00, 62.56it/s]\n"
     ]
    },
    {
     "name": "stdout",
     "output_type": "stream",
     "text": [
      "Epoch 40/50, Train Loss: 1.4600, Train Accuracy: 0.5773, Test Loss: 1.5892, Test Accuracy: 0.4504\n",
      "Epoch 40\n"
     ]
    },
    {
     "name": "stderr",
     "output_type": "stream",
     "text": [
      "100%|██████████| 82/82 [00:03<00:00, 23.31it/s]\n",
      "100%|██████████| 35/35 [00:00<00:00, 62.20it/s]\n"
     ]
    },
    {
     "name": "stdout",
     "output_type": "stream",
     "text": [
      "Epoch 41/50, Train Loss: 1.4468, Train Accuracy: 0.5885, Test Loss: 1.5467, Test Accuracy: 0.4872\n",
      "Epoch 41\n"
     ]
    },
    {
     "name": "stderr",
     "output_type": "stream",
     "text": [
      "100%|██████████| 82/82 [00:03<00:00, 23.32it/s]\n",
      "100%|██████████| 35/35 [00:00<00:00, 63.00it/s]\n"
     ]
    },
    {
     "name": "stdout",
     "output_type": "stream",
     "text": [
      "Epoch 42/50, Train Loss: 1.4336, Train Accuracy: 0.6031, Test Loss: 1.5289, Test Accuracy: 0.5011\n",
      "Epoch 42\n"
     ]
    },
    {
     "name": "stderr",
     "output_type": "stream",
     "text": [
      "100%|██████████| 82/82 [00:03<00:00, 23.26it/s]\n",
      "100%|██████████| 35/35 [00:00<00:00, 62.79it/s]\n"
     ]
    },
    {
     "name": "stdout",
     "output_type": "stream",
     "text": [
      "Epoch 43/50, Train Loss: 1.4294, Train Accuracy: 0.6100, Test Loss: 1.5212, Test Accuracy: 0.5128\n",
      "Epoch 43\n"
     ]
    },
    {
     "name": "stderr",
     "output_type": "stream",
     "text": [
      "100%|██████████| 82/82 [00:03<00:00, 23.29it/s]\n",
      "100%|██████████| 35/35 [00:00<00:00, 62.44it/s]\n"
     ]
    },
    {
     "name": "stdout",
     "output_type": "stream",
     "text": [
      "Epoch 44/50, Train Loss: 1.4260, Train Accuracy: 0.6108, Test Loss: 1.5275, Test Accuracy: 0.5038\n",
      "Epoch 44\n"
     ]
    },
    {
     "name": "stderr",
     "output_type": "stream",
     "text": [
      "100%|██████████| 82/82 [00:03<00:00, 23.23it/s]\n",
      "100%|██████████| 35/35 [00:00<00:00, 62.91it/s]\n"
     ]
    },
    {
     "name": "stdout",
     "output_type": "stream",
     "text": [
      "Epoch 45/50, Train Loss: 1.4220, Train Accuracy: 0.6156, Test Loss: 1.5949, Test Accuracy: 0.4401\n",
      "Epoch 45\n"
     ]
    },
    {
     "name": "stderr",
     "output_type": "stream",
     "text": [
      "100%|██████████| 82/82 [00:03<00:00, 23.28it/s]\n",
      "100%|██████████| 35/35 [00:00<00:00, 63.01it/s]\n"
     ]
    },
    {
     "name": "stdout",
     "output_type": "stream",
     "text": [
      "Epoch 46/50, Train Loss: 1.4038, Train Accuracy: 0.6373, Test Loss: 1.5099, Test Accuracy: 0.5271\n",
      "Epoch 46\n"
     ]
    },
    {
     "name": "stderr",
     "output_type": "stream",
     "text": [
      "100%|██████████| 82/82 [00:03<00:00, 23.36it/s]\n",
      "100%|██████████| 35/35 [00:00<00:00, 53.16it/s]\n"
     ]
    },
    {
     "name": "stdout",
     "output_type": "stream",
     "text": [
      "Epoch 47/50, Train Loss: 1.4030, Train Accuracy: 0.6381, Test Loss: 1.5936, Test Accuracy: 0.4424\n",
      "Epoch 47\n"
     ]
    },
    {
     "name": "stderr",
     "output_type": "stream",
     "text": [
      "100%|██████████| 82/82 [00:03<00:00, 23.32it/s]\n",
      "100%|██████████| 35/35 [00:00<00:00, 62.21it/s]\n"
     ]
    },
    {
     "name": "stdout",
     "output_type": "stream",
     "text": [
      "Epoch 48/50, Train Loss: 1.4196, Train Accuracy: 0.6165, Test Loss: 1.5169, Test Accuracy: 0.5168\n",
      "Epoch 48\n"
     ]
    },
    {
     "name": "stderr",
     "output_type": "stream",
     "text": [
      "100%|██████████| 82/82 [00:03<00:00, 22.82it/s]\n",
      "100%|██████████| 35/35 [00:00<00:00, 62.86it/s]\n"
     ]
    },
    {
     "name": "stdout",
     "output_type": "stream",
     "text": [
      "Epoch 49/50, Train Loss: 1.4013, Train Accuracy: 0.6354, Test Loss: 1.4987, Test Accuracy: 0.5375\n",
      "Epoch 49\n"
     ]
    },
    {
     "name": "stderr",
     "output_type": "stream",
     "text": [
      "100%|██████████| 82/82 [00:03<00:00, 23.31it/s]\n",
      "100%|██████████| 35/35 [00:00<00:00, 62.41it/s]\n"
     ]
    },
    {
     "name": "stdout",
     "output_type": "stream",
     "text": [
      "Epoch 50/50, Train Loss: 1.3822, Train Accuracy: 0.6577, Test Loss: 1.5172, Test Accuracy: 0.5146\n",
      "Batch size: 16 Num of Epochs: 50 lr: 0.001\n",
      "Epoch 0\n"
     ]
    },
    {
     "name": "stderr",
     "output_type": "stream",
     "text": [
      "100%|██████████| 325/325 [00:06<00:00, 48.90it/s]\n",
      "100%|██████████| 140/140 [00:00<00:00, 150.04it/s]\n"
     ]
    },
    {
     "name": "stdout",
     "output_type": "stream",
     "text": [
      "Epoch 1/50, Train Loss: 1.7747, Train Accuracy: 0.2210, Test Loss: 1.7611, Test Accuracy: 0.2293\n",
      "Epoch 1\n"
     ]
    },
    {
     "name": "stderr",
     "output_type": "stream",
     "text": [
      "100%|██████████| 325/325 [00:06<00:00, 48.83it/s]\n",
      "100%|██████████| 140/140 [00:00<00:00, 149.30it/s]\n"
     ]
    },
    {
     "name": "stdout",
     "output_type": "stream",
     "text": [
      "Epoch 2/50, Train Loss: 1.7437, Train Accuracy: 0.2688, Test Loss: 1.7387, Test Accuracy: 0.2768\n",
      "Epoch 2\n"
     ]
    },
    {
     "name": "stderr",
     "output_type": "stream",
     "text": [
      "100%|██████████| 325/325 [00:06<00:00, 49.08it/s]\n",
      "100%|██████████| 140/140 [00:00<00:00, 148.13it/s]\n"
     ]
    },
    {
     "name": "stdout",
     "output_type": "stream",
     "text": [
      "Epoch 3/50, Train Loss: 1.7195, Train Accuracy: 0.2948, Test Loss: 1.7312, Test Accuracy: 0.2885\n",
      "Epoch 3\n"
     ]
    },
    {
     "name": "stderr",
     "output_type": "stream",
     "text": [
      "100%|██████████| 325/325 [00:06<00:00, 48.12it/s]\n",
      "100%|██████████| 140/140 [00:00<00:00, 148.53it/s]\n"
     ]
    },
    {
     "name": "stdout",
     "output_type": "stream",
     "text": [
      "Epoch 4/50, Train Loss: 1.6981, Train Accuracy: 0.3215, Test Loss: 1.7006, Test Accuracy: 0.3288\n",
      "Epoch 4\n"
     ]
    },
    {
     "name": "stderr",
     "output_type": "stream",
     "text": [
      "100%|██████████| 325/325 [00:06<00:00, 48.91it/s]\n",
      "100%|██████████| 140/140 [00:00<00:00, 148.99it/s]\n"
     ]
    },
    {
     "name": "stdout",
     "output_type": "stream",
     "text": [
      "Epoch 5/50, Train Loss: 1.6816, Train Accuracy: 0.3362, Test Loss: 1.6502, Test Accuracy: 0.3701\n",
      "Epoch 5\n"
     ]
    },
    {
     "name": "stderr",
     "output_type": "stream",
     "text": [
      "100%|██████████| 325/325 [00:06<00:00, 49.43it/s]\n",
      "100%|██████████| 140/140 [00:00<00:00, 149.05it/s]\n"
     ]
    },
    {
     "name": "stdout",
     "output_type": "stream",
     "text": [
      "Epoch 6/50, Train Loss: 1.6447, Train Accuracy: 0.3769, Test Loss: 1.6374, Test Accuracy: 0.3926\n",
      "Epoch 6\n"
     ]
    },
    {
     "name": "stderr",
     "output_type": "stream",
     "text": [
      "100%|██████████| 325/325 [00:06<00:00, 49.09it/s]\n",
      "100%|██████████| 140/140 [00:00<00:00, 148.27it/s]\n"
     ]
    },
    {
     "name": "stdout",
     "output_type": "stream",
     "text": [
      "Epoch 7/50, Train Loss: 1.6321, Train Accuracy: 0.3904, Test Loss: 1.6220, Test Accuracy: 0.4038\n",
      "Epoch 7\n"
     ]
    },
    {
     "name": "stderr",
     "output_type": "stream",
     "text": [
      "100%|██████████| 325/325 [00:06<00:00, 48.60it/s]\n",
      "100%|██████████| 140/140 [00:00<00:00, 147.73it/s]\n"
     ]
    },
    {
     "name": "stdout",
     "output_type": "stream",
     "text": [
      "Epoch 8/50, Train Loss: 1.6102, Train Accuracy: 0.4183, Test Loss: 1.7115, Test Accuracy: 0.3131\n",
      "Epoch 8\n"
     ]
    },
    {
     "name": "stderr",
     "output_type": "stream",
     "text": [
      "100%|██████████| 325/325 [00:06<00:00, 47.84it/s]\n",
      "100%|██████████| 140/140 [00:00<00:00, 148.18it/s]\n"
     ]
    },
    {
     "name": "stdout",
     "output_type": "stream",
     "text": [
      "Epoch 9/50, Train Loss: 1.5893, Train Accuracy: 0.4342, Test Loss: 1.5865, Test Accuracy: 0.4455\n",
      "Epoch 9\n"
     ]
    },
    {
     "name": "stderr",
     "output_type": "stream",
     "text": [
      "100%|██████████| 325/325 [00:06<00:00, 49.19it/s]\n",
      "100%|██████████| 140/140 [00:01<00:00, 133.61it/s]\n"
     ]
    },
    {
     "name": "stdout",
     "output_type": "stream",
     "text": [
      "Epoch 10/50, Train Loss: 1.5695, Train Accuracy: 0.4627, Test Loss: 1.5669, Test Accuracy: 0.4621\n",
      "Epoch 10\n"
     ]
    },
    {
     "name": "stderr",
     "output_type": "stream",
     "text": [
      "100%|██████████| 325/325 [00:06<00:00, 48.57it/s]\n",
      "100%|██████████| 140/140 [00:00<00:00, 148.92it/s]\n"
     ]
    },
    {
     "name": "stdout",
     "output_type": "stream",
     "text": [
      "Epoch 11/50, Train Loss: 1.5544, Train Accuracy: 0.4783, Test Loss: 1.5987, Test Accuracy: 0.4298\n",
      "Epoch 11\n"
     ]
    },
    {
     "name": "stderr",
     "output_type": "stream",
     "text": [
      "100%|██████████| 325/325 [00:06<00:00, 48.70it/s]\n",
      "100%|██████████| 140/140 [00:01<00:00, 132.31it/s]\n"
     ]
    },
    {
     "name": "stdout",
     "output_type": "stream",
     "text": [
      "Epoch 12/50, Train Loss: 1.5445, Train Accuracy: 0.4850, Test Loss: 1.5645, Test Accuracy: 0.4670\n",
      "Epoch 12\n"
     ]
    },
    {
     "name": "stderr",
     "output_type": "stream",
     "text": [
      "100%|██████████| 325/325 [00:06<00:00, 49.23it/s]\n",
      "100%|██████████| 140/140 [00:00<00:00, 148.22it/s]\n"
     ]
    },
    {
     "name": "stdout",
     "output_type": "stream",
     "text": [
      "Epoch 13/50, Train Loss: 1.5366, Train Accuracy: 0.4952, Test Loss: 1.5822, Test Accuracy: 0.4446\n",
      "Epoch 13\n"
     ]
    },
    {
     "name": "stderr",
     "output_type": "stream",
     "text": [
      "100%|██████████| 325/325 [00:06<00:00, 48.93it/s]\n",
      "100%|██████████| 140/140 [00:00<00:00, 148.94it/s]\n"
     ]
    },
    {
     "name": "stdout",
     "output_type": "stream",
     "text": [
      "Epoch 14/50, Train Loss: 1.5140, Train Accuracy: 0.5208, Test Loss: 1.5640, Test Accuracy: 0.4670\n",
      "Epoch 14\n"
     ]
    },
    {
     "name": "stderr",
     "output_type": "stream",
     "text": [
      "100%|██████████| 325/325 [00:06<00:00, 49.07it/s]\n",
      "100%|██████████| 140/140 [00:00<00:00, 148.26it/s]\n"
     ]
    },
    {
     "name": "stdout",
     "output_type": "stream",
     "text": [
      "Epoch 15/50, Train Loss: 1.5046, Train Accuracy: 0.5304, Test Loss: 1.5402, Test Accuracy: 0.4877\n",
      "Epoch 15\n"
     ]
    },
    {
     "name": "stderr",
     "output_type": "stream",
     "text": [
      "100%|██████████| 325/325 [00:06<00:00, 49.26it/s]\n",
      "100%|██████████| 140/140 [00:00<00:00, 147.24it/s]\n"
     ]
    },
    {
     "name": "stdout",
     "output_type": "stream",
     "text": [
      "Epoch 16/50, Train Loss: 1.4972, Train Accuracy: 0.5398, Test Loss: 1.5458, Test Accuracy: 0.4881\n",
      "Epoch 16\n"
     ]
    },
    {
     "name": "stderr",
     "output_type": "stream",
     "text": [
      "100%|██████████| 325/325 [00:06<00:00, 48.68it/s]\n",
      "100%|██████████| 140/140 [00:00<00:00, 149.43it/s]\n"
     ]
    },
    {
     "name": "stdout",
     "output_type": "stream",
     "text": [
      "Epoch 17/50, Train Loss: 1.4919, Train Accuracy: 0.5431, Test Loss: 1.5128, Test Accuracy: 0.5177\n",
      "Epoch 17\n"
     ]
    },
    {
     "name": "stderr",
     "output_type": "stream",
     "text": [
      "100%|██████████| 325/325 [00:06<00:00, 48.84it/s]\n",
      "100%|██████████| 140/140 [00:00<00:00, 149.44it/s]\n"
     ]
    },
    {
     "name": "stdout",
     "output_type": "stream",
     "text": [
      "Epoch 18/50, Train Loss: 1.4761, Train Accuracy: 0.5627, Test Loss: 1.5171, Test Accuracy: 0.5155\n",
      "Epoch 18\n"
     ]
    },
    {
     "name": "stderr",
     "output_type": "stream",
     "text": [
      "100%|██████████| 325/325 [00:06<00:00, 48.66it/s]\n",
      "100%|██████████| 140/140 [00:00<00:00, 148.10it/s]\n"
     ]
    },
    {
     "name": "stdout",
     "output_type": "stream",
     "text": [
      "Epoch 19/50, Train Loss: 1.4619, Train Accuracy: 0.5706, Test Loss: 1.4961, Test Accuracy: 0.5321\n",
      "Epoch 19\n"
     ]
    },
    {
     "name": "stderr",
     "output_type": "stream",
     "text": [
      "100%|██████████| 325/325 [00:06<00:00, 48.31it/s]\n",
      "100%|██████████| 140/140 [00:00<00:00, 148.95it/s]\n"
     ]
    },
    {
     "name": "stdout",
     "output_type": "stream",
     "text": [
      "Epoch 20/50, Train Loss: 1.4489, Train Accuracy: 0.5887, Test Loss: 1.5152, Test Accuracy: 0.5227\n",
      "Epoch 20\n"
     ]
    },
    {
     "name": "stderr",
     "output_type": "stream",
     "text": [
      "100%|██████████| 325/325 [00:06<00:00, 48.88it/s]\n",
      "100%|██████████| 140/140 [00:00<00:00, 148.23it/s]\n"
     ]
    },
    {
     "name": "stdout",
     "output_type": "stream",
     "text": [
      "Epoch 21/50, Train Loss: 1.4474, Train Accuracy: 0.5921, Test Loss: 1.5101, Test Accuracy: 0.5245\n",
      "Epoch 21\n"
     ]
    },
    {
     "name": "stderr",
     "output_type": "stream",
     "text": [
      "100%|██████████| 325/325 [00:06<00:00, 49.40it/s]\n",
      "100%|██████████| 140/140 [00:01<00:00, 131.66it/s]\n"
     ]
    },
    {
     "name": "stdout",
     "output_type": "stream",
     "text": [
      "Epoch 22/50, Train Loss: 1.4360, Train Accuracy: 0.6029, Test Loss: 1.5093, Test Accuracy: 0.5236\n",
      "Epoch 22\n"
     ]
    },
    {
     "name": "stderr",
     "output_type": "stream",
     "text": [
      "100%|██████████| 325/325 [00:06<00:00, 49.30it/s]\n",
      "100%|██████████| 140/140 [00:00<00:00, 148.97it/s]\n"
     ]
    },
    {
     "name": "stdout",
     "output_type": "stream",
     "text": [
      "Epoch 23/50, Train Loss: 1.4232, Train Accuracy: 0.6110, Test Loss: 1.4933, Test Accuracy: 0.5393\n",
      "Epoch 23\n"
     ]
    },
    {
     "name": "stderr",
     "output_type": "stream",
     "text": [
      "100%|██████████| 325/325 [00:06<00:00, 49.16it/s]\n",
      "100%|██████████| 140/140 [00:00<00:00, 148.04it/s]\n"
     ]
    },
    {
     "name": "stdout",
     "output_type": "stream",
     "text": [
      "Epoch 24/50, Train Loss: 1.4089, Train Accuracy: 0.6283, Test Loss: 1.4746, Test Accuracy: 0.5594\n",
      "Epoch 24\n"
     ]
    },
    {
     "name": "stderr",
     "output_type": "stream",
     "text": [
      "100%|██████████| 325/325 [00:06<00:00, 49.01it/s]\n",
      "100%|██████████| 140/140 [00:00<00:00, 148.34it/s]\n"
     ]
    },
    {
     "name": "stdout",
     "output_type": "stream",
     "text": [
      "Epoch 25/50, Train Loss: 1.3972, Train Accuracy: 0.6412, Test Loss: 1.4868, Test Accuracy: 0.5541\n",
      "Epoch 25\n"
     ]
    },
    {
     "name": "stderr",
     "output_type": "stream",
     "text": [
      "100%|██████████| 325/325 [00:06<00:00, 49.28it/s]\n",
      "100%|██████████| 140/140 [00:00<00:00, 148.28it/s]\n"
     ]
    },
    {
     "name": "stdout",
     "output_type": "stream",
     "text": [
      "Epoch 26/50, Train Loss: 1.3897, Train Accuracy: 0.6465, Test Loss: 1.4755, Test Accuracy: 0.5550\n",
      "Epoch 26\n"
     ]
    },
    {
     "name": "stderr",
     "output_type": "stream",
     "text": [
      "100%|██████████| 325/325 [00:06<00:00, 49.32it/s]\n",
      "100%|██████████| 140/140 [00:00<00:00, 147.16it/s]\n"
     ]
    },
    {
     "name": "stdout",
     "output_type": "stream",
     "text": [
      "Epoch 27/50, Train Loss: 1.3831, Train Accuracy: 0.6567, Test Loss: 1.4771, Test Accuracy: 0.5603\n",
      "Epoch 27\n"
     ]
    },
    {
     "name": "stderr",
     "output_type": "stream",
     "text": [
      "100%|██████████| 325/325 [00:06<00:00, 48.74it/s]\n",
      "100%|██████████| 140/140 [00:00<00:00, 148.72it/s]\n"
     ]
    },
    {
     "name": "stdout",
     "output_type": "stream",
     "text": [
      "Epoch 28/50, Train Loss: 1.3825, Train Accuracy: 0.6588, Test Loss: 1.4927, Test Accuracy: 0.5388\n",
      "Epoch 28\n"
     ]
    },
    {
     "name": "stderr",
     "output_type": "stream",
     "text": [
      "100%|██████████| 325/325 [00:06<00:00, 48.62it/s]\n",
      "100%|██████████| 140/140 [00:00<00:00, 148.26it/s]\n"
     ]
    },
    {
     "name": "stdout",
     "output_type": "stream",
     "text": [
      "Epoch 29/50, Train Loss: 1.3751, Train Accuracy: 0.6665, Test Loss: 1.4564, Test Accuracy: 0.5805\n",
      "Epoch 29\n"
     ]
    },
    {
     "name": "stderr",
     "output_type": "stream",
     "text": [
      "100%|██████████| 325/325 [00:06<00:00, 49.45it/s]\n",
      "100%|██████████| 140/140 [00:00<00:00, 148.04it/s]\n"
     ]
    },
    {
     "name": "stdout",
     "output_type": "stream",
     "text": [
      "Epoch 30/50, Train Loss: 1.3611, Train Accuracy: 0.6773, Test Loss: 1.4670, Test Accuracy: 0.5689\n",
      "Epoch 30\n"
     ]
    },
    {
     "name": "stderr",
     "output_type": "stream",
     "text": [
      "100%|██████████| 325/325 [00:06<00:00, 48.13it/s]\n",
      "100%|██████████| 140/140 [00:00<00:00, 147.93it/s]\n"
     ]
    },
    {
     "name": "stdout",
     "output_type": "stream",
     "text": [
      "Epoch 31/50, Train Loss: 1.3570, Train Accuracy: 0.6827, Test Loss: 1.4567, Test Accuracy: 0.5828\n",
      "Epoch 31\n"
     ]
    },
    {
     "name": "stderr",
     "output_type": "stream",
     "text": [
      "100%|██████████| 325/325 [00:06<00:00, 49.06it/s]\n",
      "100%|██████████| 140/140 [00:00<00:00, 148.79it/s]\n"
     ]
    },
    {
     "name": "stdout",
     "output_type": "stream",
     "text": [
      "Epoch 32/50, Train Loss: 1.3526, Train Accuracy: 0.6867, Test Loss: 1.4714, Test Accuracy: 0.5621\n",
      "Epoch 32\n"
     ]
    },
    {
     "name": "stderr",
     "output_type": "stream",
     "text": [
      "100%|██████████| 325/325 [00:06<00:00, 49.29it/s]\n",
      "100%|██████████| 140/140 [00:01<00:00, 134.04it/s]\n"
     ]
    },
    {
     "name": "stdout",
     "output_type": "stream",
     "text": [
      "Epoch 33/50, Train Loss: 1.3471, Train Accuracy: 0.6931, Test Loss: 1.4782, Test Accuracy: 0.5612\n",
      "Epoch 33\n"
     ]
    },
    {
     "name": "stderr",
     "output_type": "stream",
     "text": [
      "100%|██████████| 325/325 [00:06<00:00, 49.23it/s]\n",
      "100%|██████████| 140/140 [00:00<00:00, 149.13it/s]\n"
     ]
    },
    {
     "name": "stdout",
     "output_type": "stream",
     "text": [
      "Epoch 34/50, Train Loss: 1.3386, Train Accuracy: 0.7008, Test Loss: 1.4669, Test Accuracy: 0.5698\n",
      "Epoch 34\n"
     ]
    },
    {
     "name": "stderr",
     "output_type": "stream",
     "text": [
      "100%|██████████| 325/325 [00:06<00:00, 48.65it/s]\n",
      "100%|██████████| 140/140 [00:00<00:00, 147.78it/s]\n"
     ]
    },
    {
     "name": "stdout",
     "output_type": "stream",
     "text": [
      "Epoch 35/50, Train Loss: 1.3460, Train Accuracy: 0.6931, Test Loss: 1.4497, Test Accuracy: 0.5846\n",
      "Epoch 35\n"
     ]
    },
    {
     "name": "stderr",
     "output_type": "stream",
     "text": [
      "100%|██████████| 325/325 [00:06<00:00, 47.23it/s]\n",
      "100%|██████████| 140/140 [00:00<00:00, 148.11it/s]\n"
     ]
    },
    {
     "name": "stdout",
     "output_type": "stream",
     "text": [
      "Epoch 36/50, Train Loss: 1.3248, Train Accuracy: 0.7152, Test Loss: 1.4589, Test Accuracy: 0.5747\n",
      "Epoch 36\n"
     ]
    },
    {
     "name": "stderr",
     "output_type": "stream",
     "text": [
      "100%|██████████| 325/325 [00:06<00:00, 48.63it/s]\n",
      "100%|██████████| 140/140 [00:00<00:00, 149.03it/s]\n"
     ]
    },
    {
     "name": "stdout",
     "output_type": "stream",
     "text": [
      "Epoch 37/50, Train Loss: 1.3194, Train Accuracy: 0.7212, Test Loss: 1.5054, Test Accuracy: 0.5325\n",
      "Epoch 37\n"
     ]
    },
    {
     "name": "stderr",
     "output_type": "stream",
     "text": [
      "100%|██████████| 325/325 [00:06<00:00, 49.09it/s]\n",
      "100%|██████████| 140/140 [00:00<00:00, 149.47it/s]\n"
     ]
    },
    {
     "name": "stdout",
     "output_type": "stream",
     "text": [
      "Epoch 38/50, Train Loss: 1.3246, Train Accuracy: 0.7150, Test Loss: 1.4712, Test Accuracy: 0.5630\n",
      "Epoch 38\n"
     ]
    },
    {
     "name": "stderr",
     "output_type": "stream",
     "text": [
      "100%|██████████| 325/325 [00:06<00:00, 49.47it/s]\n",
      "100%|██████████| 140/140 [00:00<00:00, 148.25it/s]\n"
     ]
    },
    {
     "name": "stdout",
     "output_type": "stream",
     "text": [
      "Epoch 39/50, Train Loss: 1.3078, Train Accuracy: 0.7327, Test Loss: 1.4843, Test Accuracy: 0.5536\n",
      "Epoch 39\n"
     ]
    },
    {
     "name": "stderr",
     "output_type": "stream",
     "text": [
      "100%|██████████| 325/325 [00:06<00:00, 48.62it/s]\n",
      "100%|██████████| 140/140 [00:00<00:00, 147.41it/s]\n"
     ]
    },
    {
     "name": "stdout",
     "output_type": "stream",
     "text": [
      "Epoch 40/50, Train Loss: 1.3025, Train Accuracy: 0.7394, Test Loss: 1.5029, Test Accuracy: 0.5307\n",
      "Epoch 40\n"
     ]
    },
    {
     "name": "stderr",
     "output_type": "stream",
     "text": [
      "100%|██████████| 325/325 [00:06<00:00, 49.02it/s]\n",
      "100%|██████████| 140/140 [00:00<00:00, 148.03it/s]\n"
     ]
    },
    {
     "name": "stdout",
     "output_type": "stream",
     "text": [
      "Epoch 41/50, Train Loss: 1.3089, Train Accuracy: 0.7358, Test Loss: 1.4454, Test Accuracy: 0.5895\n",
      "Epoch 41\n"
     ]
    },
    {
     "name": "stderr",
     "output_type": "stream",
     "text": [
      "100%|██████████| 325/325 [00:06<00:00, 48.66it/s]\n",
      "100%|██████████| 140/140 [00:00<00:00, 148.65it/s]\n"
     ]
    },
    {
     "name": "stdout",
     "output_type": "stream",
     "text": [
      "Epoch 42/50, Train Loss: 1.2937, Train Accuracy: 0.7481, Test Loss: 1.4355, Test Accuracy: 0.5985\n",
      "Epoch 42\n"
     ]
    },
    {
     "name": "stderr",
     "output_type": "stream",
     "text": [
      "100%|██████████| 325/325 [00:06<00:00, 48.79it/s]\n",
      "100%|██████████| 140/140 [00:00<00:00, 148.73it/s]\n"
     ]
    },
    {
     "name": "stdout",
     "output_type": "stream",
     "text": [
      "Epoch 43/50, Train Loss: 1.2931, Train Accuracy: 0.7494, Test Loss: 1.4710, Test Accuracy: 0.5653\n",
      "Epoch 43\n"
     ]
    },
    {
     "name": "stderr",
     "output_type": "stream",
     "text": [
      "100%|██████████| 325/325 [00:06<00:00, 49.24it/s]\n",
      "100%|██████████| 140/140 [00:00<00:00, 149.10it/s]\n"
     ]
    },
    {
     "name": "stdout",
     "output_type": "stream",
     "text": [
      "Epoch 44/50, Train Loss: 1.2858, Train Accuracy: 0.7537, Test Loss: 1.4657, Test Accuracy: 0.5702\n",
      "Epoch 44\n"
     ]
    },
    {
     "name": "stderr",
     "output_type": "stream",
     "text": [
      "100%|██████████| 325/325 [00:06<00:00, 49.38it/s]\n",
      "100%|██████████| 140/140 [00:00<00:00, 148.04it/s]\n"
     ]
    },
    {
     "name": "stdout",
     "output_type": "stream",
     "text": [
      "Epoch 45/50, Train Loss: 1.2870, Train Accuracy: 0.7548, Test Loss: 1.4565, Test Accuracy: 0.5823\n",
      "Epoch 45\n"
     ]
    },
    {
     "name": "stderr",
     "output_type": "stream",
     "text": [
      "100%|██████████| 325/325 [00:06<00:00, 48.81it/s]\n",
      "100%|██████████| 140/140 [00:00<00:00, 148.49it/s]\n"
     ]
    },
    {
     "name": "stdout",
     "output_type": "stream",
     "text": [
      "Epoch 46/50, Train Loss: 1.2829, Train Accuracy: 0.7587, Test Loss: 1.4986, Test Accuracy: 0.5428\n",
      "Epoch 46\n"
     ]
    },
    {
     "name": "stderr",
     "output_type": "stream",
     "text": [
      "100%|██████████| 325/325 [00:06<00:00, 48.65it/s]\n",
      "100%|██████████| 140/140 [00:00<00:00, 148.74it/s]\n"
     ]
    },
    {
     "name": "stdout",
     "output_type": "stream",
     "text": [
      "Epoch 47/50, Train Loss: 1.2797, Train Accuracy: 0.7610, Test Loss: 1.4276, Test Accuracy: 0.6097\n",
      "Epoch 47\n"
     ]
    },
    {
     "name": "stderr",
     "output_type": "stream",
     "text": [
      "100%|██████████| 325/325 [00:06<00:00, 49.27it/s]\n",
      "100%|██████████| 140/140 [00:00<00:00, 148.07it/s]\n"
     ]
    },
    {
     "name": "stdout",
     "output_type": "stream",
     "text": [
      "Epoch 48/50, Train Loss: 1.2836, Train Accuracy: 0.7575, Test Loss: 1.4409, Test Accuracy: 0.5985\n",
      "Epoch 48\n"
     ]
    },
    {
     "name": "stderr",
     "output_type": "stream",
     "text": [
      "100%|██████████| 325/325 [00:06<00:00, 49.34it/s]\n",
      "100%|██████████| 140/140 [00:00<00:00, 148.25it/s]\n"
     ]
    },
    {
     "name": "stdout",
     "output_type": "stream",
     "text": [
      "Epoch 49/50, Train Loss: 1.2729, Train Accuracy: 0.7663, Test Loss: 1.4401, Test Accuracy: 0.5962\n",
      "Epoch 49\n"
     ]
    },
    {
     "name": "stderr",
     "output_type": "stream",
     "text": [
      "100%|██████████| 325/325 [00:06<00:00, 49.25it/s]\n",
      "100%|██████████| 140/140 [00:00<00:00, 147.52it/s]\n"
     ]
    },
    {
     "name": "stdout",
     "output_type": "stream",
     "text": [
      "Epoch 50/50, Train Loss: 1.2648, Train Accuracy: 0.7777, Test Loss: 1.4526, Test Accuracy: 0.5850\n",
      "Batch size: 32 Num of Epochs: 50 lr: 0.001\n",
      "Epoch 0\n"
     ]
    },
    {
     "name": "stderr",
     "output_type": "stream",
     "text": [
      "100%|██████████| 163/163 [00:04<00:00, 38.57it/s]\n",
      "100%|██████████| 70/70 [00:00<00:00, 129.20it/s]\n"
     ]
    },
    {
     "name": "stdout",
     "output_type": "stream",
     "text": [
      "Epoch 1/50, Train Loss: 1.7760, Train Accuracy: 0.2119, Test Loss: 1.7647, Test Accuracy: 0.2221\n",
      "Epoch 1\n"
     ]
    },
    {
     "name": "stderr",
     "output_type": "stream",
     "text": [
      "100%|██████████| 163/163 [00:04<00:00, 37.84it/s]\n",
      "100%|██████████| 70/70 [00:00<00:00, 127.00it/s]\n"
     ]
    },
    {
     "name": "stdout",
     "output_type": "stream",
     "text": [
      "Epoch 2/50, Train Loss: 1.7469, Train Accuracy: 0.2367, Test Loss: 1.7695, Test Accuracy: 0.2369\n",
      "Epoch 2\n"
     ]
    },
    {
     "name": "stderr",
     "output_type": "stream",
     "text": [
      "100%|██████████| 163/163 [00:04<00:00, 39.49it/s]\n",
      "100%|██████████| 70/70 [00:00<00:00, 129.52it/s]\n"
     ]
    },
    {
     "name": "stdout",
     "output_type": "stream",
     "text": [
      "Epoch 3/50, Train Loss: 1.7369, Train Accuracy: 0.2590, Test Loss: 1.7436, Test Accuracy: 0.2521\n",
      "Epoch 3\n"
     ]
    },
    {
     "name": "stderr",
     "output_type": "stream",
     "text": [
      "100%|██████████| 163/163 [00:04<00:00, 39.24it/s]\n",
      "100%|██████████| 70/70 [00:00<00:00, 128.34it/s]\n"
     ]
    },
    {
     "name": "stdout",
     "output_type": "stream",
     "text": [
      "Epoch 4/50, Train Loss: 1.7331, Train Accuracy: 0.2565, Test Loss: 1.7221, Test Accuracy: 0.2732\n",
      "Epoch 4\n"
     ]
    },
    {
     "name": "stderr",
     "output_type": "stream",
     "text": [
      "100%|██████████| 163/163 [00:04<00:00, 39.54it/s]\n",
      "100%|██████████| 70/70 [00:00<00:00, 126.73it/s]\n"
     ]
    },
    {
     "name": "stdout",
     "output_type": "stream",
     "text": [
      "Epoch 5/50, Train Loss: 1.7243, Train Accuracy: 0.2681, Test Loss: 1.7259, Test Accuracy: 0.2678\n",
      "Epoch 5\n"
     ]
    },
    {
     "name": "stderr",
     "output_type": "stream",
     "text": [
      "100%|██████████| 163/163 [00:04<00:00, 38.65it/s]\n",
      "100%|██████████| 70/70 [00:00<00:00, 129.53it/s]\n"
     ]
    },
    {
     "name": "stdout",
     "output_type": "stream",
     "text": [
      "Epoch 6/50, Train Loss: 1.7145, Train Accuracy: 0.2867, Test Loss: 1.7404, Test Accuracy: 0.2557\n",
      "Epoch 6\n"
     ]
    },
    {
     "name": "stderr",
     "output_type": "stream",
     "text": [
      "100%|██████████| 163/163 [00:04<00:00, 39.15it/s]\n",
      "100%|██████████| 70/70 [00:00<00:00, 127.95it/s]\n"
     ]
    },
    {
     "name": "stdout",
     "output_type": "stream",
     "text": [
      "Epoch 7/50, Train Loss: 1.7048, Train Accuracy: 0.2929, Test Loss: 1.7254, Test Accuracy: 0.2768\n",
      "Epoch 7\n"
     ]
    },
    {
     "name": "stderr",
     "output_type": "stream",
     "text": [
      "100%|██████████| 163/163 [00:04<00:00, 39.52it/s]\n",
      "100%|██████████| 70/70 [00:00<00:00, 128.46it/s]\n"
     ]
    },
    {
     "name": "stdout",
     "output_type": "stream",
     "text": [
      "Epoch 8/50, Train Loss: 1.6825, Train Accuracy: 0.3375, Test Loss: 1.6907, Test Accuracy: 0.3203\n",
      "Epoch 8\n"
     ]
    },
    {
     "name": "stderr",
     "output_type": "stream",
     "text": [
      "100%|██████████| 163/163 [00:04<00:00, 39.01it/s]\n",
      "100%|██████████| 70/70 [00:00<00:00, 129.23it/s]\n"
     ]
    },
    {
     "name": "stdout",
     "output_type": "stream",
     "text": [
      "Epoch 9/50, Train Loss: 1.6661, Train Accuracy: 0.3481, Test Loss: 1.6982, Test Accuracy: 0.3122\n",
      "Epoch 9\n"
     ]
    },
    {
     "name": "stderr",
     "output_type": "stream",
     "text": [
      "100%|██████████| 163/163 [00:04<00:00, 38.45it/s]\n",
      "100%|██████████| 70/70 [00:00<00:00, 127.37it/s]\n"
     ]
    },
    {
     "name": "stdout",
     "output_type": "stream",
     "text": [
      "Epoch 10/50, Train Loss: 1.6302, Train Accuracy: 0.3871, Test Loss: 1.7130, Test Accuracy: 0.3091\n",
      "Epoch 10\n"
     ]
    },
    {
     "name": "stderr",
     "output_type": "stream",
     "text": [
      "100%|██████████| 163/163 [00:04<00:00, 39.50it/s]\n",
      "100%|██████████| 70/70 [00:00<00:00, 128.86it/s]\n"
     ]
    },
    {
     "name": "stdout",
     "output_type": "stream",
     "text": [
      "Epoch 11/50, Train Loss: 1.6182, Train Accuracy: 0.3985, Test Loss: 1.6794, Test Accuracy: 0.3423\n",
      "Epoch 11\n"
     ]
    },
    {
     "name": "stderr",
     "output_type": "stream",
     "text": [
      "100%|██████████| 163/163 [00:04<00:00, 39.44it/s]\n",
      "100%|██████████| 70/70 [00:00<00:00, 109.08it/s]\n"
     ]
    },
    {
     "name": "stdout",
     "output_type": "stream",
     "text": [
      "Epoch 12/50, Train Loss: 1.5975, Train Accuracy: 0.4281, Test Loss: 1.6120, Test Accuracy: 0.4087\n",
      "Epoch 12\n"
     ]
    },
    {
     "name": "stderr",
     "output_type": "stream",
     "text": [
      "100%|██████████| 163/163 [00:04<00:00, 39.33it/s]\n",
      "100%|██████████| 70/70 [00:00<00:00, 128.79it/s]\n"
     ]
    },
    {
     "name": "stdout",
     "output_type": "stream",
     "text": [
      "Epoch 13/50, Train Loss: 1.5830, Train Accuracy: 0.4429, Test Loss: 1.6488, Test Accuracy: 0.3674\n",
      "Epoch 13\n"
     ]
    },
    {
     "name": "stderr",
     "output_type": "stream",
     "text": [
      "100%|██████████| 163/163 [00:04<00:00, 39.41it/s]\n",
      "100%|██████████| 70/70 [00:00<00:00, 128.42it/s]\n"
     ]
    },
    {
     "name": "stdout",
     "output_type": "stream",
     "text": [
      "Epoch 14/50, Train Loss: 1.5827, Train Accuracy: 0.4427, Test Loss: 1.6687, Test Accuracy: 0.3495\n",
      "Epoch 14\n"
     ]
    },
    {
     "name": "stderr",
     "output_type": "stream",
     "text": [
      "100%|██████████| 163/163 [00:04<00:00, 39.23it/s]\n",
      "100%|██████████| 70/70 [00:00<00:00, 128.26it/s]\n"
     ]
    },
    {
     "name": "stdout",
     "output_type": "stream",
     "text": [
      "Epoch 15/50, Train Loss: 1.5685, Train Accuracy: 0.4619, Test Loss: 1.6378, Test Accuracy: 0.3903\n",
      "Epoch 15\n"
     ]
    },
    {
     "name": "stderr",
     "output_type": "stream",
     "text": [
      "100%|██████████| 163/163 [00:04<00:00, 38.44it/s]\n",
      "100%|██████████| 70/70 [00:00<00:00, 128.97it/s]\n"
     ]
    },
    {
     "name": "stdout",
     "output_type": "stream",
     "text": [
      "Epoch 16/50, Train Loss: 1.5600, Train Accuracy: 0.4715, Test Loss: 1.6784, Test Accuracy: 0.3522\n",
      "Epoch 16\n"
     ]
    },
    {
     "name": "stderr",
     "output_type": "stream",
     "text": [
      "100%|██████████| 163/163 [00:04<00:00, 39.48it/s]\n",
      "100%|██████████| 70/70 [00:00<00:00, 128.20it/s]\n"
     ]
    },
    {
     "name": "stdout",
     "output_type": "stream",
     "text": [
      "Epoch 17/50, Train Loss: 1.5427, Train Accuracy: 0.4881, Test Loss: 1.5850, Test Accuracy: 0.4406\n",
      "Epoch 17\n"
     ]
    },
    {
     "name": "stderr",
     "output_type": "stream",
     "text": [
      "100%|██████████| 163/163 [00:04<00:00, 39.25it/s]\n",
      "100%|██████████| 70/70 [00:00<00:00, 127.95it/s]\n"
     ]
    },
    {
     "name": "stdout",
     "output_type": "stream",
     "text": [
      "Epoch 18/50, Train Loss: 1.5389, Train Accuracy: 0.4937, Test Loss: 1.6114, Test Accuracy: 0.4222\n",
      "Epoch 18\n"
     ]
    },
    {
     "name": "stderr",
     "output_type": "stream",
     "text": [
      "100%|██████████| 163/163 [00:04<00:00, 39.34it/s]\n",
      "100%|██████████| 70/70 [00:00<00:00, 128.95it/s]\n"
     ]
    },
    {
     "name": "stdout",
     "output_type": "stream",
     "text": [
      "Epoch 19/50, Train Loss: 1.5354, Train Accuracy: 0.4938, Test Loss: 1.5764, Test Accuracy: 0.4531\n",
      "Epoch 19\n"
     ]
    },
    {
     "name": "stderr",
     "output_type": "stream",
     "text": [
      "100%|██████████| 163/163 [00:04<00:00, 39.07it/s]\n",
      "100%|██████████| 70/70 [00:00<00:00, 105.39it/s]\n"
     ]
    },
    {
     "name": "stdout",
     "output_type": "stream",
     "text": [
      "Epoch 20/50, Train Loss: 1.5156, Train Accuracy: 0.5183, Test Loss: 1.5664, Test Accuracy: 0.4616\n",
      "Epoch 20\n"
     ]
    },
    {
     "name": "stderr",
     "output_type": "stream",
     "text": [
      "100%|██████████| 163/163 [00:04<00:00, 39.51it/s]\n",
      "100%|██████████| 70/70 [00:00<00:00, 127.13it/s]\n"
     ]
    },
    {
     "name": "stdout",
     "output_type": "stream",
     "text": [
      "Epoch 21/50, Train Loss: 1.5152, Train Accuracy: 0.5208, Test Loss: 1.6009, Test Accuracy: 0.4320\n",
      "Epoch 21\n"
     ]
    },
    {
     "name": "stderr",
     "output_type": "stream",
     "text": [
      "100%|██████████| 163/163 [00:04<00:00, 39.50it/s]\n",
      "100%|██████████| 70/70 [00:00<00:00, 127.67it/s]\n"
     ]
    },
    {
     "name": "stdout",
     "output_type": "stream",
     "text": [
      "Epoch 22/50, Train Loss: 1.5174, Train Accuracy: 0.5154, Test Loss: 1.5644, Test Accuracy: 0.4630\n",
      "Epoch 22\n"
     ]
    },
    {
     "name": "stderr",
     "output_type": "stream",
     "text": [
      "100%|██████████| 163/163 [00:04<00:00, 39.50it/s]\n",
      "100%|██████████| 70/70 [00:00<00:00, 129.21it/s]\n"
     ]
    },
    {
     "name": "stdout",
     "output_type": "stream",
     "text": [
      "Epoch 23/50, Train Loss: 1.5069, Train Accuracy: 0.5313, Test Loss: 1.5513, Test Accuracy: 0.4747\n",
      "Epoch 23\n"
     ]
    },
    {
     "name": "stderr",
     "output_type": "stream",
     "text": [
      "100%|██████████| 163/163 [00:04<00:00, 39.38it/s]\n",
      "100%|██████████| 70/70 [00:00<00:00, 129.33it/s]\n"
     ]
    },
    {
     "name": "stdout",
     "output_type": "stream",
     "text": [
      "Epoch 24/50, Train Loss: 1.4963, Train Accuracy: 0.5404, Test Loss: 1.5459, Test Accuracy: 0.4859\n",
      "Epoch 24\n"
     ]
    },
    {
     "name": "stderr",
     "output_type": "stream",
     "text": [
      "100%|██████████| 163/163 [00:04<00:00, 39.31it/s]\n",
      "100%|██████████| 70/70 [00:00<00:00, 129.62it/s]\n"
     ]
    },
    {
     "name": "stdout",
     "output_type": "stream",
     "text": [
      "Epoch 25/50, Train Loss: 1.4904, Train Accuracy: 0.5462, Test Loss: 1.5435, Test Accuracy: 0.4899\n",
      "Epoch 25\n"
     ]
    },
    {
     "name": "stderr",
     "output_type": "stream",
     "text": [
      "100%|██████████| 163/163 [00:04<00:00, 39.46it/s]\n",
      "100%|██████████| 70/70 [00:00<00:00, 129.18it/s]\n"
     ]
    },
    {
     "name": "stdout",
     "output_type": "stream",
     "text": [
      "Epoch 26/50, Train Loss: 1.4774, Train Accuracy: 0.5538, Test Loss: 1.5235, Test Accuracy: 0.5101\n",
      "Epoch 26\n"
     ]
    },
    {
     "name": "stderr",
     "output_type": "stream",
     "text": [
      "100%|██████████| 163/163 [00:04<00:00, 38.44it/s]\n",
      "100%|██████████| 70/70 [00:00<00:00, 111.09it/s]\n"
     ]
    },
    {
     "name": "stdout",
     "output_type": "stream",
     "text": [
      "Epoch 27/50, Train Loss: 1.4707, Train Accuracy: 0.5658, Test Loss: 1.5045, Test Accuracy: 0.5262\n",
      "Epoch 27\n"
     ]
    },
    {
     "name": "stderr",
     "output_type": "stream",
     "text": [
      "100%|██████████| 163/163 [00:04<00:00, 39.54it/s]\n",
      "100%|██████████| 70/70 [00:00<00:00, 128.50it/s]\n"
     ]
    },
    {
     "name": "stdout",
     "output_type": "stream",
     "text": [
      "Epoch 28/50, Train Loss: 1.4544, Train Accuracy: 0.5833, Test Loss: 1.5657, Test Accuracy: 0.4702\n",
      "Epoch 28\n"
     ]
    },
    {
     "name": "stderr",
     "output_type": "stream",
     "text": [
      "100%|██████████| 163/163 [00:04<00:00, 39.48it/s]\n",
      "100%|██████████| 70/70 [00:00<00:00, 127.80it/s]\n"
     ]
    },
    {
     "name": "stdout",
     "output_type": "stream",
     "text": [
      "Epoch 29/50, Train Loss: 1.4505, Train Accuracy: 0.5863, Test Loss: 1.5206, Test Accuracy: 0.5096\n",
      "Epoch 29\n"
     ]
    },
    {
     "name": "stderr",
     "output_type": "stream",
     "text": [
      "100%|██████████| 163/163 [00:04<00:00, 39.19it/s]\n",
      "100%|██████████| 70/70 [00:00<00:00, 128.52it/s]\n"
     ]
    },
    {
     "name": "stdout",
     "output_type": "stream",
     "text": [
      "Epoch 30/50, Train Loss: 1.4339, Train Accuracy: 0.6052, Test Loss: 1.5333, Test Accuracy: 0.5011\n",
      "Epoch 30\n"
     ]
    },
    {
     "name": "stderr",
     "output_type": "stream",
     "text": [
      "100%|██████████| 163/163 [00:04<00:00, 38.56it/s]\n",
      "100%|██████████| 70/70 [00:00<00:00, 127.41it/s]\n"
     ]
    },
    {
     "name": "stdout",
     "output_type": "stream",
     "text": [
      "Epoch 31/50, Train Loss: 1.4295, Train Accuracy: 0.6083, Test Loss: 1.4892, Test Accuracy: 0.5473\n",
      "Epoch 31\n"
     ]
    },
    {
     "name": "stderr",
     "output_type": "stream",
     "text": [
      "100%|██████████| 163/163 [00:04<00:00, 39.43it/s]\n",
      "100%|██████████| 70/70 [00:00<00:00, 128.24it/s]\n"
     ]
    },
    {
     "name": "stdout",
     "output_type": "stream",
     "text": [
      "Epoch 32/50, Train Loss: 1.4145, Train Accuracy: 0.6227, Test Loss: 1.4908, Test Accuracy: 0.5437\n",
      "Epoch 32\n"
     ]
    },
    {
     "name": "stderr",
     "output_type": "stream",
     "text": [
      "100%|██████████| 163/163 [00:04<00:00, 39.32it/s]\n",
      "100%|██████████| 70/70 [00:00<00:00, 129.01it/s]\n"
     ]
    },
    {
     "name": "stdout",
     "output_type": "stream",
     "text": [
      "Epoch 33/50, Train Loss: 1.4063, Train Accuracy: 0.6321, Test Loss: 1.4748, Test Accuracy: 0.5563\n",
      "Epoch 33\n"
     ]
    },
    {
     "name": "stderr",
     "output_type": "stream",
     "text": [
      "100%|██████████| 163/163 [00:04<00:00, 38.21it/s]\n",
      "100%|██████████| 70/70 [00:00<00:00, 128.21it/s]\n"
     ]
    },
    {
     "name": "stdout",
     "output_type": "stream",
     "text": [
      "Epoch 34/50, Train Loss: 1.4072, Train Accuracy: 0.6331, Test Loss: 1.4998, Test Accuracy: 0.5366\n",
      "Epoch 34\n"
     ]
    },
    {
     "name": "stderr",
     "output_type": "stream",
     "text": [
      "100%|██████████| 163/163 [00:04<00:00, 39.36it/s]\n",
      "100%|██████████| 70/70 [00:00<00:00, 129.31it/s]\n"
     ]
    },
    {
     "name": "stdout",
     "output_type": "stream",
     "text": [
      "Epoch 35/50, Train Loss: 1.3976, Train Accuracy: 0.6410, Test Loss: 1.5239, Test Accuracy: 0.5105\n",
      "Epoch 35\n"
     ]
    },
    {
     "name": "stderr",
     "output_type": "stream",
     "text": [
      "100%|██████████| 163/163 [00:04<00:00, 38.68it/s]\n",
      "100%|██████████| 70/70 [00:00<00:00, 106.41it/s]\n"
     ]
    },
    {
     "name": "stdout",
     "output_type": "stream",
     "text": [
      "Epoch 36/50, Train Loss: 1.3894, Train Accuracy: 0.6490, Test Loss: 1.4758, Test Accuracy: 0.5630\n",
      "Epoch 36\n"
     ]
    },
    {
     "name": "stderr",
     "output_type": "stream",
     "text": [
      "100%|██████████| 163/163 [00:04<00:00, 39.49it/s]\n",
      "100%|██████████| 70/70 [00:00<00:00, 127.69it/s]\n"
     ]
    },
    {
     "name": "stdout",
     "output_type": "stream",
     "text": [
      "Epoch 37/50, Train Loss: 1.3760, Train Accuracy: 0.6658, Test Loss: 1.4762, Test Accuracy: 0.5626\n",
      "Epoch 37\n"
     ]
    },
    {
     "name": "stderr",
     "output_type": "stream",
     "text": [
      "100%|██████████| 163/163 [00:04<00:00, 39.52it/s]\n",
      "100%|██████████| 70/70 [00:00<00:00, 129.40it/s]\n"
     ]
    },
    {
     "name": "stdout",
     "output_type": "stream",
     "text": [
      "Epoch 38/50, Train Loss: 1.3809, Train Accuracy: 0.6575, Test Loss: 1.5073, Test Accuracy: 0.5276\n",
      "Epoch 38\n"
     ]
    },
    {
     "name": "stderr",
     "output_type": "stream",
     "text": [
      "100%|██████████| 163/163 [00:04<00:00, 38.82it/s]\n",
      "100%|██████████| 70/70 [00:00<00:00, 127.60it/s]\n"
     ]
    },
    {
     "name": "stdout",
     "output_type": "stream",
     "text": [
      "Epoch 39/50, Train Loss: 1.3852, Train Accuracy: 0.6558, Test Loss: 1.4757, Test Accuracy: 0.5603\n",
      "Epoch 39\n"
     ]
    },
    {
     "name": "stderr",
     "output_type": "stream",
     "text": [
      "100%|██████████| 163/163 [00:04<00:00, 39.35it/s]\n",
      "100%|██████████| 70/70 [00:00<00:00, 128.08it/s]\n"
     ]
    },
    {
     "name": "stdout",
     "output_type": "stream",
     "text": [
      "Epoch 40/50, Train Loss: 1.3828, Train Accuracy: 0.6550, Test Loss: 1.5081, Test Accuracy: 0.5298\n",
      "Epoch 40\n"
     ]
    },
    {
     "name": "stderr",
     "output_type": "stream",
     "text": [
      "100%|██████████| 163/163 [00:04<00:00, 39.31it/s]\n",
      "100%|██████████| 70/70 [00:00<00:00, 128.75it/s]\n"
     ]
    },
    {
     "name": "stdout",
     "output_type": "stream",
     "text": [
      "Epoch 41/50, Train Loss: 1.3700, Train Accuracy: 0.6713, Test Loss: 1.4684, Test Accuracy: 0.5693\n",
      "Epoch 41\n"
     ]
    },
    {
     "name": "stderr",
     "output_type": "stream",
     "text": [
      "100%|██████████| 163/163 [00:04<00:00, 39.58it/s]\n",
      "100%|██████████| 70/70 [00:00<00:00, 130.46it/s]\n"
     ]
    },
    {
     "name": "stdout",
     "output_type": "stream",
     "text": [
      "Epoch 42/50, Train Loss: 1.3542, Train Accuracy: 0.6871, Test Loss: 1.4673, Test Accuracy: 0.5675\n",
      "Epoch 42\n"
     ]
    },
    {
     "name": "stderr",
     "output_type": "stream",
     "text": [
      "100%|██████████| 163/163 [00:04<00:00, 38.63it/s]\n",
      "100%|██████████| 70/70 [00:00<00:00, 129.05it/s]\n"
     ]
    },
    {
     "name": "stdout",
     "output_type": "stream",
     "text": [
      "Epoch 43/50, Train Loss: 1.3477, Train Accuracy: 0.6915, Test Loss: 1.4689, Test Accuracy: 0.5657\n",
      "Epoch 43\n"
     ]
    },
    {
     "name": "stderr",
     "output_type": "stream",
     "text": [
      "100%|██████████| 163/163 [00:04<00:00, 39.38it/s]\n",
      "100%|██████████| 70/70 [00:00<00:00, 129.32it/s]\n"
     ]
    },
    {
     "name": "stdout",
     "output_type": "stream",
     "text": [
      "Epoch 44/50, Train Loss: 1.3424, Train Accuracy: 0.6977, Test Loss: 1.4654, Test Accuracy: 0.5720\n",
      "Epoch 44\n"
     ]
    },
    {
     "name": "stderr",
     "output_type": "stream",
     "text": [
      "100%|██████████| 163/163 [00:04<00:00, 39.41it/s]\n",
      "100%|██████████| 70/70 [00:00<00:00, 105.98it/s]\n"
     ]
    },
    {
     "name": "stdout",
     "output_type": "stream",
     "text": [
      "Epoch 45/50, Train Loss: 1.3320, Train Accuracy: 0.7112, Test Loss: 1.4422, Test Accuracy: 0.5935\n",
      "Epoch 45\n"
     ]
    },
    {
     "name": "stderr",
     "output_type": "stream",
     "text": [
      "100%|██████████| 163/163 [00:04<00:00, 39.33it/s]\n",
      "100%|██████████| 70/70 [00:00<00:00, 129.34it/s]\n"
     ]
    },
    {
     "name": "stdout",
     "output_type": "stream",
     "text": [
      "Epoch 46/50, Train Loss: 1.3292, Train Accuracy: 0.7148, Test Loss: 1.4647, Test Accuracy: 0.5716\n",
      "Epoch 46\n"
     ]
    },
    {
     "name": "stderr",
     "output_type": "stream",
     "text": [
      "100%|██████████| 163/163 [00:04<00:00, 39.40it/s]\n",
      "100%|██████████| 70/70 [00:00<00:00, 128.05it/s]\n"
     ]
    },
    {
     "name": "stdout",
     "output_type": "stream",
     "text": [
      "Epoch 47/50, Train Loss: 1.3334, Train Accuracy: 0.7085, Test Loss: 1.4458, Test Accuracy: 0.5917\n",
      "Epoch 47\n"
     ]
    },
    {
     "name": "stderr",
     "output_type": "stream",
     "text": [
      "100%|██████████| 163/163 [00:04<00:00, 38.53it/s]\n",
      "100%|██████████| 70/70 [00:00<00:00, 128.81it/s]\n"
     ]
    },
    {
     "name": "stdout",
     "output_type": "stream",
     "text": [
      "Epoch 48/50, Train Loss: 1.3389, Train Accuracy: 0.7025, Test Loss: 1.4613, Test Accuracy: 0.5738\n",
      "Epoch 48\n"
     ]
    },
    {
     "name": "stderr",
     "output_type": "stream",
     "text": [
      "100%|██████████| 163/163 [00:04<00:00, 39.27it/s]\n",
      "100%|██████████| 70/70 [00:00<00:00, 127.91it/s]\n"
     ]
    },
    {
     "name": "stdout",
     "output_type": "stream",
     "text": [
      "Epoch 49/50, Train Loss: 1.3162, Train Accuracy: 0.7246, Test Loss: 1.4761, Test Accuracy: 0.5563\n",
      "Epoch 49\n"
     ]
    },
    {
     "name": "stderr",
     "output_type": "stream",
     "text": [
      "100%|██████████| 163/163 [00:04<00:00, 38.77it/s]\n",
      "100%|██████████| 70/70 [00:00<00:00, 130.05it/s]\n"
     ]
    },
    {
     "name": "stdout",
     "output_type": "stream",
     "text": [
      "Epoch 50/50, Train Loss: 1.3053, Train Accuracy: 0.7371, Test Loss: 1.4491, Test Accuracy: 0.5877\n",
      "Batch size: 64 Num of Epochs: 50 lr: 0.001\n",
      "Epoch 0\n"
     ]
    },
    {
     "name": "stderr",
     "output_type": "stream",
     "text": [
      "100%|██████████| 82/82 [00:03<00:00, 23.79it/s]\n",
      "100%|██████████| 35/35 [00:00<00:00, 64.81it/s]\n"
     ]
    },
    {
     "name": "stdout",
     "output_type": "stream",
     "text": [
      "Epoch 1/50, Train Loss: 1.7828, Train Accuracy: 0.2125, Test Loss: 1.7939, Test Accuracy: 0.1983\n",
      "Epoch 1\n"
     ]
    },
    {
     "name": "stderr",
     "output_type": "stream",
     "text": [
      "100%|██████████| 82/82 [00:03<00:00, 23.28it/s]\n",
      "100%|██████████| 35/35 [00:00<00:00, 64.81it/s]\n"
     ]
    },
    {
     "name": "stdout",
     "output_type": "stream",
     "text": [
      "Epoch 2/50, Train Loss: 1.7293, Train Accuracy: 0.2848, Test Loss: 1.8210, Test Accuracy: 0.1781\n",
      "Epoch 2\n"
     ]
    },
    {
     "name": "stderr",
     "output_type": "stream",
     "text": [
      "100%|██████████| 82/82 [00:03<00:00, 22.93it/s]\n",
      "100%|██████████| 35/35 [00:00<00:00, 64.77it/s]\n"
     ]
    },
    {
     "name": "stdout",
     "output_type": "stream",
     "text": [
      "Epoch 3/50, Train Loss: 1.7119, Train Accuracy: 0.2981, Test Loss: 1.7567, Test Accuracy: 0.2503\n",
      "Epoch 3\n"
     ]
    },
    {
     "name": "stderr",
     "output_type": "stream",
     "text": [
      "100%|██████████| 82/82 [00:03<00:00, 23.79it/s]\n",
      "100%|██████████| 35/35 [00:00<00:00, 65.14it/s]\n"
     ]
    },
    {
     "name": "stdout",
     "output_type": "stream",
     "text": [
      "Epoch 4/50, Train Loss: 1.6733, Train Accuracy: 0.3452, Test Loss: 1.8002, Test Accuracy: 0.2082\n",
      "Epoch 4\n"
     ]
    },
    {
     "name": "stderr",
     "output_type": "stream",
     "text": [
      "100%|██████████| 82/82 [00:03<00:00, 23.78it/s]\n",
      "100%|██████████| 35/35 [00:00<00:00, 65.05it/s]\n"
     ]
    },
    {
     "name": "stdout",
     "output_type": "stream",
     "text": [
      "Epoch 5/50, Train Loss: 1.6563, Train Accuracy: 0.3652, Test Loss: 1.7268, Test Accuracy: 0.2930\n",
      "Epoch 5\n"
     ]
    },
    {
     "name": "stderr",
     "output_type": "stream",
     "text": [
      "100%|██████████| 82/82 [00:03<00:00, 23.69it/s]\n",
      "100%|██████████| 35/35 [00:00<00:00, 65.19it/s]\n"
     ]
    },
    {
     "name": "stdout",
     "output_type": "stream",
     "text": [
      "Epoch 6/50, Train Loss: 1.6312, Train Accuracy: 0.3988, Test Loss: 1.7471, Test Accuracy: 0.2768\n",
      "Epoch 6\n"
     ]
    },
    {
     "name": "stderr",
     "output_type": "stream",
     "text": [
      "100%|██████████| 82/82 [00:03<00:00, 23.70it/s]\n",
      "100%|██████████| 35/35 [00:00<00:00, 64.82it/s]\n"
     ]
    },
    {
     "name": "stdout",
     "output_type": "stream",
     "text": [
      "Epoch 7/50, Train Loss: 1.6212, Train Accuracy: 0.4027, Test Loss: 1.6690, Test Accuracy: 0.3513\n",
      "Epoch 7\n"
     ]
    },
    {
     "name": "stderr",
     "output_type": "stream",
     "text": [
      "100%|██████████| 82/82 [00:03<00:00, 23.79it/s]\n",
      "100%|██████████| 35/35 [00:00<00:00, 64.97it/s]\n"
     ]
    },
    {
     "name": "stdout",
     "output_type": "stream",
     "text": [
      "Epoch 8/50, Train Loss: 1.5967, Train Accuracy: 0.4337, Test Loss: 1.7080, Test Accuracy: 0.3122\n",
      "Epoch 8\n"
     ]
    },
    {
     "name": "stderr",
     "output_type": "stream",
     "text": [
      "100%|██████████| 82/82 [00:03<00:00, 23.74it/s]\n",
      "100%|██████████| 35/35 [00:00<00:00, 64.93it/s]\n"
     ]
    },
    {
     "name": "stdout",
     "output_type": "stream",
     "text": [
      "Epoch 9/50, Train Loss: 1.5939, Train Accuracy: 0.4373, Test Loss: 1.7039, Test Accuracy: 0.3158\n",
      "Epoch 9\n"
     ]
    },
    {
     "name": "stderr",
     "output_type": "stream",
     "text": [
      "100%|██████████| 82/82 [00:03<00:00, 23.72it/s]\n",
      "100%|██████████| 35/35 [00:00<00:00, 64.62it/s]\n"
     ]
    },
    {
     "name": "stdout",
     "output_type": "stream",
     "text": [
      "Epoch 10/50, Train Loss: 1.5721, Train Accuracy: 0.4615, Test Loss: 1.6404, Test Accuracy: 0.3881\n",
      "Epoch 10\n"
     ]
    },
    {
     "name": "stderr",
     "output_type": "stream",
     "text": [
      "100%|██████████| 82/82 [00:03<00:00, 23.78it/s]\n",
      "100%|██████████| 35/35 [00:00<00:00, 65.21it/s]\n"
     ]
    },
    {
     "name": "stdout",
     "output_type": "stream",
     "text": [
      "Epoch 11/50, Train Loss: 1.5590, Train Accuracy: 0.4713, Test Loss: 1.6123, Test Accuracy: 0.4136\n",
      "Epoch 11\n"
     ]
    },
    {
     "name": "stderr",
     "output_type": "stream",
     "text": [
      "100%|██████████| 82/82 [00:03<00:00, 23.74it/s]\n",
      "100%|██████████| 35/35 [00:00<00:00, 65.32it/s]\n"
     ]
    },
    {
     "name": "stdout",
     "output_type": "stream",
     "text": [
      "Epoch 12/50, Train Loss: 1.5385, Train Accuracy: 0.4977, Test Loss: 1.5596, Test Accuracy: 0.4702\n",
      "Epoch 12\n"
     ]
    },
    {
     "name": "stderr",
     "output_type": "stream",
     "text": [
      "100%|██████████| 82/82 [00:03<00:00, 23.77it/s]\n",
      "100%|██████████| 35/35 [00:00<00:00, 65.39it/s]\n"
     ]
    },
    {
     "name": "stdout",
     "output_type": "stream",
     "text": [
      "Epoch 13/50, Train Loss: 1.5313, Train Accuracy: 0.4975, Test Loss: 1.5786, Test Accuracy: 0.4504\n",
      "Epoch 13\n"
     ]
    },
    {
     "name": "stderr",
     "output_type": "stream",
     "text": [
      "100%|██████████| 82/82 [00:03<00:00, 23.75it/s]\n",
      "100%|██████████| 35/35 [00:00<00:00, 64.58it/s]\n"
     ]
    },
    {
     "name": "stdout",
     "output_type": "stream",
     "text": [
      "Epoch 14/50, Train Loss: 1.5223, Train Accuracy: 0.5125, Test Loss: 1.6415, Test Accuracy: 0.3881\n",
      "Epoch 14\n"
     ]
    },
    {
     "name": "stderr",
     "output_type": "stream",
     "text": [
      "100%|██████████| 82/82 [00:03<00:00, 23.76it/s]\n",
      "100%|██████████| 35/35 [00:00<00:00, 64.62it/s]\n"
     ]
    },
    {
     "name": "stdout",
     "output_type": "stream",
     "text": [
      "Epoch 15/50, Train Loss: 1.5098, Train Accuracy: 0.5231, Test Loss: 1.6097, Test Accuracy: 0.4145\n",
      "Epoch 15\n"
     ]
    },
    {
     "name": "stderr",
     "output_type": "stream",
     "text": [
      "100%|██████████| 82/82 [00:03<00:00, 23.80it/s]\n",
      "100%|██████████| 35/35 [00:00<00:00, 65.41it/s]\n"
     ]
    },
    {
     "name": "stdout",
     "output_type": "stream",
     "text": [
      "Epoch 16/50, Train Loss: 1.5111, Train Accuracy: 0.5235, Test Loss: 1.6021, Test Accuracy: 0.4217\n",
      "Epoch 16\n"
     ]
    },
    {
     "name": "stderr",
     "output_type": "stream",
     "text": [
      "100%|██████████| 82/82 [00:03<00:00, 23.76it/s]\n",
      "100%|██████████| 35/35 [00:00<00:00, 65.31it/s]\n"
     ]
    },
    {
     "name": "stdout",
     "output_type": "stream",
     "text": [
      "Epoch 17/50, Train Loss: 1.4868, Train Accuracy: 0.5510, Test Loss: 1.5391, Test Accuracy: 0.4890\n",
      "Epoch 17\n"
     ]
    },
    {
     "name": "stderr",
     "output_type": "stream",
     "text": [
      "100%|██████████| 82/82 [00:03<00:00, 23.68it/s]\n",
      "100%|██████████| 35/35 [00:00<00:00, 64.95it/s]\n"
     ]
    },
    {
     "name": "stdout",
     "output_type": "stream",
     "text": [
      "Epoch 18/50, Train Loss: 1.4872, Train Accuracy: 0.5458, Test Loss: 1.5936, Test Accuracy: 0.4379\n",
      "Epoch 18\n"
     ]
    },
    {
     "name": "stderr",
     "output_type": "stream",
     "text": [
      "100%|██████████| 82/82 [00:03<00:00, 23.67it/s]\n",
      "100%|██████████| 35/35 [00:00<00:00, 64.82it/s]\n"
     ]
    },
    {
     "name": "stdout",
     "output_type": "stream",
     "text": [
      "Epoch 19/50, Train Loss: 1.4625, Train Accuracy: 0.5744, Test Loss: 1.5598, Test Accuracy: 0.4729\n",
      "Epoch 19\n"
     ]
    },
    {
     "name": "stderr",
     "output_type": "stream",
     "text": [
      "100%|██████████| 82/82 [00:03<00:00, 23.77it/s]\n",
      "100%|██████████| 35/35 [00:00<00:00, 65.33it/s]\n"
     ]
    },
    {
     "name": "stdout",
     "output_type": "stream",
     "text": [
      "Epoch 20/50, Train Loss: 1.4572, Train Accuracy: 0.5792, Test Loss: 1.5252, Test Accuracy: 0.5052\n",
      "Epoch 20\n"
     ]
    },
    {
     "name": "stderr",
     "output_type": "stream",
     "text": [
      "100%|██████████| 82/82 [00:03<00:00, 23.72it/s]\n",
      "100%|██████████| 35/35 [00:00<00:00, 64.74it/s]\n"
     ]
    },
    {
     "name": "stdout",
     "output_type": "stream",
     "text": [
      "Epoch 21/50, Train Loss: 1.4422, Train Accuracy: 0.5931, Test Loss: 1.6227, Test Accuracy: 0.4069\n",
      "Epoch 21\n"
     ]
    },
    {
     "name": "stderr",
     "output_type": "stream",
     "text": [
      "100%|██████████| 82/82 [00:03<00:00, 23.77it/s]\n",
      "100%|██████████| 35/35 [00:00<00:00, 65.26it/s]\n"
     ]
    },
    {
     "name": "stdout",
     "output_type": "stream",
     "text": [
      "Epoch 22/50, Train Loss: 1.4180, Train Accuracy: 0.6202, Test Loss: 1.5069, Test Accuracy: 0.5294\n",
      "Epoch 22\n"
     ]
    },
    {
     "name": "stderr",
     "output_type": "stream",
     "text": [
      "100%|██████████| 82/82 [00:03<00:00, 23.76it/s]\n",
      "100%|██████████| 35/35 [00:00<00:00, 64.82it/s]\n"
     ]
    },
    {
     "name": "stdout",
     "output_type": "stream",
     "text": [
      "Epoch 23/50, Train Loss: 1.4195, Train Accuracy: 0.6217, Test Loss: 1.6348, Test Accuracy: 0.3966\n",
      "Epoch 23\n"
     ]
    },
    {
     "name": "stderr",
     "output_type": "stream",
     "text": [
      "100%|██████████| 82/82 [00:03<00:00, 23.75it/s]\n",
      "100%|██████████| 35/35 [00:00<00:00, 64.94it/s]\n"
     ]
    },
    {
     "name": "stdout",
     "output_type": "stream",
     "text": [
      "Epoch 24/50, Train Loss: 1.4215, Train Accuracy: 0.6204, Test Loss: 1.5279, Test Accuracy: 0.5087\n",
      "Epoch 24\n"
     ]
    },
    {
     "name": "stderr",
     "output_type": "stream",
     "text": [
      "100%|██████████| 82/82 [00:03<00:00, 23.73it/s]\n",
      "100%|██████████| 35/35 [00:00<00:00, 64.53it/s]\n"
     ]
    },
    {
     "name": "stdout",
     "output_type": "stream",
     "text": [
      "Epoch 25/50, Train Loss: 1.4194, Train Accuracy: 0.6171, Test Loss: 1.5311, Test Accuracy: 0.4971\n",
      "Epoch 25\n"
     ]
    },
    {
     "name": "stderr",
     "output_type": "stream",
     "text": [
      "100%|██████████| 82/82 [00:03<00:00, 23.74it/s]\n",
      "100%|██████████| 35/35 [00:00<00:00, 60.10it/s]\n"
     ]
    },
    {
     "name": "stdout",
     "output_type": "stream",
     "text": [
      "Epoch 26/50, Train Loss: 1.4095, Train Accuracy: 0.6313, Test Loss: 1.5486, Test Accuracy: 0.4854\n",
      "Epoch 26\n"
     ]
    },
    {
     "name": "stderr",
     "output_type": "stream",
     "text": [
      "100%|██████████| 82/82 [00:03<00:00, 23.74it/s]\n",
      "100%|██████████| 35/35 [00:00<00:00, 64.85it/s]\n"
     ]
    },
    {
     "name": "stdout",
     "output_type": "stream",
     "text": [
      "Epoch 27/50, Train Loss: 1.3941, Train Accuracy: 0.6452, Test Loss: 1.4900, Test Accuracy: 0.5428\n",
      "Epoch 27\n"
     ]
    },
    {
     "name": "stderr",
     "output_type": "stream",
     "text": [
      "100%|██████████| 82/82 [00:03<00:00, 23.75it/s]\n",
      "100%|██████████| 35/35 [00:00<00:00, 65.13it/s]\n"
     ]
    },
    {
     "name": "stdout",
     "output_type": "stream",
     "text": [
      "Epoch 28/50, Train Loss: 1.3757, Train Accuracy: 0.6625, Test Loss: 1.5331, Test Accuracy: 0.5056\n",
      "Epoch 28\n"
     ]
    },
    {
     "name": "stderr",
     "output_type": "stream",
     "text": [
      "100%|██████████| 82/82 [00:03<00:00, 23.70it/s]\n",
      "100%|██████████| 35/35 [00:00<00:00, 64.70it/s]\n"
     ]
    },
    {
     "name": "stdout",
     "output_type": "stream",
     "text": [
      "Epoch 29/50, Train Loss: 1.3688, Train Accuracy: 0.6746, Test Loss: 1.5419, Test Accuracy: 0.4930\n",
      "Epoch 29\n"
     ]
    },
    {
     "name": "stderr",
     "output_type": "stream",
     "text": [
      "100%|██████████| 82/82 [00:03<00:00, 23.73it/s]\n",
      "100%|██████████| 35/35 [00:00<00:00, 64.80it/s]\n"
     ]
    },
    {
     "name": "stdout",
     "output_type": "stream",
     "text": [
      "Epoch 30/50, Train Loss: 1.3626, Train Accuracy: 0.6758, Test Loss: 1.4747, Test Accuracy: 0.5617\n",
      "Epoch 30\n"
     ]
    },
    {
     "name": "stderr",
     "output_type": "stream",
     "text": [
      "100%|██████████| 82/82 [00:03<00:00, 23.75it/s]\n",
      "100%|██████████| 35/35 [00:00<00:00, 65.17it/s]\n"
     ]
    },
    {
     "name": "stdout",
     "output_type": "stream",
     "text": [
      "Epoch 31/50, Train Loss: 1.3632, Train Accuracy: 0.6771, Test Loss: 1.4759, Test Accuracy: 0.5563\n",
      "Epoch 31\n"
     ]
    },
    {
     "name": "stderr",
     "output_type": "stream",
     "text": [
      "100%|██████████| 82/82 [00:03<00:00, 23.68it/s]\n",
      "100%|██████████| 35/35 [00:00<00:00, 64.81it/s]\n"
     ]
    },
    {
     "name": "stdout",
     "output_type": "stream",
     "text": [
      "Epoch 32/50, Train Loss: 1.3476, Train Accuracy: 0.6944, Test Loss: 1.5164, Test Accuracy: 0.5200\n",
      "Epoch 32\n"
     ]
    },
    {
     "name": "stderr",
     "output_type": "stream",
     "text": [
      "100%|██████████| 82/82 [00:03<00:00, 23.67it/s]\n",
      "100%|██████████| 35/35 [00:00<00:00, 53.30it/s]\n"
     ]
    },
    {
     "name": "stdout",
     "output_type": "stream",
     "text": [
      "Epoch 33/50, Train Loss: 1.3452, Train Accuracy: 0.6944, Test Loss: 1.6061, Test Accuracy: 0.4307\n",
      "Epoch 33\n"
     ]
    },
    {
     "name": "stderr",
     "output_type": "stream",
     "text": [
      "100%|██████████| 82/82 [00:03<00:00, 23.74it/s]\n",
      "100%|██████████| 35/35 [00:00<00:00, 65.22it/s]\n"
     ]
    },
    {
     "name": "stdout",
     "output_type": "stream",
     "text": [
      "Epoch 34/50, Train Loss: 1.3337, Train Accuracy: 0.7050, Test Loss: 1.4862, Test Accuracy: 0.5487\n",
      "Epoch 34\n"
     ]
    },
    {
     "name": "stderr",
     "output_type": "stream",
     "text": [
      "100%|██████████| 82/82 [00:03<00:00, 23.71it/s]\n",
      "100%|██████████| 35/35 [00:00<00:00, 65.25it/s]\n"
     ]
    },
    {
     "name": "stdout",
     "output_type": "stream",
     "text": [
      "Epoch 35/50, Train Loss: 1.3169, Train Accuracy: 0.7248, Test Loss: 1.4684, Test Accuracy: 0.5680\n",
      "Epoch 35\n"
     ]
    },
    {
     "name": "stderr",
     "output_type": "stream",
     "text": [
      "100%|██████████| 82/82 [00:03<00:00, 23.72it/s]\n",
      "100%|██████████| 35/35 [00:00<00:00, 65.33it/s]\n"
     ]
    },
    {
     "name": "stdout",
     "output_type": "stream",
     "text": [
      "Epoch 36/50, Train Loss: 1.3185, Train Accuracy: 0.7269, Test Loss: 1.4847, Test Accuracy: 0.5541\n",
      "Epoch 36\n"
     ]
    },
    {
     "name": "stderr",
     "output_type": "stream",
     "text": [
      "100%|██████████| 82/82 [00:03<00:00, 23.70it/s]\n",
      "100%|██████████| 35/35 [00:00<00:00, 64.81it/s]\n"
     ]
    },
    {
     "name": "stdout",
     "output_type": "stream",
     "text": [
      "Epoch 37/50, Train Loss: 1.3091, Train Accuracy: 0.7358, Test Loss: 1.4793, Test Accuracy: 0.5545\n",
      "Epoch 37\n"
     ]
    },
    {
     "name": "stderr",
     "output_type": "stream",
     "text": [
      "100%|██████████| 82/82 [00:03<00:00, 23.73it/s]\n",
      "100%|██████████| 35/35 [00:00<00:00, 64.94it/s]\n"
     ]
    },
    {
     "name": "stdout",
     "output_type": "stream",
     "text": [
      "Epoch 38/50, Train Loss: 1.3092, Train Accuracy: 0.7331, Test Loss: 1.4703, Test Accuracy: 0.5644\n",
      "Epoch 38\n"
     ]
    },
    {
     "name": "stderr",
     "output_type": "stream",
     "text": [
      "100%|██████████| 82/82 [00:03<00:00, 23.74it/s]\n",
      "100%|██████████| 35/35 [00:00<00:00, 65.49it/s]\n"
     ]
    },
    {
     "name": "stdout",
     "output_type": "stream",
     "text": [
      "Epoch 39/50, Train Loss: 1.3053, Train Accuracy: 0.7373, Test Loss: 1.4794, Test Accuracy: 0.5536\n",
      "Epoch 39\n"
     ]
    },
    {
     "name": "stderr",
     "output_type": "stream",
     "text": [
      "100%|██████████| 82/82 [00:03<00:00, 23.76it/s]\n",
      "100%|██████████| 35/35 [00:00<00:00, 65.43it/s]\n"
     ]
    },
    {
     "name": "stdout",
     "output_type": "stream",
     "text": [
      "Epoch 40/50, Train Loss: 1.2895, Train Accuracy: 0.7540, Test Loss: 1.4404, Test Accuracy: 0.5971\n",
      "Epoch 40\n"
     ]
    },
    {
     "name": "stderr",
     "output_type": "stream",
     "text": [
      "100%|██████████| 82/82 [00:03<00:00, 23.04it/s]\n",
      "100%|██████████| 35/35 [00:00<00:00, 64.70it/s]\n"
     ]
    },
    {
     "name": "stdout",
     "output_type": "stream",
     "text": [
      "Epoch 41/50, Train Loss: 1.2831, Train Accuracy: 0.7623, Test Loss: 1.4572, Test Accuracy: 0.5769\n",
      "Epoch 41\n"
     ]
    },
    {
     "name": "stderr",
     "output_type": "stream",
     "text": [
      "100%|██████████| 82/82 [00:03<00:00, 23.75it/s]\n",
      "100%|██████████| 35/35 [00:00<00:00, 65.20it/s]\n"
     ]
    },
    {
     "name": "stdout",
     "output_type": "stream",
     "text": [
      "Epoch 42/50, Train Loss: 1.2712, Train Accuracy: 0.7715, Test Loss: 1.4580, Test Accuracy: 0.5823\n",
      "Epoch 42\n"
     ]
    },
    {
     "name": "stderr",
     "output_type": "stream",
     "text": [
      "100%|██████████| 82/82 [00:03<00:00, 23.76it/s]\n",
      "100%|██████████| 35/35 [00:00<00:00, 64.80it/s]\n"
     ]
    },
    {
     "name": "stdout",
     "output_type": "stream",
     "text": [
      "Epoch 43/50, Train Loss: 1.2672, Train Accuracy: 0.7758, Test Loss: 1.4469, Test Accuracy: 0.5926\n",
      "Epoch 43\n"
     ]
    },
    {
     "name": "stderr",
     "output_type": "stream",
     "text": [
      "100%|██████████| 82/82 [00:03<00:00, 23.71it/s]\n",
      "100%|██████████| 35/35 [00:00<00:00, 65.37it/s]\n"
     ]
    },
    {
     "name": "stdout",
     "output_type": "stream",
     "text": [
      "Epoch 44/50, Train Loss: 1.2757, Train Accuracy: 0.7663, Test Loss: 1.4906, Test Accuracy: 0.5451\n",
      "Epoch 44\n"
     ]
    },
    {
     "name": "stderr",
     "output_type": "stream",
     "text": [
      "100%|██████████| 82/82 [00:03<00:00, 23.73it/s]\n",
      "100%|██████████| 35/35 [00:00<00:00, 65.17it/s]\n"
     ]
    },
    {
     "name": "stdout",
     "output_type": "stream",
     "text": [
      "Epoch 45/50, Train Loss: 1.2817, Train Accuracy: 0.7579, Test Loss: 1.5858, Test Accuracy: 0.4531\n",
      "Epoch 45\n"
     ]
    },
    {
     "name": "stderr",
     "output_type": "stream",
     "text": [
      "100%|██████████| 82/82 [00:03<00:00, 23.72it/s]\n",
      "100%|██████████| 35/35 [00:00<00:00, 57.61it/s]\n"
     ]
    },
    {
     "name": "stdout",
     "output_type": "stream",
     "text": [
      "Epoch 46/50, Train Loss: 1.2677, Train Accuracy: 0.7731, Test Loss: 1.4477, Test Accuracy: 0.5913\n",
      "Epoch 46\n"
     ]
    },
    {
     "name": "stderr",
     "output_type": "stream",
     "text": [
      "100%|██████████| 82/82 [00:03<00:00, 23.74it/s]\n",
      "100%|██████████| 35/35 [00:00<00:00, 65.24it/s]\n"
     ]
    },
    {
     "name": "stdout",
     "output_type": "stream",
     "text": [
      "Epoch 47/50, Train Loss: 1.2496, Train Accuracy: 0.7929, Test Loss: 1.4693, Test Accuracy: 0.5675\n",
      "Epoch 47\n"
     ]
    },
    {
     "name": "stderr",
     "output_type": "stream",
     "text": [
      "100%|██████████| 82/82 [00:03<00:00, 23.75it/s]\n",
      "100%|██████████| 35/35 [00:00<00:00, 65.27it/s]\n"
     ]
    },
    {
     "name": "stdout",
     "output_type": "stream",
     "text": [
      "Epoch 48/50, Train Loss: 1.2369, Train Accuracy: 0.8094, Test Loss: 1.4679, Test Accuracy: 0.5693\n",
      "Epoch 48\n"
     ]
    },
    {
     "name": "stderr",
     "output_type": "stream",
     "text": [
      "100%|██████████| 82/82 [00:03<00:00, 23.47it/s]\n",
      "100%|██████████| 35/35 [00:00<00:00, 65.18it/s]\n"
     ]
    },
    {
     "name": "stdout",
     "output_type": "stream",
     "text": [
      "Epoch 49/50, Train Loss: 1.2377, Train Accuracy: 0.8060, Test Loss: 1.4149, Test Accuracy: 0.6231\n",
      "Epoch 49\n"
     ]
    },
    {
     "name": "stderr",
     "output_type": "stream",
     "text": [
      "100%|██████████| 82/82 [00:03<00:00, 23.75it/s]\n",
      "100%|██████████| 35/35 [00:00<00:00, 65.18it/s]\n"
     ]
    },
    {
     "name": "stdout",
     "output_type": "stream",
     "text": [
      "Epoch 50/50, Train Loss: 1.2416, Train Accuracy: 0.8021, Test Loss: 1.4696, Test Accuracy: 0.5666\n",
      "Batch size: 16 Num of Epochs: 50 lr: 0.0001\n",
      "Epoch 0\n"
     ]
    },
    {
     "name": "stderr",
     "output_type": "stream",
     "text": [
      "100%|██████████| 325/325 [00:06<00:00, 49.15it/s]\n",
      "100%|██████████| 140/140 [00:00<00:00, 148.18it/s]\n"
     ]
    },
    {
     "name": "stdout",
     "output_type": "stream",
     "text": [
      "Epoch 1/50, Train Loss: 1.7336, Train Accuracy: 0.2698, Test Loss: 1.6910, Test Accuracy: 0.3333\n",
      "Epoch 1\n"
     ]
    },
    {
     "name": "stderr",
     "output_type": "stream",
     "text": [
      "100%|██████████| 325/325 [00:06<00:00, 49.27it/s]\n",
      "100%|██████████| 140/140 [00:00<00:00, 148.88it/s]\n"
     ]
    },
    {
     "name": "stdout",
     "output_type": "stream",
     "text": [
      "Epoch 2/50, Train Loss: 1.6422, Train Accuracy: 0.3827, Test Loss: 1.6191, Test Accuracy: 0.4105\n",
      "Epoch 2\n"
     ]
    },
    {
     "name": "stderr",
     "output_type": "stream",
     "text": [
      "100%|██████████| 325/325 [00:06<00:00, 49.34it/s]\n",
      "100%|██████████| 140/140 [00:00<00:00, 149.06it/s]\n"
     ]
    },
    {
     "name": "stdout",
     "output_type": "stream",
     "text": [
      "Epoch 3/50, Train Loss: 1.5830, Train Accuracy: 0.4469, Test Loss: 1.5935, Test Accuracy: 0.4365\n",
      "Epoch 3\n"
     ]
    },
    {
     "name": "stderr",
     "output_type": "stream",
     "text": [
      "100%|██████████| 325/325 [00:06<00:00, 49.42it/s]\n",
      "100%|██████████| 140/140 [00:00<00:00, 148.65it/s]\n"
     ]
    },
    {
     "name": "stdout",
     "output_type": "stream",
     "text": [
      "Epoch 4/50, Train Loss: 1.5477, Train Accuracy: 0.4896, Test Loss: 1.5780, Test Accuracy: 0.4585\n",
      "Epoch 4\n"
     ]
    },
    {
     "name": "stderr",
     "output_type": "stream",
     "text": [
      "100%|██████████| 325/325 [00:06<00:00, 49.27it/s]\n",
      "100%|██████████| 140/140 [00:00<00:00, 149.10it/s]\n"
     ]
    },
    {
     "name": "stdout",
     "output_type": "stream",
     "text": [
      "Epoch 5/50, Train Loss: 1.5375, Train Accuracy: 0.4950, Test Loss: 1.5713, Test Accuracy: 0.4590\n",
      "Epoch 5\n"
     ]
    },
    {
     "name": "stderr",
     "output_type": "stream",
     "text": [
      "100%|██████████| 325/325 [00:06<00:00, 49.22it/s]\n",
      "100%|██████████| 140/140 [00:00<00:00, 148.81it/s]\n"
     ]
    },
    {
     "name": "stdout",
     "output_type": "stream",
     "text": [
      "Epoch 6/50, Train Loss: 1.5049, Train Accuracy: 0.5338, Test Loss: 1.5563, Test Accuracy: 0.4805\n",
      "Epoch 6\n"
     ]
    },
    {
     "name": "stderr",
     "output_type": "stream",
     "text": [
      "100%|██████████| 325/325 [00:06<00:00, 48.49it/s]\n",
      "100%|██████████| 140/140 [00:00<00:00, 149.22it/s]\n"
     ]
    },
    {
     "name": "stdout",
     "output_type": "stream",
     "text": [
      "Epoch 7/50, Train Loss: 1.4787, Train Accuracy: 0.5617, Test Loss: 1.4938, Test Accuracy: 0.5473\n",
      "Epoch 7\n"
     ]
    },
    {
     "name": "stderr",
     "output_type": "stream",
     "text": [
      "100%|██████████| 325/325 [00:06<00:00, 49.28it/s]\n",
      "100%|██████████| 140/140 [00:00<00:00, 148.96it/s]\n"
     ]
    },
    {
     "name": "stdout",
     "output_type": "stream",
     "text": [
      "Epoch 8/50, Train Loss: 1.4632, Train Accuracy: 0.5796, Test Loss: 1.4779, Test Accuracy: 0.5568\n",
      "Epoch 8\n"
     ]
    },
    {
     "name": "stderr",
     "output_type": "stream",
     "text": [
      "100%|██████████| 325/325 [00:06<00:00, 48.98it/s]\n",
      "100%|██████████| 140/140 [00:00<00:00, 148.59it/s]\n"
     ]
    },
    {
     "name": "stdout",
     "output_type": "stream",
     "text": [
      "Epoch 9/50, Train Loss: 1.4482, Train Accuracy: 0.5938, Test Loss: 1.4772, Test Accuracy: 0.5635\n",
      "Epoch 9\n"
     ]
    },
    {
     "name": "stderr",
     "output_type": "stream",
     "text": [
      "100%|██████████| 325/325 [00:06<00:00, 48.70it/s]\n",
      "100%|██████████| 140/140 [00:00<00:00, 147.83it/s]\n"
     ]
    },
    {
     "name": "stdout",
     "output_type": "stream",
     "text": [
      "Epoch 10/50, Train Loss: 1.4339, Train Accuracy: 0.6108, Test Loss: 1.4936, Test Accuracy: 0.5379\n",
      "Epoch 10\n"
     ]
    },
    {
     "name": "stderr",
     "output_type": "stream",
     "text": [
      "100%|██████████| 325/325 [00:06<00:00, 49.28it/s]\n",
      "100%|██████████| 140/140 [00:00<00:00, 147.96it/s]\n"
     ]
    },
    {
     "name": "stdout",
     "output_type": "stream",
     "text": [
      "Epoch 11/50, Train Loss: 1.4130, Train Accuracy: 0.6306, Test Loss: 1.4816, Test Accuracy: 0.5527\n",
      "Epoch 11\n"
     ]
    },
    {
     "name": "stderr",
     "output_type": "stream",
     "text": [
      "100%|██████████| 325/325 [00:06<00:00, 49.04it/s]\n",
      "100%|██████████| 140/140 [00:00<00:00, 149.95it/s]\n"
     ]
    },
    {
     "name": "stdout",
     "output_type": "stream",
     "text": [
      "Epoch 12/50, Train Loss: 1.3937, Train Accuracy: 0.6513, Test Loss: 1.4977, Test Accuracy: 0.5343\n",
      "Epoch 12\n"
     ]
    },
    {
     "name": "stderr",
     "output_type": "stream",
     "text": [
      "100%|██████████| 325/325 [00:06<00:00, 48.69it/s]\n",
      "100%|██████████| 140/140 [00:00<00:00, 148.83it/s]\n"
     ]
    },
    {
     "name": "stdout",
     "output_type": "stream",
     "text": [
      "Epoch 13/50, Train Loss: 1.3865, Train Accuracy: 0.6596, Test Loss: 1.6106, Test Accuracy: 0.4275\n",
      "Epoch 13\n"
     ]
    },
    {
     "name": "stderr",
     "output_type": "stream",
     "text": [
      "100%|██████████| 325/325 [00:06<00:00, 49.03it/s]\n",
      "100%|██████████| 140/140 [00:00<00:00, 148.63it/s]\n"
     ]
    },
    {
     "name": "stdout",
     "output_type": "stream",
     "text": [
      "Epoch 14/50, Train Loss: 1.3837, Train Accuracy: 0.6600, Test Loss: 1.4388, Test Accuracy: 0.6057\n",
      "Epoch 14\n"
     ]
    },
    {
     "name": "stderr",
     "output_type": "stream",
     "text": [
      "100%|██████████| 325/325 [00:06<00:00, 49.33it/s]\n",
      "100%|██████████| 140/140 [00:00<00:00, 148.56it/s]\n"
     ]
    },
    {
     "name": "stdout",
     "output_type": "stream",
     "text": [
      "Epoch 15/50, Train Loss: 1.3650, Train Accuracy: 0.6838, Test Loss: 1.4550, Test Accuracy: 0.5756\n",
      "Epoch 15\n"
     ]
    },
    {
     "name": "stderr",
     "output_type": "stream",
     "text": [
      "100%|██████████| 325/325 [00:06<00:00, 48.98it/s]\n",
      "100%|██████████| 140/140 [00:00<00:00, 148.95it/s]\n"
     ]
    },
    {
     "name": "stdout",
     "output_type": "stream",
     "text": [
      "Epoch 16/50, Train Loss: 1.3503, Train Accuracy: 0.6948, Test Loss: 1.4345, Test Accuracy: 0.5962\n",
      "Epoch 16\n"
     ]
    },
    {
     "name": "stderr",
     "output_type": "stream",
     "text": [
      "100%|██████████| 325/325 [00:06<00:00, 48.96it/s]\n",
      "100%|██████████| 140/140 [00:00<00:00, 147.97it/s]\n"
     ]
    },
    {
     "name": "stdout",
     "output_type": "stream",
     "text": [
      "Epoch 17/50, Train Loss: 1.3368, Train Accuracy: 0.7115, Test Loss: 1.4302, Test Accuracy: 0.6164\n",
      "Epoch 17\n"
     ]
    },
    {
     "name": "stderr",
     "output_type": "stream",
     "text": [
      "100%|██████████| 325/325 [00:06<00:00, 49.31it/s]\n",
      "100%|██████████| 140/140 [00:00<00:00, 141.97it/s]\n"
     ]
    },
    {
     "name": "stdout",
     "output_type": "stream",
     "text": [
      "Epoch 18/50, Train Loss: 1.3192, Train Accuracy: 0.7275, Test Loss: 1.4739, Test Accuracy: 0.5603\n",
      "Epoch 18\n"
     ]
    },
    {
     "name": "stderr",
     "output_type": "stream",
     "text": [
      "100%|██████████| 325/325 [00:06<00:00, 49.04it/s]\n",
      "100%|██████████| 140/140 [00:00<00:00, 148.02it/s]\n"
     ]
    },
    {
     "name": "stdout",
     "output_type": "stream",
     "text": [
      "Epoch 19/50, Train Loss: 1.3238, Train Accuracy: 0.7219, Test Loss: 1.4115, Test Accuracy: 0.6276\n",
      "Epoch 19\n"
     ]
    },
    {
     "name": "stderr",
     "output_type": "stream",
     "text": [
      "100%|██████████| 325/325 [00:06<00:00, 48.56it/s]\n",
      "100%|██████████| 140/140 [00:00<00:00, 146.96it/s]\n"
     ]
    },
    {
     "name": "stdout",
     "output_type": "stream",
     "text": [
      "Epoch 20/50, Train Loss: 1.3017, Train Accuracy: 0.7444, Test Loss: 1.4311, Test Accuracy: 0.6097\n",
      "Epoch 20\n"
     ]
    },
    {
     "name": "stderr",
     "output_type": "stream",
     "text": [
      "100%|██████████| 325/325 [00:06<00:00, 49.33it/s]\n",
      "100%|██████████| 140/140 [00:01<00:00, 134.61it/s]\n"
     ]
    },
    {
     "name": "stdout",
     "output_type": "stream",
     "text": [
      "Epoch 21/50, Train Loss: 1.2861, Train Accuracy: 0.7585, Test Loss: 1.4196, Test Accuracy: 0.6182\n",
      "Epoch 21\n"
     ]
    },
    {
     "name": "stderr",
     "output_type": "stream",
     "text": [
      "100%|██████████| 325/325 [00:06<00:00, 49.41it/s]\n",
      "100%|██████████| 140/140 [00:00<00:00, 147.66it/s]\n"
     ]
    },
    {
     "name": "stdout",
     "output_type": "stream",
     "text": [
      "Epoch 22/50, Train Loss: 1.2807, Train Accuracy: 0.7662, Test Loss: 1.5095, Test Accuracy: 0.5289\n",
      "Epoch 22\n"
     ]
    },
    {
     "name": "stderr",
     "output_type": "stream",
     "text": [
      "100%|██████████| 325/325 [00:06<00:00, 48.58it/s]\n",
      "100%|██████████| 140/140 [00:00<00:00, 148.25it/s]\n"
     ]
    },
    {
     "name": "stdout",
     "output_type": "stream",
     "text": [
      "Epoch 23/50, Train Loss: 1.2688, Train Accuracy: 0.7787, Test Loss: 1.4297, Test Accuracy: 0.6070\n",
      "Epoch 23\n"
     ]
    },
    {
     "name": "stderr",
     "output_type": "stream",
     "text": [
      "100%|██████████| 325/325 [00:06<00:00, 49.33it/s]\n",
      "100%|██████████| 140/140 [00:00<00:00, 148.93it/s]\n"
     ]
    },
    {
     "name": "stdout",
     "output_type": "stream",
     "text": [
      "Epoch 24/50, Train Loss: 1.2610, Train Accuracy: 0.7860, Test Loss: 1.3957, Test Accuracy: 0.6492\n",
      "Epoch 24\n"
     ]
    },
    {
     "name": "stderr",
     "output_type": "stream",
     "text": [
      "100%|██████████| 325/325 [00:06<00:00, 49.30it/s]\n",
      "100%|██████████| 140/140 [00:00<00:00, 148.56it/s]\n"
     ]
    },
    {
     "name": "stdout",
     "output_type": "stream",
     "text": [
      "Epoch 25/50, Train Loss: 1.2512, Train Accuracy: 0.7975, Test Loss: 1.4098, Test Accuracy: 0.6312\n",
      "Epoch 25\n"
     ]
    },
    {
     "name": "stderr",
     "output_type": "stream",
     "text": [
      "100%|██████████| 325/325 [00:06<00:00, 49.37it/s]\n",
      "100%|██████████| 140/140 [00:00<00:00, 148.03it/s]\n"
     ]
    },
    {
     "name": "stdout",
     "output_type": "stream",
     "text": [
      "Epoch 26/50, Train Loss: 1.2484, Train Accuracy: 0.7973, Test Loss: 1.4039, Test Accuracy: 0.6339\n",
      "Epoch 26\n"
     ]
    },
    {
     "name": "stderr",
     "output_type": "stream",
     "text": [
      "100%|██████████| 325/325 [00:06<00:00, 49.57it/s]\n",
      "100%|██████████| 140/140 [00:00<00:00, 147.95it/s]\n"
     ]
    },
    {
     "name": "stdout",
     "output_type": "stream",
     "text": [
      "Epoch 27/50, Train Loss: 1.2450, Train Accuracy: 0.8004, Test Loss: 1.3897, Test Accuracy: 0.6469\n",
      "Epoch 27\n"
     ]
    },
    {
     "name": "stderr",
     "output_type": "stream",
     "text": [
      "100%|██████████| 325/325 [00:06<00:00, 49.23it/s]\n",
      "100%|██████████| 140/140 [00:00<00:00, 147.87it/s]\n"
     ]
    },
    {
     "name": "stdout",
     "output_type": "stream",
     "text": [
      "Epoch 28/50, Train Loss: 1.2337, Train Accuracy: 0.8121, Test Loss: 1.4126, Test Accuracy: 0.6240\n",
      "Epoch 28\n"
     ]
    },
    {
     "name": "stderr",
     "output_type": "stream",
     "text": [
      "100%|██████████| 325/325 [00:06<00:00, 49.41it/s]\n",
      "100%|██████████| 140/140 [00:00<00:00, 149.07it/s]\n"
     ]
    },
    {
     "name": "stdout",
     "output_type": "stream",
     "text": [
      "Epoch 29/50, Train Loss: 1.2307, Train Accuracy: 0.8163, Test Loss: 1.4030, Test Accuracy: 0.6406\n",
      "Epoch 29\n"
     ]
    },
    {
     "name": "stderr",
     "output_type": "stream",
     "text": [
      "100%|██████████| 325/325 [00:06<00:00, 49.31it/s]\n",
      "100%|██████████| 140/140 [00:00<00:00, 148.65it/s]\n"
     ]
    },
    {
     "name": "stdout",
     "output_type": "stream",
     "text": [
      "Epoch 30/50, Train Loss: 1.2292, Train Accuracy: 0.8169, Test Loss: 1.3827, Test Accuracy: 0.6568\n",
      "Epoch 30\n"
     ]
    },
    {
     "name": "stderr",
     "output_type": "stream",
     "text": [
      "100%|██████████| 325/325 [00:06<00:00, 49.27it/s]\n",
      "100%|██████████| 140/140 [00:00<00:00, 148.92it/s]\n"
     ]
    },
    {
     "name": "stdout",
     "output_type": "stream",
     "text": [
      "Epoch 31/50, Train Loss: 1.2014, Train Accuracy: 0.8456, Test Loss: 1.4096, Test Accuracy: 0.6254\n",
      "Epoch 31\n"
     ]
    },
    {
     "name": "stderr",
     "output_type": "stream",
     "text": [
      "100%|██████████| 325/325 [00:06<00:00, 49.34it/s]\n",
      "100%|██████████| 140/140 [00:00<00:00, 148.20it/s]\n"
     ]
    },
    {
     "name": "stdout",
     "output_type": "stream",
     "text": [
      "Epoch 32/50, Train Loss: 1.2003, Train Accuracy: 0.8471, Test Loss: 1.3818, Test Accuracy: 0.6541\n",
      "Epoch 32\n"
     ]
    },
    {
     "name": "stderr",
     "output_type": "stream",
     "text": [
      "100%|██████████| 325/325 [00:06<00:00, 49.33it/s]\n",
      "100%|██████████| 140/140 [00:00<00:00, 147.66it/s]\n"
     ]
    },
    {
     "name": "stdout",
     "output_type": "stream",
     "text": [
      "Epoch 33/50, Train Loss: 1.2013, Train Accuracy: 0.8446, Test Loss: 1.4314, Test Accuracy: 0.6039\n",
      "Epoch 33\n"
     ]
    },
    {
     "name": "stderr",
     "output_type": "stream",
     "text": [
      "100%|██████████| 325/325 [00:06<00:00, 49.26it/s]\n",
      "100%|██████████| 140/140 [00:00<00:00, 148.64it/s]\n"
     ]
    },
    {
     "name": "stdout",
     "output_type": "stream",
     "text": [
      "Epoch 34/50, Train Loss: 1.1990, Train Accuracy: 0.8465, Test Loss: 1.3929, Test Accuracy: 0.6474\n",
      "Epoch 34\n"
     ]
    },
    {
     "name": "stderr",
     "output_type": "stream",
     "text": [
      "100%|██████████| 325/325 [00:06<00:00, 49.34it/s]\n",
      "100%|██████████| 140/140 [00:00<00:00, 148.92it/s]\n"
     ]
    },
    {
     "name": "stdout",
     "output_type": "stream",
     "text": [
      "Epoch 35/50, Train Loss: 1.1905, Train Accuracy: 0.8571, Test Loss: 1.3772, Test Accuracy: 0.6649\n",
      "Epoch 35\n"
     ]
    },
    {
     "name": "stderr",
     "output_type": "stream",
     "text": [
      "100%|██████████| 325/325 [00:06<00:00, 49.46it/s]\n",
      "100%|██████████| 140/140 [00:00<00:00, 148.50it/s]\n"
     ]
    },
    {
     "name": "stdout",
     "output_type": "stream",
     "text": [
      "Epoch 36/50, Train Loss: 1.1783, Train Accuracy: 0.8702, Test Loss: 1.3916, Test Accuracy: 0.6492\n",
      "Epoch 36\n"
     ]
    },
    {
     "name": "stderr",
     "output_type": "stream",
     "text": [
      "100%|██████████| 325/325 [00:06<00:00, 49.41it/s]\n",
      "100%|██████████| 140/140 [00:00<00:00, 149.95it/s]\n"
     ]
    },
    {
     "name": "stdout",
     "output_type": "stream",
     "text": [
      "Epoch 37/50, Train Loss: 1.1749, Train Accuracy: 0.8715, Test Loss: 1.4051, Test Accuracy: 0.6375\n",
      "Epoch 37\n"
     ]
    },
    {
     "name": "stderr",
     "output_type": "stream",
     "text": [
      "100%|██████████| 325/325 [00:06<00:00, 49.17it/s]\n",
      "100%|██████████| 140/140 [00:00<00:00, 148.54it/s]\n"
     ]
    },
    {
     "name": "stdout",
     "output_type": "stream",
     "text": [
      "Epoch 38/50, Train Loss: 1.1795, Train Accuracy: 0.8677, Test Loss: 1.3875, Test Accuracy: 0.6469\n",
      "Epoch 38\n"
     ]
    },
    {
     "name": "stderr",
     "output_type": "stream",
     "text": [
      "100%|██████████| 325/325 [00:06<00:00, 48.55it/s]\n",
      "100%|██████████| 140/140 [00:00<00:00, 149.34it/s]\n"
     ]
    },
    {
     "name": "stdout",
     "output_type": "stream",
     "text": [
      "Epoch 39/50, Train Loss: 1.1768, Train Accuracy: 0.8698, Test Loss: 1.4212, Test Accuracy: 0.6173\n",
      "Epoch 39\n"
     ]
    },
    {
     "name": "stderr",
     "output_type": "stream",
     "text": [
      "100%|██████████| 325/325 [00:06<00:00, 49.41it/s]\n",
      "100%|██████████| 140/140 [00:00<00:00, 148.64it/s]\n"
     ]
    },
    {
     "name": "stdout",
     "output_type": "stream",
     "text": [
      "Epoch 40/50, Train Loss: 1.1695, Train Accuracy: 0.8783, Test Loss: 1.3845, Test Accuracy: 0.6487\n",
      "Epoch 40\n"
     ]
    },
    {
     "name": "stderr",
     "output_type": "stream",
     "text": [
      "100%|██████████| 325/325 [00:06<00:00, 49.39it/s]\n",
      "100%|██████████| 140/140 [00:00<00:00, 148.03it/s]\n"
     ]
    },
    {
     "name": "stdout",
     "output_type": "stream",
     "text": [
      "Epoch 41/50, Train Loss: 1.1587, Train Accuracy: 0.8873, Test Loss: 1.3914, Test Accuracy: 0.6469\n",
      "Epoch 41\n"
     ]
    },
    {
     "name": "stderr",
     "output_type": "stream",
     "text": [
      "100%|██████████| 325/325 [00:06<00:00, 49.27it/s]\n",
      "100%|██████████| 140/140 [00:00<00:00, 147.87it/s]\n"
     ]
    },
    {
     "name": "stdout",
     "output_type": "stream",
     "text": [
      "Epoch 42/50, Train Loss: 1.1560, Train Accuracy: 0.8898, Test Loss: 1.3821, Test Accuracy: 0.6550\n",
      "Epoch 42\n"
     ]
    },
    {
     "name": "stderr",
     "output_type": "stream",
     "text": [
      "100%|██████████| 325/325 [00:06<00:00, 49.23it/s]\n",
      "100%|██████████| 140/140 [00:00<00:00, 148.89it/s]\n"
     ]
    },
    {
     "name": "stdout",
     "output_type": "stream",
     "text": [
      "Epoch 43/50, Train Loss: 1.1491, Train Accuracy: 0.8983, Test Loss: 1.3906, Test Accuracy: 0.6501\n",
      "Epoch 43\n"
     ]
    },
    {
     "name": "stderr",
     "output_type": "stream",
     "text": [
      "100%|██████████| 325/325 [00:06<00:00, 49.43it/s]\n",
      "100%|██████████| 140/140 [00:00<00:00, 148.25it/s]\n"
     ]
    },
    {
     "name": "stdout",
     "output_type": "stream",
     "text": [
      "Epoch 44/50, Train Loss: 1.1521, Train Accuracy: 0.8938, Test Loss: 1.3848, Test Accuracy: 0.6523\n",
      "Epoch 44\n"
     ]
    },
    {
     "name": "stderr",
     "output_type": "stream",
     "text": [
      "100%|██████████| 325/325 [00:06<00:00, 49.38it/s]\n",
      "100%|██████████| 140/140 [00:00<00:00, 148.31it/s]\n"
     ]
    },
    {
     "name": "stdout",
     "output_type": "stream",
     "text": [
      "Epoch 45/50, Train Loss: 1.1466, Train Accuracy: 0.8996, Test Loss: 1.3624, Test Accuracy: 0.6792\n",
      "Epoch 45\n"
     ]
    },
    {
     "name": "stderr",
     "output_type": "stream",
     "text": [
      "100%|██████████| 325/325 [00:06<00:00, 49.37it/s]\n",
      "100%|██████████| 140/140 [00:00<00:00, 148.00it/s]\n"
     ]
    },
    {
     "name": "stdout",
     "output_type": "stream",
     "text": [
      "Epoch 46/50, Train Loss: 1.1385, Train Accuracy: 0.9092, Test Loss: 1.3885, Test Accuracy: 0.6519\n",
      "Epoch 46\n"
     ]
    },
    {
     "name": "stderr",
     "output_type": "stream",
     "text": [
      "100%|██████████| 325/325 [00:06<00:00, 49.24it/s]\n",
      "100%|██████████| 140/140 [00:00<00:00, 148.35it/s]\n"
     ]
    },
    {
     "name": "stdout",
     "output_type": "stream",
     "text": [
      "Epoch 47/50, Train Loss: 1.1386, Train Accuracy: 0.9063, Test Loss: 1.3825, Test Accuracy: 0.6572\n",
      "Epoch 47\n"
     ]
    },
    {
     "name": "stderr",
     "output_type": "stream",
     "text": [
      "100%|██████████| 325/325 [00:06<00:00, 49.22it/s]\n",
      "100%|██████████| 140/140 [00:00<00:00, 149.16it/s]\n"
     ]
    },
    {
     "name": "stdout",
     "output_type": "stream",
     "text": [
      "Epoch 48/50, Train Loss: 1.1310, Train Accuracy: 0.9152, Test Loss: 1.3924, Test Accuracy: 0.6433\n",
      "Epoch 48\n"
     ]
    },
    {
     "name": "stderr",
     "output_type": "stream",
     "text": [
      "100%|██████████| 325/325 [00:06<00:00, 49.37it/s]\n",
      "100%|██████████| 140/140 [00:01<00:00, 132.57it/s]\n"
     ]
    },
    {
     "name": "stdout",
     "output_type": "stream",
     "text": [
      "Epoch 49/50, Train Loss: 1.1344, Train Accuracy: 0.9123, Test Loss: 1.3826, Test Accuracy: 0.6546\n",
      "Epoch 49\n"
     ]
    },
    {
     "name": "stderr",
     "output_type": "stream",
     "text": [
      "100%|██████████| 325/325 [00:06<00:00, 49.35it/s]\n",
      "100%|██████████| 140/140 [00:00<00:00, 149.53it/s]\n"
     ]
    },
    {
     "name": "stdout",
     "output_type": "stream",
     "text": [
      "Epoch 50/50, Train Loss: 1.1349, Train Accuracy: 0.9110, Test Loss: 1.3905, Test Accuracy: 0.6451\n",
      "Batch size: 32 Num of Epochs: 50 lr: 0.0001\n",
      "Epoch 0\n"
     ]
    },
    {
     "name": "stderr",
     "output_type": "stream",
     "text": [
      "100%|██████████| 163/163 [00:04<00:00, 38.63it/s]\n",
      "100%|██████████| 70/70 [00:00<00:00, 130.59it/s]\n"
     ]
    },
    {
     "name": "stdout",
     "output_type": "stream",
     "text": [
      "Epoch 1/50, Train Loss: 1.7279, Train Accuracy: 0.2783, Test Loss: 1.8144, Test Accuracy: 0.1996\n",
      "Epoch 1\n"
     ]
    },
    {
     "name": "stderr",
     "output_type": "stream",
     "text": [
      "100%|██████████| 163/163 [00:04<00:00, 39.56it/s]\n",
      "100%|██████████| 70/70 [00:00<00:00, 128.48it/s]\n"
     ]
    },
    {
     "name": "stdout",
     "output_type": "stream",
     "text": [
      "Epoch 2/50, Train Loss: 1.6354, Train Accuracy: 0.3900, Test Loss: 1.6506, Test Accuracy: 0.3638\n",
      "Epoch 2\n"
     ]
    },
    {
     "name": "stderr",
     "output_type": "stream",
     "text": [
      "100%|██████████| 163/163 [00:04<00:00, 39.08it/s]\n",
      "100%|██████████| 70/70 [00:00<00:00, 128.41it/s]\n"
     ]
    },
    {
     "name": "stdout",
     "output_type": "stream",
     "text": [
      "Epoch 3/50, Train Loss: 1.5687, Train Accuracy: 0.4627, Test Loss: 1.6723, Test Accuracy: 0.3414\n",
      "Epoch 3\n"
     ]
    },
    {
     "name": "stderr",
     "output_type": "stream",
     "text": [
      "100%|██████████| 163/163 [00:04<00:00, 39.40it/s]\n",
      "100%|██████████| 70/70 [00:00<00:00, 128.23it/s]\n"
     ]
    },
    {
     "name": "stdout",
     "output_type": "stream",
     "text": [
      "Epoch 4/50, Train Loss: 1.5337, Train Accuracy: 0.5029, Test Loss: 1.6192, Test Accuracy: 0.4096\n",
      "Epoch 4\n"
     ]
    },
    {
     "name": "stderr",
     "output_type": "stream",
     "text": [
      "100%|██████████| 163/163 [00:04<00:00, 39.60it/s]\n",
      "100%|██████████| 70/70 [00:00<00:00, 108.99it/s]\n"
     ]
    },
    {
     "name": "stdout",
     "output_type": "stream",
     "text": [
      "Epoch 5/50, Train Loss: 1.5000, Train Accuracy: 0.5385, Test Loss: 1.5290, Test Accuracy: 0.5043\n",
      "Epoch 5\n"
     ]
    },
    {
     "name": "stderr",
     "output_type": "stream",
     "text": [
      "100%|██████████| 163/163 [00:04<00:00, 39.52it/s]\n",
      "100%|██████████| 70/70 [00:00<00:00, 128.40it/s]\n"
     ]
    },
    {
     "name": "stdout",
     "output_type": "stream",
     "text": [
      "Epoch 6/50, Train Loss: 1.4788, Train Accuracy: 0.5635, Test Loss: 1.5309, Test Accuracy: 0.4975\n",
      "Epoch 6\n"
     ]
    },
    {
     "name": "stderr",
     "output_type": "stream",
     "text": [
      "100%|██████████| 163/163 [00:04<00:00, 39.56it/s]\n",
      "100%|██████████| 70/70 [00:00<00:00, 128.53it/s]\n"
     ]
    },
    {
     "name": "stdout",
     "output_type": "stream",
     "text": [
      "Epoch 7/50, Train Loss: 1.4540, Train Accuracy: 0.5867, Test Loss: 1.5149, Test Accuracy: 0.5173\n",
      "Epoch 7\n"
     ]
    },
    {
     "name": "stderr",
     "output_type": "stream",
     "text": [
      "100%|██████████| 163/163 [00:04<00:00, 37.54it/s]\n",
      "100%|██████████| 70/70 [00:00<00:00, 128.72it/s]\n"
     ]
    },
    {
     "name": "stdout",
     "output_type": "stream",
     "text": [
      "Epoch 8/50, Train Loss: 1.4334, Train Accuracy: 0.6092, Test Loss: 1.5079, Test Accuracy: 0.5168\n",
      "Epoch 8\n"
     ]
    },
    {
     "name": "stderr",
     "output_type": "stream",
     "text": [
      "100%|██████████| 163/163 [00:04<00:00, 39.33it/s]\n",
      "100%|██████████| 70/70 [00:00<00:00, 130.21it/s]\n"
     ]
    },
    {
     "name": "stdout",
     "output_type": "stream",
     "text": [
      "Epoch 9/50, Train Loss: 1.4177, Train Accuracy: 0.6262, Test Loss: 1.4833, Test Accuracy: 0.5473\n",
      "Epoch 9\n"
     ]
    },
    {
     "name": "stderr",
     "output_type": "stream",
     "text": [
      "100%|██████████| 163/163 [00:04<00:00, 39.54it/s]\n",
      "100%|██████████| 70/70 [00:00<00:00, 108.53it/s]\n"
     ]
    },
    {
     "name": "stdout",
     "output_type": "stream",
     "text": [
      "Epoch 10/50, Train Loss: 1.4008, Train Accuracy: 0.6408, Test Loss: 1.4879, Test Accuracy: 0.5433\n",
      "Epoch 10\n"
     ]
    },
    {
     "name": "stderr",
     "output_type": "stream",
     "text": [
      "100%|██████████| 163/163 [00:04<00:00, 39.28it/s]\n",
      "100%|██████████| 70/70 [00:00<00:00, 128.87it/s]\n"
     ]
    },
    {
     "name": "stdout",
     "output_type": "stream",
     "text": [
      "Epoch 11/50, Train Loss: 1.3857, Train Accuracy: 0.6608, Test Loss: 1.5340, Test Accuracy: 0.4984\n",
      "Epoch 11\n"
     ]
    },
    {
     "name": "stderr",
     "output_type": "stream",
     "text": [
      "100%|██████████| 163/163 [00:04<00:00, 39.46it/s]\n",
      "100%|██████████| 70/70 [00:00<00:00, 128.02it/s]\n"
     ]
    },
    {
     "name": "stdout",
     "output_type": "stream",
     "text": [
      "Epoch 12/50, Train Loss: 1.3768, Train Accuracy: 0.6669, Test Loss: 1.4574, Test Accuracy: 0.5792\n",
      "Epoch 12\n"
     ]
    },
    {
     "name": "stderr",
     "output_type": "stream",
     "text": [
      "100%|██████████| 163/163 [00:04<00:00, 38.67it/s]\n",
      "100%|██████████| 70/70 [00:00<00:00, 128.45it/s]\n"
     ]
    },
    {
     "name": "stdout",
     "output_type": "stream",
     "text": [
      "Epoch 13/50, Train Loss: 1.3598, Train Accuracy: 0.6844, Test Loss: 1.4588, Test Accuracy: 0.5796\n",
      "Epoch 13\n"
     ]
    },
    {
     "name": "stderr",
     "output_type": "stream",
     "text": [
      "100%|██████████| 163/163 [00:04<00:00, 39.31it/s]\n",
      "100%|██████████| 70/70 [00:00<00:00, 128.17it/s]\n"
     ]
    },
    {
     "name": "stdout",
     "output_type": "stream",
     "text": [
      "Epoch 14/50, Train Loss: 1.3544, Train Accuracy: 0.6921, Test Loss: 1.5099, Test Accuracy: 0.5262\n",
      "Epoch 14\n"
     ]
    },
    {
     "name": "stderr",
     "output_type": "stream",
     "text": [
      "100%|██████████| 163/163 [00:04<00:00, 38.77it/s]\n",
      "100%|██████████| 70/70 [00:00<00:00, 128.25it/s]\n"
     ]
    },
    {
     "name": "stdout",
     "output_type": "stream",
     "text": [
      "Epoch 15/50, Train Loss: 1.3425, Train Accuracy: 0.7017, Test Loss: 1.4459, Test Accuracy: 0.5940\n",
      "Epoch 15\n"
     ]
    },
    {
     "name": "stderr",
     "output_type": "stream",
     "text": [
      "100%|██████████| 163/163 [00:04<00:00, 39.30it/s]\n",
      "100%|██████████| 70/70 [00:00<00:00, 129.03it/s]\n"
     ]
    },
    {
     "name": "stdout",
     "output_type": "stream",
     "text": [
      "Epoch 16/50, Train Loss: 1.3132, Train Accuracy: 0.7306, Test Loss: 1.4448, Test Accuracy: 0.5900\n",
      "Epoch 16\n"
     ]
    },
    {
     "name": "stderr",
     "output_type": "stream",
     "text": [
      "100%|██████████| 163/163 [00:04<00:00, 38.53it/s]\n",
      "100%|██████████| 70/70 [00:00<00:00, 128.84it/s]\n"
     ]
    },
    {
     "name": "stdout",
     "output_type": "stream",
     "text": [
      "Epoch 17/50, Train Loss: 1.3152, Train Accuracy: 0.7310, Test Loss: 1.4379, Test Accuracy: 0.6007\n",
      "Epoch 17\n"
     ]
    },
    {
     "name": "stderr",
     "output_type": "stream",
     "text": [
      "100%|██████████| 163/163 [00:04<00:00, 39.53it/s]\n",
      "100%|██████████| 70/70 [00:00<00:00, 129.64it/s]\n"
     ]
    },
    {
     "name": "stdout",
     "output_type": "stream",
     "text": [
      "Epoch 18/50, Train Loss: 1.3082, Train Accuracy: 0.7385, Test Loss: 1.4209, Test Accuracy: 0.6191\n",
      "Epoch 18\n"
     ]
    },
    {
     "name": "stderr",
     "output_type": "stream",
     "text": [
      "100%|██████████| 163/163 [00:04<00:00, 38.39it/s]\n",
      "100%|██████████| 70/70 [00:00<00:00, 129.42it/s]\n"
     ]
    },
    {
     "name": "stdout",
     "output_type": "stream",
     "text": [
      "Epoch 19/50, Train Loss: 1.2998, Train Accuracy: 0.7442, Test Loss: 1.4329, Test Accuracy: 0.5998\n",
      "Epoch 19\n"
     ]
    },
    {
     "name": "stderr",
     "output_type": "stream",
     "text": [
      "100%|██████████| 163/163 [00:04<00:00, 39.32it/s]\n",
      "100%|██████████| 70/70 [00:00<00:00, 128.51it/s]\n"
     ]
    },
    {
     "name": "stdout",
     "output_type": "stream",
     "text": [
      "Epoch 20/50, Train Loss: 1.2807, Train Accuracy: 0.7638, Test Loss: 1.4127, Test Accuracy: 0.6267\n",
      "Epoch 20\n"
     ]
    },
    {
     "name": "stderr",
     "output_type": "stream",
     "text": [
      "100%|██████████| 163/163 [00:04<00:00, 39.35it/s]\n",
      "100%|██████████| 70/70 [00:00<00:00, 106.57it/s]\n"
     ]
    },
    {
     "name": "stdout",
     "output_type": "stream",
     "text": [
      "Epoch 21/50, Train Loss: 1.2757, Train Accuracy: 0.7733, Test Loss: 1.4075, Test Accuracy: 0.6366\n",
      "Epoch 21\n"
     ]
    },
    {
     "name": "stderr",
     "output_type": "stream",
     "text": [
      "100%|██████████| 163/163 [00:04<00:00, 39.55it/s]\n",
      "100%|██████████| 70/70 [00:00<00:00, 128.58it/s]\n"
     ]
    },
    {
     "name": "stdout",
     "output_type": "stream",
     "text": [
      "Epoch 22/50, Train Loss: 1.2620, Train Accuracy: 0.7848, Test Loss: 1.4100, Test Accuracy: 0.6303\n",
      "Epoch 22\n"
     ]
    },
    {
     "name": "stderr",
     "output_type": "stream",
     "text": [
      "100%|██████████| 163/163 [00:04<00:00, 39.34it/s]\n",
      "100%|██████████| 70/70 [00:00<00:00, 130.34it/s]\n"
     ]
    },
    {
     "name": "stdout",
     "output_type": "stream",
     "text": [
      "Epoch 23/50, Train Loss: 1.2418, Train Accuracy: 0.8031, Test Loss: 1.4021, Test Accuracy: 0.6393\n",
      "Epoch 23\n"
     ]
    },
    {
     "name": "stderr",
     "output_type": "stream",
     "text": [
      "100%|██████████| 163/163 [00:04<00:00, 39.54it/s]\n",
      "100%|██████████| 70/70 [00:00<00:00, 129.32it/s]\n"
     ]
    },
    {
     "name": "stdout",
     "output_type": "stream",
     "text": [
      "Epoch 24/50, Train Loss: 1.2505, Train Accuracy: 0.7931, Test Loss: 1.4634, Test Accuracy: 0.5738\n",
      "Epoch 24\n"
     ]
    },
    {
     "name": "stderr",
     "output_type": "stream",
     "text": [
      "100%|██████████| 163/163 [00:04<00:00, 39.42it/s]\n",
      "100%|██████████| 70/70 [00:00<00:00, 128.87it/s]\n"
     ]
    },
    {
     "name": "stdout",
     "output_type": "stream",
     "text": [
      "Epoch 25/50, Train Loss: 1.2434, Train Accuracy: 0.8035, Test Loss: 1.4007, Test Accuracy: 0.6362\n",
      "Epoch 25\n"
     ]
    },
    {
     "name": "stderr",
     "output_type": "stream",
     "text": [
      "100%|██████████| 163/163 [00:04<00:00, 39.26it/s]\n",
      "100%|██████████| 70/70 [00:00<00:00, 128.04it/s]\n"
     ]
    },
    {
     "name": "stdout",
     "output_type": "stream",
     "text": [
      "Epoch 26/50, Train Loss: 1.2244, Train Accuracy: 0.8206, Test Loss: 1.4022, Test Accuracy: 0.6389\n",
      "Epoch 26\n"
     ]
    },
    {
     "name": "stderr",
     "output_type": "stream",
     "text": [
      "100%|██████████| 163/163 [00:04<00:00, 39.40it/s]\n",
      "100%|██████████| 70/70 [00:00<00:00, 129.50it/s]\n"
     ]
    },
    {
     "name": "stdout",
     "output_type": "stream",
     "text": [
      "Epoch 27/50, Train Loss: 1.2205, Train Accuracy: 0.8262, Test Loss: 1.3993, Test Accuracy: 0.6362\n",
      "Epoch 27\n"
     ]
    },
    {
     "name": "stderr",
     "output_type": "stream",
     "text": [
      "100%|██████████| 163/163 [00:04<00:00, 39.20it/s]\n",
      "100%|██████████| 70/70 [00:00<00:00, 129.63it/s]\n"
     ]
    },
    {
     "name": "stdout",
     "output_type": "stream",
     "text": [
      "Epoch 28/50, Train Loss: 1.2176, Train Accuracy: 0.8287, Test Loss: 1.3842, Test Accuracy: 0.6599\n",
      "Epoch 28\n"
     ]
    },
    {
     "name": "stderr",
     "output_type": "stream",
     "text": [
      "100%|██████████| 163/163 [00:04<00:00, 39.39it/s]\n",
      "100%|██████████| 70/70 [00:00<00:00, 129.01it/s]\n"
     ]
    },
    {
     "name": "stdout",
     "output_type": "stream",
     "text": [
      "Epoch 29/50, Train Loss: 1.2153, Train Accuracy: 0.8329, Test Loss: 1.3957, Test Accuracy: 0.6389\n",
      "Epoch 29\n"
     ]
    },
    {
     "name": "stderr",
     "output_type": "stream",
     "text": [
      "100%|██████████| 163/163 [00:04<00:00, 39.50it/s]\n",
      "100%|██████████| 70/70 [00:00<00:00, 112.06it/s]\n"
     ]
    },
    {
     "name": "stdout",
     "output_type": "stream",
     "text": [
      "Epoch 30/50, Train Loss: 1.2098, Train Accuracy: 0.8363, Test Loss: 1.4047, Test Accuracy: 0.6339\n",
      "Epoch 30\n"
     ]
    },
    {
     "name": "stderr",
     "output_type": "stream",
     "text": [
      "100%|██████████| 163/163 [00:04<00:00, 39.52it/s]\n",
      "100%|██████████| 70/70 [00:00<00:00, 127.23it/s]\n"
     ]
    },
    {
     "name": "stdout",
     "output_type": "stream",
     "text": [
      "Epoch 31/50, Train Loss: 1.1894, Train Accuracy: 0.8583, Test Loss: 1.3903, Test Accuracy: 0.6465\n",
      "Epoch 31\n"
     ]
    },
    {
     "name": "stderr",
     "output_type": "stream",
     "text": [
      "100%|██████████| 163/163 [00:04<00:00, 39.29it/s]\n",
      "100%|██████████| 70/70 [00:00<00:00, 128.37it/s]\n"
     ]
    },
    {
     "name": "stdout",
     "output_type": "stream",
     "text": [
      "Epoch 32/50, Train Loss: 1.1886, Train Accuracy: 0.8588, Test Loss: 1.4330, Test Accuracy: 0.6007\n",
      "Epoch 32\n"
     ]
    },
    {
     "name": "stderr",
     "output_type": "stream",
     "text": [
      "100%|██████████| 163/163 [00:04<00:00, 39.22it/s]\n",
      "100%|██████████| 70/70 [00:00<00:00, 128.62it/s]\n"
     ]
    },
    {
     "name": "stdout",
     "output_type": "stream",
     "text": [
      "Epoch 33/50, Train Loss: 1.1917, Train Accuracy: 0.8521, Test Loss: 1.4279, Test Accuracy: 0.6092\n",
      "Epoch 33\n"
     ]
    },
    {
     "name": "stderr",
     "output_type": "stream",
     "text": [
      "100%|██████████| 163/163 [00:04<00:00, 37.89it/s]\n",
      "100%|██████████| 70/70 [00:00<00:00, 127.95it/s]\n"
     ]
    },
    {
     "name": "stdout",
     "output_type": "stream",
     "text": [
      "Epoch 34/50, Train Loss: 1.1894, Train Accuracy: 0.8583, Test Loss: 1.3889, Test Accuracy: 0.6510\n",
      "Epoch 34\n"
     ]
    },
    {
     "name": "stderr",
     "output_type": "stream",
     "text": [
      "100%|██████████| 163/163 [00:04<00:00, 39.47it/s]\n",
      "100%|██████████| 70/70 [00:00<00:00, 129.76it/s]\n"
     ]
    },
    {
     "name": "stdout",
     "output_type": "stream",
     "text": [
      "Epoch 35/50, Train Loss: 1.1718, Train Accuracy: 0.8754, Test Loss: 1.3997, Test Accuracy: 0.6389\n",
      "Epoch 35\n"
     ]
    },
    {
     "name": "stderr",
     "output_type": "stream",
     "text": [
      "100%|██████████| 163/163 [00:04<00:00, 39.44it/s]\n",
      "100%|██████████| 70/70 [00:00<00:00, 128.98it/s]\n"
     ]
    },
    {
     "name": "stdout",
     "output_type": "stream",
     "text": [
      "Epoch 36/50, Train Loss: 1.1684, Train Accuracy: 0.8769, Test Loss: 1.3991, Test Accuracy: 0.6393\n",
      "Epoch 36\n"
     ]
    },
    {
     "name": "stderr",
     "output_type": "stream",
     "text": [
      "100%|██████████| 163/163 [00:04<00:00, 39.57it/s]\n",
      "100%|██████████| 70/70 [00:00<00:00, 129.37it/s]\n"
     ]
    },
    {
     "name": "stdout",
     "output_type": "stream",
     "text": [
      "Epoch 37/50, Train Loss: 1.1691, Train Accuracy: 0.8765, Test Loss: 1.3880, Test Accuracy: 0.6523\n",
      "Epoch 37\n"
     ]
    },
    {
     "name": "stderr",
     "output_type": "stream",
     "text": [
      "100%|██████████| 163/163 [00:04<00:00, 39.29it/s]\n",
      "100%|██████████| 70/70 [00:00<00:00, 128.51it/s]\n"
     ]
    },
    {
     "name": "stdout",
     "output_type": "stream",
     "text": [
      "Epoch 38/50, Train Loss: 1.1729, Train Accuracy: 0.8746, Test Loss: 1.3623, Test Accuracy: 0.6779\n",
      "Epoch 38\n"
     ]
    },
    {
     "name": "stderr",
     "output_type": "stream",
     "text": [
      "100%|██████████| 163/163 [00:04<00:00, 39.56it/s]\n",
      "100%|██████████| 70/70 [00:00<00:00, 128.66it/s]\n"
     ]
    },
    {
     "name": "stdout",
     "output_type": "stream",
     "text": [
      "Epoch 39/50, Train Loss: 1.1585, Train Accuracy: 0.8896, Test Loss: 1.3783, Test Accuracy: 0.6595\n",
      "Epoch 39\n"
     ]
    },
    {
     "name": "stderr",
     "output_type": "stream",
     "text": [
      "100%|██████████| 163/163 [00:04<00:00, 39.45it/s]\n",
      "100%|██████████| 70/70 [00:00<00:00, 108.36it/s]\n"
     ]
    },
    {
     "name": "stdout",
     "output_type": "stream",
     "text": [
      "Epoch 40/50, Train Loss: 1.1559, Train Accuracy: 0.8910, Test Loss: 1.3849, Test Accuracy: 0.6532\n",
      "Epoch 40\n"
     ]
    },
    {
     "name": "stderr",
     "output_type": "stream",
     "text": [
      "100%|██████████| 163/163 [00:04<00:00, 39.41it/s]\n",
      "100%|██████████| 70/70 [00:00<00:00, 129.18it/s]\n"
     ]
    },
    {
     "name": "stdout",
     "output_type": "stream",
     "text": [
      "Epoch 41/50, Train Loss: 1.1621, Train Accuracy: 0.8823, Test Loss: 1.4136, Test Accuracy: 0.6227\n",
      "Epoch 41\n"
     ]
    },
    {
     "name": "stderr",
     "output_type": "stream",
     "text": [
      "100%|██████████| 163/163 [00:04<00:00, 39.43it/s]\n",
      "100%|██████████| 70/70 [00:00<00:00, 128.70it/s]\n"
     ]
    },
    {
     "name": "stdout",
     "output_type": "stream",
     "text": [
      "Epoch 42/50, Train Loss: 1.1483, Train Accuracy: 0.8981, Test Loss: 1.3735, Test Accuracy: 0.6617\n",
      "Epoch 42\n"
     ]
    },
    {
     "name": "stderr",
     "output_type": "stream",
     "text": [
      "100%|██████████| 163/163 [00:04<00:00, 38.94it/s]\n",
      "100%|██████████| 70/70 [00:00<00:00, 129.50it/s]\n"
     ]
    },
    {
     "name": "stdout",
     "output_type": "stream",
     "text": [
      "Epoch 43/50, Train Loss: 1.1466, Train Accuracy: 0.8992, Test Loss: 1.3707, Test Accuracy: 0.6707\n",
      "Epoch 43\n"
     ]
    },
    {
     "name": "stderr",
     "output_type": "stream",
     "text": [
      "100%|██████████| 163/163 [00:04<00:00, 39.35it/s]\n",
      "100%|██████████| 70/70 [00:00<00:00, 129.62it/s]\n"
     ]
    },
    {
     "name": "stdout",
     "output_type": "stream",
     "text": [
      "Epoch 44/50, Train Loss: 1.1392, Train Accuracy: 0.9081, Test Loss: 1.4229, Test Accuracy: 0.6160\n",
      "Epoch 44\n"
     ]
    },
    {
     "name": "stderr",
     "output_type": "stream",
     "text": [
      "100%|██████████| 163/163 [00:04<00:00, 38.86it/s]\n",
      "100%|██████████| 70/70 [00:00<00:00, 128.55it/s]\n"
     ]
    },
    {
     "name": "stdout",
     "output_type": "stream",
     "text": [
      "Epoch 45/50, Train Loss: 1.1390, Train Accuracy: 0.9056, Test Loss: 1.3609, Test Accuracy: 0.6765\n",
      "Epoch 45\n"
     ]
    },
    {
     "name": "stderr",
     "output_type": "stream",
     "text": [
      "100%|██████████| 163/163 [00:04<00:00, 39.49it/s]\n",
      "100%|██████████| 70/70 [00:00<00:00, 129.61it/s]\n"
     ]
    },
    {
     "name": "stdout",
     "output_type": "stream",
     "text": [
      "Epoch 46/50, Train Loss: 1.1337, Train Accuracy: 0.9113, Test Loss: 1.4021, Test Accuracy: 0.6371\n",
      "Epoch 46\n"
     ]
    },
    {
     "name": "stderr",
     "output_type": "stream",
     "text": [
      "100%|██████████| 163/163 [00:04<00:00, 38.65it/s]\n",
      "100%|██████████| 70/70 [00:00<00:00, 129.06it/s]\n"
     ]
    },
    {
     "name": "stdout",
     "output_type": "stream",
     "text": [
      "Epoch 47/50, Train Loss: 1.1360, Train Accuracy: 0.9112, Test Loss: 1.3723, Test Accuracy: 0.6658\n",
      "Epoch 47\n"
     ]
    },
    {
     "name": "stderr",
     "output_type": "stream",
     "text": [
      "100%|██████████| 163/163 [00:04<00:00, 39.39it/s]\n",
      "100%|██████████| 70/70 [00:00<00:00, 129.35it/s]\n"
     ]
    },
    {
     "name": "stdout",
     "output_type": "stream",
     "text": [
      "Epoch 48/50, Train Loss: 1.1330, Train Accuracy: 0.9133, Test Loss: 1.3825, Test Accuracy: 0.6528\n",
      "Epoch 48\n"
     ]
    },
    {
     "name": "stderr",
     "output_type": "stream",
     "text": [
      "100%|██████████| 163/163 [00:04<00:00, 39.38it/s]\n",
      "100%|██████████| 70/70 [00:00<00:00, 107.51it/s]\n"
     ]
    },
    {
     "name": "stdout",
     "output_type": "stream",
     "text": [
      "Epoch 49/50, Train Loss: 1.1314, Train Accuracy: 0.9154, Test Loss: 1.3748, Test Accuracy: 0.6667\n",
      "Epoch 49\n"
     ]
    },
    {
     "name": "stderr",
     "output_type": "stream",
     "text": [
      "100%|██████████| 163/163 [00:04<00:00, 39.32it/s]\n",
      "100%|██████████| 70/70 [00:00<00:00, 128.99it/s]\n"
     ]
    },
    {
     "name": "stdout",
     "output_type": "stream",
     "text": [
      "Epoch 50/50, Train Loss: 1.1267, Train Accuracy: 0.9183, Test Loss: 1.3749, Test Accuracy: 0.6640\n",
      "Batch size: 64 Num of Epochs: 50 lr: 0.0001\n",
      "Epoch 0\n"
     ]
    },
    {
     "name": "stderr",
     "output_type": "stream",
     "text": [
      "100%|██████████| 82/82 [00:03<00:00, 23.77it/s]\n",
      "100%|██████████| 35/35 [00:00<00:00, 64.87it/s]\n"
     ]
    },
    {
     "name": "stdout",
     "output_type": "stream",
     "text": [
      "Epoch 1/50, Train Loss: 1.7230, Train Accuracy: 0.2810, Test Loss: 1.6978, Test Accuracy: 0.3244\n",
      "Epoch 1\n"
     ]
    },
    {
     "name": "stderr",
     "output_type": "stream",
     "text": [
      "100%|██████████| 82/82 [00:03<00:00, 23.70it/s]\n",
      "100%|██████████| 35/35 [00:00<00:00, 65.30it/s]\n"
     ]
    },
    {
     "name": "stdout",
     "output_type": "stream",
     "text": [
      "Epoch 2/50, Train Loss: 1.6254, Train Accuracy: 0.4052, Test Loss: 1.7346, Test Accuracy: 0.2764\n",
      "Epoch 2\n"
     ]
    },
    {
     "name": "stderr",
     "output_type": "stream",
     "text": [
      "100%|██████████| 82/82 [00:03<00:00, 23.79it/s]\n",
      "100%|██████████| 35/35 [00:00<00:00, 65.36it/s]\n"
     ]
    },
    {
     "name": "stdout",
     "output_type": "stream",
     "text": [
      "Epoch 3/50, Train Loss: 1.5925, Train Accuracy: 0.4412, Test Loss: 1.6252, Test Accuracy: 0.4069\n",
      "Epoch 3\n"
     ]
    },
    {
     "name": "stderr",
     "output_type": "stream",
     "text": [
      "100%|██████████| 82/82 [00:03<00:00, 23.26it/s]\n",
      "100%|██████████| 35/35 [00:00<00:00, 64.82it/s]\n"
     ]
    },
    {
     "name": "stdout",
     "output_type": "stream",
     "text": [
      "Epoch 4/50, Train Loss: 1.5451, Train Accuracy: 0.4921, Test Loss: 1.5729, Test Accuracy: 0.4572\n",
      "Epoch 4\n"
     ]
    },
    {
     "name": "stderr",
     "output_type": "stream",
     "text": [
      "100%|██████████| 82/82 [00:03<00:00, 23.77it/s]\n",
      "100%|██████████| 35/35 [00:00<00:00, 65.50it/s]\n"
     ]
    },
    {
     "name": "stdout",
     "output_type": "stream",
     "text": [
      "Epoch 5/50, Train Loss: 1.4936, Train Accuracy: 0.5508, Test Loss: 1.5488, Test Accuracy: 0.4872\n",
      "Epoch 5\n"
     ]
    },
    {
     "name": "stderr",
     "output_type": "stream",
     "text": [
      "100%|██████████| 82/82 [00:03<00:00, 23.77it/s]\n",
      "100%|██████████| 35/35 [00:00<00:00, 65.49it/s]\n"
     ]
    },
    {
     "name": "stdout",
     "output_type": "stream",
     "text": [
      "Epoch 6/50, Train Loss: 1.4609, Train Accuracy: 0.5854, Test Loss: 1.6173, Test Accuracy: 0.4123\n",
      "Epoch 6\n"
     ]
    },
    {
     "name": "stderr",
     "output_type": "stream",
     "text": [
      "100%|██████████| 82/82 [00:03<00:00, 23.39it/s]\n",
      "100%|██████████| 35/35 [00:00<00:00, 65.16it/s]\n"
     ]
    },
    {
     "name": "stdout",
     "output_type": "stream",
     "text": [
      "Epoch 7/50, Train Loss: 1.4427, Train Accuracy: 0.6006, Test Loss: 1.5881, Test Accuracy: 0.4415\n",
      "Epoch 7\n"
     ]
    },
    {
     "name": "stderr",
     "output_type": "stream",
     "text": [
      "100%|██████████| 82/82 [00:03<00:00, 23.74it/s]\n",
      "100%|██████████| 35/35 [00:00<00:00, 65.33it/s]\n"
     ]
    },
    {
     "name": "stdout",
     "output_type": "stream",
     "text": [
      "Epoch 8/50, Train Loss: 1.4154, Train Accuracy: 0.6275, Test Loss: 1.5881, Test Accuracy: 0.4446\n",
      "Epoch 8\n"
     ]
    },
    {
     "name": "stderr",
     "output_type": "stream",
     "text": [
      "100%|██████████| 82/82 [00:03<00:00, 23.78it/s]\n",
      "100%|██████████| 35/35 [00:00<00:00, 65.63it/s]\n"
     ]
    },
    {
     "name": "stdout",
     "output_type": "stream",
     "text": [
      "Epoch 9/50, Train Loss: 1.3970, Train Accuracy: 0.6500, Test Loss: 1.5933, Test Accuracy: 0.4397\n",
      "Epoch 9\n"
     ]
    },
    {
     "name": "stderr",
     "output_type": "stream",
     "text": [
      "100%|██████████| 82/82 [00:03<00:00, 23.14it/s]\n",
      "100%|██████████| 35/35 [00:00<00:00, 65.37it/s]\n"
     ]
    },
    {
     "name": "stdout",
     "output_type": "stream",
     "text": [
      "Epoch 10/50, Train Loss: 1.3774, Train Accuracy: 0.6677, Test Loss: 1.5036, Test Accuracy: 0.5348\n",
      "Epoch 10\n"
     ]
    },
    {
     "name": "stderr",
     "output_type": "stream",
     "text": [
      "100%|██████████| 82/82 [00:03<00:00, 23.16it/s]\n",
      "100%|██████████| 35/35 [00:00<00:00, 65.31it/s]\n"
     ]
    },
    {
     "name": "stdout",
     "output_type": "stream",
     "text": [
      "Epoch 11/50, Train Loss: 1.3521, Train Accuracy: 0.6960, Test Loss: 1.4763, Test Accuracy: 0.5603\n",
      "Epoch 11\n"
     ]
    },
    {
     "name": "stderr",
     "output_type": "stream",
     "text": [
      "100%|██████████| 82/82 [00:03<00:00, 23.71it/s]\n",
      "100%|██████████| 35/35 [00:00<00:00, 64.91it/s]\n"
     ]
    },
    {
     "name": "stdout",
     "output_type": "stream",
     "text": [
      "Epoch 12/50, Train Loss: 1.3405, Train Accuracy: 0.7058, Test Loss: 1.4394, Test Accuracy: 0.6016\n",
      "Epoch 12\n"
     ]
    },
    {
     "name": "stderr",
     "output_type": "stream",
     "text": [
      "100%|██████████| 82/82 [00:03<00:00, 23.76it/s]\n",
      "100%|██████████| 35/35 [00:00<00:00, 64.88it/s]\n"
     ]
    },
    {
     "name": "stdout",
     "output_type": "stream",
     "text": [
      "Epoch 13/50, Train Loss: 1.3234, Train Accuracy: 0.7250, Test Loss: 1.5427, Test Accuracy: 0.4953\n",
      "Epoch 13\n"
     ]
    },
    {
     "name": "stderr",
     "output_type": "stream",
     "text": [
      "100%|██████████| 82/82 [00:03<00:00, 23.80it/s]\n",
      "100%|██████████| 35/35 [00:00<00:00, 65.48it/s]\n"
     ]
    },
    {
     "name": "stdout",
     "output_type": "stream",
     "text": [
      "Epoch 14/50, Train Loss: 1.3215, Train Accuracy: 0.7235, Test Loss: 1.4936, Test Accuracy: 0.5415\n",
      "Epoch 14\n"
     ]
    },
    {
     "name": "stderr",
     "output_type": "stream",
     "text": [
      "100%|██████████| 82/82 [00:03<00:00, 23.73it/s]\n",
      "100%|██████████| 35/35 [00:00<00:00, 65.19it/s]\n"
     ]
    },
    {
     "name": "stdout",
     "output_type": "stream",
     "text": [
      "Epoch 15/50, Train Loss: 1.2884, Train Accuracy: 0.7587, Test Loss: 1.5256, Test Accuracy: 0.5043\n",
      "Epoch 15\n"
     ]
    },
    {
     "name": "stderr",
     "output_type": "stream",
     "text": [
      "100%|██████████| 82/82 [00:03<00:00, 23.31it/s]\n",
      "100%|██████████| 35/35 [00:00<00:00, 65.52it/s]\n"
     ]
    },
    {
     "name": "stdout",
     "output_type": "stream",
     "text": [
      "Epoch 16/50, Train Loss: 1.2890, Train Accuracy: 0.7573, Test Loss: 1.4359, Test Accuracy: 0.5989\n",
      "Epoch 16\n"
     ]
    },
    {
     "name": "stderr",
     "output_type": "stream",
     "text": [
      "100%|██████████| 82/82 [00:03<00:00, 23.77it/s]\n",
      "100%|██████████| 35/35 [00:00<00:00, 65.09it/s]\n"
     ]
    },
    {
     "name": "stdout",
     "output_type": "stream",
     "text": [
      "Epoch 17/50, Train Loss: 1.2735, Train Accuracy: 0.7710, Test Loss: 1.4769, Test Accuracy: 0.5514\n",
      "Epoch 17\n"
     ]
    },
    {
     "name": "stderr",
     "output_type": "stream",
     "text": [
      "100%|██████████| 82/82 [00:03<00:00, 23.77it/s]\n",
      "100%|██████████| 35/35 [00:00<00:00, 55.87it/s]\n"
     ]
    },
    {
     "name": "stdout",
     "output_type": "stream",
     "text": [
      "Epoch 18/50, Train Loss: 1.2668, Train Accuracy: 0.7810, Test Loss: 1.4279, Test Accuracy: 0.6092\n",
      "Epoch 18\n"
     ]
    },
    {
     "name": "stderr",
     "output_type": "stream",
     "text": [
      "100%|██████████| 82/82 [00:03<00:00, 23.72it/s]\n",
      "100%|██████████| 35/35 [00:00<00:00, 65.50it/s]\n"
     ]
    },
    {
     "name": "stdout",
     "output_type": "stream",
     "text": [
      "Epoch 19/50, Train Loss: 1.2523, Train Accuracy: 0.7952, Test Loss: 1.4116, Test Accuracy: 0.6267\n",
      "Epoch 19\n"
     ]
    },
    {
     "name": "stderr",
     "output_type": "stream",
     "text": [
      "100%|██████████| 82/82 [00:03<00:00, 23.75it/s]\n",
      "100%|██████████| 35/35 [00:00<00:00, 64.96it/s]\n"
     ]
    },
    {
     "name": "stdout",
     "output_type": "stream",
     "text": [
      "Epoch 20/50, Train Loss: 1.2424, Train Accuracy: 0.8027, Test Loss: 1.3922, Test Accuracy: 0.6429\n",
      "Epoch 20\n"
     ]
    },
    {
     "name": "stderr",
     "output_type": "stream",
     "text": [
      "100%|██████████| 82/82 [00:03<00:00, 23.45it/s]\n",
      "100%|██████████| 35/35 [00:00<00:00, 65.13it/s]\n"
     ]
    },
    {
     "name": "stdout",
     "output_type": "stream",
     "text": [
      "Epoch 21/50, Train Loss: 1.2364, Train Accuracy: 0.8135, Test Loss: 1.4237, Test Accuracy: 0.6151\n",
      "Epoch 21\n"
     ]
    },
    {
     "name": "stderr",
     "output_type": "stream",
     "text": [
      "100%|██████████| 82/82 [00:03<00:00, 23.73it/s]\n",
      "100%|██████████| 35/35 [00:00<00:00, 65.43it/s]\n"
     ]
    },
    {
     "name": "stdout",
     "output_type": "stream",
     "text": [
      "Epoch 22/50, Train Loss: 1.2331, Train Accuracy: 0.8127, Test Loss: 1.4238, Test Accuracy: 0.6164\n",
      "Epoch 22\n"
     ]
    },
    {
     "name": "stderr",
     "output_type": "stream",
     "text": [
      "100%|██████████| 82/82 [00:03<00:00, 23.73it/s]\n",
      "100%|██████████| 35/35 [00:00<00:00, 65.45it/s]\n"
     ]
    },
    {
     "name": "stdout",
     "output_type": "stream",
     "text": [
      "Epoch 23/50, Train Loss: 1.2153, Train Accuracy: 0.8313, Test Loss: 1.4098, Test Accuracy: 0.6245\n",
      "Epoch 23\n"
     ]
    },
    {
     "name": "stderr",
     "output_type": "stream",
     "text": [
      "100%|██████████| 82/82 [00:03<00:00, 23.72it/s]\n",
      "100%|██████████| 35/35 [00:00<00:00, 64.77it/s]\n"
     ]
    },
    {
     "name": "stdout",
     "output_type": "stream",
     "text": [
      "Epoch 24/50, Train Loss: 1.2201, Train Accuracy: 0.8285, Test Loss: 1.4407, Test Accuracy: 0.5994\n",
      "Epoch 24\n"
     ]
    },
    {
     "name": "stderr",
     "output_type": "stream",
     "text": [
      "100%|██████████| 82/82 [00:03<00:00, 23.76it/s]\n",
      "100%|██████████| 35/35 [00:00<00:00, 65.60it/s]\n"
     ]
    },
    {
     "name": "stdout",
     "output_type": "stream",
     "text": [
      "Epoch 25/50, Train Loss: 1.1982, Train Accuracy: 0.8502, Test Loss: 1.3760, Test Accuracy: 0.6631\n",
      "Epoch 25\n"
     ]
    },
    {
     "name": "stderr",
     "output_type": "stream",
     "text": [
      "100%|██████████| 82/82 [00:03<00:00, 23.70it/s]\n",
      "100%|██████████| 35/35 [00:00<00:00, 58.43it/s]\n"
     ]
    },
    {
     "name": "stdout",
     "output_type": "stream",
     "text": [
      "Epoch 26/50, Train Loss: 1.1969, Train Accuracy: 0.8500, Test Loss: 1.4281, Test Accuracy: 0.6092\n",
      "Epoch 26\n"
     ]
    },
    {
     "name": "stderr",
     "output_type": "stream",
     "text": [
      "100%|██████████| 82/82 [00:03<00:00, 23.72it/s]\n",
      "100%|██████████| 35/35 [00:00<00:00, 65.05it/s]\n"
     ]
    },
    {
     "name": "stdout",
     "output_type": "stream",
     "text": [
      "Epoch 27/50, Train Loss: 1.1993, Train Accuracy: 0.8475, Test Loss: 1.4408, Test Accuracy: 0.5980\n",
      "Epoch 27\n"
     ]
    },
    {
     "name": "stderr",
     "output_type": "stream",
     "text": [
      "100%|██████████| 82/82 [00:03<00:00, 23.76it/s]\n",
      "100%|██████████| 35/35 [00:00<00:00, 64.80it/s]\n"
     ]
    },
    {
     "name": "stdout",
     "output_type": "stream",
     "text": [
      "Epoch 28/50, Train Loss: 1.1806, Train Accuracy: 0.8683, Test Loss: 1.4099, Test Accuracy: 0.6276\n",
      "Epoch 28\n"
     ]
    },
    {
     "name": "stderr",
     "output_type": "stream",
     "text": [
      "100%|██████████| 82/82 [00:03<00:00, 23.39it/s]\n",
      "100%|██████████| 35/35 [00:00<00:00, 64.85it/s]\n"
     ]
    },
    {
     "name": "stdout",
     "output_type": "stream",
     "text": [
      "Epoch 29/50, Train Loss: 1.1918, Train Accuracy: 0.8569, Test Loss: 1.4067, Test Accuracy: 0.6326\n",
      "Epoch 29\n"
     ]
    },
    {
     "name": "stderr",
     "output_type": "stream",
     "text": [
      "100%|██████████| 82/82 [00:03<00:00, 23.73it/s]\n",
      "100%|██████████| 35/35 [00:00<00:00, 64.73it/s]\n"
     ]
    },
    {
     "name": "stdout",
     "output_type": "stream",
     "text": [
      "Epoch 30/50, Train Loss: 1.1808, Train Accuracy: 0.8660, Test Loss: 1.4041, Test Accuracy: 0.6357\n",
      "Epoch 30\n"
     ]
    },
    {
     "name": "stderr",
     "output_type": "stream",
     "text": [
      "100%|██████████| 82/82 [00:03<00:00, 23.71it/s]\n",
      "100%|██████████| 35/35 [00:00<00:00, 65.11it/s]\n"
     ]
    },
    {
     "name": "stdout",
     "output_type": "stream",
     "text": [
      "Epoch 31/50, Train Loss: 1.1661, Train Accuracy: 0.8817, Test Loss: 1.4067, Test Accuracy: 0.6281\n",
      "Epoch 31\n"
     ]
    },
    {
     "name": "stderr",
     "output_type": "stream",
     "text": [
      "100%|██████████| 82/82 [00:03<00:00, 23.31it/s]\n",
      "100%|██████████| 35/35 [00:00<00:00, 64.73it/s]\n"
     ]
    },
    {
     "name": "stdout",
     "output_type": "stream",
     "text": [
      "Epoch 32/50, Train Loss: 1.1682, Train Accuracy: 0.8787, Test Loss: 1.4078, Test Accuracy: 0.6339\n",
      "Epoch 32\n"
     ]
    },
    {
     "name": "stderr",
     "output_type": "stream",
     "text": [
      "100%|██████████| 82/82 [00:03<00:00, 23.69it/s]\n",
      "100%|██████████| 35/35 [00:00<00:00, 64.84it/s]\n"
     ]
    },
    {
     "name": "stdout",
     "output_type": "stream",
     "text": [
      "Epoch 33/50, Train Loss: 1.1580, Train Accuracy: 0.8881, Test Loss: 1.3690, Test Accuracy: 0.6671\n",
      "Epoch 33\n"
     ]
    },
    {
     "name": "stderr",
     "output_type": "stream",
     "text": [
      "100%|██████████| 82/82 [00:03<00:00, 23.61it/s]\n",
      "100%|██████████| 35/35 [00:00<00:00, 65.46it/s]\n"
     ]
    },
    {
     "name": "stdout",
     "output_type": "stream",
     "text": [
      "Epoch 34/50, Train Loss: 1.1422, Train Accuracy: 0.9056, Test Loss: 1.4000, Test Accuracy: 0.6397\n",
      "Epoch 34\n"
     ]
    },
    {
     "name": "stderr",
     "output_type": "stream",
     "text": [
      "100%|██████████| 82/82 [00:03<00:00, 23.77it/s]\n",
      "100%|██████████| 35/35 [00:00<00:00, 64.93it/s]\n"
     ]
    },
    {
     "name": "stdout",
     "output_type": "stream",
     "text": [
      "Epoch 35/50, Train Loss: 1.1564, Train Accuracy: 0.8921, Test Loss: 1.3914, Test Accuracy: 0.6451\n",
      "Epoch 35\n"
     ]
    },
    {
     "name": "stderr",
     "output_type": "stream",
     "text": [
      "100%|██████████| 82/82 [00:03<00:00, 23.74it/s]\n",
      "100%|██████████| 35/35 [00:00<00:00, 65.63it/s]\n"
     ]
    },
    {
     "name": "stdout",
     "output_type": "stream",
     "text": [
      "Epoch 36/50, Train Loss: 1.1410, Train Accuracy: 0.9060, Test Loss: 1.3799, Test Accuracy: 0.6572\n",
      "Epoch 36\n"
     ]
    },
    {
     "name": "stderr",
     "output_type": "stream",
     "text": [
      "100%|██████████| 82/82 [00:03<00:00, 23.42it/s]\n",
      "100%|██████████| 35/35 [00:00<00:00, 65.41it/s]\n"
     ]
    },
    {
     "name": "stdout",
     "output_type": "stream",
     "text": [
      "Epoch 37/50, Train Loss: 1.1458, Train Accuracy: 0.9012, Test Loss: 1.4672, Test Accuracy: 0.5734\n",
      "Epoch 37\n"
     ]
    },
    {
     "name": "stderr",
     "output_type": "stream",
     "text": [
      "100%|██████████| 82/82 [00:03<00:00, 23.71it/s]\n",
      "100%|██████████| 35/35 [00:00<00:00, 64.89it/s]\n"
     ]
    },
    {
     "name": "stdout",
     "output_type": "stream",
     "text": [
      "Epoch 38/50, Train Loss: 1.1395, Train Accuracy: 0.9063, Test Loss: 1.3756, Test Accuracy: 0.6667\n",
      "Epoch 38\n"
     ]
    },
    {
     "name": "stderr",
     "output_type": "stream",
     "text": [
      "100%|██████████| 82/82 [00:03<00:00, 23.73it/s]\n",
      "100%|██████████| 35/35 [00:00<00:00, 55.17it/s]\n"
     ]
    },
    {
     "name": "stdout",
     "output_type": "stream",
     "text": [
      "Epoch 39/50, Train Loss: 1.1414, Train Accuracy: 0.9054, Test Loss: 1.4282, Test Accuracy: 0.6106\n",
      "Epoch 39\n"
     ]
    },
    {
     "name": "stderr",
     "output_type": "stream",
     "text": [
      "100%|██████████| 82/82 [00:03<00:00, 23.71it/s]\n",
      "100%|██████████| 35/35 [00:00<00:00, 65.39it/s]\n"
     ]
    },
    {
     "name": "stdout",
     "output_type": "stream",
     "text": [
      "Epoch 40/50, Train Loss: 1.1323, Train Accuracy: 0.9138, Test Loss: 1.3843, Test Accuracy: 0.6523\n",
      "Epoch 40\n"
     ]
    },
    {
     "name": "stderr",
     "output_type": "stream",
     "text": [
      "100%|██████████| 82/82 [00:03<00:00, 22.83it/s]\n",
      "100%|██████████| 35/35 [00:00<00:00, 64.60it/s]\n"
     ]
    },
    {
     "name": "stdout",
     "output_type": "stream",
     "text": [
      "Epoch 41/50, Train Loss: 1.1261, Train Accuracy: 0.9200, Test Loss: 1.3906, Test Accuracy: 0.6460\n",
      "Epoch 41\n"
     ]
    },
    {
     "name": "stderr",
     "output_type": "stream",
     "text": [
      "100%|██████████| 82/82 [00:03<00:00, 23.75it/s]\n",
      "100%|██████████| 35/35 [00:00<00:00, 64.87it/s]\n"
     ]
    },
    {
     "name": "stdout",
     "output_type": "stream",
     "text": [
      "Epoch 42/50, Train Loss: 1.1233, Train Accuracy: 0.9242, Test Loss: 1.3966, Test Accuracy: 0.6442\n",
      "Epoch 42\n"
     ]
    },
    {
     "name": "stderr",
     "output_type": "stream",
     "text": [
      "100%|██████████| 82/82 [00:03<00:00, 23.73it/s]\n",
      "100%|██████████| 35/35 [00:00<00:00, 64.83it/s]\n"
     ]
    },
    {
     "name": "stdout",
     "output_type": "stream",
     "text": [
      "Epoch 43/50, Train Loss: 1.1209, Train Accuracy: 0.9263, Test Loss: 1.3479, Test Accuracy: 0.6900\n",
      "Epoch 43\n"
     ]
    },
    {
     "name": "stderr",
     "output_type": "stream",
     "text": [
      "100%|██████████| 82/82 [00:03<00:00, 23.69it/s]\n",
      "100%|██████████| 35/35 [00:00<00:00, 64.64it/s]\n"
     ]
    },
    {
     "name": "stdout",
     "output_type": "stream",
     "text": [
      "Epoch 44/50, Train Loss: 1.1135, Train Accuracy: 0.9325, Test Loss: 1.3756, Test Accuracy: 0.6658\n",
      "Epoch 44\n"
     ]
    },
    {
     "name": "stderr",
     "output_type": "stream",
     "text": [
      "100%|██████████| 82/82 [00:03<00:00, 23.74it/s]\n",
      "100%|██████████| 35/35 [00:00<00:00, 64.70it/s]\n"
     ]
    },
    {
     "name": "stdout",
     "output_type": "stream",
     "text": [
      "Epoch 45/50, Train Loss: 1.1231, Train Accuracy: 0.9233, Test Loss: 1.3715, Test Accuracy: 0.6671\n",
      "Epoch 45\n"
     ]
    },
    {
     "name": "stderr",
     "output_type": "stream",
     "text": [
      "100%|██████████| 82/82 [00:03<00:00, 23.06it/s]\n",
      "100%|██████████| 35/35 [00:00<00:00, 65.29it/s]\n"
     ]
    },
    {
     "name": "stdout",
     "output_type": "stream",
     "text": [
      "Epoch 46/50, Train Loss: 1.1185, Train Accuracy: 0.9269, Test Loss: 1.3949, Test Accuracy: 0.6420\n",
      "Epoch 46\n"
     ]
    },
    {
     "name": "stderr",
     "output_type": "stream",
     "text": [
      "100%|██████████| 82/82 [00:03<00:00, 23.65it/s]\n",
      "100%|██████████| 35/35 [00:00<00:00, 65.20it/s]\n"
     ]
    },
    {
     "name": "stdout",
     "output_type": "stream",
     "text": [
      "Epoch 47/50, Train Loss: 1.1207, Train Accuracy: 0.9256, Test Loss: 1.3788, Test Accuracy: 0.6640\n",
      "Epoch 47\n"
     ]
    },
    {
     "name": "stderr",
     "output_type": "stream",
     "text": [
      "100%|██████████| 82/82 [00:03<00:00, 23.75it/s]\n",
      "100%|██████████| 35/35 [00:00<00:00, 54.23it/s]\n"
     ]
    },
    {
     "name": "stdout",
     "output_type": "stream",
     "text": [
      "Epoch 48/50, Train Loss: 1.1189, Train Accuracy: 0.9275, Test Loss: 1.3832, Test Accuracy: 0.6577\n",
      "Epoch 48\n"
     ]
    },
    {
     "name": "stderr",
     "output_type": "stream",
     "text": [
      "100%|██████████| 82/82 [00:03<00:00, 23.72it/s]\n",
      "100%|██████████| 35/35 [00:00<00:00, 64.67it/s]\n"
     ]
    },
    {
     "name": "stdout",
     "output_type": "stream",
     "text": [
      "Epoch 49/50, Train Loss: 1.1158, Train Accuracy: 0.9310, Test Loss: 1.3967, Test Accuracy: 0.6438\n",
      "Epoch 49\n"
     ]
    },
    {
     "name": "stderr",
     "output_type": "stream",
     "text": [
      "100%|██████████| 82/82 [00:03<00:00, 23.75it/s]\n",
      "100%|██████████| 35/35 [00:00<00:00, 64.25it/s]\n"
     ]
    },
    {
     "name": "stdout",
     "output_type": "stream",
     "text": [
      "Epoch 50/50, Train Loss: 1.1169, Train Accuracy: 0.9275, Test Loss: 1.3649, Test Accuracy: 0.6743\n",
      "\n",
      "Best Model:\n",
      "Model: Model_lr0.0001_bs64_epochs50\n",
      "Batch Size: 64\n",
      "Learning Rate: 0.0001\n",
      "Train Loss: 1.1169370493522057\n",
      "Train Accuracy: 0.9275\n",
      "Test Loss: 1.3649420854274121\n",
      "Test Accuracy: 0.6742934051144011\n"
     ]
    }
   ],
   "source": [
    "if __name__ == \"__main__\":\n",
    "    \n",
    "    # Hyperparameters\n",
    "    num_epochs = 50  # Example values, adjust as needed\n",
    "    batch_sizes = [16, 32, 64]  # Example values, adjust as needed\n",
    "    learning_rates = [0.01, 0.001, 0.0001]\n",
    "\n",
    "    best_model_info = {}\n",
    "    results_file = 'Latest_GoogLeNet_videos_to_features_fullscale.csv'\n",
    "\n",
    "    with open(results_file, mode='w', newline='') as csvfile:\n",
    "        fieldnames = ['Model', 'Batch Size', 'Learning Rate', 'Num Epochs',  'Train Loss', 'Train Accuracy', 'Test Loss', 'Test Accuracy']\n",
    "        writer = csv.DictWriter(csvfile, fieldnames=fieldnames)\n",
    "        writer.writeheader()\n",
    "\n",
    "        for lr in learning_rates:\n",
    "            for bs in batch_sizes:\n",
    "                # Initialize the model\n",
    "                model = CNN(num_classes=6)  \n",
    "                device = torch.device(\"cuda\" if torch.cuda.is_available() else \"cpu\")\n",
    "                model.to(device)\n",
    "\n",
    "                # Define loss function and optimizer\n",
    "                criterion = nn.CrossEntropyLoss()\n",
    "                optimizer = optim.Adam(model.parameters(), lr=lr)\n",
    "\n",
    "                # Create data loaders\n",
    "                train_loader = torch.utils.data.DataLoader(list(zip(X_train, y_train)), batch_size=bs, shuffle=True)\n",
    "                test_loader = torch.utils.data.DataLoader(list(zip(X_test, y_test)), batch_size=bs)\n",
    "                print(f\"Batch size: {bs}\", f\"Num of Epochs: {num_epochs}\", f\"lr: {lr}\")\n",
    "                # Training loop\n",
    "                for epoch in range(num_epochs):\n",
    "                        print(\"Epoch \" + str(epoch))\n",
    "                        train_loss, train_accuracy = train_model(model, criterion, optimizer, train_loader, device)\n",
    "                  # Calculate test loss and accuracy\n",
    "                        test_loss, test_accuracy = test_model(model, criterion, test_loader, device)\n",
    "                        print(f\"Epoch {epoch+1}/{num_epochs}, Train Loss: {train_loss:.4f}, Train Accuracy: {train_accuracy:.4f}, Test Loss: {test_loss:.4f}, Test Accuracy: {test_accuracy:.4f}\")\n",
    "\n",
    "                # Write results to CSV\n",
    "                model_info = {'Model': f'Model_lr{lr}_bs{bs}_epochs{num_epochs}', 'Batch Size': bs, 'Learning Rate': lr, 'Num Epochs': num_epochs,\n",
    "                              'Train Loss': train_loss, 'Train Accuracy': train_accuracy,\n",
    "                              'Test Loss': test_loss, 'Test Accuracy': test_accuracy}\n",
    "                writer.writerow(model_info)\n",
    "\n",
    "                model_name = f'Latest_GoogLeNet_videos_to_features_fullscale{num_epochs}_{bs}_{lr}'\n",
    "                torch.save(model.state_dict(), model_name)\n",
    "\n",
    "                # Check if this model is the best so far\n",
    "                if not best_model_info or test_accuracy > best_model_info['Test Accuracy']:\n",
    "                    best_model_info = {'Model': model_info['Model'], 'Batch Size': bs, 'Learning Rate': lr,\n",
    "                                       'Train Loss': train_loss, 'Train Accuracy': train_accuracy,\n",
    "                                       'Test Loss': test_loss, 'Test Accuracy': test_accuracy}\n",
    "\n",
    "    # Print best model\n",
    "    print(\"\\nBest Model:\")\n",
    "    for key, value in best_model_info.items():\n",
    "        print(f\"{key}: {value}\")\n"
   ]
  },
  {
   "cell_type": "code",
   "execution_count": 23,
   "metadata": {
    "id": "VIsatL11bPU_"
   },
   "outputs": [
    {
     "name": "stdout",
     "output_type": "stream",
     "text": [
      "Fin\n"
     ]
    }
   ],
   "source": [
    "print(\"Fin\")"
   ]
  },
  {
   "cell_type": "code",
   "execution_count": null,
   "metadata": {
    "id": "0QY9CB4Z7OuZ"
   },
   "outputs": [],
   "source": []
  }
 ],
 "metadata": {
  "accelerator": "GPU",
  "colab": {
   "gpuType": "T4",
   "provenance": []
  },
  "kernelspec": {
   "display_name": "Python 3.12.2 (default)",
   "language": "python",
   "name": "python3"
  },
  "language_info": {
   "codemirror_mode": {
    "name": "ipython",
    "version": 3
   },
   "file_extension": ".py",
   "mimetype": "text/x-python",
   "name": "python",
   "nbconvert_exporter": "python",
   "pygments_lexer": "ipython3",
   "version": "3.12.2"
  }
 },
 "nbformat": 4,
 "nbformat_minor": 4
}
